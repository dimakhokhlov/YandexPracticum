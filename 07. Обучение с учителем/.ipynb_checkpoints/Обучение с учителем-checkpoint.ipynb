{
 "cells": [
  {
   "cell_type": "markdown",
   "metadata": {
    "toc": true
   },
   "source": [
    "<h1>Содержание<span class=\"tocSkip\"></span></h1>\n",
    "<div class=\"toc\"><ul class=\"toc-item\"><li><span><a href=\"#Подготовка-данных\" data-toc-modified-id=\"Подготовка-данных-1\"><span class=\"toc-item-num\">1&nbsp;&nbsp;</span>Подготовка данных</a></span><ul class=\"toc-item\"><li><span><a href=\"#Импорт-используемых-библиотек\" data-toc-modified-id=\"Импорт-используемых-библиотек-1.1\"><span class=\"toc-item-num\">1.1&nbsp;&nbsp;</span>Импорт используемых библиотек</a></span></li><li><span><a href=\"#Чтение-файла\" data-toc-modified-id=\"Чтение-файла-1.2\"><span class=\"toc-item-num\">1.2&nbsp;&nbsp;</span>Чтение файла</a></span></li><li><span><a href=\"#Предобработка-данных\" data-toc-modified-id=\"Предобработка-данных-1.3\"><span class=\"toc-item-num\">1.3&nbsp;&nbsp;</span>Предобработка данных</a></span></li><li><span><a href=\"#Разделение-данных-на-обучающую,-валидационную-и-тестовую-выборки\" data-toc-modified-id=\"Разделение-данных-на-обучающую,-валидационную-и-тестовую-выборки-1.4\"><span class=\"toc-item-num\">1.4&nbsp;&nbsp;</span>Разделение данных на обучающую, валидационную и тестовую выборки</a></span></li><li><span><a href=\"#Преобразование-категориальных-признаков\" data-toc-modified-id=\"Преобразование-категориальных-признаков-1.5\"><span class=\"toc-item-num\">1.5&nbsp;&nbsp;</span>Преобразование категориальных признаков</a></span></li><li><span><a href=\"#Масштабирование-признаков\" data-toc-modified-id=\"Масштабирование-признаков-1.6\"><span class=\"toc-item-num\">1.6&nbsp;&nbsp;</span>Масштабирование признаков</a></span></li><li><span><a href=\"#Проверка-баланса-классов\" data-toc-modified-id=\"Проверка-баланса-классов-1.7\"><span class=\"toc-item-num\">1.7&nbsp;&nbsp;</span>Проверка баланса классов</a></span></li><li><span><a href=\"#Вывод\" data-toc-modified-id=\"Вывод-1.8\"><span class=\"toc-item-num\">1.8&nbsp;&nbsp;</span>Вывод</a></span></li></ul></li><li><span><a href=\"#Исследование-задачи-без-учета-дисбаланаса\" data-toc-modified-id=\"Исследование-задачи-без-учета-дисбаланаса-2\"><span class=\"toc-item-num\">2&nbsp;&nbsp;</span>Исследование задачи без учета дисбаланаса</a></span><ul class=\"toc-item\"><li><span><a href=\"#Дерево-решений\" data-toc-modified-id=\"Дерево-решений-2.1\"><span class=\"toc-item-num\">2.1&nbsp;&nbsp;</span>Дерево решений</a></span></li><li><span><a href=\"#Случайный-лес\" data-toc-modified-id=\"Случайный-лес-2.2\"><span class=\"toc-item-num\">2.2&nbsp;&nbsp;</span>Случайный лес</a></span></li><li><span><a href=\"#Логистическая-регрессия\" data-toc-modified-id=\"Логистическая-регрессия-2.3\"><span class=\"toc-item-num\">2.3&nbsp;&nbsp;</span>Логистическая регрессия</a></span></li><li><span><a href=\"#Вывод\" data-toc-modified-id=\"Вывод-2.4\"><span class=\"toc-item-num\">2.4&nbsp;&nbsp;</span>Вывод</a></span></li></ul></li><li><span><a href=\"#Борьба-с-дисбалансом\" data-toc-modified-id=\"Борьба-с-дисбалансом-3\"><span class=\"toc-item-num\">3&nbsp;&nbsp;</span>Борьба с дисбалансом</a></span><ul class=\"toc-item\"><li><span><a href=\"#Взвешивание-классов\" data-toc-modified-id=\"Взвешивание-классов-3.1\"><span class=\"toc-item-num\">3.1&nbsp;&nbsp;</span>Взвешивание классов</a></span><ul class=\"toc-item\"><li><span><a href=\"#Дерево-решений\" data-toc-modified-id=\"Дерево-решений-3.1.1\"><span class=\"toc-item-num\">3.1.1&nbsp;&nbsp;</span>Дерево решений</a></span></li><li><span><a href=\"#Случайный-лес\" data-toc-modified-id=\"Случайный-лес-3.1.2\"><span class=\"toc-item-num\">3.1.2&nbsp;&nbsp;</span>Случайный лес</a></span></li><li><span><a href=\"#Логистическая-регрессия\" data-toc-modified-id=\"Логистическая-регрессия-3.1.3\"><span class=\"toc-item-num\">3.1.3&nbsp;&nbsp;</span>Логистическая регрессия</a></span></li><li><span><a href=\"#Вывод\" data-toc-modified-id=\"Вывод-3.1.4\"><span class=\"toc-item-num\">3.1.4&nbsp;&nbsp;</span>Вывод</a></span></li></ul></li><li><span><a href=\"#Увеличение-выборки\" data-toc-modified-id=\"Увеличение-выборки-3.2\"><span class=\"toc-item-num\">3.2&nbsp;&nbsp;</span>Увеличение выборки</a></span><ul class=\"toc-item\"><li><span><a href=\"#Дерево-решений\" data-toc-modified-id=\"Дерево-решений-3.2.1\"><span class=\"toc-item-num\">3.2.1&nbsp;&nbsp;</span>Дерево решений</a></span></li><li><span><a href=\"#Случайный-лес\" data-toc-modified-id=\"Случайный-лес-3.2.2\"><span class=\"toc-item-num\">3.2.2&nbsp;&nbsp;</span>Случайный лес</a></span></li><li><span><a href=\"#Логистическая-регрессия\" data-toc-modified-id=\"Логистическая-регрессия-3.2.3\"><span class=\"toc-item-num\">3.2.3&nbsp;&nbsp;</span>Логистическая регрессия</a></span></li><li><span><a href=\"#Вывод\" data-toc-modified-id=\"Вывод-3.2.4\"><span class=\"toc-item-num\">3.2.4&nbsp;&nbsp;</span>Вывод</a></span></li></ul></li><li><span><a href=\"#Уменьшение-выборки\" data-toc-modified-id=\"Уменьшение-выборки-3.3\"><span class=\"toc-item-num\">3.3&nbsp;&nbsp;</span>Уменьшение выборки</a></span><ul class=\"toc-item\"><li><span><a href=\"#Дерево-решений\" data-toc-modified-id=\"Дерево-решений-3.3.1\"><span class=\"toc-item-num\">3.3.1&nbsp;&nbsp;</span>Дерево решений</a></span></li><li><span><a href=\"#Случайный-лес\" data-toc-modified-id=\"Случайный-лес-3.3.2\"><span class=\"toc-item-num\">3.3.2&nbsp;&nbsp;</span>Случайный лес</a></span></li><li><span><a href=\"#Логистическая-регрессия\" data-toc-modified-id=\"Логистическая-регрессия-3.3.3\"><span class=\"toc-item-num\">3.3.3&nbsp;&nbsp;</span>Логистическая регрессия</a></span></li><li><span><a href=\"#Вывод\" data-toc-modified-id=\"Вывод-3.3.4\"><span class=\"toc-item-num\">3.3.4&nbsp;&nbsp;</span>Вывод</a></span></li></ul></li><li><span><a href=\"#Вывод\" data-toc-modified-id=\"Вывод-3.4\"><span class=\"toc-item-num\">3.4&nbsp;&nbsp;</span>Вывод</a></span></li></ul></li><li><span><a href=\"#Тестирование-модели\" data-toc-modified-id=\"Тестирование-модели-4\"><span class=\"toc-item-num\">4&nbsp;&nbsp;</span>Тестирование модели</a></span></li><li><span><a href=\"#Общий-вывод\" data-toc-modified-id=\"Общий-вывод-5\"><span class=\"toc-item-num\">5&nbsp;&nbsp;</span>Общий вывод</a></span></li></ul></div>"
   ]
  },
  {
   "cell_type": "markdown",
   "metadata": {},
   "source": [
    "# Отток клиентов"
   ]
  },
  {
   "cell_type": "markdown",
   "metadata": {},
   "source": [
    "Из «Бета-Банка» стали уходить клиенты. Каждый месяц. Немного, но заметно. Банковские маркетологи посчитали: сохранять текущих клиентов дешевле, чем привлекать новых.\n",
    "\n",
    "Нужно спрогнозировать, уйдёт клиент из банка в ближайшее время или нет. Нам предоставлены исторические данные о поведении клиентов и расторжении договоров с банком. \n",
    "\n",
    "Построим модель с предельно большим значением *F1*-меры. Чтобы сдать проект успешно, нужно довести метрику до 0.59. Проверьте *F1*-меру на тестовой выборке самостоятельно.\n",
    "\n",
    "Дополнительно измеряйте *AUC-ROC*, сравнивайте её значение с *F1*-мерой.\n",
    "\n",
    "Источник данных: [https://www.kaggle.com/barelydedicated/bank-customer-churn-modeling](https://www.kaggle.com/barelydedicated/bank-customer-churn-modeling)"
   ]
  },
  {
   "cell_type": "markdown",
   "metadata": {},
   "source": [
    "# Описание данных\n",
    "\n",
    "Признаки:\n",
    "- `RowNumber` — индекс строки в данных\n",
    "- `CustomerId` — уникальный идентификатор клиента\n",
    "- `Surname` — фамилия\n",
    "- `CreditScore` — кредитный рейтинг\n",
    "- `Geography` — страна проживания\n",
    "- `Gender` — пол\n",
    "- `Age` — возраст\n",
    "- `Tenure` — сколько лет человек является клиентом банка\n",
    "- `Balance` — баланс на счёте\n",
    "- `NumOfProducts` — количество продуктов банка, используемых клиентом\n",
    "- `HasCrCard` — наличие кредитной карты\n",
    "- `IsActiveMember` — активность клиента\n",
    "- `EstimatedSalary` — предполагаемая зарплата\n",
    "\n",
    "Целевой признак:\n",
    "- `Exited` — факт ухода клиента"
   ]
  },
  {
   "cell_type": "markdown",
   "metadata": {},
   "source": [
    "## Подготовка данных"
   ]
  },
  {
   "cell_type": "markdown",
   "metadata": {},
   "source": [
    "### Импорт используемых библиотек"
   ]
  },
  {
   "cell_type": "code",
   "execution_count": 1,
   "metadata": {},
   "outputs": [],
   "source": [
    "import pandas as pd\n",
    "import matplotlib.pyplot as plt\n",
    "import seaborn as sns\n",
    "import numpy as np\n",
    "\n",
    "from sklearn.model_selection import train_test_split\n",
    "from sklearn.preprocessing import StandardScaler\n",
    "from sklearn.tree import DecisionTreeClassifier\n",
    "from sklearn.ensemble import RandomForestClassifier\n",
    "from sklearn.linear_model import LogisticRegression\n",
    "from sklearn.metrics import confusion_matrix\n",
    "from sklearn.preprocessing import OneHotEncoder\n",
    "\n",
    "from sklearn.metrics import recall_score\n",
    "from sklearn.metrics  import accuracy_score\n",
    "from sklearn.metrics import precision_score\n",
    "from sklearn.metrics import f1_score, roc_auc_score\n",
    "from sklearn.metrics import accuracy_score, confusion_matrix, classification_report\n",
    "from sklearn.utils import shuffle\n",
    "\n",
    "from fast_ml.model_development import train_valid_test_split\n",
    "\n",
    "import warnings\n",
    "warnings.filterwarnings(\"ignore\")"
   ]
  },
  {
   "cell_type": "markdown",
   "metadata": {},
   "source": [
    "### Чтение файла"
   ]
  },
  {
   "cell_type": "code",
   "execution_count": 2,
   "metadata": {},
   "outputs": [],
   "source": [
    "try:\n",
    "    data = pd.read_csv('Churn.csv', sep=',')\n",
    "except:\n",
    "    data = pd.read_csv('https://code.s3.yandex.net/datasets/Churn.csv', sep=',')"
   ]
  },
  {
   "cell_type": "code",
   "execution_count": 3,
   "metadata": {},
   "outputs": [
    {
     "data": {
      "text/html": [
       "<div>\n",
       "<style scoped>\n",
       "    .dataframe tbody tr th:only-of-type {\n",
       "        vertical-align: middle;\n",
       "    }\n",
       "\n",
       "    .dataframe tbody tr th {\n",
       "        vertical-align: top;\n",
       "    }\n",
       "\n",
       "    .dataframe thead th {\n",
       "        text-align: right;\n",
       "    }\n",
       "</style>\n",
       "<table border=\"1\" class=\"dataframe\">\n",
       "  <thead>\n",
       "    <tr style=\"text-align: right;\">\n",
       "      <th></th>\n",
       "      <th>RowNumber</th>\n",
       "      <th>CustomerId</th>\n",
       "      <th>Surname</th>\n",
       "      <th>CreditScore</th>\n",
       "      <th>Geography</th>\n",
       "      <th>Gender</th>\n",
       "      <th>Age</th>\n",
       "      <th>Tenure</th>\n",
       "      <th>Balance</th>\n",
       "      <th>NumOfProducts</th>\n",
       "      <th>HasCrCard</th>\n",
       "      <th>IsActiveMember</th>\n",
       "      <th>EstimatedSalary</th>\n",
       "      <th>Exited</th>\n",
       "    </tr>\n",
       "  </thead>\n",
       "  <tbody>\n",
       "    <tr>\n",
       "      <th>0</th>\n",
       "      <td>1</td>\n",
       "      <td>15634602</td>\n",
       "      <td>Hargrave</td>\n",
       "      <td>619</td>\n",
       "      <td>France</td>\n",
       "      <td>Female</td>\n",
       "      <td>42</td>\n",
       "      <td>2.0</td>\n",
       "      <td>0.00</td>\n",
       "      <td>1</td>\n",
       "      <td>1</td>\n",
       "      <td>1</td>\n",
       "      <td>101348.88</td>\n",
       "      <td>1</td>\n",
       "    </tr>\n",
       "    <tr>\n",
       "      <th>1</th>\n",
       "      <td>2</td>\n",
       "      <td>15647311</td>\n",
       "      <td>Hill</td>\n",
       "      <td>608</td>\n",
       "      <td>Spain</td>\n",
       "      <td>Female</td>\n",
       "      <td>41</td>\n",
       "      <td>1.0</td>\n",
       "      <td>83807.86</td>\n",
       "      <td>1</td>\n",
       "      <td>0</td>\n",
       "      <td>1</td>\n",
       "      <td>112542.58</td>\n",
       "      <td>0</td>\n",
       "    </tr>\n",
       "    <tr>\n",
       "      <th>2</th>\n",
       "      <td>3</td>\n",
       "      <td>15619304</td>\n",
       "      <td>Onio</td>\n",
       "      <td>502</td>\n",
       "      <td>France</td>\n",
       "      <td>Female</td>\n",
       "      <td>42</td>\n",
       "      <td>8.0</td>\n",
       "      <td>159660.80</td>\n",
       "      <td>3</td>\n",
       "      <td>1</td>\n",
       "      <td>0</td>\n",
       "      <td>113931.57</td>\n",
       "      <td>1</td>\n",
       "    </tr>\n",
       "    <tr>\n",
       "      <th>3</th>\n",
       "      <td>4</td>\n",
       "      <td>15701354</td>\n",
       "      <td>Boni</td>\n",
       "      <td>699</td>\n",
       "      <td>France</td>\n",
       "      <td>Female</td>\n",
       "      <td>39</td>\n",
       "      <td>1.0</td>\n",
       "      <td>0.00</td>\n",
       "      <td>2</td>\n",
       "      <td>0</td>\n",
       "      <td>0</td>\n",
       "      <td>93826.63</td>\n",
       "      <td>0</td>\n",
       "    </tr>\n",
       "    <tr>\n",
       "      <th>4</th>\n",
       "      <td>5</td>\n",
       "      <td>15737888</td>\n",
       "      <td>Mitchell</td>\n",
       "      <td>850</td>\n",
       "      <td>Spain</td>\n",
       "      <td>Female</td>\n",
       "      <td>43</td>\n",
       "      <td>2.0</td>\n",
       "      <td>125510.82</td>\n",
       "      <td>1</td>\n",
       "      <td>1</td>\n",
       "      <td>1</td>\n",
       "      <td>79084.10</td>\n",
       "      <td>0</td>\n",
       "    </tr>\n",
       "    <tr>\n",
       "      <th>5</th>\n",
       "      <td>6</td>\n",
       "      <td>15574012</td>\n",
       "      <td>Chu</td>\n",
       "      <td>645</td>\n",
       "      <td>Spain</td>\n",
       "      <td>Male</td>\n",
       "      <td>44</td>\n",
       "      <td>8.0</td>\n",
       "      <td>113755.78</td>\n",
       "      <td>2</td>\n",
       "      <td>1</td>\n",
       "      <td>0</td>\n",
       "      <td>149756.71</td>\n",
       "      <td>1</td>\n",
       "    </tr>\n",
       "    <tr>\n",
       "      <th>6</th>\n",
       "      <td>7</td>\n",
       "      <td>15592531</td>\n",
       "      <td>Bartlett</td>\n",
       "      <td>822</td>\n",
       "      <td>France</td>\n",
       "      <td>Male</td>\n",
       "      <td>50</td>\n",
       "      <td>7.0</td>\n",
       "      <td>0.00</td>\n",
       "      <td>2</td>\n",
       "      <td>1</td>\n",
       "      <td>1</td>\n",
       "      <td>10062.80</td>\n",
       "      <td>0</td>\n",
       "    </tr>\n",
       "    <tr>\n",
       "      <th>7</th>\n",
       "      <td>8</td>\n",
       "      <td>15656148</td>\n",
       "      <td>Obinna</td>\n",
       "      <td>376</td>\n",
       "      <td>Germany</td>\n",
       "      <td>Female</td>\n",
       "      <td>29</td>\n",
       "      <td>4.0</td>\n",
       "      <td>115046.74</td>\n",
       "      <td>4</td>\n",
       "      <td>1</td>\n",
       "      <td>0</td>\n",
       "      <td>119346.88</td>\n",
       "      <td>1</td>\n",
       "    </tr>\n",
       "    <tr>\n",
       "      <th>8</th>\n",
       "      <td>9</td>\n",
       "      <td>15792365</td>\n",
       "      <td>He</td>\n",
       "      <td>501</td>\n",
       "      <td>France</td>\n",
       "      <td>Male</td>\n",
       "      <td>44</td>\n",
       "      <td>4.0</td>\n",
       "      <td>142051.07</td>\n",
       "      <td>2</td>\n",
       "      <td>0</td>\n",
       "      <td>1</td>\n",
       "      <td>74940.50</td>\n",
       "      <td>0</td>\n",
       "    </tr>\n",
       "    <tr>\n",
       "      <th>9</th>\n",
       "      <td>10</td>\n",
       "      <td>15592389</td>\n",
       "      <td>H?</td>\n",
       "      <td>684</td>\n",
       "      <td>France</td>\n",
       "      <td>Male</td>\n",
       "      <td>27</td>\n",
       "      <td>2.0</td>\n",
       "      <td>134603.88</td>\n",
       "      <td>1</td>\n",
       "      <td>1</td>\n",
       "      <td>1</td>\n",
       "      <td>71725.73</td>\n",
       "      <td>0</td>\n",
       "    </tr>\n",
       "  </tbody>\n",
       "</table>\n",
       "</div>"
      ],
      "text/plain": [
       "   RowNumber  CustomerId   Surname  CreditScore Geography  Gender  Age  \\\n",
       "0          1    15634602  Hargrave          619    France  Female   42   \n",
       "1          2    15647311      Hill          608     Spain  Female   41   \n",
       "2          3    15619304      Onio          502    France  Female   42   \n",
       "3          4    15701354      Boni          699    France  Female   39   \n",
       "4          5    15737888  Mitchell          850     Spain  Female   43   \n",
       "5          6    15574012       Chu          645     Spain    Male   44   \n",
       "6          7    15592531  Bartlett          822    France    Male   50   \n",
       "7          8    15656148    Obinna          376   Germany  Female   29   \n",
       "8          9    15792365        He          501    France    Male   44   \n",
       "9         10    15592389        H?          684    France    Male   27   \n",
       "\n",
       "   Tenure    Balance  NumOfProducts  HasCrCard  IsActiveMember  \\\n",
       "0     2.0       0.00              1          1               1   \n",
       "1     1.0   83807.86              1          0               1   \n",
       "2     8.0  159660.80              3          1               0   \n",
       "3     1.0       0.00              2          0               0   \n",
       "4     2.0  125510.82              1          1               1   \n",
       "5     8.0  113755.78              2          1               0   \n",
       "6     7.0       0.00              2          1               1   \n",
       "7     4.0  115046.74              4          1               0   \n",
       "8     4.0  142051.07              2          0               1   \n",
       "9     2.0  134603.88              1          1               1   \n",
       "\n",
       "   EstimatedSalary  Exited  \n",
       "0        101348.88       1  \n",
       "1        112542.58       0  \n",
       "2        113931.57       1  \n",
       "3         93826.63       0  \n",
       "4         79084.10       0  \n",
       "5        149756.71       1  \n",
       "6         10062.80       0  \n",
       "7        119346.88       1  \n",
       "8         74940.50       0  \n",
       "9         71725.73       0  "
      ]
     },
     "execution_count": 3,
     "metadata": {},
     "output_type": "execute_result"
    }
   ],
   "source": [
    "data.head(10)"
   ]
  },
  {
   "cell_type": "code",
   "execution_count": 4,
   "metadata": {},
   "outputs": [
    {
     "name": "stdout",
     "output_type": "stream",
     "text": [
      "<class 'pandas.core.frame.DataFrame'>\n",
      "RangeIndex: 10000 entries, 0 to 9999\n",
      "Data columns (total 14 columns):\n",
      " #   Column           Non-Null Count  Dtype  \n",
      "---  ------           --------------  -----  \n",
      " 0   RowNumber        10000 non-null  int64  \n",
      " 1   CustomerId       10000 non-null  int64  \n",
      " 2   Surname          10000 non-null  object \n",
      " 3   CreditScore      10000 non-null  int64  \n",
      " 4   Geography        10000 non-null  object \n",
      " 5   Gender           10000 non-null  object \n",
      " 6   Age              10000 non-null  int64  \n",
      " 7   Tenure           9091 non-null   float64\n",
      " 8   Balance          10000 non-null  float64\n",
      " 9   NumOfProducts    10000 non-null  int64  \n",
      " 10  HasCrCard        10000 non-null  int64  \n",
      " 11  IsActiveMember   10000 non-null  int64  \n",
      " 12  EstimatedSalary  10000 non-null  float64\n",
      " 13  Exited           10000 non-null  int64  \n",
      "dtypes: float64(3), int64(8), object(3)\n",
      "memory usage: 1.1+ MB\n"
     ]
    }
   ],
   "source": [
    "data.info()"
   ]
  },
  {
   "cell_type": "markdown",
   "metadata": {},
   "source": [
    "Датасет содержит 10000 строк и 14 столбцов. Пропуски имеются только в столбце `Tenure`"
   ]
  },
  {
   "cell_type": "markdown",
   "metadata": {},
   "source": [
    "### Предобработка данных"
   ]
  },
  {
   "cell_type": "markdown",
   "metadata": {},
   "source": [
    "Чтобы сделать наш датасет менее \"шумным\", удалим столбцы с индексом строки данных, уникальным идентификатором клиента и его фамилией: эта информация не поможет в прогнозировании ухода клиента из банка."
   ]
  },
  {
   "cell_type": "code",
   "execution_count": 5,
   "metadata": {},
   "outputs": [],
   "source": [
    "data = data.drop(['RowNumber', 'CustomerId', 'Surname'], axis = 1)"
   ]
  },
  {
   "cell_type": "markdown",
   "metadata": {},
   "source": [
    "Переименуем столбцы согласно правилам хорошего тона - переведем их в нижний и змеинный регистры."
   ]
  },
  {
   "cell_type": "code",
   "execution_count": 6,
   "metadata": {},
   "outputs": [],
   "source": [
    "data.columns = data.columns.str.lower()"
   ]
  },
  {
   "cell_type": "code",
   "execution_count": 7,
   "metadata": {},
   "outputs": [],
   "source": [
    "data = data.rename(\n",
    "    columns = {\n",
    "        'creditscore':'credit_score',\n",
    "        'numofproducts':'num_of_products',\n",
    "        'hascrcard':'has_cr_card',\n",
    "        'isactivemember':'is_active_member',\n",
    "        'estimatedsalary':'estimated_salary'\n",
    "    }\n",
    ")"
   ]
  },
  {
   "cell_type": "code",
   "execution_count": 8,
   "metadata": {},
   "outputs": [
    {
     "data": {
      "text/plain": [
       "Index(['credit_score', 'geography', 'gender', 'age', 'tenure', 'balance',\n",
       "       'num_of_products', 'has_cr_card', 'is_active_member',\n",
       "       'estimated_salary', 'exited'],\n",
       "      dtype='object')"
      ]
     },
     "execution_count": 8,
     "metadata": {},
     "output_type": "execute_result"
    }
   ],
   "source": [
    "data.columns"
   ]
  },
  {
   "cell_type": "markdown",
   "metadata": {},
   "source": [
    "Столбцы переименованы\n",
    "___\n",
    "Поиск дубликатов"
   ]
  },
  {
   "cell_type": "code",
   "execution_count": 9,
   "metadata": {},
   "outputs": [
    {
     "data": {
      "text/plain": [
       "0"
      ]
     },
     "execution_count": 9,
     "metadata": {},
     "output_type": "execute_result"
    }
   ],
   "source": [
    "data.duplicated().sum()"
   ]
  },
  {
   "cell_type": "markdown",
   "metadata": {},
   "source": [
    "Дубликаты отсутствуют\n",
    "___\n",
    "Пропуски имеются только в столбце `tenure` (сколько лет человек является клиентом банка). Построим тепловую карту матрицы корреляции между столбцом `tenure` и остальными."
   ]
  },
  {
   "cell_type": "code",
   "execution_count": 10,
   "metadata": {},
   "outputs": [
    {
     "data": {
      "image/png": "[encoded data removed]",
      "text/plain": [
       "<Figure size 500x500 with 2 Axes>"
      ]
     },
     "metadata": {},
     "output_type": "display_data"
    }
   ],
   "source": [
    "plt.figure(figsize=(5, 5))\n",
    "sns.heatmap(\n",
    "    data.corr()[['tenure']]\n",
    "    .sort_values('tenure',ascending=False)\n",
    "    ,annot=True\n",
    ")\n",
    "\n",
    "plt.title('Тепловая карта корреляции для столбца \"tenure\"', size=10)\n",
    "plt.show()"
   ]
  },
  {
   "cell_type": "markdown",
   "metadata": {},
   "source": [
    "Корреляция между столбцом `tenure` и другими столбцами датасета слабая, чтобы ориентироваться на них при заполнении пропусков.\n",
    "___\n",
    "Рассмотрим удаление таких строк. Но перед этим исследуем, как повлияет удаление объектов с пропусками в столбце Tenure на баланс классов целевого признака."
   ]
  },
  {
   "cell_type": "code",
   "execution_count": 11,
   "metadata": {},
   "outputs": [
    {
     "data": {
      "text/plain": [
       "3.9034519956850056"
      ]
     },
     "execution_count": 11,
     "metadata": {},
     "output_type": "execute_result"
    }
   ],
   "source": [
    "(\n",
    "    data\n",
    "    .query('exited==0')['tenure'].count() / \n",
    "    data\n",
    "    .query('exited==1')['tenure'].count()\n",
    ")"
   ]
  },
  {
   "cell_type": "code",
   "execution_count": 12,
   "metadata": {},
   "outputs": [
    {
     "data": {
      "text/plain": [
       "3.9672131147540983"
      ]
     },
     "execution_count": 12,
     "metadata": {},
     "output_type": "execute_result"
    }
   ],
   "source": [
    "(\n",
    "    data\n",
    "    .query('exited==0')['tenure'].isna().sum() / \n",
    "    data\n",
    "    .query('exited==1')['tenure'].isna().sum()\n",
    ")"
   ]
  },
  {
   "cell_type": "markdown",
   "metadata": {},
   "source": [
    "Соотношение в целевом признаке практически не изменилось. Удалим объекты с пропусками."
   ]
  },
  {
   "cell_type": "code",
   "execution_count": 13,
   "metadata": {},
   "outputs": [],
   "source": [
    "data = data.dropna().reset_index(drop=True)"
   ]
  },
  {
   "cell_type": "markdown",
   "metadata": {},
   "source": [
    "Приведем столбцы `tenure`, `balance`, `estimated_salary` к типу `int`"
   ]
  },
  {
   "cell_type": "code",
   "execution_count": 14,
   "metadata": {},
   "outputs": [],
   "source": [
    "data = data.astype(\n",
    "    {\n",
    "    'tenure': \"int64\", \n",
    "    'balance': \"int64\",\n",
    "    'estimated_salary': \"int64\"\n",
    "    }\n",
    ")"
   ]
  },
  {
   "cell_type": "code",
   "execution_count": 15,
   "metadata": {},
   "outputs": [
    {
     "name": "stdout",
     "output_type": "stream",
     "text": [
      "<class 'pandas.core.frame.DataFrame'>\n",
      "RangeIndex: 9091 entries, 0 to 9090\n",
      "Data columns (total 11 columns):\n",
      " #   Column            Non-Null Count  Dtype \n",
      "---  ------            --------------  ----- \n",
      " 0   credit_score      9091 non-null   int64 \n",
      " 1   geography         9091 non-null   object\n",
      " 2   gender            9091 non-null   object\n",
      " 3   age               9091 non-null   int64 \n",
      " 4   tenure            9091 non-null   int64 \n",
      " 5   balance           9091 non-null   int64 \n",
      " 6   num_of_products   9091 non-null   int64 \n",
      " 7   has_cr_card       9091 non-null   int64 \n",
      " 8   is_active_member  9091 non-null   int64 \n",
      " 9   estimated_salary  9091 non-null   int64 \n",
      " 10  exited            9091 non-null   int64 \n",
      "dtypes: int64(9), object(2)\n",
      "memory usage: 781.4+ KB\n"
     ]
    }
   ],
   "source": [
    "data.info()"
   ]
  },
  {
   "cell_type": "markdown",
   "metadata": {},
   "source": [
    "### Разделение данных на обучающую, валидационную и тестовую выборки"
   ]
  },
  {
   "cell_type": "markdown",
   "metadata": {},
   "source": [
    "Разделим набор данных на обучающую (`features_train`), валидационную (`features_valid`) и тестовую выборки (`features_test`)"
   ]
  },
  {
   "cell_type": "code",
   "execution_count": 16,
   "metadata": {},
   "outputs": [],
   "source": [
    "features = data.drop(['exited'], axis=1)\n",
    "target = data['exited']"
   ]
  },
  {
   "cell_type": "code",
   "execution_count": 17,
   "metadata": {},
   "outputs": [
    {
     "name": "stdout",
     "output_type": "stream",
     "text": [
      "Обучающая выборка: (5454, 10)\n",
      "Валидационная выборка: (1818, 10)\n",
      "Тестовая выборка: (1819, 10)\n"
     ]
    }
   ],
   "source": [
    "features_train, features_test, target_train, target_test = train_test_split(\n",
    "    features,\n",
    "    target,\n",
    "    test_size=0.2,\n",
    "    random_state=12,\n",
    "    stratify=target)\n",
    "\n",
    "features_train, features_valid, target_train, target_valid = train_test_split(\n",
    "    features_train,\n",
    "    target_train,\n",
    "    test_size=0.25,\n",
    "    random_state=12,\n",
    "    stratify=target_train)\n",
    "\n",
    "print('Обучающая выборка:', features_train.shape)\n",
    "print('Валидационная выборка:', features_valid.shape)\n",
    "print('Тестовая выборка:', features_test.shape)"
   ]
  },
  {
   "cell_type": "markdown",
   "metadata": {},
   "source": [
    "### Преобразование категориальных признаков"
   ]
  },
  {
   "cell_type": "markdown",
   "metadata": {},
   "source": [
    "Выделим выборки с категориальными признаками"
   ]
  },
  {
   "cell_type": "code",
   "execution_count": 18,
   "metadata": {},
   "outputs": [],
   "source": [
    "features_train_cat = features_train.select_dtypes(include=['object'])\n",
    "features_valid_cat = features_valid.select_dtypes(include=['object'])\n",
    "features_test_cat = features_test.select_dtypes(include=['object'])"
   ]
  },
  {
   "cell_type": "code",
   "execution_count": 19,
   "metadata": {},
   "outputs": [
    {
     "data": {
      "text/html": [
       "<div>\n",
       "<style scoped>\n",
       "    .dataframe tbody tr th:only-of-type {\n",
       "        vertical-align: middle;\n",
       "    }\n",
       "\n",
       "    .dataframe tbody tr th {\n",
       "        vertical-align: top;\n",
       "    }\n",
       "\n",
       "    .dataframe thead th {\n",
       "        text-align: right;\n",
       "    }\n",
       "</style>\n",
       "<table border=\"1\" class=\"dataframe\">\n",
       "  <thead>\n",
       "    <tr style=\"text-align: right;\">\n",
       "      <th></th>\n",
       "      <th>geography</th>\n",
       "      <th>gender</th>\n",
       "    </tr>\n",
       "  </thead>\n",
       "  <tbody>\n",
       "    <tr>\n",
       "      <th>528</th>\n",
       "      <td>Germany</td>\n",
       "      <td>Female</td>\n",
       "    </tr>\n",
       "    <tr>\n",
       "      <th>6219</th>\n",
       "      <td>Germany</td>\n",
       "      <td>Female</td>\n",
       "    </tr>\n",
       "    <tr>\n",
       "      <th>4955</th>\n",
       "      <td>Germany</td>\n",
       "      <td>Male</td>\n",
       "    </tr>\n",
       "    <tr>\n",
       "      <th>7340</th>\n",
       "      <td>Spain</td>\n",
       "      <td>Male</td>\n",
       "    </tr>\n",
       "    <tr>\n",
       "      <th>4689</th>\n",
       "      <td>France</td>\n",
       "      <td>Female</td>\n",
       "    </tr>\n",
       "  </tbody>\n",
       "</table>\n",
       "</div>"
      ],
      "text/plain": [
       "     geography  gender\n",
       "528    Germany  Female\n",
       "6219   Germany  Female\n",
       "4955   Germany    Male\n",
       "7340     Spain    Male\n",
       "4689    France  Female"
      ]
     },
     "execution_count": 19,
     "metadata": {},
     "output_type": "execute_result"
    }
   ],
   "source": [
    "features_valid_cat.head()"
   ]
  },
  {
   "cell_type": "markdown",
   "metadata": {},
   "source": [
    "Преобразуем категориальные признаки в численные с помощью техники прямого кодирования, или отображения (англ. One-Hot Encoding, OHE). "
   ]
  },
  {
   "cell_type": "code",
   "execution_count": 20,
   "metadata": {},
   "outputs": [],
   "source": [
    "encoder = OneHotEncoder(drop='first', sparse=False)\n",
    "\n",
    "features_train_cat_ohe = pd.DataFrame(encoder.fit_transform(features_train_cat), \n",
    "                               columns=encoder.get_feature_names(features_train_cat.columns), \n",
    "                               index = features_train_cat.index)\n",
    "\n",
    "features_valid_cat_ohe = pd.DataFrame(encoder.transform(features_valid_cat), \n",
    "                               columns=encoder.get_feature_names(features_valid_cat.columns), \n",
    "                               index = features_valid_cat.index)\n",
    "\n",
    "features_test_cat_ohe = pd.DataFrame(encoder.transform(features_test_cat), \n",
    "                               columns=encoder.get_feature_names(features_test_cat.columns), \n",
    "                               index = features_test_cat.index)"
   ]
  },
  {
   "cell_type": "code",
   "execution_count": 21,
   "metadata": {},
   "outputs": [
    {
     "data": {
      "text/html": [
       "<div>\n",
       "<style scoped>\n",
       "    .dataframe tbody tr th:only-of-type {\n",
       "        vertical-align: middle;\n",
       "    }\n",
       "\n",
       "    .dataframe tbody tr th {\n",
       "        vertical-align: top;\n",
       "    }\n",
       "\n",
       "    .dataframe thead th {\n",
       "        text-align: right;\n",
       "    }\n",
       "</style>\n",
       "<table border=\"1\" class=\"dataframe\">\n",
       "  <thead>\n",
       "    <tr style=\"text-align: right;\">\n",
       "      <th></th>\n",
       "      <th>geography_Germany</th>\n",
       "      <th>geography_Spain</th>\n",
       "      <th>gender_Male</th>\n",
       "    </tr>\n",
       "  </thead>\n",
       "  <tbody>\n",
       "    <tr>\n",
       "      <th>5101</th>\n",
       "      <td>0.0</td>\n",
       "      <td>0.0</td>\n",
       "      <td>0.0</td>\n",
       "    </tr>\n",
       "    <tr>\n",
       "      <th>3214</th>\n",
       "      <td>1.0</td>\n",
       "      <td>0.0</td>\n",
       "      <td>1.0</td>\n",
       "    </tr>\n",
       "    <tr>\n",
       "      <th>7890</th>\n",
       "      <td>0.0</td>\n",
       "      <td>1.0</td>\n",
       "      <td>0.0</td>\n",
       "    </tr>\n",
       "    <tr>\n",
       "      <th>1553</th>\n",
       "      <td>0.0</td>\n",
       "      <td>1.0</td>\n",
       "      <td>0.0</td>\n",
       "    </tr>\n",
       "    <tr>\n",
       "      <th>5495</th>\n",
       "      <td>0.0</td>\n",
       "      <td>0.0</td>\n",
       "      <td>1.0</td>\n",
       "    </tr>\n",
       "  </tbody>\n",
       "</table>\n",
       "</div>"
      ],
      "text/plain": [
       "      geography_Germany  geography_Spain  gender_Male\n",
       "5101                0.0              0.0          0.0\n",
       "3214                1.0              0.0          1.0\n",
       "7890                0.0              1.0          0.0\n",
       "1553                0.0              1.0          0.0\n",
       "5495                0.0              0.0          1.0"
      ]
     },
     "execution_count": 21,
     "metadata": {},
     "output_type": "execute_result"
    }
   ],
   "source": [
    "features_train_cat_ohe.head()"
   ]
  },
  {
   "cell_type": "code",
   "execution_count": 22,
   "metadata": {},
   "outputs": [
    {
     "data": {
      "text/html": [
       "<div>\n",
       "<style scoped>\n",
       "    .dataframe tbody tr th:only-of-type {\n",
       "        vertical-align: middle;\n",
       "    }\n",
       "\n",
       "    .dataframe tbody tr th {\n",
       "        vertical-align: top;\n",
       "    }\n",
       "\n",
       "    .dataframe thead th {\n",
       "        text-align: right;\n",
       "    }\n",
       "</style>\n",
       "<table border=\"1\" class=\"dataframe\">\n",
       "  <thead>\n",
       "    <tr style=\"text-align: right;\">\n",
       "      <th></th>\n",
       "      <th>geography_Germany</th>\n",
       "      <th>geography_Spain</th>\n",
       "      <th>gender_Male</th>\n",
       "      <th>credit_score</th>\n",
       "      <th>age</th>\n",
       "      <th>tenure</th>\n",
       "      <th>balance</th>\n",
       "      <th>num_of_products</th>\n",
       "      <th>has_cr_card</th>\n",
       "      <th>is_active_member</th>\n",
       "      <th>estimated_salary</th>\n",
       "    </tr>\n",
       "  </thead>\n",
       "  <tbody>\n",
       "    <tr>\n",
       "      <th>5101</th>\n",
       "      <td>0.0</td>\n",
       "      <td>0.0</td>\n",
       "      <td>0.0</td>\n",
       "      <td>508</td>\n",
       "      <td>60</td>\n",
       "      <td>7</td>\n",
       "      <td>143262</td>\n",
       "      <td>1</td>\n",
       "      <td>1</td>\n",
       "      <td>1</td>\n",
       "      <td>129562</td>\n",
       "    </tr>\n",
       "    <tr>\n",
       "      <th>3214</th>\n",
       "      <td>1.0</td>\n",
       "      <td>0.0</td>\n",
       "      <td>1.0</td>\n",
       "      <td>647</td>\n",
       "      <td>51</td>\n",
       "      <td>4</td>\n",
       "      <td>131156</td>\n",
       "      <td>1</td>\n",
       "      <td>1</td>\n",
       "      <td>0</td>\n",
       "      <td>29883</td>\n",
       "    </tr>\n",
       "    <tr>\n",
       "      <th>7890</th>\n",
       "      <td>0.0</td>\n",
       "      <td>1.0</td>\n",
       "      <td>0.0</td>\n",
       "      <td>762</td>\n",
       "      <td>43</td>\n",
       "      <td>5</td>\n",
       "      <td>134204</td>\n",
       "      <td>1</td>\n",
       "      <td>1</td>\n",
       "      <td>1</td>\n",
       "      <td>139971</td>\n",
       "    </tr>\n",
       "  </tbody>\n",
       "</table>\n",
       "</div>"
      ],
      "text/plain": [
       "      geography_Germany  geography_Spain  gender_Male  credit_score  age  \\\n",
       "5101                0.0              0.0          0.0           508   60   \n",
       "3214                1.0              0.0          1.0           647   51   \n",
       "7890                0.0              1.0          0.0           762   43   \n",
       "\n",
       "      tenure  balance  num_of_products  has_cr_card  is_active_member  \\\n",
       "5101       7   143262                1            1                 1   \n",
       "3214       4   131156                1            1                 0   \n",
       "7890       5   134204                1            1                 1   \n",
       "\n",
       "      estimated_salary  \n",
       "5101            129562  \n",
       "3214             29883  \n",
       "7890            139971  "
      ]
     },
     "execution_count": 22,
     "metadata": {},
     "output_type": "execute_result"
    }
   ],
   "source": [
    "features_train = features_train_cat_ohe.join(features_train.drop(features_train_cat.columns, axis=1))\n",
    "features_train.head(3)"
   ]
  },
  {
   "cell_type": "code",
   "execution_count": 23,
   "metadata": {},
   "outputs": [
    {
     "data": {
      "text/html": [
       "<div>\n",
       "<style scoped>\n",
       "    .dataframe tbody tr th:only-of-type {\n",
       "        vertical-align: middle;\n",
       "    }\n",
       "\n",
       "    .dataframe tbody tr th {\n",
       "        vertical-align: top;\n",
       "    }\n",
       "\n",
       "    .dataframe thead th {\n",
       "        text-align: right;\n",
       "    }\n",
       "</style>\n",
       "<table border=\"1\" class=\"dataframe\">\n",
       "  <thead>\n",
       "    <tr style=\"text-align: right;\">\n",
       "      <th></th>\n",
       "      <th>geography_Germany</th>\n",
       "      <th>geography_Spain</th>\n",
       "      <th>gender_Male</th>\n",
       "      <th>credit_score</th>\n",
       "      <th>age</th>\n",
       "      <th>tenure</th>\n",
       "      <th>balance</th>\n",
       "      <th>num_of_products</th>\n",
       "      <th>has_cr_card</th>\n",
       "      <th>is_active_member</th>\n",
       "      <th>estimated_salary</th>\n",
       "    </tr>\n",
       "  </thead>\n",
       "  <tbody>\n",
       "    <tr>\n",
       "      <th>5101</th>\n",
       "      <td>0.0</td>\n",
       "      <td>0.0</td>\n",
       "      <td>0.0</td>\n",
       "      <td>508</td>\n",
       "      <td>60</td>\n",
       "      <td>7</td>\n",
       "      <td>143262</td>\n",
       "      <td>1</td>\n",
       "      <td>1</td>\n",
       "      <td>1</td>\n",
       "      <td>129562</td>\n",
       "    </tr>\n",
       "    <tr>\n",
       "      <th>3214</th>\n",
       "      <td>1.0</td>\n",
       "      <td>0.0</td>\n",
       "      <td>1.0</td>\n",
       "      <td>647</td>\n",
       "      <td>51</td>\n",
       "      <td>4</td>\n",
       "      <td>131156</td>\n",
       "      <td>1</td>\n",
       "      <td>1</td>\n",
       "      <td>0</td>\n",
       "      <td>29883</td>\n",
       "    </tr>\n",
       "    <tr>\n",
       "      <th>7890</th>\n",
       "      <td>0.0</td>\n",
       "      <td>1.0</td>\n",
       "      <td>0.0</td>\n",
       "      <td>762</td>\n",
       "      <td>43</td>\n",
       "      <td>5</td>\n",
       "      <td>134204</td>\n",
       "      <td>1</td>\n",
       "      <td>1</td>\n",
       "      <td>1</td>\n",
       "      <td>139971</td>\n",
       "    </tr>\n",
       "  </tbody>\n",
       "</table>\n",
       "</div>"
      ],
      "text/plain": [
       "      geography_Germany  geography_Spain  gender_Male  credit_score  age  \\\n",
       "5101                0.0              0.0          0.0           508   60   \n",
       "3214                1.0              0.0          1.0           647   51   \n",
       "7890                0.0              1.0          0.0           762   43   \n",
       "\n",
       "      tenure  balance  num_of_products  has_cr_card  is_active_member  \\\n",
       "5101       7   143262                1            1                 1   \n",
       "3214       4   131156                1            1                 0   \n",
       "7890       5   134204                1            1                 1   \n",
       "\n",
       "      estimated_salary  \n",
       "5101            129562  \n",
       "3214             29883  \n",
       "7890            139971  "
      ]
     },
     "execution_count": 23,
     "metadata": {},
     "output_type": "execute_result"
    }
   ],
   "source": [
    "features_valid = features_valid_cat_ohe.join(features_valid.drop(features_valid_cat.columns, axis=1))\n",
    "features_train.head(3)"
   ]
  },
  {
   "cell_type": "code",
   "execution_count": 24,
   "metadata": {},
   "outputs": [
    {
     "data": {
      "text/html": [
       "<div>\n",
       "<style scoped>\n",
       "    .dataframe tbody tr th:only-of-type {\n",
       "        vertical-align: middle;\n",
       "    }\n",
       "\n",
       "    .dataframe tbody tr th {\n",
       "        vertical-align: top;\n",
       "    }\n",
       "\n",
       "    .dataframe thead th {\n",
       "        text-align: right;\n",
       "    }\n",
       "</style>\n",
       "<table border=\"1\" class=\"dataframe\">\n",
       "  <thead>\n",
       "    <tr style=\"text-align: right;\">\n",
       "      <th></th>\n",
       "      <th>geography_Germany</th>\n",
       "      <th>geography_Spain</th>\n",
       "      <th>gender_Male</th>\n",
       "      <th>credit_score</th>\n",
       "      <th>age</th>\n",
       "      <th>tenure</th>\n",
       "      <th>balance</th>\n",
       "      <th>num_of_products</th>\n",
       "      <th>has_cr_card</th>\n",
       "      <th>is_active_member</th>\n",
       "      <th>estimated_salary</th>\n",
       "    </tr>\n",
       "  </thead>\n",
       "  <tbody>\n",
       "    <tr>\n",
       "      <th>768</th>\n",
       "      <td>0.0</td>\n",
       "      <td>0.0</td>\n",
       "      <td>0.0</td>\n",
       "      <td>548</td>\n",
       "      <td>32</td>\n",
       "      <td>2</td>\n",
       "      <td>172448</td>\n",
       "      <td>1</td>\n",
       "      <td>1</td>\n",
       "      <td>0</td>\n",
       "      <td>188083</td>\n",
       "    </tr>\n",
       "    <tr>\n",
       "      <th>2952</th>\n",
       "      <td>0.0</td>\n",
       "      <td>0.0</td>\n",
       "      <td>0.0</td>\n",
       "      <td>707</td>\n",
       "      <td>58</td>\n",
       "      <td>3</td>\n",
       "      <td>102346</td>\n",
       "      <td>1</td>\n",
       "      <td>1</td>\n",
       "      <td>1</td>\n",
       "      <td>114672</td>\n",
       "    </tr>\n",
       "    <tr>\n",
       "      <th>1294</th>\n",
       "      <td>1.0</td>\n",
       "      <td>0.0</td>\n",
       "      <td>0.0</td>\n",
       "      <td>555</td>\n",
       "      <td>46</td>\n",
       "      <td>4</td>\n",
       "      <td>120392</td>\n",
       "      <td>1</td>\n",
       "      <td>1</td>\n",
       "      <td>0</td>\n",
       "      <td>177719</td>\n",
       "    </tr>\n",
       "  </tbody>\n",
       "</table>\n",
       "</div>"
      ],
      "text/plain": [
       "      geography_Germany  geography_Spain  gender_Male  credit_score  age  \\\n",
       "768                 0.0              0.0          0.0           548   32   \n",
       "2952                0.0              0.0          0.0           707   58   \n",
       "1294                1.0              0.0          0.0           555   46   \n",
       "\n",
       "      tenure  balance  num_of_products  has_cr_card  is_active_member  \\\n",
       "768        2   172448                1            1                 0   \n",
       "2952       3   102346                1            1                 1   \n",
       "1294       4   120392                1            1                 0   \n",
       "\n",
       "      estimated_salary  \n",
       "768             188083  \n",
       "2952            114672  \n",
       "1294            177719  "
      ]
     },
     "execution_count": 24,
     "metadata": {},
     "output_type": "execute_result"
    }
   ],
   "source": [
    "features_test = features_test_cat_ohe.join(features_test.drop(features_test_cat.columns, axis=1))\n",
    "features_test.head(3)"
   ]
  },
  {
   "cell_type": "markdown",
   "metadata": {},
   "source": [
    "### Масштабирование признаков"
   ]
  },
  {
   "cell_type": "markdown",
   "metadata": {},
   "source": [
    "Значения и их разбросы в столбцах разные `estimated_salary` больше, поэтому алгоритм автоматически решит, что этот признак важнее возраста. Стандартизируем данные:"
   ]
  },
  {
   "cell_type": "code",
   "execution_count": 25,
   "metadata": {},
   "outputs": [
    {
     "data": {
      "text/html": [
       "<div>\n",
       "<style scoped>\n",
       "    .dataframe tbody tr th:only-of-type {\n",
       "        vertical-align: middle;\n",
       "    }\n",
       "\n",
       "    .dataframe tbody tr th {\n",
       "        vertical-align: top;\n",
       "    }\n",
       "\n",
       "    .dataframe thead th {\n",
       "        text-align: right;\n",
       "    }\n",
       "</style>\n",
       "<table border=\"1\" class=\"dataframe\">\n",
       "  <thead>\n",
       "    <tr style=\"text-align: right;\">\n",
       "      <th></th>\n",
       "      <th>geography_Germany</th>\n",
       "      <th>geography_Spain</th>\n",
       "      <th>gender_Male</th>\n",
       "      <th>credit_score</th>\n",
       "      <th>age</th>\n",
       "      <th>tenure</th>\n",
       "      <th>balance</th>\n",
       "      <th>num_of_products</th>\n",
       "      <th>has_cr_card</th>\n",
       "      <th>is_active_member</th>\n",
       "      <th>estimated_salary</th>\n",
       "    </tr>\n",
       "  </thead>\n",
       "  <tbody>\n",
       "    <tr>\n",
       "      <th>5101</th>\n",
       "      <td>0.0</td>\n",
       "      <td>0.0</td>\n",
       "      <td>0.0</td>\n",
       "      <td>-1.468914</td>\n",
       "      <td>1.985315</td>\n",
       "      <td>0.697586</td>\n",
       "      <td>1.070629</td>\n",
       "      <td>-0.923475</td>\n",
       "      <td>1</td>\n",
       "      <td>1</td>\n",
       "      <td>0.505789</td>\n",
       "    </tr>\n",
       "    <tr>\n",
       "      <th>3214</th>\n",
       "      <td>1.0</td>\n",
       "      <td>0.0</td>\n",
       "      <td>1.0</td>\n",
       "      <td>-0.027087</td>\n",
       "      <td>1.135208</td>\n",
       "      <td>-0.339476</td>\n",
       "      <td>0.874886</td>\n",
       "      <td>-0.923475</td>\n",
       "      <td>1</td>\n",
       "      <td>0</td>\n",
       "      <td>-1.231252</td>\n",
       "    </tr>\n",
       "    <tr>\n",
       "      <th>7890</th>\n",
       "      <td>0.0</td>\n",
       "      <td>1.0</td>\n",
       "      <td>0.0</td>\n",
       "      <td>1.165792</td>\n",
       "      <td>0.379557</td>\n",
       "      <td>0.006211</td>\n",
       "      <td>0.924170</td>\n",
       "      <td>-0.923475</td>\n",
       "      <td>1</td>\n",
       "      <td>1</td>\n",
       "      <td>0.687180</td>\n",
       "    </tr>\n",
       "    <tr>\n",
       "      <th>1553</th>\n",
       "      <td>0.0</td>\n",
       "      <td>1.0</td>\n",
       "      <td>0.0</td>\n",
       "      <td>-0.566475</td>\n",
       "      <td>-0.848375</td>\n",
       "      <td>0.006211</td>\n",
       "      <td>0.382168</td>\n",
       "      <td>-0.923475</td>\n",
       "      <td>1</td>\n",
       "      <td>1</td>\n",
       "      <td>1.356177</td>\n",
       "    </tr>\n",
       "    <tr>\n",
       "      <th>5495</th>\n",
       "      <td>0.0</td>\n",
       "      <td>0.0</td>\n",
       "      <td>1.0</td>\n",
       "      <td>1.228029</td>\n",
       "      <td>-1.320657</td>\n",
       "      <td>0.351899</td>\n",
       "      <td>-1.245778</td>\n",
       "      <td>0.809709</td>\n",
       "      <td>1</td>\n",
       "      <td>1</td>\n",
       "      <td>-1.382304</td>\n",
       "    </tr>\n",
       "  </tbody>\n",
       "</table>\n",
       "</div>"
      ],
      "text/plain": [
       "      geography_Germany  geography_Spain  gender_Male  credit_score       age  \\\n",
       "5101                0.0              0.0          0.0     -1.468914  1.985315   \n",
       "3214                1.0              0.0          1.0     -0.027087  1.135208   \n",
       "7890                0.0              1.0          0.0      1.165792  0.379557   \n",
       "1553                0.0              1.0          0.0     -0.566475 -0.848375   \n",
       "5495                0.0              0.0          1.0      1.228029 -1.320657   \n",
       "\n",
       "        tenure   balance  num_of_products  has_cr_card  is_active_member  \\\n",
       "5101  0.697586  1.070629        -0.923475            1                 1   \n",
       "3214 -0.339476  0.874886        -0.923475            1                 0   \n",
       "7890  0.006211  0.924170        -0.923475            1                 1   \n",
       "1553  0.006211  0.382168        -0.923475            1                 1   \n",
       "5495  0.351899 -1.245778         0.809709            1                 1   \n",
       "\n",
       "      estimated_salary  \n",
       "5101          0.505789  \n",
       "3214         -1.231252  \n",
       "7890          0.687180  \n",
       "1553          1.356177  \n",
       "5495         -1.382304  "
      ]
     },
     "execution_count": 25,
     "metadata": {},
     "output_type": "execute_result"
    }
   ],
   "source": [
    "numeric = ['credit_score', 'age', 'tenure', 'balance', 'num_of_products', 'estimated_salary']\n",
    "\n",
    "scaler = StandardScaler()\n",
    "\n",
    "scaler.fit(features_train[numeric])\n",
    "\n",
    "features_train[numeric] = scaler.transform(features_train[numeric])\n",
    "features_valid[numeric] = scaler.transform(features_valid[numeric])\n",
    "features_test[numeric] = scaler.transform(features_test[numeric])\n",
    "\n",
    "features_train.head()"
   ]
  },
  {
   "cell_type": "markdown",
   "metadata": {},
   "source": [
    "Стандартизация прошла успешно."
   ]
  },
  {
   "cell_type": "markdown",
   "metadata": {},
   "source": [
    "### Проверка баланса классов"
   ]
  },
  {
   "cell_type": "code",
   "execution_count": 26,
   "metadata": {},
   "outputs": [
    {
     "data": {
      "text/plain": [
       "0    0.796062\n",
       "1    0.203938\n",
       "Name: exited, dtype: float64"
      ]
     },
     "execution_count": 26,
     "metadata": {},
     "output_type": "execute_result"
    }
   ],
   "source": [
    "data['exited'].value_counts(normalize=True)"
   ]
  },
  {
   "cell_type": "code",
   "execution_count": 27,
   "metadata": {},
   "outputs": [
    {
     "data": {
      "image/png": "[encoded data removed]",
      "text/plain": [
       "<Figure size 300x300 with 1 Axes>"
      ]
     },
     "metadata": {},
     "output_type": "display_data"
    }
   ],
   "source": [
    "plt.figure(figsize=(3, 3))\n",
    "plt.title('Дисбаланс классов')\n",
    "plt.xlabel('Class')\n",
    "plt.ylabel('Count')\n",
    "sns.countplot(x='exited', data=data);"
   ]
  },
  {
   "cell_type": "markdown",
   "metadata": {},
   "source": [
    "Дисбаланс классов очевиден: тех, кто остался, в 4 раза больше тех, кто ушел."
   ]
  },
  {
   "cell_type": "markdown",
   "metadata": {},
   "source": [
    "### Вывод"
   ]
  },
  {
   "cell_type": "markdown",
   "metadata": {},
   "source": [
    "- Датасет содержит 10000 строк и 14 столбцов\n",
    "- Удалены столбцы `RowNumber`, `CustomerId`, `Surname` так как они не понадобятся в дальнейшем исследовании\n",
    "- Названия остальных столбцов приведены к нижнему и змеинному регистрам\n",
    "- Пропуски в `tenure` заполнены случайными числами в рамках значений этого же столбца\n",
    "- Привели столбцы `tenure`, `balance`, `estimated_salary` к типу `int`\n",
    "- Преобразовали категориальные признаки в численные с помощью техники OHE\n",
    "- Разделили данные на обучающую, валидационную и тестовую выборки\n",
    "- Провели масштабирование признаков\n",
    "- Изучили баланс классов: доля оставшихся клиентов составляет 80%, ушедших - 20%.\n",
    "___"
   ]
  },
  {
   "cell_type": "markdown",
   "metadata": {},
   "source": [
    "## Исследование задачи без учета дисбаланаса"
   ]
  },
  {
   "cell_type": "markdown",
   "metadata": {},
   "source": [
    "### Дерево решений"
   ]
  },
  {
   "cell_type": "code",
   "execution_count": 28,
   "metadata": {},
   "outputs": [],
   "source": [
    "from sklearn.metrics import confusion_matrix"
   ]
  },
  {
   "cell_type": "code",
   "execution_count": 29,
   "metadata": {},
   "outputs": [
    {
     "name": "stdout",
     "output_type": "stream",
     "text": [
      "best_model: DecisionTreeClassifier(max_depth=22, min_samples_leaf=22, min_samples_split=22,\n",
      "                       random_state=12)\n",
      "F1: 0.606060606060606\n",
      "AUC-ROC: 0.8436322384634443\n",
      "Матрица ошибок:\n",
      "[[1358   89]\n",
      " [ 171  200]]\n"
     ]
    }
   ],
   "source": [
    "model = None\n",
    "best_f1 = 0\n",
    "best_auc_roc = 0\n",
    "best_confusion_matrix = None\n",
    "\n",
    "for depth in range(2, 23, 10):\n",
    "    for samples_split in range(2, 23, 5):\n",
    "        for samples_leaf in range(2, 23, 5):\n",
    "            model = DecisionTreeClassifier(\n",
    "                random_state=12,\n",
    "                max_depth=depth,\n",
    "                min_samples_split=samples_split,\n",
    "                min_samples_leaf=samples_leaf)\n",
    "            \n",
    "            model.fit(features_train, target_train)\n",
    "            \n",
    "            predicted_valid = model.predict(features_valid)\n",
    "            probabilities_valid = model.predict_proba(features_valid)[:,1]\n",
    "    \n",
    "            f1 = f1_score(target_valid, predicted_valid)\n",
    "            auc_roc = roc_auc_score(target_valid, probabilities_valid)\n",
    "            \n",
    "            best_confusion_matrix = confusion_matrix(target_valid, predicted_valid)\n",
    "                \n",
    "            if f1 > best_f1:\n",
    "                model = model\n",
    "                best_f1 = f1\n",
    "                best_auc_roc = auc_roc                \n",
    "\n",
    "print('best_model:', model)\n",
    "print('F1:', best_f1)\n",
    "print('AUC-ROC:', best_auc_roc)\n",
    "print('Матрица ошибок:')\n",
    "print(best_confusion_matrix)"
   ]
  },
  {
   "cell_type": "markdown",
   "metadata": {},
   "source": [
    "Модель `DecisionTreeClassifier` с глубиной дерева **22**, количеством образцов для разделения **22** и количеством образцов в листовом узле **22** показала наилучшее значение *F1-меры* - **0.606**."
   ]
  },
  {
   "cell_type": "markdown",
   "metadata": {},
   "source": [
    "### Случайный лес"
   ]
  },
  {
   "cell_type": "code",
   "execution_count": 30,
   "metadata": {},
   "outputs": [
    {
     "name": "stdout",
     "output_type": "stream",
     "text": [
      "best_model: RandomForestClassifier(max_depth=22, min_samples_split=22, n_estimators=210,\n",
      "                       random_state=12)\n",
      "F1: 0.6223662884927067\n",
      "AUC-ROC: 0.8462252042985114\n",
      "Матрица ошибок:\n",
      "[[1410   37]\n",
      " [ 196  175]]\n"
     ]
    }
   ],
   "source": [
    "model = None\n",
    "best_f1 = 0\n",
    "best_auc_roc = 0\n",
    "best_est = 0\n",
    "best_depth = 0\n",
    "best_confusion_matrix = None\n",
    "\n",
    "for est in range(10, 211, 40):\n",
    "    for samples_split in range(2, 23, 4):\n",
    "        for depth in range(2, 23, 4):\n",
    "            model = RandomForestClassifier(\n",
    "                random_state=12,\n",
    "                max_depth=depth,\n",
    "                n_estimators=est,\n",
    "                min_samples_split=samples_split)\n",
    "            \n",
    "            model.fit(features_train, target_train)\n",
    "            \n",
    "            predicted_valid = model.predict(features_valid)\n",
    "            probabilities_valid = model.predict_proba(features_valid)[:,1]\n",
    "            \n",
    "            f1 = f1_score(target_valid, predicted_valid)\n",
    "            auc_roc = roc_auc_score(target_valid, probabilities_valid)\n",
    "            \n",
    "            best_confusion_matrix = confusion_matrix(target_valid, predicted_valid)\n",
    "\n",
    "        \n",
    "            if f1_score(target_valid, predicted_valid) > best_f1:\n",
    "                model = model\n",
    "                best_f1 = f1\n",
    "                best_auc_roc = auc_roc\n",
    "                best_est = est\n",
    "                best_depth = depth\n",
    "\n",
    "print('best_model:', model)\n",
    "print('F1:', best_f1)\n",
    "print('AUC-ROC:', best_auc_roc)\n",
    "print('Матрица ошибок:')\n",
    "print(best_confusion_matrix)"
   ]
  },
  {
   "cell_type": "markdown",
   "metadata": {},
   "source": [
    "Модель без учета дисбаланса `RandomForestClassifier` с глубиной дерева **22**, количеством образцов для разделения **22** и количеством дереьев **210** показала наилучшее значение *F1-меры* - **0.622**."
   ]
  },
  {
   "cell_type": "markdown",
   "metadata": {},
   "source": [
    "### Логистическая регрессия"
   ]
  },
  {
   "cell_type": "code",
   "execution_count": 31,
   "metadata": {
    "scrolled": true
   },
   "outputs": [
    {
     "name": "stdout",
     "output_type": "stream",
     "text": [
      "F1 : 0.6003430531732418\n",
      "AUC-ROC : 0.8642101792536656\n",
      "Матрица ошибок:\n",
      "[[1410   37]\n",
      " [ 196  175]]\n"
     ]
    }
   ],
   "source": [
    "model_logistic = LogisticRegression(random_state=12, solver='liblinear')\n",
    "model_logistic.fit(features_train, target_train)\n",
    "\n",
    "predicted_valid = model.predict(features_valid)\n",
    "probabilities_valid = model.predict_proba(features_valid)[:,1]\n",
    "\n",
    "best_f1 = f1_score(target_valid, predicted_valid)\n",
    "best_auc_roc = roc_auc_score(target_valid, probabilities_valid)\n",
    "best_confusion_matrix = confusion_matrix(target_valid, predicted_valid)\n",
    "\n",
    "print('F1 :', best_f1)\n",
    "print('AUC-ROC :', best_auc_roc)\n",
    "print('Матрица ошибок:')\n",
    "print(best_confusion_matrix)"
   ]
  },
  {
   "cell_type": "markdown",
   "metadata": {},
   "source": [
    "Модель без учета дисбаланса `LogisticRegression` показала значение F1-меры - **0.6**."
   ]
  },
  {
   "cell_type": "markdown",
   "metadata": {},
   "source": [
    "### Вывод"
   ]
  },
  {
   "cell_type": "markdown",
   "metadata": {},
   "source": [
    "Модели без учета дисбаланса выдали следующие показатели:\n",
    "- Модель **дерево решений**\n",
    "  - F1: 0.606060606060606\n",
    "  - AUC-ROC: 0.8431935578210892\n",
    "  \n",
    "- Модель **случайный лес**\n",
    "  - F1: 0.6223662884927067\n",
    "  - AUC-ROC: 0.8462252042985114\n",
    "  \n",
    "- Модель **логистическая регрессия**\n",
    "  - F1 : 0.6003430531732418\n",
    "  - AUC-ROC : 0.8642101792536656\n",
    "  \n",
    "Несмотря на дисбаланс классов, наши обученные модели показали удовлитворительные результаты - F1-мера больше 0.59."
   ]
  },
  {
   "cell_type": "markdown",
   "metadata": {},
   "source": [
    "## Борьба с дисбалансом"
   ]
  },
  {
   "cell_type": "markdown",
   "metadata": {},
   "source": [
    "Чтобы увеличить качество модели при дисбалансе классов, применим техники: взвешивание классов, увеличение и уменьшение выборок."
   ]
  },
  {
   "cell_type": "markdown",
   "metadata": {},
   "source": [
    "Соберем в таблицу лучшие результаты обучения моделей"
   ]
  },
  {
   "cell_type": "code",
   "execution_count": 32,
   "metadata": {},
   "outputs": [],
   "source": [
    "best_models = pd.DataFrame(columns=['method', 'model', 'F1', 'AUC-ROC'])"
   ]
  },
  {
   "cell_type": "markdown",
   "metadata": {},
   "source": [
    "### Взвешивание классов"
   ]
  },
  {
   "cell_type": "markdown",
   "metadata": {},
   "source": [
    "#### Дерево решений"
   ]
  },
  {
   "cell_type": "code",
   "execution_count": 33,
   "metadata": {},
   "outputs": [
    {
     "name": "stdout",
     "output_type": "stream",
     "text": [
      "best_model: DecisionTreeClassifier(class_weight='balanced', max_depth=22,\n",
      "                       min_samples_leaf=22, min_samples_split=22,\n",
      "                       random_state=12)\n",
      "F1: 0.5850622406639004\n",
      "AUC-ROC: 0.8481876249215312\n"
     ]
    }
   ],
   "source": [
    "model = None\n",
    "best_f1 = 0\n",
    "best_auc_roc = 0\n",
    "\n",
    "for depth in range(2, 23, 5):\n",
    "    for samples_split in range(2, 23, 5):\n",
    "        for samples_leaf in range(2, 23, 5):\n",
    "            model = DecisionTreeClassifier(\n",
    "                random_state=12,\n",
    "                max_depth=depth,\n",
    "                min_samples_split=samples_split,\n",
    "                min_samples_leaf=samples_leaf,\n",
    "                class_weight='balanced')\n",
    "            \n",
    "            model.fit(features_train, target_train)\n",
    "            \n",
    "            predicted_valid = model.predict(features_valid)\n",
    "            probabilities_valid = model.predict_proba(features_valid)[:,1]\n",
    "    \n",
    "            f1 = f1_score(target_valid, predicted_valid)\n",
    "            auc_roc = roc_auc_score(target_valid, probabilities_valid)\n",
    "    \n",
    "            if f1 > best_f1:\n",
    "                model = model\n",
    "                best_f1 = f1\n",
    "                best_auc_roc = auc_roc\n",
    "\n",
    "print('best_model:', model)\n",
    "print('F1:', best_f1)\n",
    "print('AUC-ROC:', best_auc_roc)\n",
    "\n",
    "best_models.loc[0] = ['class_weight', model, best_f1, best_auc_roc]"
   ]
  },
  {
   "cell_type": "markdown",
   "metadata": {},
   "source": [
    "#### Случайный лес"
   ]
  },
  {
   "cell_type": "code",
   "execution_count": 34,
   "metadata": {},
   "outputs": [
    {
     "name": "stdout",
     "output_type": "stream",
     "text": [
      "********************\n",
      "best_model: RandomForestClassifier(class_weight='balanced', max_depth=22,\n",
      "                       min_samples_split=22, n_estimators=210, random_state=12)\n",
      "F1: 0.6589595375722543\n",
      "AUC-ROC: 0.8670005979468629\n"
     ]
    }
   ],
   "source": [
    "model = None\n",
    "best_f1 = 0\n",
    "best_auc_roc = 0\n",
    "best_est = 1\n",
    "best_depth = 1\n",
    "best_samples = 0\n",
    "\n",
    "for est in range(10, 211, 40):\n",
    "    for samples_split in range(2, 25, 4):\n",
    "        for depth in range(2, 25, 4):\n",
    "            model = RandomForestClassifier(\n",
    "                random_state=12,\n",
    "                max_depth=depth,\n",
    "                n_estimators=est,\n",
    "                min_samples_split=samples_split,\n",
    "                class_weight='balanced')\n",
    "            \n",
    "            model.fit(features_train, target_train)\n",
    "            \n",
    "            predicted_valid = model.predict(features_valid)\n",
    "            probabilities_valid = model.predict_proba(features_valid)[:,1]\n",
    "            \n",
    "            f1 = f1_score(target_valid, predicted_valid)\n",
    "            auc_roc = roc_auc_score(target_valid, probabilities_valid)\n",
    "            \n",
    "            #print('F1:', best_f1)\n",
    "            #print('depth', depth)\n",
    "            #print('best_model:', model)\n",
    "            #print('_'*20)\n",
    "        \n",
    "            if f1 > best_f1:\n",
    "                model = model\n",
    "                best_f1 = f1\n",
    "                best_auc_roc = auc_roc\n",
    "                best_est = est\n",
    "                best_depth = depth\n",
    "                best_samples = samples_split\n",
    "\n",
    "print('*'*20)\n",
    "print('best_model:', model)\n",
    "print('F1:', best_f1)\n",
    "print('AUC-ROC:', best_auc_roc)\n",
    "#print(best_depth)\n",
    "#print(best_samples)\n",
    "#print(best_est)"
   ]
  },
  {
   "cell_type": "markdown",
   "metadata": {},
   "source": [
    "Вынесем в отдельную переменную информацию о моделе, чтобы она корректно отображалась в датафрейме best_models."
   ]
  },
  {
   "cell_type": "code",
   "execution_count": 35,
   "metadata": {},
   "outputs": [],
   "source": [
    "model_info = \"RandomForestClassifier(max_depth={}, n_estimators={}, min_samples_split={} random_state={})\"\\\n",
    ".format(best_depth, best_est, best_samples, 12)\n",
    "best_models.loc[1] = ['class_weight', model_info, best_f1, best_auc_roc]"
   ]
  },
  {
   "cell_type": "code",
   "execution_count": 36,
   "metadata": {},
   "outputs": [
    {
     "data": {
      "text/html": [
       "<div>\n",
       "<style scoped>\n",
       "    .dataframe tbody tr th:only-of-type {\n",
       "        vertical-align: middle;\n",
       "    }\n",
       "\n",
       "    .dataframe tbody tr th {\n",
       "        vertical-align: top;\n",
       "    }\n",
       "\n",
       "    .dataframe thead th {\n",
       "        text-align: right;\n",
       "    }\n",
       "</style>\n",
       "<table border=\"1\" class=\"dataframe\">\n",
       "  <thead>\n",
       "    <tr style=\"text-align: right;\">\n",
       "      <th></th>\n",
       "      <th>method</th>\n",
       "      <th>model</th>\n",
       "      <th>F1</th>\n",
       "      <th>AUC-ROC</th>\n",
       "    </tr>\n",
       "  </thead>\n",
       "  <tbody>\n",
       "    <tr>\n",
       "      <th>0</th>\n",
       "      <td>class_weight</td>\n",
       "      <td>DecisionTreeClassifier(class_weight='balanced'...</td>\n",
       "      <td>0.585062</td>\n",
       "      <td>0.848188</td>\n",
       "    </tr>\n",
       "    <tr>\n",
       "      <th>1</th>\n",
       "      <td>class_weight</td>\n",
       "      <td>RandomForestClassifier(max_depth=18, n_estimat...</td>\n",
       "      <td>0.658960</td>\n",
       "      <td>0.867001</td>\n",
       "    </tr>\n",
       "  </tbody>\n",
       "</table>\n",
       "</div>"
      ],
      "text/plain": [
       "         method                                              model        F1  \\\n",
       "0  class_weight  DecisionTreeClassifier(class_weight='balanced'...  0.585062   \n",
       "1  class_weight  RandomForestClassifier(max_depth=18, n_estimat...  0.658960   \n",
       "\n",
       "    AUC-ROC  \n",
       "0  0.848188  \n",
       "1  0.867001  "
      ]
     },
     "execution_count": 36,
     "metadata": {},
     "output_type": "execute_result"
    }
   ],
   "source": [
    "best_models"
   ]
  },
  {
   "cell_type": "markdown",
   "metadata": {},
   "source": [
    "#### Логистическая регрессия"
   ]
  },
  {
   "cell_type": "code",
   "execution_count": 37,
   "metadata": {},
   "outputs": [
    {
     "name": "stdout",
     "output_type": "stream",
     "text": [
      "F1 : 0.6493506493506493\n",
      "AUC-ROC : 0.8662871597896569\n"
     ]
    }
   ],
   "source": [
    "model_logistic = LogisticRegression(random_state=12, solver='liblinear', class_weight='balanced')\n",
    "model_logistic.fit(features_train, target_train)\n",
    "predicted_valid = model.predict(features_valid)\n",
    "probabilities_valid = model.predict_proba(features_valid)[:,1]\n",
    "\n",
    "best_f1_b = f1_score(target_valid, predicted_valid)\n",
    "best_auc_roc = roc_auc_score(target_valid, probabilities_valid)\n",
    "\n",
    "print('F1 :', best_f1_b)\n",
    "print('AUC-ROC :', best_auc_roc)\n",
    "\n",
    "best_models.loc[2] = ['class_weight', model_logistic, best_f1_b, best_auc_roc]"
   ]
  },
  {
   "cell_type": "markdown",
   "metadata": {},
   "source": [
    "#### Вывод"
   ]
  },
  {
   "cell_type": "code",
   "execution_count": 38,
   "metadata": {},
   "outputs": [
    {
     "data": {
      "text/html": [
       "<div>\n",
       "<style scoped>\n",
       "    .dataframe tbody tr th:only-of-type {\n",
       "        vertical-align: middle;\n",
       "    }\n",
       "\n",
       "    .dataframe tbody tr th {\n",
       "        vertical-align: top;\n",
       "    }\n",
       "\n",
       "    .dataframe thead th {\n",
       "        text-align: right;\n",
       "    }\n",
       "</style>\n",
       "<table border=\"1\" class=\"dataframe\">\n",
       "  <thead>\n",
       "    <tr style=\"text-align: right;\">\n",
       "      <th></th>\n",
       "      <th>method</th>\n",
       "      <th>model</th>\n",
       "      <th>F1</th>\n",
       "      <th>AUC-ROC</th>\n",
       "    </tr>\n",
       "  </thead>\n",
       "  <tbody>\n",
       "    <tr>\n",
       "      <th>0</th>\n",
       "      <td>class_weight</td>\n",
       "      <td>DecisionTreeClassifier(class_weight='balanced'...</td>\n",
       "      <td>0.585062</td>\n",
       "      <td>0.848188</td>\n",
       "    </tr>\n",
       "    <tr>\n",
       "      <th>1</th>\n",
       "      <td>class_weight</td>\n",
       "      <td>RandomForestClassifier(max_depth=18, n_estimat...</td>\n",
       "      <td>0.658960</td>\n",
       "      <td>0.867001</td>\n",
       "    </tr>\n",
       "    <tr>\n",
       "      <th>2</th>\n",
       "      <td>class_weight</td>\n",
       "      <td>LogisticRegression(class_weight='balanced', ra...</td>\n",
       "      <td>0.649351</td>\n",
       "      <td>0.866287</td>\n",
       "    </tr>\n",
       "  </tbody>\n",
       "</table>\n",
       "</div>"
      ],
      "text/plain": [
       "         method                                              model        F1  \\\n",
       "0  class_weight  DecisionTreeClassifier(class_weight='balanced'...  0.585062   \n",
       "1  class_weight  RandomForestClassifier(max_depth=18, n_estimat...  0.658960   \n",
       "2  class_weight  LogisticRegression(class_weight='balanced', ra...  0.649351   \n",
       "\n",
       "    AUC-ROC  \n",
       "0  0.848188  \n",
       "1  0.867001  \n",
       "2  0.866287  "
      ]
     },
     "execution_count": 38,
     "metadata": {},
     "output_type": "execute_result"
    }
   ],
   "source": [
    "best_models"
   ]
  },
  {
   "cell_type": "markdown",
   "metadata": {},
   "source": [
    "Самое большое значение метрики *F1-меры* принадлежит модели **случайного леса** - **0.659**"
   ]
  },
  {
   "cell_type": "markdown",
   "metadata": {},
   "source": [
    "### Увеличение выборки"
   ]
  },
  {
   "cell_type": "code",
   "execution_count": 39,
   "metadata": {},
   "outputs": [],
   "source": [
    "def upsample(features, target, repeat):\n",
    "    features_zeros = features[target == 0]\n",
    "    features_ones = features[target == 1]\n",
    "    target_zeros = target[target == 0]\n",
    "    target_ones = target[target == 1]\n",
    "\n",
    "    features_upsampled = pd.concat([features_zeros] + [features_ones] * repeat)\n",
    "    target_upsampled = pd.concat([target_zeros] + [target_ones] * repeat)\n",
    "    \n",
    "    features_upsampled, target_upsampled = shuffle(\n",
    "        features_upsampled, target_upsampled, random_state=12)\n",
    "    \n",
    "    return features_upsampled, target_upsampled\n",
    "\n",
    "features_upsampled, target_upsampled = upsample(features_train, target_train, 4)"
   ]
  },
  {
   "cell_type": "markdown",
   "metadata": {},
   "source": [
    "#### Дерево решений"
   ]
  },
  {
   "cell_type": "code",
   "execution_count": 40,
   "metadata": {},
   "outputs": [
    {
     "name": "stdout",
     "output_type": "stream",
     "text": [
      "best_model: DecisionTreeClassifier(max_depth=22, min_samples_leaf=22, min_samples_split=22,\n",
      "                       random_state=12)\n",
      "F1: 0.5953878406708595\n",
      "AUC-ROC: 0.8537647367823008\n"
     ]
    }
   ],
   "source": [
    "model = None\n",
    "best_f1 = 0\n",
    "best_auc_roc = 0\n",
    "\n",
    "for depth in range(2, 23, 5):\n",
    "    for samples_split in range(2, 23, 5):\n",
    "        for samples_leaf in range(2, 23, 5):\n",
    "            model = DecisionTreeClassifier(\n",
    "                random_state=12,\n",
    "                max_depth=depth,\n",
    "                min_samples_split=samples_split,\n",
    "                min_samples_leaf=samples_leaf)\n",
    "            \n",
    "            model.fit(features_upsampled, target_upsampled)\n",
    "            \n",
    "            predicted_valid = model.predict(features_valid)\n",
    "            probabilities_valid = model.predict_proba(features_valid)[:,1]\n",
    "    \n",
    "            f1 = f1_score(target_valid, predicted_valid)\n",
    "            auc_roc = roc_auc_score(target_valid, probabilities_valid)\n",
    "    \n",
    "            if f1 > best_f1:\n",
    "                model = model\n",
    "                best_f1 = f1\n",
    "                best_auc_roc = auc_roc\n",
    "\n",
    "\n",
    "print('best_model:', model)\n",
    "print('F1:', best_f1)\n",
    "print('AUC-ROC:', best_auc_roc)\n",
    "\n",
    "best_models.loc[3] = ['upsample', model, best_f1, best_auc_roc]"
   ]
  },
  {
   "cell_type": "markdown",
   "metadata": {},
   "source": [
    "#### Случайный лес"
   ]
  },
  {
   "cell_type": "code",
   "execution_count": 41,
   "metadata": {},
   "outputs": [
    {
     "name": "stdout",
     "output_type": "stream",
     "text": [
      "best_model: RandomForestClassifier(max_depth=22, min_samples_split=22, n_estimators=210,\n",
      "                       random_state=12)\n",
      "F1: 0.6535433070866141\n",
      "AUC-ROC: 0.8604064175904418 0.8604064175904418\n"
     ]
    }
   ],
   "source": [
    "model = None\n",
    "best_f1 = 0\n",
    "best_auc_roc = 0\n",
    "best_est = 0\n",
    "best_depth = 0\n",
    "best_samples = 0\n",
    "\n",
    "for est in range(10, 211, 40):\n",
    "    for samples_split in range(2, 25, 4):\n",
    "        for depth in range(2, 25, 4):\n",
    "            model = RandomForestClassifier(\n",
    "                random_state=12,\n",
    "                max_depth=depth,\n",
    "                n_estimators=est,\n",
    "                min_samples_split=samples_split)\n",
    "            \n",
    "            model.fit(features_upsampled, target_upsampled)\n",
    "            \n",
    "            predicted_valid = model.predict(features_valid)\n",
    "            probabilities_valid = model.predict_proba(features_valid)[:,1]\n",
    "            \n",
    "            f1 = f1_score(target_valid, predicted_valid)\n",
    "            auc_roc = roc_auc_score(target_valid, probabilities_valid)\n",
    "        \n",
    "            if f1_score(target_valid, predicted_valid) > best_f1:\n",
    "                model = model\n",
    "                best_f1 = f1\n",
    "                best_auc_roc = auc_roc\n",
    "                best_est = est\n",
    "                best_depth = depth\n",
    "                best_samples = samples_split\n",
    "\n",
    "print('best_model:', model)\n",
    "print('F1:', best_f1)\n",
    "print('AUC-ROC:', best_auc_roc, best_auc_roc)"
   ]
  },
  {
   "cell_type": "code",
   "execution_count": 42,
   "metadata": {},
   "outputs": [],
   "source": [
    "model_info = \"RandomForestClassifier(max_depth={}, n_estimators={}, min_samples_split={} random_state={})\"\\\n",
    ".format(best_depth, best_est, best_samples, 12)\n",
    "best_models.loc[4] = ['upsample', model_info, best_f1, best_auc_roc]"
   ]
  },
  {
   "cell_type": "markdown",
   "metadata": {},
   "source": [
    "#### Логистическая регрессия"
   ]
  },
  {
   "cell_type": "code",
   "execution_count": 43,
   "metadata": {},
   "outputs": [
    {
     "name": "stdout",
     "output_type": "stream",
     "text": [
      "F1 : 0.6378653113087674\n",
      "AUC-ROC : 0.864925480173684\n"
     ]
    }
   ],
   "source": [
    "model_logistic = LogisticRegression(random_state=12, solver='liblinear')\n",
    "model_logistic.fit(features_upsampled, target_upsampled)\n",
    "predicted_valid = model.predict(features_valid)\n",
    "probabilities_valid = model.predict_proba(features_valid)[:,1]\n",
    "\n",
    "best_f1_u = f1_score(target_valid, predicted_valid)\n",
    "best_auc_roc = roc_auc_score(target_valid, probabilities_valid)\n",
    "\n",
    "print('F1 :', best_f1_u)\n",
    "print('AUC-ROC :', best_auc_roc)\n",
    "\n",
    "best_models.loc[5] = ['upsample', model_logistic, best_f1_u, best_auc_roc]"
   ]
  },
  {
   "cell_type": "markdown",
   "metadata": {},
   "source": [
    "#### Вывод"
   ]
  },
  {
   "cell_type": "code",
   "execution_count": 44,
   "metadata": {},
   "outputs": [
    {
     "data": {
      "text/html": [
       "<div>\n",
       "<style scoped>\n",
       "    .dataframe tbody tr th:only-of-type {\n",
       "        vertical-align: middle;\n",
       "    }\n",
       "\n",
       "    .dataframe tbody tr th {\n",
       "        vertical-align: top;\n",
       "    }\n",
       "\n",
       "    .dataframe thead th {\n",
       "        text-align: right;\n",
       "    }\n",
       "</style>\n",
       "<table border=\"1\" class=\"dataframe\">\n",
       "  <thead>\n",
       "    <tr style=\"text-align: right;\">\n",
       "      <th></th>\n",
       "      <th>method</th>\n",
       "      <th>model</th>\n",
       "      <th>F1</th>\n",
       "      <th>AUC-ROC</th>\n",
       "    </tr>\n",
       "  </thead>\n",
       "  <tbody>\n",
       "    <tr>\n",
       "      <th>0</th>\n",
       "      <td>class_weight</td>\n",
       "      <td>DecisionTreeClassifier(class_weight='balanced'...</td>\n",
       "      <td>0.585062</td>\n",
       "      <td>0.848188</td>\n",
       "    </tr>\n",
       "    <tr>\n",
       "      <th>1</th>\n",
       "      <td>class_weight</td>\n",
       "      <td>RandomForestClassifier(max_depth=18, n_estimat...</td>\n",
       "      <td>0.658960</td>\n",
       "      <td>0.867001</td>\n",
       "    </tr>\n",
       "    <tr>\n",
       "      <th>2</th>\n",
       "      <td>class_weight</td>\n",
       "      <td>LogisticRegression(class_weight='balanced', ra...</td>\n",
       "      <td>0.649351</td>\n",
       "      <td>0.866287</td>\n",
       "    </tr>\n",
       "    <tr>\n",
       "      <th>3</th>\n",
       "      <td>upsample</td>\n",
       "      <td>DecisionTreeClassifier(max_depth=22, min_sampl...</td>\n",
       "      <td>0.595388</td>\n",
       "      <td>0.853765</td>\n",
       "    </tr>\n",
       "    <tr>\n",
       "      <th>4</th>\n",
       "      <td>upsample</td>\n",
       "      <td>RandomForestClassifier(max_depth=18, n_estimat...</td>\n",
       "      <td>0.653543</td>\n",
       "      <td>0.860406</td>\n",
       "    </tr>\n",
       "    <tr>\n",
       "      <th>5</th>\n",
       "      <td>upsample</td>\n",
       "      <td>LogisticRegression(random_state=12, solver='li...</td>\n",
       "      <td>0.637865</td>\n",
       "      <td>0.864925</td>\n",
       "    </tr>\n",
       "  </tbody>\n",
       "</table>\n",
       "</div>"
      ],
      "text/plain": [
       "         method                                              model        F1  \\\n",
       "0  class_weight  DecisionTreeClassifier(class_weight='balanced'...  0.585062   \n",
       "1  class_weight  RandomForestClassifier(max_depth=18, n_estimat...  0.658960   \n",
       "2  class_weight  LogisticRegression(class_weight='balanced', ra...  0.649351   \n",
       "3      upsample  DecisionTreeClassifier(max_depth=22, min_sampl...  0.595388   \n",
       "4      upsample  RandomForestClassifier(max_depth=18, n_estimat...  0.653543   \n",
       "5      upsample  LogisticRegression(random_state=12, solver='li...  0.637865   \n",
       "\n",
       "    AUC-ROC  \n",
       "0  0.848188  \n",
       "1  0.867001  \n",
       "2  0.866287  \n",
       "3  0.853765  \n",
       "4  0.860406  \n",
       "5  0.864925  "
      ]
     },
     "execution_count": 44,
     "metadata": {},
     "output_type": "execute_result"
    }
   ],
   "source": [
    "best_models"
   ]
  },
  {
   "cell_type": "markdown",
   "metadata": {},
   "source": [
    "Самое большое значение метрики *F1-меры* принадлежит модели **случайного леса** - **0.654**"
   ]
  },
  {
   "cell_type": "markdown",
   "metadata": {},
   "source": [
    "### Уменьшение выборки"
   ]
  },
  {
   "cell_type": "code",
   "execution_count": 45,
   "metadata": {},
   "outputs": [],
   "source": [
    "def downsample(features, target, fraction):\n",
    "    features_zeros = features[target == 0]\n",
    "    features_ones = features[target == 1]\n",
    "    target_zeros = target[target == 0]\n",
    "    target_ones = target[target == 1]\n",
    "\n",
    "    features_downsampled = pd.concat(\n",
    "        [features_zeros.sample(frac=fraction, random_state=12)] + [features_ones])\n",
    "    target_downsampled = pd.concat(\n",
    "        [target_zeros.sample(frac=fraction, random_state=12)] + [target_ones])\n",
    "    \n",
    "    features_downsampled, target_downsampled = shuffle(\n",
    "        features_downsampled, target_downsampled, random_state=12)\n",
    "    \n",
    "    return features_downsampled, target_downsampled\n",
    "\n",
    "features_downsampled, target_downsampled = downsample(features_train, target_train, 0.25)"
   ]
  },
  {
   "cell_type": "markdown",
   "metadata": {},
   "source": [
    "#### Дерево решений"
   ]
  },
  {
   "cell_type": "code",
   "execution_count": 46,
   "metadata": {},
   "outputs": [
    {
     "name": "stdout",
     "output_type": "stream",
     "text": [
      "best_model: DecisionTreeClassifier(max_depth=22, min_samples_leaf=22, min_samples_split=22,\n",
      "                       random_state=12)\n",
      "F1: 0.5708154506437768\n",
      "AUC-ROC: 0.8248965700948333\n"
     ]
    }
   ],
   "source": [
    "model = None\n",
    "best_f1 = 0\n",
    "best_auc_roc = 0\n",
    "\n",
    "for depth in range(2, 23, 5):\n",
    "    for samples_split in range(2, 23, 5):\n",
    "        for samples_leaf in range(2, 23, 5):\n",
    "            model = DecisionTreeClassifier(\n",
    "                random_state=12,\n",
    "                max_depth=depth,\n",
    "                min_samples_split=samples_split,\n",
    "                min_samples_leaf=samples_leaf)\n",
    "            \n",
    "            model.fit(features_downsampled, target_downsampled)\n",
    "            \n",
    "            predicted_valid = model.predict(features_valid)\n",
    "            probabilities_valid = model.predict_proba(features_valid)[:,1]\n",
    "    \n",
    "            f1 = f1_score(target_valid, predicted_valid)\n",
    "            auc_roc = roc_auc_score(target_valid, probabilities_valid)\n",
    "    \n",
    "            if f1 > best_f1:\n",
    "                model = model\n",
    "                best_f1 = f1\n",
    "                best_auc_roc = auc_roc\n",
    "\n",
    "\n",
    "print('best_model:', model)\n",
    "print('F1:', best_f1)\n",
    "print('AUC-ROC:', best_auc_roc)\n",
    "\n",
    "best_models.loc[6] = ['downsample', model, best_f1, best_auc_roc]"
   ]
  },
  {
   "cell_type": "markdown",
   "metadata": {},
   "source": [
    "#### Случайный лес"
   ]
  },
  {
   "cell_type": "code",
   "execution_count": 47,
   "metadata": {},
   "outputs": [
    {
     "name": "stdout",
     "output_type": "stream",
     "text": [
      "best_model: RandomForestClassifier(max_depth=22, min_samples_split=22, n_estimators=210,\n",
      "                       random_state=12)\n",
      "F1: 0.6079664570230607\n",
      "AUC-ROC: 0.8619208437570436\n"
     ]
    }
   ],
   "source": [
    "model = None\n",
    "best_f1 = 0\n",
    "best_auc_roc = 0\n",
    "best_est = 0\n",
    "best_depth = 0\n",
    "best_samples = 0\n",
    "\n",
    "for est in range(10, 211, 40):\n",
    "    for samples_split in range(2, 25, 4):\n",
    "        for depth in range(2, 25, 4):\n",
    "            model = RandomForestClassifier(\n",
    "                random_state=12,\n",
    "                max_depth=depth,\n",
    "                n_estimators=est,\n",
    "                min_samples_split=samples_split)\n",
    "            \n",
    "            model.fit(features_downsampled, target_downsampled)\n",
    "            \n",
    "            predicted_valid = model.predict(features_valid)\n",
    "            probabilities_valid = model.predict_proba(features_valid)[:,1]\n",
    "            \n",
    "            f1 = f1_score(target_valid, predicted_valid)\n",
    "            auc_roc = roc_auc_score(target_valid, probabilities_valid)\n",
    "        \n",
    "            if f1_score(target_valid, predicted_valid) > best_f1:\n",
    "                model = model\n",
    "                best_f1 = f1\n",
    "                best_auc_roc = auc_roc\n",
    "                best_est = est\n",
    "                best_depth = depth\n",
    "                best_samples = samples_split\n",
    "\n",
    "print('best_model:', model)\n",
    "print('F1:', best_f1)\n",
    "print('AUC-ROC:', best_auc_roc)"
   ]
  },
  {
   "cell_type": "code",
   "execution_count": 48,
   "metadata": {},
   "outputs": [],
   "source": [
    "model_info = \"RandomForestClassifier(max_depth={}, n_estimators={}, min_samples_split={} random_state={})\"\\\n",
    ".format(best_depth, best_est, best_samples, 12)\n",
    "best_models.loc[7] = ['downsample', model_info, best_f1, best_auc_roc]"
   ]
  },
  {
   "cell_type": "markdown",
   "metadata": {},
   "source": [
    "#### Логистическая регрессия"
   ]
  },
  {
   "cell_type": "code",
   "execution_count": 49,
   "metadata": {},
   "outputs": [
    {
     "name": "stdout",
     "output_type": "stream",
     "text": [
      "F1 : 0.5985699693564861\n",
      "AUC-ROC : 0.8642716504264796\n"
     ]
    }
   ],
   "source": [
    "model_logistic = LogisticRegression(random_state=12, solver='liblinear')\n",
    "model_logistic.fit(features_downsampled, target_downsampled)\n",
    "predicted_valid = model.predict(features_valid)\n",
    "probabilities_valid = model.predict_proba(features_valid)[:,1]\n",
    "\n",
    "best_f1_d = f1_score(target_valid, predicted_valid)\n",
    "best_auc_roc = roc_auc_score(target_valid, probabilities_valid)\n",
    "\n",
    "print('F1 :', best_f1_d)\n",
    "print('AUC-ROC :', best_auc_roc)\n",
    "\n",
    "best_models.loc[8] = ['downsample', model_logistic, best_f1_d, best_auc_roc]"
   ]
  },
  {
   "cell_type": "markdown",
   "metadata": {},
   "source": [
    "#### Вывод"
   ]
  },
  {
   "cell_type": "code",
   "execution_count": 50,
   "metadata": {},
   "outputs": [
    {
     "data": {
      "text/html": [
       "<div>\n",
       "<style scoped>\n",
       "    .dataframe tbody tr th:only-of-type {\n",
       "        vertical-align: middle;\n",
       "    }\n",
       "\n",
       "    .dataframe tbody tr th {\n",
       "        vertical-align: top;\n",
       "    }\n",
       "\n",
       "    .dataframe thead th {\n",
       "        text-align: right;\n",
       "    }\n",
       "</style>\n",
       "<table border=\"1\" class=\"dataframe\">\n",
       "  <thead>\n",
       "    <tr style=\"text-align: right;\">\n",
       "      <th></th>\n",
       "      <th>method</th>\n",
       "      <th>model</th>\n",
       "      <th>F1</th>\n",
       "      <th>AUC-ROC</th>\n",
       "    </tr>\n",
       "  </thead>\n",
       "  <tbody>\n",
       "    <tr>\n",
       "      <th>0</th>\n",
       "      <td>class_weight</td>\n",
       "      <td>DecisionTreeClassifier(class_weight='balanced'...</td>\n",
       "      <td>0.585062</td>\n",
       "      <td>0.848188</td>\n",
       "    </tr>\n",
       "    <tr>\n",
       "      <th>1</th>\n",
       "      <td>class_weight</td>\n",
       "      <td>RandomForestClassifier(max_depth=18, n_estimat...</td>\n",
       "      <td>0.658960</td>\n",
       "      <td>0.867001</td>\n",
       "    </tr>\n",
       "    <tr>\n",
       "      <th>2</th>\n",
       "      <td>class_weight</td>\n",
       "      <td>LogisticRegression(class_weight='balanced', ra...</td>\n",
       "      <td>0.649351</td>\n",
       "      <td>0.866287</td>\n",
       "    </tr>\n",
       "    <tr>\n",
       "      <th>3</th>\n",
       "      <td>upsample</td>\n",
       "      <td>DecisionTreeClassifier(max_depth=22, min_sampl...</td>\n",
       "      <td>0.595388</td>\n",
       "      <td>0.853765</td>\n",
       "    </tr>\n",
       "    <tr>\n",
       "      <th>4</th>\n",
       "      <td>upsample</td>\n",
       "      <td>RandomForestClassifier(max_depth=18, n_estimat...</td>\n",
       "      <td>0.653543</td>\n",
       "      <td>0.860406</td>\n",
       "    </tr>\n",
       "    <tr>\n",
       "      <th>5</th>\n",
       "      <td>upsample</td>\n",
       "      <td>LogisticRegression(random_state=12, solver='li...</td>\n",
       "      <td>0.637865</td>\n",
       "      <td>0.864925</td>\n",
       "    </tr>\n",
       "    <tr>\n",
       "      <th>6</th>\n",
       "      <td>downsample</td>\n",
       "      <td>DecisionTreeClassifier(max_depth=22, min_sampl...</td>\n",
       "      <td>0.570815</td>\n",
       "      <td>0.824897</td>\n",
       "    </tr>\n",
       "    <tr>\n",
       "      <th>7</th>\n",
       "      <td>downsample</td>\n",
       "      <td>RandomForestClassifier(max_depth=6, n_estimato...</td>\n",
       "      <td>0.607966</td>\n",
       "      <td>0.861921</td>\n",
       "    </tr>\n",
       "    <tr>\n",
       "      <th>8</th>\n",
       "      <td>downsample</td>\n",
       "      <td>LogisticRegression(random_state=12, solver='li...</td>\n",
       "      <td>0.598570</td>\n",
       "      <td>0.864272</td>\n",
       "    </tr>\n",
       "  </tbody>\n",
       "</table>\n",
       "</div>"
      ],
      "text/plain": [
       "         method                                              model        F1  \\\n",
       "0  class_weight  DecisionTreeClassifier(class_weight='balanced'...  0.585062   \n",
       "1  class_weight  RandomForestClassifier(max_depth=18, n_estimat...  0.658960   \n",
       "2  class_weight  LogisticRegression(class_weight='balanced', ra...  0.649351   \n",
       "3      upsample  DecisionTreeClassifier(max_depth=22, min_sampl...  0.595388   \n",
       "4      upsample  RandomForestClassifier(max_depth=18, n_estimat...  0.653543   \n",
       "5      upsample  LogisticRegression(random_state=12, solver='li...  0.637865   \n",
       "6    downsample  DecisionTreeClassifier(max_depth=22, min_sampl...  0.570815   \n",
       "7    downsample  RandomForestClassifier(max_depth=6, n_estimato...  0.607966   \n",
       "8    downsample  LogisticRegression(random_state=12, solver='li...  0.598570   \n",
       "\n",
       "    AUC-ROC  \n",
       "0  0.848188  \n",
       "1  0.867001  \n",
       "2  0.866287  \n",
       "3  0.853765  \n",
       "4  0.860406  \n",
       "5  0.864925  \n",
       "6  0.824897  \n",
       "7  0.861921  \n",
       "8  0.864272  "
      ]
     },
     "execution_count": 50,
     "metadata": {},
     "output_type": "execute_result"
    }
   ],
   "source": [
    "best_models"
   ]
  },
  {
   "cell_type": "markdown",
   "metadata": {},
   "source": [
    "Самое большое значение метрики *F1-меры* принадлежит модели **случайного леса** - **0.608**"
   ]
  },
  {
   "cell_type": "markdown",
   "metadata": {},
   "source": [
    "### Вывод"
   ]
  },
  {
   "cell_type": "markdown",
   "metadata": {},
   "source": [
    "Рассмотрим наилучшие модели каждого метода"
   ]
  },
  {
   "cell_type": "code",
   "execution_count": 51,
   "metadata": {},
   "outputs": [
    {
     "data": {
      "text/html": [
       "<div>\n",
       "<style scoped>\n",
       "    .dataframe tbody tr th:only-of-type {\n",
       "        vertical-align: middle;\n",
       "    }\n",
       "\n",
       "    .dataframe tbody tr th {\n",
       "        vertical-align: top;\n",
       "    }\n",
       "\n",
       "    .dataframe thead th {\n",
       "        text-align: right;\n",
       "    }\n",
       "</style>\n",
       "<table border=\"1\" class=\"dataframe\">\n",
       "  <thead>\n",
       "    <tr style=\"text-align: right;\">\n",
       "      <th></th>\n",
       "      <th>method</th>\n",
       "      <th>model</th>\n",
       "      <th>F1</th>\n",
       "      <th>AUC-ROC</th>\n",
       "    </tr>\n",
       "  </thead>\n",
       "  <tbody>\n",
       "    <tr>\n",
       "      <th>1</th>\n",
       "      <td>class_weight</td>\n",
       "      <td>RandomForestClassifier(max_depth=18, n_estimat...</td>\n",
       "      <td>0.658960</td>\n",
       "      <td>0.867001</td>\n",
       "    </tr>\n",
       "    <tr>\n",
       "      <th>4</th>\n",
       "      <td>upsample</td>\n",
       "      <td>RandomForestClassifier(max_depth=18, n_estimat...</td>\n",
       "      <td>0.653543</td>\n",
       "      <td>0.860406</td>\n",
       "    </tr>\n",
       "    <tr>\n",
       "      <th>2</th>\n",
       "      <td>class_weight</td>\n",
       "      <td>LogisticRegression(class_weight='balanced', ra...</td>\n",
       "      <td>0.649351</td>\n",
       "      <td>0.866287</td>\n",
       "    </tr>\n",
       "    <tr>\n",
       "      <th>5</th>\n",
       "      <td>upsample</td>\n",
       "      <td>LogisticRegression(random_state=12, solver='li...</td>\n",
       "      <td>0.637865</td>\n",
       "      <td>0.864925</td>\n",
       "    </tr>\n",
       "    <tr>\n",
       "      <th>7</th>\n",
       "      <td>downsample</td>\n",
       "      <td>RandomForestClassifier(max_depth=6, n_estimato...</td>\n",
       "      <td>0.607966</td>\n",
       "      <td>0.861921</td>\n",
       "    </tr>\n",
       "    <tr>\n",
       "      <th>8</th>\n",
       "      <td>downsample</td>\n",
       "      <td>LogisticRegression(random_state=12, solver='li...</td>\n",
       "      <td>0.598570</td>\n",
       "      <td>0.864272</td>\n",
       "    </tr>\n",
       "    <tr>\n",
       "      <th>3</th>\n",
       "      <td>upsample</td>\n",
       "      <td>DecisionTreeClassifier(max_depth=22, min_sampl...</td>\n",
       "      <td>0.595388</td>\n",
       "      <td>0.853765</td>\n",
       "    </tr>\n",
       "    <tr>\n",
       "      <th>0</th>\n",
       "      <td>class_weight</td>\n",
       "      <td>DecisionTreeClassifier(class_weight='balanced'...</td>\n",
       "      <td>0.585062</td>\n",
       "      <td>0.848188</td>\n",
       "    </tr>\n",
       "    <tr>\n",
       "      <th>6</th>\n",
       "      <td>downsample</td>\n",
       "      <td>DecisionTreeClassifier(max_depth=22, min_sampl...</td>\n",
       "      <td>0.570815</td>\n",
       "      <td>0.824897</td>\n",
       "    </tr>\n",
       "  </tbody>\n",
       "</table>\n",
       "</div>"
      ],
      "text/plain": [
       "         method                                              model        F1  \\\n",
       "1  class_weight  RandomForestClassifier(max_depth=18, n_estimat...  0.658960   \n",
       "4      upsample  RandomForestClassifier(max_depth=18, n_estimat...  0.653543   \n",
       "2  class_weight  LogisticRegression(class_weight='balanced', ra...  0.649351   \n",
       "5      upsample  LogisticRegression(random_state=12, solver='li...  0.637865   \n",
       "7    downsample  RandomForestClassifier(max_depth=6, n_estimato...  0.607966   \n",
       "8    downsample  LogisticRegression(random_state=12, solver='li...  0.598570   \n",
       "3      upsample  DecisionTreeClassifier(max_depth=22, min_sampl...  0.595388   \n",
       "0  class_weight  DecisionTreeClassifier(class_weight='balanced'...  0.585062   \n",
       "6    downsample  DecisionTreeClassifier(max_depth=22, min_sampl...  0.570815   \n",
       "\n",
       "    AUC-ROC  \n",
       "1  0.867001  \n",
       "4  0.860406  \n",
       "2  0.866287  \n",
       "5  0.864925  \n",
       "7  0.861921  \n",
       "8  0.864272  \n",
       "3  0.853765  \n",
       "0  0.848188  \n",
       "6  0.824897  "
      ]
     },
     "execution_count": 51,
     "metadata": {},
     "output_type": "execute_result"
    }
   ],
   "source": [
    "best_models.sort_values('F1', ascending=False)"
   ]
  },
  {
   "cell_type": "markdown",
   "metadata": {},
   "source": [
    "Самый лучший результат продемонстрировала модель **RandomForestClassifier**, обученная методом взвешивания классов. Взглянем на гиперпараметры:"
   ]
  },
  {
   "cell_type": "code",
   "execution_count": 52,
   "metadata": {},
   "outputs": [
    {
     "data": {
      "text/plain": [
       "'RandomForestClassifier(max_depth=18, n_estimators=210, min_samples_split=10 random_state=12)'"
      ]
     },
     "execution_count": 52,
     "metadata": {},
     "output_type": "execute_result"
    }
   ],
   "source": [
    "best_models.loc[1, 'model']"
   ]
  },
  {
   "cell_type": "markdown",
   "metadata": {},
   "source": [
    "## Тестирование модели"
   ]
  },
  {
   "cell_type": "markdown",
   "metadata": {},
   "source": [
    "Объединим тренировочную и валидационную выборки, сбалансируем, на новой выборке обучим лучшую модель и проверим на тестовой выборке."
   ]
  },
  {
   "cell_type": "code",
   "execution_count": 53,
   "metadata": {},
   "outputs": [
    {
     "name": "stdout",
     "output_type": "stream",
     "text": [
      "(7272, 11)\n",
      "(7272,)\n"
     ]
    }
   ],
   "source": [
    "features_train = pd.concat([features_train] + [features_valid])\n",
    "target_train = pd.concat([target_train] + [target_valid])\n",
    "print(features_train.shape)\n",
    "print(target_train.shape)"
   ]
  },
  {
   "cell_type": "code",
   "execution_count": 54,
   "metadata": {},
   "outputs": [
    {
     "name": "stdout",
     "output_type": "stream",
     "text": [
      "F1: 0.6158357771260997\n",
      "AUC-ROC: 0.8553521168709327\n"
     ]
    }
   ],
   "source": [
    "model = RandomForestClassifier(class_weight='balanced', max_depth=18,\n",
    "                       min_samples_split=10, n_estimators=210, random_state=12)\n",
    "\n",
    "model.fit(features_train, target_train)\n",
    "\n",
    "predicted_test = model.predict(features_test)\n",
    "probabilities_test = model.predict_proba(features_test)[:,1]\n",
    "\n",
    "f1 = f1_score(target_test, predicted_test)\n",
    "auc_roc = roc_auc_score(target_test, probabilities_test)\n",
    "\n",
    "print('F1:', f1)\n",
    "print('AUC-ROC:', auc_roc)\n",
    "\n",
    "probabilities_valid = model.predict_proba(features_valid)\n",
    "probabilities_one_valid = probabilities_valid[:, 1]"
   ]
  },
  {
   "cell_type": "markdown",
   "metadata": {},
   "source": [
    "На тестовых данных модель `RandomForestClassifier` выдала метрики: F1 - 0.616, AUC-ROC: 0.855. Результаты просели, но качество модели все еще удовлитворительно: F1-мера больше 0.59."
   ]
  },
  {
   "cell_type": "markdown",
   "metadata": {},
   "source": [
    "## Общий вывод"
   ]
  },
  {
   "cell_type": "markdown",
   "metadata": {},
   "source": [
    "В данном исследовании необходимо создать модель с предельно большим значением F1-меры, которое будет больше значения 0.59, для предсказания оттока клиентов банка.\n",
    "\n",
    "Для решения задачи предсказания ухода клиента банка были построены и обучены модели трех типов: решающее дерево, случайный лес и логистическая регрессия. Обучение проходило как и без учета дисбаланса, так и с увеличением качества моделелей при дисбалансе классов с помощью техник балансировки, увеличением и уменьшением выборок.\n",
    "\n",
    "___\n",
    "\n",
    "Модели без учета дисбаланса выдали следующие показатели:\n",
    "\n",
    "- Модель **дерево решений**\n",
    "  - F1: 0.606060\n",
    "  - AUC-ROC: 0.843193\n",
    "  \n",
    "- Модель **случайный лес**\n",
    "  - F1: 0.622366\n",
    "  - AUC-ROC: 0.846225\n",
    "  \n",
    "- Модель **логистическая регрессия**\n",
    "  - F1 : 0.600343\n",
    "  - AUC-ROC : 0.864210\n",
    "\n",
    "Самое большое значение метрики *F1-меры* принадлежит модели **случайного леса** - **0.622**\n",
    "\n",
    "___\n",
    "\n",
    "Результаты обучения моделей с помощью техники взвешивания классов:\n",
    "\n",
    "- Модель **дерево решений**\n",
    "  - F1: \t0.585062\n",
    "  - AUC-ROC: 0.848188\n",
    "  \n",
    "- Модель **случайный лес**\n",
    "  - F1: 0.658960\t\n",
    "  - AUC-ROC: 0.867001\n",
    "  \n",
    "- Модель **логистическая регрессия**\n",
    "  - F1 : \t0.649351\n",
    "  - AUC-ROC : 0.866287\n",
    "\n",
    "Качество всех трех моделей улучшилось.`RandomForestClassifier` показал наилучшую метрику *F1-мера* среди остальных моделей - **0.66**, применив на ней технику взвешивания классов.\n",
    "\n",
    "___\n",
    "\n",
    "Результаты обучения моделей с помощью техники увеличения выборки:\n",
    "\n",
    "- Модель **дерево решений**\n",
    "  - F1: \t0.595388\n",
    "  - AUC-ROC: 0.853765\n",
    "  \n",
    "- Модель **случайный лес**\n",
    "  - F1: 0.653543\n",
    "  - AUC-ROC: 0.860406\n",
    "  \n",
    "- Модель **логистическая регрессия**\n",
    "  - F1 : 0.637865\n",
    "  - AUC-ROC : 0.864925\n",
    "\n",
    "Все три модели показали удовлитворительные результаты метрики *F1-мера*. `RandomForestClassifier` показал наилучшую метрику *F1-мера* среди остальных моделей - **0.654**.\n",
    "\n",
    "___\n",
    "\n",
    "Результаты обучения моделей с помощью техники уменьшения выборки:\n",
    "- Модель **дерево решений**\n",
    "  - F1: \t0.570815\n",
    "  - AUC-ROC: 0.824897\n",
    "  \n",
    "- Модель **случайный лес**\n",
    "  - F1: \t0.607966\t\n",
    "  - AUC-ROC: 0.861921\n",
    "  \n",
    "- Модель **логистическая регрессия**\n",
    "  - F1 : 0.598570\n",
    "  - AUC-ROC : 0.864272\n",
    "\n",
    "Среди всех техник борьбы с дисбалансом метод downsampling показал себя худше всех. `RandomForestClassifier` показал наилучшую метрику *F1-мера* среди остальных моделей - **0.608**.\n",
    "\n",
    "___\n",
    "\n",
    "После исследования моделей, на которых применяли методы борьбы с дисбалансом классов, была выбрана модель `RandomForestClassifier`, обученная на увеличенной выборке, с гиперпараметрами глубина дерева 9, количество дереьев 61 для финального тестирования. Показатели данной модели на тестовой выборке просели, но остались в пределах допустимого: F1 - **0.616**, AUC-ROC: 0.863."
   ]
  }
 ],
 "metadata": {
  "ExecuteTimeLog": [
   {
    "duration": 2755,
    "start_time": "2023-06-10T11:55:11.208Z"
   },
   {
    "duration": 184,
    "start_time": "2023-06-10T11:55:13.964Z"
   },
   {
    "duration": 17,
    "start_time": "2023-06-10T11:55:14.150Z"
   },
   {
    "duration": 10,
    "start_time": "2023-06-10T11:55:14.168Z"
   },
   {
    "duration": 3,
    "start_time": "2023-06-10T11:55:14.180Z"
   },
   {
    "duration": 4,
    "start_time": "2023-06-10T11:55:14.185Z"
   },
   {
    "duration": 4,
    "start_time": "2023-06-10T11:55:14.190Z"
   },
   {
    "duration": 32,
    "start_time": "2023-06-10T11:55:14.196Z"
   },
   {
    "duration": 12,
    "start_time": "2023-06-10T11:55:14.230Z"
   },
   {
    "duration": 110,
    "start_time": "2023-06-10T11:55:14.244Z"
   },
   {
    "duration": 0,
    "start_time": "2023-06-10T11:55:14.356Z"
   },
   {
    "duration": 0,
    "start_time": "2023-06-10T11:55:14.357Z"
   },
   {
    "duration": 0,
    "start_time": "2023-06-10T11:55:14.358Z"
   },
   {
    "duration": 0,
    "start_time": "2023-06-10T11:55:14.359Z"
   },
   {
    "duration": 0,
    "start_time": "2023-06-10T11:55:14.359Z"
   },
   {
    "duration": 0,
    "start_time": "2023-06-10T11:55:14.360Z"
   },
   {
    "duration": 0,
    "start_time": "2023-06-10T11:55:14.361Z"
   },
   {
    "duration": 0,
    "start_time": "2023-06-10T11:55:14.362Z"
   },
   {
    "duration": 0,
    "start_time": "2023-06-10T11:55:14.363Z"
   },
   {
    "duration": 0,
    "start_time": "2023-06-10T11:55:14.364Z"
   },
   {
    "duration": 0,
    "start_time": "2023-06-10T11:55:14.365Z"
   },
   {
    "duration": 0,
    "start_time": "2023-06-10T11:55:14.366Z"
   },
   {
    "duration": 0,
    "start_time": "2023-06-10T11:55:14.367Z"
   },
   {
    "duration": 0,
    "start_time": "2023-06-10T11:55:14.368Z"
   },
   {
    "duration": 0,
    "start_time": "2023-06-10T11:55:14.368Z"
   },
   {
    "duration": 0,
    "start_time": "2023-06-10T11:55:14.369Z"
   },
   {
    "duration": 0,
    "start_time": "2023-06-10T11:55:14.370Z"
   },
   {
    "duration": 0,
    "start_time": "2023-06-10T11:55:14.371Z"
   },
   {
    "duration": 0,
    "start_time": "2023-06-10T11:55:14.372Z"
   },
   {
    "duration": 0,
    "start_time": "2023-06-10T11:55:14.373Z"
   },
   {
    "duration": 0,
    "start_time": "2023-06-10T11:55:14.374Z"
   },
   {
    "duration": 0,
    "start_time": "2023-06-10T11:55:14.375Z"
   },
   {
    "duration": 0,
    "start_time": "2023-06-10T11:55:14.406Z"
   },
   {
    "duration": 0,
    "start_time": "2023-06-10T11:55:14.406Z"
   },
   {
    "duration": 0,
    "start_time": "2023-06-10T11:55:14.407Z"
   },
   {
    "duration": 0,
    "start_time": "2023-06-10T11:55:14.408Z"
   },
   {
    "duration": 0,
    "start_time": "2023-06-10T11:55:14.409Z"
   },
   {
    "duration": 0,
    "start_time": "2023-06-10T11:55:14.410Z"
   },
   {
    "duration": 0,
    "start_time": "2023-06-10T11:55:14.411Z"
   },
   {
    "duration": 0,
    "start_time": "2023-06-10T11:55:14.412Z"
   },
   {
    "duration": 0,
    "start_time": "2023-06-10T11:55:14.413Z"
   },
   {
    "duration": 0,
    "start_time": "2023-06-10T11:55:14.414Z"
   },
   {
    "duration": 1743,
    "start_time": "2023-06-10T16:46:19.584Z"
   },
   {
    "duration": 349,
    "start_time": "2023-06-10T16:46:21.329Z"
   },
   {
    "duration": 19,
    "start_time": "2023-06-10T16:46:21.679Z"
   },
   {
    "duration": 15,
    "start_time": "2023-06-10T16:46:21.699Z"
   },
   {
    "duration": 3,
    "start_time": "2023-06-10T16:46:21.715Z"
   },
   {
    "duration": 8,
    "start_time": "2023-06-10T16:46:21.719Z"
   },
   {
    "duration": 14,
    "start_time": "2023-06-10T16:46:21.729Z"
   },
   {
    "duration": 5,
    "start_time": "2023-06-10T16:46:21.744Z"
   },
   {
    "duration": 10,
    "start_time": "2023-06-10T16:46:21.750Z"
   },
   {
    "duration": 313,
    "start_time": "2023-06-10T16:46:26.517Z"
   },
   {
    "duration": 1981,
    "start_time": "2023-06-12T17:25:17.847Z"
   },
   {
    "duration": 203,
    "start_time": "2023-06-12T17:25:19.831Z"
   },
   {
    "duration": 18,
    "start_time": "2023-06-12T17:25:20.036Z"
   },
   {
    "duration": 23,
    "start_time": "2023-06-12T17:25:20.056Z"
   },
   {
    "duration": 7,
    "start_time": "2023-06-12T17:25:20.080Z"
   },
   {
    "duration": 6,
    "start_time": "2023-06-12T17:25:20.089Z"
   },
   {
    "duration": 11,
    "start_time": "2023-06-12T17:25:20.098Z"
   },
   {
    "duration": 13,
    "start_time": "2023-06-12T17:25:20.110Z"
   },
   {
    "duration": 22,
    "start_time": "2023-06-12T17:25:20.125Z"
   },
   {
    "duration": 402,
    "start_time": "2023-06-12T17:25:20.150Z"
   },
   {
    "duration": 15,
    "start_time": "2023-06-12T17:25:20.553Z"
   },
   {
    "duration": 10,
    "start_time": "2023-06-12T17:25:20.570Z"
   },
   {
    "duration": 16,
    "start_time": "2023-06-12T17:25:20.582Z"
   },
   {
    "duration": 5,
    "start_time": "2023-06-12T17:25:20.600Z"
   },
   {
    "duration": 18,
    "start_time": "2023-06-12T17:25:20.607Z"
   },
   {
    "duration": 57,
    "start_time": "2023-06-12T17:25:20.627Z"
   },
   {
    "duration": 12,
    "start_time": "2023-06-12T17:25:20.685Z"
   },
   {
    "duration": 62,
    "start_time": "2023-06-12T17:25:20.701Z"
   },
   {
    "duration": 96,
    "start_time": "2023-06-12T17:25:20.766Z"
   },
   {
    "duration": 6,
    "start_time": "2023-06-12T17:25:20.863Z"
   },
   {
    "duration": 1309,
    "start_time": "2023-06-12T17:25:20.870Z"
   },
   {
    "duration": 7125,
    "start_time": "2023-06-12T17:25:22.181Z"
   },
   {
    "duration": 105,
    "start_time": "2023-06-12T17:25:29.307Z"
   },
   {
    "duration": 4,
    "start_time": "2023-06-12T17:25:29.413Z"
   },
   {
    "duration": 220,
    "start_time": "2023-06-12T17:25:29.419Z"
   },
   {
    "duration": 5374,
    "start_time": "2023-06-12T17:25:29.640Z"
   },
   {
    "duration": 10,
    "start_time": "2023-06-12T17:25:35.015Z"
   },
   {
    "duration": 112,
    "start_time": "2023-06-12T17:25:35.028Z"
   },
   {
    "duration": 23,
    "start_time": "2023-06-12T17:25:35.142Z"
   },
   {
    "duration": 247,
    "start_time": "2023-06-12T17:25:35.167Z"
   },
   {
    "duration": 5009,
    "start_time": "2023-06-12T17:25:35.415Z"
   },
   {
    "duration": 14,
    "start_time": "2023-06-12T17:25:40.426Z"
   },
   {
    "duration": 115,
    "start_time": "2023-06-12T17:25:40.457Z"
   },
   {
    "duration": 30,
    "start_time": "2023-06-12T17:25:40.573Z"
   },
   {
    "duration": 133,
    "start_time": "2023-06-12T17:25:40.614Z"
   },
   {
    "duration": 4553,
    "start_time": "2023-06-12T17:25:40.749Z"
   },
   {
    "duration": 15,
    "start_time": "2023-06-12T17:25:45.304Z"
   },
   {
    "duration": 93,
    "start_time": "2023-06-12T17:25:45.321Z"
   },
   {
    "duration": 11,
    "start_time": "2023-06-12T17:25:45.416Z"
   },
   {
    "duration": 6,
    "start_time": "2023-06-12T17:25:45.428Z"
   },
   {
    "duration": 9,
    "start_time": "2023-06-12T17:25:45.435Z"
   },
   {
    "duration": 361,
    "start_time": "2023-06-12T17:25:45.461Z"
   },
   {
    "duration": 5,
    "start_time": "2023-06-12T19:12:08.274Z"
   },
   {
    "duration": 314,
    "start_time": "2023-06-12T19:12:08.280Z"
   },
   {
    "duration": 13,
    "start_time": "2023-06-12T19:12:08.596Z"
   },
   {
    "duration": 14,
    "start_time": "2023-06-12T19:12:08.610Z"
   },
   {
    "duration": 3,
    "start_time": "2023-06-12T19:12:08.626Z"
   },
   {
    "duration": 7,
    "start_time": "2023-06-12T19:12:08.630Z"
   },
   {
    "duration": 9,
    "start_time": "2023-06-12T19:12:08.639Z"
   },
   {
    "duration": 9,
    "start_time": "2023-06-12T19:12:08.649Z"
   },
   {
    "duration": 11,
    "start_time": "2023-06-12T19:12:08.660Z"
   },
   {
    "duration": 368,
    "start_time": "2023-06-12T19:12:08.673Z"
   },
   {
    "duration": 9,
    "start_time": "2023-06-12T19:12:09.053Z"
   },
   {
    "duration": 9,
    "start_time": "2023-06-12T19:12:09.063Z"
   },
   {
    "duration": 6,
    "start_time": "2023-06-12T19:12:09.073Z"
   },
   {
    "duration": 6,
    "start_time": "2023-06-12T19:12:09.080Z"
   },
   {
    "duration": 11,
    "start_time": "2023-06-12T19:12:09.087Z"
   },
   {
    "duration": 5,
    "start_time": "2023-06-12T19:24:05.517Z"
   },
   {
    "duration": 163,
    "start_time": "2023-06-12T19:24:05.524Z"
   },
   {
    "duration": 14,
    "start_time": "2023-06-12T19:24:05.689Z"
   },
   {
    "duration": 28,
    "start_time": "2023-06-12T19:24:05.704Z"
   },
   {
    "duration": 4,
    "start_time": "2023-06-12T19:24:05.735Z"
   },
   {
    "duration": 4,
    "start_time": "2023-06-12T19:24:05.741Z"
   },
   {
    "duration": 5,
    "start_time": "2023-06-12T19:24:05.747Z"
   },
   {
    "duration": 19,
    "start_time": "2023-06-12T19:24:05.753Z"
   },
   {
    "duration": 11,
    "start_time": "2023-06-12T19:24:05.774Z"
   },
   {
    "duration": 361,
    "start_time": "2023-06-12T19:24:05.787Z"
   },
   {
    "duration": 16,
    "start_time": "2023-06-12T19:24:06.157Z"
   },
   {
    "duration": 12,
    "start_time": "2023-06-12T19:24:06.175Z"
   },
   {
    "duration": 10,
    "start_time": "2023-06-12T19:24:06.189Z"
   },
   {
    "duration": 31,
    "start_time": "2023-06-12T19:24:06.201Z"
   },
   {
    "duration": 27,
    "start_time": "2023-06-12T19:24:06.234Z"
   },
   {
    "duration": 15,
    "start_time": "2023-06-12T19:24:07.562Z"
   },
   {
    "duration": 14,
    "start_time": "2023-06-12T19:24:08.274Z"
   },
   {
    "duration": 127,
    "start_time": "2023-06-12T19:25:58.176Z"
   },
   {
    "duration": 19,
    "start_time": "2023-06-12T19:27:20.538Z"
   },
   {
    "duration": 5,
    "start_time": "2023-06-12T19:27:36.017Z"
   },
   {
    "duration": 139,
    "start_time": "2023-06-12T19:27:36.024Z"
   },
   {
    "duration": 15,
    "start_time": "2023-06-12T19:27:36.165Z"
   },
   {
    "duration": 24,
    "start_time": "2023-06-12T19:27:36.183Z"
   },
   {
    "duration": 4,
    "start_time": "2023-06-12T19:27:36.209Z"
   },
   {
    "duration": 5,
    "start_time": "2023-06-12T19:27:36.214Z"
   },
   {
    "duration": 5,
    "start_time": "2023-06-12T19:27:36.221Z"
   },
   {
    "duration": 10,
    "start_time": "2023-06-12T19:27:36.227Z"
   },
   {
    "duration": 16,
    "start_time": "2023-06-12T19:27:36.260Z"
   },
   {
    "duration": 344,
    "start_time": "2023-06-12T19:27:36.278Z"
   },
   {
    "duration": 14,
    "start_time": "2023-06-12T19:27:36.624Z"
   },
   {
    "duration": 27,
    "start_time": "2023-06-12T19:27:36.640Z"
   },
   {
    "duration": 12,
    "start_time": "2023-06-12T19:27:36.672Z"
   },
   {
    "duration": 11,
    "start_time": "2023-06-12T19:27:36.687Z"
   },
   {
    "duration": 15,
    "start_time": "2023-06-12T19:27:36.700Z"
   },
   {
    "duration": 15,
    "start_time": "2023-06-12T19:27:36.718Z"
   },
   {
    "duration": 9,
    "start_time": "2023-06-12T19:27:38.584Z"
   },
   {
    "duration": 17,
    "start_time": "2023-06-12T19:27:39.467Z"
   },
   {
    "duration": 15,
    "start_time": "2023-06-12T19:27:50.583Z"
   },
   {
    "duration": 79,
    "start_time": "2023-06-12T19:28:15.298Z"
   },
   {
    "duration": 93,
    "start_time": "2023-06-12T19:29:02.846Z"
   },
   {
    "duration": 85,
    "start_time": "2023-06-12T19:29:38.730Z"
   },
   {
    "duration": 128,
    "start_time": "2023-06-12T19:29:46.385Z"
   },
   {
    "duration": 123,
    "start_time": "2023-06-12T19:32:45.594Z"
   },
   {
    "duration": 5,
    "start_time": "2023-06-12T19:32:54.110Z"
   },
   {
    "duration": 165,
    "start_time": "2023-06-12T19:32:54.116Z"
   },
   {
    "duration": 13,
    "start_time": "2023-06-12T19:32:54.283Z"
   },
   {
    "duration": 26,
    "start_time": "2023-06-12T19:32:54.298Z"
   },
   {
    "duration": 22,
    "start_time": "2023-06-12T19:32:54.325Z"
   },
   {
    "duration": 25,
    "start_time": "2023-06-12T19:32:54.349Z"
   },
   {
    "duration": 16,
    "start_time": "2023-06-12T19:32:54.376Z"
   },
   {
    "duration": 17,
    "start_time": "2023-06-12T19:32:54.395Z"
   },
   {
    "duration": 33,
    "start_time": "2023-06-12T19:32:54.415Z"
   },
   {
    "duration": 357,
    "start_time": "2023-06-12T19:32:54.449Z"
   },
   {
    "duration": 9,
    "start_time": "2023-06-12T19:32:54.808Z"
   },
   {
    "duration": 8,
    "start_time": "2023-06-12T19:32:54.818Z"
   },
   {
    "duration": 9,
    "start_time": "2023-06-12T19:32:54.828Z"
   },
   {
    "duration": 17,
    "start_time": "2023-06-12T19:32:54.856Z"
   },
   {
    "duration": 13,
    "start_time": "2023-06-12T19:32:54.874Z"
   },
   {
    "duration": 8,
    "start_time": "2023-06-12T19:32:54.888Z"
   },
   {
    "duration": 9,
    "start_time": "2023-06-12T19:32:55.612Z"
   },
   {
    "duration": 112,
    "start_time": "2023-06-12T19:32:56.479Z"
   },
   {
    "duration": 483,
    "start_time": "2023-06-12T19:33:09.097Z"
   },
   {
    "duration": 132,
    "start_time": "2023-06-12T19:33:18.778Z"
   },
   {
    "duration": 519,
    "start_time": "2023-06-12T19:33:26.578Z"
   },
   {
    "duration": 730,
    "start_time": "2023-06-12T21:06:49.675Z"
   },
   {
    "duration": 317,
    "start_time": "2023-06-12T21:07:07.306Z"
   },
   {
    "duration": 14,
    "start_time": "2023-06-12T21:10:58.583Z"
   },
   {
    "duration": 4,
    "start_time": "2023-06-12T21:15:45.897Z"
   },
   {
    "duration": 121,
    "start_time": "2023-06-12T21:15:45.904Z"
   },
   {
    "duration": 15,
    "start_time": "2023-06-12T21:15:46.027Z"
   },
   {
    "duration": 16,
    "start_time": "2023-06-12T21:15:46.044Z"
   },
   {
    "duration": 6,
    "start_time": "2023-06-12T21:15:46.062Z"
   },
   {
    "duration": 5,
    "start_time": "2023-06-12T21:15:46.069Z"
   },
   {
    "duration": 8,
    "start_time": "2023-06-12T21:15:46.076Z"
   },
   {
    "duration": 6,
    "start_time": "2023-06-12T21:15:46.085Z"
   },
   {
    "duration": 8,
    "start_time": "2023-06-12T21:15:46.093Z"
   },
   {
    "duration": 401,
    "start_time": "2023-06-12T21:15:46.103Z"
   },
   {
    "duration": 10,
    "start_time": "2023-06-12T21:15:46.506Z"
   },
   {
    "duration": 10,
    "start_time": "2023-06-12T21:15:46.517Z"
   },
   {
    "duration": 26,
    "start_time": "2023-06-12T21:15:46.529Z"
   },
   {
    "duration": 9,
    "start_time": "2023-06-12T21:15:46.557Z"
   },
   {
    "duration": 13,
    "start_time": "2023-06-12T21:15:46.568Z"
   },
   {
    "duration": 11,
    "start_time": "2023-06-12T21:15:46.582Z"
   },
   {
    "duration": 9,
    "start_time": "2023-06-12T21:15:48.090Z"
   },
   {
    "duration": 9,
    "start_time": "2023-06-12T21:15:49.034Z"
   },
   {
    "duration": 15,
    "start_time": "2023-06-12T21:15:55.035Z"
   },
   {
    "duration": 4,
    "start_time": "2023-06-12T21:18:37.983Z"
   },
   {
    "duration": 104,
    "start_time": "2023-06-12T21:18:37.989Z"
   },
   {
    "duration": 14,
    "start_time": "2023-06-12T21:18:38.095Z"
   },
   {
    "duration": 12,
    "start_time": "2023-06-12T21:18:38.111Z"
   },
   {
    "duration": 4,
    "start_time": "2023-06-12T21:18:38.126Z"
   },
   {
    "duration": 7,
    "start_time": "2023-06-12T21:18:38.132Z"
   },
   {
    "duration": 13,
    "start_time": "2023-06-12T21:18:38.141Z"
   },
   {
    "duration": 4,
    "start_time": "2023-06-12T21:18:38.156Z"
   },
   {
    "duration": 11,
    "start_time": "2023-06-12T21:18:38.162Z"
   },
   {
    "duration": 325,
    "start_time": "2023-06-12T21:18:38.175Z"
   },
   {
    "duration": 9,
    "start_time": "2023-06-12T21:18:38.502Z"
   },
   {
    "duration": 8,
    "start_time": "2023-06-12T21:18:38.513Z"
   },
   {
    "duration": 7,
    "start_time": "2023-06-12T21:18:38.522Z"
   },
   {
    "duration": 24,
    "start_time": "2023-06-12T21:18:38.530Z"
   },
   {
    "duration": 14,
    "start_time": "2023-06-12T21:18:38.557Z"
   },
   {
    "duration": 8,
    "start_time": "2023-06-12T21:18:38.573Z"
   },
   {
    "duration": 10,
    "start_time": "2023-06-12T21:18:41.153Z"
   },
   {
    "duration": 81,
    "start_time": "2023-06-12T21:18:41.936Z"
   },
   {
    "duration": 140,
    "start_time": "2023-06-12T21:18:48.818Z"
   },
   {
    "duration": 5,
    "start_time": "2023-06-12T21:20:14.568Z"
   },
   {
    "duration": 119,
    "start_time": "2023-06-12T21:20:14.575Z"
   },
   {
    "duration": 13,
    "start_time": "2023-06-12T21:20:14.696Z"
   },
   {
    "duration": 12,
    "start_time": "2023-06-12T21:20:14.711Z"
   },
   {
    "duration": 4,
    "start_time": "2023-06-12T21:20:14.725Z"
   },
   {
    "duration": 4,
    "start_time": "2023-06-12T21:20:14.731Z"
   },
   {
    "duration": 4,
    "start_time": "2023-06-12T21:20:14.737Z"
   },
   {
    "duration": 27,
    "start_time": "2023-06-12T21:20:14.742Z"
   },
   {
    "duration": 9,
    "start_time": "2023-06-12T21:20:14.771Z"
   },
   {
    "duration": 325,
    "start_time": "2023-06-12T21:20:14.782Z"
   },
   {
    "duration": 10,
    "start_time": "2023-06-12T21:20:15.109Z"
   },
   {
    "duration": 22,
    "start_time": "2023-06-12T21:20:15.120Z"
   },
   {
    "duration": 27,
    "start_time": "2023-06-12T21:20:15.143Z"
   },
   {
    "duration": 7,
    "start_time": "2023-06-12T21:20:15.172Z"
   },
   {
    "duration": 12,
    "start_time": "2023-06-12T21:20:15.181Z"
   },
   {
    "duration": 12,
    "start_time": "2023-06-12T21:20:15.194Z"
   },
   {
    "duration": 11,
    "start_time": "2023-06-12T21:20:15.868Z"
   },
   {
    "duration": 23,
    "start_time": "2023-06-12T21:20:17.485Z"
   },
   {
    "duration": 17,
    "start_time": "2023-06-12T21:24:29.534Z"
   },
   {
    "duration": 21,
    "start_time": "2023-06-12T21:24:41.423Z"
   },
   {
    "duration": 18,
    "start_time": "2023-06-12T21:25:43.709Z"
   },
   {
    "duration": 5,
    "start_time": "2023-06-12T21:25:48.319Z"
   },
   {
    "duration": 139,
    "start_time": "2023-06-12T21:25:48.326Z"
   },
   {
    "duration": 15,
    "start_time": "2023-06-12T21:25:48.467Z"
   },
   {
    "duration": 15,
    "start_time": "2023-06-12T21:25:48.483Z"
   },
   {
    "duration": 4,
    "start_time": "2023-06-12T21:25:48.500Z"
   },
   {
    "duration": 8,
    "start_time": "2023-06-12T21:25:48.506Z"
   },
   {
    "duration": 5,
    "start_time": "2023-06-12T21:25:48.516Z"
   },
   {
    "duration": 6,
    "start_time": "2023-06-12T21:25:48.522Z"
   },
   {
    "duration": 11,
    "start_time": "2023-06-12T21:25:48.553Z"
   },
   {
    "duration": 344,
    "start_time": "2023-06-12T21:25:48.565Z"
   },
   {
    "duration": 10,
    "start_time": "2023-06-12T21:25:48.911Z"
   },
   {
    "duration": 10,
    "start_time": "2023-06-12T21:25:48.923Z"
   },
   {
    "duration": 29,
    "start_time": "2023-06-12T21:25:48.935Z"
   },
   {
    "duration": 8,
    "start_time": "2023-06-12T21:25:48.967Z"
   },
   {
    "duration": 20,
    "start_time": "2023-06-12T21:25:48.977Z"
   },
   {
    "duration": 10,
    "start_time": "2023-06-12T21:25:48.999Z"
   },
   {
    "duration": 10,
    "start_time": "2023-06-12T21:25:49.719Z"
   },
   {
    "duration": 20,
    "start_time": "2023-06-12T21:25:50.075Z"
   },
   {
    "duration": 17,
    "start_time": "2023-06-12T21:26:59.500Z"
   },
   {
    "duration": 21,
    "start_time": "2023-06-12T21:27:06.020Z"
   },
   {
    "duration": 22,
    "start_time": "2023-06-12T21:35:13.364Z"
   },
   {
    "duration": 2,
    "start_time": "2023-06-12T21:35:19.034Z"
   },
   {
    "duration": 5,
    "start_time": "2023-06-12T21:37:28.782Z"
   },
   {
    "duration": 104,
    "start_time": "2023-06-12T21:37:28.789Z"
   },
   {
    "duration": 15,
    "start_time": "2023-06-12T21:37:28.894Z"
   },
   {
    "duration": 14,
    "start_time": "2023-06-12T21:37:28.911Z"
   },
   {
    "duration": 4,
    "start_time": "2023-06-12T21:37:28.927Z"
   },
   {
    "duration": 5,
    "start_time": "2023-06-12T21:37:28.932Z"
   },
   {
    "duration": 5,
    "start_time": "2023-06-12T21:37:28.939Z"
   },
   {
    "duration": 12,
    "start_time": "2023-06-12T21:37:28.945Z"
   },
   {
    "duration": 11,
    "start_time": "2023-06-12T21:37:28.960Z"
   },
   {
    "duration": 320,
    "start_time": "2023-06-12T21:37:28.973Z"
   },
   {
    "duration": 9,
    "start_time": "2023-06-12T21:37:29.295Z"
   },
   {
    "duration": 9,
    "start_time": "2023-06-12T21:37:29.306Z"
   },
   {
    "duration": 7,
    "start_time": "2023-06-12T21:37:29.317Z"
   },
   {
    "duration": 28,
    "start_time": "2023-06-12T21:37:29.326Z"
   },
   {
    "duration": 12,
    "start_time": "2023-06-12T21:37:29.356Z"
   },
   {
    "duration": 22,
    "start_time": "2023-06-12T21:37:29.369Z"
   },
   {
    "duration": 3,
    "start_time": "2023-06-12T21:37:29.392Z"
   },
   {
    "duration": 5,
    "start_time": "2023-06-12T21:37:29.396Z"
   },
   {
    "duration": 30,
    "start_time": "2023-06-12T21:37:37.245Z"
   },
   {
    "duration": 5,
    "start_time": "2023-06-12T21:45:11.915Z"
   },
   {
    "duration": 109,
    "start_time": "2023-06-12T21:45:11.922Z"
   },
   {
    "duration": 22,
    "start_time": "2023-06-12T21:45:12.033Z"
   },
   {
    "duration": 28,
    "start_time": "2023-06-12T21:45:12.056Z"
   },
   {
    "duration": 10,
    "start_time": "2023-06-12T21:45:12.087Z"
   },
   {
    "duration": 23,
    "start_time": "2023-06-12T21:45:12.099Z"
   },
   {
    "duration": 18,
    "start_time": "2023-06-12T21:45:12.124Z"
   },
   {
    "duration": 27,
    "start_time": "2023-06-12T21:45:12.144Z"
   },
   {
    "duration": 10,
    "start_time": "2023-06-12T21:45:12.173Z"
   },
   {
    "duration": 320,
    "start_time": "2023-06-12T21:45:12.185Z"
   },
   {
    "duration": 13,
    "start_time": "2023-06-12T21:45:12.509Z"
   },
   {
    "duration": 13,
    "start_time": "2023-06-12T21:45:12.524Z"
   },
   {
    "duration": 11,
    "start_time": "2023-06-12T21:45:12.557Z"
   },
   {
    "duration": 8,
    "start_time": "2023-06-12T21:45:12.574Z"
   },
   {
    "duration": 12,
    "start_time": "2023-06-12T21:45:12.584Z"
   },
   {
    "duration": 22,
    "start_time": "2023-06-12T21:45:12.598Z"
   },
   {
    "duration": 3,
    "start_time": "2023-06-12T21:45:12.622Z"
   },
   {
    "duration": 5,
    "start_time": "2023-06-12T21:45:12.658Z"
   },
   {
    "duration": 15,
    "start_time": "2023-06-12T21:45:14.936Z"
   },
   {
    "duration": 5,
    "start_time": "2023-06-12T23:01:38.932Z"
   },
   {
    "duration": 221,
    "start_time": "2023-06-12T23:01:38.939Z"
   },
   {
    "duration": 13,
    "start_time": "2023-06-12T23:01:39.162Z"
   },
   {
    "duration": 13,
    "start_time": "2023-06-12T23:01:39.177Z"
   },
   {
    "duration": 4,
    "start_time": "2023-06-12T23:01:39.191Z"
   },
   {
    "duration": 4,
    "start_time": "2023-06-12T23:01:39.196Z"
   },
   {
    "duration": 6,
    "start_time": "2023-06-12T23:01:39.202Z"
   },
   {
    "duration": 4,
    "start_time": "2023-06-12T23:01:39.210Z"
   },
   {
    "duration": 41,
    "start_time": "2023-06-12T23:01:39.215Z"
   },
   {
    "duration": 302,
    "start_time": "2023-06-12T23:01:39.258Z"
   },
   {
    "duration": 9,
    "start_time": "2023-06-12T23:01:39.561Z"
   },
   {
    "duration": 8,
    "start_time": "2023-06-12T23:01:39.571Z"
   },
   {
    "duration": 7,
    "start_time": "2023-06-12T23:01:39.580Z"
   },
   {
    "duration": 6,
    "start_time": "2023-06-12T23:01:39.588Z"
   },
   {
    "duration": 11,
    "start_time": "2023-06-12T23:01:39.596Z"
   },
   {
    "duration": 47,
    "start_time": "2023-06-12T23:01:39.608Z"
   },
   {
    "duration": 2,
    "start_time": "2023-06-12T23:01:39.657Z"
   },
   {
    "duration": 2,
    "start_time": "2023-06-12T23:02:23.488Z"
   },
   {
    "duration": 11,
    "start_time": "2023-06-12T23:02:26.260Z"
   },
   {
    "duration": 3175,
    "start_time": "2023-06-12T23:02:57.295Z"
   },
   {
    "duration": 5,
    "start_time": "2023-06-12T23:03:43.507Z"
   },
   {
    "duration": 125,
    "start_time": "2023-06-12T23:03:43.514Z"
   },
   {
    "duration": 16,
    "start_time": "2023-06-12T23:03:43.641Z"
   },
   {
    "duration": 19,
    "start_time": "2023-06-12T23:03:43.659Z"
   },
   {
    "duration": 4,
    "start_time": "2023-06-12T23:03:43.680Z"
   },
   {
    "duration": 18,
    "start_time": "2023-06-12T23:03:43.686Z"
   },
   {
    "duration": 4,
    "start_time": "2023-06-12T23:03:43.706Z"
   },
   {
    "duration": 5,
    "start_time": "2023-06-12T23:03:43.712Z"
   },
   {
    "duration": 35,
    "start_time": "2023-06-12T23:03:43.720Z"
   },
   {
    "duration": 377,
    "start_time": "2023-06-12T23:03:43.757Z"
   },
   {
    "duration": 23,
    "start_time": "2023-06-12T23:03:44.136Z"
   },
   {
    "duration": 10,
    "start_time": "2023-06-12T23:03:44.161Z"
   },
   {
    "duration": 8,
    "start_time": "2023-06-12T23:03:44.172Z"
   },
   {
    "duration": 7,
    "start_time": "2023-06-12T23:03:44.182Z"
   },
   {
    "duration": 13,
    "start_time": "2023-06-12T23:03:44.191Z"
   },
   {
    "duration": 70,
    "start_time": "2023-06-12T23:03:44.206Z"
   },
   {
    "duration": 3,
    "start_time": "2023-06-12T23:03:44.278Z"
   },
   {
    "duration": 7,
    "start_time": "2023-06-12T23:03:44.283Z"
   },
   {
    "duration": 6,
    "start_time": "2023-06-12T23:03:46.428Z"
   },
   {
    "duration": 2097,
    "start_time": "2023-06-12T23:03:50.355Z"
   },
   {
    "duration": 6,
    "start_time": "2023-06-12T23:07:21.090Z"
   },
   {
    "duration": 135,
    "start_time": "2023-06-12T23:07:21.098Z"
   },
   {
    "duration": 15,
    "start_time": "2023-06-12T23:07:21.235Z"
   },
   {
    "duration": 26,
    "start_time": "2023-06-12T23:07:21.252Z"
   },
   {
    "duration": 4,
    "start_time": "2023-06-12T23:07:21.279Z"
   },
   {
    "duration": 7,
    "start_time": "2023-06-12T23:07:21.285Z"
   },
   {
    "duration": 9,
    "start_time": "2023-06-12T23:07:21.294Z"
   },
   {
    "duration": 11,
    "start_time": "2023-06-12T23:07:21.304Z"
   },
   {
    "duration": 13,
    "start_time": "2023-06-12T23:07:21.316Z"
   },
   {
    "duration": 385,
    "start_time": "2023-06-12T23:07:21.331Z"
   },
   {
    "duration": 10,
    "start_time": "2023-06-12T23:07:21.718Z"
   },
   {
    "duration": 25,
    "start_time": "2023-06-12T23:07:21.730Z"
   },
   {
    "duration": 7,
    "start_time": "2023-06-12T23:07:21.757Z"
   },
   {
    "duration": 6,
    "start_time": "2023-06-12T23:07:21.766Z"
   },
   {
    "duration": 11,
    "start_time": "2023-06-12T23:07:21.774Z"
   },
   {
    "duration": 21,
    "start_time": "2023-06-12T23:07:21.787Z"
   },
   {
    "duration": 2,
    "start_time": "2023-06-12T23:07:21.810Z"
   },
   {
    "duration": 4,
    "start_time": "2023-06-12T23:07:21.854Z"
   },
   {
    "duration": 2123,
    "start_time": "2023-06-12T23:07:21.859Z"
   },
   {
    "duration": 3,
    "start_time": "2023-06-12T23:07:23.984Z"
   },
   {
    "duration": 40,
    "start_time": "2023-06-12T23:07:23.989Z"
   },
   {
    "duration": 4,
    "start_time": "2023-06-12T23:07:24.031Z"
   },
   {
    "duration": 35,
    "start_time": "2023-06-12T23:07:24.037Z"
   },
   {
    "duration": 18,
    "start_time": "2023-06-12T23:07:48.355Z"
   },
   {
    "duration": 11,
    "start_time": "2023-06-12T23:09:28.924Z"
   },
   {
    "duration": 4,
    "start_time": "2023-06-12T23:09:34.913Z"
   },
   {
    "duration": 100,
    "start_time": "2023-06-12T23:09:34.919Z"
   },
   {
    "duration": 13,
    "start_time": "2023-06-12T23:09:35.021Z"
   },
   {
    "duration": 12,
    "start_time": "2023-06-12T23:09:35.037Z"
   },
   {
    "duration": 8,
    "start_time": "2023-06-12T23:09:35.051Z"
   },
   {
    "duration": 27,
    "start_time": "2023-06-12T23:09:35.060Z"
   },
   {
    "duration": 13,
    "start_time": "2023-06-12T23:09:35.089Z"
   },
   {
    "duration": 7,
    "start_time": "2023-06-12T23:09:35.103Z"
   },
   {
    "duration": 10,
    "start_time": "2023-06-12T23:09:35.112Z"
   },
   {
    "duration": 393,
    "start_time": "2023-06-12T23:09:35.124Z"
   },
   {
    "duration": 11,
    "start_time": "2023-06-12T23:09:35.519Z"
   },
   {
    "duration": 24,
    "start_time": "2023-06-12T23:09:35.531Z"
   },
   {
    "duration": 8,
    "start_time": "2023-06-12T23:09:35.556Z"
   },
   {
    "duration": 8,
    "start_time": "2023-06-12T23:09:35.565Z"
   },
   {
    "duration": 16,
    "start_time": "2023-06-12T23:09:35.575Z"
   },
   {
    "duration": 21,
    "start_time": "2023-06-12T23:09:35.593Z"
   },
   {
    "duration": 2,
    "start_time": "2023-06-12T23:09:35.616Z"
   },
   {
    "duration": 12,
    "start_time": "2023-06-12T23:09:35.653Z"
   },
   {
    "duration": 9,
    "start_time": "2023-06-12T23:09:35.667Z"
   },
   {
    "duration": 4,
    "start_time": "2023-06-12T23:09:36.622Z"
   },
   {
    "duration": 2096,
    "start_time": "2023-06-12T23:09:37.392Z"
   },
   {
    "duration": 2,
    "start_time": "2023-06-12T23:09:42.006Z"
   },
   {
    "duration": 45,
    "start_time": "2023-06-12T23:10:08.456Z"
   },
   {
    "duration": 17,
    "start_time": "2023-06-12T23:10:32.458Z"
   },
   {
    "duration": 4,
    "start_time": "2023-06-12T23:10:35.763Z"
   },
   {
    "duration": 5,
    "start_time": "2023-06-12T23:10:47.850Z"
   },
   {
    "duration": 128,
    "start_time": "2023-06-12T23:10:47.858Z"
   },
   {
    "duration": 16,
    "start_time": "2023-06-12T23:10:47.988Z"
   },
   {
    "duration": 17,
    "start_time": "2023-06-12T23:10:48.005Z"
   },
   {
    "duration": 11,
    "start_time": "2023-06-12T23:10:48.024Z"
   },
   {
    "duration": 13,
    "start_time": "2023-06-12T23:10:48.036Z"
   },
   {
    "duration": 4,
    "start_time": "2023-06-12T23:10:48.051Z"
   },
   {
    "duration": 23,
    "start_time": "2023-06-12T23:10:48.057Z"
   },
   {
    "duration": 21,
    "start_time": "2023-06-12T23:10:48.082Z"
   },
   {
    "duration": 400,
    "start_time": "2023-06-12T23:10:48.104Z"
   },
   {
    "duration": 10,
    "start_time": "2023-06-12T23:10:48.507Z"
   },
   {
    "duration": 17,
    "start_time": "2023-06-12T23:10:48.519Z"
   },
   {
    "duration": 25,
    "start_time": "2023-06-12T23:10:48.538Z"
   },
   {
    "duration": 33,
    "start_time": "2023-06-12T23:10:48.565Z"
   },
   {
    "duration": 27,
    "start_time": "2023-06-12T23:10:48.600Z"
   },
   {
    "duration": 25,
    "start_time": "2023-06-12T23:10:48.629Z"
   },
   {
    "duration": 2,
    "start_time": "2023-06-12T23:10:48.655Z"
   },
   {
    "duration": 32,
    "start_time": "2023-06-12T23:10:48.659Z"
   },
   {
    "duration": 16,
    "start_time": "2023-06-12T23:10:48.692Z"
   },
   {
    "duration": 4,
    "start_time": "2023-06-12T23:10:50.954Z"
   },
   {
    "duration": 1982,
    "start_time": "2023-06-12T23:10:51.623Z"
   },
   {
    "duration": 3,
    "start_time": "2023-06-12T23:10:55.887Z"
   },
   {
    "duration": 44,
    "start_time": "2023-06-12T23:11:02.681Z"
   },
   {
    "duration": 4,
    "start_time": "2023-06-12T23:11:09.404Z"
   },
   {
    "duration": 106,
    "start_time": "2023-06-12T23:11:09.411Z"
   },
   {
    "duration": 14,
    "start_time": "2023-06-12T23:11:09.518Z"
   },
   {
    "duration": 15,
    "start_time": "2023-06-12T23:11:09.534Z"
   },
   {
    "duration": 5,
    "start_time": "2023-06-12T23:11:09.551Z"
   },
   {
    "duration": 5,
    "start_time": "2023-06-12T23:11:09.557Z"
   },
   {
    "duration": 5,
    "start_time": "2023-06-12T23:11:09.563Z"
   },
   {
    "duration": 9,
    "start_time": "2023-06-12T23:11:09.569Z"
   },
   {
    "duration": 10,
    "start_time": "2023-06-12T23:11:09.580Z"
   },
   {
    "duration": 414,
    "start_time": "2023-06-12T23:11:09.591Z"
   },
   {
    "duration": 10,
    "start_time": "2023-06-12T23:11:10.007Z"
   },
   {
    "duration": 10,
    "start_time": "2023-06-12T23:11:10.019Z"
   },
   {
    "duration": 23,
    "start_time": "2023-06-12T23:11:10.031Z"
   },
   {
    "duration": 7,
    "start_time": "2023-06-12T23:11:10.056Z"
   },
   {
    "duration": 11,
    "start_time": "2023-06-12T23:11:10.064Z"
   },
   {
    "duration": 22,
    "start_time": "2023-06-12T23:11:10.076Z"
   },
   {
    "duration": 3,
    "start_time": "2023-06-12T23:11:10.099Z"
   },
   {
    "duration": 11,
    "start_time": "2023-06-12T23:11:10.104Z"
   },
   {
    "duration": 40,
    "start_time": "2023-06-12T23:11:10.117Z"
   },
   {
    "duration": 2070,
    "start_time": "2023-06-12T23:11:10.159Z"
   },
   {
    "duration": 2,
    "start_time": "2023-06-12T23:11:12.232Z"
   },
   {
    "duration": 40,
    "start_time": "2023-06-12T23:11:12.236Z"
   },
   {
    "duration": 6,
    "start_time": "2023-06-12T23:11:12.277Z"
   },
   {
    "duration": 449,
    "start_time": "2023-06-12T23:11:15.970Z"
   },
   {
    "duration": 4357,
    "start_time": "2023-06-12T23:11:35.978Z"
   },
   {
    "duration": 90,
    "start_time": "2023-06-12T23:11:52.040Z"
   },
   {
    "duration": 4,
    "start_time": "2023-06-12T23:12:11.902Z"
   },
   {
    "duration": 164,
    "start_time": "2023-06-12T23:12:13.994Z"
   },
   {
    "duration": 4082,
    "start_time": "2023-06-12T23:12:32.878Z"
   },
   {
    "duration": 11,
    "start_time": "2023-06-12T23:12:56.177Z"
   },
   {
    "duration": 95,
    "start_time": "2023-06-12T23:12:58.336Z"
   },
   {
    "duration": 11,
    "start_time": "2023-06-12T23:13:23.366Z"
   },
   {
    "duration": 185,
    "start_time": "2023-06-12T23:13:26.069Z"
   },
   {
    "duration": 3863,
    "start_time": "2023-06-12T23:13:26.424Z"
   },
   {
    "duration": 13,
    "start_time": "2023-06-12T23:13:30.289Z"
   },
   {
    "duration": 106,
    "start_time": "2023-06-12T23:13:30.303Z"
   },
   {
    "duration": 5,
    "start_time": "2023-06-12T23:16:55.162Z"
   },
   {
    "duration": 171,
    "start_time": "2023-06-12T23:16:55.169Z"
   },
   {
    "duration": 13,
    "start_time": "2023-06-12T23:16:55.342Z"
   },
   {
    "duration": 14,
    "start_time": "2023-06-12T23:16:55.356Z"
   },
   {
    "duration": 4,
    "start_time": "2023-06-12T23:16:55.371Z"
   },
   {
    "duration": 11,
    "start_time": "2023-06-12T23:16:55.376Z"
   },
   {
    "duration": 14,
    "start_time": "2023-06-12T23:16:55.388Z"
   },
   {
    "duration": 15,
    "start_time": "2023-06-12T23:16:55.403Z"
   },
   {
    "duration": 9,
    "start_time": "2023-06-12T23:16:55.420Z"
   },
   {
    "duration": 375,
    "start_time": "2023-06-12T23:16:55.431Z"
   },
   {
    "duration": 10,
    "start_time": "2023-06-12T23:16:55.807Z"
   },
   {
    "duration": 8,
    "start_time": "2023-06-12T23:16:55.818Z"
   },
   {
    "duration": 6,
    "start_time": "2023-06-12T23:16:55.828Z"
   },
   {
    "duration": 5,
    "start_time": "2023-06-12T23:16:55.855Z"
   },
   {
    "duration": 18,
    "start_time": "2023-06-12T23:16:55.862Z"
   },
   {
    "duration": 20,
    "start_time": "2023-06-12T23:16:55.882Z"
   },
   {
    "duration": 2,
    "start_time": "2023-06-12T23:16:55.904Z"
   },
   {
    "duration": 5,
    "start_time": "2023-06-12T23:16:55.908Z"
   },
   {
    "duration": 137,
    "start_time": "2023-06-12T23:16:55.914Z"
   },
   {
    "duration": 0,
    "start_time": "2023-06-12T23:16:56.052Z"
   },
   {
    "duration": 0,
    "start_time": "2023-06-12T23:16:56.053Z"
   },
   {
    "duration": 0,
    "start_time": "2023-06-12T23:16:56.054Z"
   },
   {
    "duration": 0,
    "start_time": "2023-06-12T23:16:56.055Z"
   },
   {
    "duration": 5,
    "start_time": "2023-06-12T23:17:21.706Z"
   },
   {
    "duration": 143,
    "start_time": "2023-06-12T23:17:21.712Z"
   },
   {
    "duration": 13,
    "start_time": "2023-06-12T23:17:21.856Z"
   },
   {
    "duration": 25,
    "start_time": "2023-06-12T23:17:21.871Z"
   },
   {
    "duration": 4,
    "start_time": "2023-06-12T23:17:21.898Z"
   },
   {
    "duration": 5,
    "start_time": "2023-06-12T23:17:21.903Z"
   },
   {
    "duration": 5,
    "start_time": "2023-06-12T23:17:21.909Z"
   },
   {
    "duration": 4,
    "start_time": "2023-06-12T23:17:21.915Z"
   },
   {
    "duration": 8,
    "start_time": "2023-06-12T23:17:21.921Z"
   },
   {
    "duration": 326,
    "start_time": "2023-06-12T23:17:21.931Z"
   },
   {
    "duration": 9,
    "start_time": "2023-06-12T23:17:22.258Z"
   },
   {
    "duration": 16,
    "start_time": "2023-06-12T23:17:22.268Z"
   },
   {
    "duration": 7,
    "start_time": "2023-06-12T23:17:22.285Z"
   },
   {
    "duration": 5,
    "start_time": "2023-06-12T23:17:22.293Z"
   },
   {
    "duration": 14,
    "start_time": "2023-06-12T23:17:22.300Z"
   },
   {
    "duration": 40,
    "start_time": "2023-06-12T23:17:22.315Z"
   },
   {
    "duration": 2,
    "start_time": "2023-06-12T23:17:22.357Z"
   },
   {
    "duration": 6,
    "start_time": "2023-06-12T23:17:22.360Z"
   },
   {
    "duration": 22,
    "start_time": "2023-06-12T23:17:22.368Z"
   },
   {
    "duration": 25,
    "start_time": "2023-06-12T23:17:22.391Z"
   },
   {
    "duration": 33,
    "start_time": "2023-06-12T23:17:22.418Z"
   },
   {
    "duration": 4,
    "start_time": "2023-06-12T23:17:22.453Z"
   },
   {
    "duration": 433,
    "start_time": "2023-06-12T23:17:22.459Z"
   },
   {
    "duration": 5,
    "start_time": "2023-06-12T23:19:27.858Z"
   },
   {
    "duration": 127,
    "start_time": "2023-06-12T23:19:27.864Z"
   },
   {
    "duration": 13,
    "start_time": "2023-06-12T23:19:27.992Z"
   },
   {
    "duration": 10,
    "start_time": "2023-06-12T23:19:28.006Z"
   },
   {
    "duration": 3,
    "start_time": "2023-06-12T23:19:28.018Z"
   },
   {
    "duration": 4,
    "start_time": "2023-06-12T23:19:28.022Z"
   },
   {
    "duration": 3,
    "start_time": "2023-06-12T23:19:28.028Z"
   },
   {
    "duration": 5,
    "start_time": "2023-06-12T23:19:28.033Z"
   },
   {
    "duration": 16,
    "start_time": "2023-06-12T23:19:28.040Z"
   },
   {
    "duration": 300,
    "start_time": "2023-06-12T23:19:28.058Z"
   },
   {
    "duration": 9,
    "start_time": "2023-06-12T23:19:28.360Z"
   },
   {
    "duration": 8,
    "start_time": "2023-06-12T23:19:28.370Z"
   },
   {
    "duration": 8,
    "start_time": "2023-06-12T23:19:28.380Z"
   },
   {
    "duration": 6,
    "start_time": "2023-06-12T23:19:28.389Z"
   },
   {
    "duration": 10,
    "start_time": "2023-06-12T23:19:28.396Z"
   },
   {
    "duration": 51,
    "start_time": "2023-06-12T23:19:28.407Z"
   },
   {
    "duration": 2,
    "start_time": "2023-06-12T23:19:28.460Z"
   },
   {
    "duration": 5,
    "start_time": "2023-06-12T23:19:28.464Z"
   },
   {
    "duration": 4,
    "start_time": "2023-06-12T23:19:28.470Z"
   },
   {
    "duration": 11,
    "start_time": "2023-06-12T23:19:28.477Z"
   },
   {
    "duration": 31,
    "start_time": "2023-06-12T23:19:28.490Z"
   },
   {
    "duration": 34,
    "start_time": "2023-06-12T23:19:28.523Z"
   },
   {
    "duration": 440,
    "start_time": "2023-06-12T23:19:28.559Z"
   },
   {
    "duration": 425,
    "start_time": "2023-06-12T23:19:34.873Z"
   },
   {
    "duration": 5,
    "start_time": "2023-06-12T23:20:58.584Z"
   },
   {
    "duration": 100,
    "start_time": "2023-06-12T23:20:58.590Z"
   },
   {
    "duration": 13,
    "start_time": "2023-06-12T23:20:58.691Z"
   },
   {
    "duration": 11,
    "start_time": "2023-06-12T23:20:58.706Z"
   },
   {
    "duration": 3,
    "start_time": "2023-06-12T23:20:58.719Z"
   },
   {
    "duration": 4,
    "start_time": "2023-06-12T23:20:58.723Z"
   },
   {
    "duration": 4,
    "start_time": "2023-06-12T23:20:58.728Z"
   },
   {
    "duration": 4,
    "start_time": "2023-06-12T23:20:58.733Z"
   },
   {
    "duration": 17,
    "start_time": "2023-06-12T23:20:58.739Z"
   },
   {
    "duration": 304,
    "start_time": "2023-06-12T23:20:58.757Z"
   },
   {
    "duration": 9,
    "start_time": "2023-06-12T23:20:59.062Z"
   },
   {
    "duration": 8,
    "start_time": "2023-06-12T23:20:59.072Z"
   },
   {
    "duration": 6,
    "start_time": "2023-06-12T23:20:59.081Z"
   },
   {
    "duration": 5,
    "start_time": "2023-06-12T23:20:59.088Z"
   },
   {
    "duration": 10,
    "start_time": "2023-06-12T23:20:59.095Z"
   },
   {
    "duration": 18,
    "start_time": "2023-06-12T23:20:59.106Z"
   },
   {
    "duration": 2,
    "start_time": "2023-06-12T23:20:59.155Z"
   },
   {
    "duration": 12,
    "start_time": "2023-06-12T23:20:59.158Z"
   },
   {
    "duration": 10,
    "start_time": "2023-06-12T23:20:59.171Z"
   },
   {
    "duration": 10,
    "start_time": "2023-06-12T23:20:59.183Z"
   },
   {
    "duration": 130,
    "start_time": "2023-06-12T23:20:59.195Z"
   },
   {
    "duration": 5,
    "start_time": "2023-06-12T23:20:59.326Z"
   },
   {
    "duration": 436,
    "start_time": "2023-06-12T23:20:59.333Z"
   },
   {
    "duration": 4093,
    "start_time": "2023-06-12T23:20:59.770Z"
   },
   {
    "duration": 91,
    "start_time": "2023-06-12T23:21:03.865Z"
   },
   {
    "duration": 4,
    "start_time": "2023-06-12T23:21:46.137Z"
   },
   {
    "duration": 96,
    "start_time": "2023-06-12T23:21:46.143Z"
   },
   {
    "duration": 12,
    "start_time": "2023-06-12T23:21:46.240Z"
   },
   {
    "duration": 11,
    "start_time": "2023-06-12T23:21:46.254Z"
   },
   {
    "duration": 4,
    "start_time": "2023-06-12T23:21:46.267Z"
   },
   {
    "duration": 4,
    "start_time": "2023-06-12T23:21:46.272Z"
   },
   {
    "duration": 4,
    "start_time": "2023-06-12T23:21:46.277Z"
   },
   {
    "duration": 4,
    "start_time": "2023-06-12T23:21:46.282Z"
   },
   {
    "duration": 13,
    "start_time": "2023-06-12T23:21:46.288Z"
   },
   {
    "duration": 351,
    "start_time": "2023-06-12T23:21:46.302Z"
   },
   {
    "duration": 11,
    "start_time": "2023-06-12T23:21:46.655Z"
   },
   {
    "duration": 10,
    "start_time": "2023-06-12T23:21:46.668Z"
   },
   {
    "duration": 14,
    "start_time": "2023-06-12T23:21:46.680Z"
   },
   {
    "duration": 6,
    "start_time": "2023-06-12T23:21:46.696Z"
   },
   {
    "duration": 24,
    "start_time": "2023-06-12T23:21:46.704Z"
   },
   {
    "duration": 29,
    "start_time": "2023-06-12T23:21:46.730Z"
   },
   {
    "duration": 2,
    "start_time": "2023-06-12T23:21:46.761Z"
   },
   {
    "duration": 4,
    "start_time": "2023-06-12T23:21:46.764Z"
   },
   {
    "duration": 4,
    "start_time": "2023-06-12T23:21:46.769Z"
   },
   {
    "duration": 13,
    "start_time": "2023-06-12T23:21:46.774Z"
   },
   {
    "duration": 31,
    "start_time": "2023-06-12T23:21:46.788Z"
   },
   {
    "duration": 4,
    "start_time": "2023-06-12T23:21:46.820Z"
   },
   {
    "duration": 441,
    "start_time": "2023-06-12T23:21:46.825Z"
   },
   {
    "duration": 4080,
    "start_time": "2023-06-12T23:21:47.269Z"
   },
   {
    "duration": 82,
    "start_time": "2023-06-12T23:21:51.350Z"
   },
   {
    "duration": 5,
    "start_time": "2023-06-13T00:26:20.688Z"
   },
   {
    "duration": 243,
    "start_time": "2023-06-13T00:26:20.695Z"
   },
   {
    "duration": 14,
    "start_time": "2023-06-13T00:26:20.940Z"
   },
   {
    "duration": 13,
    "start_time": "2023-06-13T00:26:20.956Z"
   },
   {
    "duration": 4,
    "start_time": "2023-06-13T00:26:20.971Z"
   },
   {
    "duration": 19,
    "start_time": "2023-06-13T00:26:20.976Z"
   },
   {
    "duration": 5,
    "start_time": "2023-06-13T00:26:20.997Z"
   },
   {
    "duration": 8,
    "start_time": "2023-06-13T00:26:21.004Z"
   },
   {
    "duration": 9,
    "start_time": "2023-06-13T00:26:21.014Z"
   },
   {
    "duration": 322,
    "start_time": "2023-06-13T00:26:21.025Z"
   },
   {
    "duration": 14,
    "start_time": "2023-06-13T00:26:21.348Z"
   },
   {
    "duration": 9,
    "start_time": "2023-06-13T00:26:21.364Z"
   },
   {
    "duration": 6,
    "start_time": "2023-06-13T00:26:21.375Z"
   },
   {
    "duration": 7,
    "start_time": "2023-06-13T00:26:21.383Z"
   },
   {
    "duration": 11,
    "start_time": "2023-06-13T00:26:21.391Z"
   },
   {
    "duration": 52,
    "start_time": "2023-06-13T00:26:21.404Z"
   },
   {
    "duration": 3,
    "start_time": "2023-06-13T00:26:21.458Z"
   },
   {
    "duration": 7,
    "start_time": "2023-06-13T00:26:21.463Z"
   },
   {
    "duration": 4,
    "start_time": "2023-06-13T00:26:22.325Z"
   },
   {
    "duration": 5,
    "start_time": "2023-06-13T00:26:23.143Z"
   },
   {
    "duration": 75,
    "start_time": "2023-06-13T00:26:23.852Z"
   },
   {
    "duration": 99,
    "start_time": "2023-06-13T00:26:30.265Z"
   },
   {
    "duration": 9,
    "start_time": "2023-06-13T00:26:35.657Z"
   },
   {
    "duration": 4,
    "start_time": "2023-06-13T00:28:18.969Z"
   },
   {
    "duration": 8,
    "start_time": "2023-06-13T00:28:20.281Z"
   },
   {
    "duration": 5,
    "start_time": "2023-06-13T00:28:29.576Z"
   },
   {
    "duration": 8,
    "start_time": "2023-06-13T00:28:30.817Z"
   },
   {
    "duration": 5,
    "start_time": "2023-06-13T00:28:36.149Z"
   },
   {
    "duration": 112,
    "start_time": "2023-06-13T00:28:36.155Z"
   },
   {
    "duration": 14,
    "start_time": "2023-06-13T00:28:36.268Z"
   },
   {
    "duration": 12,
    "start_time": "2023-06-13T00:28:36.283Z"
   },
   {
    "duration": 4,
    "start_time": "2023-06-13T00:28:36.297Z"
   },
   {
    "duration": 6,
    "start_time": "2023-06-13T00:28:36.302Z"
   },
   {
    "duration": 4,
    "start_time": "2023-06-13T00:28:36.309Z"
   },
   {
    "duration": 5,
    "start_time": "2023-06-13T00:28:36.315Z"
   },
   {
    "duration": 38,
    "start_time": "2023-06-13T00:28:36.322Z"
   },
   {
    "duration": 328,
    "start_time": "2023-06-13T00:28:36.361Z"
   },
   {
    "duration": 10,
    "start_time": "2023-06-13T00:28:36.690Z"
   },
   {
    "duration": 11,
    "start_time": "2023-06-13T00:28:36.702Z"
   },
   {
    "duration": 7,
    "start_time": "2023-06-13T00:28:36.716Z"
   },
   {
    "duration": 33,
    "start_time": "2023-06-13T00:28:36.725Z"
   },
   {
    "duration": 36,
    "start_time": "2023-06-13T00:28:36.759Z"
   },
   {
    "duration": 20,
    "start_time": "2023-06-13T00:28:36.798Z"
   },
   {
    "duration": 2,
    "start_time": "2023-06-13T00:28:36.820Z"
   },
   {
    "duration": 8,
    "start_time": "2023-06-13T00:28:36.824Z"
   },
   {
    "duration": 5,
    "start_time": "2023-06-13T00:28:36.834Z"
   },
   {
    "duration": 4,
    "start_time": "2023-06-13T00:28:37.693Z"
   },
   {
    "duration": 8,
    "start_time": "2023-06-13T00:28:38.393Z"
   },
   {
    "duration": 5,
    "start_time": "2023-06-13T00:28:46.513Z"
   },
   {
    "duration": 163,
    "start_time": "2023-06-13T00:28:46.520Z"
   },
   {
    "duration": 13,
    "start_time": "2023-06-13T00:28:46.685Z"
   },
   {
    "duration": 13,
    "start_time": "2023-06-13T00:28:46.700Z"
   },
   {
    "duration": 13,
    "start_time": "2023-06-13T00:28:46.715Z"
   },
   {
    "duration": 16,
    "start_time": "2023-06-13T00:28:46.730Z"
   },
   {
    "duration": 6,
    "start_time": "2023-06-13T00:28:46.748Z"
   },
   {
    "duration": 13,
    "start_time": "2023-06-13T00:28:46.756Z"
   },
   {
    "duration": 19,
    "start_time": "2023-06-13T00:28:46.771Z"
   },
   {
    "duration": 291,
    "start_time": "2023-06-13T00:28:46.793Z"
   },
   {
    "duration": 10,
    "start_time": "2023-06-13T00:28:47.086Z"
   },
   {
    "duration": 10,
    "start_time": "2023-06-13T00:28:47.098Z"
   },
   {
    "duration": 7,
    "start_time": "2023-06-13T00:28:47.110Z"
   },
   {
    "duration": 39,
    "start_time": "2023-06-13T00:28:47.119Z"
   },
   {
    "duration": 12,
    "start_time": "2023-06-13T00:28:47.159Z"
   },
   {
    "duration": 21,
    "start_time": "2023-06-13T00:28:47.173Z"
   },
   {
    "duration": 2,
    "start_time": "2023-06-13T00:28:47.196Z"
   },
   {
    "duration": 6,
    "start_time": "2023-06-13T00:28:47.200Z"
   },
   {
    "duration": 4,
    "start_time": "2023-06-13T00:28:47.922Z"
   },
   {
    "duration": 5,
    "start_time": "2023-06-13T00:28:48.627Z"
   },
   {
    "duration": 7,
    "start_time": "2023-06-13T00:28:49.107Z"
   },
   {
    "duration": 4,
    "start_time": "2023-06-13T00:29:27.473Z"
   },
   {
    "duration": 8,
    "start_time": "2023-06-13T00:29:28.234Z"
   },
   {
    "duration": 4,
    "start_time": "2023-06-13T00:30:00.449Z"
   },
   {
    "duration": 8,
    "start_time": "2023-06-13T00:30:01.038Z"
   },
   {
    "duration": 9,
    "start_time": "2023-06-13T00:30:18.896Z"
   },
   {
    "duration": 8,
    "start_time": "2023-06-13T00:30:25.671Z"
   },
   {
    "duration": 9,
    "start_time": "2023-06-13T00:31:10.284Z"
   },
   {
    "duration": 117,
    "start_time": "2023-06-13T00:33:15.471Z"
   },
   {
    "duration": 81,
    "start_time": "2023-06-13T00:33:23.158Z"
   },
   {
    "duration": 14,
    "start_time": "2023-06-13T00:33:30.702Z"
   },
   {
    "duration": 9,
    "start_time": "2023-06-13T00:33:34.326Z"
   },
   {
    "duration": 9,
    "start_time": "2023-06-13T00:33:39.735Z"
   },
   {
    "duration": 8,
    "start_time": "2023-06-13T00:33:46.734Z"
   },
   {
    "duration": 10,
    "start_time": "2023-06-13T00:33:54.766Z"
   },
   {
    "duration": 70,
    "start_time": "2023-06-13T00:38:32.776Z"
   },
   {
    "duration": 14,
    "start_time": "2023-06-13T00:38:53.676Z"
   },
   {
    "duration": 5,
    "start_time": "2023-06-13T00:39:28.895Z"
   },
   {
    "duration": 125,
    "start_time": "2023-06-13T00:39:28.902Z"
   },
   {
    "duration": 13,
    "start_time": "2023-06-13T00:39:29.030Z"
   },
   {
    "duration": 13,
    "start_time": "2023-06-13T00:39:29.045Z"
   },
   {
    "duration": 4,
    "start_time": "2023-06-13T00:39:29.060Z"
   },
   {
    "duration": 4,
    "start_time": "2023-06-13T00:39:29.066Z"
   },
   {
    "duration": 5,
    "start_time": "2023-06-13T00:39:29.071Z"
   },
   {
    "duration": 4,
    "start_time": "2023-06-13T00:39:29.077Z"
   },
   {
    "duration": 9,
    "start_time": "2023-06-13T00:39:29.083Z"
   },
   {
    "duration": 351,
    "start_time": "2023-06-13T00:39:29.093Z"
   },
   {
    "duration": 17,
    "start_time": "2023-06-13T00:39:29.445Z"
   },
   {
    "duration": 9,
    "start_time": "2023-06-13T00:39:29.463Z"
   },
   {
    "duration": 7,
    "start_time": "2023-06-13T00:39:29.473Z"
   },
   {
    "duration": 8,
    "start_time": "2023-06-13T00:39:29.482Z"
   },
   {
    "duration": 10,
    "start_time": "2023-06-13T00:39:29.491Z"
   },
   {
    "duration": 19,
    "start_time": "2023-06-13T00:39:29.503Z"
   },
   {
    "duration": 32,
    "start_time": "2023-06-13T00:39:29.523Z"
   },
   {
    "duration": 6,
    "start_time": "2023-06-13T00:39:29.556Z"
   },
   {
    "duration": 12,
    "start_time": "2023-06-13T00:39:29.564Z"
   },
   {
    "duration": 2,
    "start_time": "2023-06-13T00:39:29.578Z"
   },
   {
    "duration": 3,
    "start_time": "2023-06-13T00:39:29.581Z"
   },
   {
    "duration": 36,
    "start_time": "2023-06-13T00:39:29.586Z"
   },
   {
    "duration": 5,
    "start_time": "2023-06-13T00:39:29.623Z"
   },
   {
    "duration": 445,
    "start_time": "2023-06-13T00:39:29.655Z"
   },
   {
    "duration": 3,
    "start_time": "2023-06-13T00:43:39.575Z"
   },
   {
    "duration": 12,
    "start_time": "2023-06-13T00:43:40.446Z"
   },
   {
    "duration": 4,
    "start_time": "2023-06-13T00:49:38.113Z"
   },
   {
    "duration": 100,
    "start_time": "2023-06-13T00:49:38.119Z"
   },
   {
    "duration": 13,
    "start_time": "2023-06-13T00:49:38.220Z"
   },
   {
    "duration": 11,
    "start_time": "2023-06-13T00:49:38.235Z"
   },
   {
    "duration": 4,
    "start_time": "2023-06-13T00:49:38.248Z"
   },
   {
    "duration": 6,
    "start_time": "2023-06-13T00:49:38.253Z"
   },
   {
    "duration": 5,
    "start_time": "2023-06-13T00:49:38.261Z"
   },
   {
    "duration": 4,
    "start_time": "2023-06-13T00:49:38.267Z"
   },
   {
    "duration": 10,
    "start_time": "2023-06-13T00:49:38.273Z"
   },
   {
    "duration": 299,
    "start_time": "2023-06-13T00:49:38.284Z"
   },
   {
    "duration": 9,
    "start_time": "2023-06-13T00:49:38.584Z"
   },
   {
    "duration": 8,
    "start_time": "2023-06-13T00:49:38.595Z"
   },
   {
    "duration": 6,
    "start_time": "2023-06-13T00:49:38.605Z"
   },
   {
    "duration": 6,
    "start_time": "2023-06-13T00:49:38.612Z"
   },
   {
    "duration": 36,
    "start_time": "2023-06-13T00:49:38.619Z"
   },
   {
    "duration": 22,
    "start_time": "2023-06-13T00:49:38.657Z"
   },
   {
    "duration": 2,
    "start_time": "2023-06-13T00:49:38.681Z"
   },
   {
    "duration": 5,
    "start_time": "2023-06-13T00:49:38.684Z"
   },
   {
    "duration": 7,
    "start_time": "2023-06-13T00:49:38.691Z"
   },
   {
    "duration": 3,
    "start_time": "2023-06-13T00:49:38.700Z"
   },
   {
    "duration": 18,
    "start_time": "2023-06-13T00:49:38.705Z"
   },
   {
    "duration": 54,
    "start_time": "2023-06-13T00:49:38.724Z"
   },
   {
    "duration": 4,
    "start_time": "2023-06-13T00:49:38.780Z"
   },
   {
    "duration": 424,
    "start_time": "2023-06-13T00:49:41.820Z"
   },
   {
    "duration": 4,
    "start_time": "2023-06-13T00:56:37.823Z"
   },
   {
    "duration": 130,
    "start_time": "2023-06-13T00:56:37.830Z"
   },
   {
    "duration": 14,
    "start_time": "2023-06-13T00:56:37.961Z"
   },
   {
    "duration": 13,
    "start_time": "2023-06-13T00:56:37.977Z"
   },
   {
    "duration": 4,
    "start_time": "2023-06-13T00:56:37.992Z"
   },
   {
    "duration": 5,
    "start_time": "2023-06-13T00:56:37.997Z"
   },
   {
    "duration": 5,
    "start_time": "2023-06-13T00:56:38.003Z"
   },
   {
    "duration": 5,
    "start_time": "2023-06-13T00:56:38.009Z"
   },
   {
    "duration": 9,
    "start_time": "2023-06-13T00:56:38.055Z"
   },
   {
    "duration": 316,
    "start_time": "2023-06-13T00:56:38.066Z"
   },
   {
    "duration": 10,
    "start_time": "2023-06-13T00:56:38.383Z"
   },
   {
    "duration": 10,
    "start_time": "2023-06-13T00:56:38.395Z"
   },
   {
    "duration": 7,
    "start_time": "2023-06-13T00:56:38.406Z"
   },
   {
    "duration": 5,
    "start_time": "2023-06-13T00:56:38.415Z"
   },
   {
    "duration": 37,
    "start_time": "2023-06-13T00:56:38.422Z"
   },
   {
    "duration": 20,
    "start_time": "2023-06-13T00:56:38.460Z"
   },
   {
    "duration": 2,
    "start_time": "2023-06-13T00:56:38.481Z"
   },
   {
    "duration": 6,
    "start_time": "2023-06-13T00:56:38.484Z"
   },
   {
    "duration": 4,
    "start_time": "2023-06-13T00:56:38.491Z"
   },
   {
    "duration": 5,
    "start_time": "2023-06-13T00:56:38.497Z"
   },
   {
    "duration": 14,
    "start_time": "2023-06-13T00:56:38.503Z"
   },
   {
    "duration": 68,
    "start_time": "2023-06-13T00:56:38.518Z"
   },
   {
    "duration": 5,
    "start_time": "2023-06-13T00:56:38.588Z"
   },
   {
    "duration": 16,
    "start_time": "2023-06-13T00:56:38.595Z"
   },
   {
    "duration": 82208,
    "start_time": "2023-06-13T00:57:26.728Z"
   },
   {
    "duration": 7015,
    "start_time": "2023-06-13T01:03:34.085Z"
   },
   {
    "duration": 10391,
    "start_time": "2023-06-13T01:06:26.919Z"
   },
   {
    "duration": 5190,
    "start_time": "2023-06-13T01:07:07.280Z"
   },
   {
    "duration": 3041,
    "start_time": "2023-06-13T01:07:26.137Z"
   },
   {
    "duration": 3106,
    "start_time": "2023-06-13T01:09:04.124Z"
   },
   {
    "duration": 5158,
    "start_time": "2023-06-13T01:09:54.721Z"
   },
   {
    "duration": 5177,
    "start_time": "2023-06-13T01:10:51.591Z"
   },
   {
    "duration": 5099,
    "start_time": "2023-06-13T01:11:07.630Z"
   },
   {
    "duration": 5235,
    "start_time": "2023-06-13T01:12:03.326Z"
   },
   {
    "duration": 13057,
    "start_time": "2023-06-13T01:12:37.107Z"
   },
   {
    "duration": 286732,
    "start_time": "2023-06-13T01:13:11.023Z"
   },
   {
    "duration": 24465,
    "start_time": "2023-06-13T01:24:42.680Z"
   },
   {
    "duration": 12924,
    "start_time": "2023-06-13T01:25:30.490Z"
   },
   {
    "duration": 5,
    "start_time": "2023-06-13T01:37:07.114Z"
   },
   {
    "duration": 245,
    "start_time": "2023-06-13T01:37:07.121Z"
   },
   {
    "duration": 13,
    "start_time": "2023-06-13T01:37:07.367Z"
   },
   {
    "duration": 11,
    "start_time": "2023-06-13T01:37:07.382Z"
   },
   {
    "duration": 3,
    "start_time": "2023-06-13T01:37:07.395Z"
   },
   {
    "duration": 8,
    "start_time": "2023-06-13T01:37:07.400Z"
   },
   {
    "duration": 6,
    "start_time": "2023-06-13T01:37:07.409Z"
   },
   {
    "duration": 5,
    "start_time": "2023-06-13T01:37:07.416Z"
   },
   {
    "duration": 37,
    "start_time": "2023-06-13T01:37:07.423Z"
   },
   {
    "duration": 305,
    "start_time": "2023-06-13T01:37:07.463Z"
   },
   {
    "duration": 10,
    "start_time": "2023-06-13T01:37:07.770Z"
   },
   {
    "duration": 10,
    "start_time": "2023-06-13T01:37:07.781Z"
   },
   {
    "duration": 8,
    "start_time": "2023-06-13T01:37:07.792Z"
   },
   {
    "duration": 7,
    "start_time": "2023-06-13T01:37:07.802Z"
   },
   {
    "duration": 49,
    "start_time": "2023-06-13T01:37:07.810Z"
   },
   {
    "duration": 21,
    "start_time": "2023-06-13T01:37:07.861Z"
   },
   {
    "duration": 2,
    "start_time": "2023-06-13T01:37:07.884Z"
   },
   {
    "duration": 5,
    "start_time": "2023-06-13T01:37:07.888Z"
   },
   {
    "duration": 6,
    "start_time": "2023-06-13T01:37:07.894Z"
   },
   {
    "duration": 5,
    "start_time": "2023-06-13T01:37:07.901Z"
   },
   {
    "duration": 14,
    "start_time": "2023-06-13T01:37:07.908Z"
   },
   {
    "duration": 33,
    "start_time": "2023-06-13T01:37:07.955Z"
   },
   {
    "duration": 6,
    "start_time": "2023-06-13T01:37:07.989Z"
   },
   {
    "duration": 5325,
    "start_time": "2023-06-13T01:37:07.996Z"
   },
   {
    "duration": 33718,
    "start_time": "2023-06-13T01:37:13.323Z"
   },
   {
    "duration": 85,
    "start_time": "2023-06-13T01:37:47.043Z"
   },
   {
    "duration": 4,
    "start_time": "2023-06-13T01:37:47.129Z"
   },
   {
    "duration": 4805,
    "start_time": "2023-06-13T01:37:47.137Z"
   },
   {
    "duration": 34191,
    "start_time": "2023-06-13T01:37:51.944Z"
   },
   {
    "duration": 79,
    "start_time": "2023-06-13T01:38:26.137Z"
   },
   {
    "duration": 0,
    "start_time": "2023-06-13T01:38:26.218Z"
   },
   {
    "duration": 0,
    "start_time": "2023-06-13T01:38:26.219Z"
   },
   {
    "duration": 0,
    "start_time": "2023-06-13T01:38:26.220Z"
   },
   {
    "duration": 0,
    "start_time": "2023-06-13T01:38:26.221Z"
   },
   {
    "duration": 0,
    "start_time": "2023-06-13T01:38:26.222Z"
   },
   {
    "duration": 0,
    "start_time": "2023-06-13T01:38:26.223Z"
   },
   {
    "duration": 0,
    "start_time": "2023-06-13T01:38:26.224Z"
   },
   {
    "duration": 0,
    "start_time": "2023-06-13T01:38:26.225Z"
   },
   {
    "duration": 0,
    "start_time": "2023-06-13T01:38:26.226Z"
   },
   {
    "duration": 0,
    "start_time": "2023-06-13T01:38:26.227Z"
   },
   {
    "duration": 0,
    "start_time": "2023-06-13T01:38:26.228Z"
   },
   {
    "duration": 0,
    "start_time": "2023-06-13T01:38:26.229Z"
   },
   {
    "duration": 76,
    "start_time": "2023-06-13T01:41:00.914Z"
   },
   {
    "duration": 7,
    "start_time": "2023-06-13T01:41:04.393Z"
   },
   {
    "duration": 5,
    "start_time": "2023-06-13T01:42:26.856Z"
   },
   {
    "duration": 112,
    "start_time": "2023-06-13T01:42:26.863Z"
   },
   {
    "duration": 15,
    "start_time": "2023-06-13T01:42:26.977Z"
   },
   {
    "duration": 14,
    "start_time": "2023-06-13T01:42:26.995Z"
   },
   {
    "duration": 4,
    "start_time": "2023-06-13T01:42:27.011Z"
   },
   {
    "duration": 37,
    "start_time": "2023-06-13T01:42:27.017Z"
   },
   {
    "duration": 5,
    "start_time": "2023-06-13T01:42:27.056Z"
   },
   {
    "duration": 6,
    "start_time": "2023-06-13T01:42:27.063Z"
   },
   {
    "duration": 10,
    "start_time": "2023-06-13T01:42:27.072Z"
   },
   {
    "duration": 375,
    "start_time": "2023-06-13T01:42:27.084Z"
   },
   {
    "duration": 9,
    "start_time": "2023-06-13T01:42:27.461Z"
   },
   {
    "duration": 11,
    "start_time": "2023-06-13T01:42:27.472Z"
   },
   {
    "duration": 7,
    "start_time": "2023-06-13T01:42:27.484Z"
   },
   {
    "duration": 6,
    "start_time": "2023-06-13T01:42:27.493Z"
   },
   {
    "duration": 15,
    "start_time": "2023-06-13T01:42:27.501Z"
   },
   {
    "duration": 51,
    "start_time": "2023-06-13T01:42:27.518Z"
   },
   {
    "duration": 2,
    "start_time": "2023-06-13T01:42:27.571Z"
   },
   {
    "duration": 14,
    "start_time": "2023-06-13T01:42:27.575Z"
   },
   {
    "duration": 4,
    "start_time": "2023-06-13T01:42:27.591Z"
   },
   {
    "duration": 4,
    "start_time": "2023-06-13T01:42:27.597Z"
   },
   {
    "duration": 18,
    "start_time": "2023-06-13T01:42:27.602Z"
   },
   {
    "duration": 57,
    "start_time": "2023-06-13T01:42:27.621Z"
   },
   {
    "duration": 5,
    "start_time": "2023-06-13T01:42:27.680Z"
   },
   {
    "duration": 566,
    "start_time": "2023-06-13T01:42:27.689Z"
   },
   {
    "duration": 6973,
    "start_time": "2023-06-13T01:42:28.256Z"
   },
   {
    "duration": 91,
    "start_time": "2023-06-13T01:42:35.231Z"
   },
   {
    "duration": 5,
    "start_time": "2023-06-13T01:42:35.324Z"
   },
   {
    "duration": 600,
    "start_time": "2023-06-13T01:42:35.330Z"
   },
   {
    "duration": 5801,
    "start_time": "2023-06-13T01:42:35.931Z"
   },
   {
    "duration": 6,
    "start_time": "2023-06-13T01:42:41.733Z"
   },
   {
    "duration": 92,
    "start_time": "2023-06-13T01:42:41.741Z"
   },
   {
    "duration": 20,
    "start_time": "2023-06-13T01:42:41.834Z"
   },
   {
    "duration": 663,
    "start_time": "2023-06-13T01:42:41.855Z"
   },
   {
    "duration": 7984,
    "start_time": "2023-06-13T01:42:42.520Z"
   },
   {
    "duration": 7,
    "start_time": "2023-06-13T01:42:50.505Z"
   },
   {
    "duration": 104,
    "start_time": "2023-06-13T01:42:50.513Z"
   },
   {
    "duration": 10,
    "start_time": "2023-06-13T01:42:50.619Z"
   },
   {
    "duration": 331,
    "start_time": "2023-06-13T01:42:50.631Z"
   },
   {
    "duration": 3524,
    "start_time": "2023-06-13T01:42:50.964Z"
   },
   {
    "duration": 6,
    "start_time": "2023-06-13T01:42:54.490Z"
   },
   {
    "duration": 84,
    "start_time": "2023-06-13T01:42:54.498Z"
   },
   {
    "duration": 11,
    "start_time": "2023-06-13T01:42:54.584Z"
   },
   {
    "duration": 5,
    "start_time": "2023-06-13T01:56:14.848Z"
   },
   {
    "duration": 139,
    "start_time": "2023-06-13T01:56:14.855Z"
   },
   {
    "duration": 14,
    "start_time": "2023-06-13T01:56:14.996Z"
   },
   {
    "duration": 20,
    "start_time": "2023-06-13T01:56:15.012Z"
   },
   {
    "duration": 10,
    "start_time": "2023-06-13T01:56:15.034Z"
   },
   {
    "duration": 27,
    "start_time": "2023-06-13T01:56:15.045Z"
   },
   {
    "duration": 25,
    "start_time": "2023-06-13T01:56:15.074Z"
   },
   {
    "duration": 11,
    "start_time": "2023-06-13T01:56:15.100Z"
   },
   {
    "duration": 14,
    "start_time": "2023-06-13T01:56:15.114Z"
   },
   {
    "duration": 324,
    "start_time": "2023-06-13T01:56:15.130Z"
   },
   {
    "duration": 10,
    "start_time": "2023-06-13T01:56:15.456Z"
   },
   {
    "duration": 51,
    "start_time": "2023-06-13T01:56:15.468Z"
   },
   {
    "duration": 11,
    "start_time": "2023-06-13T01:56:15.520Z"
   },
   {
    "duration": 7,
    "start_time": "2023-06-13T01:56:15.533Z"
   },
   {
    "duration": 14,
    "start_time": "2023-06-13T01:56:15.541Z"
   },
   {
    "duration": 21,
    "start_time": "2023-06-13T01:56:15.556Z"
   },
   {
    "duration": 2,
    "start_time": "2023-06-13T01:56:15.579Z"
   },
   {
    "duration": 9,
    "start_time": "2023-06-13T01:56:15.582Z"
   },
   {
    "duration": 3,
    "start_time": "2023-06-13T01:56:15.593Z"
   },
   {
    "duration": 4,
    "start_time": "2023-06-13T01:56:15.598Z"
   },
   {
    "duration": 15,
    "start_time": "2023-06-13T01:56:15.604Z"
   },
   {
    "duration": 58,
    "start_time": "2023-06-13T01:56:15.621Z"
   },
   {
    "duration": 5,
    "start_time": "2023-06-13T01:56:15.680Z"
   },
   {
    "duration": 541,
    "start_time": "2023-06-13T01:56:15.688Z"
   },
   {
    "duration": 7220,
    "start_time": "2023-06-13T01:56:16.231Z"
   },
   {
    "duration": 79,
    "start_time": "2023-06-13T01:56:23.454Z"
   },
   {
    "duration": 4,
    "start_time": "2023-06-13T01:56:23.535Z"
   },
   {
    "duration": 575,
    "start_time": "2023-06-13T01:56:23.553Z"
   },
   {
    "duration": 5993,
    "start_time": "2023-06-13T01:56:24.130Z"
   },
   {
    "duration": 6,
    "start_time": "2023-06-13T01:56:30.124Z"
   },
   {
    "duration": 108,
    "start_time": "2023-06-13T01:56:30.132Z"
   },
   {
    "duration": 15,
    "start_time": "2023-06-13T01:56:30.242Z"
   },
   {
    "duration": 701,
    "start_time": "2023-06-13T01:56:30.259Z"
   },
   {
    "duration": 8179,
    "start_time": "2023-06-13T01:56:30.962Z"
   },
   {
    "duration": 19,
    "start_time": "2023-06-13T01:56:39.142Z"
   },
   {
    "duration": 0,
    "start_time": "2023-06-13T01:56:39.163Z"
   },
   {
    "duration": 0,
    "start_time": "2023-06-13T01:56:39.164Z"
   },
   {
    "duration": 0,
    "start_time": "2023-06-13T01:56:39.166Z"
   },
   {
    "duration": 0,
    "start_time": "2023-06-13T01:56:39.167Z"
   },
   {
    "duration": 0,
    "start_time": "2023-06-13T01:56:39.168Z"
   },
   {
    "duration": 0,
    "start_time": "2023-06-13T01:56:39.169Z"
   },
   {
    "duration": 0,
    "start_time": "2023-06-13T01:56:39.170Z"
   },
   {
    "duration": 11,
    "start_time": "2023-06-13T01:57:57.214Z"
   },
   {
    "duration": 5,
    "start_time": "2023-06-13T01:58:10.032Z"
   },
   {
    "duration": 131,
    "start_time": "2023-06-13T01:58:10.039Z"
   },
   {
    "duration": 14,
    "start_time": "2023-06-13T01:58:10.171Z"
   },
   {
    "duration": 25,
    "start_time": "2023-06-13T01:58:10.187Z"
   },
   {
    "duration": 6,
    "start_time": "2023-06-13T01:58:10.214Z"
   },
   {
    "duration": 8,
    "start_time": "2023-06-13T01:58:10.222Z"
   },
   {
    "duration": 8,
    "start_time": "2023-06-13T01:58:10.232Z"
   },
   {
    "duration": 14,
    "start_time": "2023-06-13T01:58:10.242Z"
   },
   {
    "duration": 32,
    "start_time": "2023-06-13T01:58:10.258Z"
   },
   {
    "duration": 305,
    "start_time": "2023-06-13T01:58:10.292Z"
   },
   {
    "duration": 10,
    "start_time": "2023-06-13T01:58:10.598Z"
   },
   {
    "duration": 9,
    "start_time": "2023-06-13T01:58:10.609Z"
   },
   {
    "duration": 8,
    "start_time": "2023-06-13T01:58:10.619Z"
   },
   {
    "duration": 26,
    "start_time": "2023-06-13T01:58:10.629Z"
   },
   {
    "duration": 11,
    "start_time": "2023-06-13T01:58:10.657Z"
   },
   {
    "duration": 21,
    "start_time": "2023-06-13T01:58:10.670Z"
   },
   {
    "duration": 3,
    "start_time": "2023-06-13T01:58:10.693Z"
   },
   {
    "duration": 6,
    "start_time": "2023-06-13T01:58:10.697Z"
   },
   {
    "duration": 4,
    "start_time": "2023-06-13T01:58:10.704Z"
   },
   {
    "duration": 4,
    "start_time": "2023-06-13T01:58:10.709Z"
   },
   {
    "duration": 15,
    "start_time": "2023-06-13T01:58:10.753Z"
   },
   {
    "duration": 35,
    "start_time": "2023-06-13T01:58:10.770Z"
   },
   {
    "duration": 5,
    "start_time": "2023-06-13T01:58:10.807Z"
   },
   {
    "duration": 566,
    "start_time": "2023-06-13T01:58:10.813Z"
   },
   {
    "duration": 5983,
    "start_time": "2023-06-13T01:58:11.380Z"
   },
   {
    "duration": 110,
    "start_time": "2023-06-13T01:58:17.365Z"
   },
   {
    "duration": 5,
    "start_time": "2023-06-13T01:58:17.477Z"
   },
   {
    "duration": 638,
    "start_time": "2023-06-13T01:58:17.486Z"
   },
   {
    "duration": 6209,
    "start_time": "2023-06-13T01:58:18.126Z"
   },
   {
    "duration": 17,
    "start_time": "2023-06-13T01:58:24.337Z"
   },
   {
    "duration": 98,
    "start_time": "2023-06-13T01:58:24.356Z"
   },
   {
    "duration": 9,
    "start_time": "2023-06-13T01:58:28.276Z"
   },
   {
    "duration": 6,
    "start_time": "2023-06-13T02:00:26.685Z"
   },
   {
    "duration": 4,
    "start_time": "2023-06-13T02:00:42.323Z"
   },
   {
    "duration": 112,
    "start_time": "2023-06-13T02:00:42.328Z"
   },
   {
    "duration": 14,
    "start_time": "2023-06-13T02:00:42.441Z"
   },
   {
    "duration": 17,
    "start_time": "2023-06-13T02:00:42.456Z"
   },
   {
    "duration": 14,
    "start_time": "2023-06-13T02:00:42.474Z"
   },
   {
    "duration": 18,
    "start_time": "2023-06-13T02:00:42.490Z"
   },
   {
    "duration": 7,
    "start_time": "2023-06-13T02:00:42.509Z"
   },
   {
    "duration": 7,
    "start_time": "2023-06-13T02:00:42.517Z"
   },
   {
    "duration": 21,
    "start_time": "2023-06-13T02:00:42.525Z"
   },
   {
    "duration": 309,
    "start_time": "2023-06-13T02:00:42.547Z"
   },
   {
    "duration": 9,
    "start_time": "2023-06-13T02:00:42.858Z"
   },
   {
    "duration": 10,
    "start_time": "2023-06-13T02:00:42.868Z"
   },
   {
    "duration": 6,
    "start_time": "2023-06-13T02:00:42.880Z"
   },
   {
    "duration": 6,
    "start_time": "2023-06-13T02:00:42.888Z"
   },
   {
    "duration": 14,
    "start_time": "2023-06-13T02:00:42.896Z"
   },
   {
    "duration": 43,
    "start_time": "2023-06-13T02:00:42.912Z"
   },
   {
    "duration": 3,
    "start_time": "2023-06-13T02:00:42.957Z"
   },
   {
    "duration": 5,
    "start_time": "2023-06-13T02:00:42.961Z"
   },
   {
    "duration": 8,
    "start_time": "2023-06-13T02:00:42.968Z"
   },
   {
    "duration": 4,
    "start_time": "2023-06-13T02:00:42.977Z"
   },
   {
    "duration": 16,
    "start_time": "2023-06-13T02:00:42.982Z"
   },
   {
    "duration": 31,
    "start_time": "2023-06-13T02:00:42.999Z"
   },
   {
    "duration": 25,
    "start_time": "2023-06-13T02:00:43.032Z"
   },
   {
    "duration": 534,
    "start_time": "2023-06-13T02:00:43.058Z"
   },
   {
    "duration": 5925,
    "start_time": "2023-06-13T02:00:43.594Z"
   },
   {
    "duration": 89,
    "start_time": "2023-06-13T02:00:49.521Z"
   },
   {
    "duration": 5,
    "start_time": "2023-06-13T02:00:49.611Z"
   },
   {
    "duration": 561,
    "start_time": "2023-06-13T02:00:49.617Z"
   },
   {
    "duration": 5764,
    "start_time": "2023-06-13T02:00:50.181Z"
   },
   {
    "duration": 10,
    "start_time": "2023-06-13T02:00:55.947Z"
   },
   {
    "duration": 83,
    "start_time": "2023-06-13T02:00:55.959Z"
   },
   {
    "duration": 17,
    "start_time": "2023-06-13T02:00:56.043Z"
   },
   {
    "duration": 11,
    "start_time": "2023-06-13T02:00:56.062Z"
   },
   {
    "duration": 691,
    "start_time": "2023-06-13T02:00:56.075Z"
   },
   {
    "duration": 8900,
    "start_time": "2023-06-13T02:00:56.768Z"
   },
   {
    "duration": 7,
    "start_time": "2023-06-13T02:01:05.670Z"
   },
   {
    "duration": 106,
    "start_time": "2023-06-13T02:01:05.678Z"
   },
   {
    "duration": 10,
    "start_time": "2023-06-13T02:01:05.785Z"
   },
   {
    "duration": 323,
    "start_time": "2023-06-13T02:01:05.797Z"
   },
   {
    "duration": 3538,
    "start_time": "2023-06-13T02:01:06.122Z"
   },
   {
    "duration": 6,
    "start_time": "2023-06-13T02:01:09.662Z"
   },
   {
    "duration": 85,
    "start_time": "2023-06-13T02:01:09.669Z"
   },
   {
    "duration": 11,
    "start_time": "2023-06-13T02:01:09.756Z"
   },
   {
    "duration": 9,
    "start_time": "2023-06-13T02:09:29.728Z"
   },
   {
    "duration": 97,
    "start_time": "2023-06-13T02:09:44.023Z"
   },
   {
    "duration": 98,
    "start_time": "2023-06-13T02:10:23.797Z"
   },
   {
    "duration": 103,
    "start_time": "2023-06-13T02:13:32.379Z"
   },
   {
    "duration": 97,
    "start_time": "2023-06-13T02:13:35.020Z"
   },
   {
    "duration": 97,
    "start_time": "2023-06-13T02:13:36.260Z"
   },
   {
    "duration": 93,
    "start_time": "2023-06-13T02:13:36.948Z"
   },
   {
    "duration": 10,
    "start_time": "2023-06-13T02:16:34.126Z"
   },
   {
    "duration": 4,
    "start_time": "2023-06-13T02:17:33.513Z"
   },
   {
    "duration": 132,
    "start_time": "2023-06-13T02:17:33.519Z"
   },
   {
    "duration": 14,
    "start_time": "2023-06-13T02:17:33.653Z"
   },
   {
    "duration": 13,
    "start_time": "2023-06-13T02:17:33.668Z"
   },
   {
    "duration": 4,
    "start_time": "2023-06-13T02:17:33.683Z"
   },
   {
    "duration": 5,
    "start_time": "2023-06-13T02:17:33.688Z"
   },
   {
    "duration": 4,
    "start_time": "2023-06-13T02:17:33.694Z"
   },
   {
    "duration": 4,
    "start_time": "2023-06-13T02:17:33.700Z"
   },
   {
    "duration": 10,
    "start_time": "2023-06-13T02:17:33.705Z"
   },
   {
    "duration": 352,
    "start_time": "2023-06-13T02:17:33.716Z"
   },
   {
    "duration": 10,
    "start_time": "2023-06-13T02:17:34.071Z"
   },
   {
    "duration": 10,
    "start_time": "2023-06-13T02:17:34.083Z"
   },
   {
    "duration": 7,
    "start_time": "2023-06-13T02:17:34.094Z"
   },
   {
    "duration": 6,
    "start_time": "2023-06-13T02:17:34.102Z"
   },
   {
    "duration": 10,
    "start_time": "2023-06-13T02:17:34.110Z"
   },
   {
    "duration": 20,
    "start_time": "2023-06-13T02:17:34.155Z"
   },
   {
    "duration": 3,
    "start_time": "2023-06-13T02:17:34.177Z"
   },
   {
    "duration": 6,
    "start_time": "2023-06-13T02:17:34.182Z"
   },
   {
    "duration": 4,
    "start_time": "2023-06-13T02:17:34.190Z"
   },
   {
    "duration": 7,
    "start_time": "2023-06-13T02:17:34.195Z"
   },
   {
    "duration": 15,
    "start_time": "2023-06-13T02:17:34.203Z"
   },
   {
    "duration": 67,
    "start_time": "2023-06-13T02:17:34.220Z"
   },
   {
    "duration": 5,
    "start_time": "2023-06-13T02:17:34.289Z"
   },
   {
    "duration": 549,
    "start_time": "2023-06-13T02:17:34.296Z"
   },
   {
    "duration": 5976,
    "start_time": "2023-06-13T02:17:34.855Z"
   },
   {
    "duration": 94,
    "start_time": "2023-06-13T02:17:40.833Z"
   },
   {
    "duration": 5,
    "start_time": "2023-06-13T02:17:40.929Z"
   },
   {
    "duration": 586,
    "start_time": "2023-06-13T02:17:40.937Z"
   },
   {
    "duration": 6033,
    "start_time": "2023-06-13T02:17:41.527Z"
   },
   {
    "duration": 6,
    "start_time": "2023-06-13T02:17:47.562Z"
   },
   {
    "duration": 102,
    "start_time": "2023-06-13T02:17:47.570Z"
   },
   {
    "duration": 9,
    "start_time": "2023-06-13T02:17:47.674Z"
   },
   {
    "duration": 111,
    "start_time": "2023-06-13T02:17:47.685Z"
   },
   {
    "duration": 11,
    "start_time": "2023-06-13T02:17:47.798Z"
   },
   {
    "duration": 704,
    "start_time": "2023-06-13T02:17:47.811Z"
   },
   {
    "duration": 9060,
    "start_time": "2023-06-13T02:17:48.517Z"
   },
   {
    "duration": 7,
    "start_time": "2023-06-13T02:17:57.578Z"
   },
   {
    "duration": 107,
    "start_time": "2023-06-13T02:17:57.587Z"
   },
   {
    "duration": 10,
    "start_time": "2023-06-13T02:17:57.696Z"
   },
   {
    "duration": 11,
    "start_time": "2023-06-13T02:17:57.708Z"
   },
   {
    "duration": 341,
    "start_time": "2023-06-13T02:17:57.721Z"
   },
   {
    "duration": 4503,
    "start_time": "2023-06-13T02:17:58.064Z"
   },
   {
    "duration": 6,
    "start_time": "2023-06-13T02:18:02.568Z"
   },
   {
    "duration": 92,
    "start_time": "2023-06-13T02:18:02.576Z"
   },
   {
    "duration": 13,
    "start_time": "2023-06-13T02:18:02.670Z"
   },
   {
    "duration": 13,
    "start_time": "2023-06-13T02:19:36.883Z"
   },
   {
    "duration": 347,
    "start_time": "2023-06-13T02:19:56.353Z"
   },
   {
    "duration": 11,
    "start_time": "2023-06-13T02:20:01.241Z"
   },
   {
    "duration": 8,
    "start_time": "2023-06-13T02:23:37.869Z"
   },
   {
    "duration": 4,
    "start_time": "2023-06-13T02:23:43.198Z"
   },
   {
    "duration": 6,
    "start_time": "2023-06-13T02:24:12.454Z"
   },
   {
    "duration": 4,
    "start_time": "2023-06-13T02:24:21.405Z"
   },
   {
    "duration": 4,
    "start_time": "2023-06-13T02:24:34.578Z"
   },
   {
    "duration": 4,
    "start_time": "2023-06-13T02:25:12.614Z"
   },
   {
    "duration": 120,
    "start_time": "2023-06-13T02:25:12.620Z"
   },
   {
    "duration": 13,
    "start_time": "2023-06-13T02:25:12.742Z"
   },
   {
    "duration": 13,
    "start_time": "2023-06-13T02:25:12.756Z"
   },
   {
    "duration": 4,
    "start_time": "2023-06-13T02:25:12.771Z"
   },
   {
    "duration": 4,
    "start_time": "2023-06-13T02:25:12.776Z"
   },
   {
    "duration": 4,
    "start_time": "2023-06-13T02:25:12.781Z"
   },
   {
    "duration": 5,
    "start_time": "2023-06-13T02:25:12.786Z"
   },
   {
    "duration": 9,
    "start_time": "2023-06-13T02:25:12.792Z"
   },
   {
    "duration": 341,
    "start_time": "2023-06-13T02:25:12.803Z"
   },
   {
    "duration": 11,
    "start_time": "2023-06-13T02:25:13.153Z"
   },
   {
    "duration": 11,
    "start_time": "2023-06-13T02:25:13.165Z"
   },
   {
    "duration": 7,
    "start_time": "2023-06-13T02:25:13.178Z"
   },
   {
    "duration": 6,
    "start_time": "2023-06-13T02:25:13.187Z"
   },
   {
    "duration": 10,
    "start_time": "2023-06-13T02:25:13.195Z"
   },
   {
    "duration": 57,
    "start_time": "2023-06-13T02:25:13.207Z"
   },
   {
    "duration": 3,
    "start_time": "2023-06-13T02:25:13.266Z"
   },
   {
    "duration": 7,
    "start_time": "2023-06-13T02:25:13.271Z"
   },
   {
    "duration": 4,
    "start_time": "2023-06-13T02:25:13.280Z"
   },
   {
    "duration": 7,
    "start_time": "2023-06-13T02:25:13.285Z"
   },
   {
    "duration": 13,
    "start_time": "2023-06-13T02:25:13.293Z"
   },
   {
    "duration": 56,
    "start_time": "2023-06-13T02:25:13.308Z"
   },
   {
    "duration": 4,
    "start_time": "2023-06-13T02:25:13.366Z"
   },
   {
    "duration": 520,
    "start_time": "2023-06-13T02:25:13.372Z"
   },
   {
    "duration": 7035,
    "start_time": "2023-06-13T02:25:13.894Z"
   },
   {
    "duration": 88,
    "start_time": "2023-06-13T02:25:20.930Z"
   },
   {
    "duration": 4,
    "start_time": "2023-06-13T02:25:21.020Z"
   },
   {
    "duration": 583,
    "start_time": "2023-06-13T02:25:21.026Z"
   },
   {
    "duration": 5928,
    "start_time": "2023-06-13T02:25:21.613Z"
   },
   {
    "duration": 13,
    "start_time": "2023-06-13T02:25:27.542Z"
   },
   {
    "duration": 106,
    "start_time": "2023-06-13T02:25:27.557Z"
   },
   {
    "duration": 10,
    "start_time": "2023-06-13T02:25:27.665Z"
   },
   {
    "duration": 118,
    "start_time": "2023-06-13T02:25:27.677Z"
   },
   {
    "duration": 10,
    "start_time": "2023-06-13T02:25:27.797Z"
   },
   {
    "duration": 698,
    "start_time": "2023-06-13T02:25:27.808Z"
   },
   {
    "duration": 8033,
    "start_time": "2023-06-13T02:25:28.507Z"
   },
   {
    "duration": 13,
    "start_time": "2023-06-13T02:25:36.542Z"
   },
   {
    "duration": 105,
    "start_time": "2023-06-13T02:25:36.556Z"
   },
   {
    "duration": 11,
    "start_time": "2023-06-13T02:25:36.663Z"
   },
   {
    "duration": 11,
    "start_time": "2023-06-13T02:25:36.676Z"
   },
   {
    "duration": 332,
    "start_time": "2023-06-13T02:25:36.688Z"
   },
   {
    "duration": 3534,
    "start_time": "2023-06-13T02:25:37.021Z"
   },
   {
    "duration": 7,
    "start_time": "2023-06-13T02:25:40.557Z"
   },
   {
    "duration": 92,
    "start_time": "2023-06-13T02:25:40.565Z"
   },
   {
    "duration": 11,
    "start_time": "2023-06-13T02:25:40.659Z"
   },
   {
    "duration": 15,
    "start_time": "2023-06-13T02:25:40.672Z"
   },
   {
    "duration": 12,
    "start_time": "2023-06-13T02:25:40.689Z"
   },
   {
    "duration": 5899,
    "start_time": "2023-06-13T02:26:58.444Z"
   },
   {
    "duration": 6388,
    "start_time": "2023-06-13T02:27:22.938Z"
   },
   {
    "duration": 4,
    "start_time": "2023-06-13T02:29:02.115Z"
   },
   {
    "duration": 122,
    "start_time": "2023-06-13T02:29:02.121Z"
   },
   {
    "duration": 15,
    "start_time": "2023-06-13T02:29:02.245Z"
   },
   {
    "duration": 28,
    "start_time": "2023-06-13T02:29:02.263Z"
   },
   {
    "duration": 20,
    "start_time": "2023-06-13T02:29:02.293Z"
   },
   {
    "duration": 15,
    "start_time": "2023-06-13T02:29:02.315Z"
   },
   {
    "duration": 31,
    "start_time": "2023-06-13T02:29:02.331Z"
   },
   {
    "duration": 20,
    "start_time": "2023-06-13T02:29:02.364Z"
   },
   {
    "duration": 15,
    "start_time": "2023-06-13T02:29:02.386Z"
   },
   {
    "duration": 342,
    "start_time": "2023-06-13T02:29:02.403Z"
   },
   {
    "duration": 13,
    "start_time": "2023-06-13T02:29:02.747Z"
   },
   {
    "duration": 10,
    "start_time": "2023-06-13T02:29:02.761Z"
   },
   {
    "duration": 7,
    "start_time": "2023-06-13T02:29:02.773Z"
   },
   {
    "duration": 10,
    "start_time": "2023-06-13T02:29:02.781Z"
   },
   {
    "duration": 11,
    "start_time": "2023-06-13T02:29:02.793Z"
   },
   {
    "duration": 50,
    "start_time": "2023-06-13T02:29:02.805Z"
   },
   {
    "duration": 2,
    "start_time": "2023-06-13T02:29:02.857Z"
   },
   {
    "duration": 6,
    "start_time": "2023-06-13T02:29:02.861Z"
   },
   {
    "duration": 4,
    "start_time": "2023-06-13T02:29:02.869Z"
   },
   {
    "duration": 9,
    "start_time": "2023-06-13T02:29:02.875Z"
   },
   {
    "duration": 14,
    "start_time": "2023-06-13T02:29:02.885Z"
   },
   {
    "duration": 56,
    "start_time": "2023-06-13T02:29:02.900Z"
   },
   {
    "duration": 5,
    "start_time": "2023-06-13T02:29:02.958Z"
   },
   {
    "duration": 556,
    "start_time": "2023-06-13T02:29:02.966Z"
   },
   {
    "duration": 5991,
    "start_time": "2023-06-13T02:29:03.524Z"
   },
   {
    "duration": 90,
    "start_time": "2023-06-13T02:29:09.517Z"
   },
   {
    "duration": 4,
    "start_time": "2023-06-13T02:29:09.609Z"
   },
   {
    "duration": 574,
    "start_time": "2023-06-13T02:29:09.614Z"
   },
   {
    "duration": 5994,
    "start_time": "2023-06-13T02:30:01.054Z"
   },
   {
    "duration": 5937,
    "start_time": "2023-06-13T02:31:32.332Z"
   },
   {
    "duration": 79,
    "start_time": "2023-06-13T02:32:51.502Z"
   },
   {
    "duration": 5796,
    "start_time": "2023-06-13T02:33:10.188Z"
   },
   {
    "duration": 6028,
    "start_time": "2023-06-13T02:33:24.244Z"
   },
   {
    "duration": 5911,
    "start_time": "2023-06-13T02:33:55.129Z"
   },
   {
    "duration": 5938,
    "start_time": "2023-06-13T02:36:25.834Z"
   },
   {
    "duration": 5733,
    "start_time": "2023-06-13T02:37:08.695Z"
   },
   {
    "duration": 6023,
    "start_time": "2023-06-13T02:38:41.109Z"
   },
   {
    "duration": 5909,
    "start_time": "2023-06-13T02:38:53.380Z"
   },
   {
    "duration": 5981,
    "start_time": "2023-06-13T02:40:00.276Z"
   },
   {
    "duration": 5951,
    "start_time": "2023-06-13T02:40:23.413Z"
   },
   {
    "duration": 494,
    "start_time": "2023-06-13T02:43:10.068Z"
   },
   {
    "duration": 466,
    "start_time": "2023-06-13T02:43:28.538Z"
   },
   {
    "duration": 255,
    "start_time": "2023-06-13T02:43:44.576Z"
   },
   {
    "duration": 78,
    "start_time": "2023-06-13T02:50:29.185Z"
   },
   {
    "duration": 257,
    "start_time": "2023-06-13T02:50:34.653Z"
   },
   {
    "duration": 500,
    "start_time": "2023-06-13T02:51:02.644Z"
   },
   {
    "duration": 251,
    "start_time": "2023-06-13T02:51:07.308Z"
   },
   {
    "duration": 4,
    "start_time": "2023-06-13T02:51:15.427Z"
   },
   {
    "duration": 292,
    "start_time": "2023-06-13T02:51:15.433Z"
   },
   {
    "duration": 12,
    "start_time": "2023-06-13T02:51:15.727Z"
   },
   {
    "duration": 11,
    "start_time": "2023-06-13T02:51:15.741Z"
   },
   {
    "duration": 4,
    "start_time": "2023-06-13T02:51:15.753Z"
   },
   {
    "duration": 6,
    "start_time": "2023-06-13T02:51:15.758Z"
   },
   {
    "duration": 5,
    "start_time": "2023-06-13T02:51:15.766Z"
   },
   {
    "duration": 7,
    "start_time": "2023-06-13T02:51:15.772Z"
   },
   {
    "duration": 9,
    "start_time": "2023-06-13T02:51:15.781Z"
   },
   {
    "duration": 294,
    "start_time": "2023-06-13T02:51:15.792Z"
   },
   {
    "duration": 9,
    "start_time": "2023-06-13T02:51:16.087Z"
   },
   {
    "duration": 8,
    "start_time": "2023-06-13T02:51:16.098Z"
   },
   {
    "duration": 6,
    "start_time": "2023-06-13T02:51:16.107Z"
   },
   {
    "duration": 6,
    "start_time": "2023-06-13T02:51:16.115Z"
   },
   {
    "duration": 34,
    "start_time": "2023-06-13T02:51:16.122Z"
   },
   {
    "duration": 20,
    "start_time": "2023-06-13T02:51:16.158Z"
   },
   {
    "duration": 3,
    "start_time": "2023-06-13T02:51:16.179Z"
   },
   {
    "duration": 6,
    "start_time": "2023-06-13T02:51:16.183Z"
   },
   {
    "duration": 5,
    "start_time": "2023-06-13T02:51:16.190Z"
   },
   {
    "duration": 7,
    "start_time": "2023-06-13T02:51:16.197Z"
   },
   {
    "duration": 12,
    "start_time": "2023-06-13T02:51:16.206Z"
   },
   {
    "duration": 61,
    "start_time": "2023-06-13T02:51:16.219Z"
   },
   {
    "duration": 4,
    "start_time": "2023-06-13T02:51:16.282Z"
   },
   {
    "duration": 555,
    "start_time": "2023-06-13T02:51:16.289Z"
   },
   {
    "duration": 6127,
    "start_time": "2023-06-13T02:51:16.845Z"
   },
   {
    "duration": 92,
    "start_time": "2023-06-13T02:51:22.973Z"
   },
   {
    "duration": 4,
    "start_time": "2023-06-13T02:51:23.067Z"
   },
   {
    "duration": 578,
    "start_time": "2023-06-13T02:51:23.073Z"
   },
   {
    "duration": 5967,
    "start_time": "2023-06-13T02:51:23.655Z"
   },
   {
    "duration": 500,
    "start_time": "2023-06-13T02:51:29.623Z"
   },
   {
    "duration": 6,
    "start_time": "2023-06-13T02:51:30.125Z"
   },
   {
    "duration": 100,
    "start_time": "2023-06-13T02:51:30.133Z"
   },
   {
    "duration": 10,
    "start_time": "2023-06-13T02:51:30.235Z"
   },
   {
    "duration": 121,
    "start_time": "2023-06-13T02:51:30.253Z"
   },
   {
    "duration": 12,
    "start_time": "2023-06-13T02:51:30.375Z"
   },
   {
    "duration": 710,
    "start_time": "2023-06-13T02:51:30.389Z"
   },
   {
    "duration": 7901,
    "start_time": "2023-06-13T02:51:31.101Z"
   },
   {
    "duration": 6,
    "start_time": "2023-06-13T02:51:39.004Z"
   },
   {
    "duration": 111,
    "start_time": "2023-06-13T02:51:39.012Z"
   },
   {
    "duration": 11,
    "start_time": "2023-06-13T02:51:39.124Z"
   },
   {
    "duration": 17,
    "start_time": "2023-06-13T02:51:39.137Z"
   },
   {
    "duration": 306,
    "start_time": "2023-06-13T02:51:39.156Z"
   },
   {
    "duration": 3534,
    "start_time": "2023-06-13T02:51:39.463Z"
   },
   {
    "duration": 7,
    "start_time": "2023-06-13T02:51:42.999Z"
   },
   {
    "duration": 86,
    "start_time": "2023-06-13T02:51:43.008Z"
   },
   {
    "duration": 10,
    "start_time": "2023-06-13T02:51:43.096Z"
   },
   {
    "duration": 11,
    "start_time": "2023-06-13T02:51:43.108Z"
   },
   {
    "duration": 5,
    "start_time": "2023-06-13T02:51:43.121Z"
   },
   {
    "duration": 6,
    "start_time": "2023-06-13T02:51:50.722Z"
   },
   {
    "duration": 2,
    "start_time": "2023-06-13T02:51:51.908Z"
   },
   {
    "duration": 311,
    "start_time": "2023-06-13T02:51:53.005Z"
   },
   {
    "duration": 50,
    "start_time": "2023-06-13T02:54:26.694Z"
   },
   {
    "duration": 15,
    "start_time": "2023-06-13T02:54:41.612Z"
   },
   {
    "duration": 354,
    "start_time": "2023-06-13T02:57:19.569Z"
   },
   {
    "duration": 330,
    "start_time": "2023-06-13T02:57:59.105Z"
   },
   {
    "duration": 43,
    "start_time": "2023-06-13T02:58:00.619Z"
   },
   {
    "duration": 67,
    "start_time": "2023-06-13T03:00:47.335Z"
   },
   {
    "duration": 5,
    "start_time": "2023-06-13T03:04:58.923Z"
   },
   {
    "duration": 104,
    "start_time": "2023-06-13T03:04:58.929Z"
   },
   {
    "duration": 13,
    "start_time": "2023-06-13T03:04:59.035Z"
   },
   {
    "duration": 12,
    "start_time": "2023-06-13T03:04:59.050Z"
   },
   {
    "duration": 4,
    "start_time": "2023-06-13T03:04:59.064Z"
   },
   {
    "duration": 8,
    "start_time": "2023-06-13T03:04:59.069Z"
   },
   {
    "duration": 4,
    "start_time": "2023-06-13T03:04:59.079Z"
   },
   {
    "duration": 5,
    "start_time": "2023-06-13T03:04:59.084Z"
   },
   {
    "duration": 8,
    "start_time": "2023-06-13T03:04:59.091Z"
   },
   {
    "duration": 342,
    "start_time": "2023-06-13T03:04:59.100Z"
   },
   {
    "duration": 18,
    "start_time": "2023-06-13T03:04:59.444Z"
   },
   {
    "duration": 8,
    "start_time": "2023-06-13T03:04:59.464Z"
   },
   {
    "duration": 6,
    "start_time": "2023-06-13T03:04:59.474Z"
   },
   {
    "duration": 10,
    "start_time": "2023-06-13T03:04:59.481Z"
   },
   {
    "duration": 11,
    "start_time": "2023-06-13T03:04:59.493Z"
   },
   {
    "duration": 50,
    "start_time": "2023-06-13T03:04:59.505Z"
   },
   {
    "duration": 2,
    "start_time": "2023-06-13T03:04:59.557Z"
   },
   {
    "duration": 8,
    "start_time": "2023-06-13T03:04:59.561Z"
   },
   {
    "duration": 4,
    "start_time": "2023-06-13T03:04:59.570Z"
   },
   {
    "duration": 4,
    "start_time": "2023-06-13T03:04:59.575Z"
   },
   {
    "duration": 18,
    "start_time": "2023-06-13T03:04:59.580Z"
   },
   {
    "duration": 143,
    "start_time": "2023-06-13T03:04:59.599Z"
   },
   {
    "duration": 13,
    "start_time": "2023-06-13T03:04:59.744Z"
   },
   {
    "duration": 30317,
    "start_time": "2023-06-13T03:04:59.761Z"
   },
   {
    "duration": 339668,
    "start_time": "2023-06-13T03:05:30.079Z"
   },
   {
    "duration": 0,
    "start_time": "2023-06-13T03:11:09.754Z"
   },
   {
    "duration": 0,
    "start_time": "2023-06-13T03:11:09.755Z"
   },
   {
    "duration": 0,
    "start_time": "2023-06-13T03:11:09.756Z"
   },
   {
    "duration": 0,
    "start_time": "2023-06-13T03:11:09.757Z"
   },
   {
    "duration": 0,
    "start_time": "2023-06-13T03:11:09.758Z"
   },
   {
    "duration": 0,
    "start_time": "2023-06-13T03:11:09.758Z"
   },
   {
    "duration": 0,
    "start_time": "2023-06-13T03:11:09.759Z"
   },
   {
    "duration": 0,
    "start_time": "2023-06-13T03:11:09.760Z"
   },
   {
    "duration": 0,
    "start_time": "2023-06-13T03:11:09.761Z"
   },
   {
    "duration": 1,
    "start_time": "2023-06-13T03:11:09.761Z"
   },
   {
    "duration": 0,
    "start_time": "2023-06-13T03:11:09.762Z"
   },
   {
    "duration": 0,
    "start_time": "2023-06-13T03:11:09.763Z"
   },
   {
    "duration": 0,
    "start_time": "2023-06-13T03:11:09.764Z"
   },
   {
    "duration": 0,
    "start_time": "2023-06-13T03:11:09.764Z"
   },
   {
    "duration": 0,
    "start_time": "2023-06-13T03:11:09.765Z"
   },
   {
    "duration": 0,
    "start_time": "2023-06-13T03:11:09.766Z"
   },
   {
    "duration": 0,
    "start_time": "2023-06-13T03:11:09.767Z"
   },
   {
    "duration": 0,
    "start_time": "2023-06-13T03:11:09.768Z"
   },
   {
    "duration": 0,
    "start_time": "2023-06-13T03:11:09.769Z"
   },
   {
    "duration": 0,
    "start_time": "2023-06-13T03:11:09.770Z"
   },
   {
    "duration": 0,
    "start_time": "2023-06-13T03:11:09.771Z"
   },
   {
    "duration": 0,
    "start_time": "2023-06-13T03:11:09.772Z"
   },
   {
    "duration": 0,
    "start_time": "2023-06-13T03:11:09.773Z"
   },
   {
    "duration": 0,
    "start_time": "2023-06-13T03:11:09.774Z"
   },
   {
    "duration": 5,
    "start_time": "2023-06-13T03:11:35.508Z"
   },
   {
    "duration": 101,
    "start_time": "2023-06-13T03:11:35.515Z"
   },
   {
    "duration": 13,
    "start_time": "2023-06-13T03:11:35.618Z"
   },
   {
    "duration": 12,
    "start_time": "2023-06-13T03:11:35.633Z"
   },
   {
    "duration": 3,
    "start_time": "2023-06-13T03:11:35.647Z"
   },
   {
    "duration": 9,
    "start_time": "2023-06-13T03:11:35.652Z"
   },
   {
    "duration": 9,
    "start_time": "2023-06-13T03:11:35.663Z"
   },
   {
    "duration": 4,
    "start_time": "2023-06-13T03:11:35.674Z"
   },
   {
    "duration": 8,
    "start_time": "2023-06-13T03:11:35.680Z"
   },
   {
    "duration": 294,
    "start_time": "2023-06-13T03:11:35.690Z"
   },
   {
    "duration": 10,
    "start_time": "2023-06-13T03:11:35.985Z"
   },
   {
    "duration": 9,
    "start_time": "2023-06-13T03:11:35.996Z"
   },
   {
    "duration": 7,
    "start_time": "2023-06-13T03:11:36.006Z"
   },
   {
    "duration": 8,
    "start_time": "2023-06-13T03:11:36.014Z"
   },
   {
    "duration": 36,
    "start_time": "2023-06-13T03:11:36.023Z"
   },
   {
    "duration": 19,
    "start_time": "2023-06-13T03:11:36.060Z"
   },
   {
    "duration": 2,
    "start_time": "2023-06-13T03:11:36.080Z"
   },
   {
    "duration": 6,
    "start_time": "2023-06-13T03:11:36.083Z"
   },
   {
    "duration": 25,
    "start_time": "2023-06-13T03:11:36.090Z"
   },
   {
    "duration": 6,
    "start_time": "2023-06-13T03:11:36.117Z"
   },
   {
    "duration": 12,
    "start_time": "2023-06-13T03:11:36.124Z"
   },
   {
    "duration": 38,
    "start_time": "2023-06-13T03:11:36.138Z"
   },
   {
    "duration": 4,
    "start_time": "2023-06-13T03:11:36.178Z"
   },
   {
    "duration": 27941,
    "start_time": "2023-06-13T03:11:36.185Z"
   },
   {
    "duration": 39015,
    "start_time": "2023-06-13T03:12:04.128Z"
   },
   {
    "duration": 0,
    "start_time": "2023-06-13T03:12:43.144Z"
   },
   {
    "duration": 0,
    "start_time": "2023-06-13T03:12:43.145Z"
   },
   {
    "duration": 0,
    "start_time": "2023-06-13T03:12:43.154Z"
   },
   {
    "duration": 0,
    "start_time": "2023-06-13T03:12:43.156Z"
   },
   {
    "duration": 0,
    "start_time": "2023-06-13T03:12:43.157Z"
   },
   {
    "duration": 0,
    "start_time": "2023-06-13T03:12:43.159Z"
   },
   {
    "duration": 0,
    "start_time": "2023-06-13T03:12:43.160Z"
   },
   {
    "duration": 0,
    "start_time": "2023-06-13T03:12:43.162Z"
   },
   {
    "duration": 0,
    "start_time": "2023-06-13T03:12:43.163Z"
   },
   {
    "duration": 0,
    "start_time": "2023-06-13T03:12:43.164Z"
   },
   {
    "duration": 0,
    "start_time": "2023-06-13T03:12:43.166Z"
   },
   {
    "duration": 0,
    "start_time": "2023-06-13T03:12:43.168Z"
   },
   {
    "duration": 0,
    "start_time": "2023-06-13T03:12:43.169Z"
   },
   {
    "duration": 0,
    "start_time": "2023-06-13T03:12:43.170Z"
   },
   {
    "duration": 0,
    "start_time": "2023-06-13T03:12:43.172Z"
   },
   {
    "duration": 0,
    "start_time": "2023-06-13T03:12:43.173Z"
   },
   {
    "duration": 0,
    "start_time": "2023-06-13T03:12:43.174Z"
   },
   {
    "duration": 0,
    "start_time": "2023-06-13T03:12:43.177Z"
   },
   {
    "duration": 0,
    "start_time": "2023-06-13T03:12:43.179Z"
   },
   {
    "duration": 0,
    "start_time": "2023-06-13T03:12:43.180Z"
   },
   {
    "duration": 0,
    "start_time": "2023-06-13T03:12:43.181Z"
   },
   {
    "duration": 0,
    "start_time": "2023-06-13T03:12:43.183Z"
   },
   {
    "duration": 0,
    "start_time": "2023-06-13T03:12:43.186Z"
   },
   {
    "duration": 4,
    "start_time": "2023-06-13T03:13:02.355Z"
   },
   {
    "duration": 118,
    "start_time": "2023-06-13T03:13:02.361Z"
   },
   {
    "duration": 13,
    "start_time": "2023-06-13T03:13:02.481Z"
   },
   {
    "duration": 29,
    "start_time": "2023-06-13T03:13:02.495Z"
   },
   {
    "duration": 4,
    "start_time": "2023-06-13T03:13:02.526Z"
   },
   {
    "duration": 12,
    "start_time": "2023-06-13T03:13:02.531Z"
   },
   {
    "duration": 11,
    "start_time": "2023-06-13T03:13:02.544Z"
   },
   {
    "duration": 7,
    "start_time": "2023-06-13T03:13:02.556Z"
   },
   {
    "duration": 36,
    "start_time": "2023-06-13T03:13:02.564Z"
   },
   {
    "duration": 332,
    "start_time": "2023-06-13T03:13:02.601Z"
   },
   {
    "duration": 9,
    "start_time": "2023-06-13T03:13:02.935Z"
   },
   {
    "duration": 8,
    "start_time": "2023-06-13T03:13:02.954Z"
   },
   {
    "duration": 14,
    "start_time": "2023-06-13T03:13:02.964Z"
   },
   {
    "duration": 5,
    "start_time": "2023-06-13T03:13:02.980Z"
   },
   {
    "duration": 9,
    "start_time": "2023-06-13T03:13:02.986Z"
   },
   {
    "duration": 31,
    "start_time": "2023-06-13T03:13:02.997Z"
   },
   {
    "duration": 3,
    "start_time": "2023-06-13T03:13:03.029Z"
   },
   {
    "duration": 6,
    "start_time": "2023-06-13T03:13:03.033Z"
   },
   {
    "duration": 13,
    "start_time": "2023-06-13T03:13:03.040Z"
   },
   {
    "duration": 7,
    "start_time": "2023-06-13T03:13:03.055Z"
   },
   {
    "duration": 15,
    "start_time": "2023-06-13T03:13:03.063Z"
   },
   {
    "duration": 34,
    "start_time": "2023-06-13T03:13:03.080Z"
   },
   {
    "duration": 4,
    "start_time": "2023-06-13T03:13:03.116Z"
   },
   {
    "duration": 526,
    "start_time": "2023-06-13T03:13:04.858Z"
   },
   {
    "duration": 17,
    "start_time": "2023-06-13T03:13:22.056Z"
   },
   {
    "duration": 5,
    "start_time": "2023-06-13T03:14:20.235Z"
   },
   {
    "duration": 127,
    "start_time": "2023-06-13T03:14:20.242Z"
   },
   {
    "duration": 17,
    "start_time": "2023-06-13T03:14:20.371Z"
   },
   {
    "duration": 15,
    "start_time": "2023-06-13T03:14:20.391Z"
   },
   {
    "duration": 5,
    "start_time": "2023-06-13T03:14:20.407Z"
   },
   {
    "duration": 5,
    "start_time": "2023-06-13T03:14:20.413Z"
   },
   {
    "duration": 9,
    "start_time": "2023-06-13T03:14:20.419Z"
   },
   {
    "duration": 27,
    "start_time": "2023-06-13T03:14:20.430Z"
   },
   {
    "duration": 25,
    "start_time": "2023-06-13T03:14:20.459Z"
   },
   {
    "duration": 319,
    "start_time": "2023-06-13T03:14:20.485Z"
   },
   {
    "duration": 10,
    "start_time": "2023-06-13T03:14:20.806Z"
   },
   {
    "duration": 10,
    "start_time": "2023-06-13T03:14:20.818Z"
   },
   {
    "duration": 28,
    "start_time": "2023-06-13T03:14:20.830Z"
   },
   {
    "duration": 8,
    "start_time": "2023-06-13T03:14:20.860Z"
   },
   {
    "duration": 21,
    "start_time": "2023-06-13T03:14:20.870Z"
   },
   {
    "duration": 22,
    "start_time": "2023-06-13T03:14:20.893Z"
   },
   {
    "duration": 2,
    "start_time": "2023-06-13T03:14:20.917Z"
   },
   {
    "duration": 7,
    "start_time": "2023-06-13T03:14:20.920Z"
   },
   {
    "duration": 28,
    "start_time": "2023-06-13T03:14:20.928Z"
   },
   {
    "duration": 6,
    "start_time": "2023-06-13T03:14:20.957Z"
   },
   {
    "duration": 18,
    "start_time": "2023-06-13T03:14:20.964Z"
   },
   {
    "duration": 35,
    "start_time": "2023-06-13T03:14:20.984Z"
   },
   {
    "duration": 5,
    "start_time": "2023-06-13T03:14:21.020Z"
   },
   {
    "duration": 555,
    "start_time": "2023-06-13T03:14:23.102Z"
   },
   {
    "duration": 4,
    "start_time": "2023-06-13T03:16:18.895Z"
   },
   {
    "duration": 115,
    "start_time": "2023-06-13T03:16:18.901Z"
   },
   {
    "duration": 16,
    "start_time": "2023-06-13T03:16:19.017Z"
   },
   {
    "duration": 12,
    "start_time": "2023-06-13T03:16:19.035Z"
   },
   {
    "duration": 4,
    "start_time": "2023-06-13T03:16:19.048Z"
   },
   {
    "duration": 4,
    "start_time": "2023-06-13T03:16:19.054Z"
   },
   {
    "duration": 5,
    "start_time": "2023-06-13T03:16:19.060Z"
   },
   {
    "duration": 6,
    "start_time": "2023-06-13T03:16:19.066Z"
   },
   {
    "duration": 10,
    "start_time": "2023-06-13T03:16:19.074Z"
   },
   {
    "duration": 309,
    "start_time": "2023-06-13T03:16:19.085Z"
   },
   {
    "duration": 11,
    "start_time": "2023-06-13T03:16:19.396Z"
   },
   {
    "duration": 10,
    "start_time": "2023-06-13T03:16:19.409Z"
   },
   {
    "duration": 6,
    "start_time": "2023-06-13T03:16:19.421Z"
   },
   {
    "duration": 30,
    "start_time": "2023-06-13T03:16:19.428Z"
   },
   {
    "duration": 11,
    "start_time": "2023-06-13T03:16:19.459Z"
   },
   {
    "duration": 21,
    "start_time": "2023-06-13T03:16:19.472Z"
   },
   {
    "duration": 3,
    "start_time": "2023-06-13T03:16:19.494Z"
   },
   {
    "duration": 9,
    "start_time": "2023-06-13T03:16:19.498Z"
   },
   {
    "duration": 4,
    "start_time": "2023-06-13T03:16:19.508Z"
   },
   {
    "duration": 4,
    "start_time": "2023-06-13T03:16:19.514Z"
   },
   {
    "duration": 42,
    "start_time": "2023-06-13T03:16:19.519Z"
   },
   {
    "duration": 40,
    "start_time": "2023-06-13T03:16:19.562Z"
   },
   {
    "duration": 4,
    "start_time": "2023-06-13T03:16:19.604Z"
   },
   {
    "duration": 1494,
    "start_time": "2023-06-13T03:16:23.278Z"
   },
   {
    "duration": 5,
    "start_time": "2023-06-13T03:17:40.179Z"
   },
   {
    "duration": 123,
    "start_time": "2023-06-13T03:17:40.185Z"
   },
   {
    "duration": 14,
    "start_time": "2023-06-13T03:17:40.309Z"
   },
   {
    "duration": 14,
    "start_time": "2023-06-13T03:17:40.324Z"
   },
   {
    "duration": 4,
    "start_time": "2023-06-13T03:17:40.339Z"
   },
   {
    "duration": 6,
    "start_time": "2023-06-13T03:17:40.344Z"
   },
   {
    "duration": 7,
    "start_time": "2023-06-13T03:17:40.351Z"
   },
   {
    "duration": 5,
    "start_time": "2023-06-13T03:17:40.359Z"
   },
   {
    "duration": 10,
    "start_time": "2023-06-13T03:17:40.365Z"
   },
   {
    "duration": 295,
    "start_time": "2023-06-13T03:17:40.377Z"
   },
   {
    "duration": 10,
    "start_time": "2023-06-13T03:17:40.675Z"
   },
   {
    "duration": 13,
    "start_time": "2023-06-13T03:17:40.686Z"
   },
   {
    "duration": 7,
    "start_time": "2023-06-13T03:17:40.701Z"
   },
   {
    "duration": 13,
    "start_time": "2023-06-13T03:17:40.709Z"
   },
   {
    "duration": 26,
    "start_time": "2023-06-13T03:17:40.723Z"
   },
   {
    "duration": 27,
    "start_time": "2023-06-13T03:17:40.751Z"
   },
   {
    "duration": 3,
    "start_time": "2023-06-13T03:17:40.779Z"
   },
   {
    "duration": 16,
    "start_time": "2023-06-13T03:17:40.783Z"
   },
   {
    "duration": 6,
    "start_time": "2023-06-13T03:17:40.801Z"
   },
   {
    "duration": 13,
    "start_time": "2023-06-13T03:17:40.809Z"
   },
   {
    "duration": 95,
    "start_time": "2023-06-13T03:17:40.824Z"
   },
   {
    "duration": 46,
    "start_time": "2023-06-13T03:17:40.921Z"
   },
   {
    "duration": 5,
    "start_time": "2023-06-13T03:17:40.968Z"
   },
   {
    "duration": 1880,
    "start_time": "2023-06-13T03:17:40.974Z"
   },
   {
    "duration": 117031,
    "start_time": "2023-06-13T03:17:42.856Z"
   },
   {
    "duration": 178,
    "start_time": "2023-06-13T03:19:39.888Z"
   },
   {
    "duration": 4,
    "start_time": "2023-06-13T03:19:40.068Z"
   },
   {
    "duration": 2666,
    "start_time": "2023-06-13T03:19:40.074Z"
   },
   {
    "duration": 118303,
    "start_time": "2023-06-13T03:19:42.754Z"
   },
   {
    "duration": 1119,
    "start_time": "2023-06-13T03:21:41.059Z"
   },
   {
    "duration": 6,
    "start_time": "2023-06-13T03:21:42.179Z"
   },
   {
    "duration": 171,
    "start_time": "2023-06-13T03:21:42.187Z"
   },
   {
    "duration": 9,
    "start_time": "2023-06-13T03:21:42.359Z"
   },
   {
    "duration": 106,
    "start_time": "2023-06-13T03:21:42.369Z"
   },
   {
    "duration": 10,
    "start_time": "2023-06-13T03:21:42.477Z"
   },
   {
    "duration": 3232,
    "start_time": "2023-06-13T03:21:42.488Z"
   },
   {
    "duration": 157124,
    "start_time": "2023-06-13T03:21:45.722Z"
   },
   {
    "duration": 11,
    "start_time": "2023-06-13T03:24:22.847Z"
   },
   {
    "duration": 205,
    "start_time": "2023-06-13T03:24:22.860Z"
   },
   {
    "duration": 10,
    "start_time": "2023-06-13T03:24:23.066Z"
   },
   {
    "duration": 9,
    "start_time": "2023-06-13T03:24:23.078Z"
   },
   {
    "duration": 1515,
    "start_time": "2023-06-13T03:24:23.089Z"
   },
   {
    "duration": 67725,
    "start_time": "2023-06-13T03:24:24.606Z"
   },
   {
    "duration": 7,
    "start_time": "2023-06-13T03:25:32.332Z"
   },
   {
    "duration": 165,
    "start_time": "2023-06-13T03:25:32.340Z"
   },
   {
    "duration": 11,
    "start_time": "2023-06-13T03:25:32.506Z"
   },
   {
    "duration": 15,
    "start_time": "2023-06-13T03:25:32.519Z"
   },
   {
    "duration": 19,
    "start_time": "2023-06-13T03:25:32.536Z"
   },
   {
    "duration": 13,
    "start_time": "2023-06-13T03:26:45.025Z"
   },
   {
    "duration": 3,
    "start_time": "2023-06-13T03:26:54.746Z"
   },
   {
    "duration": 1151,
    "start_time": "2023-06-13T03:27:37.952Z"
   },
   {
    "duration": 1153,
    "start_time": "2023-06-13T03:28:00.962Z"
   },
   {
    "duration": 1175,
    "start_time": "2023-06-13T03:29:30.876Z"
   },
   {
    "duration": 1146,
    "start_time": "2023-06-13T03:29:40.378Z"
   },
   {
    "duration": 7,
    "start_time": "2023-06-13T03:31:03.677Z"
   },
   {
    "duration": 3,
    "start_time": "2023-06-13T03:31:05.949Z"
   },
   {
    "duration": 78,
    "start_time": "2023-06-13T03:31:06.833Z"
   },
   {
    "duration": 420,
    "start_time": "2023-06-13T03:31:14.034Z"
   },
   {
    "duration": 1488,
    "start_time": "2023-06-13T03:31:43.725Z"
   },
   {
    "duration": 1434,
    "start_time": "2023-06-13T03:32:10.451Z"
   },
   {
    "duration": 3340,
    "start_time": "2023-06-13T18:23:31.829Z"
   },
   {
    "duration": 134,
    "start_time": "2023-06-13T18:23:35.171Z"
   },
   {
    "duration": 21,
    "start_time": "2023-06-13T18:23:35.308Z"
   },
   {
    "duration": 35,
    "start_time": "2023-06-13T18:23:35.331Z"
   },
   {
    "duration": 23,
    "start_time": "2023-06-13T18:23:35.369Z"
   },
   {
    "duration": 35,
    "start_time": "2023-06-13T18:23:35.394Z"
   },
   {
    "duration": 16,
    "start_time": "2023-06-13T18:23:35.431Z"
   },
   {
    "duration": 16,
    "start_time": "2023-06-13T18:23:35.449Z"
   },
   {
    "duration": 27,
    "start_time": "2023-06-13T18:23:35.467Z"
   },
   {
    "duration": 410,
    "start_time": "2023-06-13T18:23:35.498Z"
   },
   {
    "duration": 16,
    "start_time": "2023-06-13T18:23:35.910Z"
   },
   {
    "duration": 20,
    "start_time": "2023-06-13T18:23:35.928Z"
   },
   {
    "duration": 13,
    "start_time": "2023-06-13T18:23:35.949Z"
   },
   {
    "duration": 14,
    "start_time": "2023-06-13T18:23:35.963Z"
   },
   {
    "duration": 23,
    "start_time": "2023-06-13T18:23:35.978Z"
   },
   {
    "duration": 40,
    "start_time": "2023-06-13T18:23:36.008Z"
   },
   {
    "duration": 3,
    "start_time": "2023-06-13T18:23:36.050Z"
   },
   {
    "duration": 6,
    "start_time": "2023-06-13T18:23:36.055Z"
   },
   {
    "duration": 12,
    "start_time": "2023-06-13T18:23:36.063Z"
   },
   {
    "duration": 15,
    "start_time": "2023-06-13T18:23:36.077Z"
   },
   {
    "duration": 48,
    "start_time": "2023-06-13T18:23:36.093Z"
   },
   {
    "duration": 35,
    "start_time": "2023-06-13T18:23:36.144Z"
   },
   {
    "duration": 5,
    "start_time": "2023-06-13T18:23:36.181Z"
   },
   {
    "duration": 1633,
    "start_time": "2023-06-13T18:23:36.188Z"
   },
   {
    "duration": 134038,
    "start_time": "2023-06-13T18:23:37.824Z"
   },
   {
    "duration": 188,
    "start_time": "2023-06-13T18:25:51.863Z"
   },
   {
    "duration": 5,
    "start_time": "2023-06-13T18:25:52.052Z"
   },
   {
    "duration": 2911,
    "start_time": "2023-06-13T18:25:52.061Z"
   },
   {
    "duration": 129310,
    "start_time": "2023-06-13T18:25:54.974Z"
   },
   {
    "duration": 1272,
    "start_time": "2023-06-13T18:28:04.285Z"
   },
   {
    "duration": 5,
    "start_time": "2023-06-13T18:28:05.559Z"
   },
   {
    "duration": 195,
    "start_time": "2023-06-13T18:28:05.566Z"
   },
   {
    "duration": 8,
    "start_time": "2023-06-13T18:28:05.763Z"
   },
   {
    "duration": 144,
    "start_time": "2023-06-13T18:28:05.773Z"
   },
   {
    "duration": 10,
    "start_time": "2023-06-13T18:28:05.919Z"
   },
   {
    "duration": 3604,
    "start_time": "2023-06-13T18:28:05.931Z"
   },
   {
    "duration": 170686,
    "start_time": "2023-06-13T18:28:09.537Z"
   },
   {
    "duration": 6,
    "start_time": "2023-06-13T18:31:00.224Z"
   },
   {
    "duration": 207,
    "start_time": "2023-06-13T18:31:00.232Z"
   },
   {
    "duration": 11,
    "start_time": "2023-06-13T18:31:00.440Z"
   },
   {
    "duration": 32,
    "start_time": "2023-06-13T18:31:00.453Z"
   },
   {
    "duration": 1603,
    "start_time": "2023-06-13T18:31:00.486Z"
   },
   {
    "duration": 75939,
    "start_time": "2023-06-13T18:31:02.091Z"
   },
   {
    "duration": 7,
    "start_time": "2023-06-13T18:32:18.032Z"
   },
   {
    "duration": 185,
    "start_time": "2023-06-13T18:32:18.041Z"
   },
   {
    "duration": 12,
    "start_time": "2023-06-13T18:32:18.228Z"
   },
   {
    "duration": 71,
    "start_time": "2023-06-13T18:32:18.242Z"
   },
   {
    "duration": 25,
    "start_time": "2023-06-13T18:32:18.315Z"
   },
   {
    "duration": 9,
    "start_time": "2023-06-13T18:32:18.342Z"
   },
   {
    "duration": 1687,
    "start_time": "2023-06-13T18:32:18.352Z"
   },
   {
    "duration": 1909,
    "start_time": "2023-06-13T23:19:53.148Z"
   },
   {
    "duration": 203,
    "start_time": "2023-06-13T23:19:55.059Z"
   },
   {
    "duration": 18,
    "start_time": "2023-06-13T23:19:55.264Z"
   },
   {
    "duration": 28,
    "start_time": "2023-06-13T23:19:55.284Z"
   },
   {
    "duration": 36,
    "start_time": "2023-06-13T23:19:55.314Z"
   },
   {
    "duration": 11,
    "start_time": "2023-06-13T23:19:55.352Z"
   },
   {
    "duration": 73,
    "start_time": "2023-06-13T23:19:55.365Z"
   },
   {
    "duration": 20,
    "start_time": "2023-06-13T23:19:55.439Z"
   },
   {
    "duration": 19,
    "start_time": "2023-06-13T23:19:55.461Z"
   },
   {
    "duration": 363,
    "start_time": "2023-06-13T23:19:55.483Z"
   },
   {
    "duration": 10,
    "start_time": "2023-06-13T23:19:55.849Z"
   },
   {
    "duration": 8,
    "start_time": "2023-06-13T23:19:55.861Z"
   },
   {
    "duration": 21,
    "start_time": "2023-06-13T23:19:55.870Z"
   },
   {
    "duration": 58,
    "start_time": "2023-06-13T23:19:55.903Z"
   },
   {
    "duration": 24,
    "start_time": "2023-06-13T23:19:55.964Z"
   },
   {
    "duration": 53,
    "start_time": "2023-06-13T23:19:55.992Z"
   },
   {
    "duration": 44,
    "start_time": "2023-06-13T23:19:56.046Z"
   },
   {
    "duration": 78,
    "start_time": "2023-06-13T23:19:56.091Z"
   },
   {
    "duration": 89,
    "start_time": "2023-06-13T23:19:56.171Z"
   },
   {
    "duration": 50,
    "start_time": "2023-06-13T23:19:56.263Z"
   },
   {
    "duration": 3,
    "start_time": "2023-06-13T23:20:00.750Z"
   },
   {
    "duration": 306,
    "start_time": "2023-06-13T23:20:03.012Z"
   },
   {
    "duration": 161,
    "start_time": "2023-06-13T23:20:35.050Z"
   },
   {
    "duration": 152,
    "start_time": "2023-06-13T23:23:19.648Z"
   },
   {
    "duration": 164,
    "start_time": "2023-06-13T23:24:22.798Z"
   },
   {
    "duration": 8,
    "start_time": "2023-06-13T23:29:51.210Z"
   },
   {
    "duration": 213,
    "start_time": "2023-06-13T23:29:51.219Z"
   },
   {
    "duration": 12,
    "start_time": "2023-06-13T23:29:51.433Z"
   },
   {
    "duration": 78,
    "start_time": "2023-06-13T23:29:51.446Z"
   },
   {
    "duration": 15,
    "start_time": "2023-06-13T23:29:51.526Z"
   },
   {
    "duration": 24,
    "start_time": "2023-06-13T23:29:51.543Z"
   },
   {
    "duration": 13,
    "start_time": "2023-06-13T23:29:51.569Z"
   },
   {
    "duration": 68,
    "start_time": "2023-06-13T23:29:51.583Z"
   },
   {
    "duration": 44,
    "start_time": "2023-06-13T23:29:51.652Z"
   },
   {
    "duration": 417,
    "start_time": "2023-06-13T23:29:51.697Z"
   },
   {
    "duration": 9,
    "start_time": "2023-06-13T23:29:52.115Z"
   },
   {
    "duration": 8,
    "start_time": "2023-06-13T23:29:52.125Z"
   },
   {
    "duration": 22,
    "start_time": "2023-06-13T23:29:52.134Z"
   },
   {
    "duration": 20,
    "start_time": "2023-06-13T23:29:52.158Z"
   },
   {
    "duration": 65,
    "start_time": "2023-06-13T23:29:52.180Z"
   },
   {
    "duration": 35,
    "start_time": "2023-06-13T23:29:52.247Z"
   },
   {
    "duration": 63,
    "start_time": "2023-06-13T23:29:52.283Z"
   },
   {
    "duration": 40,
    "start_time": "2023-06-13T23:29:52.347Z"
   },
   {
    "duration": 47,
    "start_time": "2023-06-13T23:29:52.412Z"
   },
   {
    "duration": 22,
    "start_time": "2023-06-13T23:29:52.461Z"
   },
   {
    "duration": 2,
    "start_time": "2023-06-13T23:29:53.048Z"
   },
   {
    "duration": 26,
    "start_time": "2023-06-13T23:29:53.606Z"
   },
   {
    "duration": 4,
    "start_time": "2023-06-13T23:30:09.672Z"
   },
   {
    "duration": 170,
    "start_time": "2023-06-13T23:30:09.677Z"
   },
   {
    "duration": 11,
    "start_time": "2023-06-13T23:30:09.849Z"
   },
   {
    "duration": 13,
    "start_time": "2023-06-13T23:30:09.861Z"
   },
   {
    "duration": 4,
    "start_time": "2023-06-13T23:30:09.876Z"
   },
   {
    "duration": 65,
    "start_time": "2023-06-13T23:30:09.882Z"
   },
   {
    "duration": 17,
    "start_time": "2023-06-13T23:30:09.948Z"
   },
   {
    "duration": 10,
    "start_time": "2023-06-13T23:30:09.967Z"
   },
   {
    "duration": 65,
    "start_time": "2023-06-13T23:30:09.978Z"
   },
   {
    "duration": 357,
    "start_time": "2023-06-13T23:30:10.044Z"
   },
   {
    "duration": 20,
    "start_time": "2023-06-13T23:30:10.420Z"
   },
   {
    "duration": 11,
    "start_time": "2023-06-13T23:30:10.441Z"
   },
   {
    "duration": 8,
    "start_time": "2023-06-13T23:30:10.453Z"
   },
   {
    "duration": 6,
    "start_time": "2023-06-13T23:30:10.462Z"
   },
   {
    "duration": 11,
    "start_time": "2023-06-13T23:30:10.469Z"
   },
   {
    "duration": 2,
    "start_time": "2023-06-13T23:30:10.482Z"
   },
   {
    "duration": 30,
    "start_time": "2023-06-13T23:30:10.506Z"
   },
   {
    "duration": 6,
    "start_time": "2023-06-13T23:30:10.537Z"
   },
   {
    "duration": 15,
    "start_time": "2023-06-13T23:30:10.544Z"
   },
   {
    "duration": 2,
    "start_time": "2023-06-13T23:30:10.560Z"
   },
   {
    "duration": 3,
    "start_time": "2023-06-13T23:30:11.248Z"
   },
   {
    "duration": 27,
    "start_time": "2023-06-13T23:30:11.615Z"
   },
   {
    "duration": 10,
    "start_time": "2023-06-13T23:46:33.221Z"
   },
   {
    "duration": 7,
    "start_time": "2023-06-13T23:47:56.259Z"
   },
   {
    "duration": 12,
    "start_time": "2023-06-13T23:47:59.955Z"
   },
   {
    "duration": 5,
    "start_time": "2023-06-13T23:49:57.847Z"
   },
   {
    "duration": 213,
    "start_time": "2023-06-13T23:49:57.853Z"
   },
   {
    "duration": 12,
    "start_time": "2023-06-13T23:49:58.068Z"
   },
   {
    "duration": 45,
    "start_time": "2023-06-13T23:49:58.081Z"
   },
   {
    "duration": 94,
    "start_time": "2023-06-13T23:49:58.128Z"
   },
   {
    "duration": 20,
    "start_time": "2023-06-13T23:49:58.224Z"
   },
   {
    "duration": 11,
    "start_time": "2023-06-13T23:49:58.246Z"
   },
   {
    "duration": 7,
    "start_time": "2023-06-13T23:49:58.258Z"
   },
   {
    "duration": 15,
    "start_time": "2023-06-13T23:49:58.267Z"
   },
   {
    "duration": 311,
    "start_time": "2023-06-13T23:49:58.283Z"
   },
   {
    "duration": 15,
    "start_time": "2023-06-13T23:49:58.595Z"
   },
   {
    "duration": 30,
    "start_time": "2023-06-13T23:49:58.614Z"
   },
   {
    "duration": 6,
    "start_time": "2023-06-13T23:49:58.645Z"
   },
   {
    "duration": 9,
    "start_time": "2023-06-13T23:49:58.652Z"
   },
   {
    "duration": 20,
    "start_time": "2023-06-13T23:49:58.662Z"
   },
   {
    "duration": 30,
    "start_time": "2023-06-13T23:49:58.694Z"
   },
   {
    "duration": 45,
    "start_time": "2023-06-13T23:49:58.725Z"
   },
   {
    "duration": 55,
    "start_time": "2023-06-13T23:49:58.772Z"
   },
   {
    "duration": 49,
    "start_time": "2023-06-13T23:49:58.829Z"
   },
   {
    "duration": 57,
    "start_time": "2023-06-13T23:49:58.879Z"
   },
   {
    "duration": 27,
    "start_time": "2023-06-13T23:49:58.938Z"
   },
   {
    "duration": 3,
    "start_time": "2023-06-13T23:50:00.740Z"
   },
   {
    "duration": 19,
    "start_time": "2023-06-13T23:50:02.330Z"
   },
   {
    "duration": 13,
    "start_time": "2023-06-13T23:50:30.654Z"
   },
   {
    "duration": 9,
    "start_time": "2023-06-13T23:52:56.559Z"
   },
   {
    "duration": 10,
    "start_time": "2023-06-13T23:53:02.315Z"
   },
   {
    "duration": 209,
    "start_time": "2023-06-13T23:53:02.327Z"
   },
   {
    "duration": 13,
    "start_time": "2023-06-13T23:53:02.538Z"
   },
   {
    "duration": 41,
    "start_time": "2023-06-13T23:53:02.553Z"
   },
   {
    "duration": 137,
    "start_time": "2023-06-13T23:53:02.596Z"
   },
   {
    "duration": 21,
    "start_time": "2023-06-13T23:53:02.735Z"
   },
   {
    "duration": 25,
    "start_time": "2023-06-13T23:53:02.758Z"
   },
   {
    "duration": 63,
    "start_time": "2023-06-13T23:53:02.791Z"
   },
   {
    "duration": 35,
    "start_time": "2023-06-13T23:53:02.855Z"
   },
   {
    "duration": 339,
    "start_time": "2023-06-13T23:53:02.891Z"
   },
   {
    "duration": 9,
    "start_time": "2023-06-13T23:53:03.232Z"
   },
   {
    "duration": 85,
    "start_time": "2023-06-13T23:53:03.242Z"
   },
   {
    "duration": 12,
    "start_time": "2023-06-13T23:53:03.328Z"
   },
   {
    "duration": 7,
    "start_time": "2023-06-13T23:53:03.342Z"
   },
   {
    "duration": 84,
    "start_time": "2023-06-13T23:53:03.351Z"
   },
   {
    "duration": 4,
    "start_time": "2023-06-13T23:53:03.436Z"
   },
   {
    "duration": 6,
    "start_time": "2023-06-13T23:53:03.442Z"
   },
   {
    "duration": 16,
    "start_time": "2023-06-13T23:53:03.449Z"
   },
   {
    "duration": 48,
    "start_time": "2023-06-13T23:53:03.466Z"
   },
   {
    "duration": 21,
    "start_time": "2023-06-13T23:53:03.519Z"
   },
   {
    "duration": 20,
    "start_time": "2023-06-13T23:53:05.631Z"
   },
   {
    "duration": 8,
    "start_time": "2023-06-13T23:53:33.536Z"
   },
   {
    "duration": 8,
    "start_time": "2023-06-13T23:53:40.024Z"
   },
   {
    "duration": 198,
    "start_time": "2023-06-14T00:00:17.638Z"
   },
   {
    "duration": 266,
    "start_time": "2023-06-14T00:00:51.358Z"
   },
   {
    "duration": 2,
    "start_time": "2023-06-14T00:01:46.978Z"
   },
   {
    "duration": 4,
    "start_time": "2023-06-14T01:25:44.473Z"
   },
   {
    "duration": 359,
    "start_time": "2023-06-14T01:25:44.479Z"
   },
   {
    "duration": 12,
    "start_time": "2023-06-14T01:25:44.839Z"
   },
   {
    "duration": 46,
    "start_time": "2023-06-14T01:25:44.852Z"
   },
   {
    "duration": 63,
    "start_time": "2023-06-14T01:25:44.899Z"
   },
   {
    "duration": 48,
    "start_time": "2023-06-14T01:25:44.964Z"
   },
   {
    "duration": 62,
    "start_time": "2023-06-14T01:25:45.014Z"
   },
   {
    "duration": 60,
    "start_time": "2023-06-14T01:25:45.078Z"
   },
   {
    "duration": 83,
    "start_time": "2023-06-14T01:25:45.140Z"
   },
   {
    "duration": 286,
    "start_time": "2023-06-14T01:25:45.225Z"
   },
   {
    "duration": 11,
    "start_time": "2023-06-14T01:25:45.512Z"
   },
   {
    "duration": 17,
    "start_time": "2023-06-14T01:25:45.524Z"
   },
   {
    "duration": 7,
    "start_time": "2023-06-14T01:25:45.543Z"
   },
   {
    "duration": 12,
    "start_time": "2023-06-14T01:25:45.551Z"
   },
   {
    "duration": 13,
    "start_time": "2023-06-14T01:25:45.565Z"
   },
   {
    "duration": 3,
    "start_time": "2023-06-14T01:25:45.590Z"
   },
   {
    "duration": 51,
    "start_time": "2023-06-14T01:25:45.594Z"
   },
   {
    "duration": 19,
    "start_time": "2023-06-14T01:25:45.647Z"
   },
   {
    "duration": 15,
    "start_time": "2023-06-14T01:25:45.667Z"
   },
   {
    "duration": 9,
    "start_time": "2023-06-14T01:25:45.694Z"
   },
   {
    "duration": 30,
    "start_time": "2023-06-14T01:25:45.704Z"
   },
   {
    "duration": 3,
    "start_time": "2023-06-14T01:25:45.735Z"
   },
   {
    "duration": 3,
    "start_time": "2023-06-14T01:25:47.535Z"
   },
   {
    "duration": 23,
    "start_time": "2023-06-14T01:26:05.577Z"
   },
   {
    "duration": 8,
    "start_time": "2023-06-14T01:26:10.246Z"
   },
   {
    "duration": 12,
    "start_time": "2023-06-14T01:26:20.425Z"
   },
   {
    "duration": 16,
    "start_time": "2023-06-14T01:26:25.811Z"
   },
   {
    "duration": 25,
    "start_time": "2023-06-14T01:27:19.511Z"
   },
   {
    "duration": 10,
    "start_time": "2023-06-14T01:27:23.546Z"
   },
   {
    "duration": 104,
    "start_time": "2023-06-14T01:29:50.944Z"
   },
   {
    "duration": 9,
    "start_time": "2023-06-14T01:33:53.820Z"
   },
   {
    "duration": 12,
    "start_time": "2023-06-14T01:34:27.983Z"
   },
   {
    "duration": 10,
    "start_time": "2023-06-14T01:34:46.821Z"
   },
   {
    "duration": 7,
    "start_time": "2023-06-14T01:34:50.214Z"
   },
   {
    "duration": 173,
    "start_time": "2023-06-14T01:34:50.226Z"
   },
   {
    "duration": 27,
    "start_time": "2023-06-14T01:34:50.401Z"
   },
   {
    "duration": 39,
    "start_time": "2023-06-14T01:34:50.430Z"
   },
   {
    "duration": 3,
    "start_time": "2023-06-14T01:34:50.471Z"
   },
   {
    "duration": 47,
    "start_time": "2023-06-14T01:34:50.476Z"
   },
   {
    "duration": 11,
    "start_time": "2023-06-14T01:34:50.525Z"
   },
   {
    "duration": 8,
    "start_time": "2023-06-14T01:34:50.538Z"
   },
   {
    "duration": 12,
    "start_time": "2023-06-14T01:34:50.548Z"
   },
   {
    "duration": 306,
    "start_time": "2023-06-14T01:34:50.561Z"
   },
   {
    "duration": 20,
    "start_time": "2023-06-14T01:34:50.869Z"
   },
   {
    "duration": 9,
    "start_time": "2023-06-14T01:34:50.890Z"
   },
   {
    "duration": 34,
    "start_time": "2023-06-14T01:34:50.900Z"
   },
   {
    "duration": 26,
    "start_time": "2023-06-14T01:34:50.936Z"
   },
   {
    "duration": 33,
    "start_time": "2023-06-14T01:34:50.963Z"
   },
   {
    "duration": 58,
    "start_time": "2023-06-14T01:34:50.998Z"
   },
   {
    "duration": 15,
    "start_time": "2023-06-14T01:34:51.058Z"
   },
   {
    "duration": 56,
    "start_time": "2023-06-14T01:34:51.075Z"
   },
   {
    "duration": 17,
    "start_time": "2023-06-14T01:34:51.132Z"
   },
   {
    "duration": 8,
    "start_time": "2023-06-14T01:34:51.152Z"
   },
   {
    "duration": 21,
    "start_time": "2023-06-14T01:34:51.161Z"
   },
   {
    "duration": 53,
    "start_time": "2023-06-14T01:34:51.183Z"
   },
   {
    "duration": 20,
    "start_time": "2023-06-14T01:34:51.237Z"
   },
   {
    "duration": 19,
    "start_time": "2023-06-14T01:34:53.179Z"
   },
   {
    "duration": 13,
    "start_time": "2023-06-14T01:34:53.824Z"
   },
   {
    "duration": 14,
    "start_time": "2023-06-14T01:34:56.650Z"
   },
   {
    "duration": 12,
    "start_time": "2023-06-14T01:35:39.204Z"
   },
   {
    "duration": 2,
    "start_time": "2023-06-14T01:35:45.257Z"
   },
   {
    "duration": 17,
    "start_time": "2023-06-14T01:37:49.206Z"
   },
   {
    "duration": 25,
    "start_time": "2023-06-14T01:38:12.673Z"
   },
   {
    "duration": 4,
    "start_time": "2023-06-14T01:39:20.684Z"
   },
   {
    "duration": 13,
    "start_time": "2023-06-14T01:39:27.984Z"
   },
   {
    "duration": 15,
    "start_time": "2023-06-14T01:39:40.311Z"
   },
   {
    "duration": 19,
    "start_time": "2023-06-14T01:39:44.799Z"
   },
   {
    "duration": 12,
    "start_time": "2023-06-14T01:39:52.960Z"
   },
   {
    "duration": 11,
    "start_time": "2023-06-14T01:41:27.903Z"
   },
   {
    "duration": 11,
    "start_time": "2023-06-14T01:41:45.560Z"
   },
   {
    "duration": 20,
    "start_time": "2023-06-14T01:44:12.023Z"
   },
   {
    "duration": 4,
    "start_time": "2023-06-14T01:45:46.873Z"
   },
   {
    "duration": 195,
    "start_time": "2023-06-14T01:45:46.879Z"
   },
   {
    "duration": 14,
    "start_time": "2023-06-14T01:45:47.075Z"
   },
   {
    "duration": 54,
    "start_time": "2023-06-14T01:45:47.090Z"
   },
   {
    "duration": 4,
    "start_time": "2023-06-14T01:45:47.146Z"
   },
   {
    "duration": 6,
    "start_time": "2023-06-14T01:45:47.151Z"
   },
   {
    "duration": 10,
    "start_time": "2023-06-14T01:45:47.159Z"
   },
   {
    "duration": 58,
    "start_time": "2023-06-14T01:45:47.170Z"
   },
   {
    "duration": 14,
    "start_time": "2023-06-14T01:45:47.229Z"
   },
   {
    "duration": 295,
    "start_time": "2023-06-14T01:45:47.244Z"
   },
   {
    "duration": 9,
    "start_time": "2023-06-14T01:45:47.542Z"
   },
   {
    "duration": 10,
    "start_time": "2023-06-14T01:45:47.553Z"
   },
   {
    "duration": 20,
    "start_time": "2023-06-14T01:45:47.565Z"
   },
   {
    "duration": 83,
    "start_time": "2023-06-14T01:45:47.587Z"
   },
   {
    "duration": 72,
    "start_time": "2023-06-14T01:45:47.671Z"
   },
   {
    "duration": 18,
    "start_time": "2023-06-14T01:45:47.745Z"
   },
   {
    "duration": 67,
    "start_time": "2023-06-14T01:45:47.764Z"
   },
   {
    "duration": 22,
    "start_time": "2023-06-14T01:45:47.832Z"
   },
   {
    "duration": 64,
    "start_time": "2023-06-14T01:45:47.856Z"
   },
   {
    "duration": 48,
    "start_time": "2023-06-14T01:45:47.921Z"
   },
   {
    "duration": 68,
    "start_time": "2023-06-14T01:45:47.971Z"
   },
   {
    "duration": 25,
    "start_time": "2023-06-14T01:45:48.040Z"
   },
   {
    "duration": 22,
    "start_time": "2023-06-14T01:45:48.067Z"
   },
   {
    "duration": 55,
    "start_time": "2023-06-14T01:45:48.090Z"
   },
   {
    "duration": 13,
    "start_time": "2023-06-14T01:45:48.147Z"
   },
   {
    "duration": 7,
    "start_time": "2023-06-14T01:45:49.047Z"
   },
   {
    "duration": 11,
    "start_time": "2023-06-14T01:45:49.728Z"
   },
   {
    "duration": 4,
    "start_time": "2023-06-14T01:48:39.638Z"
   },
   {
    "duration": 153,
    "start_time": "2023-06-14T01:48:39.643Z"
   },
   {
    "duration": 16,
    "start_time": "2023-06-14T01:48:39.797Z"
   },
   {
    "duration": 63,
    "start_time": "2023-06-14T01:48:39.815Z"
   },
   {
    "duration": 54,
    "start_time": "2023-06-14T01:48:39.880Z"
   },
   {
    "duration": 14,
    "start_time": "2023-06-14T01:48:39.936Z"
   },
   {
    "duration": 10,
    "start_time": "2023-06-14T01:48:39.951Z"
   },
   {
    "duration": 6,
    "start_time": "2023-06-14T01:48:39.963Z"
   },
   {
    "duration": 13,
    "start_time": "2023-06-14T01:48:39.970Z"
   },
   {
    "duration": 349,
    "start_time": "2023-06-14T01:48:39.985Z"
   },
   {
    "duration": 7,
    "start_time": "2023-06-14T01:48:40.336Z"
   },
   {
    "duration": 13,
    "start_time": "2023-06-14T01:48:40.345Z"
   },
   {
    "duration": 15,
    "start_time": "2023-06-14T01:48:40.359Z"
   },
   {
    "duration": 55,
    "start_time": "2023-06-14T01:48:40.376Z"
   },
   {
    "duration": 17,
    "start_time": "2023-06-14T01:48:40.433Z"
   },
   {
    "duration": 2,
    "start_time": "2023-06-14T01:48:40.452Z"
   },
   {
    "duration": 9,
    "start_time": "2023-06-14T01:48:40.456Z"
   },
   {
    "duration": 6,
    "start_time": "2023-06-14T01:48:40.466Z"
   },
   {
    "duration": 50,
    "start_time": "2023-06-14T01:48:40.473Z"
   },
   {
    "duration": 20,
    "start_time": "2023-06-14T01:48:40.524Z"
   },
   {
    "duration": 16,
    "start_time": "2023-06-14T01:48:40.545Z"
   },
   {
    "duration": 17,
    "start_time": "2023-06-14T01:48:41.442Z"
   },
   {
    "duration": 13,
    "start_time": "2023-06-14T01:48:42.570Z"
   },
   {
    "duration": 18,
    "start_time": "2023-06-14T01:49:20.439Z"
   },
   {
    "duration": 15,
    "start_time": "2023-06-14T01:50:00.963Z"
   },
   {
    "duration": 8,
    "start_time": "2023-06-14T01:50:04.202Z"
   },
   {
    "duration": 255,
    "start_time": "2023-06-14T01:50:04.212Z"
   },
   {
    "duration": 13,
    "start_time": "2023-06-14T01:50:04.468Z"
   },
   {
    "duration": 59,
    "start_time": "2023-06-14T01:50:04.483Z"
   },
   {
    "duration": 12,
    "start_time": "2023-06-14T01:50:04.544Z"
   },
   {
    "duration": 12,
    "start_time": "2023-06-14T01:50:04.557Z"
   },
   {
    "duration": 56,
    "start_time": "2023-06-14T01:50:04.571Z"
   },
   {
    "duration": 33,
    "start_time": "2023-06-14T01:50:04.629Z"
   },
   {
    "duration": 54,
    "start_time": "2023-06-14T01:50:04.664Z"
   },
   {
    "duration": 350,
    "start_time": "2023-06-14T01:50:04.719Z"
   },
   {
    "duration": 25,
    "start_time": "2023-06-14T01:50:05.071Z"
   },
   {
    "duration": 54,
    "start_time": "2023-06-14T01:50:05.097Z"
   },
   {
    "duration": 71,
    "start_time": "2023-06-14T01:50:05.153Z"
   },
   {
    "duration": 42,
    "start_time": "2023-06-14T01:50:05.227Z"
   },
   {
    "duration": 69,
    "start_time": "2023-06-14T01:50:05.271Z"
   },
   {
    "duration": 18,
    "start_time": "2023-06-14T01:50:05.341Z"
   },
   {
    "duration": 22,
    "start_time": "2023-06-14T01:50:05.361Z"
   },
   {
    "duration": 72,
    "start_time": "2023-06-14T01:50:05.385Z"
   },
   {
    "duration": 24,
    "start_time": "2023-06-14T01:50:05.458Z"
   },
   {
    "duration": 13,
    "start_time": "2023-06-14T01:50:07.355Z"
   },
   {
    "duration": 12,
    "start_time": "2023-06-14T01:50:11.849Z"
   },
   {
    "duration": 4,
    "start_time": "2023-06-14T01:50:47.574Z"
   },
   {
    "duration": 171,
    "start_time": "2023-06-14T01:50:47.580Z"
   },
   {
    "duration": 12,
    "start_time": "2023-06-14T01:50:47.753Z"
   },
   {
    "duration": 68,
    "start_time": "2023-06-14T01:50:47.766Z"
   },
   {
    "duration": 16,
    "start_time": "2023-06-14T01:50:47.836Z"
   },
   {
    "duration": 72,
    "start_time": "2023-06-14T01:50:47.853Z"
   },
   {
    "duration": 9,
    "start_time": "2023-06-14T01:50:47.926Z"
   },
   {
    "duration": 32,
    "start_time": "2023-06-14T01:50:47.936Z"
   },
   {
    "duration": 16,
    "start_time": "2023-06-14T01:50:47.969Z"
   },
   {
    "duration": 375,
    "start_time": "2023-06-14T01:50:47.987Z"
   },
   {
    "duration": 11,
    "start_time": "2023-06-14T01:50:48.365Z"
   },
   {
    "duration": 63,
    "start_time": "2023-06-14T01:50:48.390Z"
   },
   {
    "duration": 21,
    "start_time": "2023-06-14T01:50:48.455Z"
   },
   {
    "duration": 71,
    "start_time": "2023-06-14T01:50:48.477Z"
   },
   {
    "duration": 33,
    "start_time": "2023-06-14T01:50:48.549Z"
   },
   {
    "duration": 73,
    "start_time": "2023-06-14T01:50:48.584Z"
   },
   {
    "duration": 12,
    "start_time": "2023-06-14T01:50:48.658Z"
   },
   {
    "duration": 72,
    "start_time": "2023-06-14T01:50:48.672Z"
   },
   {
    "duration": 47,
    "start_time": "2023-06-14T01:50:48.745Z"
   },
   {
    "duration": 65,
    "start_time": "2023-06-14T01:50:48.793Z"
   },
   {
    "duration": 76,
    "start_time": "2023-06-14T01:50:48.859Z"
   },
   {
    "duration": 6,
    "start_time": "2023-06-14T01:50:49.647Z"
   },
   {
    "duration": 23,
    "start_time": "2023-06-14T01:50:50.359Z"
   },
   {
    "duration": 22,
    "start_time": "2023-06-14T01:51:12.683Z"
   },
   {
    "duration": 28,
    "start_time": "2023-06-14T01:51:17.209Z"
   },
   {
    "duration": 13,
    "start_time": "2023-06-14T01:51:32.275Z"
   },
   {
    "duration": 22,
    "start_time": "2023-06-14T01:51:35.904Z"
   },
   {
    "duration": 13,
    "start_time": "2023-06-14T01:51:39.024Z"
   },
   {
    "duration": 107,
    "start_time": "2023-06-14T01:54:13.324Z"
   },
   {
    "duration": 6,
    "start_time": "2023-06-14T01:54:17.358Z"
   },
   {
    "duration": 5,
    "start_time": "2023-06-14T01:54:18.432Z"
   },
   {
    "duration": 19,
    "start_time": "2023-06-14T01:54:20.997Z"
   },
   {
    "duration": 11,
    "start_time": "2023-06-14T01:54:23.051Z"
   },
   {
    "duration": 4,
    "start_time": "2023-06-14T01:55:20.224Z"
   },
   {
    "duration": 121,
    "start_time": "2023-06-14T01:55:20.230Z"
   },
   {
    "duration": 11,
    "start_time": "2023-06-14T01:55:20.353Z"
   },
   {
    "duration": 40,
    "start_time": "2023-06-14T01:55:20.366Z"
   },
   {
    "duration": 21,
    "start_time": "2023-06-14T01:55:20.415Z"
   },
   {
    "duration": 10,
    "start_time": "2023-06-14T01:55:20.437Z"
   },
   {
    "duration": 54,
    "start_time": "2023-06-14T01:55:20.448Z"
   },
   {
    "duration": 24,
    "start_time": "2023-06-14T01:55:20.515Z"
   },
   {
    "duration": 34,
    "start_time": "2023-06-14T01:55:20.542Z"
   },
   {
    "duration": 311,
    "start_time": "2023-06-14T01:55:20.578Z"
   },
   {
    "duration": 13,
    "start_time": "2023-06-14T01:55:20.902Z"
   },
   {
    "duration": 40,
    "start_time": "2023-06-14T01:55:20.916Z"
   },
   {
    "duration": 16,
    "start_time": "2023-06-14T01:55:20.957Z"
   },
   {
    "duration": 17,
    "start_time": "2023-06-14T01:55:20.975Z"
   },
   {
    "duration": 44,
    "start_time": "2023-06-14T01:55:20.999Z"
   },
   {
    "duration": 26,
    "start_time": "2023-06-14T01:55:21.045Z"
   },
   {
    "duration": 6,
    "start_time": "2023-06-14T01:55:21.072Z"
   },
   {
    "duration": 21,
    "start_time": "2023-06-14T01:55:21.079Z"
   },
   {
    "duration": 22,
    "start_time": "2023-06-14T01:55:21.107Z"
   },
   {
    "duration": 14,
    "start_time": "2023-06-14T01:55:21.130Z"
   },
   {
    "duration": 17,
    "start_time": "2023-06-14T01:55:21.145Z"
   },
   {
    "duration": 31,
    "start_time": "2023-06-14T01:55:21.163Z"
   },
   {
    "duration": 35,
    "start_time": "2023-06-14T01:55:21.195Z"
   },
   {
    "duration": 8,
    "start_time": "2023-06-14T01:55:21.233Z"
   },
   {
    "duration": 9,
    "start_time": "2023-06-14T01:55:21.242Z"
   },
   {
    "duration": 20,
    "start_time": "2023-06-14T01:55:21.253Z"
   },
   {
    "duration": 44,
    "start_time": "2023-06-14T01:55:21.275Z"
   },
   {
    "duration": 4,
    "start_time": "2023-06-14T01:55:21.321Z"
   },
   {
    "duration": 25,
    "start_time": "2023-06-14T01:55:21.327Z"
   },
   {
    "duration": 0,
    "start_time": "2023-06-14T01:55:21.354Z"
   },
   {
    "duration": 0,
    "start_time": "2023-06-14T01:55:21.355Z"
   },
   {
    "duration": 15,
    "start_time": "2023-06-14T01:55:58.864Z"
   },
   {
    "duration": 4,
    "start_time": "2023-06-14T01:56:10.728Z"
   },
   {
    "duration": 17,
    "start_time": "2023-06-14T01:56:17.432Z"
   },
   {
    "duration": 27,
    "start_time": "2023-06-14T01:56:27.025Z"
   },
   {
    "duration": 27,
    "start_time": "2023-06-14T01:57:03.471Z"
   },
   {
    "duration": 4,
    "start_time": "2023-06-14T01:59:13.071Z"
   },
   {
    "duration": 164,
    "start_time": "2023-06-14T01:59:13.076Z"
   },
   {
    "duration": 13,
    "start_time": "2023-06-14T01:59:13.241Z"
   },
   {
    "duration": 12,
    "start_time": "2023-06-14T01:59:13.256Z"
   },
   {
    "duration": 7,
    "start_time": "2023-06-14T01:59:13.270Z"
   },
   {
    "duration": 5,
    "start_time": "2023-06-14T01:59:13.278Z"
   },
   {
    "duration": 29,
    "start_time": "2023-06-14T01:59:13.291Z"
   },
   {
    "duration": 21,
    "start_time": "2023-06-14T01:59:13.322Z"
   },
   {
    "duration": 13,
    "start_time": "2023-06-14T01:59:13.344Z"
   },
   {
    "duration": 305,
    "start_time": "2023-06-14T01:59:13.359Z"
   },
   {
    "duration": 8,
    "start_time": "2023-06-14T01:59:13.666Z"
   },
   {
    "duration": 30,
    "start_time": "2023-06-14T01:59:13.675Z"
   },
   {
    "duration": 21,
    "start_time": "2023-06-14T01:59:13.706Z"
   },
   {
    "duration": 9,
    "start_time": "2023-06-14T01:59:13.728Z"
   },
   {
    "duration": 13,
    "start_time": "2023-06-14T01:59:13.738Z"
   },
   {
    "duration": 4,
    "start_time": "2023-06-14T01:59:13.752Z"
   },
   {
    "duration": 8,
    "start_time": "2023-06-14T01:59:13.758Z"
   },
   {
    "duration": 6,
    "start_time": "2023-06-14T01:59:13.767Z"
   },
   {
    "duration": 32,
    "start_time": "2023-06-14T01:59:13.774Z"
   },
   {
    "duration": 14,
    "start_time": "2023-06-14T01:59:13.812Z"
   },
   {
    "duration": 20,
    "start_time": "2023-06-14T01:59:13.828Z"
   },
   {
    "duration": 14,
    "start_time": "2023-06-14T01:59:13.849Z"
   },
   {
    "duration": 16,
    "start_time": "2023-06-14T01:59:13.865Z"
   },
   {
    "duration": 50,
    "start_time": "2023-06-14T01:59:13.882Z"
   },
   {
    "duration": 11,
    "start_time": "2023-06-14T01:59:13.933Z"
   },
   {
    "duration": 4,
    "start_time": "2023-06-14T01:59:13.945Z"
   },
   {
    "duration": 8,
    "start_time": "2023-06-14T01:59:13.950Z"
   },
   {
    "duration": 67,
    "start_time": "2023-06-14T01:59:13.960Z"
   },
   {
    "duration": 5,
    "start_time": "2023-06-14T01:59:14.030Z"
   },
   {
    "duration": 26,
    "start_time": "2023-06-14T01:59:14.036Z"
   },
   {
    "duration": 1564,
    "start_time": "2023-06-14T01:59:14.063Z"
   },
   {
    "duration": 129655,
    "start_time": "2023-06-14T01:59:15.628Z"
   },
   {
    "duration": 151,
    "start_time": "2023-06-14T02:01:25.294Z"
   },
   {
    "duration": 2322,
    "start_time": "2023-06-20T06:14:20.979Z"
   },
   {
    "duration": 164,
    "start_time": "2023-06-20T06:14:23.303Z"
   },
   {
    "duration": 40,
    "start_time": "2023-06-20T06:14:23.477Z"
   },
   {
    "duration": 17,
    "start_time": "2023-06-20T06:14:23.522Z"
   },
   {
    "duration": 6,
    "start_time": "2023-06-20T06:14:23.543Z"
   },
   {
    "duration": 77,
    "start_time": "2023-06-20T06:14:23.551Z"
   },
   {
    "duration": 64,
    "start_time": "2023-06-20T06:14:23.631Z"
   },
   {
    "duration": 19,
    "start_time": "2023-06-20T06:14:23.699Z"
   },
   {
    "duration": 23,
    "start_time": "2023-06-20T06:14:23.720Z"
   },
   {
    "duration": 547,
    "start_time": "2023-06-20T06:14:23.745Z"
   },
   {
    "duration": 18,
    "start_time": "2023-06-20T06:14:24.303Z"
   },
   {
    "duration": 16,
    "start_time": "2023-06-20T06:14:24.324Z"
   },
   {
    "duration": 17,
    "start_time": "2023-06-20T06:14:24.341Z"
   },
   {
    "duration": 45,
    "start_time": "2023-06-20T06:14:24.363Z"
   },
   {
    "duration": 22,
    "start_time": "2023-06-20T06:14:24.411Z"
   },
   {
    "duration": 11,
    "start_time": "2023-06-20T06:14:24.436Z"
   },
   {
    "duration": 62,
    "start_time": "2023-06-20T06:14:24.450Z"
   },
   {
    "duration": 8,
    "start_time": "2023-06-20T06:14:24.514Z"
   },
   {
    "duration": 26,
    "start_time": "2023-06-20T06:14:24.524Z"
   },
   {
    "duration": 10,
    "start_time": "2023-06-20T06:14:24.552Z"
   },
   {
    "duration": 40,
    "start_time": "2023-06-20T06:14:24.563Z"
   },
   {
    "duration": 34,
    "start_time": "2023-06-20T06:14:24.605Z"
   },
   {
    "duration": 27,
    "start_time": "2023-06-20T06:14:24.641Z"
   },
   {
    "duration": 61,
    "start_time": "2023-06-20T06:14:24.670Z"
   },
   {
    "duration": 8,
    "start_time": "2023-06-20T06:14:24.735Z"
   },
   {
    "duration": 34,
    "start_time": "2023-06-20T06:14:24.745Z"
   },
   {
    "duration": 22,
    "start_time": "2023-06-20T06:14:24.782Z"
   },
   {
    "duration": 59,
    "start_time": "2023-06-20T06:14:30.614Z"
   },
   {
    "duration": 29,
    "start_time": "2023-06-20T06:14:38.617Z"
   },
   {
    "duration": 39,
    "start_time": "2023-06-20T06:14:43.894Z"
   },
   {
    "duration": 41,
    "start_time": "2023-06-20T06:14:49.743Z"
   },
   {
    "duration": 1786,
    "start_time": "2023-08-10T15:51:50.213Z"
   },
   {
    "duration": 270,
    "start_time": "2023-08-10T15:51:52.002Z"
   },
   {
    "duration": 28,
    "start_time": "2023-08-10T15:51:52.273Z"
   },
   {
    "duration": 52,
    "start_time": "2023-08-10T15:51:52.303Z"
   },
   {
    "duration": 47,
    "start_time": "2023-08-10T15:51:52.356Z"
   },
   {
    "duration": 5,
    "start_time": "2023-08-10T15:51:52.405Z"
   },
   {
    "duration": 18,
    "start_time": "2023-08-10T15:51:52.411Z"
   },
   {
    "duration": 12,
    "start_time": "2023-08-10T15:51:52.430Z"
   },
   {
    "duration": 38,
    "start_time": "2023-08-10T15:51:52.461Z"
   },
   {
    "duration": 423,
    "start_time": "2023-08-10T15:51:52.502Z"
   },
   {
    "duration": 25,
    "start_time": "2023-08-10T15:51:52.927Z"
   },
   {
    "duration": 60,
    "start_time": "2023-08-10T15:51:52.953Z"
   },
   {
    "duration": 8,
    "start_time": "2023-08-10T15:51:53.014Z"
   },
   {
    "duration": 10,
    "start_time": "2023-08-10T15:51:53.023Z"
   },
   {
    "duration": 76,
    "start_time": "2023-08-10T15:51:53.035Z"
   },
   {
    "duration": 4,
    "start_time": "2023-08-10T15:51:53.112Z"
   },
   {
    "duration": 7,
    "start_time": "2023-08-10T15:51:53.118Z"
   },
   {
    "duration": 53,
    "start_time": "2023-08-10T15:51:53.127Z"
   },
   {
    "duration": 27,
    "start_time": "2023-08-10T15:51:53.181Z"
   },
   {
    "duration": 8,
    "start_time": "2023-08-10T15:51:53.210Z"
   },
   {
    "duration": 15,
    "start_time": "2023-08-10T15:51:53.220Z"
   },
   {
    "duration": 32,
    "start_time": "2023-08-10T15:51:59.428Z"
   },
   {
    "duration": 52,
    "start_time": "2023-08-14T13:50:31.023Z"
   },
   {
    "duration": 1819,
    "start_time": "2023-08-14T13:50:33.751Z"
   },
   {
    "duration": 164,
    "start_time": "2023-08-14T13:50:35.572Z"
   },
   {
    "duration": 20,
    "start_time": "2023-08-14T13:50:35.738Z"
   },
   {
    "duration": 15,
    "start_time": "2023-08-14T13:50:35.760Z"
   },
   {
    "duration": 5,
    "start_time": "2023-08-14T13:50:35.778Z"
   },
   {
    "duration": 7,
    "start_time": "2023-08-14T13:50:35.785Z"
   },
   {
    "duration": 7,
    "start_time": "2023-08-14T13:50:35.794Z"
   },
   {
    "duration": 15,
    "start_time": "2023-08-14T13:50:35.803Z"
   },
   {
    "duration": 40,
    "start_time": "2023-08-14T13:50:35.821Z"
   },
   {
    "duration": 352,
    "start_time": "2023-08-14T13:50:35.862Z"
   },
   {
    "duration": 11,
    "start_time": "2023-08-14T13:50:36.216Z"
   },
   {
    "duration": 15,
    "start_time": "2023-08-14T13:50:36.229Z"
   },
   {
    "duration": 24,
    "start_time": "2023-08-14T13:50:36.246Z"
   },
   {
    "duration": 22,
    "start_time": "2023-08-14T13:50:36.273Z"
   },
   {
    "duration": 20,
    "start_time": "2023-08-14T13:50:36.297Z"
   },
   {
    "duration": 3,
    "start_time": "2023-08-14T13:50:36.319Z"
   },
   {
    "duration": 19,
    "start_time": "2023-08-14T13:50:36.323Z"
   },
   {
    "duration": 9,
    "start_time": "2023-08-14T13:50:36.343Z"
   },
   {
    "duration": 37,
    "start_time": "2023-08-14T13:50:36.353Z"
   },
   {
    "duration": 40,
    "start_time": "2023-08-14T13:50:36.392Z"
   },
   {
    "duration": 21,
    "start_time": "2023-08-14T13:50:36.434Z"
   },
   {
    "duration": 14,
    "start_time": "2023-08-14T13:50:36.457Z"
   },
   {
    "duration": 15,
    "start_time": "2023-08-14T13:50:37.896Z"
   },
   {
    "duration": 10,
    "start_time": "2023-08-14T13:50:38.350Z"
   },
   {
    "duration": 14,
    "start_time": "2023-08-14T13:50:40.414Z"
   }
  ],
  "kernelspec": {
   "display_name": "Python 3 (ipykernel)",
   "language": "python",
   "name": "python3"
  },
  "language_info": {
   "codemirror_mode": {
    "name": "ipython",
    "version": 3
   },
   "file_extension": ".py",
   "mimetype": "text/x-python",
   "name": "python",
   "nbconvert_exporter": "python",
   "pygments_lexer": "ipython3",
   "version": "3.9.13"
  },
  "toc": {
   "base_numbering": "1",
   "nav_menu": {},
   "number_sections": true,
   "sideBar": true,
   "skip_h1_title": true,
   "title_cell": "Содержание",
   "title_sidebar": "Contents",
   "toc_cell": true,
   "toc_position": {
    "height": "757px",
    "left": "35px",
    "top": "111.125px",
    "width": "384px"
   },
   "toc_section_display": true,
   "toc_window_display": true
  }
 },
 "nbformat": 4,
 "nbformat_minor": 2
}
