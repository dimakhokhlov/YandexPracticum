{
 "cells": [
  {
   "cell_type": "markdown",
   "id": "b9373c61",
   "metadata": {},
   "source": [
    "# Определение стоимости автомобилей"
   ]
  },
  {
   "cell_type": "markdown",
   "id": "56543d40",
   "metadata": {},
   "source": [
    "Сервис по продаже автомобилей с пробегом «Не бит, не крашен» разрабатывает приложение для привлечения новых клиентов. В нём можно быстро узнать рыночную стоимость своего автомобиля. В вашем распоряжении исторические данные: технические характеристики, комплектации и цены автомобилей. Вам нужно построить модель для определения стоимости. \n",
    "\n",
    "Заказчику важны:\n",
    "\n",
    "- качество предсказания;\n",
    "- скорость предсказания;\n",
    "- время обучения.\n",
    "\n",
    "Значение метрики RMSE должно быть меньше 2500"
   ]
  },
  {
   "cell_type": "markdown",
   "id": "2d1c03d2",
   "metadata": {},
   "source": [
    "# Описание данных:\n",
    "\n",
    "**Признаки**\n",
    "\n",
    "- `DateCrawled` — дата скачивания анкеты из базы\n",
    "- `VehicleType` — тип автомобильного кузова\n",
    "- `RegistrationYear` — год регистрации автомобиля\n",
    "- `Gearbox` — тип коробки передач\n",
    "- `Power` — мощность (л. с.)\n",
    "- `Model` — модель автомобиля\n",
    "- `Kilometer` — пробег (км)\n",
    "- `RegistrationMonth` — месяц регистрации автомобиля\n",
    "- `FuelType` — тип топлива\n",
    "- `Brand` — марка автомобиля\n",
    "- `NotRepaired` — была машина в ремонте или нет\n",
    "- `DateCreated` — дата создания анкеты\n",
    "- `NumberOfPictures` — количество фотографий автомобиля\n",
    "- `PostalCode` — почтовый индекс владельца анкеты (пользователя)\n",
    "- `LastSeen` — дата последней активности пользователя\n",
    "\n",
    "**Цеоевой признак**\n",
    "\n",
    "- `Price` — цена (евро)"
   ]
  },
  {
   "cell_type": "markdown",
   "id": "ce6d53ed",
   "metadata": {},
   "source": [
    "## Подготовка данных"
   ]
  },
  {
   "cell_type": "markdown",
   "id": "6ff66032",
   "metadata": {},
   "source": [
    "### Импорт используемых библиотек"
   ]
  },
  {
   "cell_type": "code",
   "execution_count": 1,
   "id": "9c7258a0",
   "metadata": {},
   "outputs": [],
   "source": [
    "import re\n",
    "import pandas as pd\n",
    "import ydata_profiling\n",
    "import matplotlib.pyplot as plt\n",
    "import seaborn as sns\n",
    "import numpy as np\n",
    "import timeit\n",
    "import lightgbm as lgb\n",
    "\n",
    "from pycaret.regression import RegressionExperiment\n",
    "\n",
    "from sklearn.model_selection import (\n",
    "    train_test_split,\n",
    "    GridSearchCV,\n",
    "    cross_val_score\n",
    ")\n",
    "\n",
    "from sklearn.preprocessing import (\n",
    "    OneHotEncoder,\n",
    "    OrdinalEncoder,\n",
    "    StandardScaler\n",
    ")\n",
    "\n",
    "from sklearn.compose import ColumnTransformer\n",
    "from sklearn.pipeline import Pipeline\n",
    "from sklearn.metrics import mean_squared_error\n",
    "\n",
    "from sklearn.dummy import DummyRegressor\n",
    "from sklearn.neighbors import KNeighborsRegressor\n",
    "from sklearn.ensemble import RandomForestRegressor\n",
    "\n",
    "from lightgbm import LGBMRegressor\n",
    "from catboost import CatBoostRegressor\n",
    "from xgboost import XGBRegressor\n",
    "\n",
    "from time import time\n",
    "\n",
    "#отключение предупреждений\n",
    "import warnings\n",
    "warnings.filterwarnings(action='ignore')"
   ]
  },
  {
   "cell_type": "code",
   "execution_count": 2,
   "id": "f43400df",
   "metadata": {},
   "outputs": [],
   "source": [
    "np.random.seed(42)"
   ]
  },
  {
   "cell_type": "markdown",
   "id": "3caf7628",
   "metadata": {},
   "source": [
    "### Чтение файла"
   ]
  },
  {
   "cell_type": "code",
   "execution_count": 3,
   "id": "dc638500",
   "metadata": {},
   "outputs": [],
   "source": [
    "try:\n",
    "    df = pd.read_csv('autos.csv', sep=',')\n",
    "except:\n",
    "    df = pd.read_csv('https://code.s3.yandex.net/datasets/autos.csv', sep=',')"
   ]
  },
  {
   "cell_type": "code",
   "execution_count": 4,
   "id": "9ed3fa08",
   "metadata": {},
   "outputs": [
    {
     "data": {
      "application/vnd.jupyter.widget-view+json": {
       "model_id": "f2dca20e293c457d93f192c9752414ad",
       "version_major": 2,
       "version_minor": 0
      },
      "text/plain": [
       "Summarize dataset:   0%|          | 0/5 [00:00<?, ?it/s]"
      ]
     },
     "metadata": {},
     "output_type": "display_data"
    },
    {
     "data": {
      "application/vnd.jupyter.widget-view+json": {
       "model_id": "cd2a2a82105d4d798de8d950cca02e5d",
       "version_major": 2,
       "version_minor": 0
      },
      "text/plain": [
       "Generate report structure:   0%|          | 0/1 [00:00<?, ?it/s]"
      ]
     },
     "metadata": {},
     "output_type": "display_data"
    },
    {
     "data": {
      "application/vnd.jupyter.widget-view+json": {
       "model_id": "",
       "version_major": 2,
       "version_minor": 0
      },
      "text/plain": [
       "Render widgets:   0%|          | 0/1 [00:00<?, ?it/s]"
      ]
     },
     "metadata": {},
     "output_type": "display_data"
    },
    {
     "data": {
      "application/vnd.jupyter.widget-view+json": {
       "model_id": "914bedc65783422b8beee8ee0a3c6559",
       "version_major": 2,
       "version_minor": 0
      },
      "text/plain": [
       "VBox(children=(Tab(children=(Tab(children=(GridBox(children=(VBox(children=(GridspecLayout(children=(HTML(valu…"
      ]
     },
     "metadata": {},
     "output_type": "display_data"
    }
   ],
   "source": [
    "ydata_profiling.ProfileReport(df, explorative=True).to_widgets()"
   ]
  },
  {
   "cell_type": "markdown",
   "id": "8692acd0",
   "metadata": {},
   "source": [
    "Датасет содержит:\n",
    "- 16 столбцов\n",
    "- **354369** строк\n",
    "- 3.2% пропусков\n",
    "- 4 дубликата\n",
    "___\n",
    "- Столбцы `VehicleType`, `Gearbox`, `Model`, `FuelType`, `Repaired` имеют пропуски\n",
    "- В столбце `Price` самая популярная цена - 0 (~10000 автомобилей).\n",
    "- Год, фигурирующий в `DateCrawled` - 2016.\n",
    "- Года, фигурирующий в `DateCreated` - 2014-2016.\n",
    "- `RegistrationYear` имеет аномальные значения - 1000, 9999 и другие выбросы\n",
    "- `Power` имеет аномальные значения - 0, 20000 л.с. и другие выбросы\n",
    "- `RegistrationMonth` имеет аномальное значение - 0 месяц\n",
    "- `NumberOfPictures` имеет только одно значение - 1"
   ]
  },
  {
   "cell_type": "markdown",
   "id": "f9c1be6f",
   "metadata": {},
   "source": [
    "## Предобработка данных"
   ]
  },
  {
   "cell_type": "markdown",
   "id": "b66dcd73",
   "metadata": {},
   "source": [
    "Приведем к нижниму и змеинному регистрам названия столбцов"
   ]
  },
  {
   "cell_type": "code",
   "execution_count": 5,
   "id": "0988bdc0",
   "metadata": {},
   "outputs": [],
   "source": [
    "df.rename(columns=lambda x: re.sub('(?!^)([A-Z]+)', r'_\\1',x).lower(), inplace=True)"
   ]
  },
  {
   "cell_type": "code",
   "execution_count": 6,
   "id": "43a395b7",
   "metadata": {},
   "outputs": [
    {
     "data": {
      "text/plain": [
       "Index(['date_crawled', 'price', 'vehicle_type', 'registration_year', 'gearbox',\n",
       "       'power', 'model', 'kilometer', 'registration_month', 'fuel_type',\n",
       "       'brand', 'repaired', 'date_created', 'number_of_pictures',\n",
       "       'postal_code', 'last_seen'],\n",
       "      dtype='object')"
      ]
     },
     "execution_count": 6,
     "metadata": {},
     "output_type": "execute_result"
    }
   ],
   "source": [
    "df.columns"
   ]
  },
  {
   "cell_type": "markdown",
   "id": "b9badb34",
   "metadata": {},
   "source": [
    "Удалим лишние признаки: столбцы `date_crawled`, `date_created`, `last_seen`, `number_of_pictures`, `postal_code` т.к. в них информации о самом автомобиле нет. Также удалим `registration_month` - не столь значимый параметр, который влияет на цену."
   ]
  },
  {
   "cell_type": "code",
   "execution_count": 7,
   "id": "30830187",
   "metadata": {},
   "outputs": [],
   "source": [
    "df = df.drop(\n",
    "    ['date_crawled',\n",
    "     'date_created',\n",
    "     'last_seen',\n",
    "     'number_of_pictures',\n",
    "     'postal_code',\n",
    "     'registration_month'],\n",
    "    axis=1)"
   ]
  },
  {
   "cell_type": "markdown",
   "id": "3bb42649",
   "metadata": {},
   "source": [
    "### Столбец `registration_year`"
   ]
  },
  {
   "cell_type": "code",
   "execution_count": 8,
   "id": "390d4bdc",
   "metadata": {},
   "outputs": [
    {
     "data": {
      "text/plain": [
       "count    354369.000000\n",
       "mean       2004.234448\n",
       "std          90.227958\n",
       "min        1000.000000\n",
       "25%        1999.000000\n",
       "50%        2003.000000\n",
       "75%        2008.000000\n",
       "max        9999.000000\n",
       "Name: registration_year, dtype: float64"
      ]
     },
     "execution_count": 8,
     "metadata": {},
     "output_type": "execute_result"
    }
   ],
   "source": [
    "plt.figure(figsize=(10, 4))\n",
    "plt.boxplot(df['registration_year'], vert=False)\n",
    "plt.grid(True)\n",
    "plt.show()\n",
    "\n",
    "df['registration_year'].describe()"
   ]
  },
  {
   "cell_type": "markdown",
   "id": "1a7ed3c0",
   "metadata": {},
   "source": [
    "Узнаем долю аномалий в столбце `registration_year`\n",
    "\n",
    "Будет исходить из того, что за нижний порог даты регистрации автомобиля будет взят 1980, верхний - 2016."
   ]
  },
  {
   "cell_type": "code",
   "execution_count": 9,
   "id": "b3dfbf16",
   "metadata": {},
   "outputs": [
    {
     "name": "stdout",
     "output_type": "stream",
     "text": [
      "Доля объявлений автомобилей с годом регистрации до 1980 и после 2022 годов -  5.07 %\n"
     ]
    }
   ],
   "source": [
    "anomaly_reg_year = (\n",
    "    df.query('registration_year < 1980 | registration_year > 2016')\n",
    ")\n",
    "\n",
    "print('Доля объявлений автомобилей с годом регистрации до 1980 и после 2022 годов - ',\n",
    "      round(anomaly_reg_year.shape[0] / df.shape[0] * 100, 2),'%')"
   ]
  },
  {
   "cell_type": "markdown",
   "id": "66914d2b",
   "metadata": {},
   "source": [
    "Удалим из датасета аномалии"
   ]
  },
  {
   "cell_type": "code",
   "execution_count": 10,
   "id": "090c9b32",
   "metadata": {},
   "outputs": [],
   "source": [
    "df = df.query('1980 <= registration_year <= 2016')"
   ]
  },
  {
   "cell_type": "markdown",
   "id": "bca3a5b1",
   "metadata": {},
   "source": [
    "### Столбец `power`"
   ]
  },
  {
   "cell_type": "code",
   "execution_count": 11,
   "id": "41f9d732",
   "metadata": {},
   "outputs": [
    {
     "data": {
      "text/plain": [
       "count    336387.000000\n",
       "mean        111.366973\n",
       "std         185.510237\n",
       "min           0.000000\n",
       "25%          70.000000\n",
       "50%         105.000000\n",
       "75%         143.000000\n",
       "max       20000.000000\n",
       "Name: power, dtype: float64"
      ]
     },
     "execution_count": 11,
     "metadata": {},
     "output_type": "execute_result"
    }
   ],
   "source": [
    "plt.figure(figsize=(10, 4))\n",
    "plt.boxplot(df['power'], vert=False)\n",
    "plt.grid(True)\n",
    "plt.show()\n",
    "\n",
    "df['power'].describe()"
   ]
  },
  {
   "cell_type": "markdown",
   "id": "5f77ba4a",
   "metadata": {},
   "source": [
    "Узнаем долю аномально высоких значений в столбце `power`\n",
    "\n",
    "В различных источниках значение в 3000 л.с. является самым большим у автомобилей, будем придерживаться этого порога."
   ]
  },
  {
   "cell_type": "code",
   "execution_count": 12,
   "id": "5348908d",
   "metadata": {},
   "outputs": [
    {
     "name": "stdout",
     "output_type": "stream",
     "text": [
      "Доля объявлений автомобилей с аномально высоким значением л. с. -  0.02 %\n"
     ]
    }
   ],
   "source": [
    "anomaly_power = (\n",
    "    df.query('power > 3000')\n",
    ")\n",
    "\n",
    "print('Доля объявлений автомобилей с аномально высоким значением л. с. - ',\n",
    "      round(anomaly_power.shape[0] / df.shape[0] * 100, 2),'%')"
   ]
  },
  {
   "cell_type": "markdown",
   "id": "cd41d895",
   "metadata": {},
   "source": [
    "Удалим из датасета эти аномалии"
   ]
  },
  {
   "cell_type": "code",
   "execution_count": 13,
   "id": "c136ad0b",
   "metadata": {},
   "outputs": [],
   "source": [
    "df = df.query('power <= 3000')"
   ]
  },
  {
   "cell_type": "markdown",
   "id": "6e7b6935",
   "metadata": {},
   "source": [
    "Посмотрим на редкие значения"
   ]
  },
  {
   "cell_type": "code",
   "execution_count": 14,
   "id": "518e7008",
   "metadata": {},
   "outputs": [
    {
     "data": {
      "text/plain": [
       "525     1\n",
       "1625    1\n",
       "1151    1\n",
       "685     1\n",
       "1241    1\n",
       "Name: power, dtype: int64"
      ]
     },
     "execution_count": 14,
     "metadata": {},
     "output_type": "execute_result"
    }
   ],
   "source": [
    "df['power'].value_counts().tail()"
   ]
  },
  {
   "cell_type": "markdown",
   "id": "c7a986e8",
   "metadata": {},
   "source": [
    "Заменим редкие значения на медиану для удобства деления на выборки"
   ]
  },
  {
   "cell_type": "code",
   "execution_count": 15,
   "id": "4fd9455b",
   "metadata": {},
   "outputs": [],
   "source": [
    "power_counts = df['power'].value_counts()\n",
    "\n",
    "rare_power = power_counts[power_counts < 10].index\n",
    "\n",
    "# Замените значения на \"other\"\n",
    "df.loc[df['power'].isin(rare_power), 'power'] = df['power'].median()"
   ]
  },
  {
   "cell_type": "code",
   "execution_count": 16,
   "id": "45e3dba4",
   "metadata": {},
   "outputs": [
    {
     "data": {
      "text/plain": [
       "335    10\n",
       "269    10\n",
       "10     10\n",
       "236    10\n",
       "2      10\n",
       "Name: power, dtype: int64"
      ]
     },
     "execution_count": 16,
     "metadata": {},
     "output_type": "execute_result"
    }
   ],
   "source": [
    "df['power'].value_counts().tail()"
   ]
  },
  {
   "cell_type": "markdown",
   "id": "492859bd",
   "metadata": {},
   "source": [
    "Узнаем долю нулевых значений"
   ]
  },
  {
   "cell_type": "code",
   "execution_count": 17,
   "id": "36dcc2b7",
   "metadata": {},
   "outputs": [
    {
     "name": "stdout",
     "output_type": "stream",
     "text": [
      "Доля объявлений автомобилей с нулевым значением л. с. -  10.52 %\n"
     ]
    }
   ],
   "source": [
    "anomaly_power = (\n",
    "    df.query('power == 0')\n",
    ")\n",
    "\n",
    "print('Доля объявлений автомобилей с нулевым значением л. с. - ',\n",
    "      round(anomaly_power.shape[0] / df.shape[0] * 100, 2),'%')"
   ]
  },
  {
   "cell_type": "markdown",
   "id": "22c94118",
   "metadata": {},
   "source": [
    "Корректным будет удалить такие наблюдения - у нас остаётся достаточно много наблюдений, чтобы мы могли без существенных потреь удалить их."
   ]
  },
  {
   "cell_type": "code",
   "execution_count": 18,
   "id": "9d67a75d",
   "metadata": {},
   "outputs": [],
   "source": [
    "df = df.query('power > 0')"
   ]
  },
  {
   "cell_type": "markdown",
   "id": "f38aa9bf",
   "metadata": {},
   "source": [
    "### Столбец `price`"
   ]
  },
  {
   "cell_type": "code",
   "execution_count": 19,
   "id": "a32b6999",
   "metadata": {},
   "outputs": [
    {
     "data": {
      "text/plain": [
       "count    300936.000000\n",
       "mean       4727.078415\n",
       "std        4600.126389\n",
       "min           0.000000\n",
       "25%        1250.000000\n",
       "50%        3000.000000\n",
       "75%        6900.000000\n",
       "max       20000.000000\n",
       "Name: price, dtype: float64"
      ]
     },
     "execution_count": 19,
     "metadata": {},
     "output_type": "execute_result"
    }
   ],
   "source": [
    "plt.figure(figsize=(10, 4))\n",
    "plt.boxplot(df['price'], vert=False)\n",
    "plt.grid(True)\n",
    "plt.show()\n",
    "\n",
    "df['price'].describe()"
   ]
  },
  {
   "cell_type": "markdown",
   "id": "224fff2b",
   "metadata": {},
   "source": [
    "В цене есть аномально низкие значения, рассмотрим их"
   ]
  },
  {
   "cell_type": "code",
   "execution_count": 20,
   "id": "f02fe93e",
   "metadata": {},
   "outputs": [
    {
     "data": {
      "text/plain": [
       "0    90.468705\n",
       "1     9.188340\n",
       "5     0.128608\n",
       "2     0.100029\n",
       "3     0.057159\n",
       "9     0.057159\n",
       "Name: price, dtype: float64"
      ]
     },
     "execution_count": 20,
     "metadata": {},
     "output_type": "execute_result"
    }
   ],
   "source": [
    "df.query('price < 10')['price'].value_counts(normalize=True) * 100"
   ]
  },
  {
   "cell_type": "markdown",
   "id": "80817912",
   "metadata": {},
   "source": [
    "В экстремально низких ценах (до 10) 0 и 1 составляют долю 99%.\n",
    "___\n",
    "Поскольку цена является целевым признаком, а значения 0 и 1 свидетельствуют о высокой доли вероятности ошибки в указанных объявлениях, поэтому в целях обучения удалим данные объекты."
   ]
  },
  {
   "cell_type": "code",
   "execution_count": 21,
   "id": "efdfffa2",
   "metadata": {},
   "outputs": [],
   "source": [
    "df = df.query('price >= 10')"
   ]
  },
  {
   "cell_type": "markdown",
   "id": "0e0f32c1",
   "metadata": {},
   "source": [
    "### Столбец `vehicle_type`"
   ]
  },
  {
   "cell_type": "markdown",
   "id": "db17f374",
   "metadata": {},
   "source": [
    "Посмотрим на данные в столбце `vehicle_type`"
   ]
  },
  {
   "cell_type": "code",
   "execution_count": 22,
   "id": "876b5d6b",
   "metadata": {},
   "outputs": [
    {
     "name": "stdout",
     "output_type": "stream",
     "text": [
      "Доля пропусков: 3.71%\n"
     ]
    },
    {
     "data": {
      "text/plain": [
       "sedan          29.041877\n",
       "small          24.662330\n",
       "wagon          20.889052\n",
       "bus             9.225807\n",
       "convertible     6.510672\n",
       "coupe           5.000300\n",
       "suv             3.823094\n",
       "other           0.846868\n",
       "Name: vehicle_type, dtype: float64"
      ]
     },
     "execution_count": 22,
     "metadata": {},
     "output_type": "execute_result"
    }
   ],
   "source": [
    "print('Доля пропусков: {0:.2%}'.format(df['vehicle_type'].isna().sum() / df.shape[0]))\n",
    "\n",
    "df['vehicle_type'].value_counts(normalize=True) * 100"
   ]
  },
  {
   "cell_type": "markdown",
   "id": "caac8c4a",
   "metadata": {},
   "source": [
    "Заполним пропуски самым часто встречающимся типом автомобильного кузова для каждой модели и марки"
   ]
  },
  {
   "cell_type": "code",
   "execution_count": 23,
   "id": "313a3b53",
   "metadata": {},
   "outputs": [],
   "source": [
    "# Группировка данных по марке и модели, подсчет количества для каждого типа транспортного средства\n",
    "type_by_brand_model = df.groupby(['brand', 'model', 'vehicle_type'])['vehicle_type'].count().unstack()\n",
    "\n",
    "# Выбор самого частого типа транспортного средства для каждой марки и модели\n",
    "most_common_types = type_by_brand_model.idxmax(axis=1)\n",
    "\n",
    "# Заполнение пропусков в столбце VehicleType наиболее частыми типами для соответствующей марки и модели\n",
    "def fill_vehicle_type(row):\n",
    "    if pd.isnull(row['vehicle_type']):\n",
    "        return most_common_types.get((row['brand'], row['model']), 'unknown')\n",
    "    return row['vehicle_type']"
   ]
  },
  {
   "cell_type": "code",
   "execution_count": 24,
   "id": "eee04608",
   "metadata": {},
   "outputs": [],
   "source": [
    "df['vehicle_type'] = df.apply(fill_vehicle_type, axis=1)"
   ]
  },
  {
   "cell_type": "code",
   "execution_count": 25,
   "id": "220eb889",
   "metadata": {},
   "outputs": [
    {
     "data": {
      "text/plain": [
       "0"
      ]
     },
     "execution_count": 25,
     "metadata": {},
     "output_type": "execute_result"
    }
   ],
   "source": [
    "df['vehicle_type'].isna().sum()"
   ]
  },
  {
   "cell_type": "markdown",
   "id": "e56a5e60",
   "metadata": {},
   "source": [
    "Пропуски отсутствуют"
   ]
  },
  {
   "cell_type": "markdown",
   "id": "1a07ce4d",
   "metadata": {},
   "source": [
    "### Столбец `gearbox`"
   ]
  },
  {
   "cell_type": "markdown",
   "id": "f183ffbe",
   "metadata": {},
   "source": [
    "`gearbox` содержит в себе категориальные данные, посмотрим на них."
   ]
  },
  {
   "cell_type": "code",
   "execution_count": 26,
   "id": "ae0d1dfd",
   "metadata": {},
   "outputs": [
    {
     "name": "stdout",
     "output_type": "stream",
     "text": [
      "Доля пропусков: 1.79%\n"
     ]
    },
    {
     "data": {
      "text/plain": [
       "manual    79.782875\n",
       "auto      20.217125\n",
       "Name: gearbox, dtype: float64"
      ]
     },
     "execution_count": 26,
     "metadata": {},
     "output_type": "execute_result"
    }
   ],
   "source": [
    "print('Доля пропусков: {0:.2%}'.format(df['gearbox'].isna().sum() / df.shape[0]))\n",
    "df['gearbox'].value_counts(normalize=True) * 100"
   ]
  },
  {
   "cell_type": "markdown",
   "id": "bb188516",
   "metadata": {},
   "source": [
    "Доли примерно 4 к 1, поэтому логично присвоить пропускам в столбце значение `manual`. И сразу же проверим изменившиееся соотношение"
   ]
  },
  {
   "cell_type": "code",
   "execution_count": 27,
   "id": "714edd1f",
   "metadata": {},
   "outputs": [
    {
     "data": {
      "text/plain": [
       "manual    80.144452\n",
       "auto      19.855548\n",
       "Name: gearbox, dtype: float64"
      ]
     },
     "execution_count": 27,
     "metadata": {},
     "output_type": "execute_result"
    }
   ],
   "source": [
    "df['gearbox'] = df['gearbox'].fillna('manual')\n",
    "df['gearbox'].value_counts(normalize=True) * 100"
   ]
  },
  {
   "cell_type": "markdown",
   "id": "755a569c",
   "metadata": {},
   "source": [
    "Соотношение практически не изменилось"
   ]
  },
  {
   "cell_type": "markdown",
   "id": "8ba08dd3",
   "metadata": {},
   "source": [
    "### Столбец `model`"
   ]
  },
  {
   "cell_type": "markdown",
   "id": "87ad7ecf",
   "metadata": {},
   "source": [
    "Посмотрим на данные в столбце `model`"
   ]
  },
  {
   "cell_type": "code",
   "execution_count": 28,
   "id": "5ecede83",
   "metadata": {},
   "outputs": [
    {
     "name": "stdout",
     "output_type": "stream",
     "text": [
      "Доля пропусков: 3.64%\n"
     ]
    },
    {
     "data": {
      "text/plain": [
       "golf                  8.708762\n",
       "other                 6.853745\n",
       "3er                   6.120071\n",
       "polo                  3.767583\n",
       "corsa                 3.567394\n",
       "                        ...   \n",
       "i3                    0.001765\n",
       "samara                0.001765\n",
       "rangerover            0.000706\n",
       "serie_2               0.000706\n",
       "range_rover_evoque    0.000706\n",
       "Name: model, Length: 248, dtype: float64"
      ]
     },
     "execution_count": 28,
     "metadata": {},
     "output_type": "execute_result"
    }
   ],
   "source": [
    "print('Доля пропусков: {0:.2%}'.format(df['model'].isna().sum() / df.shape[0]))\n",
    "df['model'].value_counts(normalize=True) * 100"
   ]
  },
  {
   "cell_type": "markdown",
   "id": "f8ba66c9",
   "metadata": {},
   "source": [
    "Заполнить пропуски каким-то понятным значением навряд ли получится. Заполним пропуски категорией other"
   ]
  },
  {
   "cell_type": "code",
   "execution_count": 29,
   "id": "a48069a0",
   "metadata": {},
   "outputs": [],
   "source": [
    "df['model'] = df['model'].fillna('other')"
   ]
  },
  {
   "cell_type": "markdown",
   "id": "6f101be9",
   "metadata": {},
   "source": [
    "Для упрощения обучения присвоим редким моделям ту же категорию - other."
   ]
  },
  {
   "cell_type": "code",
   "execution_count": 30,
   "id": "2f0ba53e",
   "metadata": {},
   "outputs": [],
   "source": [
    "model_counts = df['model'].value_counts()\n",
    "\n",
    "rare_models = model_counts[model_counts < 10].index\n",
    "\n",
    "# Замените значения на \"other\"\n",
    "df.loc[df['model'].isin(rare_models), 'model'] = 'other'"
   ]
  },
  {
   "cell_type": "code",
   "execution_count": 31,
   "id": "faaaac3a",
   "metadata": {},
   "outputs": [
    {
     "data": {
      "text/plain": [
       "Index(['elefantino', 'kalina', 'i3', 'samara', 'range_rover_evoque',\n",
       "       'rangerover', 'serie_2'],\n",
       "      dtype='object')"
      ]
     },
     "execution_count": 31,
     "metadata": {},
     "output_type": "execute_result"
    }
   ],
   "source": [
    "rare_models"
   ]
  },
  {
   "cell_type": "markdown",
   "id": "f6f6f0a0",
   "metadata": {},
   "source": [
    "### Столбец `fuel_type`"
   ]
  },
  {
   "cell_type": "markdown",
   "id": "76c305e3",
   "metadata": {},
   "source": [
    "Посмотрим на данные в столбце `fuel_type`"
   ]
  },
  {
   "cell_type": "code",
   "execution_count": 32,
   "id": "dcdb29bf",
   "metadata": {},
   "outputs": [
    {
     "name": "stdout",
     "output_type": "stream",
     "text": [
      "Доля пропусков: 5.22%\n"
     ]
    },
    {
     "data": {
      "text/plain": [
       "petrol      66.545824\n",
       "gasoline    31.479654\n",
       "lpg          1.673732\n",
       "cng          0.172650\n",
       "hybrid       0.072147\n",
       "other        0.029074\n",
       "electric     0.026920\n",
       "Name: fuel_type, dtype: float64"
      ]
     },
     "execution_count": 32,
     "metadata": {},
     "output_type": "execute_result"
    }
   ],
   "source": [
    "print('Доля пропусков: {0:.2%}'.format(df['fuel_type'].isna().sum() / df.shape[0]))\n",
    "df['fuel_type'].value_counts(normalize=True) * 100"
   ]
  },
  {
   "cell_type": "markdown",
   "id": "9db5c269",
   "metadata": {},
   "source": [
    "`petrol` и `gasoline` по своей природе являются бензином, следовательно их можно объединить под одну категорию.\n",
    "`lpg` и `cng` - газовое топливо, их также можно объединить в одну категорию."
   ]
  },
  {
   "cell_type": "code",
   "execution_count": 33,
   "id": "3d012bf1",
   "metadata": {},
   "outputs": [],
   "source": [
    "df['fuel_type'] = df['fuel_type'].replace('gasoline', 'petrol')\n",
    "df['fuel_type'] = df['fuel_type'].replace('cng', 'lpg')"
   ]
  },
  {
   "cell_type": "markdown",
   "id": "f3a68d29",
   "metadata": {},
   "source": [
    "Т.к. автомобили с бензиновым топливом занимают почти все предложение, целесообразно заполнить пустоты именно этим типом топлива."
   ]
  },
  {
   "cell_type": "code",
   "execution_count": 34,
   "id": "f0bff9e3",
   "metadata": {},
   "outputs": [],
   "source": [
    "df['fuel_type'] = df['fuel_type'].fillna('petrol')"
   ]
  },
  {
   "cell_type": "code",
   "execution_count": 35,
   "id": "a5ed14ad",
   "metadata": {},
   "outputs": [
    {
     "data": {
      "text/plain": [
       "petrol      98.128517\n",
       "lpg          1.750029\n",
       "hybrid       0.068382\n",
       "other        0.027557\n",
       "electric     0.025516\n",
       "Name: fuel_type, dtype: float64"
      ]
     },
     "execution_count": 35,
     "metadata": {},
     "output_type": "execute_result"
    }
   ],
   "source": [
    "df['fuel_type'].value_counts(normalize=True) * 100"
   ]
  },
  {
   "cell_type": "markdown",
   "id": "b60fca60",
   "metadata": {},
   "source": [
    "### Столбец `repaired`"
   ]
  },
  {
   "cell_type": "markdown",
   "id": "664a6ddc",
   "metadata": {},
   "source": [
    "Посмотрим на данные в столбце `repaired`"
   ]
  },
  {
   "cell_type": "code",
   "execution_count": 36,
   "id": "ecb96467",
   "metadata": {},
   "outputs": [
    {
     "name": "stdout",
     "output_type": "stream",
     "text": [
      "Доля пропусков: 14.42%\n"
     ]
    },
    {
     "data": {
      "text/plain": [
       "no     88.632695\n",
       "yes    11.367305\n",
       "Name: repaired, dtype: float64"
      ]
     },
     "execution_count": 36,
     "metadata": {},
     "output_type": "execute_result"
    }
   ],
   "source": [
    "print('Доля пропусков: {0:.2%}'.format(df['repaired'].isna().sum() / df.shape[0]))\n",
    "df['repaired'].value_counts(normalize=True) * 100"
   ]
  },
  {
   "cell_type": "markdown",
   "id": "233a0d6b",
   "metadata": {},
   "source": [
    "Менять пропуски на какое-либо значение из существующих (yes/no) было бы некорректно. Введем новую категорию - `unknown`"
   ]
  },
  {
   "cell_type": "code",
   "execution_count": 37,
   "id": "4bc8384b",
   "metadata": {},
   "outputs": [],
   "source": [
    "df['repaired'] = df['repaired'].fillna('unknown')"
   ]
  },
  {
   "cell_type": "markdown",
   "id": "d191aa61",
   "metadata": {},
   "source": [
    "### Удаление дубликатов"
   ]
  },
  {
   "cell_type": "markdown",
   "id": "557c3cc9",
   "metadata": {},
   "source": [
    "Изначально было всего 4 дубликата, посмотрим, изменилось ли количество после работы с исходными данными"
   ]
  },
  {
   "cell_type": "code",
   "execution_count": 38,
   "id": "b677e5e9",
   "metadata": {},
   "outputs": [
    {
     "data": {
      "text/plain": [
       "42371"
      ]
     },
     "execution_count": 38,
     "metadata": {},
     "output_type": "execute_result"
    }
   ],
   "source": [
    "df.duplicated().sum()"
   ]
  },
  {
   "cell_type": "markdown",
   "id": "24706d9a",
   "metadata": {},
   "source": [
    "Появилось много дубликатов. Столбцы, связанные с датами (дата скачивания анкеты из базы, дата создания анкеты) были удалены, следовательно можно сделать вывод, что одна и та же машина могла публиковаться несколько раз. Удалим дубликаты"
   ]
  },
  {
   "cell_type": "code",
   "execution_count": 39,
   "id": "3f4fb6d4",
   "metadata": {},
   "outputs": [
    {
     "data": {
      "text/plain": [
       "0"
      ]
     },
     "execution_count": 39,
     "metadata": {},
     "output_type": "execute_result"
    }
   ],
   "source": [
    "df = df.drop_duplicates()\n",
    "df.duplicated().sum()"
   ]
  },
  {
   "cell_type": "markdown",
   "id": "b892e47d",
   "metadata": {},
   "source": [
    "### Вывод:"
   ]
  },
  {
   "cell_type": "markdown",
   "id": "71d4da45",
   "metadata": {},
   "source": [
    "Посмотрим на инофрмацию о датасете после предобработки"
   ]
  },
  {
   "cell_type": "code",
   "execution_count": 40,
   "id": "f864b058",
   "metadata": {},
   "outputs": [
    {
     "name": "stdout",
     "output_type": "stream",
     "text": [
      "<class 'pandas.core.frame.DataFrame'>\n",
      "Int64Index: 251567 entries, 1 to 354368\n",
      "Data columns (total 10 columns):\n",
      " #   Column             Non-Null Count   Dtype \n",
      "---  ------             --------------   ----- \n",
      " 0   price              251567 non-null  int64 \n",
      " 1   vehicle_type       251567 non-null  object\n",
      " 2   registration_year  251567 non-null  int64 \n",
      " 3   gearbox            251567 non-null  object\n",
      " 4   power              251567 non-null  int64 \n",
      " 5   model              251567 non-null  object\n",
      " 6   kilometer          251567 non-null  int64 \n",
      " 7   fuel_type          251567 non-null  object\n",
      " 8   brand              251567 non-null  object\n",
      " 9   repaired           251567 non-null  object\n",
      "dtypes: int64(4), object(6)\n",
      "memory usage: 21.1+ MB\n"
     ]
    }
   ],
   "source": [
    "df.info()"
   ]
  },
  {
   "cell_type": "markdown",
   "id": "2aee7941",
   "metadata": {},
   "source": [
    "Пропуски отсутствуют\n",
    "___\n",
    "В ходе предобработки были предприняты следующие действия с данными:\n",
    "- Перевели в нижний и змеинный регистры названия признаков (столбцов)\n",
    "- Удалили лишние признаки (`date_crawled`, `date_created`, `last_seen`, `number_of_pictures`, `postal_code`,`registration_month`), в которых отсутствует информация об автомобилях\n",
    "- Удалили строки с аномальными значениями в столбце `registration_year`\n",
    "- Удалили строки с аномальными значениями в столбце `power` и заменили редкие медианой\n",
    "- Удалили строки с аномальными значениями в столбце `price`\n",
    "- Заполнили пропуски самым часто встречающимся типом автомобильного кузова для каждой модели и марки в столбце `vehicle_type`\n",
    "- Заполнили пропуски значением **manual** в столбце `gearbox`\n",
    "- Присвоим редким моделям и пропускам тзначение **other** в столбце `model`\n",
    "- В столбце `fuel_type` объединили значения **petrol** и **gasoline**, также - **lpg** и **cng**\n",
    "- Ввели новую категорию **unknown** вместо пустот в столбце `repaired`\n",
    "- После всех преобразований образовалось 42371 дубликатов. Все они были удалены."
   ]
  },
  {
   "cell_type": "markdown",
   "id": "c7e0786a",
   "metadata": {},
   "source": [
    "## Обучение моделей"
   ]
  },
  {
   "cell_type": "markdown",
   "id": "40a22389",
   "metadata": {},
   "source": [
    "### Разделение данных на обучающую и тестовую выборки"
   ]
  },
  {
   "cell_type": "markdown",
   "id": "5517036a",
   "metadata": {},
   "source": [
    "Введем переменные с признаками и целевым признаком"
   ]
  },
  {
   "cell_type": "code",
   "execution_count": 41,
   "id": "6213cdb9",
   "metadata": {},
   "outputs": [],
   "source": [
    "features = df.drop(['price'], axis=1)\n",
    "target = df['price']"
   ]
  },
  {
   "cell_type": "markdown",
   "id": "6d6cf40e",
   "metadata": {},
   "source": [
    "Разделим набор данных на обучающую (`features_train`), валидационную (`features_valid`) и тестовую выборки (`features_test`)"
   ]
  },
  {
   "cell_type": "code",
   "execution_count": 42,
   "id": "a0fd1e2e",
   "metadata": {},
   "outputs": [
    {
     "name": "stdout",
     "output_type": "stream",
     "text": [
      "Обучающая выборка: 201253\n",
      "Тестовая выборка: 50314\n"
     ]
    }
   ],
   "source": [
    "features_train, features_test, target_train, target_test = train_test_split(\n",
    "    features,\n",
    "    target,\n",
    "    test_size=0.2)\n",
    "\n",
    "print('Обучающая выборка:', features_train.shape[0])\n",
    "print('Тестовая выборка:', features_test.shape[0])"
   ]
  },
  {
   "cell_type": "markdown",
   "id": "f07ee18c",
   "metadata": {},
   "source": [
    "### Преобразование признаков"
   ]
  },
  {
   "cell_type": "markdown",
   "id": "14e1b6e4",
   "metadata": {},
   "source": [
    "Выделим категориальные признаки"
   ]
  },
  {
   "cell_type": "code",
   "execution_count": 43,
   "id": "ae852acd",
   "metadata": {},
   "outputs": [
    {
     "data": {
      "text/plain": [
       "['vehicle_type', 'gearbox', 'model', 'fuel_type', 'brand', 'repaired']"
      ]
     },
     "execution_count": 43,
     "metadata": {},
     "output_type": "execute_result"
    }
   ],
   "source": [
    "categorical_features = features_train.select_dtypes(include=['object']).columns.tolist()\n",
    "\n",
    "categorical_features"
   ]
  },
  {
   "cell_type": "markdown",
   "id": "d17fe5fa",
   "metadata": {},
   "source": [
    "Поменяем тип категориальных признаков с `object` на `category`"
   ]
  },
  {
   "cell_type": "code",
   "execution_count": 44,
   "id": "36aefd4d",
   "metadata": {},
   "outputs": [
    {
     "name": "stdout",
     "output_type": "stream",
     "text": [
      "<class 'pandas.core.frame.DataFrame'>\n",
      "Int64Index: 201253 entries, 211579 to 159624\n",
      "Data columns (total 9 columns):\n",
      " #   Column             Non-Null Count   Dtype   \n",
      "---  ------             --------------   -----   \n",
      " 0   vehicle_type       201253 non-null  category\n",
      " 1   registration_year  201253 non-null  int64   \n",
      " 2   gearbox            201253 non-null  category\n",
      " 3   power              201253 non-null  int64   \n",
      " 4   model              201253 non-null  category\n",
      " 5   kilometer          201253 non-null  int64   \n",
      " 6   fuel_type          201253 non-null  category\n",
      " 7   brand              201253 non-null  category\n",
      " 8   repaired           201253 non-null  category\n",
      "dtypes: category(6), int64(3)\n",
      "memory usage: 7.5 MB\n"
     ]
    }
   ],
   "source": [
    "features_train[categorical_features] = features_train[categorical_features].astype('category')\n",
    "features_test[categorical_features] = features_test[categorical_features].astype('category')\n",
    "\n",
    "features_train.info()"
   ]
  },
  {
   "cell_type": "markdown",
   "id": "b22e8970",
   "metadata": {},
   "source": [
    "Преобразуем категориальные признаки в численные с помощью техники OrdinalEncoder"
   ]
  },
  {
   "cell_type": "code",
   "execution_count": 45,
   "id": "086a9cfd",
   "metadata": {},
   "outputs": [],
   "source": [
    "categorical_transformer = OrdinalEncoder(handle_unknown='use_encoded_value', unknown_value=-1)"
   ]
  },
  {
   "cell_type": "markdown",
   "id": "b13bc644",
   "metadata": {},
   "source": [
    "Выделим числовые признаки"
   ]
  },
  {
   "cell_type": "code",
   "execution_count": 46,
   "id": "1a6c0225",
   "metadata": {},
   "outputs": [
    {
     "data": {
      "text/plain": [
       "['registration_year', 'power', 'kilometer']"
      ]
     },
     "execution_count": 46,
     "metadata": {},
     "output_type": "execute_result"
    }
   ],
   "source": [
    "numeric_features = features_train.select_dtypes(include=['int64']).columns.tolist()\n",
    "\n",
    "numeric_features"
   ]
  },
  {
   "cell_type": "markdown",
   "id": "9fa2198a",
   "metadata": {},
   "source": [
    "Стандартизируем численные данные с помощью StandardScaler"
   ]
  },
  {
   "cell_type": "code",
   "execution_count": 47,
   "id": "c12469c8",
   "metadata": {},
   "outputs": [],
   "source": [
    "numeric_transformer = StandardScaler()"
   ]
  },
  {
   "cell_type": "markdown",
   "id": "8487840d",
   "metadata": {},
   "source": [
    "Используем ColumnTransformer для применения различных преобразований к разным столбцам данных."
   ]
  },
  {
   "cell_type": "code",
   "execution_count": 48,
   "id": "d583de5e",
   "metadata": {},
   "outputs": [],
   "source": [
    "preprocessor = ColumnTransformer(\n",
    "    transformers=[\n",
    "        ('num', numeric_transformer, numeric_features),\n",
    "        ('cat', categorical_transformer, categorical_features)\n",
    "    ])"
   ]
  },
  {
   "cell_type": "code",
   "execution_count": 91,
   "id": "261ab2e4",
   "metadata": {},
   "outputs": [
    {
     "data": {
      "text/html": [
       "<style>#sk-container-id-2 {color: black;background-color: white;}#sk-container-id-2 pre{padding: 0;}#sk-container-id-2 div.sk-toggleable {background-color: white;}#sk-container-id-2 label.sk-toggleable__label {cursor: pointer;display: block;width: 100%;margin-bottom: 0;padding: 0.3em;box-sizing: border-box;text-align: center;}#sk-container-id-2 label.sk-toggleable__label-arrow:before {content: \"▸\";float: left;margin-right: 0.25em;color: #696969;}#sk-container-id-2 label.sk-toggleable__label-arrow:hover:before {color: black;}#sk-container-id-2 div.sk-estimator:hover label.sk-toggleable__label-arrow:before {color: black;}#sk-container-id-2 div.sk-toggleable__content {max-height: 0;max-width: 0;overflow: hidden;text-align: left;background-color: #f0f8ff;}#sk-container-id-2 div.sk-toggleable__content pre {margin: 0.2em;color: black;border-radius: 0.25em;background-color: #f0f8ff;}#sk-container-id-2 input.sk-toggleable__control:checked~div.sk-toggleable__content {max-height: 200px;max-width: 100%;overflow: auto;}#sk-container-id-2 input.sk-toggleable__control:checked~label.sk-toggleable__label-arrow:before {content: \"▾\";}#sk-container-id-2 div.sk-estimator input.sk-toggleable__control:checked~label.sk-toggleable__label {background-color: #d4ebff;}#sk-container-id-2 div.sk-label input.sk-toggleable__control:checked~label.sk-toggleable__label {background-color: #d4ebff;}#sk-container-id-2 input.sk-hidden--visually {border: 0;clip: rect(1px 1px 1px 1px);clip: rect(1px, 1px, 1px, 1px);height: 1px;margin: -1px;overflow: hidden;padding: 0;position: absolute;width: 1px;}#sk-container-id-2 div.sk-estimator {font-family: monospace;background-color: #f0f8ff;border: 1px dotted black;border-radius: 0.25em;box-sizing: border-box;margin-bottom: 0.5em;}#sk-container-id-2 div.sk-estimator:hover {background-color: #d4ebff;}#sk-container-id-2 div.sk-parallel-item::after {content: \"\";width: 100%;border-bottom: 1px solid gray;flex-grow: 1;}#sk-container-id-2 div.sk-label:hover label.sk-toggleable__label {background-color: #d4ebff;}#sk-container-id-2 div.sk-serial::before {content: \"\";position: absolute;border-left: 1px solid gray;box-sizing: border-box;top: 0;bottom: 0;left: 50%;z-index: 0;}#sk-container-id-2 div.sk-serial {display: flex;flex-direction: column;align-items: center;background-color: white;padding-right: 0.2em;padding-left: 0.2em;position: relative;}#sk-container-id-2 div.sk-item {position: relative;z-index: 1;}#sk-container-id-2 div.sk-parallel {display: flex;align-items: stretch;justify-content: center;background-color: white;position: relative;}#sk-container-id-2 div.sk-item::before, #sk-container-id-2 div.sk-parallel-item::before {content: \"\";position: absolute;border-left: 1px solid gray;box-sizing: border-box;top: 0;bottom: 0;left: 50%;z-index: -1;}#sk-container-id-2 div.sk-parallel-item {display: flex;flex-direction: column;z-index: 1;position: relative;background-color: white;}#sk-container-id-2 div.sk-parallel-item:first-child::after {align-self: flex-end;width: 50%;}#sk-container-id-2 div.sk-parallel-item:last-child::after {align-self: flex-start;width: 50%;}#sk-container-id-2 div.sk-parallel-item:only-child::after {width: 0;}#sk-container-id-2 div.sk-dashed-wrapped {border: 1px dashed gray;margin: 0 0.4em 0.5em 0.4em;box-sizing: border-box;padding-bottom: 0.4em;background-color: white;}#sk-container-id-2 div.sk-label label {font-family: monospace;font-weight: bold;display: inline-block;line-height: 1.2em;}#sk-container-id-2 div.sk-label-container {text-align: center;}#sk-container-id-2 div.sk-container {/* jupyter's `normalize.less` sets `[hidden] { display: none; }` but bootstrap.min.css set `[hidden] { display: none !important; }` so we also need the `!important` here to be able to override the default hidden behavior on the sphinx rendered scikit-learn.org. See: https://github.com/scikit-learn/scikit-learn/issues/21755 */display: inline-block !important;position: relative;}#sk-container-id-2 div.sk-text-repr-fallback {display: none;}</style><div id=\"sk-container-id-2\" class=\"sk-top-container\"><div class=\"sk-text-repr-fallback\"><pre>ColumnTransformer(transformers=[(&#x27;num&#x27;, StandardScaler(),\n",
       "                                 [&#x27;registration_year&#x27;, &#x27;power&#x27;, &#x27;kilometer&#x27;]),\n",
       "                                (&#x27;cat&#x27;,\n",
       "                                 OrdinalEncoder(handle_unknown=&#x27;use_encoded_value&#x27;,\n",
       "                                                unknown_value=-1),\n",
       "                                 [&#x27;vehicle_type&#x27;, &#x27;gearbox&#x27;, &#x27;model&#x27;,\n",
       "                                  &#x27;fuel_type&#x27;, &#x27;brand&#x27;, &#x27;repaired&#x27;])])</pre><b>In a Jupyter environment, please rerun this cell to show the HTML representation or trust the notebook. <br />On GitHub, the HTML representation is unable to render, please try loading this page with nbviewer.org.</b></div><div class=\"sk-container\" hidden><div class=\"sk-item sk-dashed-wrapped\"><div class=\"sk-label-container\"><div class=\"sk-label sk-toggleable\"><input class=\"sk-toggleable__control sk-hidden--visually\" id=\"sk-estimator-id-8\" type=\"checkbox\" ><label for=\"sk-estimator-id-8\" class=\"sk-toggleable__label sk-toggleable__label-arrow\">ColumnTransformer</label><div class=\"sk-toggleable__content\"><pre>ColumnTransformer(transformers=[(&#x27;num&#x27;, StandardScaler(),\n",
       "                                 [&#x27;registration_year&#x27;, &#x27;power&#x27;, &#x27;kilometer&#x27;]),\n",
       "                                (&#x27;cat&#x27;,\n",
       "                                 OrdinalEncoder(handle_unknown=&#x27;use_encoded_value&#x27;,\n",
       "                                                unknown_value=-1),\n",
       "                                 [&#x27;vehicle_type&#x27;, &#x27;gearbox&#x27;, &#x27;model&#x27;,\n",
       "                                  &#x27;fuel_type&#x27;, &#x27;brand&#x27;, &#x27;repaired&#x27;])])</pre></div></div></div><div class=\"sk-parallel\"><div class=\"sk-parallel-item\"><div class=\"sk-item\"><div class=\"sk-label-container\"><div class=\"sk-label sk-toggleable\"><input class=\"sk-toggleable__control sk-hidden--visually\" id=\"sk-estimator-id-9\" type=\"checkbox\" ><label for=\"sk-estimator-id-9\" class=\"sk-toggleable__label sk-toggleable__label-arrow\">num</label><div class=\"sk-toggleable__content\"><pre>[&#x27;registration_year&#x27;, &#x27;power&#x27;, &#x27;kilometer&#x27;]</pre></div></div></div><div class=\"sk-serial\"><div class=\"sk-item\"><div class=\"sk-estimator sk-toggleable\"><input class=\"sk-toggleable__control sk-hidden--visually\" id=\"sk-estimator-id-10\" type=\"checkbox\" ><label for=\"sk-estimator-id-10\" class=\"sk-toggleable__label sk-toggleable__label-arrow\">StandardScaler</label><div class=\"sk-toggleable__content\"><pre>StandardScaler()</pre></div></div></div></div></div></div><div class=\"sk-parallel-item\"><div class=\"sk-item\"><div class=\"sk-label-container\"><div class=\"sk-label sk-toggleable\"><input class=\"sk-toggleable__control sk-hidden--visually\" id=\"sk-estimator-id-11\" type=\"checkbox\" ><label for=\"sk-estimator-id-11\" class=\"sk-toggleable__label sk-toggleable__label-arrow\">cat</label><div class=\"sk-toggleable__content\"><pre>[&#x27;vehicle_type&#x27;, &#x27;gearbox&#x27;, &#x27;model&#x27;, &#x27;fuel_type&#x27;, &#x27;brand&#x27;, &#x27;repaired&#x27;]</pre></div></div></div><div class=\"sk-serial\"><div class=\"sk-item\"><div class=\"sk-estimator sk-toggleable\"><input class=\"sk-toggleable__control sk-hidden--visually\" id=\"sk-estimator-id-12\" type=\"checkbox\" ><label for=\"sk-estimator-id-12\" class=\"sk-toggleable__label sk-toggleable__label-arrow\">OrdinalEncoder</label><div class=\"sk-toggleable__content\"><pre>OrdinalEncoder(handle_unknown=&#x27;use_encoded_value&#x27;, unknown_value=-1)</pre></div></div></div></div></div></div></div></div></div></div>"
      ],
      "text/plain": [
       "ColumnTransformer(transformers=[('num', StandardScaler(),\n",
       "                                 ['registration_year', 'power', 'kilometer']),\n",
       "                                ('cat',\n",
       "                                 OrdinalEncoder(handle_unknown='use_encoded_value',\n",
       "                                                unknown_value=-1),\n",
       "                                 ['vehicle_type', 'gearbox', 'model',\n",
       "                                  'fuel_type', 'brand', 'repaired'])])"
      ]
     },
     "execution_count": 91,
     "metadata": {},
     "output_type": "execute_result"
    }
   ],
   "source": [
    "preprocessor"
   ]
  },
  {
   "cell_type": "markdown",
   "id": "021ff6f4",
   "metadata": {},
   "source": [
    "### Модели"
   ]
  },
  {
   "cell_type": "markdown",
   "id": "9c21fbf7",
   "metadata": {},
   "source": [
    "Воспользуемся функцией RegressionExperiment библиотеки **PyCaret**, чтобы узнать наиболее подходящие модели для обучения"
   ]
  },
  {
   "cell_type": "code",
   "execution_count": 50,
   "id": "4f2a97dc",
   "metadata": {},
   "outputs": [
    {
     "data": {
      "text/plain": [
       "pycaret.regression.oop.RegressionExperiment"
      ]
     },
     "execution_count": 50,
     "metadata": {},
     "output_type": "execute_result"
    }
   ],
   "source": [
    "exp = RegressionExperiment()\n",
    "type(exp)"
   ]
  },
  {
   "cell_type": "code",
   "execution_count": 51,
   "id": "92f79092",
   "metadata": {},
   "outputs": [
    {
     "data": {
      "text/html": [
       "<style type=\"text/css\">\n",
       "#T_03325_row10_col1 {\n",
       "  background-color: lightgreen;\n",
       "}\n",
       "</style>\n",
       "<table id=\"T_03325\">\n",
       "  <thead>\n",
       "    <tr>\n",
       "      <th class=\"blank level0\" >&nbsp;</th>\n",
       "      <th id=\"T_03325_level0_col0\" class=\"col_heading level0 col0\" >Description</th>\n",
       "      <th id=\"T_03325_level0_col1\" class=\"col_heading level0 col1\" >Value</th>\n",
       "    </tr>\n",
       "  </thead>\n",
       "  <tbody>\n",
       "    <tr>\n",
       "      <th id=\"T_03325_level0_row0\" class=\"row_heading level0 row0\" >0</th>\n",
       "      <td id=\"T_03325_row0_col0\" class=\"data row0 col0\" >Session id</td>\n",
       "      <td id=\"T_03325_row0_col1\" class=\"data row0 col1\" >123</td>\n",
       "    </tr>\n",
       "    <tr>\n",
       "      <th id=\"T_03325_level0_row1\" class=\"row_heading level0 row1\" >1</th>\n",
       "      <td id=\"T_03325_row1_col0\" class=\"data row1 col0\" >Target</td>\n",
       "      <td id=\"T_03325_row1_col1\" class=\"data row1 col1\" >price</td>\n",
       "    </tr>\n",
       "    <tr>\n",
       "      <th id=\"T_03325_level0_row2\" class=\"row_heading level0 row2\" >2</th>\n",
       "      <td id=\"T_03325_row2_col0\" class=\"data row2 col0\" >Target type</td>\n",
       "      <td id=\"T_03325_row2_col1\" class=\"data row2 col1\" >Regression</td>\n",
       "    </tr>\n",
       "    <tr>\n",
       "      <th id=\"T_03325_level0_row3\" class=\"row_heading level0 row3\" >3</th>\n",
       "      <td id=\"T_03325_row3_col0\" class=\"data row3 col0\" >Original data shape</td>\n",
       "      <td id=\"T_03325_row3_col1\" class=\"data row3 col1\" >(251567, 10)</td>\n",
       "    </tr>\n",
       "    <tr>\n",
       "      <th id=\"T_03325_level0_row4\" class=\"row_heading level0 row4\" >4</th>\n",
       "      <td id=\"T_03325_row4_col0\" class=\"data row4 col0\" >Transformed data shape</td>\n",
       "      <td id=\"T_03325_row4_col1\" class=\"data row4 col1\" >(251567, 24)</td>\n",
       "    </tr>\n",
       "    <tr>\n",
       "      <th id=\"T_03325_level0_row5\" class=\"row_heading level0 row5\" >5</th>\n",
       "      <td id=\"T_03325_row5_col0\" class=\"data row5 col0\" >Transformed train set shape</td>\n",
       "      <td id=\"T_03325_row5_col1\" class=\"data row5 col1\" >(176096, 24)</td>\n",
       "    </tr>\n",
       "    <tr>\n",
       "      <th id=\"T_03325_level0_row6\" class=\"row_heading level0 row6\" >6</th>\n",
       "      <td id=\"T_03325_row6_col0\" class=\"data row6 col0\" >Transformed test set shape</td>\n",
       "      <td id=\"T_03325_row6_col1\" class=\"data row6 col1\" >(75471, 24)</td>\n",
       "    </tr>\n",
       "    <tr>\n",
       "      <th id=\"T_03325_level0_row7\" class=\"row_heading level0 row7\" >7</th>\n",
       "      <td id=\"T_03325_row7_col0\" class=\"data row7 col0\" >Ordinal features</td>\n",
       "      <td id=\"T_03325_row7_col1\" class=\"data row7 col1\" >1</td>\n",
       "    </tr>\n",
       "    <tr>\n",
       "      <th id=\"T_03325_level0_row8\" class=\"row_heading level0 row8\" >8</th>\n",
       "      <td id=\"T_03325_row8_col0\" class=\"data row8 col0\" >Numeric features</td>\n",
       "      <td id=\"T_03325_row8_col1\" class=\"data row8 col1\" >3</td>\n",
       "    </tr>\n",
       "    <tr>\n",
       "      <th id=\"T_03325_level0_row9\" class=\"row_heading level0 row9\" >9</th>\n",
       "      <td id=\"T_03325_row9_col0\" class=\"data row9 col0\" >Categorical features</td>\n",
       "      <td id=\"T_03325_row9_col1\" class=\"data row9 col1\" >6</td>\n",
       "    </tr>\n",
       "    <tr>\n",
       "      <th id=\"T_03325_level0_row10\" class=\"row_heading level0 row10\" >10</th>\n",
       "      <td id=\"T_03325_row10_col0\" class=\"data row10 col0\" >Preprocess</td>\n",
       "      <td id=\"T_03325_row10_col1\" class=\"data row10 col1\" >True</td>\n",
       "    </tr>\n",
       "    <tr>\n",
       "      <th id=\"T_03325_level0_row11\" class=\"row_heading level0 row11\" >11</th>\n",
       "      <td id=\"T_03325_row11_col0\" class=\"data row11 col0\" >Imputation type</td>\n",
       "      <td id=\"T_03325_row11_col1\" class=\"data row11 col1\" >simple</td>\n",
       "    </tr>\n",
       "    <tr>\n",
       "      <th id=\"T_03325_level0_row12\" class=\"row_heading level0 row12\" >12</th>\n",
       "      <td id=\"T_03325_row12_col0\" class=\"data row12 col0\" >Numeric imputation</td>\n",
       "      <td id=\"T_03325_row12_col1\" class=\"data row12 col1\" >mean</td>\n",
       "    </tr>\n",
       "    <tr>\n",
       "      <th id=\"T_03325_level0_row13\" class=\"row_heading level0 row13\" >13</th>\n",
       "      <td id=\"T_03325_row13_col0\" class=\"data row13 col0\" >Categorical imputation</td>\n",
       "      <td id=\"T_03325_row13_col1\" class=\"data row13 col1\" >mode</td>\n",
       "    </tr>\n",
       "    <tr>\n",
       "      <th id=\"T_03325_level0_row14\" class=\"row_heading level0 row14\" >14</th>\n",
       "      <td id=\"T_03325_row14_col0\" class=\"data row14 col0\" >Maximum one-hot encoding</td>\n",
       "      <td id=\"T_03325_row14_col1\" class=\"data row14 col1\" >25</td>\n",
       "    </tr>\n",
       "    <tr>\n",
       "      <th id=\"T_03325_level0_row15\" class=\"row_heading level0 row15\" >15</th>\n",
       "      <td id=\"T_03325_row15_col0\" class=\"data row15 col0\" >Encoding method</td>\n",
       "      <td id=\"T_03325_row15_col1\" class=\"data row15 col1\" >None</td>\n",
       "    </tr>\n",
       "    <tr>\n",
       "      <th id=\"T_03325_level0_row16\" class=\"row_heading level0 row16\" >16</th>\n",
       "      <td id=\"T_03325_row16_col0\" class=\"data row16 col0\" >Fold Generator</td>\n",
       "      <td id=\"T_03325_row16_col1\" class=\"data row16 col1\" >KFold</td>\n",
       "    </tr>\n",
       "    <tr>\n",
       "      <th id=\"T_03325_level0_row17\" class=\"row_heading level0 row17\" >17</th>\n",
       "      <td id=\"T_03325_row17_col0\" class=\"data row17 col0\" >Fold Number</td>\n",
       "      <td id=\"T_03325_row17_col1\" class=\"data row17 col1\" >10</td>\n",
       "    </tr>\n",
       "    <tr>\n",
       "      <th id=\"T_03325_level0_row18\" class=\"row_heading level0 row18\" >18</th>\n",
       "      <td id=\"T_03325_row18_col0\" class=\"data row18 col0\" >CPU Jobs</td>\n",
       "      <td id=\"T_03325_row18_col1\" class=\"data row18 col1\" >-1</td>\n",
       "    </tr>\n",
       "    <tr>\n",
       "      <th id=\"T_03325_level0_row19\" class=\"row_heading level0 row19\" >19</th>\n",
       "      <td id=\"T_03325_row19_col0\" class=\"data row19 col0\" >Use GPU</td>\n",
       "      <td id=\"T_03325_row19_col1\" class=\"data row19 col1\" >False</td>\n",
       "    </tr>\n",
       "    <tr>\n",
       "      <th id=\"T_03325_level0_row20\" class=\"row_heading level0 row20\" >20</th>\n",
       "      <td id=\"T_03325_row20_col0\" class=\"data row20 col0\" >Log Experiment</td>\n",
       "      <td id=\"T_03325_row20_col1\" class=\"data row20 col1\" >False</td>\n",
       "    </tr>\n",
       "    <tr>\n",
       "      <th id=\"T_03325_level0_row21\" class=\"row_heading level0 row21\" >21</th>\n",
       "      <td id=\"T_03325_row21_col0\" class=\"data row21 col0\" >Experiment Name</td>\n",
       "      <td id=\"T_03325_row21_col1\" class=\"data row21 col1\" >reg-default-name</td>\n",
       "    </tr>\n",
       "    <tr>\n",
       "      <th id=\"T_03325_level0_row22\" class=\"row_heading level0 row22\" >22</th>\n",
       "      <td id=\"T_03325_row22_col0\" class=\"data row22 col0\" >USI</td>\n",
       "      <td id=\"T_03325_row22_col1\" class=\"data row22 col1\" >276a</td>\n",
       "    </tr>\n",
       "  </tbody>\n",
       "</table>\n"
      ],
      "text/plain": [
       "<pandas.io.formats.style.Styler at 0x26555743a00>"
      ]
     },
     "metadata": {},
     "output_type": "display_data"
    },
    {
     "data": {
      "text/plain": [
       "<pycaret.regression.oop.RegressionExperiment at 0x265531798b0>"
      ]
     },
     "execution_count": 51,
     "metadata": {},
     "output_type": "execute_result"
    }
   ],
   "source": [
    "exp.setup(df, target='price', session_id=123)"
   ]
  },
  {
   "cell_type": "code",
   "execution_count": 52,
   "id": "3a1dfe40",
   "metadata": {},
   "outputs": [
    {
     "data": {
      "text/html": [],
      "text/plain": [
       "<IPython.core.display.HTML object>"
      ]
     },
     "metadata": {},
     "output_type": "display_data"
    },
    {
     "data": {
      "text/html": [
       "<style type=\"text/css\">\n",
       "#T_e5468 th {\n",
       "  text-align: left;\n",
       "}\n",
       "#T_e5468_row0_col0, #T_e5468_row0_col5, #T_e5468_row1_col0, #T_e5468_row1_col1, #T_e5468_row1_col2, #T_e5468_row1_col3, #T_e5468_row1_col4, #T_e5468_row1_col5, #T_e5468_row1_col6, #T_e5468_row2_col0, #T_e5468_row2_col1, #T_e5468_row2_col2, #T_e5468_row2_col3, #T_e5468_row2_col4, #T_e5468_row2_col6, #T_e5468_row3_col0, #T_e5468_row3_col1, #T_e5468_row3_col2, #T_e5468_row3_col3, #T_e5468_row3_col4, #T_e5468_row3_col5, #T_e5468_row3_col6, #T_e5468_row4_col0, #T_e5468_row4_col1, #T_e5468_row4_col2, #T_e5468_row4_col3, #T_e5468_row4_col4, #T_e5468_row4_col5, #T_e5468_row4_col6, #T_e5468_row5_col0, #T_e5468_row5_col1, #T_e5468_row5_col2, #T_e5468_row5_col3, #T_e5468_row5_col4, #T_e5468_row5_col5, #T_e5468_row5_col6, #T_e5468_row6_col0, #T_e5468_row6_col1, #T_e5468_row6_col2, #T_e5468_row6_col3, #T_e5468_row6_col4, #T_e5468_row6_col5, #T_e5468_row6_col6, #T_e5468_row7_col0, #T_e5468_row7_col1, #T_e5468_row7_col2, #T_e5468_row7_col3, #T_e5468_row7_col4, #T_e5468_row7_col5, #T_e5468_row7_col6, #T_e5468_row8_col0, #T_e5468_row8_col1, #T_e5468_row8_col2, #T_e5468_row8_col3, #T_e5468_row8_col4, #T_e5468_row8_col5, #T_e5468_row8_col6, #T_e5468_row9_col0, #T_e5468_row9_col1, #T_e5468_row9_col2, #T_e5468_row9_col3, #T_e5468_row9_col4, #T_e5468_row9_col5, #T_e5468_row9_col6, #T_e5468_row10_col0, #T_e5468_row10_col1, #T_e5468_row10_col2, #T_e5468_row10_col3, #T_e5468_row10_col4, #T_e5468_row10_col5, #T_e5468_row10_col6, #T_e5468_row11_col0, #T_e5468_row11_col1, #T_e5468_row11_col2, #T_e5468_row11_col3, #T_e5468_row11_col4, #T_e5468_row11_col5, #T_e5468_row11_col6, #T_e5468_row12_col0, #T_e5468_row12_col1, #T_e5468_row12_col2, #T_e5468_row12_col3, #T_e5468_row12_col4, #T_e5468_row12_col5, #T_e5468_row12_col6, #T_e5468_row13_col0, #T_e5468_row13_col1, #T_e5468_row13_col2, #T_e5468_row13_col3, #T_e5468_row13_col4, #T_e5468_row13_col5, #T_e5468_row13_col6, #T_e5468_row14_col0, #T_e5468_row14_col1, #T_e5468_row14_col2, #T_e5468_row14_col3, #T_e5468_row14_col4, #T_e5468_row14_col5, #T_e5468_row14_col6, #T_e5468_row15_col0, #T_e5468_row15_col1, #T_e5468_row15_col2, #T_e5468_row15_col3, #T_e5468_row15_col4, #T_e5468_row15_col5, #T_e5468_row15_col6, #T_e5468_row16_col0, #T_e5468_row16_col1, #T_e5468_row16_col2, #T_e5468_row16_col3, #T_e5468_row16_col4, #T_e5468_row16_col5, #T_e5468_row16_col6, #T_e5468_row17_col0, #T_e5468_row17_col1, #T_e5468_row17_col2, #T_e5468_row17_col3, #T_e5468_row17_col4, #T_e5468_row17_col5, #T_e5468_row17_col6, #T_e5468_row18_col0, #T_e5468_row18_col1, #T_e5468_row18_col2, #T_e5468_row18_col3, #T_e5468_row18_col4, #T_e5468_row18_col5, #T_e5468_row18_col6, #T_e5468_row19_col0, #T_e5468_row19_col1, #T_e5468_row19_col2, #T_e5468_row19_col3, #T_e5468_row19_col4, #T_e5468_row19_col5, #T_e5468_row19_col6 {\n",
       "  text-align: left;\n",
       "}\n",
       "#T_e5468_row0_col1, #T_e5468_row0_col2, #T_e5468_row0_col3, #T_e5468_row0_col4, #T_e5468_row0_col6, #T_e5468_row2_col5 {\n",
       "  text-align: left;\n",
       "  background-color: yellow;\n",
       "}\n",
       "#T_e5468_row0_col7, #T_e5468_row1_col7, #T_e5468_row2_col7, #T_e5468_row3_col7, #T_e5468_row4_col7, #T_e5468_row5_col7, #T_e5468_row6_col7, #T_e5468_row7_col7, #T_e5468_row8_col7, #T_e5468_row9_col7, #T_e5468_row10_col7, #T_e5468_row11_col7, #T_e5468_row12_col7, #T_e5468_row13_col7, #T_e5468_row14_col7, #T_e5468_row15_col7, #T_e5468_row16_col7, #T_e5468_row18_col7, #T_e5468_row19_col7 {\n",
       "  text-align: left;\n",
       "  background-color: lightgrey;\n",
       "}\n",
       "#T_e5468_row17_col7 {\n",
       "  text-align: left;\n",
       "  background-color: yellow;\n",
       "  background-color: lightgrey;\n",
       "}\n",
       "</style>\n",
       "<table id=\"T_e5468\">\n",
       "  <thead>\n",
       "    <tr>\n",
       "      <th class=\"blank level0\" >&nbsp;</th>\n",
       "      <th id=\"T_e5468_level0_col0\" class=\"col_heading level0 col0\" >Model</th>\n",
       "      <th id=\"T_e5468_level0_col1\" class=\"col_heading level0 col1\" >MAE</th>\n",
       "      <th id=\"T_e5468_level0_col2\" class=\"col_heading level0 col2\" >MSE</th>\n",
       "      <th id=\"T_e5468_level0_col3\" class=\"col_heading level0 col3\" >RMSE</th>\n",
       "      <th id=\"T_e5468_level0_col4\" class=\"col_heading level0 col4\" >R2</th>\n",
       "      <th id=\"T_e5468_level0_col5\" class=\"col_heading level0 col5\" >RMSLE</th>\n",
       "      <th id=\"T_e5468_level0_col6\" class=\"col_heading level0 col6\" >MAPE</th>\n",
       "      <th id=\"T_e5468_level0_col7\" class=\"col_heading level0 col7\" >TT (Sec)</th>\n",
       "    </tr>\n",
       "  </thead>\n",
       "  <tbody>\n",
       "    <tr>\n",
       "      <th id=\"T_e5468_level0_row0\" class=\"row_heading level0 row0\" >catboost</th>\n",
       "      <td id=\"T_e5468_row0_col0\" class=\"data row0 col0\" >CatBoost Regressor</td>\n",
       "      <td id=\"T_e5468_row0_col1\" class=\"data row0 col1\" >1026.6820</td>\n",
       "      <td id=\"T_e5468_row0_col2\" class=\"data row0 col2\" >2602740.8272</td>\n",
       "      <td id=\"T_e5468_row0_col3\" class=\"data row0 col3\" >1613.1901</td>\n",
       "      <td id=\"T_e5468_row0_col4\" class=\"data row0 col4\" >0.8802</td>\n",
       "      <td id=\"T_e5468_row0_col5\" class=\"data row0 col5\" >0.4876</td>\n",
       "      <td id=\"T_e5468_row0_col6\" class=\"data row0 col6\" >0.4976</td>\n",
       "      <td id=\"T_e5468_row0_col7\" class=\"data row0 col7\" >7.7950</td>\n",
       "    </tr>\n",
       "    <tr>\n",
       "      <th id=\"T_e5468_level0_row1\" class=\"row_heading level0 row1\" >xgboost</th>\n",
       "      <td id=\"T_e5468_row1_col0\" class=\"data row1 col0\" >Extreme Gradient Boosting</td>\n",
       "      <td id=\"T_e5468_row1_col1\" class=\"data row1 col1\" >1036.6942</td>\n",
       "      <td id=\"T_e5468_row1_col2\" class=\"data row1 col2\" >2647915.5639</td>\n",
       "      <td id=\"T_e5468_row1_col3\" class=\"data row1 col3\" >1627.1360</td>\n",
       "      <td id=\"T_e5468_row1_col4\" class=\"data row1 col4\" >0.8781</td>\n",
       "      <td id=\"T_e5468_row1_col5\" class=\"data row1 col5\" >0.4899</td>\n",
       "      <td id=\"T_e5468_row1_col6\" class=\"data row1 col6\" >0.4980</td>\n",
       "      <td id=\"T_e5468_row1_col7\" class=\"data row1 col7\" >3.6340</td>\n",
       "    </tr>\n",
       "    <tr>\n",
       "      <th id=\"T_e5468_level0_row2\" class=\"row_heading level0 row2\" >rf</th>\n",
       "      <td id=\"T_e5468_row2_col0\" class=\"data row2 col0\" >Random Forest Regressor</td>\n",
       "      <td id=\"T_e5468_row2_col1\" class=\"data row2 col1\" >1044.7829</td>\n",
       "      <td id=\"T_e5468_row2_col2\" class=\"data row2 col2\" >2752600.7829</td>\n",
       "      <td id=\"T_e5468_row2_col3\" class=\"data row2 col3\" >1658.9389</td>\n",
       "      <td id=\"T_e5468_row2_col4\" class=\"data row2 col4\" >0.8733</td>\n",
       "      <td id=\"T_e5468_row2_col5\" class=\"data row2 col5\" >0.4852</td>\n",
       "      <td id=\"T_e5468_row2_col6\" class=\"data row2 col6\" >0.4983</td>\n",
       "      <td id=\"T_e5468_row2_col7\" class=\"data row2 col7\" >13.6940</td>\n",
       "    </tr>\n",
       "    <tr>\n",
       "      <th id=\"T_e5468_level0_row3\" class=\"row_heading level0 row3\" >lightgbm</th>\n",
       "      <td id=\"T_e5468_row3_col0\" class=\"data row3 col0\" >Light Gradient Boosting Machine</td>\n",
       "      <td id=\"T_e5468_row3_col1\" class=\"data row3 col1\" >1081.2351</td>\n",
       "      <td id=\"T_e5468_row3_col2\" class=\"data row3 col2\" >2824821.1197</td>\n",
       "      <td id=\"T_e5468_row3_col3\" class=\"data row3 col3\" >1680.6104</td>\n",
       "      <td id=\"T_e5468_row3_col4\" class=\"data row3 col4\" >0.8699</td>\n",
       "      <td id=\"T_e5468_row3_col5\" class=\"data row3 col5\" >0.4964</td>\n",
       "      <td id=\"T_e5468_row3_col6\" class=\"data row3 col6\" >0.5271</td>\n",
       "      <td id=\"T_e5468_row3_col7\" class=\"data row3 col7\" >0.8040</td>\n",
       "    </tr>\n",
       "    <tr>\n",
       "      <th id=\"T_e5468_level0_row4\" class=\"row_heading level0 row4\" >et</th>\n",
       "      <td id=\"T_e5468_row4_col0\" class=\"data row4 col0\" >Extra Trees Regressor</td>\n",
       "      <td id=\"T_e5468_row4_col1\" class=\"data row4 col1\" >1076.8293</td>\n",
       "      <td id=\"T_e5468_row4_col2\" class=\"data row4 col2\" >2930221.6652</td>\n",
       "      <td id=\"T_e5468_row4_col3\" class=\"data row4 col3\" >1711.6883</td>\n",
       "      <td id=\"T_e5468_row4_col4\" class=\"data row4 col4\" >0.8651</td>\n",
       "      <td id=\"T_e5468_row4_col5\" class=\"data row4 col5\" >0.5012</td>\n",
       "      <td id=\"T_e5468_row4_col6\" class=\"data row4 col6\" >0.5077</td>\n",
       "      <td id=\"T_e5468_row4_col7\" class=\"data row4 col7\" >20.3480</td>\n",
       "    </tr>\n",
       "    <tr>\n",
       "      <th id=\"T_e5468_level0_row5\" class=\"row_heading level0 row5\" >gbr</th>\n",
       "      <td id=\"T_e5468_row5_col0\" class=\"data row5 col0\" >Gradient Boosting Regressor</td>\n",
       "      <td id=\"T_e5468_row5_col1\" class=\"data row5 col1\" >1217.6557</td>\n",
       "      <td id=\"T_e5468_row5_col2\" class=\"data row5 col2\" >3466462.7688</td>\n",
       "      <td id=\"T_e5468_row5_col3\" class=\"data row5 col3\" >1861.6599</td>\n",
       "      <td id=\"T_e5468_row5_col4\" class=\"data row5 col4\" >0.8404</td>\n",
       "      <td id=\"T_e5468_row5_col5\" class=\"data row5 col5\" >0.5482</td>\n",
       "      <td id=\"T_e5468_row5_col6\" class=\"data row5 col6\" >0.5911</td>\n",
       "      <td id=\"T_e5468_row5_col7\" class=\"data row5 col7\" >4.5800</td>\n",
       "    </tr>\n",
       "    <tr>\n",
       "      <th id=\"T_e5468_level0_row6\" class=\"row_heading level0 row6\" >dt</th>\n",
       "      <td id=\"T_e5468_row6_col0\" class=\"data row6 col0\" >Decision Tree Regressor</td>\n",
       "      <td id=\"T_e5468_row6_col1\" class=\"data row6 col1\" >1209.7166</td>\n",
       "      <td id=\"T_e5468_row6_col2\" class=\"data row6 col2\" >4031665.4420</td>\n",
       "      <td id=\"T_e5468_row6_col3\" class=\"data row6 col3\" >2007.6638</td>\n",
       "      <td id=\"T_e5468_row6_col4\" class=\"data row6 col4\" >0.8144</td>\n",
       "      <td id=\"T_e5468_row6_col5\" class=\"data row6 col5\" >0.5682</td>\n",
       "      <td id=\"T_e5468_row6_col6\" class=\"data row6 col6\" >0.5382</td>\n",
       "      <td id=\"T_e5468_row6_col7\" class=\"data row6 col7\" >0.4740</td>\n",
       "    </tr>\n",
       "    <tr>\n",
       "      <th id=\"T_e5468_level0_row7\" class=\"row_heading level0 row7\" >knn</th>\n",
       "      <td id=\"T_e5468_row7_col0\" class=\"data row7 col0\" >K Neighbors Regressor</td>\n",
       "      <td id=\"T_e5468_row7_col1\" class=\"data row7 col1\" >1274.6355</td>\n",
       "      <td id=\"T_e5468_row7_col2\" class=\"data row7 col2\" >4282922.1402</td>\n",
       "      <td id=\"T_e5468_row7_col3\" class=\"data row7 col3\" >2069.4549</td>\n",
       "      <td id=\"T_e5468_row7_col4\" class=\"data row7 col4\" >0.8028</td>\n",
       "      <td id=\"T_e5468_row7_col5\" class=\"data row7 col5\" >0.5513</td>\n",
       "      <td id=\"T_e5468_row7_col6\" class=\"data row7 col6\" >0.6235</td>\n",
       "      <td id=\"T_e5468_row7_col7\" class=\"data row7 col7\" >2.4210</td>\n",
       "    </tr>\n",
       "    <tr>\n",
       "      <th id=\"T_e5468_level0_row8\" class=\"row_heading level0 row8\" >br</th>\n",
       "      <td id=\"T_e5468_row8_col0\" class=\"data row8 col0\" >Bayesian Ridge</td>\n",
       "      <td id=\"T_e5468_row8_col1\" class=\"data row8 col1\" >1958.4132</td>\n",
       "      <td id=\"T_e5468_row8_col2\" class=\"data row8 col2\" >7367955.4354</td>\n",
       "      <td id=\"T_e5468_row8_col3\" class=\"data row8 col3\" >2714.3094</td>\n",
       "      <td id=\"T_e5468_row8_col4\" class=\"data row8 col4\" >0.6608</td>\n",
       "      <td id=\"T_e5468_row8_col5\" class=\"data row8 col5\" >0.8688</td>\n",
       "      <td id=\"T_e5468_row8_col6\" class=\"data row8 col6\" >1.2123</td>\n",
       "      <td id=\"T_e5468_row8_col7\" class=\"data row8 col7\" >0.4010</td>\n",
       "    </tr>\n",
       "    <tr>\n",
       "      <th id=\"T_e5468_level0_row9\" class=\"row_heading level0 row9\" >ridge</th>\n",
       "      <td id=\"T_e5468_row9_col0\" class=\"data row9 col0\" >Ridge Regression</td>\n",
       "      <td id=\"T_e5468_row9_col1\" class=\"data row9 col1\" >1958.4287</td>\n",
       "      <td id=\"T_e5468_row9_col2\" class=\"data row9 col2\" >7367967.7203</td>\n",
       "      <td id=\"T_e5468_row9_col3\" class=\"data row9 col3\" >2714.3117</td>\n",
       "      <td id=\"T_e5468_row9_col4\" class=\"data row9 col4\" >0.6608</td>\n",
       "      <td id=\"T_e5468_row9_col5\" class=\"data row9 col5\" >0.8687</td>\n",
       "      <td id=\"T_e5468_row9_col6\" class=\"data row9 col6\" >1.2123</td>\n",
       "      <td id=\"T_e5468_row9_col7\" class=\"data row9 col7\" >0.3380</td>\n",
       "    </tr>\n",
       "    <tr>\n",
       "      <th id=\"T_e5468_level0_row10\" class=\"row_heading level0 row10\" >lr</th>\n",
       "      <td id=\"T_e5468_row10_col0\" class=\"data row10 col0\" >Linear Regression</td>\n",
       "      <td id=\"T_e5468_row10_col1\" class=\"data row10 col1\" >1958.4315</td>\n",
       "      <td id=\"T_e5468_row10_col2\" class=\"data row10 col2\" >7367973.3219</td>\n",
       "      <td id=\"T_e5468_row10_col3\" class=\"data row10 col3\" >2714.3128</td>\n",
       "      <td id=\"T_e5468_row10_col4\" class=\"data row10 col4\" >0.6608</td>\n",
       "      <td id=\"T_e5468_row10_col5\" class=\"data row10 col5\" >0.8688</td>\n",
       "      <td id=\"T_e5468_row10_col6\" class=\"data row10 col6\" >1.2123</td>\n",
       "      <td id=\"T_e5468_row10_col7\" class=\"data row10 col7\" >0.8710</td>\n",
       "    </tr>\n",
       "    <tr>\n",
       "      <th id=\"T_e5468_level0_row11\" class=\"row_heading level0 row11\" >lar</th>\n",
       "      <td id=\"T_e5468_row11_col0\" class=\"data row11 col0\" >Least Angle Regression</td>\n",
       "      <td id=\"T_e5468_row11_col1\" class=\"data row11 col1\" >1958.4315</td>\n",
       "      <td id=\"T_e5468_row11_col2\" class=\"data row11 col2\" >7367973.3219</td>\n",
       "      <td id=\"T_e5468_row11_col3\" class=\"data row11 col3\" >2714.3128</td>\n",
       "      <td id=\"T_e5468_row11_col4\" class=\"data row11 col4\" >0.6608</td>\n",
       "      <td id=\"T_e5468_row11_col5\" class=\"data row11 col5\" >0.8688</td>\n",
       "      <td id=\"T_e5468_row11_col6\" class=\"data row11 col6\" >1.2123</td>\n",
       "      <td id=\"T_e5468_row11_col7\" class=\"data row11 col7\" >0.4190</td>\n",
       "    </tr>\n",
       "    <tr>\n",
       "      <th id=\"T_e5468_level0_row12\" class=\"row_heading level0 row12\" >lasso</th>\n",
       "      <td id=\"T_e5468_row12_col0\" class=\"data row12 col0\" >Lasso Regression</td>\n",
       "      <td id=\"T_e5468_row12_col1\" class=\"data row12 col1\" >1958.1619</td>\n",
       "      <td id=\"T_e5468_row12_col2\" class=\"data row12 col2\" >7369537.2742</td>\n",
       "      <td id=\"T_e5468_row12_col3\" class=\"data row12 col3\" >2714.6007</td>\n",
       "      <td id=\"T_e5468_row12_col4\" class=\"data row12 col4\" >0.6607</td>\n",
       "      <td id=\"T_e5468_row12_col5\" class=\"data row12 col5\" >0.8680</td>\n",
       "      <td id=\"T_e5468_row12_col6\" class=\"data row12 col6\" >1.2115</td>\n",
       "      <td id=\"T_e5468_row12_col7\" class=\"data row12 col7\" >1.0020</td>\n",
       "    </tr>\n",
       "    <tr>\n",
       "      <th id=\"T_e5468_level0_row13\" class=\"row_heading level0 row13\" >en</th>\n",
       "      <td id=\"T_e5468_row13_col0\" class=\"data row13 col0\" >Elastic Net</td>\n",
       "      <td id=\"T_e5468_row13_col1\" class=\"data row13 col1\" >1978.5857</td>\n",
       "      <td id=\"T_e5468_row13_col2\" class=\"data row13 col2\" >7702751.5244</td>\n",
       "      <td id=\"T_e5468_row13_col3\" class=\"data row13 col3\" >2775.2841</td>\n",
       "      <td id=\"T_e5468_row13_col4\" class=\"data row13 col4\" >0.6454</td>\n",
       "      <td id=\"T_e5468_row13_col5\" class=\"data row13 col5\" >0.8746</td>\n",
       "      <td id=\"T_e5468_row13_col6\" class=\"data row13 col6\" >1.2067</td>\n",
       "      <td id=\"T_e5468_row13_col7\" class=\"data row13 col7\" >0.4280</td>\n",
       "    </tr>\n",
       "    <tr>\n",
       "      <th id=\"T_e5468_level0_row14\" class=\"row_heading level0 row14\" >llar</th>\n",
       "      <td id=\"T_e5468_row14_col0\" class=\"data row14 col0\" >Lasso Least Angle Regression</td>\n",
       "      <td id=\"T_e5468_row14_col1\" class=\"data row14 col1\" >2036.2665</td>\n",
       "      <td id=\"T_e5468_row14_col2\" class=\"data row14 col2\" >8198956.9765</td>\n",
       "      <td id=\"T_e5468_row14_col3\" class=\"data row14 col3\" >2863.2828</td>\n",
       "      <td id=\"T_e5468_row14_col4\" class=\"data row14 col4\" >0.6225</td>\n",
       "      <td id=\"T_e5468_row14_col5\" class=\"data row14 col5\" >0.8406</td>\n",
       "      <td id=\"T_e5468_row14_col6\" class=\"data row14 col6\" >1.1665</td>\n",
       "      <td id=\"T_e5468_row14_col7\" class=\"data row14 col7\" >0.3390</td>\n",
       "    </tr>\n",
       "    <tr>\n",
       "      <th id=\"T_e5468_level0_row15\" class=\"row_heading level0 row15\" >ada</th>\n",
       "      <td id=\"T_e5468_row15_col0\" class=\"data row15 col0\" >AdaBoost Regressor</td>\n",
       "      <td id=\"T_e5468_row15_col1\" class=\"data row15 col1\" >2652.2833</td>\n",
       "      <td id=\"T_e5468_row15_col2\" class=\"data row15 col2\" >10190222.2284</td>\n",
       "      <td id=\"T_e5468_row15_col3\" class=\"data row15 col3\" >3189.5877</td>\n",
       "      <td id=\"T_e5468_row15_col4\" class=\"data row15 col4\" >0.5307</td>\n",
       "      <td id=\"T_e5468_row15_col5\" class=\"data row15 col5\" >1.0135</td>\n",
       "      <td id=\"T_e5468_row15_col6\" class=\"data row15 col6\" >1.9933</td>\n",
       "      <td id=\"T_e5468_row15_col7\" class=\"data row15 col7\" >3.5690</td>\n",
       "    </tr>\n",
       "    <tr>\n",
       "      <th id=\"T_e5468_level0_row16\" class=\"row_heading level0 row16\" >huber</th>\n",
       "      <td id=\"T_e5468_row16_col0\" class=\"data row16 col0\" >Huber Regressor</td>\n",
       "      <td id=\"T_e5468_row16_col1\" class=\"data row16 col1\" >2310.0554</td>\n",
       "      <td id=\"T_e5468_row16_col2\" class=\"data row16 col2\" >10504915.4168</td>\n",
       "      <td id=\"T_e5468_row16_col3\" class=\"data row16 col3\" >3241.0288</td>\n",
       "      <td id=\"T_e5468_row16_col4\" class=\"data row16 col4\" >0.5164</td>\n",
       "      <td id=\"T_e5468_row16_col5\" class=\"data row16 col5\" >0.9380</td>\n",
       "      <td id=\"T_e5468_row16_col6\" class=\"data row16 col6\" >1.2890</td>\n",
       "      <td id=\"T_e5468_row16_col7\" class=\"data row16 col7\" >0.9820</td>\n",
       "    </tr>\n",
       "    <tr>\n",
       "      <th id=\"T_e5468_level0_row17\" class=\"row_heading level0 row17\" >omp</th>\n",
       "      <td id=\"T_e5468_row17_col0\" class=\"data row17 col0\" >Orthogonal Matching Pursuit</td>\n",
       "      <td id=\"T_e5468_row17_col1\" class=\"data row17 col1\" >2358.1858</td>\n",
       "      <td id=\"T_e5468_row17_col2\" class=\"data row17 col2\" >10842193.8097</td>\n",
       "      <td id=\"T_e5468_row17_col3\" class=\"data row17 col3\" >3292.6587</td>\n",
       "      <td id=\"T_e5468_row17_col4\" class=\"data row17 col4\" >0.5008</td>\n",
       "      <td id=\"T_e5468_row17_col5\" class=\"data row17 col5\" >0.9029</td>\n",
       "      <td id=\"T_e5468_row17_col6\" class=\"data row17 col6\" >1.3991</td>\n",
       "      <td id=\"T_e5468_row17_col7\" class=\"data row17 col7\" >0.3170</td>\n",
       "    </tr>\n",
       "    <tr>\n",
       "      <th id=\"T_e5468_level0_row18\" class=\"row_heading level0 row18\" >dummy</th>\n",
       "      <td id=\"T_e5468_row18_col0\" class=\"data row18 col0\" >Dummy Regressor</td>\n",
       "      <td id=\"T_e5468_row18_col1\" class=\"data row18 col1\" >3695.4984</td>\n",
       "      <td id=\"T_e5468_row18_col2\" class=\"data row18 col2\" >21721825.9772</td>\n",
       "      <td id=\"T_e5468_row18_col3\" class=\"data row18 col3\" >4660.5964</td>\n",
       "      <td id=\"T_e5468_row18_col4\" class=\"data row18 col4\" >-0.0000</td>\n",
       "      <td id=\"T_e5468_row18_col5\" class=\"data row18 col5\" >1.2252</td>\n",
       "      <td id=\"T_e5468_row18_col6\" class=\"data row18 col6\" >2.7250</td>\n",
       "      <td id=\"T_e5468_row18_col7\" class=\"data row18 col7\" >0.3330</td>\n",
       "    </tr>\n",
       "    <tr>\n",
       "      <th id=\"T_e5468_level0_row19\" class=\"row_heading level0 row19\" >par</th>\n",
       "      <td id=\"T_e5468_row19_col0\" class=\"data row19 col0\" >Passive Aggressive Regressor</td>\n",
       "      <td id=\"T_e5468_row19_col1\" class=\"data row19 col1\" >4717.9278</td>\n",
       "      <td id=\"T_e5468_row19_col2\" class=\"data row19 col2\" >47914137.4904</td>\n",
       "      <td id=\"T_e5468_row19_col3\" class=\"data row19 col3\" >5805.9833</td>\n",
       "      <td id=\"T_e5468_row19_col4\" class=\"data row19 col4\" >-1.1996</td>\n",
       "      <td id=\"T_e5468_row19_col5\" class=\"data row19 col5\" >1.3252</td>\n",
       "      <td id=\"T_e5468_row19_col6\" class=\"data row19 col6\" >3.0987</td>\n",
       "      <td id=\"T_e5468_row19_col7\" class=\"data row19 col7\" >0.4410</td>\n",
       "    </tr>\n",
       "  </tbody>\n",
       "</table>\n"
      ],
      "text/plain": [
       "<pandas.io.formats.style.Styler at 0x26552f7bdc0>"
      ]
     },
     "metadata": {},
     "output_type": "display_data"
    },
    {
     "data": {
      "application/vnd.jupyter.widget-view+json": {
       "model_id": "",
       "version_major": 2,
       "version_minor": 0
      },
      "text/plain": [
       "Processing:   0%|          | 0/85 [00:00<?, ?it/s]"
      ]
     },
     "metadata": {},
     "output_type": "display_data"
    }
   ],
   "source": [
    "best = exp.compare_models(sort='RMSE')"
   ]
  },
  {
   "cell_type": "markdown",
   "id": "e073defc",
   "metadata": {},
   "source": [
    "Для дальнейшего обучения возьмем топ-4 модели:\n",
    "- `CatBoost Regressor`\n",
    "- `Extreme Gradient Boosting`\n",
    "- `Random Forest Regressor`\n",
    "- `Light Gradient Boosting Machine`"
   ]
  },
  {
   "cell_type": "markdown",
   "id": "10470b85",
   "metadata": {},
   "source": [
    "Создадим датасет, в который будут собираться результаты обучения моделей"
   ]
  },
  {
   "cell_type": "code",
   "execution_count": 65,
   "id": "f266b2ce",
   "metadata": {},
   "outputs": [],
   "source": [
    "best_models = pd.DataFrame(columns=['model', 'RMSE', 'Время обучения', 'Время предсказания'])"
   ]
  },
  {
   "cell_type": "markdown",
   "id": "37840393",
   "metadata": {},
   "source": [
    "#### CatBoostRegressor"
   ]
  },
  {
   "cell_type": "code",
   "execution_count": 66,
   "id": "6bc54487",
   "metadata": {},
   "outputs": [
    {
     "name": "stdout",
     "output_type": "stream",
     "text": [
      "0:\tlearn: 3992.5051060\ttotal: 24.7ms\tremaining: 7.42s\n",
      "25:\tlearn: 1760.2080582\ttotal: 624ms\tremaining: 6.6s\n",
      "50:\tlearn: 1667.5923259\ttotal: 1.19s\tremaining: 5.82s\n",
      "75:\tlearn: 1616.3167027\ttotal: 1.74s\tremaining: 5.16s\n",
      "100:\tlearn: 1577.7393648\ttotal: 2.32s\tremaining: 4.59s\n",
      "125:\tlearn: 1548.6386340\ttotal: 2.9s\tremaining: 4.03s\n",
      "150:\tlearn: 1524.2525833\ttotal: 3.47s\tremaining: 3.44s\n",
      "175:\tlearn: 1504.4417769\ttotal: 4.03s\tremaining: 2.86s\n",
      "200:\tlearn: 1484.9121340\ttotal: 4.63s\tremaining: 2.31s\n",
      "225:\tlearn: 1470.5586882\ttotal: 5.21s\tremaining: 1.73s\n",
      "250:\tlearn: 1458.6016029\ttotal: 5.76s\tremaining: 1.15s\n",
      "275:\tlearn: 1446.1364323\ttotal: 6.33s\tremaining: 574ms\n",
      "300:\tlearn: 1435.2537222\ttotal: 6.9s\tremaining: 0us\n",
      "Время поиска лучшей модели: 318.91 сек.\n",
      "Лучшие параметры: {'catboost__depth': 10, 'catboost__iterations': 301, 'catboost__learning_rate': 0.2}\n",
      "Лучший RMSE: 1592.3770156497621\n"
     ]
    }
   ],
   "source": [
    "pipeline_catboost = Pipeline([\n",
    "    ('preprocessor', preprocessor),\n",
    "    (\"catboost\", CatBoostRegressor(loss_function='RMSE', verbose=25))\n",
    "])\n",
    "\n",
    "param_grid = {\n",
    "    'catboost__iterations': [100, 200, 301],\n",
    "    'catboost__learning_rate': [0.01, 0.1, 0.2],\n",
    "    'catboost__depth': [6, 8, 10]\n",
    "}\n",
    "\n",
    "grid_catboost = GridSearchCV(estimator=pipeline_catboost,\n",
    "                             param_grid=param_grid,\n",
    "                             scoring='neg_mean_squared_error',\n",
    "                             cv=5,\n",
    "                             n_jobs=-1)\n",
    "\n",
    "start_learn = time()\n",
    "grid_catboost.fit(features_train, target_train)\n",
    "end_learn = time()\n",
    "\n",
    "learn_time = end_learn - start_learn #время поиска лучшей модели\n",
    "\n",
    "rmse_catboost = np.sqrt(abs(grid_catboost.best_score_))\n",
    "\n",
    "print('Время поиска лучшей модели:', round(learn_time, 2), 'сек.')\n",
    "print(\"Лучшие параметры:\", grid_catboost.best_params_)\n",
    "print(\"Лучший RMSE:\", rmse_catboost)"
   ]
  },
  {
   "cell_type": "code",
   "execution_count": 67,
   "id": "3b420344",
   "metadata": {},
   "outputs": [
    {
     "name": "stdout",
     "output_type": "stream",
     "text": [
      "0:\tlearn: 3992.5051060\ttotal: 24.6ms\tremaining: 7.37s\n",
      "25:\tlearn: 1760.2080582\ttotal: 594ms\tremaining: 6.28s\n",
      "50:\tlearn: 1667.5923259\ttotal: 1.16s\tremaining: 5.69s\n",
      "75:\tlearn: 1616.3167027\ttotal: 1.76s\tremaining: 5.21s\n",
      "100:\tlearn: 1577.7393648\ttotal: 2.32s\tremaining: 4.59s\n",
      "125:\tlearn: 1548.6386340\ttotal: 2.88s\tremaining: 4.01s\n",
      "150:\tlearn: 1524.2525833\ttotal: 3.46s\tremaining: 3.43s\n",
      "175:\tlearn: 1504.4417769\ttotal: 4.03s\tremaining: 2.86s\n",
      "200:\tlearn: 1484.9121340\ttotal: 4.61s\tremaining: 2.29s\n",
      "225:\tlearn: 1470.5586882\ttotal: 5.18s\tremaining: 1.72s\n",
      "250:\tlearn: 1458.6016029\ttotal: 5.77s\tremaining: 1.15s\n",
      "275:\tlearn: 1446.1364323\ttotal: 6.33s\tremaining: 573ms\n",
      "300:\tlearn: 1435.2537222\ttotal: 6.89s\tremaining: 0us\n",
      "Время обучения лучшей модели: 7.65 сек\n",
      "Время предсказания лучшей модели: 0.66 сек.\n"
     ]
    }
   ],
   "source": [
    "best_model_catboost = grid_catboost.best_estimator_\n",
    "\n",
    "start_fit = time()\n",
    "best_model_catboost.fit(features_train, target_train)\n",
    "end_fit = time()\n",
    "\n",
    "fit_time = end_fit - start_fit\n",
    "print(\"Время обучения лучшей модели:\", round(fit_time, 2), \"сек\")\n",
    "\n",
    "start_pred = time()\n",
    "predictions = best_model_catboost.predict(features_train)\n",
    "end_pred = time()\n",
    "\n",
    "pred_time = end_pred - start_pred\n",
    "print('Время предсказания лучшей модели:', round(pred_time, 2), 'сек.')"
   ]
  },
  {
   "cell_type": "code",
   "execution_count": 68,
   "id": "4b297583",
   "metadata": {},
   "outputs": [],
   "source": [
    "best_models.loc[0] = ['CatBoostRegressor', rmse_catboost, fit_time, pred_time]"
   ]
  },
  {
   "cell_type": "markdown",
   "id": "d8ddcfa3",
   "metadata": {},
   "source": [
    "#### XGBRegressor"
   ]
  },
  {
   "cell_type": "code",
   "execution_count": 69,
   "id": "de46664a",
   "metadata": {},
   "outputs": [
    {
     "name": "stdout",
     "output_type": "stream",
     "text": [
      "Лучшие параметры: {'xgb__learning_rate': 0.1, 'xgb__max_depth': 10, 'xgb__n_estimators': 100, 'xgb__subsample': 0.8}\n",
      "Лучший RMSE: 1581.068421228847\n",
      "Время поиска лучшей модели: 184.92 сек.\n"
     ]
    }
   ],
   "source": [
    "pipeline_xgb = Pipeline(\n",
    "    [\n",
    "        (('preprocessor', preprocessor)),\n",
    "        (\"xgb\", XGBRegressor())\n",
    "    ]\n",
    ")\n",
    "\n",
    "param_grid = {\n",
    "    'xgb__n_estimators': [50, 100],\n",
    "    'xgb__max_depth': [5, 10],\n",
    "    'xgb__learning_rate': [0.1, 0.2],\n",
    "    'xgb__subsample': [0.8, 1.0]\n",
    "}\n",
    "\n",
    "grid_xgb = GridSearchCV(estimator=pipeline_xgb,\n",
    "                        param_grid=param_grid,\n",
    "                        scoring='neg_mean_squared_error',\n",
    "                        cv=5,\n",
    "                        n_jobs=-1)\n",
    "\n",
    "start_fit = time()\n",
    "grid_xgb.fit(features_train, target_train)\n",
    "end_fit = time()\n",
    "\n",
    "rmse_xgb = np.sqrt(abs(grid_xgb.best_score_))\n",
    "\n",
    "print(\"Лучшие параметры:\", grid_xgb.best_params_)\n",
    "print(\"Лучший RMSE:\", rmse_xgb)\n",
    "print('Время поиска лучшей модели:', round(end_fit - start_fit, 2), 'сек.')"
   ]
  },
  {
   "cell_type": "code",
   "execution_count": 70,
   "id": "0acceb8e",
   "metadata": {},
   "outputs": [
    {
     "name": "stdout",
     "output_type": "stream",
     "text": [
      "Время обучения лучшей модели: 7.25 сек\n",
      "Время предсказания лучшей модели: 0.31 сек.\n"
     ]
    }
   ],
   "source": [
    "best_model_xgb = grid_xgb.best_estimator_\n",
    "\n",
    "start_fit = time()\n",
    "best_model_xgb.fit(features_train, target_train)\n",
    "end_fit = time()\n",
    "\n",
    "fit_time = end_fit - start_fit\n",
    "print(\"Время обучения лучшей модели:\", round(fit_time, 2), \"сек\")\n",
    "\n",
    "start_pred = time()\n",
    "predictions = best_model_xgb.predict(features_train)\n",
    "end_pred = time()\n",
    "\n",
    "pred_time = end_pred - start_pred\n",
    "print('Время предсказания лучшей модели:', round(pred_time, 2), 'сек.')"
   ]
  },
  {
   "cell_type": "code",
   "execution_count": 71,
   "id": "a47b13a1",
   "metadata": {},
   "outputs": [],
   "source": [
    "best_models.loc[1] = ['XGBRegressor', rmse_xgb, fit_time, pred_time]"
   ]
  },
  {
   "cell_type": "markdown",
   "id": "e53b0315",
   "metadata": {},
   "source": [
    "#### RandomForestRegressor"
   ]
  },
  {
   "cell_type": "code",
   "execution_count": 81,
   "id": "09cb34a2",
   "metadata": {},
   "outputs": [
    {
     "name": "stdout",
     "output_type": "stream",
     "text": [
      "Лучшие параметры: {'rf__max_depth': 10, 'rf__min_samples_leaf': 2, 'rf__min_samples_split': 2, 'rf__n_estimators': 100}\n",
      "Лучший RMSE: 1881.1291987682644\n",
      "Время поиска лучшей модели: 319.47 сек.\n"
     ]
    }
   ],
   "source": [
    "pipeline_rf = Pipeline([\n",
    "    ('preprocessor', preprocessor),\n",
    "    ('rf', RandomForestRegressor())\n",
    "])\n",
    "\n",
    "param_grid = {\n",
    "    'rf__n_estimators': [50, 100],\n",
    "    'rf__max_depth': [5, 10],\n",
    "    'rf__min_samples_split': [2, 5],\n",
    "    'rf__min_samples_leaf': [1, 2]\n",
    "}\n",
    "\n",
    "grid_rf = GridSearchCV(estimator=pipeline_rf,\n",
    "                       param_grid=param_grid,\n",
    "                       scoring='neg_mean_squared_error',\n",
    "                       cv=5,\n",
    "                       n_jobs=-1)\n",
    "\n",
    "start_fit = time()\n",
    "grid_rf.fit(features_train, target_train)\n",
    "end_fit = time()\n",
    "\n",
    "rmse_rf = np.sqrt(abs(grid_rf.best_score_))\n",
    "\n",
    "print(\"Лучшие параметры:\", grid_rf.best_params_)\n",
    "print(\"Лучший RMSE:\", rmse_rf)\n",
    "print('Время поиска лучшей модели:', round(end_fit - start_fit, 2), 'сек.')"
   ]
  },
  {
   "cell_type": "code",
   "execution_count": 82,
   "id": "47d88a02",
   "metadata": {},
   "outputs": [
    {
     "name": "stdout",
     "output_type": "stream",
     "text": [
      "Время обучения лучшей модели: 23.01 сек\n",
      "Время предсказания лучшей модели: 1.95 сек.\n"
     ]
    }
   ],
   "source": [
    "best_model_rf = grid_rf.best_estimator_\n",
    "\n",
    "start_fit = time()\n",
    "best_model_rf.fit(features_train, target_train)\n",
    "end_fit = time()\n",
    "\n",
    "fit_time = end_fit - start_fit\n",
    "print(\"Время обучения лучшей модели:\", round(fit_time, 2), \"сек\")\n",
    "\n",
    "start_pred = time()\n",
    "predictions = best_model_rf.predict(features_train)\n",
    "end_pred = time()\n",
    "\n",
    "pred_time = end_pred - start_pred\n",
    "print('Время предсказания лучшей модели:', round(pred_time, 2), 'сек.')"
   ]
  },
  {
   "cell_type": "code",
   "execution_count": 83,
   "id": "5188608f",
   "metadata": {},
   "outputs": [],
   "source": [
    "best_models.loc[2] = ['RandomForestRegressor', rmse_rf, fit_time, pred_time]"
   ]
  },
  {
   "cell_type": "markdown",
   "id": "a5ef5088",
   "metadata": {},
   "source": [
    "#### LGBMRegressor"
   ]
  },
  {
   "cell_type": "code",
   "execution_count": 84,
   "id": "f68d90b8",
   "metadata": {},
   "outputs": [
    {
     "name": "stdout",
     "output_type": "stream",
     "text": [
      "[LightGBM] [Warning] Accuracy may be bad since you didn't explicitly set num_leaves OR 2^max_depth > num_leaves. (num_leaves=31).\n",
      "[LightGBM] [Warning] Accuracy may be bad since you didn't explicitly set num_leaves OR 2^max_depth > num_leaves. (num_leaves=31).\n",
      "[LightGBM] [Info] Total Bins 580\n",
      "[LightGBM] [Info] Number of data points in the train set: 201253, number of used features: 9\n",
      "[LightGBM] [Info] Start training from score 4952.039816\n",
      "Лучшие параметры: {'lgbm__learning_rate': 0.2, 'lgbm__max_depth': 15, 'lgbm__n_estimators': 200}\n",
      "Лучший RMSE: 1616.1967226975062\n",
      "Время поиска лучшей модели: 74.52 сек.\n"
     ]
    }
   ],
   "source": [
    "pipeline_lgbm = Pipeline([\n",
    "    ('preprocessor', preprocessor),\n",
    "    (\"lgbm\", LGBMRegressor(force_row_wise=True))\n",
    "])\n",
    "\n",
    "param_grid = {\n",
    "    'lgbm__n_estimators': [50, 100, 200],\n",
    "    'lgbm__max_depth': [5, 10, 15],\n",
    "    'lgbm__learning_rate': [0.01, 0.1, 0.2]\n",
    "}\n",
    "\n",
    "grid_lgbm = GridSearchCV(estimator=pipeline_lgbm,\n",
    "                         param_grid=param_grid,\n",
    "                         scoring='neg_mean_squared_error',\n",
    "                         cv=5,\n",
    "                         n_jobs=-1)\n",
    "\n",
    "start_fit = time()\n",
    "grid_lgbm.fit(features_train, target_train)\n",
    "end_fit = time()\n",
    "\n",
    "rmse_lgbm = np.sqrt(abs(grid_lgbm.best_score_))\n",
    "\n",
    "print(\"Лучшие параметры:\", grid_lgbm.best_params_)\n",
    "print(\"Лучший RMSE:\", rmse_lgbm)\n",
    "print('Время поиска лучшей модели:', round(end_fit - start_fit, 2), 'сек.')"
   ]
  },
  {
   "cell_type": "code",
   "execution_count": 85,
   "id": "a414d6cf",
   "metadata": {},
   "outputs": [
    {
     "name": "stdout",
     "output_type": "stream",
     "text": [
      "[LightGBM] [Warning] Accuracy may be bad since you didn't explicitly set num_leaves OR 2^max_depth > num_leaves. (num_leaves=31).\n",
      "[LightGBM] [Warning] Accuracy may be bad since you didn't explicitly set num_leaves OR 2^max_depth > num_leaves. (num_leaves=31).\n",
      "[LightGBM] [Info] Total Bins 580\n",
      "[LightGBM] [Info] Number of data points in the train set: 201253, number of used features: 9\n",
      "[LightGBM] [Info] Start training from score 4952.039816\n",
      "Время обучения лучшей модели: 0.71 сек\n",
      "[LightGBM] [Warning] Accuracy may be bad since you didn't explicitly set num_leaves OR 2^max_depth > num_leaves. (num_leaves=31).\n",
      "Время предсказания лучшей модели: 0.57 сек.\n"
     ]
    }
   ],
   "source": [
    "best_model_lgbm = grid_lgbm.best_estimator_\n",
    "\n",
    "start_fit = time()\n",
    "best_model_lgbm.fit(features_train, target_train)\n",
    "end_fit = time()\n",
    "\n",
    "fit_time = end_fit - start_fit\n",
    "print(\"Время обучения лучшей модели:\", round(fit_time, 2), \"сек\")\n",
    "\n",
    "start_pred = time()\n",
    "predictions = best_model_lgbm.predict(features_train)\n",
    "end_pred = time()\n",
    "\n",
    "pred_time = end_pred - start_pred\n",
    "print('Время предсказания лучшей модели:', round(pred_time, 2), 'сек.')"
   ]
  },
  {
   "cell_type": "code",
   "execution_count": 86,
   "id": "2e5d84b7",
   "metadata": {},
   "outputs": [],
   "source": [
    "best_models.loc[3] = ['LGBMRegressor', rmse_lgbm, fit_time, pred_time]"
   ]
  },
  {
   "cell_type": "markdown",
   "id": "f4dc20c6",
   "metadata": {},
   "source": [
    "#### DummyRegressor"
   ]
  },
  {
   "cell_type": "code",
   "execution_count": 87,
   "id": "e4f3c96b",
   "metadata": {},
   "outputs": [
    {
     "name": "stdout",
     "output_type": "stream",
     "text": [
      "RMSE константной модели: 4648.648862493507\n"
     ]
    }
   ],
   "source": [
    "dummy_model = DummyRegressor(strategy='mean') \n",
    "\n",
    "dummy_model.fit(features_train, target_train)\n",
    "\n",
    "dummy_predictions = dummy_model.predict(features_test)\n",
    "\n",
    "rmse_dummy = mean_squared_error(target_test, dummy_predictions, squared=False)\n",
    "\n",
    "print(f\"RMSE константной модели: {rmse_dummy}\")"
   ]
  },
  {
   "cell_type": "markdown",
   "id": "b60e2c28",
   "metadata": {},
   "source": [
    "Все модели прошли тест на адекватность - метрика RMSE константной модели равна **4648**."
   ]
  },
  {
   "cell_type": "markdown",
   "id": "f9025210",
   "metadata": {},
   "source": [
    "Посмотрим на результаты моделей"
   ]
  },
  {
   "cell_type": "code",
   "execution_count": 89,
   "id": "bca7e3cd",
   "metadata": {},
   "outputs": [
    {
     "data": {
      "text/html": [
       "<div>\n",
       "<style scoped>\n",
       "    .dataframe tbody tr th:only-of-type {\n",
       "        vertical-align: middle;\n",
       "    }\n",
       "\n",
       "    .dataframe tbody tr th {\n",
       "        vertical-align: top;\n",
       "    }\n",
       "\n",
       "    .dataframe thead th {\n",
       "        text-align: right;\n",
       "    }\n",
       "</style>\n",
       "<table border=\"1\" class=\"dataframe\">\n",
       "  <thead>\n",
       "    <tr style=\"text-align: right;\">\n",
       "      <th></th>\n",
       "      <th>model</th>\n",
       "      <th>RMSE</th>\n",
       "      <th>Время обучения</th>\n",
       "      <th>Время предсказания</th>\n",
       "    </tr>\n",
       "  </thead>\n",
       "  <tbody>\n",
       "    <tr>\n",
       "      <th>1</th>\n",
       "      <td>XGBRegressor</td>\n",
       "      <td>1581.068421</td>\n",
       "      <td>7.249033</td>\n",
       "      <td>0.313668</td>\n",
       "    </tr>\n",
       "    <tr>\n",
       "      <th>0</th>\n",
       "      <td>CatBoostRegressor</td>\n",
       "      <td>1592.377016</td>\n",
       "      <td>7.649867</td>\n",
       "      <td>0.664223</td>\n",
       "    </tr>\n",
       "    <tr>\n",
       "      <th>3</th>\n",
       "      <td>LGBMRegressor</td>\n",
       "      <td>1616.196723</td>\n",
       "      <td>0.706322</td>\n",
       "      <td>0.569993</td>\n",
       "    </tr>\n",
       "    <tr>\n",
       "      <th>2</th>\n",
       "      <td>RandomForestRegressor</td>\n",
       "      <td>1881.129199</td>\n",
       "      <td>23.007074</td>\n",
       "      <td>1.946989</td>\n",
       "    </tr>\n",
       "  </tbody>\n",
       "</table>\n",
       "</div>"
      ],
      "text/plain": [
       "                   model         RMSE  Время обучения  Время предсказания\n",
       "1           XGBRegressor  1581.068421        7.249033            0.313668\n",
       "0      CatBoostRegressor  1592.377016        7.649867            0.664223\n",
       "3          LGBMRegressor  1616.196723        0.706322            0.569993\n",
       "2  RandomForestRegressor  1881.129199       23.007074            1.946989"
      ]
     },
     "execution_count": 89,
     "metadata": {},
     "output_type": "execute_result"
    }
   ],
   "source": [
    "best_models.sort_values('RMSE')"
   ]
  },
  {
   "cell_type": "markdown",
   "id": "a67eabde",
   "metadata": {},
   "source": [
    "`XGBRegressor` показала наилучшую метрику RMSE, поэтому ее будем анализировать на тестовой выборке"
   ]
  },
  {
   "cell_type": "markdown",
   "id": "70cace35",
   "metadata": {},
   "source": [
    "## Анализ модели"
   ]
  },
  {
   "cell_type": "code",
   "execution_count": 90,
   "id": "804496be",
   "metadata": {},
   "outputs": [
    {
     "name": "stdout",
     "output_type": "stream",
     "text": [
      "RMSE на тестовых данных с использованием лучших параметров: 1573.7256674764717\n"
     ]
    }
   ],
   "source": [
    "rmse_test = mean_squared_error(target_test, best_model_xgb.predict(features_test), squared=False)\n",
    "\n",
    "print(\"RMSE на тестовых данных с использованием лучших параметров:\", rmse_test)"
   ]
  },
  {
   "cell_type": "markdown",
   "id": "d4d7cfce",
   "metadata": {},
   "source": [
    "Результат тестирования лучшей модели - **1573**"
   ]
  },
  {
   "cell_type": "markdown",
   "id": "00bd6763",
   "metadata": {},
   "source": [
    "## Вывод"
   ]
  },
  {
   "cell_type": "markdown",
   "id": "d05a57e9",
   "metadata": {},
   "source": [
    "Датасет содержал:\n",
    "\n",
    "- 16 столбцов\n",
    "- 354369 строк\n",
    "- 3.2% пропусков\n",
    "- 4 дубликата\n",
    "- Несколько признаков имели аномальные значения, которые нужно было обработать\n",
    "___\n",
    "В ходе предобработки были предприняты следующие действия с данными:\n",
    "\n",
    "- Перевели в нижний и змеинный регистры названия признаков (столбцов)\n",
    "- Удалили лишние признаки (date_crawled, date_created, last_seen, number_of_pictures, postal_code,registration_month), в которых отсутствует информация об автомобилях\n",
    "- Удалили строки с аномальными значениями в столбце registration_year\n",
    "- Удалили строки с аномальными значениями в столбце power и заменили редкие медианой\n",
    "- Удалили строки с аномальными значениями в столбце price\n",
    "- Заполнили пропуски самым часто встречающимся типом автомобильного кузова для каждой модели и марки в столбце vehicle_type\n",
    "- Заполнили пропуски значением manual в столбце gearbox\n",
    "- Присвоим редким моделям и пропускам тзначение other в столбце model\n",
    "- В столбце fuel_type объединили значения petrol и gasoline, также - lpg и cng\n",
    "- Ввели новую категорию unknown вместо пустот в столбце repaired\n",
    "- После всех преобразований образовалось 42371 дубликатов. Все они были удалены.\n",
    "___\n",
    "Разделили данные на обучающую и тестовую выборки в соотношении 4:1\n",
    "___\n",
    "Преобразовали категориальные признаки, масштабировали числовые признаки\n",
    "___\n",
    "Функцией compare_models() оценили несколько регрессионных моделей, которые подходят под нашу задачу. По оценке метрики RMSE были выбраны 4 модели для дальнейшего обучения:\n",
    "- `CatBoost Regressor`\n",
    "- `Extreme Gradient Boosting`\n",
    "- `Random Forest Regressor`\n",
    "- `Light Gradient Boosting Machine`\n",
    "___\n",
    "Наилучшую метрику RMSE показала модель `XGBRegressor` (Extreme Gradient Boosting) - **1581**. Гиперпараметры лучшей модели:\n",
    "- learning_rate: 0.1\n",
    "- max_depth: 10\n",
    "- n_estimators: 100\n",
    "- subsample: 0.8\n",
    "\n",
    "Значение RMSE лучшей модели на тестовой выборке - **1573**\n",
    "___\n",
    "**На основании исследования по предоставленным данным, заказчику стоит порекомендовать модель экстремального градиентного бустинга XGBRegressor**"
   ]
  }
 ],
 "metadata": {
  "ExecuteTimeLog": [
   {
    "duration": 13,
    "start_time": "2023-08-14T12:54:25.867Z"
   },
   {
    "duration": 0,
    "start_time": "2023-08-14T12:54:25.884Z"
   },
   {
    "duration": 0,
    "start_time": "2023-08-14T12:54:25.886Z"
   },
   {
    "duration": 0,
    "start_time": "2023-08-14T12:54:25.888Z"
   },
   {
    "duration": 1,
    "start_time": "2023-08-14T12:54:25.888Z"
   },
   {
    "duration": 0,
    "start_time": "2023-08-14T12:54:25.890Z"
   },
   {
    "duration": 0,
    "start_time": "2023-08-14T12:54:25.891Z"
   },
   {
    "duration": 0,
    "start_time": "2023-08-14T12:54:25.892Z"
   },
   {
    "duration": 0,
    "start_time": "2023-08-14T12:54:25.893Z"
   },
   {
    "duration": 0,
    "start_time": "2023-08-14T12:54:25.894Z"
   },
   {
    "duration": 0,
    "start_time": "2023-08-14T12:54:25.896Z"
   },
   {
    "duration": 0,
    "start_time": "2023-08-14T12:54:25.897Z"
   },
   {
    "duration": 0,
    "start_time": "2023-08-14T12:54:25.898Z"
   },
   {
    "duration": 0,
    "start_time": "2023-08-14T12:54:25.899Z"
   },
   {
    "duration": 0,
    "start_time": "2023-08-14T12:54:25.901Z"
   },
   {
    "duration": 0,
    "start_time": "2023-08-14T12:54:25.903Z"
   },
   {
    "duration": 0,
    "start_time": "2023-08-14T12:54:25.905Z"
   },
   {
    "duration": 0,
    "start_time": "2023-08-14T12:54:25.906Z"
   },
   {
    "duration": 0,
    "start_time": "2023-08-14T12:54:25.908Z"
   },
   {
    "duration": 0,
    "start_time": "2023-08-14T12:54:25.910Z"
   },
   {
    "duration": 0,
    "start_time": "2023-08-14T12:54:25.911Z"
   },
   {
    "duration": 0,
    "start_time": "2023-08-14T12:54:25.912Z"
   },
   {
    "duration": 0,
    "start_time": "2023-08-14T12:54:25.914Z"
   },
   {
    "duration": 0,
    "start_time": "2023-08-14T12:54:25.915Z"
   },
   {
    "duration": 0,
    "start_time": "2023-08-14T12:54:25.968Z"
   },
   {
    "duration": 0,
    "start_time": "2023-08-14T12:54:25.970Z"
   },
   {
    "duration": 0,
    "start_time": "2023-08-14T12:54:25.971Z"
   },
   {
    "duration": 0,
    "start_time": "2023-08-14T12:54:25.973Z"
   },
   {
    "duration": 0,
    "start_time": "2023-08-14T12:54:25.975Z"
   },
   {
    "duration": 0,
    "start_time": "2023-08-14T12:54:25.976Z"
   },
   {
    "duration": 0,
    "start_time": "2023-08-14T12:54:25.977Z"
   },
   {
    "duration": 0,
    "start_time": "2023-08-14T12:54:25.979Z"
   },
   {
    "duration": 0,
    "start_time": "2023-08-14T12:54:25.980Z"
   },
   {
    "duration": 0,
    "start_time": "2023-08-14T12:54:25.982Z"
   },
   {
    "duration": 0,
    "start_time": "2023-08-14T12:54:25.983Z"
   },
   {
    "duration": 1,
    "start_time": "2023-08-14T12:54:25.984Z"
   },
   {
    "duration": 0,
    "start_time": "2023-08-14T12:54:25.986Z"
   },
   {
    "duration": 3,
    "start_time": "2023-08-14T12:54:25.990Z"
   },
   {
    "duration": 72,
    "start_time": "2023-08-14T12:54:25.995Z"
   },
   {
    "duration": 29,
    "start_time": "2023-08-14T12:54:26.070Z"
   },
   {
    "duration": 18,
    "start_time": "2023-08-14T12:54:26.102Z"
   },
   {
    "duration": 17,
    "start_time": "2023-08-14T12:54:26.123Z"
   },
   {
    "duration": 28,
    "start_time": "2023-08-14T12:54:26.142Z"
   },
   {
    "duration": 16990,
    "start_time": "2023-08-14T12:54:52.744Z"
   },
   {
    "duration": 2304,
    "start_time": "2023-08-14T12:55:09.736Z"
   },
   {
    "duration": 2659,
    "start_time": "2023-08-14T12:56:32.489Z"
   },
   {
    "duration": 8,
    "start_time": "2023-08-14T12:56:35.151Z"
   },
   {
    "duration": 1992,
    "start_time": "2023-08-14T12:56:35.161Z"
   },
   {
    "duration": 4,
    "start_time": "2023-08-14T12:56:37.155Z"
   },
   {
    "duration": 33140,
    "start_time": "2023-08-14T12:56:37.166Z"
   },
   {
    "duration": 0,
    "start_time": "2023-08-14T12:57:10.310Z"
   },
   {
    "duration": 0,
    "start_time": "2023-08-14T12:57:10.311Z"
   },
   {
    "duration": 0,
    "start_time": "2023-08-14T12:57:10.313Z"
   },
   {
    "duration": 0,
    "start_time": "2023-08-14T12:57:10.314Z"
   },
   {
    "duration": 0,
    "start_time": "2023-08-14T12:57:10.315Z"
   },
   {
    "duration": 0,
    "start_time": "2023-08-14T12:57:10.316Z"
   },
   {
    "duration": 0,
    "start_time": "2023-08-14T12:57:10.317Z"
   },
   {
    "duration": 0,
    "start_time": "2023-08-14T12:57:10.318Z"
   },
   {
    "duration": 0,
    "start_time": "2023-08-14T12:57:10.319Z"
   },
   {
    "duration": 0,
    "start_time": "2023-08-14T12:57:10.320Z"
   },
   {
    "duration": 0,
    "start_time": "2023-08-14T12:57:10.321Z"
   },
   {
    "duration": 0,
    "start_time": "2023-08-14T12:57:10.322Z"
   },
   {
    "duration": 0,
    "start_time": "2023-08-14T12:57:10.323Z"
   },
   {
    "duration": 0,
    "start_time": "2023-08-14T12:57:10.324Z"
   },
   {
    "duration": 0,
    "start_time": "2023-08-14T12:57:10.325Z"
   },
   {
    "duration": 0,
    "start_time": "2023-08-14T12:57:10.326Z"
   },
   {
    "duration": 0,
    "start_time": "2023-08-14T12:57:10.328Z"
   },
   {
    "duration": 0,
    "start_time": "2023-08-14T12:57:10.328Z"
   },
   {
    "duration": 0,
    "start_time": "2023-08-14T12:57:10.330Z"
   },
   {
    "duration": 0,
    "start_time": "2023-08-14T12:57:10.331Z"
   },
   {
    "duration": 0,
    "start_time": "2023-08-14T12:57:10.368Z"
   },
   {
    "duration": 0,
    "start_time": "2023-08-14T12:57:10.370Z"
   },
   {
    "duration": 0,
    "start_time": "2023-08-14T12:57:10.371Z"
   },
   {
    "duration": 0,
    "start_time": "2023-08-14T12:57:10.373Z"
   },
   {
    "duration": 0,
    "start_time": "2023-08-14T12:57:10.376Z"
   },
   {
    "duration": 0,
    "start_time": "2023-08-14T12:57:10.377Z"
   },
   {
    "duration": 0,
    "start_time": "2023-08-14T12:57:10.379Z"
   },
   {
    "duration": 0,
    "start_time": "2023-08-14T12:57:10.380Z"
   },
   {
    "duration": 0,
    "start_time": "2023-08-14T12:57:10.381Z"
   },
   {
    "duration": 2613,
    "start_time": "2023-08-14T13:06:56.933Z"
   },
   {
    "duration": 6,
    "start_time": "2023-08-14T13:06:59.548Z"
   },
   {
    "duration": 2531,
    "start_time": "2023-08-14T13:06:59.556Z"
   },
   {
    "duration": 4,
    "start_time": "2023-08-14T13:07:02.089Z"
   },
   {
    "duration": 34841,
    "start_time": "2023-08-14T13:07:02.095Z"
   },
   {
    "duration": 1,
    "start_time": "2023-08-14T13:07:36.938Z"
   },
   {
    "duration": 0,
    "start_time": "2023-08-14T13:07:36.940Z"
   },
   {
    "duration": 0,
    "start_time": "2023-08-14T13:07:36.941Z"
   },
   {
    "duration": 0,
    "start_time": "2023-08-14T13:07:36.943Z"
   },
   {
    "duration": 0,
    "start_time": "2023-08-14T13:07:36.945Z"
   },
   {
    "duration": 0,
    "start_time": "2023-08-14T13:07:36.967Z"
   },
   {
    "duration": 0,
    "start_time": "2023-08-14T13:07:36.969Z"
   },
   {
    "duration": 0,
    "start_time": "2023-08-14T13:07:36.971Z"
   },
   {
    "duration": 0,
    "start_time": "2023-08-14T13:07:36.972Z"
   },
   {
    "duration": 0,
    "start_time": "2023-08-14T13:07:36.973Z"
   },
   {
    "duration": 0,
    "start_time": "2023-08-14T13:07:36.975Z"
   },
   {
    "duration": 0,
    "start_time": "2023-08-14T13:07:36.977Z"
   },
   {
    "duration": 0,
    "start_time": "2023-08-14T13:07:36.978Z"
   },
   {
    "duration": 0,
    "start_time": "2023-08-14T13:07:36.979Z"
   },
   {
    "duration": 0,
    "start_time": "2023-08-14T13:07:36.981Z"
   },
   {
    "duration": 0,
    "start_time": "2023-08-14T13:07:36.982Z"
   },
   {
    "duration": 0,
    "start_time": "2023-08-14T13:07:36.983Z"
   },
   {
    "duration": 0,
    "start_time": "2023-08-14T13:07:36.984Z"
   },
   {
    "duration": 0,
    "start_time": "2023-08-14T13:07:36.985Z"
   },
   {
    "duration": 1,
    "start_time": "2023-08-14T13:07:36.986Z"
   },
   {
    "duration": 0,
    "start_time": "2023-08-14T13:07:36.987Z"
   },
   {
    "duration": 0,
    "start_time": "2023-08-14T13:07:36.989Z"
   },
   {
    "duration": 0,
    "start_time": "2023-08-14T13:07:36.990Z"
   },
   {
    "duration": 0,
    "start_time": "2023-08-14T13:07:36.991Z"
   },
   {
    "duration": 0,
    "start_time": "2023-08-14T13:07:36.992Z"
   },
   {
    "duration": 0,
    "start_time": "2023-08-14T13:07:36.994Z"
   },
   {
    "duration": 1,
    "start_time": "2023-08-14T13:07:36.994Z"
   },
   {
    "duration": 0,
    "start_time": "2023-08-14T13:07:36.996Z"
   },
   {
    "duration": 0,
    "start_time": "2023-08-14T13:07:36.997Z"
   },
   {
    "duration": 2780,
    "start_time": "2023-08-14T13:08:11.168Z"
   },
   {
    "duration": 8,
    "start_time": "2023-08-14T13:08:13.950Z"
   },
   {
    "duration": 2413,
    "start_time": "2023-08-14T13:08:13.960Z"
   },
   {
    "duration": 5,
    "start_time": "2023-08-14T13:08:16.375Z"
   },
   {
    "duration": 33851,
    "start_time": "2023-08-14T13:08:16.383Z"
   },
   {
    "duration": 0,
    "start_time": "2023-08-14T13:08:50.236Z"
   },
   {
    "duration": 0,
    "start_time": "2023-08-14T13:08:50.238Z"
   },
   {
    "duration": 0,
    "start_time": "2023-08-14T13:08:50.239Z"
   },
   {
    "duration": 0,
    "start_time": "2023-08-14T13:08:50.240Z"
   },
   {
    "duration": 0,
    "start_time": "2023-08-14T13:08:50.241Z"
   },
   {
    "duration": 0,
    "start_time": "2023-08-14T13:08:50.242Z"
   },
   {
    "duration": 0,
    "start_time": "2023-08-14T13:08:50.243Z"
   },
   {
    "duration": 0,
    "start_time": "2023-08-14T13:08:50.270Z"
   },
   {
    "duration": 0,
    "start_time": "2023-08-14T13:08:50.272Z"
   },
   {
    "duration": 0,
    "start_time": "2023-08-14T13:08:50.278Z"
   },
   {
    "duration": 0,
    "start_time": "2023-08-14T13:08:50.279Z"
   },
   {
    "duration": 0,
    "start_time": "2023-08-14T13:08:50.281Z"
   },
   {
    "duration": 0,
    "start_time": "2023-08-14T13:08:50.283Z"
   },
   {
    "duration": 0,
    "start_time": "2023-08-14T13:08:50.284Z"
   },
   {
    "duration": 0,
    "start_time": "2023-08-14T13:08:50.285Z"
   },
   {
    "duration": 0,
    "start_time": "2023-08-14T13:08:50.286Z"
   },
   {
    "duration": 0,
    "start_time": "2023-08-14T13:08:50.288Z"
   },
   {
    "duration": 0,
    "start_time": "2023-08-14T13:08:50.289Z"
   },
   {
    "duration": 0,
    "start_time": "2023-08-14T13:08:50.291Z"
   },
   {
    "duration": 0,
    "start_time": "2023-08-14T13:08:50.292Z"
   },
   {
    "duration": 0,
    "start_time": "2023-08-14T13:08:50.293Z"
   },
   {
    "duration": 0,
    "start_time": "2023-08-14T13:08:50.294Z"
   },
   {
    "duration": 0,
    "start_time": "2023-08-14T13:08:50.296Z"
   },
   {
    "duration": 0,
    "start_time": "2023-08-14T13:08:50.297Z"
   },
   {
    "duration": 0,
    "start_time": "2023-08-14T13:08:50.298Z"
   },
   {
    "duration": 0,
    "start_time": "2023-08-14T13:08:50.299Z"
   },
   {
    "duration": 0,
    "start_time": "2023-08-14T13:08:50.301Z"
   },
   {
    "duration": 0,
    "start_time": "2023-08-14T13:08:50.303Z"
   },
   {
    "duration": 0,
    "start_time": "2023-08-14T13:08:50.304Z"
   },
   {
    "duration": 0,
    "start_time": "2023-08-14T13:08:50.305Z"
   },
   {
    "duration": 1,
    "start_time": "2023-08-14T13:08:50.306Z"
   },
   {
    "duration": 20,
    "start_time": "2023-08-14T13:09:07.164Z"
   },
   {
    "duration": 5,
    "start_time": "2023-08-14T13:09:08.063Z"
   },
   {
    "duration": 1356,
    "start_time": "2023-08-14T13:09:08.288Z"
   },
   {
    "duration": 28,
    "start_time": "2023-08-14T13:09:09.646Z"
   },
   {
    "duration": 40,
    "start_time": "2023-08-14T13:09:09.715Z"
   },
   {
    "duration": 11,
    "start_time": "2023-08-14T13:09:10.999Z"
   },
   {
    "duration": 31,
    "start_time": "2023-08-14T13:09:11.324Z"
   },
   {
    "duration": 16,
    "start_time": "2023-08-14T13:09:11.833Z"
   },
   {
    "duration": 26,
    "start_time": "2023-08-14T13:09:12.184Z"
   },
   {
    "duration": 15,
    "start_time": "2023-08-14T13:09:13.200Z"
   },
   {
    "duration": 4,
    "start_time": "2023-08-14T13:09:13.537Z"
   },
   {
    "duration": 24,
    "start_time": "2023-08-14T13:09:13.719Z"
   },
   {
    "duration": 46,
    "start_time": "2023-08-14T13:09:14.933Z"
   },
   {
    "duration": 95,
    "start_time": "2023-08-14T13:09:15.273Z"
   },
   {
    "duration": 3368,
    "start_time": "2023-08-14T13:09:15.463Z"
   },
   {
    "duration": 14,
    "start_time": "2023-08-14T13:09:18.834Z"
   },
   {
    "duration": 57,
    "start_time": "2023-08-14T13:09:18.850Z"
   },
   {
    "duration": 64,
    "start_time": "2023-08-14T13:09:18.910Z"
   },
   {
    "duration": 54,
    "start_time": "2023-08-14T13:09:18.976Z"
   },
   {
    "duration": 51,
    "start_time": "2023-08-14T13:09:19.032Z"
   },
   {
    "duration": 42,
    "start_time": "2023-08-14T13:09:19.086Z"
   },
   {
    "duration": 37,
    "start_time": "2023-08-14T13:09:19.131Z"
   },
   {
    "duration": 25,
    "start_time": "2023-08-14T13:09:19.169Z"
   },
   {
    "duration": 45,
    "start_time": "2023-08-14T13:09:19.364Z"
   },
   {
    "duration": 18,
    "start_time": "2023-08-14T13:09:19.711Z"
   },
   {
    "duration": 131,
    "start_time": "2023-08-14T13:09:20.430Z"
   },
   {
    "duration": 277,
    "start_time": "2023-08-14T13:09:20.808Z"
   },
   {
    "duration": 57,
    "start_time": "2023-08-14T13:09:22.020Z"
   },
   {
    "duration": 56,
    "start_time": "2023-08-14T13:09:22.202Z"
   },
   {
    "duration": 15,
    "start_time": "2023-08-14T13:09:26.064Z"
   },
   {
    "duration": 48,
    "start_time": "2023-08-14T13:09:26.739Z"
   },
   {
    "duration": 109,
    "start_time": "2023-08-14T13:11:01.896Z"
   },
   {
    "duration": 11,
    "start_time": "2023-08-14T13:11:36.386Z"
   },
   {
    "duration": 16,
    "start_time": "2023-08-14T13:12:55.031Z"
   },
   {
    "duration": 904,
    "start_time": "2023-08-14T13:12:55.586Z"
   },
   {
    "duration": 36,
    "start_time": "2023-08-14T13:13:49.665Z"
   },
   {
    "duration": 29,
    "start_time": "2023-08-14T13:13:59.330Z"
   },
   {
    "duration": 43,
    "start_time": "2023-08-14T13:14:14.440Z"
   },
   {
    "duration": 82,
    "start_time": "2023-08-14T13:14:26.313Z"
   },
   {
    "duration": 40,
    "start_time": "2023-08-14T13:14:31.358Z"
   },
   {
    "duration": 22,
    "start_time": "2023-08-14T13:15:14.113Z"
   },
   {
    "duration": 18,
    "start_time": "2023-08-14T13:15:22.303Z"
   },
   {
    "duration": 19,
    "start_time": "2023-08-14T13:15:28.109Z"
   },
   {
    "duration": 18,
    "start_time": "2023-08-14T13:20:58.703Z"
   },
   {
    "duration": 54,
    "start_time": "2023-08-14T13:21:32.266Z"
   },
   {
    "duration": 45,
    "start_time": "2023-08-14T13:22:07.858Z"
   },
   {
    "duration": 57,
    "start_time": "2023-08-14T13:22:32.663Z"
   },
   {
    "duration": 30,
    "start_time": "2023-08-14T13:22:57.706Z"
   },
   {
    "duration": 36,
    "start_time": "2023-08-14T13:22:58.591Z"
   },
   {
    "duration": 15,
    "start_time": "2023-08-14T13:22:58.885Z"
   },
   {
    "duration": 15,
    "start_time": "2023-08-14T13:22:59.198Z"
   },
   {
    "duration": 33,
    "start_time": "2023-08-14T13:22:59.680Z"
   },
   {
    "duration": 23,
    "start_time": "2023-08-14T13:22:59.996Z"
   },
   {
    "duration": 124,
    "start_time": "2023-08-14T13:23:00.930Z"
   },
   {
    "duration": 265,
    "start_time": "2023-08-14T13:23:01.262Z"
   },
   {
    "duration": 62,
    "start_time": "2023-08-14T13:23:01.726Z"
   },
   {
    "duration": 55,
    "start_time": "2023-08-14T13:23:01.888Z"
   },
   {
    "duration": 13,
    "start_time": "2023-08-14T13:23:03.464Z"
   },
   {
    "duration": 102,
    "start_time": "2023-08-14T13:23:04.504Z"
   },
   {
    "duration": 10,
    "start_time": "2023-08-14T13:23:04.995Z"
   },
   {
    "duration": 17,
    "start_time": "2023-08-14T13:23:10.011Z"
   },
   {
    "duration": 1109,
    "start_time": "2023-08-14T13:23:10.374Z"
   },
   {
    "duration": 1781,
    "start_time": "2023-08-14T13:23:42.762Z"
   },
   {
    "duration": 25,
    "start_time": "2023-08-14T13:26:54.958Z"
   },
   {
    "duration": 17,
    "start_time": "2023-08-14T13:29:59.366Z"
   },
   {
    "duration": 38,
    "start_time": "2023-08-14T13:47:11.773Z"
   },
   {
    "duration": 2571,
    "start_time": "2023-08-14T13:47:28.107Z"
   },
   {
    "duration": 8,
    "start_time": "2023-08-14T13:47:30.681Z"
   },
   {
    "duration": 1520,
    "start_time": "2023-08-14T13:47:30.691Z"
   },
   {
    "duration": 5,
    "start_time": "2023-08-14T13:47:32.213Z"
   },
   {
    "duration": 31733,
    "start_time": "2023-08-14T13:47:32.221Z"
   },
   {
    "duration": 0,
    "start_time": "2023-08-14T13:48:03.967Z"
   },
   {
    "duration": 0,
    "start_time": "2023-08-14T13:48:03.969Z"
   },
   {
    "duration": 0,
    "start_time": "2023-08-14T13:48:03.970Z"
   },
   {
    "duration": 0,
    "start_time": "2023-08-14T13:48:03.971Z"
   },
   {
    "duration": 0,
    "start_time": "2023-08-14T13:48:03.972Z"
   },
   {
    "duration": 0,
    "start_time": "2023-08-14T13:48:03.974Z"
   },
   {
    "duration": 0,
    "start_time": "2023-08-14T13:48:03.975Z"
   },
   {
    "duration": 0,
    "start_time": "2023-08-14T13:48:03.977Z"
   },
   {
    "duration": 0,
    "start_time": "2023-08-14T13:48:03.978Z"
   },
   {
    "duration": 0,
    "start_time": "2023-08-14T13:48:03.979Z"
   },
   {
    "duration": 0,
    "start_time": "2023-08-14T13:48:03.980Z"
   },
   {
    "duration": 0,
    "start_time": "2023-08-14T13:48:03.981Z"
   },
   {
    "duration": 0,
    "start_time": "2023-08-14T13:48:03.983Z"
   },
   {
    "duration": 0,
    "start_time": "2023-08-14T13:48:03.986Z"
   },
   {
    "duration": 0,
    "start_time": "2023-08-14T13:48:03.987Z"
   },
   {
    "duration": 0,
    "start_time": "2023-08-14T13:48:03.988Z"
   },
   {
    "duration": 0,
    "start_time": "2023-08-14T13:48:03.989Z"
   },
   {
    "duration": 0,
    "start_time": "2023-08-14T13:48:03.991Z"
   },
   {
    "duration": 0,
    "start_time": "2023-08-14T13:48:03.992Z"
   },
   {
    "duration": 0,
    "start_time": "2023-08-14T13:48:03.994Z"
   },
   {
    "duration": 0,
    "start_time": "2023-08-14T13:48:03.996Z"
   },
   {
    "duration": 0,
    "start_time": "2023-08-14T13:48:03.997Z"
   },
   {
    "duration": 0,
    "start_time": "2023-08-14T13:48:03.998Z"
   },
   {
    "duration": 0,
    "start_time": "2023-08-14T13:48:04.000Z"
   },
   {
    "duration": 0,
    "start_time": "2023-08-14T13:48:04.001Z"
   },
   {
    "duration": 0,
    "start_time": "2023-08-14T13:48:04.002Z"
   },
   {
    "duration": 0,
    "start_time": "2023-08-14T13:48:04.004Z"
   },
   {
    "duration": 0,
    "start_time": "2023-08-14T13:48:04.006Z"
   },
   {
    "duration": 0,
    "start_time": "2023-08-14T13:48:04.069Z"
   },
   {
    "duration": 0,
    "start_time": "2023-08-14T13:48:04.071Z"
   },
   {
    "duration": 0,
    "start_time": "2023-08-14T13:48:04.072Z"
   },
   {
    "duration": 0,
    "start_time": "2023-08-14T13:48:04.074Z"
   },
   {
    "duration": 0,
    "start_time": "2023-08-14T13:48:04.076Z"
   },
   {
    "duration": 0,
    "start_time": "2023-08-14T13:48:04.077Z"
   },
   {
    "duration": 19,
    "start_time": "2023-08-14T13:48:13.656Z"
   },
   {
    "duration": 5,
    "start_time": "2023-08-14T13:48:14.153Z"
   },
   {
    "duration": 1255,
    "start_time": "2023-08-14T13:48:14.280Z"
   },
   {
    "duration": 30,
    "start_time": "2023-08-14T13:48:15.538Z"
   },
   {
    "duration": 28,
    "start_time": "2023-08-14T13:48:15.570Z"
   },
   {
    "duration": 10,
    "start_time": "2023-08-14T13:48:16.220Z"
   },
   {
    "duration": 26,
    "start_time": "2023-08-14T13:48:16.561Z"
   },
   {
    "duration": 14,
    "start_time": "2023-08-14T13:48:17.049Z"
   },
   {
    "duration": 25,
    "start_time": "2023-08-14T13:48:17.371Z"
   },
   {
    "duration": 14,
    "start_time": "2023-08-14T13:48:18.400Z"
   },
   {
    "duration": 2,
    "start_time": "2023-08-14T13:48:18.750Z"
   },
   {
    "duration": 24,
    "start_time": "2023-08-14T13:48:18.951Z"
   },
   {
    "duration": 40,
    "start_time": "2023-08-14T13:48:20.086Z"
   },
   {
    "duration": 79,
    "start_time": "2023-08-14T13:48:20.418Z"
   },
   {
    "duration": 3075,
    "start_time": "2023-08-14T13:48:20.600Z"
   },
   {
    "duration": 16,
    "start_time": "2023-08-14T13:48:23.676Z"
   },
   {
    "duration": 47,
    "start_time": "2023-08-14T13:48:23.694Z"
   },
   {
    "duration": 56,
    "start_time": "2023-08-14T13:48:23.744Z"
   },
   {
    "duration": 66,
    "start_time": "2023-08-14T13:48:23.801Z"
   },
   {
    "duration": 39,
    "start_time": "2023-08-14T13:48:23.869Z"
   },
   {
    "duration": 24,
    "start_time": "2023-08-14T13:48:23.910Z"
   },
   {
    "duration": 77,
    "start_time": "2023-08-14T13:48:23.936Z"
   },
   {
    "duration": 76,
    "start_time": "2023-08-14T13:48:24.017Z"
   },
   {
    "duration": 26,
    "start_time": "2023-08-14T13:48:24.271Z"
   },
   {
    "duration": 17,
    "start_time": "2023-08-14T13:48:24.663Z"
   },
   {
    "duration": 37,
    "start_time": "2023-08-14T13:48:25.575Z"
   },
   {
    "duration": 19,
    "start_time": "2023-08-14T13:48:25.615Z"
   },
   {
    "duration": 124,
    "start_time": "2023-08-14T13:48:28.305Z"
   },
   {
    "duration": 252,
    "start_time": "2023-08-14T13:48:28.651Z"
   },
   {
    "duration": 66,
    "start_time": "2023-08-14T13:48:29.169Z"
   },
   {
    "duration": 53,
    "start_time": "2023-08-14T13:48:31.560Z"
   },
   {
    "duration": 16,
    "start_time": "2023-08-14T13:48:33.192Z"
   },
   {
    "duration": 155,
    "start_time": "2023-08-14T13:48:34.008Z"
   },
   {
    "duration": 14,
    "start_time": "2023-08-14T13:48:34.803Z"
   },
   {
    "duration": 12,
    "start_time": "2023-08-14T13:48:35.751Z"
   },
   {
    "duration": 12,
    "start_time": "2023-08-14T13:49:01.813Z"
   },
   {
    "duration": 18,
    "start_time": "2023-08-14T13:49:04.148Z"
   },
   {
    "duration": 1151,
    "start_time": "2023-08-14T13:49:06.090Z"
   },
   {
    "duration": 2447,
    "start_time": "2023-08-14T13:49:07.243Z"
   },
   {
    "duration": 14,
    "start_time": "2023-08-14T13:49:09.693Z"
   },
   {
    "duration": 26,
    "start_time": "2023-08-14T13:49:16.717Z"
   },
   {
    "duration": 18,
    "start_time": "2023-08-14T13:51:56.286Z"
   },
   {
    "duration": 92,
    "start_time": "2023-08-14T13:52:02.798Z"
   },
   {
    "duration": 18,
    "start_time": "2023-08-14T13:52:03.650Z"
   },
   {
    "duration": 218,
    "start_time": "2023-08-14T13:53:27.049Z"
   },
   {
    "duration": 161,
    "start_time": "2023-08-14T13:53:32.425Z"
   },
   {
    "duration": 310,
    "start_time": "2023-08-14T13:54:45.877Z"
   },
   {
    "duration": 19,
    "start_time": "2023-08-14T13:54:51.920Z"
   },
   {
    "duration": 23,
    "start_time": "2023-08-14T14:01:42.407Z"
   },
   {
    "duration": 24,
    "start_time": "2023-08-14T14:02:53.897Z"
   },
   {
    "duration": 69,
    "start_time": "2023-08-14T14:03:23.511Z"
   },
   {
    "duration": 76,
    "start_time": "2023-08-14T14:03:38.272Z"
   },
   {
    "duration": 18,
    "start_time": "2023-08-14T14:03:49.362Z"
   },
   {
    "duration": 2833,
    "start_time": "2023-08-14T14:03:53.406Z"
   },
   {
    "duration": 6,
    "start_time": "2023-08-14T14:03:56.243Z"
   },
   {
    "duration": 1740,
    "start_time": "2023-08-14T14:03:56.251Z"
   },
   {
    "duration": 4,
    "start_time": "2023-08-14T14:03:57.994Z"
   },
   {
    "duration": 35342,
    "start_time": "2023-08-14T14:03:58.000Z"
   },
   {
    "duration": 0,
    "start_time": "2023-08-14T14:04:33.345Z"
   },
   {
    "duration": 0,
    "start_time": "2023-08-14T14:04:33.347Z"
   },
   {
    "duration": 0,
    "start_time": "2023-08-14T14:04:33.367Z"
   },
   {
    "duration": 0,
    "start_time": "2023-08-14T14:04:33.369Z"
   },
   {
    "duration": 0,
    "start_time": "2023-08-14T14:04:33.370Z"
   },
   {
    "duration": 0,
    "start_time": "2023-08-14T14:04:33.372Z"
   },
   {
    "duration": 0,
    "start_time": "2023-08-14T14:04:33.373Z"
   },
   {
    "duration": 0,
    "start_time": "2023-08-14T14:04:33.374Z"
   },
   {
    "duration": 0,
    "start_time": "2023-08-14T14:04:33.376Z"
   },
   {
    "duration": 0,
    "start_time": "2023-08-14T14:04:33.377Z"
   },
   {
    "duration": 0,
    "start_time": "2023-08-14T14:04:33.379Z"
   },
   {
    "duration": 0,
    "start_time": "2023-08-14T14:04:33.380Z"
   },
   {
    "duration": 0,
    "start_time": "2023-08-14T14:04:33.382Z"
   },
   {
    "duration": 0,
    "start_time": "2023-08-14T14:04:33.384Z"
   },
   {
    "duration": 0,
    "start_time": "2023-08-14T14:04:33.386Z"
   },
   {
    "duration": 0,
    "start_time": "2023-08-14T14:04:33.388Z"
   },
   {
    "duration": 0,
    "start_time": "2023-08-14T14:04:33.389Z"
   },
   {
    "duration": 0,
    "start_time": "2023-08-14T14:04:33.391Z"
   },
   {
    "duration": 0,
    "start_time": "2023-08-14T14:04:33.392Z"
   },
   {
    "duration": 0,
    "start_time": "2023-08-14T14:04:33.393Z"
   },
   {
    "duration": 0,
    "start_time": "2023-08-14T14:04:33.395Z"
   },
   {
    "duration": 0,
    "start_time": "2023-08-14T14:04:33.397Z"
   },
   {
    "duration": 0,
    "start_time": "2023-08-14T14:04:33.398Z"
   },
   {
    "duration": 0,
    "start_time": "2023-08-14T14:04:33.400Z"
   },
   {
    "duration": 0,
    "start_time": "2023-08-14T14:04:33.401Z"
   },
   {
    "duration": 0,
    "start_time": "2023-08-14T14:04:33.403Z"
   },
   {
    "duration": 0,
    "start_time": "2023-08-14T14:04:33.405Z"
   },
   {
    "duration": 0,
    "start_time": "2023-08-14T14:04:33.406Z"
   },
   {
    "duration": 0,
    "start_time": "2023-08-14T14:04:33.466Z"
   },
   {
    "duration": 0,
    "start_time": "2023-08-14T14:04:33.468Z"
   },
   {
    "duration": 0,
    "start_time": "2023-08-14T14:04:33.470Z"
   },
   {
    "duration": 0,
    "start_time": "2023-08-14T14:04:33.471Z"
   },
   {
    "duration": 0,
    "start_time": "2023-08-14T14:04:33.473Z"
   },
   {
    "duration": 0,
    "start_time": "2023-08-14T14:04:33.474Z"
   },
   {
    "duration": 0,
    "start_time": "2023-08-14T14:04:33.476Z"
   },
   {
    "duration": 0,
    "start_time": "2023-08-14T14:04:33.478Z"
   },
   {
    "duration": 0,
    "start_time": "2023-08-14T14:04:33.479Z"
   },
   {
    "duration": 0,
    "start_time": "2023-08-14T14:04:33.481Z"
   },
   {
    "duration": 0,
    "start_time": "2023-08-14T14:04:33.482Z"
   },
   {
    "duration": 0,
    "start_time": "2023-08-14T14:04:33.484Z"
   },
   {
    "duration": 0,
    "start_time": "2023-08-14T14:04:33.485Z"
   },
   {
    "duration": 0,
    "start_time": "2023-08-14T14:04:33.486Z"
   },
   {
    "duration": 0,
    "start_time": "2023-08-14T14:04:33.488Z"
   },
   {
    "duration": 19,
    "start_time": "2023-08-14T14:04:45.509Z"
   },
   {
    "duration": 5,
    "start_time": "2023-08-14T14:04:45.990Z"
   },
   {
    "duration": 1305,
    "start_time": "2023-08-14T14:04:46.157Z"
   },
   {
    "duration": 16,
    "start_time": "2023-08-14T14:04:47.468Z"
   },
   {
    "duration": 31,
    "start_time": "2023-08-14T14:04:47.486Z"
   },
   {
    "duration": 9,
    "start_time": "2023-08-14T14:04:48.386Z"
   },
   {
    "duration": 26,
    "start_time": "2023-08-14T14:04:48.684Z"
   },
   {
    "duration": 18,
    "start_time": "2023-08-14T14:04:49.173Z"
   },
   {
    "duration": 26,
    "start_time": "2023-08-14T14:04:49.526Z"
   },
   {
    "duration": 14,
    "start_time": "2023-08-14T14:04:50.571Z"
   },
   {
    "duration": 3,
    "start_time": "2023-08-14T14:04:50.949Z"
   },
   {
    "duration": 25,
    "start_time": "2023-08-14T14:04:51.120Z"
   },
   {
    "duration": 51,
    "start_time": "2023-08-14T14:04:52.364Z"
   },
   {
    "duration": 95,
    "start_time": "2023-08-14T14:04:52.758Z"
   },
   {
    "duration": 3362,
    "start_time": "2023-08-14T14:04:52.948Z"
   },
   {
    "duration": 15,
    "start_time": "2023-08-14T14:04:56.312Z"
   },
   {
    "duration": 76,
    "start_time": "2023-08-14T14:04:56.329Z"
   },
   {
    "duration": 61,
    "start_time": "2023-08-14T14:04:56.407Z"
   },
   {
    "duration": 41,
    "start_time": "2023-08-14T14:04:56.470Z"
   },
   {
    "duration": 31,
    "start_time": "2023-08-14T14:04:56.513Z"
   },
   {
    "duration": 16,
    "start_time": "2023-08-14T14:04:56.567Z"
   },
   {
    "duration": 46,
    "start_time": "2023-08-14T14:04:56.585Z"
   },
   {
    "duration": 54,
    "start_time": "2023-08-14T14:04:56.633Z"
   },
   {
    "duration": 21,
    "start_time": "2023-08-14T14:04:56.690Z"
   },
   {
    "duration": 10,
    "start_time": "2023-08-14T14:05:03.864Z"
   },
   {
    "duration": 26,
    "start_time": "2023-08-14T14:05:04.787Z"
   },
   {
    "duration": 10,
    "start_time": "2023-08-14T14:05:05.999Z"
   },
   {
    "duration": 25,
    "start_time": "2023-08-14T14:05:06.348Z"
   },
   {
    "duration": 8,
    "start_time": "2023-08-14T14:05:06.807Z"
   },
   {
    "duration": 25,
    "start_time": "2023-08-14T14:05:07.144Z"
   },
   {
    "duration": 14,
    "start_time": "2023-08-14T14:05:08.156Z"
   },
   {
    "duration": 2,
    "start_time": "2023-08-14T14:05:08.513Z"
   },
   {
    "duration": 25,
    "start_time": "2023-08-14T14:05:08.690Z"
   },
   {
    "duration": 41,
    "start_time": "2023-08-14T14:05:10.073Z"
   },
   {
    "duration": 98,
    "start_time": "2023-08-14T14:05:10.449Z"
   },
   {
    "duration": 2755,
    "start_time": "2023-08-14T14:05:10.648Z"
   },
   {
    "duration": 15,
    "start_time": "2023-08-14T14:05:13.406Z"
   },
   {
    "duration": 57,
    "start_time": "2023-08-14T14:05:13.422Z"
   },
   {
    "duration": 40,
    "start_time": "2023-08-14T14:05:13.482Z"
   },
   {
    "duration": 59,
    "start_time": "2023-08-14T14:05:13.524Z"
   },
   {
    "duration": 30,
    "start_time": "2023-08-14T14:05:13.585Z"
   },
   {
    "duration": 29,
    "start_time": "2023-08-14T14:05:13.616Z"
   },
   {
    "duration": 47,
    "start_time": "2023-08-14T14:05:13.647Z"
   },
   {
    "duration": 49,
    "start_time": "2023-08-14T14:05:13.971Z"
   },
   {
    "duration": 19,
    "start_time": "2023-08-14T14:05:14.344Z"
   },
   {
    "duration": 17,
    "start_time": "2023-08-14T14:05:14.706Z"
   },
   {
    "duration": 48,
    "start_time": "2023-08-14T14:05:15.223Z"
   },
   {
    "duration": 17,
    "start_time": "2023-08-14T14:05:15.583Z"
   },
   {
    "duration": 140,
    "start_time": "2023-08-14T14:05:16.348Z"
   },
   {
    "duration": 261,
    "start_time": "2023-08-14T14:05:16.749Z"
   },
   {
    "duration": 57,
    "start_time": "2023-08-14T14:05:17.317Z"
   },
   {
    "duration": 57,
    "start_time": "2023-08-14T14:05:17.506Z"
   },
   {
    "duration": 15,
    "start_time": "2023-08-14T14:05:19.247Z"
   },
   {
    "duration": 102,
    "start_time": "2023-08-14T14:05:19.875Z"
   },
   {
    "duration": 12,
    "start_time": "2023-08-14T14:05:20.349Z"
   },
   {
    "duration": 11,
    "start_time": "2023-08-14T14:05:20.690Z"
   },
   {
    "duration": 19,
    "start_time": "2023-08-14T14:05:23.749Z"
   },
   {
    "duration": 1218,
    "start_time": "2023-08-14T14:05:24.278Z"
   },
   {
    "duration": 2741,
    "start_time": "2023-08-14T14:05:25.579Z"
   },
   {
    "duration": 25,
    "start_time": "2023-08-14T14:05:28.322Z"
   },
   {
    "duration": 89,
    "start_time": "2023-08-14T14:05:31.749Z"
   },
   {
    "duration": 436,
    "start_time": "2023-08-14T14:05:32.289Z"
   },
   {
    "duration": 16,
    "start_time": "2023-08-14T14:05:40.349Z"
   },
   {
    "duration": 81,
    "start_time": "2023-08-14T14:05:43.210Z"
   },
   {
    "duration": 24,
    "start_time": "2023-08-14T14:05:43.977Z"
   },
   {
    "duration": 229,
    "start_time": "2023-08-14T14:07:19.861Z"
   },
   {
    "duration": 27,
    "start_time": "2023-08-14T14:07:39.101Z"
   },
   {
    "duration": 16,
    "start_time": "2023-08-14T14:07:45.624Z"
   },
   {
    "duration": 5,
    "start_time": "2023-08-14T14:26:39.555Z"
   },
   {
    "duration": 4,
    "start_time": "2023-08-14T14:26:56.353Z"
   },
   {
    "duration": 20,
    "start_time": "2023-08-14T14:26:57.119Z"
   },
   {
    "duration": 2461,
    "start_time": "2023-08-14T14:29:39.801Z"
   },
   {
    "duration": 2648,
    "start_time": "2023-08-14T14:29:42.265Z"
   },
   {
    "duration": 1697,
    "start_time": "2023-08-14T14:29:44.916Z"
   },
   {
    "duration": 5,
    "start_time": "2023-08-14T14:29:46.616Z"
   },
   {
    "duration": 12,
    "start_time": "2023-08-14T14:29:46.623Z"
   },
   {
    "duration": 74,
    "start_time": "2023-08-14T14:29:46.637Z"
   },
   {
    "duration": 11,
    "start_time": "2023-08-14T14:29:46.714Z"
   },
   {
    "duration": 1297,
    "start_time": "2023-08-14T14:29:46.727Z"
   },
   {
    "duration": 18,
    "start_time": "2023-08-14T14:29:48.026Z"
   },
   {
    "duration": 56,
    "start_time": "2023-08-14T14:29:48.053Z"
   },
   {
    "duration": 11,
    "start_time": "2023-08-14T14:29:48.111Z"
   },
   {
    "duration": 71,
    "start_time": "2023-08-14T14:29:48.124Z"
   },
   {
    "duration": 17,
    "start_time": "2023-08-14T14:29:48.197Z"
   },
   {
    "duration": 51,
    "start_time": "2023-08-14T14:29:48.217Z"
   },
   {
    "duration": 16,
    "start_time": "2023-08-14T14:29:48.271Z"
   },
   {
    "duration": 3,
    "start_time": "2023-08-14T14:29:48.290Z"
   },
   {
    "duration": 39,
    "start_time": "2023-08-14T14:29:48.294Z"
   },
   {
    "duration": 61,
    "start_time": "2023-08-14T14:29:48.334Z"
   },
   {
    "duration": 102,
    "start_time": "2023-08-14T14:29:48.396Z"
   },
   {
    "duration": 3206,
    "start_time": "2023-08-14T14:29:48.500Z"
   },
   {
    "duration": 14,
    "start_time": "2023-08-14T14:29:51.708Z"
   },
   {
    "duration": 57,
    "start_time": "2023-08-14T14:29:51.724Z"
   },
   {
    "duration": 56,
    "start_time": "2023-08-14T14:29:51.783Z"
   },
   {
    "duration": 46,
    "start_time": "2023-08-14T14:29:51.840Z"
   },
   {
    "duration": 58,
    "start_time": "2023-08-14T14:29:51.888Z"
   },
   {
    "duration": 33,
    "start_time": "2023-08-14T14:29:51.948Z"
   },
   {
    "duration": 64,
    "start_time": "2023-08-14T14:29:51.983Z"
   },
   {
    "duration": 38,
    "start_time": "2023-08-14T14:29:52.051Z"
   },
   {
    "duration": 27,
    "start_time": "2023-08-14T14:29:52.091Z"
   },
   {
    "duration": 27,
    "start_time": "2023-08-14T14:29:52.120Z"
   },
   {
    "duration": 46,
    "start_time": "2023-08-14T14:29:52.149Z"
   },
   {
    "duration": 17,
    "start_time": "2023-08-14T14:29:52.197Z"
   },
   {
    "duration": 159,
    "start_time": "2023-08-14T14:29:52.216Z"
   },
   {
    "duration": 274,
    "start_time": "2023-08-14T14:29:52.377Z"
   },
   {
    "duration": 61,
    "start_time": "2023-08-14T14:29:52.653Z"
   },
   {
    "duration": 67,
    "start_time": "2023-08-14T14:29:52.716Z"
   },
   {
    "duration": 48,
    "start_time": "2023-08-14T14:29:52.785Z"
   },
   {
    "duration": 107,
    "start_time": "2023-08-14T14:29:52.835Z"
   },
   {
    "duration": 24,
    "start_time": "2023-08-14T14:29:52.945Z"
   },
   {
    "duration": 25,
    "start_time": "2023-08-14T14:29:52.971Z"
   },
   {
    "duration": 38,
    "start_time": "2023-08-14T14:29:52.997Z"
   },
   {
    "duration": 1211,
    "start_time": "2023-08-14T14:29:53.037Z"
   },
   {
    "duration": 2231,
    "start_time": "2023-08-14T14:29:54.249Z"
   },
   {
    "duration": 25,
    "start_time": "2023-08-14T14:29:56.482Z"
   },
   {
    "duration": 121,
    "start_time": "2023-08-14T14:29:56.509Z"
   },
   {
    "duration": 391,
    "start_time": "2023-08-14T14:29:56.632Z"
   },
   {
    "duration": 15,
    "start_time": "2023-08-14T14:29:57.025Z"
   },
   {
    "duration": 86,
    "start_time": "2023-08-14T14:29:57.042Z"
   },
   {
    "duration": 37,
    "start_time": "2023-08-14T14:29:57.130Z"
   },
   {
    "duration": 231,
    "start_time": "2023-08-14T14:29:57.169Z"
   },
   {
    "duration": 17,
    "start_time": "2023-08-14T14:29:57.402Z"
   },
   {
    "duration": 7,
    "start_time": "2023-08-14T14:29:57.421Z"
   },
   {
    "duration": 203,
    "start_time": "2023-08-14T14:29:57.430Z"
   },
   {
    "duration": 0,
    "start_time": "2023-08-14T14:29:57.636Z"
   },
   {
    "duration": 0,
    "start_time": "2023-08-14T14:29:57.637Z"
   },
   {
    "duration": 0,
    "start_time": "2023-08-14T14:29:57.638Z"
   },
   {
    "duration": 0,
    "start_time": "2023-08-14T14:29:57.639Z"
   },
   {
    "duration": 0,
    "start_time": "2023-08-14T14:29:57.640Z"
   },
   {
    "duration": 0,
    "start_time": "2023-08-14T14:29:57.641Z"
   },
   {
    "duration": 0,
    "start_time": "2023-08-14T14:29:57.642Z"
   },
   {
    "duration": 0,
    "start_time": "2023-08-14T14:29:57.643Z"
   },
   {
    "duration": 0,
    "start_time": "2023-08-14T14:29:57.644Z"
   },
   {
    "duration": 0,
    "start_time": "2023-08-14T14:29:57.645Z"
   },
   {
    "duration": 0,
    "start_time": "2023-08-14T14:29:57.646Z"
   },
   {
    "duration": 0,
    "start_time": "2023-08-14T14:29:57.647Z"
   },
   {
    "duration": 0,
    "start_time": "2023-08-14T14:29:57.648Z"
   },
   {
    "duration": 21,
    "start_time": "2023-08-14T14:33:00.307Z"
   },
   {
    "duration": 14,
    "start_time": "2023-08-14T14:33:18.456Z"
   },
   {
    "duration": 4,
    "start_time": "2023-08-14T14:33:43.754Z"
   },
   {
    "duration": 4,
    "start_time": "2023-08-14T14:34:03.866Z"
   },
   {
    "duration": 5,
    "start_time": "2023-08-14T14:34:24.213Z"
   },
   {
    "duration": 4,
    "start_time": "2023-08-14T14:35:09.099Z"
   },
   {
    "duration": 92,
    "start_time": "2023-08-14T14:36:11.522Z"
   },
   {
    "duration": 5,
    "start_time": "2023-08-14T14:36:40.107Z"
   },
   {
    "duration": 4,
    "start_time": "2023-08-14T14:37:43.310Z"
   },
   {
    "duration": 3,
    "start_time": "2023-08-14T14:38:29.399Z"
   },
   {
    "duration": 105,
    "start_time": "2023-08-14T14:38:30.594Z"
   },
   {
    "duration": 3,
    "start_time": "2023-08-14T14:39:00.786Z"
   },
   {
    "duration": 98,
    "start_time": "2023-08-14T14:39:02.187Z"
   },
   {
    "duration": 4,
    "start_time": "2023-08-14T14:39:22.601Z"
   },
   {
    "duration": 4,
    "start_time": "2023-08-14T14:39:22.929Z"
   },
   {
    "duration": 4,
    "start_time": "2023-08-14T14:39:23.217Z"
   },
   {
    "duration": 139,
    "start_time": "2023-08-14T14:39:23.926Z"
   },
   {
    "duration": 102,
    "start_time": "2023-08-14T14:40:08.383Z"
   },
   {
    "duration": 108,
    "start_time": "2023-08-14T14:40:18.814Z"
   },
   {
    "duration": 456,
    "start_time": "2023-08-14T14:40:19.804Z"
   },
   {
    "duration": 4,
    "start_time": "2023-08-14T14:40:22.253Z"
   },
   {
    "duration": 90,
    "start_time": "2023-08-14T14:40:27.786Z"
   },
   {
    "duration": 18,
    "start_time": "2023-08-14T14:40:28.047Z"
   },
   {
    "duration": 727,
    "start_time": "2023-08-14T14:40:31.200Z"
   },
   {
    "duration": 17,
    "start_time": "2023-08-14T14:40:31.930Z"
   },
   {
    "duration": 3,
    "start_time": "2023-08-14T14:40:36.794Z"
   },
   {
    "duration": 590504,
    "start_time": "2023-08-14T14:40:38.600Z"
   },
   {
    "duration": 0,
    "start_time": "2023-08-14T14:50:29.106Z"
   },
   {
    "duration": 0,
    "start_time": "2023-08-14T14:50:29.107Z"
   },
   {
    "duration": 0,
    "start_time": "2023-08-14T14:50:29.108Z"
   },
   {
    "duration": 63,
    "start_time": "2023-08-15T14:53:45.588Z"
   },
   {
    "duration": 15278,
    "start_time": "2023-08-15T14:54:05.926Z"
   },
   {
    "duration": 2323,
    "start_time": "2023-08-15T14:54:21.206Z"
   },
   {
    "duration": 1647,
    "start_time": "2023-08-15T14:54:23.531Z"
   },
   {
    "duration": 4,
    "start_time": "2023-08-15T14:54:25.180Z"
   },
   {
    "duration": 27,
    "start_time": "2023-08-15T14:54:25.186Z"
   },
   {
    "duration": 58,
    "start_time": "2023-08-15T14:54:25.215Z"
   },
   {
    "duration": 4,
    "start_time": "2023-08-15T14:54:25.274Z"
   },
   {
    "duration": 1213,
    "start_time": "2023-08-15T14:54:25.279Z"
   },
   {
    "duration": 12,
    "start_time": "2023-08-15T14:54:26.493Z"
   },
   {
    "duration": 57,
    "start_time": "2023-08-15T14:54:26.507Z"
   },
   {
    "duration": 8,
    "start_time": "2023-08-15T14:54:26.566Z"
   },
   {
    "duration": 34,
    "start_time": "2023-08-15T14:54:26.576Z"
   },
   {
    "duration": 18,
    "start_time": "2023-08-15T14:54:26.612Z"
   },
   {
    "duration": 32,
    "start_time": "2023-08-15T14:54:26.632Z"
   },
   {
    "duration": 12,
    "start_time": "2023-08-15T14:54:26.666Z"
   },
   {
    "duration": 4,
    "start_time": "2023-08-15T14:54:26.679Z"
   },
   {
    "duration": 27,
    "start_time": "2023-08-15T14:54:26.684Z"
   },
   {
    "duration": 59,
    "start_time": "2023-08-15T14:54:26.712Z"
   },
   {
    "duration": 83,
    "start_time": "2023-08-15T14:54:26.773Z"
   },
   {
    "duration": 3171,
    "start_time": "2023-08-15T14:54:26.858Z"
   },
   {
    "duration": 26,
    "start_time": "2023-08-15T14:54:30.031Z"
   },
   {
    "duration": 172,
    "start_time": "2023-08-15T14:54:30.063Z"
   },
   {
    "duration": 86,
    "start_time": "2023-08-15T14:54:30.236Z"
   },
   {
    "duration": 68,
    "start_time": "2023-08-15T14:54:30.324Z"
   },
   {
    "duration": 34,
    "start_time": "2023-08-15T14:54:30.394Z"
   },
   {
    "duration": 70,
    "start_time": "2023-08-15T14:54:30.430Z"
   },
   {
    "duration": 78,
    "start_time": "2023-08-15T14:54:30.502Z"
   },
   {
    "duration": 46,
    "start_time": "2023-08-15T14:54:30.583Z"
   },
   {
    "duration": 36,
    "start_time": "2023-08-15T14:54:30.631Z"
   },
   {
    "duration": 32,
    "start_time": "2023-08-15T14:54:30.669Z"
   },
   {
    "duration": 81,
    "start_time": "2023-08-15T14:54:30.703Z"
   },
   {
    "duration": 17,
    "start_time": "2023-08-15T14:54:30.786Z"
   },
   {
    "duration": 175,
    "start_time": "2023-08-15T14:54:30.804Z"
   },
   {
    "duration": 286,
    "start_time": "2023-08-15T14:54:30.981Z"
   },
   {
    "duration": 54,
    "start_time": "2023-08-15T14:54:31.269Z"
   },
   {
    "duration": 81,
    "start_time": "2023-08-15T14:54:31.325Z"
   },
   {
    "duration": 45,
    "start_time": "2023-08-15T14:54:31.408Z"
   },
   {
    "duration": 47,
    "start_time": "2023-08-15T14:54:31.456Z"
   },
   {
    "duration": 3,
    "start_time": "2023-08-15T14:54:31.505Z"
   },
   {
    "duration": 64,
    "start_time": "2023-08-15T14:54:31.510Z"
   },
   {
    "duration": 1180,
    "start_time": "2023-08-15T14:54:31.576Z"
   },
   {
    "duration": 773,
    "start_time": "2023-08-15T14:54:32.761Z"
   },
   {
    "duration": 20,
    "start_time": "2023-08-15T14:54:33.535Z"
   },
   {
    "duration": 19,
    "start_time": "2023-08-15T14:54:33.557Z"
   },
   {
    "duration": 46,
    "start_time": "2023-08-15T14:54:33.577Z"
   },
   {
    "duration": 479,
    "start_time": "2023-08-15T14:54:33.624Z"
   },
   {
    "duration": 15,
    "start_time": "2023-08-15T14:54:34.105Z"
   },
   {
    "duration": 12,
    "start_time": "2023-08-15T14:55:41.414Z"
   },
   {
    "duration": 516,
    "start_time": "2023-08-15T14:56:25.384Z"
   },
   {
    "duration": 12,
    "start_time": "2023-08-15T14:56:25.902Z"
   },
   {
    "duration": 12,
    "start_time": "2023-08-15T14:56:26.823Z"
   },
   {
    "duration": 492,
    "start_time": "2023-08-15T14:59:19.286Z"
   },
   {
    "duration": 13,
    "start_time": "2023-08-15T14:59:19.780Z"
   },
   {
    "duration": 19,
    "start_time": "2023-08-15T14:59:20.432Z"
   },
   {
    "duration": 36,
    "start_time": "2023-08-15T15:01:19.488Z"
   },
   {
    "duration": 513,
    "start_time": "2023-08-15T15:01:19.763Z"
   },
   {
    "duration": 13,
    "start_time": "2023-08-15T15:01:20.921Z"
   },
   {
    "duration": 16,
    "start_time": "2023-08-15T15:01:22.832Z"
   },
   {
    "duration": 4,
    "start_time": "2023-08-15T15:06:37.905Z"
   },
   {
    "duration": 472,
    "start_time": "2023-08-15T15:06:47.160Z"
   },
   {
    "duration": 21,
    "start_time": "2023-08-15T15:06:47.634Z"
   },
   {
    "duration": 12,
    "start_time": "2023-08-15T15:06:48.350Z"
   },
   {
    "duration": 3,
    "start_time": "2023-08-15T15:06:49.731Z"
   },
   {
    "duration": 3,
    "start_time": "2023-08-15T15:06:50.159Z"
   },
   {
    "duration": 21,
    "start_time": "2023-08-15T15:14:34.036Z"
   },
   {
    "duration": 14,
    "start_time": "2023-08-15T15:15:30.370Z"
   },
   {
    "duration": 9,
    "start_time": "2023-08-15T15:15:38.859Z"
   },
   {
    "duration": 185,
    "start_time": "2023-08-15T15:16:54.692Z"
   },
   {
    "duration": 17,
    "start_time": "2023-08-15T15:17:04.165Z"
   },
   {
    "duration": 21,
    "start_time": "2023-08-15T15:17:13.088Z"
   },
   {
    "duration": 249,
    "start_time": "2023-08-15T15:17:57.981Z"
   },
   {
    "duration": 246,
    "start_time": "2023-08-15T15:18:02.624Z"
   },
   {
    "duration": 22,
    "start_time": "2023-08-15T15:19:08.807Z"
   },
   {
    "duration": 38,
    "start_time": "2023-08-15T15:19:49.910Z"
   },
   {
    "duration": 30,
    "start_time": "2023-08-15T15:19:58.127Z"
   },
   {
    "duration": 19,
    "start_time": "2023-08-15T15:20:10.270Z"
   },
   {
    "duration": 24,
    "start_time": "2023-08-15T15:21:56.398Z"
   },
   {
    "duration": 28,
    "start_time": "2023-08-15T15:22:01.831Z"
   },
   {
    "duration": 266,
    "start_time": "2023-08-15T15:22:08.698Z"
   },
   {
    "duration": 20,
    "start_time": "2023-08-15T15:22:15.750Z"
   },
   {
    "duration": 15,
    "start_time": "2023-08-15T15:22:45.410Z"
   },
   {
    "duration": 14,
    "start_time": "2023-08-15T15:22:52.893Z"
   },
   {
    "duration": 2,
    "start_time": "2023-08-15T15:25:19.917Z"
   },
   {
    "duration": 17,
    "start_time": "2023-08-15T15:26:01.956Z"
   },
   {
    "duration": 341,
    "start_time": "2023-08-15T15:26:58.370Z"
   },
   {
    "duration": 361,
    "start_time": "2023-08-15T15:27:06.966Z"
   },
   {
    "duration": 10,
    "start_time": "2023-08-15T15:27:10.408Z"
   },
   {
    "duration": 10,
    "start_time": "2023-08-15T15:27:52.666Z"
   },
   {
    "duration": 341,
    "start_time": "2023-08-15T15:28:28.189Z"
   },
   {
    "duration": 8,
    "start_time": "2023-08-15T15:28:29.077Z"
   },
   {
    "duration": 32,
    "start_time": "2023-08-15T15:29:11.474Z"
   },
   {
    "duration": 11,
    "start_time": "2023-08-15T15:29:27.578Z"
   },
   {
    "duration": 31,
    "start_time": "2023-08-15T15:30:32.686Z"
   },
   {
    "duration": 11,
    "start_time": "2023-08-15T15:30:35.916Z"
   },
   {
    "duration": 13,
    "start_time": "2023-08-15T15:31:14.566Z"
   },
   {
    "duration": 38,
    "start_time": "2023-08-15T15:31:27.154Z"
   },
   {
    "duration": 39,
    "start_time": "2023-08-15T15:34:25.097Z"
   },
   {
    "duration": 43,
    "start_time": "2023-08-15T15:35:30.034Z"
   },
   {
    "duration": 16,
    "start_time": "2023-08-15T15:35:30.403Z"
   },
   {
    "duration": 35,
    "start_time": "2023-08-15T15:35:30.969Z"
   },
   {
    "duration": 29,
    "start_time": "2023-08-15T15:35:31.475Z"
   },
   {
    "duration": 11,
    "start_time": "2023-08-15T15:35:31.992Z"
   },
   {
    "duration": 11,
    "start_time": "2023-08-15T15:35:33.987Z"
   },
   {
    "duration": 6,
    "start_time": "2023-08-15T15:35:51.037Z"
   },
   {
    "duration": 3,
    "start_time": "2023-08-15T15:35:51.225Z"
   },
   {
    "duration": 67,
    "start_time": "2023-08-15T15:35:54.232Z"
   },
   {
    "duration": 298,
    "start_time": "2023-08-15T15:35:58.928Z"
   },
   {
    "duration": 25,
    "start_time": "2023-08-15T15:36:00.829Z"
   },
   {
    "duration": 5,
    "start_time": "2023-08-15T15:36:04.150Z"
   },
   {
    "duration": 0,
    "start_time": "2023-08-15T15:43:10.476Z"
   },
   {
    "duration": 0,
    "start_time": "2023-08-15T15:43:10.477Z"
   },
   {
    "duration": 0,
    "start_time": "2023-08-15T15:43:10.487Z"
   },
   {
    "duration": 0,
    "start_time": "2023-08-15T15:43:10.488Z"
   },
   {
    "duration": 0,
    "start_time": "2023-08-15T15:43:10.489Z"
   },
   {
    "duration": 0,
    "start_time": "2023-08-15T15:43:10.490Z"
   },
   {
    "duration": 0,
    "start_time": "2023-08-15T15:43:10.492Z"
   },
   {
    "duration": 0,
    "start_time": "2023-08-15T15:43:10.493Z"
   },
   {
    "duration": 0,
    "start_time": "2023-08-15T15:43:10.494Z"
   },
   {
    "duration": 0,
    "start_time": "2023-08-15T15:43:10.495Z"
   },
   {
    "duration": 0,
    "start_time": "2023-08-15T15:43:10.496Z"
   },
   {
    "duration": 0,
    "start_time": "2023-08-15T15:43:10.546Z"
   }
  ],
  "kernelspec": {
   "display_name": "Python 3 (ipykernel)",
   "language": "python",
   "name": "python3"
  },
  "language_info": {
   "codemirror_mode": {
    "name": "ipython",
    "version": 3
   },
   "file_extension": ".py",
   "mimetype": "text/x-python",
   "name": "python",
   "nbconvert_exporter": "python",
   "pygments_lexer": "ipython3",
   "version": "3.9.13"
  },
  "toc": {
   "base_numbering": 1,
   "nav_menu": {},
   "number_sections": true,
   "sideBar": true,
   "skip_h1_title": true,
   "title_cell": "Table of Contents",
   "title_sidebar": "Contents",
   "toc_cell": false,
   "toc_position": {
    "height": "calc(100% - 180px)",
    "left": "10px",
    "top": "150px",
    "width": "383.969px"
   },
   "toc_section_display": true,
   "toc_window_display": true
  }
 },
 "nbformat": 4,
 "nbformat_minor": 5
}
