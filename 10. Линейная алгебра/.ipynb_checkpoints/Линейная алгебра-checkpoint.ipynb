{
 "cells": [
  {
   "cell_type": "markdown",
   "metadata": {
    "toc": true
   },
   "source": [
    "<h1>Содержание<span class=\"tocSkip\"></span></h1>\n",
    "<div class=\"toc\"><ul class=\"toc-item\"><li><span><a href=\"#Загрузка-данных\" data-toc-modified-id=\"Загрузка-данных-1\"><span class=\"toc-item-num\">1&nbsp;&nbsp;</span>Загрузка данных</a></span><ul class=\"toc-item\"><li><span><a href=\"#Импорт-используемых-библиотек\" data-toc-modified-id=\"Импорт-используемых-библиотек-1.1\"><span class=\"toc-item-num\">1.1&nbsp;&nbsp;</span>Импорт используемых библиотек</a></span></li><li><span><a href=\"#Чтение-файла\" data-toc-modified-id=\"Чтение-файла-1.2\"><span class=\"toc-item-num\">1.2&nbsp;&nbsp;</span>Чтение файла</a></span></li><li><span><a href=\"#Информация-о-файле\" data-toc-modified-id=\"Информация-о-файле-1.3\"><span class=\"toc-item-num\">1.3&nbsp;&nbsp;</span>Информация о файле</a></span></li><li><span><a href=\"#Предобработка-данных\" data-toc-modified-id=\"Предобработка-данных-1.4\"><span class=\"toc-item-num\">1.4&nbsp;&nbsp;</span>Предобработка данных</a></span><ul class=\"toc-item\"><li><span><a href=\"#Удаление-дубликатов\" data-toc-modified-id=\"Удаление-дубликатов-1.4.1\"><span class=\"toc-item-num\">1.4.1&nbsp;&nbsp;</span>Удаление дубликатов</a></span></li><li><span><a href=\"#Изменение-наименований-столбцов\" data-toc-modified-id=\"Изменение-наименований-столбцов-1.4.2\"><span class=\"toc-item-num\">1.4.2&nbsp;&nbsp;</span>Изменение наименований столбцов</a></span></li></ul></li><li><span><a href=\"#Вывод\" data-toc-modified-id=\"Вывод-1.5\"><span class=\"toc-item-num\">1.5&nbsp;&nbsp;</span>Вывод</a></span></li></ul></li><li><span><a href=\"#Умножение-матриц\" data-toc-modified-id=\"Умножение-матриц-2\"><span class=\"toc-item-num\">2&nbsp;&nbsp;</span>Умножение матриц</a></span></li><li><span><a href=\"#Алгоритм-преобразования\" data-toc-modified-id=\"Алгоритм-преобразования-3\"><span class=\"toc-item-num\">3&nbsp;&nbsp;</span>Алгоритм преобразования</a></span></li><li><span><a href=\"#Проверка-алгоритма\" data-toc-modified-id=\"Проверка-алгоритма-4\"><span class=\"toc-item-num\">4&nbsp;&nbsp;</span>Проверка алгоритма</a></span></li><li><span><a href=\"#Вывод:\" data-toc-modified-id=\"Вывод:-5\"><span class=\"toc-item-num\">5&nbsp;&nbsp;</span>Вывод:</a></span></li></ul></div>"
   ]
  },
  {
   "cell_type": "markdown",
   "metadata": {},
   "source": [
    "# Защита персональных данных клиентов"
   ]
  },
  {
   "cell_type": "markdown",
   "metadata": {},
   "source": [
    "Вам нужно защитить данные клиентов страховой компании «Хоть потоп». Разработайте такой метод преобразования данных, чтобы по ним было сложно восстановить персональную информацию. Обоснуйте корректность его работы.\n",
    "\n",
    "Нужно защитить данные, чтобы при преобразовании качество моделей машинного обучения не ухудшилось. Подбирать наилучшую модель не требуется.\n",
    "\n",
    "___"
   ]
  },
  {
   "cell_type": "markdown",
   "metadata": {},
   "source": [
    "# Описание данных\n",
    "Признаки: \n",
    "- Пол\n",
    "- Возраст\n",
    "- Зарплата застрахованного\n",
    "- Количество членов его семьи.\n",
    "\n",
    "Целевой признак:\n",
    "- Страховые выплаты"
   ]
  },
  {
   "cell_type": "markdown",
   "metadata": {},
   "source": [
    "## Загрузка данных"
   ]
  },
  {
   "cell_type": "markdown",
   "metadata": {},
   "source": [
    "### Импорт используемых библиотек"
   ]
  },
  {
   "cell_type": "code",
   "execution_count": 1,
   "metadata": {},
   "outputs": [],
   "source": [
    "import pandas as pd\n",
    "import ydata_profiling\n",
    "import numpy as np\n",
    "from sklearn.linear_model import LinearRegression\n",
    "from sklearn.metrics import r2_score"
   ]
  },
  {
   "cell_type": "markdown",
   "metadata": {},
   "source": [
    "### Чтение файла"
   ]
  },
  {
   "cell_type": "code",
   "execution_count": 2,
   "metadata": {},
   "outputs": [],
   "source": [
    "try:\n",
    "    df = pd.read_csv('insurance.csv', sep=',')\n",
    "except:\n",
    "    df = pd.read_csv('https://code.s3.yandex.net/datasets/insurance.csv', sep=',')"
   ]
  },
  {
   "cell_type": "markdown",
   "metadata": {},
   "source": [
    "### Информация о файле"
   ]
  },
  {
   "cell_type": "markdown",
   "metadata": {},
   "source": [
    "Воспользуемся библиотекой Pandas Profiling"
   ]
  },
  {
   "cell_type": "code",
   "execution_count": 3,
   "metadata": {},
   "outputs": [
    {
     "data": {
      "application/vnd.jupyter.widget-view+json": {
       "model_id": "7488198c2315455a8b41fc5cdea82c48",
       "version_major": 2,
       "version_minor": 0
      },
      "text/plain": [
       "Summarize dataset:   0%|          | 0/5 [00:00<?, ?it/s]"
      ]
     },
     "metadata": {},
     "output_type": "display_data"
    },
    {
     "data": {
      "application/vnd.jupyter.widget-view+json": {
       "model_id": "560105dcb3624f239dcb1fdad7cc9ed9",
       "version_major": 2,
       "version_minor": 0
      },
      "text/plain": [
       "Generate report structure:   0%|          | 0/1 [00:00<?, ?it/s]"
      ]
     },
     "metadata": {},
     "output_type": "display_data"
    },
    {
     "data": {
      "application/vnd.jupyter.widget-view+json": {
       "model_id": "",
       "version_major": 2,
       "version_minor": 0
      },
      "text/plain": [
       "Render widgets:   0%|          | 0/1 [00:00<?, ?it/s]"
      ]
     },
     "metadata": {},
     "output_type": "display_data"
    },
    {
     "data": {
      "application/vnd.jupyter.widget-view+json": {
       "model_id": "320341567e5c41f8bb77dc71678fafff",
       "version_major": 2,
       "version_minor": 0
      },
      "text/plain": [
       "VBox(children=(Tab(children=(Tab(children=(GridBox(children=(VBox(children=(GridspecLayout(children=(HTML(valu…"
      ]
     },
     "metadata": {},
     "output_type": "display_data"
    }
   ],
   "source": [
    "ydata_profiling.ProfileReport(df, explorative=True).to_widgets()"
   ]
  },
  {
   "cell_type": "markdown",
   "metadata": {},
   "source": [
    "Выводы по данным:\n",
    "- Пропуски отсутствуют\n",
    "- Дубликатов - 147\n",
    "- Представительство по полу у клиентов близкое к равному (разница в 0.2%)\n",
    "- Медианный возраст клиентов - 30 лет\n",
    "- По уровню зарплат наблюдается равномерное распределение (медиана - 40200)\n",
    "- Треть от всех клиентов (30.3%) не указали членов семьи\n",
    "- Страховые выплаты полагались только 11.3% от всех клиентов\n",
    "- Наблюдается неявная корреляция между страховыми выплатами и возрастом"
   ]
  },
  {
   "cell_type": "markdown",
   "metadata": {},
   "source": [
    "### Предобработка данных"
   ]
  },
  {
   "cell_type": "markdown",
   "metadata": {},
   "source": [
    "#### Удаление дубликатов"
   ]
  },
  {
   "cell_type": "code",
   "execution_count": 4,
   "metadata": {},
   "outputs": [],
   "source": [
    "df = df.drop_duplicates()"
   ]
  },
  {
   "cell_type": "code",
   "execution_count": 5,
   "metadata": {},
   "outputs": [
    {
     "data": {
      "text/plain": [
       "(4847, 5)"
      ]
     },
     "execution_count": 5,
     "metadata": {},
     "output_type": "execute_result"
    }
   ],
   "source": [
    "df.shape"
   ]
  },
  {
   "cell_type": "markdown",
   "metadata": {},
   "source": [
    "Дубликаты успешно удалены"
   ]
  },
  {
   "cell_type": "markdown",
   "metadata": {},
   "source": [
    "#### Изменение наименований столбцов"
   ]
  },
  {
   "cell_type": "markdown",
   "metadata": {},
   "source": [
    "Изменим на латиницу имена столбцов для удобства (и по правилам хорошего тона)"
   ]
  },
  {
   "cell_type": "code",
   "execution_count": 6,
   "metadata": {},
   "outputs": [],
   "source": [
    "df.columns = ['gender', 'age', 'salary', 'family_members', 'insurance']"
   ]
  },
  {
   "cell_type": "code",
   "execution_count": 7,
   "metadata": {},
   "outputs": [
    {
     "data": {
      "text/plain": [
       "Index(['gender', 'age', 'salary', 'family_members', 'insurance'], dtype='object')"
      ]
     },
     "execution_count": 7,
     "metadata": {},
     "output_type": "execute_result"
    }
   ],
   "source": [
    "df.columns"
   ]
  },
  {
   "cell_type": "markdown",
   "metadata": {},
   "source": [
    "### Вывод"
   ]
  },
  {
   "cell_type": "markdown",
   "metadata": {},
   "source": [
    "После EDA были удалены дубликаты и изменены названия столбцов."
   ]
  },
  {
   "cell_type": "markdown",
   "metadata": {},
   "source": [
    "## Умножение матриц"
   ]
  },
  {
   "cell_type": "markdown",
   "metadata": {},
   "source": [
    "Признаки умножают на обратимую матрицу. Изменится ли качество линейной регрессии?"
   ]
  },
  {
   "cell_type": "markdown",
   "metadata": {},
   "source": [
    "Обозначения:\n",
    "\n",
    "- $X$ — матрица признаков (нулевой столбец состоит из единиц)\n",
    "\n",
    "- $y$ — вектор целевого признака\n",
    "\n",
    "- $P$ — матрица, на которую умножаются признаки\n",
    "\n",
    "- $w$ — вектор весов линейной регрессии (нулевой элемент равен сдвигу)"
   ]
  },
  {
   "cell_type": "markdown",
   "metadata": {},
   "source": [
    "Предсказания:\n",
    "\n",
    "$$\n",
    "a = Xw\n",
    "$$\n",
    "\n",
    "Задача обучения:\n",
    "\n",
    "$$\n",
    "w = \\arg\\min_w MSE(Xw, y)\n",
    "$$\n",
    "\n",
    "Формула обучения:\n",
    "\n",
    "$$\n",
    "w = (X^T X)^{-1} X^T y\n",
    "$$"
   ]
  },
  {
   "cell_type": "markdown",
   "metadata": {},
   "source": [
    "При решении воспользуемся следующими основными свойствами матриц:\n",
    "\n",
    "1. Транспонирование произведения матриц равно произведению транспонированных матриц в обратном порядке. \n",
    "$$\n",
    "(AB)^T = B^TA^T\n",
    "$$\n",
    "\n",
    "\n",
    "2. Обратная матрица от произведения двух матриц равна произведению обратных матриц в обратном порядке.\n",
    "$$\n",
    "(AB)^{-1} = (B^{-1}A^{-1})\n",
    "$$\n",
    "\n",
    "\n",
    "3. Умножение матрицы на её обратную матрицу дает единичную матрицу.\n",
    "$$\n",
    "AA^{-1} = A^{-1}A = E\n",
    "$$\n",
    "\n",
    "\n",
    "4. Умножение любой матрицы на единичную матрицу дает ту же самую матрицу.\n",
    "$$\n",
    "EA = AE = A\n",
    "$$"
   ]
  },
  {
   "cell_type": "markdown",
   "metadata": {},
   "source": [
    "Умножим матрицу признаков X на обратимую матрицу P:\n",
    "\n",
    "$$\n",
    "a' = XPw'\n",
    "$$\n",
    "\n",
    "\n",
    "$$\n",
    "w' = ((XP)^T XP)^{-1} (XP)^T y\n",
    "$$\n",
    "\n",
    "Используя основные свойства матрицы, описанные выше, проведем вычисления:\n",
    "\n",
    "$$\n",
    "w' = ((XP)^T XP)^{-1} (XP)^T y = \\\\\n",
    "= (P^T X^T X P)^{-1} (XP)^T y = \\\\\n",
    "= ((P^T X^T X) P)^{-1} (XP)^T y = \\\\\n",
    "= P^{-1} (P^T X^T X)^{-1} P^T X^T y = \\\\\n",
    "= P^{-1} (X^T X)^{-1} (P^T)^{-1} P^T X^T y = \\\\\n",
    "= P^{-1} (X^T X)^{-1} E X^T y = \\\\\n",
    "= P^{-1} (X^T X)^{-1} X^T y = \\\\\n",
    "= P^{-1} w\n",
    "$$\n",
    "\n",
    "\n",
    "Подставим результат в формулу предсказания и получим:\n",
    "\n",
    "$$\n",
    "a' = X P w' = X P P^{-1} w = X E w = Xw = a\n",
    "$$\n",
    "\n",
    "\n",
    "Качество модели не изменится.   "
   ]
  },
  {
   "cell_type": "markdown",
   "metadata": {},
   "source": [
    "## Алгоритм преобразования"
   ]
  },
  {
   "cell_type": "markdown",
   "metadata": {},
   "source": [
    "Преобразование данных можно провести используя умножение признаков на обратимую матрицу и уже на этих данных обучить модель. Матрицу сделать случайной, при этом добавить шаг проверки матрицы на обратимостью.\n",
    "\n",
    "- Выделим целевой признак и признаки\n",
    "- Генерируем случайную матрицу, размер которой соответствует количеству признаков\n",
    "- Генерируем обратную матрицу"
   ]
  },
  {
   "cell_type": "markdown",
   "metadata": {},
   "source": [
    "**Обоснование**\n",
    "\n",
    "Математическое обоснование алгоритма приведено в предыдущем пункте."
   ]
  },
  {
   "cell_type": "markdown",
   "metadata": {},
   "source": [
    "## Проверка алгоритма"
   ]
  },
  {
   "cell_type": "code",
   "execution_count": 8,
   "metadata": {},
   "outputs": [],
   "source": [
    "# Матрица признаков X\n",
    "X = df.drop('insurance', axis=1).values\n",
    "\n",
    "# Вектор целевого признака y\n",
    "y = df['insurance'].values\n",
    "\n",
    "#Размер матрицы\n",
    "matrix_size = X.shape[1]"
   ]
  },
  {
   "cell_type": "code",
   "execution_count": 9,
   "metadata": {},
   "outputs": [
    {
     "data": {
      "text/plain": [
       "array([[-0.17034998,  0.04464843, -0.03616661,  0.01022589],\n",
       "       [ 0.11224676,  0.1098913 , -0.04847549, -0.08070598],\n",
       "       [ 0.12263216, -0.08470941, -0.02573198,  0.08490483],\n",
       "       [ 0.10648413,  0.07012757,  0.03622193, -0.0466934 ]])"
      ]
     },
     "execution_count": 9,
     "metadata": {},
     "output_type": "execute_result"
    }
   ],
   "source": [
    "# Матрица преобразования matrix\n",
    "matrix = np.random.normal(0, 0.1, size=(matrix_size, matrix_size))\n",
    "\n",
    "matrix"
   ]
  },
  {
   "cell_type": "code",
   "execution_count": 10,
   "metadata": {},
   "outputs": [
    {
     "data": {
      "text/plain": [
       "array([[-1.6658386 ,  1.4008874 ,  2.70558111,  2.13353945],\n",
       "       [12.49096817, -1.17305981,  5.54079309, 14.83816375],\n",
       "       [-0.19599238, -9.78832697, -2.31345596, 12.66878689],\n",
       "       [14.8088715 , -6.16026315, 12.69699591, 15.56194835]])"
      ]
     },
     "execution_count": 10,
     "metadata": {},
     "output_type": "execute_result"
    }
   ],
   "source": [
    "#Проверим сгенерированную матрицу на обратимость\n",
    "inverse_matrix = np.linalg.inv(matrix) \n",
    "\n",
    "inverse_matrix"
   ]
  },
  {
   "cell_type": "code",
   "execution_count": 11,
   "metadata": {},
   "outputs": [],
   "source": [
    "# Применяем преобразование данных\n",
    "X_transformed = np.dot(X, matrix)"
   ]
  },
  {
   "cell_type": "code",
   "execution_count": 12,
   "metadata": {},
   "outputs": [
    {
     "name": "stdout",
     "output_type": "stream",
     "text": [
      "R2 score до преобразования: 0.4302010044852067\n",
      "R2 score после преобразования: 0.4302010044852126\n"
     ]
    }
   ],
   "source": [
    "# Обучение линейной регрессии на исходных данных\n",
    "reg_before = LinearRegression()\n",
    "reg_before.fit(X, y)\n",
    "\n",
    "# Обучение линейной регрессии на преобразованных данных\n",
    "reg_after = LinearRegression()\n",
    "reg_after.fit(X_transformed, y)\n",
    "\n",
    "# Предсказания на исходных данных и преобразованных данных\n",
    "y_pred_before = reg_before.predict(X)\n",
    "y_pred_after = reg_after.predict(X_transformed)\n",
    "\n",
    "# Вычисляем метрику R2 для оценки качества на исходных данных и преобразованных данных\n",
    "r2_before = r2_score(y, y_pred_before)\n",
    "r2_after = r2_score(y, y_pred_after)\n",
    "\n",
    "print(f\"R2 score до преобразования: {r2_before}\")\n",
    "print(f\"R2 score после преобразования: {r2_after}\")"
   ]
  },
  {
   "cell_type": "markdown",
   "metadata": {},
   "source": [
    "## Вывод:"
   ]
  },
  {
   "cell_type": "markdown",
   "metadata": {},
   "source": [
    "Результат метрики одинаковый для исходных и преоразованных данных. Соответвенно, защита данных клиентов никак не повлияла на результаты работы модели."
   ]
  }
 ],
 "metadata": {
  "ExecuteTimeLog": [
   {
    "duration": 25601,
    "start_time": "2023-07-30T16:37:01.813Z"
   },
   {
    "duration": 8387,
    "start_time": "2023-07-30T16:37:27.418Z"
   },
   {
    "duration": 92,
    "start_time": "2023-07-30T16:37:35.807Z"
   },
   {
    "duration": 212,
    "start_time": "2023-07-30T16:37:35.901Z"
   },
   {
    "duration": 0,
    "start_time": "2023-07-30T16:37:36.115Z"
   },
   {
    "duration": 0,
    "start_time": "2023-07-30T16:37:36.116Z"
   },
   {
    "duration": 0,
    "start_time": "2023-07-30T16:37:36.117Z"
   },
   {
    "duration": 0,
    "start_time": "2023-07-30T16:37:36.119Z"
   },
   {
    "duration": 0,
    "start_time": "2023-07-30T16:37:36.120Z"
   },
   {
    "duration": 0,
    "start_time": "2023-07-30T16:37:36.121Z"
   },
   {
    "duration": 67,
    "start_time": "2023-07-30T16:40:19.835Z"
   },
   {
    "duration": 21949,
    "start_time": "2023-07-30T16:40:22.573Z"
   },
   {
    "duration": 32,
    "start_time": "2023-07-30T16:50:19.539Z"
   },
   {
    "duration": 6,
    "start_time": "2023-07-30T16:50:57.644Z"
   },
   {
    "duration": 7,
    "start_time": "2023-07-30T16:52:29.139Z"
   },
   {
    "duration": 2621,
    "start_time": "2023-07-30T16:54:17.548Z"
   },
   {
    "duration": 3102,
    "start_time": "2023-07-30T16:54:20.174Z"
   },
   {
    "duration": 47,
    "start_time": "2023-07-30T16:54:23.278Z"
   },
   {
    "duration": 61,
    "start_time": "2023-07-30T16:54:23.328Z"
   },
   {
    "duration": 19753,
    "start_time": "2023-07-30T16:54:23.391Z"
   },
   {
    "duration": 8,
    "start_time": "2023-07-30T16:54:43.158Z"
   },
   {
    "duration": 19,
    "start_time": "2023-07-30T16:54:43.175Z"
   },
   {
    "duration": 7,
    "start_time": "2023-07-30T16:54:43.196Z"
   },
   {
    "duration": 8,
    "start_time": "2023-07-30T16:54:43.205Z"
   },
   {
    "duration": 8,
    "start_time": "2023-07-30T16:54:43.215Z"
   },
   {
    "duration": 45,
    "start_time": "2023-07-30T16:54:43.224Z"
   },
   {
    "duration": 133,
    "start_time": "2023-07-30T16:54:43.273Z"
   },
   {
    "duration": 2798,
    "start_time": "2023-07-30T17:15:04.596Z"
   },
   {
    "duration": 3350,
    "start_time": "2023-07-30T17:15:07.397Z"
   },
   {
    "duration": 80,
    "start_time": "2023-07-30T17:15:10.748Z"
   },
   {
    "duration": 204,
    "start_time": "2023-07-30T17:15:10.830Z"
   },
   {
    "duration": 0,
    "start_time": "2023-07-30T17:15:11.036Z"
   },
   {
    "duration": 0,
    "start_time": "2023-07-30T17:15:11.037Z"
   },
   {
    "duration": 0,
    "start_time": "2023-07-30T17:15:11.038Z"
   },
   {
    "duration": 0,
    "start_time": "2023-07-30T17:15:11.040Z"
   },
   {
    "duration": 0,
    "start_time": "2023-07-30T17:15:11.041Z"
   },
   {
    "duration": 0,
    "start_time": "2023-07-30T17:15:11.058Z"
   },
   {
    "duration": 24885,
    "start_time": "2023-07-31T13:17:37.518Z"
   },
   {
    "duration": 3673,
    "start_time": "2023-07-31T13:18:02.408Z"
   },
   {
    "duration": 122,
    "start_time": "2023-07-31T13:18:06.083Z"
   },
   {
    "duration": 289,
    "start_time": "2023-07-31T13:18:06.208Z"
   },
   {
    "duration": 0,
    "start_time": "2023-07-31T13:18:06.500Z"
   },
   {
    "duration": 0,
    "start_time": "2023-07-31T13:18:06.501Z"
   },
   {
    "duration": 0,
    "start_time": "2023-07-31T13:18:06.503Z"
   },
   {
    "duration": 0,
    "start_time": "2023-07-31T13:18:06.504Z"
   },
   {
    "duration": 0,
    "start_time": "2023-07-31T13:18:06.506Z"
   },
   {
    "duration": 0,
    "start_time": "2023-07-31T13:18:06.507Z"
   },
   {
    "duration": 25262,
    "start_time": "2023-07-31T13:18:38.156Z"
   },
   {
    "duration": 2457,
    "start_time": "2023-07-31T16:28:39.035Z"
   },
   {
    "duration": 5,
    "start_time": "2023-07-31T16:28:41.496Z"
   },
   {
    "duration": 85,
    "start_time": "2023-07-31T16:28:41.502Z"
   },
   {
    "duration": 16600,
    "start_time": "2023-07-31T16:28:41.589Z"
   },
   {
    "duration": 6,
    "start_time": "2023-07-31T16:28:58.191Z"
   },
   {
    "duration": 21,
    "start_time": "2023-07-31T16:28:58.198Z"
   },
   {
    "duration": 28,
    "start_time": "2023-07-31T16:28:58.220Z"
   },
   {
    "duration": 32,
    "start_time": "2023-07-31T16:28:58.250Z"
   },
   {
    "duration": 20,
    "start_time": "2023-07-31T16:28:58.284Z"
   },
   {
    "duration": 19,
    "start_time": "2023-07-31T16:28:58.307Z"
   },
   {
    "duration": 5,
    "start_time": "2023-07-31T16:29:11.190Z"
   },
   {
    "duration": 21,
    "start_time": "2023-07-31T16:29:13.362Z"
   },
   {
    "duration": 6,
    "start_time": "2023-07-31T16:29:19.658Z"
   },
   {
    "duration": 6,
    "start_time": "2023-07-31T16:44:42.112Z"
   },
   {
    "duration": 6,
    "start_time": "2023-07-31T16:44:52.289Z"
   },
   {
    "duration": 4,
    "start_time": "2023-07-31T16:46:29.744Z"
   },
   {
    "duration": 3,
    "start_time": "2023-07-31T16:46:33.150Z"
   },
   {
    "duration": 5,
    "start_time": "2023-07-31T16:47:30.543Z"
   },
   {
    "duration": 3,
    "start_time": "2023-07-31T16:47:31.156Z"
   },
   {
    "duration": 6,
    "start_time": "2023-07-31T16:49:19.584Z"
   },
   {
    "duration": 2524,
    "start_time": "2023-07-31T16:50:36.201Z"
   },
   {
    "duration": 4,
    "start_time": "2023-07-31T16:50:38.727Z"
   },
   {
    "duration": 162,
    "start_time": "2023-07-31T16:50:38.733Z"
   },
   {
    "duration": 15996,
    "start_time": "2023-07-31T16:50:38.898Z"
   },
   {
    "duration": 5,
    "start_time": "2023-07-31T16:50:54.896Z"
   },
   {
    "duration": 7,
    "start_time": "2023-07-31T16:50:54.902Z"
   },
   {
    "duration": 5,
    "start_time": "2023-07-31T16:50:54.910Z"
   },
   {
    "duration": 8,
    "start_time": "2023-07-31T16:50:54.916Z"
   },
   {
    "duration": 2475,
    "start_time": "2023-07-31T16:51:51.560Z"
   },
   {
    "duration": 2094,
    "start_time": "2023-07-31T16:51:54.038Z"
   },
   {
    "duration": 85,
    "start_time": "2023-07-31T16:51:56.133Z"
   },
   {
    "duration": 16597,
    "start_time": "2023-07-31T16:51:56.221Z"
   },
   {
    "duration": 7,
    "start_time": "2023-07-31T16:52:12.819Z"
   },
   {
    "duration": 16,
    "start_time": "2023-07-31T16:52:12.827Z"
   },
   {
    "duration": 14,
    "start_time": "2023-07-31T16:52:12.844Z"
   },
   {
    "duration": 9,
    "start_time": "2023-07-31T16:52:12.859Z"
   },
   {
    "duration": 10,
    "start_time": "2023-07-31T16:52:12.870Z"
   },
   {
    "duration": 9,
    "start_time": "2023-07-31T16:52:12.882Z"
   },
   {
    "duration": 6,
    "start_time": "2023-07-31T16:52:12.893Z"
   },
   {
    "duration": 10,
    "start_time": "2023-07-31T16:52:12.902Z"
   },
   {
    "duration": 106,
    "start_time": "2023-07-31T16:52:12.971Z"
   },
   {
    "duration": 16829,
    "start_time": "2023-07-31T19:01:20.893Z"
   },
   {
    "duration": 3699,
    "start_time": "2023-07-31T19:01:37.725Z"
   },
   {
    "duration": 158,
    "start_time": "2023-07-31T19:01:41.426Z"
   },
   {
    "duration": 17525,
    "start_time": "2023-07-31T19:01:41.586Z"
   },
   {
    "duration": 8,
    "start_time": "2023-07-31T19:01:59.115Z"
   },
   {
    "duration": 7,
    "start_time": "2023-07-31T19:01:59.125Z"
   },
   {
    "duration": 23,
    "start_time": "2023-07-31T19:01:59.134Z"
   },
   {
    "duration": 7,
    "start_time": "2023-07-31T19:01:59.160Z"
   },
   {
    "duration": 6,
    "start_time": "2023-07-31T19:01:59.170Z"
   },
   {
    "duration": 9,
    "start_time": "2023-07-31T19:01:59.177Z"
   },
   {
    "duration": 5,
    "start_time": "2023-07-31T19:01:59.188Z"
   },
   {
    "duration": 5,
    "start_time": "2023-07-31T19:01:59.194Z"
   },
   {
    "duration": 161,
    "start_time": "2023-07-31T19:01:59.201Z"
   },
   {
    "duration": 13,
    "start_time": "2023-07-31T19:05:57.810Z"
   },
   {
    "duration": 2300,
    "start_time": "2023-07-31T19:18:15.958Z"
   },
   {
    "duration": 3234,
    "start_time": "2023-07-31T19:18:18.262Z"
   },
   {
    "duration": 37,
    "start_time": "2023-07-31T19:18:21.498Z"
   },
   {
    "duration": 2196,
    "start_time": "2023-07-31T19:23:15.732Z"
   },
   {
    "duration": 3451,
    "start_time": "2023-07-31T19:23:17.931Z"
   },
   {
    "duration": 50,
    "start_time": "2023-07-31T19:23:21.384Z"
   },
   {
    "duration": 16441,
    "start_time": "2023-07-31T19:23:21.436Z"
   },
   {
    "duration": 7,
    "start_time": "2023-07-31T19:23:37.879Z"
   },
   {
    "duration": 5,
    "start_time": "2023-07-31T19:23:37.888Z"
   },
   {
    "duration": 4,
    "start_time": "2023-07-31T19:23:37.894Z"
   },
   {
    "duration": 59,
    "start_time": "2023-07-31T19:23:37.900Z"
   },
   {
    "duration": 6,
    "start_time": "2023-07-31T19:23:37.961Z"
   },
   {
    "duration": 8,
    "start_time": "2023-07-31T19:23:37.970Z"
   },
   {
    "duration": 98,
    "start_time": "2023-07-31T19:23:37.980Z"
   },
   {
    "duration": 78,
    "start_time": "2023-07-31T19:23:38.080Z"
   },
   {
    "duration": 197,
    "start_time": "2023-07-31T19:23:38.160Z"
   },
   {
    "duration": 17298,
    "start_time": "2023-07-31T22:00:32.916Z"
   },
   {
    "duration": 2617,
    "start_time": "2023-07-31T22:00:50.217Z"
   },
   {
    "duration": 143,
    "start_time": "2023-07-31T22:00:52.836Z"
   },
   {
    "duration": 16404,
    "start_time": "2023-07-31T22:00:52.981Z"
   },
   {
    "duration": 6839,
    "start_time": "2023-08-03T13:38:18.003Z"
   },
   {
    "duration": 7603,
    "start_time": "2023-08-03T13:38:24.844Z"
   },
   {
    "duration": 252,
    "start_time": "2023-08-03T13:38:32.450Z"
   },
   {
    "duration": 29382,
    "start_time": "2023-08-03T13:38:32.709Z"
   }
  ],
  "kernelspec": {
   "display_name": "Python 3 (ipykernel)",
   "language": "python",
   "name": "python3"
  },
  "language_info": {
   "codemirror_mode": {
    "name": "ipython",
    "version": 3
   },
   "file_extension": ".py",
   "mimetype": "text/x-python",
   "name": "python",
   "nbconvert_exporter": "python",
   "pygments_lexer": "ipython3",
   "version": "3.9.13"
  },
  "toc": {
   "base_numbering": 1,
   "nav_menu": {},
   "number_sections": true,
   "sideBar": true,
   "skip_h1_title": true,
   "title_cell": "Содержание",
   "title_sidebar": "Contents",
   "toc_cell": true,
   "toc_position": {
    "height": "calc(100% - 180px)",
    "left": "10px",
    "top": "150px",
    "width": "384px"
   },
   "toc_section_display": true,
   "toc_window_display": true
  }
 },
 "nbformat": 4,
 "nbformat_minor": 2
}
