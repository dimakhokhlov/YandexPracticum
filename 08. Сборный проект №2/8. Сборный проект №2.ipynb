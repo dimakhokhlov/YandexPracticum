{
 "cells": [
  {
   "cell_type": "markdown",
   "metadata": {
    "toc": true
   },
   "source": [
    "<h1>Содержание<span class=\"tocSkip\"></span></h1>\n",
    "<div class=\"toc\"><ul class=\"toc-item\"><li><span><a href=\"#Подготовка-данных\" data-toc-modified-id=\"Подготовка-данных-1\"><span class=\"toc-item-num\">1&nbsp;&nbsp;</span>Подготовка данных</a></span><ul class=\"toc-item\"><li><span><a href=\"#Открытие-файлов\" data-toc-modified-id=\"Открытие-файлов-1.1\"><span class=\"toc-item-num\">1.1&nbsp;&nbsp;</span>Открытие файлов</a></span><ul class=\"toc-item\"><li><span><a href=\"#Подключение-библиотек\" data-toc-modified-id=\"Подключение-библиотек-1.1.1\"><span class=\"toc-item-num\">1.1.1&nbsp;&nbsp;</span>Подключение библиотек</a></span></li><li><span><a href=\"#Загрузка-данных\" data-toc-modified-id=\"Загрузка-данных-1.1.2\"><span class=\"toc-item-num\">1.1.2&nbsp;&nbsp;</span>Загрузка данных</a></span></li><li><span><a href=\"#Информация-о-данных\" data-toc-modified-id=\"Информация-о-данных-1.1.3\"><span class=\"toc-item-num\">1.1.3&nbsp;&nbsp;</span>Информация о данных</a></span></li></ul></li><li><span><a href=\"#Проверим,-правильно-ли-рассчитана-эффективность-обогащения\" data-toc-modified-id=\"Проверим,-правильно-ли-рассчитана-эффективность-обогащения-1.2\"><span class=\"toc-item-num\">1.2&nbsp;&nbsp;</span>Проверим, правильно ли рассчитана эффективность обогащения</a></span></li><li><span><a href=\"#Признаки,-недоступные-в-тестовой-выборке.\" data-toc-modified-id=\"Признаки,-недоступные-в-тестовой-выборке.-1.3\"><span class=\"toc-item-num\">1.3&nbsp;&nbsp;</span>Признаки, недоступные в тестовой выборке.</a></span></li><li><span><a href=\"#Проведём-предобработку-данных\" data-toc-modified-id=\"Проведём-предобработку-данных-1.4\"><span class=\"toc-item-num\">1.4&nbsp;&nbsp;</span>Проведём предобработку данных</a></span></li><li><span><a href=\"#Вывод\" data-toc-modified-id=\"Вывод-1.5\"><span class=\"toc-item-num\">1.5&nbsp;&nbsp;</span>Вывод</a></span></li></ul></li><li><span><a href=\"#Анализ-данных\" data-toc-modified-id=\"Анализ-данных-2\"><span class=\"toc-item-num\">2&nbsp;&nbsp;</span>Анализ данных</a></span><ul class=\"toc-item\"><li><span><a href=\"#Анализ-изменений-концентрации-металлов\" data-toc-modified-id=\"Анализ-изменений-концентрации-металлов-2.1\"><span class=\"toc-item-num\">2.1&nbsp;&nbsp;</span>Анализ изменений концентрации металлов</a></span></li><li><span><a href=\"#Сравнение-распределения-размеров-гранул-сырья\" data-toc-modified-id=\"Сравнение-распределения-размеров-гранул-сырья-2.2\"><span class=\"toc-item-num\">2.2&nbsp;&nbsp;</span>Сравнение распределения размеров гранул сырья</a></span></li><li><span><a href=\"#Анализ-суммарной-концентрации-металлов-на-разных-стадиях\" data-toc-modified-id=\"Анализ-суммарной-концентрации-металлов-на-разных-стадиях-2.3\"><span class=\"toc-item-num\">2.3&nbsp;&nbsp;</span>Анализ суммарной концентрации металлов на разных стадиях</a></span></li><li><span><a href=\"#Вывод-по-анализу\" data-toc-modified-id=\"Вывод-по-анализу-2.4\"><span class=\"toc-item-num\">2.4&nbsp;&nbsp;</span>Вывод по анализу</a></span></li><li><span><a href=\"#Удаление-выбросов\" data-toc-modified-id=\"Удаление-выбросов-2.5\"><span class=\"toc-item-num\">2.5&nbsp;&nbsp;</span>Удаление выбросов</a></span></li></ul></li><li><span><a href=\"#Модель\" data-toc-modified-id=\"Модель-3\"><span class=\"toc-item-num\">3&nbsp;&nbsp;</span>Модель</a></span><ul class=\"toc-item\"><li><span><a href=\"#Напишем-функцию-для-вычисления-итоговой-sMAPE\" data-toc-modified-id=\"Напишем-функцию-для-вычисления-итоговой-sMAPE-3.1\"><span class=\"toc-item-num\">3.1&nbsp;&nbsp;</span>Напишем функцию для вычисления итоговой sMAPE</a></span></li><li><span><a href=\"#Обучим-разные-модели-и-оценим-их-качество-кросс-валидацией\" data-toc-modified-id=\"Обучим-разные-модели-и-оценим-их-качество-кросс-валидацией-3.2\"><span class=\"toc-item-num\">3.2&nbsp;&nbsp;</span>Обучим разные модели и оценим их качество кросс-валидацией</a></span><ul class=\"toc-item\"><li><span><a href=\"#Дерево-решений\" data-toc-modified-id=\"Дерево-решений-3.2.1\"><span class=\"toc-item-num\">3.2.1&nbsp;&nbsp;</span>Дерево решений</a></span></li><li><span><a href=\"#Случайный-лес\" data-toc-modified-id=\"Случайный-лес-3.2.2\"><span class=\"toc-item-num\">3.2.2&nbsp;&nbsp;</span>Случайный лес</a></span></li></ul></li><li><span><a href=\"#Проверка-на-адекватность\" data-toc-modified-id=\"Проверка-на-адекватность-3.3\"><span class=\"toc-item-num\">3.3&nbsp;&nbsp;</span>Проверка на адекватность</a></span></li><li><span><a href=\"#Проверка-на-тестовой-выборке\" data-toc-modified-id=\"Проверка-на-тестовой-выборке-3.4\"><span class=\"toc-item-num\">3.4&nbsp;&nbsp;</span>Проверка на тестовой выборке</a></span></li></ul></li><li><span><a href=\"#Вывод\" data-toc-modified-id=\"Вывод-4\"><span class=\"toc-item-num\">4&nbsp;&nbsp;</span>Вывод</a></span></li></ul></div>"
   ]
  },
  {
   "cell_type": "markdown",
   "metadata": {},
   "source": [
    "# Восстановление золота из руды"
   ]
  },
  {
   "cell_type": "markdown",
   "metadata": {},
   "source": [
    "**Заказчик:** \n",
    "\n",
    "«[Цифра](http://zyfra.com/)». Компания разрабатывает решения для эффективной работы промышленных предприятий.\n",
    "___\n",
    "**Цель:** \n",
    "\n",
    "Подготовить прототип модели машинного обучения.\n",
    "___\n",
    "**Описание проекта:**\n",
    "\n",
    "Данные находятся в трёх файлах:\n",
    "\n",
    "- gold_industry_train.csv — обучающая выборка;\n",
    "- gold_industry_test.csv — тестовая выборка;\n",
    "- gold_industry_full.csv — исходные данные.\n",
    "\n",
    "Данные индексируются датой и временем получения информации (признак `date`). Соседние по времени параметры часто похожи.\n",
    "Некоторые параметры недоступны, потому что замеряются и/или рассчитываются значительно позже. Из-за этого в тестовой выборке отсутствуют некоторые признаки, которые могут быть в обучающей. Также в тестовом наборе нет целевых признаков.\n",
    "Исходный датасет содержит обучающую и тестовую выборки со всеми признаками.\n",
    "___\n",
    "**Задачи:** \n",
    "- Подготовить данные;\n",
    "- Провести исследовательский анализ данных;\n",
    "- Построить и обучить модель.\n",
    "___\n",
    "**Условия задачи:** \n",
    "\n",
    "Для обучения модели подходит только линейная регрессия (остальные — недостаточно предсказуемые).\n",
    "При разведке региона исследуют 500 точек, из которых с помощью машинного обучения выбирают 200 лучших для разработки.\n",
    "Бюджет на разработку скважин в регионе — 10 млрд рублей.\n",
    "При нынешних ценах один баррель сырья приносит 450 рублей дохода. Доход с каждой единицы продукта составляет 450 тыс. рублей, поскольку объём указан в тысячах баррелей.\n",
    "После оценки рисков нужно оставить лишь те регионы, в которых вероятность убытков меньше 2.5%. Среди них выбирают регион с наибольшей средней прибылью.\n",
    "\n",
    "Данные синтетические: детали контрактов и характеристики месторождений не разглашаются.\n",
    "___\n",
    "**Описание данных:**\n",
    "\n",
    "Технологический процесс\n",
    "\n",
    "* `Rougher feed` — исходное сырье\n",
    "* `Rougher additions` (или *reagent additions*) — флотационные реагенты: *Xanthate, Sulphate, Depressant*\n",
    "    * `Xanthate` — ксантогенат (промотер, или активатор флотации);\n",
    "    * `Sulphate` — сульфат (на данном производстве сульфид натрия);\n",
    "    * `Depressant` — депрессант (силикат натрия).\n",
    "* `Rougher process` (англ. «грубый процесс») — флотация\n",
    "* `Rougher tails` — отвальные хвосты\n",
    "* `Float banks` — флотационная установка\n",
    "* `Cleaner process` — очистка\n",
    "* `Rougher Au` — черновой концентрат золота\n",
    "* `Final Au` — финальный концентрат золота\n",
    "\n",
    "**Параметры этапов**\n",
    "\n",
    "* `air amount` — объём воздуха\n",
    "* `fluid levels` — уровень жидкости\n",
    "* `feed size` — размер гранул сырья\n",
    "* `feed rate` — скорость подачи\n",
    "___\n",
    "**Наименование признаков**\n",
    "\n",
    "Наименование признаков должно быть такое:\n",
    "\n",
    "[этап].[тип_параметра].[название_параметра]\n",
    "\n",
    "Пример: `rougher.input.feed_ag`\n",
    "\n",
    "**Возможные значения для блока [этап]:**\n",
    "\n",
    "* `rougher` — флотация\n",
    "* `primary_cleaner` — первичная очистка\n",
    "* `secondary_cleaner` — вторичная очистка\n",
    "* `final` — финальные характеристики\n",
    "\n",
    "**Возможные значения для блока [тип_параметра]:**\n",
    "\n",
    "* `input` — параметры сырья\n",
    "* `output` — параметры продукта\n",
    "* `state` — параметры, характеризующие текущее состояние этапа\n",
    "* `calculation` — расчётные характеристики"
   ]
  },
  {
   "cell_type": "markdown",
   "metadata": {},
   "source": [
    "## Подготовка данных"
   ]
  },
  {
   "cell_type": "markdown",
   "metadata": {},
   "source": [
    "### Открытие файлов"
   ]
  },
  {
   "cell_type": "markdown",
   "metadata": {},
   "source": [
    "#### Подключение библиотек"
   ]
  },
  {
   "cell_type": "code",
   "execution_count": 1,
   "metadata": {},
   "outputs": [
    {
     "name": "stderr",
     "output_type": "stream",
     "text": [
      "C:\\Users\\user\\AppData\\Local\\Temp\\ipykernel_15384\\3090499121.py:15: DeprecationWarning: Importing display from IPython.core.display is deprecated since IPython 7.14, please import from IPython display\n",
      "  from IPython.core.display import display, HTML\n"
     ]
    },
    {
     "data": {
      "text/html": [
       "<style>.container { width:80% !important; }</style>"
      ],
      "text/plain": [
       "<IPython.core.display.HTML object>"
      ]
     },
     "metadata": {},
     "output_type": "display_data"
    }
   ],
   "source": [
    "import pandas as pd\n",
    "import seaborn as sns\n",
    "from matplotlib import pyplot as plt\n",
    "import numpy as np\n",
    "\n",
    "from sklearn.metrics import mean_absolute_error, mean_squared_error, make_scorer\n",
    "from sklearn.preprocessing import StandardScaler\n",
    "from sklearn.model_selection import train_test_split\n",
    "from sklearn.model_selection import cross_val_score\n",
    "from sklearn.ensemble import RandomForestRegressor\n",
    "from sklearn.tree import DecisionTreeRegressor\n",
    "from sklearn.dummy import DummyRegressor\n",
    "from sklearn.model_selection import RandomizedSearchCV\n",
    "\n",
    "from IPython.core.display import display, HTML\n",
    "display(HTML(\"<style>.container { width:80% !important; }</style>\"))"
   ]
  },
  {
   "cell_type": "code",
   "execution_count": 2,
   "metadata": {},
   "outputs": [],
   "source": [
    "import warnings\n",
    "warnings.filterwarnings(\"ignore\")"
   ]
  },
  {
   "cell_type": "markdown",
   "metadata": {},
   "source": [
    "#### Загрузка данных"
   ]
  },
  {
   "cell_type": "code",
   "execution_count": 3,
   "metadata": {},
   "outputs": [],
   "source": [
    "try:\n",
    "    df_train = pd.read_csv('gold_industry_train.csv')\n",
    "    df_test = pd.read_csv('gold_industry_test.csv')\n",
    "    df_full = pd.read_csv('gold_industry_full.csv')\n",
    "except:\n",
    "    df_train = pd.read_csv('https://code.s3.yandex.net/datasets/gold_industry_train.csv')\n",
    "    df_test = pd.read_csv('https://code.s3.yandex.net/datasets/gold_industry_test.csv')\n",
    "    df_full = pd.read_csv('https://code.s3.yandex.net/datasets/gold_industry_full.csv')"
   ]
  },
  {
   "cell_type": "markdown",
   "metadata": {},
   "source": [
    "#### Информация о данных"
   ]
  },
  {
   "cell_type": "code",
   "execution_count": 4,
   "metadata": {},
   "outputs": [],
   "source": [
    "dataframes = [df_train, df_test, df_full]"
   ]
  },
  {
   "cell_type": "code",
   "execution_count": 5,
   "metadata": {},
   "outputs": [
    {
     "data": {
      "text/plain": [
       "'DataFrame: df_train'"
      ]
     },
     "metadata": {},
     "output_type": "display_data"
    },
    {
     "data": {
      "text/html": [
       "<div>\n",
       "<style scoped>\n",
       "    .dataframe tbody tr th:only-of-type {\n",
       "        vertical-align: middle;\n",
       "    }\n",
       "\n",
       "    .dataframe tbody tr th {\n",
       "        vertical-align: top;\n",
       "    }\n",
       "\n",
       "    .dataframe thead th {\n",
       "        text-align: right;\n",
       "    }\n",
       "</style>\n",
       "<table border=\"1\" class=\"dataframe\">\n",
       "  <thead>\n",
       "    <tr style=\"text-align: right;\">\n",
       "      <th></th>\n",
       "      <th>date</th>\n",
       "      <th>rougher.input.feed_au</th>\n",
       "      <th>rougher.input.feed_ag</th>\n",
       "      <th>rougher.input.feed_pb</th>\n",
       "      <th>rougher.input.feed_sol</th>\n",
       "      <th>rougher.input.feed_rate</th>\n",
       "      <th>rougher.input.feed_size</th>\n",
       "      <th>rougher.input.floatbank10_sulfate</th>\n",
       "      <th>rougher.input.floatbank10_xanthate</th>\n",
       "      <th>rougher.state.floatbank10_a_air</th>\n",
       "      <th>...</th>\n",
       "      <th>secondary_cleaner.output.tail_sol</th>\n",
       "      <th>final.output.concentrate_au</th>\n",
       "      <th>final.output.concentrate_ag</th>\n",
       "      <th>final.output.concentrate_pb</th>\n",
       "      <th>final.output.concentrate_sol</th>\n",
       "      <th>final.output.recovery</th>\n",
       "      <th>final.output.tail_au</th>\n",
       "      <th>final.output.tail_ag</th>\n",
       "      <th>final.output.tail_pb</th>\n",
       "      <th>final.output.tail_sol</th>\n",
       "    </tr>\n",
       "  </thead>\n",
       "  <tbody>\n",
       "    <tr>\n",
       "      <th>0</th>\n",
       "      <td>2016-01-15 00:00:00</td>\n",
       "      <td>6.486150</td>\n",
       "      <td>6.100378</td>\n",
       "      <td>2.284912</td>\n",
       "      <td>36.808594</td>\n",
       "      <td>523.546326</td>\n",
       "      <td>55.486599</td>\n",
       "      <td>11.986616</td>\n",
       "      <td>6.007990</td>\n",
       "      <td>999.706909</td>\n",
       "      <td>...</td>\n",
       "      <td>8.764648</td>\n",
       "      <td>42.192020</td>\n",
       "      <td>6.055403</td>\n",
       "      <td>9.889648</td>\n",
       "      <td>5.507324</td>\n",
       "      <td>70.541216</td>\n",
       "      <td>2.143149</td>\n",
       "      <td>10.411962</td>\n",
       "      <td>0.895447</td>\n",
       "      <td>16.904297</td>\n",
       "    </tr>\n",
       "    <tr>\n",
       "      <th>1</th>\n",
       "      <td>2016-01-15 01:00:00</td>\n",
       "      <td>6.478583</td>\n",
       "      <td>6.161113</td>\n",
       "      <td>2.266033</td>\n",
       "      <td>35.753385</td>\n",
       "      <td>525.290581</td>\n",
       "      <td>57.278666</td>\n",
       "      <td>11.971193</td>\n",
       "      <td>6.005766</td>\n",
       "      <td>1000.286398</td>\n",
       "      <td>...</td>\n",
       "      <td>9.001494</td>\n",
       "      <td>42.701629</td>\n",
       "      <td>6.029369</td>\n",
       "      <td>9.968944</td>\n",
       "      <td>5.257781</td>\n",
       "      <td>69.266198</td>\n",
       "      <td>2.224930</td>\n",
       "      <td>10.462676</td>\n",
       "      <td>0.927452</td>\n",
       "      <td>16.634514</td>\n",
       "    </tr>\n",
       "    <tr>\n",
       "      <th>2</th>\n",
       "      <td>2016-01-15 02:00:00</td>\n",
       "      <td>6.362222</td>\n",
       "      <td>6.116455</td>\n",
       "      <td>2.159622</td>\n",
       "      <td>35.971630</td>\n",
       "      <td>530.026610</td>\n",
       "      <td>57.510649</td>\n",
       "      <td>11.920603</td>\n",
       "      <td>6.197377</td>\n",
       "      <td>999.719565</td>\n",
       "      <td>...</td>\n",
       "      <td>8.842896</td>\n",
       "      <td>42.657501</td>\n",
       "      <td>6.055926</td>\n",
       "      <td>10.213995</td>\n",
       "      <td>5.383759</td>\n",
       "      <td>68.116445</td>\n",
       "      <td>2.257889</td>\n",
       "      <td>10.507046</td>\n",
       "      <td>0.953716</td>\n",
       "      <td>16.208849</td>\n",
       "    </tr>\n",
       "  </tbody>\n",
       "</table>\n",
       "<p>3 rows × 87 columns</p>\n",
       "</div>"
      ],
      "text/plain": [
       "                  date  rougher.input.feed_au  rougher.input.feed_ag  \\\n",
       "0  2016-01-15 00:00:00               6.486150               6.100378   \n",
       "1  2016-01-15 01:00:00               6.478583               6.161113   \n",
       "2  2016-01-15 02:00:00               6.362222               6.116455   \n",
       "\n",
       "   rougher.input.feed_pb  rougher.input.feed_sol  rougher.input.feed_rate  \\\n",
       "0               2.284912               36.808594               523.546326   \n",
       "1               2.266033               35.753385               525.290581   \n",
       "2               2.159622               35.971630               530.026610   \n",
       "\n",
       "   rougher.input.feed_size  rougher.input.floatbank10_sulfate  \\\n",
       "0                55.486599                          11.986616   \n",
       "1                57.278666                          11.971193   \n",
       "2                57.510649                          11.920603   \n",
       "\n",
       "   rougher.input.floatbank10_xanthate  rougher.state.floatbank10_a_air  ...  \\\n",
       "0                            6.007990                       999.706909  ...   \n",
       "1                            6.005766                      1000.286398  ...   \n",
       "2                            6.197377                       999.719565  ...   \n",
       "\n",
       "   secondary_cleaner.output.tail_sol  final.output.concentrate_au  \\\n",
       "0                           8.764648                    42.192020   \n",
       "1                           9.001494                    42.701629   \n",
       "2                           8.842896                    42.657501   \n",
       "\n",
       "   final.output.concentrate_ag  final.output.concentrate_pb  \\\n",
       "0                     6.055403                     9.889648   \n",
       "1                     6.029369                     9.968944   \n",
       "2                     6.055926                    10.213995   \n",
       "\n",
       "   final.output.concentrate_sol  final.output.recovery  final.output.tail_au  \\\n",
       "0                      5.507324              70.541216              2.143149   \n",
       "1                      5.257781              69.266198              2.224930   \n",
       "2                      5.383759              68.116445              2.257889   \n",
       "\n",
       "   final.output.tail_ag  final.output.tail_pb  final.output.tail_sol  \n",
       "0             10.411962              0.895447              16.904297  \n",
       "1             10.462676              0.927452              16.634514  \n",
       "2             10.507046              0.953716              16.208849  \n",
       "\n",
       "[3 rows x 87 columns]"
      ]
     },
     "metadata": {},
     "output_type": "display_data"
    },
    {
     "data": {
      "text/html": [
       "<div>\n",
       "<style scoped>\n",
       "    .dataframe tbody tr th:only-of-type {\n",
       "        vertical-align: middle;\n",
       "    }\n",
       "\n",
       "    .dataframe tbody tr th {\n",
       "        vertical-align: top;\n",
       "    }\n",
       "\n",
       "    .dataframe thead th {\n",
       "        text-align: right;\n",
       "    }\n",
       "</style>\n",
       "<table border=\"1\" class=\"dataframe\">\n",
       "  <thead>\n",
       "    <tr style=\"text-align: right;\">\n",
       "      <th></th>\n",
       "      <th>rougher.input.feed_au</th>\n",
       "      <th>rougher.input.feed_ag</th>\n",
       "      <th>rougher.input.feed_pb</th>\n",
       "      <th>rougher.input.feed_sol</th>\n",
       "      <th>rougher.input.feed_rate</th>\n",
       "      <th>rougher.input.feed_size</th>\n",
       "      <th>rougher.input.floatbank10_sulfate</th>\n",
       "      <th>rougher.input.floatbank10_xanthate</th>\n",
       "      <th>rougher.state.floatbank10_a_air</th>\n",
       "      <th>rougher.state.floatbank10_a_level</th>\n",
       "      <th>...</th>\n",
       "      <th>secondary_cleaner.output.tail_sol</th>\n",
       "      <th>final.output.concentrate_au</th>\n",
       "      <th>final.output.concentrate_ag</th>\n",
       "      <th>final.output.concentrate_pb</th>\n",
       "      <th>final.output.concentrate_sol</th>\n",
       "      <th>final.output.recovery</th>\n",
       "      <th>final.output.tail_au</th>\n",
       "      <th>final.output.tail_ag</th>\n",
       "      <th>final.output.tail_pb</th>\n",
       "      <th>final.output.tail_sol</th>\n",
       "    </tr>\n",
       "  </thead>\n",
       "  <tbody>\n",
       "    <tr>\n",
       "      <th>count</th>\n",
       "      <td>14579.000000</td>\n",
       "      <td>14579.000000</td>\n",
       "      <td>14507.000000</td>\n",
       "      <td>14502.000000</td>\n",
       "      <td>14572.000000</td>\n",
       "      <td>14478.000000</td>\n",
       "      <td>14548.000000</td>\n",
       "      <td>14572.000000</td>\n",
       "      <td>14579.000000</td>\n",
       "      <td>14579.000000</td>\n",
       "      <td>...</td>\n",
       "      <td>13659.000000</td>\n",
       "      <td>14579.000000</td>\n",
       "      <td>14578.000000</td>\n",
       "      <td>14578.000000</td>\n",
       "      <td>14387.000000</td>\n",
       "      <td>14579.000000</td>\n",
       "      <td>14579.000000</td>\n",
       "      <td>14578.000000</td>\n",
       "      <td>14504.000000</td>\n",
       "      <td>14574.000000</td>\n",
       "    </tr>\n",
       "    <tr>\n",
       "      <th>mean</th>\n",
       "      <td>8.352941</td>\n",
       "      <td>8.877460</td>\n",
       "      <td>3.604221</td>\n",
       "      <td>36.561420</td>\n",
       "      <td>474.332784</td>\n",
       "      <td>58.922712</td>\n",
       "      <td>12.427399</td>\n",
       "      <td>5.994854</td>\n",
       "      <td>1104.208278</td>\n",
       "      <td>-379.367166</td>\n",
       "      <td>...</td>\n",
       "      <td>7.111347</td>\n",
       "      <td>43.979499</td>\n",
       "      <td>5.192145</td>\n",
       "      <td>9.923809</td>\n",
       "      <td>9.566676</td>\n",
       "      <td>66.759066</td>\n",
       "      <td>3.087939</td>\n",
       "      <td>9.731972</td>\n",
       "      <td>2.719985</td>\n",
       "      <td>10.612745</td>\n",
       "    </tr>\n",
       "    <tr>\n",
       "      <th>std</th>\n",
       "      <td>1.934376</td>\n",
       "      <td>1.922536</td>\n",
       "      <td>1.056063</td>\n",
       "      <td>5.209823</td>\n",
       "      <td>108.503552</td>\n",
       "      <td>22.407410</td>\n",
       "      <td>3.428939</td>\n",
       "      <td>1.152873</td>\n",
       "      <td>162.235606</td>\n",
       "      <td>94.652311</td>\n",
       "      <td>...</td>\n",
       "      <td>3.909951</td>\n",
       "      <td>5.471437</td>\n",
       "      <td>1.388014</td>\n",
       "      <td>1.706976</td>\n",
       "      <td>2.805654</td>\n",
       "      <td>10.619709</td>\n",
       "      <td>0.915187</td>\n",
       "      <td>2.358143</td>\n",
       "      <td>0.958929</td>\n",
       "      <td>2.871075</td>\n",
       "    </tr>\n",
       "    <tr>\n",
       "      <th>min</th>\n",
       "      <td>0.010000</td>\n",
       "      <td>0.010000</td>\n",
       "      <td>0.010000</td>\n",
       "      <td>0.010000</td>\n",
       "      <td>0.002986</td>\n",
       "      <td>0.049194</td>\n",
       "      <td>0.001083</td>\n",
       "      <td>0.000568</td>\n",
       "      <td>-0.042069</td>\n",
       "      <td>-657.949759</td>\n",
       "      <td>...</td>\n",
       "      <td>0.000000</td>\n",
       "      <td>0.000000</td>\n",
       "      <td>0.000000</td>\n",
       "      <td>0.000000</td>\n",
       "      <td>0.000000</td>\n",
       "      <td>0.000000</td>\n",
       "      <td>0.000000</td>\n",
       "      <td>0.000000</td>\n",
       "      <td>0.000000</td>\n",
       "      <td>0.000000</td>\n",
       "    </tr>\n",
       "    <tr>\n",
       "      <th>25%</th>\n",
       "      <td>6.932996</td>\n",
       "      <td>7.341922</td>\n",
       "      <td>2.880490</td>\n",
       "      <td>34.093951</td>\n",
       "      <td>411.048483</td>\n",
       "      <td>47.278490</td>\n",
       "      <td>10.002832</td>\n",
       "      <td>5.304167</td>\n",
       "      <td>999.644856</td>\n",
       "      <td>-499.861797</td>\n",
       "      <td>...</td>\n",
       "      <td>3.784897</td>\n",
       "      <td>43.345906</td>\n",
       "      <td>4.283347</td>\n",
       "      <td>9.103183</td>\n",
       "      <td>7.860030</td>\n",
       "      <td>63.114596</td>\n",
       "      <td>2.505287</td>\n",
       "      <td>8.088928</td>\n",
       "      <td>2.036512</td>\n",
       "      <td>9.013412</td>\n",
       "    </tr>\n",
       "    <tr>\n",
       "      <th>50%</th>\n",
       "      <td>8.225284</td>\n",
       "      <td>8.715859</td>\n",
       "      <td>3.532399</td>\n",
       "      <td>37.097511</td>\n",
       "      <td>498.187968</td>\n",
       "      <td>54.361187</td>\n",
       "      <td>12.003320</td>\n",
       "      <td>6.003053</td>\n",
       "      <td>1000.982624</td>\n",
       "      <td>-300.314199</td>\n",
       "      <td>...</td>\n",
       "      <td>7.629968</td>\n",
       "      <td>44.975014</td>\n",
       "      <td>5.118647</td>\n",
       "      <td>10.046455</td>\n",
       "      <td>9.301970</td>\n",
       "      <td>67.962788</td>\n",
       "      <td>3.029238</td>\n",
       "      <td>9.818512</td>\n",
       "      <td>2.774847</td>\n",
       "      <td>10.670515</td>\n",
       "    </tr>\n",
       "    <tr>\n",
       "      <th>75%</th>\n",
       "      <td>9.832210</td>\n",
       "      <td>10.255843</td>\n",
       "      <td>4.257282</td>\n",
       "      <td>39.899799</td>\n",
       "      <td>549.586552</td>\n",
       "      <td>64.464926</td>\n",
       "      <td>14.929903</td>\n",
       "      <td>6.796632</td>\n",
       "      <td>1292.663971</td>\n",
       "      <td>-299.989315</td>\n",
       "      <td>...</td>\n",
       "      <td>10.367050</td>\n",
       "      <td>46.275153</td>\n",
       "      <td>5.925380</td>\n",
       "      <td>10.981203</td>\n",
       "      <td>11.001573</td>\n",
       "      <td>72.598187</td>\n",
       "      <td>3.614098</td>\n",
       "      <td>11.169187</td>\n",
       "      <td>3.353845</td>\n",
       "      <td>12.130827</td>\n",
       "    </tr>\n",
       "    <tr>\n",
       "      <th>max</th>\n",
       "      <td>13.731330</td>\n",
       "      <td>14.596026</td>\n",
       "      <td>7.052325</td>\n",
       "      <td>53.475325</td>\n",
       "      <td>717.508837</td>\n",
       "      <td>484.967466</td>\n",
       "      <td>36.118275</td>\n",
       "      <td>9.703448</td>\n",
       "      <td>1512.299531</td>\n",
       "      <td>-273.776101</td>\n",
       "      <td>...</td>\n",
       "      <td>26.000772</td>\n",
       "      <td>52.756638</td>\n",
       "      <td>16.001945</td>\n",
       "      <td>16.705297</td>\n",
       "      <td>19.423912</td>\n",
       "      <td>100.000000</td>\n",
       "      <td>8.245022</td>\n",
       "      <td>19.552149</td>\n",
       "      <td>5.804178</td>\n",
       "      <td>22.317730</td>\n",
       "    </tr>\n",
       "  </tbody>\n",
       "</table>\n",
       "<p>8 rows × 86 columns</p>\n",
       "</div>"
      ],
      "text/plain": [
       "       rougher.input.feed_au  rougher.input.feed_ag  rougher.input.feed_pb  \\\n",
       "count           14579.000000           14579.000000           14507.000000   \n",
       "mean                8.352941               8.877460               3.604221   \n",
       "std                 1.934376               1.922536               1.056063   \n",
       "min                 0.010000               0.010000               0.010000   \n",
       "25%                 6.932996               7.341922               2.880490   \n",
       "50%                 8.225284               8.715859               3.532399   \n",
       "75%                 9.832210              10.255843               4.257282   \n",
       "max                13.731330              14.596026               7.052325   \n",
       "\n",
       "       rougher.input.feed_sol  rougher.input.feed_rate  \\\n",
       "count            14502.000000             14572.000000   \n",
       "mean                36.561420               474.332784   \n",
       "std                  5.209823               108.503552   \n",
       "min                  0.010000                 0.002986   \n",
       "25%                 34.093951               411.048483   \n",
       "50%                 37.097511               498.187968   \n",
       "75%                 39.899799               549.586552   \n",
       "max                 53.475325               717.508837   \n",
       "\n",
       "       rougher.input.feed_size  rougher.input.floatbank10_sulfate  \\\n",
       "count             14478.000000                       14548.000000   \n",
       "mean                 58.922712                          12.427399   \n",
       "std                  22.407410                           3.428939   \n",
       "min                   0.049194                           0.001083   \n",
       "25%                  47.278490                          10.002832   \n",
       "50%                  54.361187                          12.003320   \n",
       "75%                  64.464926                          14.929903   \n",
       "max                 484.967466                          36.118275   \n",
       "\n",
       "       rougher.input.floatbank10_xanthate  rougher.state.floatbank10_a_air  \\\n",
       "count                        14572.000000                     14579.000000   \n",
       "mean                             5.994854                      1104.208278   \n",
       "std                              1.152873                       162.235606   \n",
       "min                              0.000568                        -0.042069   \n",
       "25%                              5.304167                       999.644856   \n",
       "50%                              6.003053                      1000.982624   \n",
       "75%                              6.796632                      1292.663971   \n",
       "max                              9.703448                      1512.299531   \n",
       "\n",
       "       rougher.state.floatbank10_a_level  ...  \\\n",
       "count                       14579.000000  ...   \n",
       "mean                         -379.367166  ...   \n",
       "std                            94.652311  ...   \n",
       "min                          -657.949759  ...   \n",
       "25%                          -499.861797  ...   \n",
       "50%                          -300.314199  ...   \n",
       "75%                          -299.989315  ...   \n",
       "max                          -273.776101  ...   \n",
       "\n",
       "       secondary_cleaner.output.tail_sol  final.output.concentrate_au  \\\n",
       "count                       13659.000000                 14579.000000   \n",
       "mean                            7.111347                    43.979499   \n",
       "std                             3.909951                     5.471437   \n",
       "min                             0.000000                     0.000000   \n",
       "25%                             3.784897                    43.345906   \n",
       "50%                             7.629968                    44.975014   \n",
       "75%                            10.367050                    46.275153   \n",
       "max                            26.000772                    52.756638   \n",
       "\n",
       "       final.output.concentrate_ag  final.output.concentrate_pb  \\\n",
       "count                 14578.000000                 14578.000000   \n",
       "mean                      5.192145                     9.923809   \n",
       "std                       1.388014                     1.706976   \n",
       "min                       0.000000                     0.000000   \n",
       "25%                       4.283347                     9.103183   \n",
       "50%                       5.118647                    10.046455   \n",
       "75%                       5.925380                    10.981203   \n",
       "max                      16.001945                    16.705297   \n",
       "\n",
       "       final.output.concentrate_sol  final.output.recovery  \\\n",
       "count                  14387.000000           14579.000000   \n",
       "mean                       9.566676              66.759066   \n",
       "std                        2.805654              10.619709   \n",
       "min                        0.000000               0.000000   \n",
       "25%                        7.860030              63.114596   \n",
       "50%                        9.301970              67.962788   \n",
       "75%                       11.001573              72.598187   \n",
       "max                       19.423912             100.000000   \n",
       "\n",
       "       final.output.tail_au  final.output.tail_ag  final.output.tail_pb  \\\n",
       "count          14579.000000          14578.000000          14504.000000   \n",
       "mean               3.087939              9.731972              2.719985   \n",
       "std                0.915187              2.358143              0.958929   \n",
       "min                0.000000              0.000000              0.000000   \n",
       "25%                2.505287              8.088928              2.036512   \n",
       "50%                3.029238              9.818512              2.774847   \n",
       "75%                3.614098             11.169187              3.353845   \n",
       "max                8.245022             19.552149              5.804178   \n",
       "\n",
       "       final.output.tail_sol  \n",
       "count           14574.000000  \n",
       "mean               10.612745  \n",
       "std                 2.871075  \n",
       "min                 0.000000  \n",
       "25%                 9.013412  \n",
       "50%                10.670515  \n",
       "75%                12.130827  \n",
       "max                22.317730  \n",
       "\n",
       "[8 rows x 86 columns]"
      ]
     },
     "metadata": {},
     "output_type": "display_data"
    },
    {
     "name": "stdout",
     "output_type": "stream",
     "text": [
      "<class 'pandas.core.frame.DataFrame'>\n",
      "RangeIndex: 14579 entries, 0 to 14578\n",
      "Data columns (total 87 columns):\n",
      " #   Column                                              Non-Null Count  Dtype  \n",
      "---  ------                                              --------------  -----  \n",
      " 0   date                                                14579 non-null  object \n",
      " 1   rougher.input.feed_au                               14579 non-null  float64\n",
      " 2   rougher.input.feed_ag                               14579 non-null  float64\n",
      " 3   rougher.input.feed_pb                               14507 non-null  float64\n",
      " 4   rougher.input.feed_sol                              14502 non-null  float64\n",
      " 5   rougher.input.feed_rate                             14572 non-null  float64\n",
      " 6   rougher.input.feed_size                             14478 non-null  float64\n",
      " 7   rougher.input.floatbank10_sulfate                   14548 non-null  float64\n",
      " 8   rougher.input.floatbank10_xanthate                  14572 non-null  float64\n",
      " 9   rougher.state.floatbank10_a_air                     14579 non-null  float64\n",
      " 10  rougher.state.floatbank10_a_level                   14579 non-null  float64\n",
      " 11  rougher.state.floatbank10_b_air                     14579 non-null  float64\n",
      " 12  rougher.state.floatbank10_b_level                   14579 non-null  float64\n",
      " 13  rougher.state.floatbank10_c_air                     14579 non-null  float64\n",
      " 14  rougher.state.floatbank10_c_level                   14579 non-null  float64\n",
      " 15  rougher.state.floatbank10_d_air                     14579 non-null  float64\n",
      " 16  rougher.state.floatbank10_d_level                   14579 non-null  float64\n",
      " 17  rougher.state.floatbank10_e_air                     14150 non-null  float64\n",
      " 18  rougher.state.floatbank10_e_level                   14579 non-null  float64\n",
      " 19  rougher.state.floatbank10_f_air                     14579 non-null  float64\n",
      " 20  rougher.state.floatbank10_f_level                   14579 non-null  float64\n",
      " 21  rougher.input.floatbank11_sulfate                   14543 non-null  float64\n",
      " 22  rougher.input.floatbank11_xanthate                  14172 non-null  float64\n",
      " 23  rougher.calculation.sulfate_to_au_concentrate       14578 non-null  float64\n",
      " 24  rougher.calculation.floatbank10_sulfate_to_au_feed  14578 non-null  float64\n",
      " 25  rougher.calculation.floatbank11_sulfate_to_au_feed  14578 non-null  float64\n",
      " 26  rougher.calculation.au_pb_ratio                     14579 non-null  float64\n",
      " 27  rougher.output.concentrate_au                       14579 non-null  float64\n",
      " 28  rougher.output.concentrate_ag                       14579 non-null  float64\n",
      " 29  rougher.output.concentrate_pb                       14579 non-null  float64\n",
      " 30  rougher.output.concentrate_sol                      14561 non-null  float64\n",
      " 31  rougher.output.recovery                             14579 non-null  float64\n",
      " 32  rougher.output.tail_au                              14579 non-null  float64\n",
      " 33  rougher.output.tail_ag                              14578 non-null  float64\n",
      " 34  rougher.output.tail_pb                              14579 non-null  float64\n",
      " 35  rougher.output.tail_sol                             14579 non-null  float64\n",
      " 36  primary_cleaner.input.sulfate                       14556 non-null  float64\n",
      " 37  primary_cleaner.input.depressant                    14551 non-null  float64\n",
      " 38  primary_cleaner.input.feed_size                     14579 non-null  float64\n",
      " 39  primary_cleaner.input.xanthate                      14518 non-null  float64\n",
      " 40  primary_cleaner.state.floatbank8_a_air              14576 non-null  float64\n",
      " 41  primary_cleaner.state.floatbank8_a_level            14579 non-null  float64\n",
      " 42  primary_cleaner.state.floatbank8_b_air              14576 non-null  float64\n",
      " 43  primary_cleaner.state.floatbank8_b_level            14579 non-null  float64\n",
      " 44  primary_cleaner.state.floatbank8_c_air              14579 non-null  float64\n",
      " 45  primary_cleaner.state.floatbank8_c_level            14579 non-null  float64\n",
      " 46  primary_cleaner.state.floatbank8_d_air              14578 non-null  float64\n",
      " 47  primary_cleaner.state.floatbank8_d_level            14579 non-null  float64\n",
      " 48  primary_cleaner.output.concentrate_au               14579 non-null  float64\n",
      " 49  primary_cleaner.output.concentrate_ag               14579 non-null  float64\n",
      " 50  primary_cleaner.output.concentrate_pb               14491 non-null  float64\n",
      " 51  primary_cleaner.output.concentrate_sol              14314 non-null  float64\n",
      " 52  primary_cleaner.output.tail_au                      14579 non-null  float64\n",
      " 53  primary_cleaner.output.tail_ag                      14575 non-null  float64\n",
      " 54  primary_cleaner.output.tail_pb                      14573 non-null  float64\n",
      " 55  primary_cleaner.output.tail_sol                     14534 non-null  float64\n",
      " 56  secondary_cleaner.state.floatbank2_a_air            14485 non-null  float64\n",
      " 57  secondary_cleaner.state.floatbank2_a_level          14579 non-null  float64\n",
      " 58  secondary_cleaner.state.floatbank2_b_air            14557 non-null  float64\n",
      " 59  secondary_cleaner.state.floatbank2_b_level          14579 non-null  float64\n",
      " 60  secondary_cleaner.state.floatbank3_a_air            14567 non-null  float64\n",
      " 61  secondary_cleaner.state.floatbank3_a_level          14579 non-null  float64\n",
      " 62  secondary_cleaner.state.floatbank3_b_air            14579 non-null  float64\n",
      " 63  secondary_cleaner.state.floatbank3_b_level          14579 non-null  float64\n",
      " 64  secondary_cleaner.state.floatbank4_a_air            14574 non-null  float64\n",
      " 65  secondary_cleaner.state.floatbank4_a_level          14579 non-null  float64\n",
      " 66  secondary_cleaner.state.floatbank4_b_air            14579 non-null  float64\n",
      " 67  secondary_cleaner.state.floatbank4_b_level          14579 non-null  float64\n",
      " 68  secondary_cleaner.state.floatbank5_a_air            14579 non-null  float64\n",
      " 69  secondary_cleaner.state.floatbank5_a_level          14579 non-null  float64\n",
      " 70  secondary_cleaner.state.floatbank5_b_air            14579 non-null  float64\n",
      " 71  secondary_cleaner.state.floatbank5_b_level          14579 non-null  float64\n",
      " 72  secondary_cleaner.state.floatbank6_a_air            14578 non-null  float64\n",
      " 73  secondary_cleaner.state.floatbank6_a_level          14579 non-null  float64\n",
      " 74  secondary_cleaner.output.tail_au                    14579 non-null  float64\n",
      " 75  secondary_cleaner.output.tail_ag                    14578 non-null  float64\n",
      " 76  secondary_cleaner.output.tail_pb                    14575 non-null  float64\n",
      " 77  secondary_cleaner.output.tail_sol                   13659 non-null  float64\n",
      " 78  final.output.concentrate_au                         14579 non-null  float64\n",
      " 79  final.output.concentrate_ag                         14578 non-null  float64\n",
      " 80  final.output.concentrate_pb                         14578 non-null  float64\n",
      " 81  final.output.concentrate_sol                        14387 non-null  float64\n",
      " 82  final.output.recovery                               14579 non-null  float64\n",
      " 83  final.output.tail_au                                14579 non-null  float64\n",
      " 84  final.output.tail_ag                                14578 non-null  float64\n",
      " 85  final.output.tail_pb                                14504 non-null  float64\n",
      " 86  final.output.tail_sol                               14574 non-null  float64\n",
      "dtypes: float64(86), object(1)\n",
      "memory usage: 9.7+ MB\n",
      "\n",
      "Количество явных дубликтов в df_train: 0\n",
      "Количество пропусков в df_train: 3050\n",
      "Доля пропусков данных: 0.24%\n",
      "==================================================\n"
     ]
    },
    {
     "data": {
      "text/plain": [
       "'DataFrame: df_test'"
      ]
     },
     "metadata": {},
     "output_type": "display_data"
    },
    {
     "data": {
      "text/html": [
       "<div>\n",
       "<style scoped>\n",
       "    .dataframe tbody tr th:only-of-type {\n",
       "        vertical-align: middle;\n",
       "    }\n",
       "\n",
       "    .dataframe tbody tr th {\n",
       "        vertical-align: top;\n",
       "    }\n",
       "\n",
       "    .dataframe thead th {\n",
       "        text-align: right;\n",
       "    }\n",
       "</style>\n",
       "<table border=\"1\" class=\"dataframe\">\n",
       "  <thead>\n",
       "    <tr style=\"text-align: right;\">\n",
       "      <th></th>\n",
       "      <th>date</th>\n",
       "      <th>rougher.input.feed_au</th>\n",
       "      <th>rougher.input.feed_ag</th>\n",
       "      <th>rougher.input.feed_pb</th>\n",
       "      <th>rougher.input.feed_sol</th>\n",
       "      <th>rougher.input.feed_rate</th>\n",
       "      <th>rougher.input.feed_size</th>\n",
       "      <th>rougher.input.floatbank10_sulfate</th>\n",
       "      <th>rougher.input.floatbank10_xanthate</th>\n",
       "      <th>rougher.state.floatbank10_a_air</th>\n",
       "      <th>...</th>\n",
       "      <th>secondary_cleaner.state.floatbank4_a_air</th>\n",
       "      <th>secondary_cleaner.state.floatbank4_a_level</th>\n",
       "      <th>secondary_cleaner.state.floatbank4_b_air</th>\n",
       "      <th>secondary_cleaner.state.floatbank4_b_level</th>\n",
       "      <th>secondary_cleaner.state.floatbank5_a_air</th>\n",
       "      <th>secondary_cleaner.state.floatbank5_a_level</th>\n",
       "      <th>secondary_cleaner.state.floatbank5_b_air</th>\n",
       "      <th>secondary_cleaner.state.floatbank5_b_level</th>\n",
       "      <th>secondary_cleaner.state.floatbank6_a_air</th>\n",
       "      <th>secondary_cleaner.state.floatbank6_a_level</th>\n",
       "    </tr>\n",
       "  </thead>\n",
       "  <tbody>\n",
       "    <tr>\n",
       "      <th>0</th>\n",
       "      <td>2017-12-09 14:59:59</td>\n",
       "      <td>4.365491</td>\n",
       "      <td>6.158718</td>\n",
       "      <td>3.875727</td>\n",
       "      <td>39.135119</td>\n",
       "      <td>555.820208</td>\n",
       "      <td>94.544358</td>\n",
       "      <td>6.146982</td>\n",
       "      <td>9.308612</td>\n",
       "      <td>1196.238112</td>\n",
       "      <td>...</td>\n",
       "      <td>23.018622</td>\n",
       "      <td>-500.492702</td>\n",
       "      <td>20.020205</td>\n",
       "      <td>-500.220296</td>\n",
       "      <td>17.963512</td>\n",
       "      <td>-499.939490</td>\n",
       "      <td>12.990306</td>\n",
       "      <td>-500.080993</td>\n",
       "      <td>19.990336</td>\n",
       "      <td>-499.191575</td>\n",
       "    </tr>\n",
       "    <tr>\n",
       "      <th>1</th>\n",
       "      <td>2017-12-09 15:59:59</td>\n",
       "      <td>4.362781</td>\n",
       "      <td>6.048130</td>\n",
       "      <td>3.902537</td>\n",
       "      <td>39.713906</td>\n",
       "      <td>544.731687</td>\n",
       "      <td>123.742430</td>\n",
       "      <td>6.210119</td>\n",
       "      <td>9.297709</td>\n",
       "      <td>1201.904177</td>\n",
       "      <td>...</td>\n",
       "      <td>23.024963</td>\n",
       "      <td>-501.153409</td>\n",
       "      <td>20.054122</td>\n",
       "      <td>-500.314711</td>\n",
       "      <td>17.979515</td>\n",
       "      <td>-499.272871</td>\n",
       "      <td>12.992404</td>\n",
       "      <td>-499.976268</td>\n",
       "      <td>20.013986</td>\n",
       "      <td>-500.625471</td>\n",
       "    </tr>\n",
       "    <tr>\n",
       "      <th>2</th>\n",
       "      <td>2017-12-09 16:59:59</td>\n",
       "      <td>5.081681</td>\n",
       "      <td>6.082745</td>\n",
       "      <td>4.564078</td>\n",
       "      <td>37.208683</td>\n",
       "      <td>558.155110</td>\n",
       "      <td>82.610855</td>\n",
       "      <td>7.363824</td>\n",
       "      <td>9.003562</td>\n",
       "      <td>1200.826926</td>\n",
       "      <td>...</td>\n",
       "      <td>22.993827</td>\n",
       "      <td>-501.559663</td>\n",
       "      <td>20.029144</td>\n",
       "      <td>-500.000662</td>\n",
       "      <td>18.012723</td>\n",
       "      <td>-500.024764</td>\n",
       "      <td>13.016445</td>\n",
       "      <td>-500.058432</td>\n",
       "      <td>19.973767</td>\n",
       "      <td>-501.394155</td>\n",
       "    </tr>\n",
       "  </tbody>\n",
       "</table>\n",
       "<p>3 rows × 53 columns</p>\n",
       "</div>"
      ],
      "text/plain": [
       "                  date  rougher.input.feed_au  rougher.input.feed_ag  \\\n",
       "0  2017-12-09 14:59:59               4.365491               6.158718   \n",
       "1  2017-12-09 15:59:59               4.362781               6.048130   \n",
       "2  2017-12-09 16:59:59               5.081681               6.082745   \n",
       "\n",
       "   rougher.input.feed_pb  rougher.input.feed_sol  rougher.input.feed_rate  \\\n",
       "0               3.875727               39.135119               555.820208   \n",
       "1               3.902537               39.713906               544.731687   \n",
       "2               4.564078               37.208683               558.155110   \n",
       "\n",
       "   rougher.input.feed_size  rougher.input.floatbank10_sulfate  \\\n",
       "0                94.544358                           6.146982   \n",
       "1               123.742430                           6.210119   \n",
       "2                82.610855                           7.363824   \n",
       "\n",
       "   rougher.input.floatbank10_xanthate  rougher.state.floatbank10_a_air  ...  \\\n",
       "0                            9.308612                      1196.238112  ...   \n",
       "1                            9.297709                      1201.904177  ...   \n",
       "2                            9.003562                      1200.826926  ...   \n",
       "\n",
       "   secondary_cleaner.state.floatbank4_a_air  \\\n",
       "0                                 23.018622   \n",
       "1                                 23.024963   \n",
       "2                                 22.993827   \n",
       "\n",
       "   secondary_cleaner.state.floatbank4_a_level  \\\n",
       "0                                 -500.492702   \n",
       "1                                 -501.153409   \n",
       "2                                 -501.559663   \n",
       "\n",
       "   secondary_cleaner.state.floatbank4_b_air  \\\n",
       "0                                 20.020205   \n",
       "1                                 20.054122   \n",
       "2                                 20.029144   \n",
       "\n",
       "   secondary_cleaner.state.floatbank4_b_level  \\\n",
       "0                                 -500.220296   \n",
       "1                                 -500.314711   \n",
       "2                                 -500.000662   \n",
       "\n",
       "   secondary_cleaner.state.floatbank5_a_air  \\\n",
       "0                                 17.963512   \n",
       "1                                 17.979515   \n",
       "2                                 18.012723   \n",
       "\n",
       "   secondary_cleaner.state.floatbank5_a_level  \\\n",
       "0                                 -499.939490   \n",
       "1                                 -499.272871   \n",
       "2                                 -500.024764   \n",
       "\n",
       "   secondary_cleaner.state.floatbank5_b_air  \\\n",
       "0                                 12.990306   \n",
       "1                                 12.992404   \n",
       "2                                 13.016445   \n",
       "\n",
       "   secondary_cleaner.state.floatbank5_b_level  \\\n",
       "0                                 -500.080993   \n",
       "1                                 -499.976268   \n",
       "2                                 -500.058432   \n",
       "\n",
       "   secondary_cleaner.state.floatbank6_a_air  \\\n",
       "0                                 19.990336   \n",
       "1                                 20.013986   \n",
       "2                                 19.973767   \n",
       "\n",
       "   secondary_cleaner.state.floatbank6_a_level  \n",
       "0                                 -499.191575  \n",
       "1                                 -500.625471  \n",
       "2                                 -501.394155  \n",
       "\n",
       "[3 rows x 53 columns]"
      ]
     },
     "metadata": {},
     "output_type": "display_data"
    },
    {
     "data": {
      "text/html": [
       "<div>\n",
       "<style scoped>\n",
       "    .dataframe tbody tr th:only-of-type {\n",
       "        vertical-align: middle;\n",
       "    }\n",
       "\n",
       "    .dataframe tbody tr th {\n",
       "        vertical-align: top;\n",
       "    }\n",
       "\n",
       "    .dataframe thead th {\n",
       "        text-align: right;\n",
       "    }\n",
       "</style>\n",
       "<table border=\"1\" class=\"dataframe\">\n",
       "  <thead>\n",
       "    <tr style=\"text-align: right;\">\n",
       "      <th></th>\n",
       "      <th>rougher.input.feed_au</th>\n",
       "      <th>rougher.input.feed_ag</th>\n",
       "      <th>rougher.input.feed_pb</th>\n",
       "      <th>rougher.input.feed_sol</th>\n",
       "      <th>rougher.input.feed_rate</th>\n",
       "      <th>rougher.input.feed_size</th>\n",
       "      <th>rougher.input.floatbank10_sulfate</th>\n",
       "      <th>rougher.input.floatbank10_xanthate</th>\n",
       "      <th>rougher.state.floatbank10_a_air</th>\n",
       "      <th>rougher.state.floatbank10_a_level</th>\n",
       "      <th>...</th>\n",
       "      <th>secondary_cleaner.state.floatbank4_a_air</th>\n",
       "      <th>secondary_cleaner.state.floatbank4_a_level</th>\n",
       "      <th>secondary_cleaner.state.floatbank4_b_air</th>\n",
       "      <th>secondary_cleaner.state.floatbank4_b_level</th>\n",
       "      <th>secondary_cleaner.state.floatbank5_a_air</th>\n",
       "      <th>secondary_cleaner.state.floatbank5_a_level</th>\n",
       "      <th>secondary_cleaner.state.floatbank5_b_air</th>\n",
       "      <th>secondary_cleaner.state.floatbank5_b_level</th>\n",
       "      <th>secondary_cleaner.state.floatbank6_a_air</th>\n",
       "      <th>secondary_cleaner.state.floatbank6_a_level</th>\n",
       "    </tr>\n",
       "  </thead>\n",
       "  <tbody>\n",
       "    <tr>\n",
       "      <th>count</th>\n",
       "      <td>4860.000000</td>\n",
       "      <td>4860.000000</td>\n",
       "      <td>4832.000000</td>\n",
       "      <td>4838.000000</td>\n",
       "      <td>4856.000000</td>\n",
       "      <td>4816.000000</td>\n",
       "      <td>4857.000000</td>\n",
       "      <td>4859.000000</td>\n",
       "      <td>4859.000000</td>\n",
       "      <td>4859.000000</td>\n",
       "      <td>...</td>\n",
       "      <td>4.859000e+03</td>\n",
       "      <td>4859.000000</td>\n",
       "      <td>4.859000e+03</td>\n",
       "      <td>4859.000000</td>\n",
       "      <td>4859.000000</td>\n",
       "      <td>4859.000000</td>\n",
       "      <td>4859.000000</td>\n",
       "      <td>4859.000000</td>\n",
       "      <td>4859.000000</td>\n",
       "      <td>4859.000000</td>\n",
       "    </tr>\n",
       "    <tr>\n",
       "      <th>mean</th>\n",
       "      <td>8.005584</td>\n",
       "      <td>8.547348</td>\n",
       "      <td>3.579662</td>\n",
       "      <td>37.095864</td>\n",
       "      <td>490.285103</td>\n",
       "      <td>59.113400</td>\n",
       "      <td>12.055735</td>\n",
       "      <td>6.101308</td>\n",
       "      <td>1108.635895</td>\n",
       "      <td>-368.340127</td>\n",
       "      <td>...</td>\n",
       "      <td>1.985770e+01</td>\n",
       "      <td>-488.665140</td>\n",
       "      <td>1.557025e+01</td>\n",
       "      <td>-464.176507</td>\n",
       "      <td>16.594103</td>\n",
       "      <td>-490.815250</td>\n",
       "      <td>12.945971</td>\n",
       "      <td>-489.583564</td>\n",
       "      <td>19.053888</td>\n",
       "      <td>-504.678924</td>\n",
       "    </tr>\n",
       "    <tr>\n",
       "      <th>std</th>\n",
       "      <td>1.993590</td>\n",
       "      <td>1.958601</td>\n",
       "      <td>1.029377</td>\n",
       "      <td>4.926284</td>\n",
       "      <td>94.371623</td>\n",
       "      <td>19.125122</td>\n",
       "      <td>3.407642</td>\n",
       "      <td>1.042754</td>\n",
       "      <td>156.493143</td>\n",
       "      <td>91.155929</td>\n",
       "      <td>...</td>\n",
       "      <td>5.913105e+00</td>\n",
       "      <td>44.392714</td>\n",
       "      <td>4.927361e+00</td>\n",
       "      <td>65.706994</td>\n",
       "      <td>5.724305</td>\n",
       "      <td>32.258443</td>\n",
       "      <td>5.533176</td>\n",
       "      <td>37.084609</td>\n",
       "      <td>5.548996</td>\n",
       "      <td>38.690186</td>\n",
       "    </tr>\n",
       "    <tr>\n",
       "      <th>min</th>\n",
       "      <td>0.010000</td>\n",
       "      <td>0.010000</td>\n",
       "      <td>0.010000</td>\n",
       "      <td>0.010000</td>\n",
       "      <td>0.012786</td>\n",
       "      <td>0.046369</td>\n",
       "      <td>0.018907</td>\n",
       "      <td>0.015783</td>\n",
       "      <td>300.792494</td>\n",
       "      <td>-600.568138</td>\n",
       "      <td>...</td>\n",
       "      <td>1.079872e-16</td>\n",
       "      <td>-799.704969</td>\n",
       "      <td>2.489718e-17</td>\n",
       "      <td>-799.860767</td>\n",
       "      <td>-0.371498</td>\n",
       "      <td>-797.142475</td>\n",
       "      <td>1.358469</td>\n",
       "      <td>-800.006180</td>\n",
       "      <td>0.160386</td>\n",
       "      <td>-809.734800</td>\n",
       "    </tr>\n",
       "    <tr>\n",
       "      <th>25%</th>\n",
       "      <td>6.574363</td>\n",
       "      <td>6.975898</td>\n",
       "      <td>2.903612</td>\n",
       "      <td>34.510841</td>\n",
       "      <td>434.099695</td>\n",
       "      <td>47.596984</td>\n",
       "      <td>9.890429</td>\n",
       "      <td>5.499808</td>\n",
       "      <td>999.715729</td>\n",
       "      <td>-499.731972</td>\n",
       "      <td>...</td>\n",
       "      <td>1.501123e+01</td>\n",
       "      <td>-500.704004</td>\n",
       "      <td>1.202172e+01</td>\n",
       "      <td>-500.196517</td>\n",
       "      <td>11.073822</td>\n",
       "      <td>-500.483564</td>\n",
       "      <td>9.011890</td>\n",
       "      <td>-500.129913</td>\n",
       "      <td>14.963953</td>\n",
       "      <td>-500.668501</td>\n",
       "    </tr>\n",
       "    <tr>\n",
       "      <th>50%</th>\n",
       "      <td>7.812923</td>\n",
       "      <td>8.179714</td>\n",
       "      <td>3.540772</td>\n",
       "      <td>37.499761</td>\n",
       "      <td>502.118742</td>\n",
       "      <td>55.509481</td>\n",
       "      <td>11.997859</td>\n",
       "      <td>6.099805</td>\n",
       "      <td>1001.414798</td>\n",
       "      <td>-300.181367</td>\n",
       "      <td>...</td>\n",
       "      <td>1.996807e+01</td>\n",
       "      <td>-499.892919</td>\n",
       "      <td>1.501240e+01</td>\n",
       "      <td>-499.540776</td>\n",
       "      <td>16.631195</td>\n",
       "      <td>-499.873136</td>\n",
       "      <td>11.999417</td>\n",
       "      <td>-499.955304</td>\n",
       "      <td>19.960006</td>\n",
       "      <td>-500.033769</td>\n",
       "    </tr>\n",
       "    <tr>\n",
       "      <th>75%</th>\n",
       "      <td>9.556589</td>\n",
       "      <td>10.084339</td>\n",
       "      <td>4.199847</td>\n",
       "      <td>40.461315</td>\n",
       "      <td>555.596563</td>\n",
       "      <td>66.661547</td>\n",
       "      <td>14.496072</td>\n",
       "      <td>6.802101</td>\n",
       "      <td>1202.837565</td>\n",
       "      <td>-299.961547</td>\n",
       "      <td>...</td>\n",
       "      <td>2.498900e+01</td>\n",
       "      <td>-498.652030</td>\n",
       "      <td>1.999949e+01</td>\n",
       "      <td>-400.302329</td>\n",
       "      <td>19.983191</td>\n",
       "      <td>-498.852815</td>\n",
       "      <td>15.004198</td>\n",
       "      <td>-499.643776</td>\n",
       "      <td>24.974583</td>\n",
       "      <td>-499.460134</td>\n",
       "    </tr>\n",
       "    <tr>\n",
       "      <th>max</th>\n",
       "      <td>13.417156</td>\n",
       "      <td>14.533698</td>\n",
       "      <td>7.142594</td>\n",
       "      <td>53.477742</td>\n",
       "      <td>702.523396</td>\n",
       "      <td>363.989699</td>\n",
       "      <td>30.010759</td>\n",
       "      <td>9.396928</td>\n",
       "      <td>1521.980372</td>\n",
       "      <td>-281.039299</td>\n",
       "      <td>...</td>\n",
       "      <td>3.008450e+01</td>\n",
       "      <td>-383.373053</td>\n",
       "      <td>2.398898e+01</td>\n",
       "      <td>-114.250832</td>\n",
       "      <td>33.215996</td>\n",
       "      <td>-288.963521</td>\n",
       "      <td>24.177106</td>\n",
       "      <td>-141.934397</td>\n",
       "      <td>32.028529</td>\n",
       "      <td>-104.427459</td>\n",
       "    </tr>\n",
       "  </tbody>\n",
       "</table>\n",
       "<p>8 rows × 52 columns</p>\n",
       "</div>"
      ],
      "text/plain": [
       "       rougher.input.feed_au  rougher.input.feed_ag  rougher.input.feed_pb  \\\n",
       "count            4860.000000            4860.000000            4832.000000   \n",
       "mean                8.005584               8.547348               3.579662   \n",
       "std                 1.993590               1.958601               1.029377   \n",
       "min                 0.010000               0.010000               0.010000   \n",
       "25%                 6.574363               6.975898               2.903612   \n",
       "50%                 7.812923               8.179714               3.540772   \n",
       "75%                 9.556589              10.084339               4.199847   \n",
       "max                13.417156              14.533698               7.142594   \n",
       "\n",
       "       rougher.input.feed_sol  rougher.input.feed_rate  \\\n",
       "count             4838.000000              4856.000000   \n",
       "mean                37.095864               490.285103   \n",
       "std                  4.926284                94.371623   \n",
       "min                  0.010000                 0.012786   \n",
       "25%                 34.510841               434.099695   \n",
       "50%                 37.499761               502.118742   \n",
       "75%                 40.461315               555.596563   \n",
       "max                 53.477742               702.523396   \n",
       "\n",
       "       rougher.input.feed_size  rougher.input.floatbank10_sulfate  \\\n",
       "count              4816.000000                        4857.000000   \n",
       "mean                 59.113400                          12.055735   \n",
       "std                  19.125122                           3.407642   \n",
       "min                   0.046369                           0.018907   \n",
       "25%                  47.596984                           9.890429   \n",
       "50%                  55.509481                          11.997859   \n",
       "75%                  66.661547                          14.496072   \n",
       "max                 363.989699                          30.010759   \n",
       "\n",
       "       rougher.input.floatbank10_xanthate  rougher.state.floatbank10_a_air  \\\n",
       "count                         4859.000000                      4859.000000   \n",
       "mean                             6.101308                      1108.635895   \n",
       "std                              1.042754                       156.493143   \n",
       "min                              0.015783                       300.792494   \n",
       "25%                              5.499808                       999.715729   \n",
       "50%                              6.099805                      1001.414798   \n",
       "75%                              6.802101                      1202.837565   \n",
       "max                              9.396928                      1521.980372   \n",
       "\n",
       "       rougher.state.floatbank10_a_level  ...  \\\n",
       "count                        4859.000000  ...   \n",
       "mean                         -368.340127  ...   \n",
       "std                            91.155929  ...   \n",
       "min                          -600.568138  ...   \n",
       "25%                          -499.731972  ...   \n",
       "50%                          -300.181367  ...   \n",
       "75%                          -299.961547  ...   \n",
       "max                          -281.039299  ...   \n",
       "\n",
       "       secondary_cleaner.state.floatbank4_a_air  \\\n",
       "count                              4.859000e+03   \n",
       "mean                               1.985770e+01   \n",
       "std                                5.913105e+00   \n",
       "min                                1.079872e-16   \n",
       "25%                                1.501123e+01   \n",
       "50%                                1.996807e+01   \n",
       "75%                                2.498900e+01   \n",
       "max                                3.008450e+01   \n",
       "\n",
       "       secondary_cleaner.state.floatbank4_a_level  \\\n",
       "count                                 4859.000000   \n",
       "mean                                  -488.665140   \n",
       "std                                     44.392714   \n",
       "min                                   -799.704969   \n",
       "25%                                   -500.704004   \n",
       "50%                                   -499.892919   \n",
       "75%                                   -498.652030   \n",
       "max                                   -383.373053   \n",
       "\n",
       "       secondary_cleaner.state.floatbank4_b_air  \\\n",
       "count                              4.859000e+03   \n",
       "mean                               1.557025e+01   \n",
       "std                                4.927361e+00   \n",
       "min                                2.489718e-17   \n",
       "25%                                1.202172e+01   \n",
       "50%                                1.501240e+01   \n",
       "75%                                1.999949e+01   \n",
       "max                                2.398898e+01   \n",
       "\n",
       "       secondary_cleaner.state.floatbank4_b_level  \\\n",
       "count                                 4859.000000   \n",
       "mean                                  -464.176507   \n",
       "std                                     65.706994   \n",
       "min                                   -799.860767   \n",
       "25%                                   -500.196517   \n",
       "50%                                   -499.540776   \n",
       "75%                                   -400.302329   \n",
       "max                                   -114.250832   \n",
       "\n",
       "       secondary_cleaner.state.floatbank5_a_air  \\\n",
       "count                               4859.000000   \n",
       "mean                                  16.594103   \n",
       "std                                    5.724305   \n",
       "min                                   -0.371498   \n",
       "25%                                   11.073822   \n",
       "50%                                   16.631195   \n",
       "75%                                   19.983191   \n",
       "max                                   33.215996   \n",
       "\n",
       "       secondary_cleaner.state.floatbank5_a_level  \\\n",
       "count                                 4859.000000   \n",
       "mean                                  -490.815250   \n",
       "std                                     32.258443   \n",
       "min                                   -797.142475   \n",
       "25%                                   -500.483564   \n",
       "50%                                   -499.873136   \n",
       "75%                                   -498.852815   \n",
       "max                                   -288.963521   \n",
       "\n",
       "       secondary_cleaner.state.floatbank5_b_air  \\\n",
       "count                               4859.000000   \n",
       "mean                                  12.945971   \n",
       "std                                    5.533176   \n",
       "min                                    1.358469   \n",
       "25%                                    9.011890   \n",
       "50%                                   11.999417   \n",
       "75%                                   15.004198   \n",
       "max                                   24.177106   \n",
       "\n",
       "       secondary_cleaner.state.floatbank5_b_level  \\\n",
       "count                                 4859.000000   \n",
       "mean                                  -489.583564   \n",
       "std                                     37.084609   \n",
       "min                                   -800.006180   \n",
       "25%                                   -500.129913   \n",
       "50%                                   -499.955304   \n",
       "75%                                   -499.643776   \n",
       "max                                   -141.934397   \n",
       "\n",
       "       secondary_cleaner.state.floatbank6_a_air  \\\n",
       "count                               4859.000000   \n",
       "mean                                  19.053888   \n",
       "std                                    5.548996   \n",
       "min                                    0.160386   \n",
       "25%                                   14.963953   \n",
       "50%                                   19.960006   \n",
       "75%                                   24.974583   \n",
       "max                                   32.028529   \n",
       "\n",
       "       secondary_cleaner.state.floatbank6_a_level  \n",
       "count                                 4859.000000  \n",
       "mean                                  -504.678924  \n",
       "std                                     38.690186  \n",
       "min                                   -809.734800  \n",
       "25%                                   -500.668501  \n",
       "50%                                   -500.033769  \n",
       "75%                                   -499.460134  \n",
       "max                                   -104.427459  \n",
       "\n",
       "[8 rows x 52 columns]"
      ]
     },
     "metadata": {},
     "output_type": "display_data"
    },
    {
     "name": "stdout",
     "output_type": "stream",
     "text": [
      "<class 'pandas.core.frame.DataFrame'>\n",
      "RangeIndex: 4860 entries, 0 to 4859\n",
      "Data columns (total 53 columns):\n",
      " #   Column                                      Non-Null Count  Dtype  \n",
      "---  ------                                      --------------  -----  \n",
      " 0   date                                        4860 non-null   object \n",
      " 1   rougher.input.feed_au                       4860 non-null   float64\n",
      " 2   rougher.input.feed_ag                       4860 non-null   float64\n",
      " 3   rougher.input.feed_pb                       4832 non-null   float64\n",
      " 4   rougher.input.feed_sol                      4838 non-null   float64\n",
      " 5   rougher.input.feed_rate                     4856 non-null   float64\n",
      " 6   rougher.input.feed_size                     4816 non-null   float64\n",
      " 7   rougher.input.floatbank10_sulfate           4857 non-null   float64\n",
      " 8   rougher.input.floatbank10_xanthate          4859 non-null   float64\n",
      " 9   rougher.state.floatbank10_a_air             4859 non-null   float64\n",
      " 10  rougher.state.floatbank10_a_level           4859 non-null   float64\n",
      " 11  rougher.state.floatbank10_b_air             4859 non-null   float64\n",
      " 12  rougher.state.floatbank10_b_level           4859 non-null   float64\n",
      " 13  rougher.state.floatbank10_c_air             4859 non-null   float64\n",
      " 14  rougher.state.floatbank10_c_level           4859 non-null   float64\n",
      " 15  rougher.state.floatbank10_d_air             4860 non-null   float64\n",
      " 16  rougher.state.floatbank10_d_level           4860 non-null   float64\n",
      " 17  rougher.state.floatbank10_e_air             4853 non-null   float64\n",
      " 18  rougher.state.floatbank10_e_level           4860 non-null   float64\n",
      " 19  rougher.state.floatbank10_f_air             4860 non-null   float64\n",
      " 20  rougher.state.floatbank10_f_level           4860 non-null   float64\n",
      " 21  rougher.input.floatbank11_sulfate           4852 non-null   float64\n",
      " 22  rougher.input.floatbank11_xanthate          4814 non-null   float64\n",
      " 23  primary_cleaner.input.sulfate               4859 non-null   float64\n",
      " 24  primary_cleaner.input.depressant            4851 non-null   float64\n",
      " 25  primary_cleaner.input.feed_size             4860 non-null   float64\n",
      " 26  primary_cleaner.input.xanthate              4817 non-null   float64\n",
      " 27  primary_cleaner.state.floatbank8_a_air      4859 non-null   float64\n",
      " 28  primary_cleaner.state.floatbank8_a_level    4859 non-null   float64\n",
      " 29  primary_cleaner.state.floatbank8_b_air      4859 non-null   float64\n",
      " 30  primary_cleaner.state.floatbank8_b_level    4859 non-null   float64\n",
      " 31  primary_cleaner.state.floatbank8_c_air      4858 non-null   float64\n",
      " 32  primary_cleaner.state.floatbank8_c_level    4859 non-null   float64\n",
      " 33  primary_cleaner.state.floatbank8_d_air      4858 non-null   float64\n",
      " 34  primary_cleaner.state.floatbank8_d_level    4859 non-null   float64\n",
      " 35  secondary_cleaner.state.floatbank2_a_air    4734 non-null   float64\n",
      " 36  secondary_cleaner.state.floatbank2_a_level  4859 non-null   float64\n",
      " 37  secondary_cleaner.state.floatbank2_b_air    4859 non-null   float64\n",
      " 38  secondary_cleaner.state.floatbank2_b_level  4859 non-null   float64\n",
      " 39  secondary_cleaner.state.floatbank3_a_air    4859 non-null   float64\n",
      " 40  secondary_cleaner.state.floatbank3_a_level  4859 non-null   float64\n",
      " 41  secondary_cleaner.state.floatbank3_b_air    4859 non-null   float64\n",
      " 42  secondary_cleaner.state.floatbank3_b_level  4859 non-null   float64\n",
      " 43  secondary_cleaner.state.floatbank4_a_air    4859 non-null   float64\n",
      " 44  secondary_cleaner.state.floatbank4_a_level  4859 non-null   float64\n",
      " 45  secondary_cleaner.state.floatbank4_b_air    4859 non-null   float64\n",
      " 46  secondary_cleaner.state.floatbank4_b_level  4859 non-null   float64\n",
      " 47  secondary_cleaner.state.floatbank5_a_air    4859 non-null   float64\n",
      " 48  secondary_cleaner.state.floatbank5_a_level  4859 non-null   float64\n",
      " 49  secondary_cleaner.state.floatbank5_b_air    4859 non-null   float64\n",
      " 50  secondary_cleaner.state.floatbank5_b_level  4859 non-null   float64\n",
      " 51  secondary_cleaner.state.floatbank6_a_air    4859 non-null   float64\n",
      " 52  secondary_cleaner.state.floatbank6_a_level  4859 non-null   float64\n",
      "dtypes: float64(52), object(1)\n",
      "memory usage: 2.0+ MB\n",
      "\n",
      "Количество явных дубликтов в df_test: 0\n",
      "Количество пропусков в df_test: 375\n",
      "Доля пропусков данных: 0.15%\n",
      "==================================================\n"
     ]
    },
    {
     "data": {
      "text/plain": [
       "'DataFrame: df_full'"
      ]
     },
     "metadata": {},
     "output_type": "display_data"
    },
    {
     "data": {
      "text/html": [
       "<div>\n",
       "<style scoped>\n",
       "    .dataframe tbody tr th:only-of-type {\n",
       "        vertical-align: middle;\n",
       "    }\n",
       "\n",
       "    .dataframe tbody tr th {\n",
       "        vertical-align: top;\n",
       "    }\n",
       "\n",
       "    .dataframe thead th {\n",
       "        text-align: right;\n",
       "    }\n",
       "</style>\n",
       "<table border=\"1\" class=\"dataframe\">\n",
       "  <thead>\n",
       "    <tr style=\"text-align: right;\">\n",
       "      <th></th>\n",
       "      <th>date</th>\n",
       "      <th>rougher.input.feed_au</th>\n",
       "      <th>rougher.input.feed_ag</th>\n",
       "      <th>rougher.input.feed_pb</th>\n",
       "      <th>rougher.input.feed_sol</th>\n",
       "      <th>rougher.input.feed_rate</th>\n",
       "      <th>rougher.input.feed_size</th>\n",
       "      <th>rougher.input.floatbank10_sulfate</th>\n",
       "      <th>rougher.input.floatbank10_xanthate</th>\n",
       "      <th>rougher.state.floatbank10_a_air</th>\n",
       "      <th>...</th>\n",
       "      <th>secondary_cleaner.output.tail_sol</th>\n",
       "      <th>final.output.concentrate_au</th>\n",
       "      <th>final.output.concentrate_ag</th>\n",
       "      <th>final.output.concentrate_pb</th>\n",
       "      <th>final.output.concentrate_sol</th>\n",
       "      <th>final.output.recovery</th>\n",
       "      <th>final.output.tail_au</th>\n",
       "      <th>final.output.tail_ag</th>\n",
       "      <th>final.output.tail_pb</th>\n",
       "      <th>final.output.tail_sol</th>\n",
       "    </tr>\n",
       "  </thead>\n",
       "  <tbody>\n",
       "    <tr>\n",
       "      <th>0</th>\n",
       "      <td>2016-01-15 00:00:00</td>\n",
       "      <td>6.486150</td>\n",
       "      <td>6.100378</td>\n",
       "      <td>2.284912</td>\n",
       "      <td>36.808594</td>\n",
       "      <td>523.546326</td>\n",
       "      <td>55.486599</td>\n",
       "      <td>11.986616</td>\n",
       "      <td>6.007990</td>\n",
       "      <td>999.706909</td>\n",
       "      <td>...</td>\n",
       "      <td>8.764648</td>\n",
       "      <td>42.192020</td>\n",
       "      <td>6.055403</td>\n",
       "      <td>9.889648</td>\n",
       "      <td>5.507324</td>\n",
       "      <td>70.541216</td>\n",
       "      <td>2.143149</td>\n",
       "      <td>10.411962</td>\n",
       "      <td>0.895447</td>\n",
       "      <td>16.904297</td>\n",
       "    </tr>\n",
       "    <tr>\n",
       "      <th>1</th>\n",
       "      <td>2016-01-15 01:00:00</td>\n",
       "      <td>6.478583</td>\n",
       "      <td>6.161113</td>\n",
       "      <td>2.266033</td>\n",
       "      <td>35.753385</td>\n",
       "      <td>525.290581</td>\n",
       "      <td>57.278666</td>\n",
       "      <td>11.971193</td>\n",
       "      <td>6.005766</td>\n",
       "      <td>1000.286398</td>\n",
       "      <td>...</td>\n",
       "      <td>9.001494</td>\n",
       "      <td>42.701629</td>\n",
       "      <td>6.029369</td>\n",
       "      <td>9.968944</td>\n",
       "      <td>5.257781</td>\n",
       "      <td>69.266198</td>\n",
       "      <td>2.224930</td>\n",
       "      <td>10.462676</td>\n",
       "      <td>0.927452</td>\n",
       "      <td>16.634514</td>\n",
       "    </tr>\n",
       "    <tr>\n",
       "      <th>2</th>\n",
       "      <td>2016-01-15 02:00:00</td>\n",
       "      <td>6.362222</td>\n",
       "      <td>6.116455</td>\n",
       "      <td>2.159622</td>\n",
       "      <td>35.971630</td>\n",
       "      <td>530.026610</td>\n",
       "      <td>57.510649</td>\n",
       "      <td>11.920603</td>\n",
       "      <td>6.197377</td>\n",
       "      <td>999.719565</td>\n",
       "      <td>...</td>\n",
       "      <td>8.842896</td>\n",
       "      <td>42.657501</td>\n",
       "      <td>6.055926</td>\n",
       "      <td>10.213995</td>\n",
       "      <td>5.383759</td>\n",
       "      <td>68.116445</td>\n",
       "      <td>2.257889</td>\n",
       "      <td>10.507046</td>\n",
       "      <td>0.953716</td>\n",
       "      <td>16.208849</td>\n",
       "    </tr>\n",
       "  </tbody>\n",
       "</table>\n",
       "<p>3 rows × 87 columns</p>\n",
       "</div>"
      ],
      "text/plain": [
       "                  date  rougher.input.feed_au  rougher.input.feed_ag  \\\n",
       "0  2016-01-15 00:00:00               6.486150               6.100378   \n",
       "1  2016-01-15 01:00:00               6.478583               6.161113   \n",
       "2  2016-01-15 02:00:00               6.362222               6.116455   \n",
       "\n",
       "   rougher.input.feed_pb  rougher.input.feed_sol  rougher.input.feed_rate  \\\n",
       "0               2.284912               36.808594               523.546326   \n",
       "1               2.266033               35.753385               525.290581   \n",
       "2               2.159622               35.971630               530.026610   \n",
       "\n",
       "   rougher.input.feed_size  rougher.input.floatbank10_sulfate  \\\n",
       "0                55.486599                          11.986616   \n",
       "1                57.278666                          11.971193   \n",
       "2                57.510649                          11.920603   \n",
       "\n",
       "   rougher.input.floatbank10_xanthate  rougher.state.floatbank10_a_air  ...  \\\n",
       "0                            6.007990                       999.706909  ...   \n",
       "1                            6.005766                      1000.286398  ...   \n",
       "2                            6.197377                       999.719565  ...   \n",
       "\n",
       "   secondary_cleaner.output.tail_sol  final.output.concentrate_au  \\\n",
       "0                           8.764648                    42.192020   \n",
       "1                           9.001494                    42.701629   \n",
       "2                           8.842896                    42.657501   \n",
       "\n",
       "   final.output.concentrate_ag  final.output.concentrate_pb  \\\n",
       "0                     6.055403                     9.889648   \n",
       "1                     6.029369                     9.968944   \n",
       "2                     6.055926                    10.213995   \n",
       "\n",
       "   final.output.concentrate_sol  final.output.recovery  final.output.tail_au  \\\n",
       "0                      5.507324              70.541216              2.143149   \n",
       "1                      5.257781              69.266198              2.224930   \n",
       "2                      5.383759              68.116445              2.257889   \n",
       "\n",
       "   final.output.tail_ag  final.output.tail_pb  final.output.tail_sol  \n",
       "0             10.411962              0.895447              16.904297  \n",
       "1             10.462676              0.927452              16.634514  \n",
       "2             10.507046              0.953716              16.208849  \n",
       "\n",
       "[3 rows x 87 columns]"
      ]
     },
     "metadata": {},
     "output_type": "display_data"
    },
    {
     "data": {
      "text/html": [
       "<div>\n",
       "<style scoped>\n",
       "    .dataframe tbody tr th:only-of-type {\n",
       "        vertical-align: middle;\n",
       "    }\n",
       "\n",
       "    .dataframe tbody tr th {\n",
       "        vertical-align: top;\n",
       "    }\n",
       "\n",
       "    .dataframe thead th {\n",
       "        text-align: right;\n",
       "    }\n",
       "</style>\n",
       "<table border=\"1\" class=\"dataframe\">\n",
       "  <thead>\n",
       "    <tr style=\"text-align: right;\">\n",
       "      <th></th>\n",
       "      <th>rougher.input.feed_au</th>\n",
       "      <th>rougher.input.feed_ag</th>\n",
       "      <th>rougher.input.feed_pb</th>\n",
       "      <th>rougher.input.feed_sol</th>\n",
       "      <th>rougher.input.feed_rate</th>\n",
       "      <th>rougher.input.feed_size</th>\n",
       "      <th>rougher.input.floatbank10_sulfate</th>\n",
       "      <th>rougher.input.floatbank10_xanthate</th>\n",
       "      <th>rougher.state.floatbank10_a_air</th>\n",
       "      <th>rougher.state.floatbank10_a_level</th>\n",
       "      <th>...</th>\n",
       "      <th>secondary_cleaner.output.tail_sol</th>\n",
       "      <th>final.output.concentrate_au</th>\n",
       "      <th>final.output.concentrate_ag</th>\n",
       "      <th>final.output.concentrate_pb</th>\n",
       "      <th>final.output.concentrate_sol</th>\n",
       "      <th>final.output.recovery</th>\n",
       "      <th>final.output.tail_au</th>\n",
       "      <th>final.output.tail_ag</th>\n",
       "      <th>final.output.tail_pb</th>\n",
       "      <th>final.output.tail_sol</th>\n",
       "    </tr>\n",
       "  </thead>\n",
       "  <tbody>\n",
       "    <tr>\n",
       "      <th>count</th>\n",
       "      <td>19439.000000</td>\n",
       "      <td>19439.000000</td>\n",
       "      <td>19339.000000</td>\n",
       "      <td>19340.000000</td>\n",
       "      <td>19428.000000</td>\n",
       "      <td>19294.000000</td>\n",
       "      <td>19405.000000</td>\n",
       "      <td>19431.000000</td>\n",
       "      <td>19438.000000</td>\n",
       "      <td>19438.000000</td>\n",
       "      <td>...</td>\n",
       "      <td>17691.000000</td>\n",
       "      <td>19439.000000</td>\n",
       "      <td>19438.000000</td>\n",
       "      <td>19438.000000</td>\n",
       "      <td>19228.000000</td>\n",
       "      <td>19439.000000</td>\n",
       "      <td>19439.000000</td>\n",
       "      <td>19438.000000</td>\n",
       "      <td>19338.000000</td>\n",
       "      <td>19433.000000</td>\n",
       "    </tr>\n",
       "    <tr>\n",
       "      <th>mean</th>\n",
       "      <td>8.266097</td>\n",
       "      <td>8.794927</td>\n",
       "      <td>3.598085</td>\n",
       "      <td>36.695114</td>\n",
       "      <td>478.320042</td>\n",
       "      <td>58.970310</td>\n",
       "      <td>12.334373</td>\n",
       "      <td>6.021474</td>\n",
       "      <td>1105.315068</td>\n",
       "      <td>-376.610690</td>\n",
       "      <td>...</td>\n",
       "      <td>7.167247</td>\n",
       "      <td>44.076513</td>\n",
       "      <td>5.168470</td>\n",
       "      <td>9.978895</td>\n",
       "      <td>9.501224</td>\n",
       "      <td>67.050208</td>\n",
       "      <td>3.042467</td>\n",
       "      <td>9.688589</td>\n",
       "      <td>2.705795</td>\n",
       "      <td>10.583728</td>\n",
       "    </tr>\n",
       "    <tr>\n",
       "      <th>std</th>\n",
       "      <td>1.955092</td>\n",
       "      <td>1.936847</td>\n",
       "      <td>1.049486</td>\n",
       "      <td>5.145445</td>\n",
       "      <td>105.373758</td>\n",
       "      <td>21.634478</td>\n",
       "      <td>3.427317</td>\n",
       "      <td>1.127263</td>\n",
       "      <td>160.826798</td>\n",
       "      <td>93.909667</td>\n",
       "      <td>...</td>\n",
       "      <td>3.916079</td>\n",
       "      <td>5.129784</td>\n",
       "      <td>1.372348</td>\n",
       "      <td>1.669240</td>\n",
       "      <td>2.787537</td>\n",
       "      <td>10.125840</td>\n",
       "      <td>0.922808</td>\n",
       "      <td>2.328642</td>\n",
       "      <td>0.949077</td>\n",
       "      <td>2.868782</td>\n",
       "    </tr>\n",
       "    <tr>\n",
       "      <th>min</th>\n",
       "      <td>0.010000</td>\n",
       "      <td>0.010000</td>\n",
       "      <td>0.010000</td>\n",
       "      <td>0.010000</td>\n",
       "      <td>0.002986</td>\n",
       "      <td>0.046369</td>\n",
       "      <td>0.001083</td>\n",
       "      <td>0.000568</td>\n",
       "      <td>-0.042069</td>\n",
       "      <td>-657.949759</td>\n",
       "      <td>...</td>\n",
       "      <td>0.000000</td>\n",
       "      <td>0.000000</td>\n",
       "      <td>0.000000</td>\n",
       "      <td>0.000000</td>\n",
       "      <td>0.000000</td>\n",
       "      <td>0.000000</td>\n",
       "      <td>0.000000</td>\n",
       "      <td>0.000000</td>\n",
       "      <td>0.000000</td>\n",
       "      <td>0.000000</td>\n",
       "    </tr>\n",
       "    <tr>\n",
       "      <th>25%</th>\n",
       "      <td>6.854384</td>\n",
       "      <td>7.237967</td>\n",
       "      <td>2.887280</td>\n",
       "      <td>34.207799</td>\n",
       "      <td>416.525453</td>\n",
       "      <td>47.435103</td>\n",
       "      <td>10.000362</td>\n",
       "      <td>5.398678</td>\n",
       "      <td>999.661867</td>\n",
       "      <td>-499.835165</td>\n",
       "      <td>...</td>\n",
       "      <td>3.845475</td>\n",
       "      <td>43.402215</td>\n",
       "      <td>4.251240</td>\n",
       "      <td>9.137262</td>\n",
       "      <td>7.722820</td>\n",
       "      <td>63.299712</td>\n",
       "      <td>2.461138</td>\n",
       "      <td>8.062878</td>\n",
       "      <td>2.040119</td>\n",
       "      <td>8.938947</td>\n",
       "    </tr>\n",
       "    <tr>\n",
       "      <th>50%</th>\n",
       "      <td>8.125839</td>\n",
       "      <td>8.593574</td>\n",
       "      <td>3.534895</td>\n",
       "      <td>37.202650</td>\n",
       "      <td>499.416120</td>\n",
       "      <td>54.610197</td>\n",
       "      <td>12.001174</td>\n",
       "      <td>6.008273</td>\n",
       "      <td>1001.072890</td>\n",
       "      <td>-300.263994</td>\n",
       "      <td>...</td>\n",
       "      <td>7.685827</td>\n",
       "      <td>45.011244</td>\n",
       "      <td>5.066094</td>\n",
       "      <td>10.102433</td>\n",
       "      <td>9.218961</td>\n",
       "      <td>68.172738</td>\n",
       "      <td>2.984909</td>\n",
       "      <td>9.743623</td>\n",
       "      <td>2.748730</td>\n",
       "      <td>10.622456</td>\n",
       "    </tr>\n",
       "    <tr>\n",
       "      <th>75%</th>\n",
       "      <td>9.769917</td>\n",
       "      <td>10.213771</td>\n",
       "      <td>4.244161</td>\n",
       "      <td>40.039133</td>\n",
       "      <td>550.172183</td>\n",
       "      <td>65.023044</td>\n",
       "      <td>14.716595</td>\n",
       "      <td>6.798051</td>\n",
       "      <td>1205.620588</td>\n",
       "      <td>-299.981998</td>\n",
       "      <td>...</td>\n",
       "      <td>10.411296</td>\n",
       "      <td>46.275313</td>\n",
       "      <td>5.895527</td>\n",
       "      <td>11.035769</td>\n",
       "      <td>10.947813</td>\n",
       "      <td>72.686642</td>\n",
       "      <td>3.571351</td>\n",
       "      <td>11.134294</td>\n",
       "      <td>3.333216</td>\n",
       "      <td>12.104271</td>\n",
       "    </tr>\n",
       "    <tr>\n",
       "      <th>max</th>\n",
       "      <td>13.731330</td>\n",
       "      <td>14.596026</td>\n",
       "      <td>7.142594</td>\n",
       "      <td>53.477742</td>\n",
       "      <td>717.508837</td>\n",
       "      <td>484.967466</td>\n",
       "      <td>36.118275</td>\n",
       "      <td>9.703448</td>\n",
       "      <td>1521.980372</td>\n",
       "      <td>-273.776101</td>\n",
       "      <td>...</td>\n",
       "      <td>26.000772</td>\n",
       "      <td>52.756638</td>\n",
       "      <td>16.001945</td>\n",
       "      <td>17.031899</td>\n",
       "      <td>19.615720</td>\n",
       "      <td>100.000000</td>\n",
       "      <td>8.245022</td>\n",
       "      <td>19.552149</td>\n",
       "      <td>5.804178</td>\n",
       "      <td>22.317730</td>\n",
       "    </tr>\n",
       "  </tbody>\n",
       "</table>\n",
       "<p>8 rows × 86 columns</p>\n",
       "</div>"
      ],
      "text/plain": [
       "       rougher.input.feed_au  rougher.input.feed_ag  rougher.input.feed_pb  \\\n",
       "count           19439.000000           19439.000000           19339.000000   \n",
       "mean                8.266097               8.794927               3.598085   \n",
       "std                 1.955092               1.936847               1.049486   \n",
       "min                 0.010000               0.010000               0.010000   \n",
       "25%                 6.854384               7.237967               2.887280   \n",
       "50%                 8.125839               8.593574               3.534895   \n",
       "75%                 9.769917              10.213771               4.244161   \n",
       "max                13.731330              14.596026               7.142594   \n",
       "\n",
       "       rougher.input.feed_sol  rougher.input.feed_rate  \\\n",
       "count            19340.000000             19428.000000   \n",
       "mean                36.695114               478.320042   \n",
       "std                  5.145445               105.373758   \n",
       "min                  0.010000                 0.002986   \n",
       "25%                 34.207799               416.525453   \n",
       "50%                 37.202650               499.416120   \n",
       "75%                 40.039133               550.172183   \n",
       "max                 53.477742               717.508837   \n",
       "\n",
       "       rougher.input.feed_size  rougher.input.floatbank10_sulfate  \\\n",
       "count             19294.000000                       19405.000000   \n",
       "mean                 58.970310                          12.334373   \n",
       "std                  21.634478                           3.427317   \n",
       "min                   0.046369                           0.001083   \n",
       "25%                  47.435103                          10.000362   \n",
       "50%                  54.610197                          12.001174   \n",
       "75%                  65.023044                          14.716595   \n",
       "max                 484.967466                          36.118275   \n",
       "\n",
       "       rougher.input.floatbank10_xanthate  rougher.state.floatbank10_a_air  \\\n",
       "count                        19431.000000                     19438.000000   \n",
       "mean                             6.021474                      1105.315068   \n",
       "std                              1.127263                       160.826798   \n",
       "min                              0.000568                        -0.042069   \n",
       "25%                              5.398678                       999.661867   \n",
       "50%                              6.008273                      1001.072890   \n",
       "75%                              6.798051                      1205.620588   \n",
       "max                              9.703448                      1521.980372   \n",
       "\n",
       "       rougher.state.floatbank10_a_level  ...  \\\n",
       "count                       19438.000000  ...   \n",
       "mean                         -376.610690  ...   \n",
       "std                            93.909667  ...   \n",
       "min                          -657.949759  ...   \n",
       "25%                          -499.835165  ...   \n",
       "50%                          -300.263994  ...   \n",
       "75%                          -299.981998  ...   \n",
       "max                          -273.776101  ...   \n",
       "\n",
       "       secondary_cleaner.output.tail_sol  final.output.concentrate_au  \\\n",
       "count                       17691.000000                 19439.000000   \n",
       "mean                            7.167247                    44.076513   \n",
       "std                             3.916079                     5.129784   \n",
       "min                             0.000000                     0.000000   \n",
       "25%                             3.845475                    43.402215   \n",
       "50%                             7.685827                    45.011244   \n",
       "75%                            10.411296                    46.275313   \n",
       "max                            26.000772                    52.756638   \n",
       "\n",
       "       final.output.concentrate_ag  final.output.concentrate_pb  \\\n",
       "count                 19438.000000                 19438.000000   \n",
       "mean                      5.168470                     9.978895   \n",
       "std                       1.372348                     1.669240   \n",
       "min                       0.000000                     0.000000   \n",
       "25%                       4.251240                     9.137262   \n",
       "50%                       5.066094                    10.102433   \n",
       "75%                       5.895527                    11.035769   \n",
       "max                      16.001945                    17.031899   \n",
       "\n",
       "       final.output.concentrate_sol  final.output.recovery  \\\n",
       "count                  19228.000000           19439.000000   \n",
       "mean                       9.501224              67.050208   \n",
       "std                        2.787537              10.125840   \n",
       "min                        0.000000               0.000000   \n",
       "25%                        7.722820              63.299712   \n",
       "50%                        9.218961              68.172738   \n",
       "75%                       10.947813              72.686642   \n",
       "max                       19.615720             100.000000   \n",
       "\n",
       "       final.output.tail_au  final.output.tail_ag  final.output.tail_pb  \\\n",
       "count          19439.000000          19438.000000          19338.000000   \n",
       "mean               3.042467              9.688589              2.705795   \n",
       "std                0.922808              2.328642              0.949077   \n",
       "min                0.000000              0.000000              0.000000   \n",
       "25%                2.461138              8.062878              2.040119   \n",
       "50%                2.984909              9.743623              2.748730   \n",
       "75%                3.571351             11.134294              3.333216   \n",
       "max                8.245022             19.552149              5.804178   \n",
       "\n",
       "       final.output.tail_sol  \n",
       "count           19433.000000  \n",
       "mean               10.583728  \n",
       "std                 2.868782  \n",
       "min                 0.000000  \n",
       "25%                 8.938947  \n",
       "50%                10.622456  \n",
       "75%                12.104271  \n",
       "max                22.317730  \n",
       "\n",
       "[8 rows x 86 columns]"
      ]
     },
     "metadata": {},
     "output_type": "display_data"
    },
    {
     "name": "stdout",
     "output_type": "stream",
     "text": [
      "<class 'pandas.core.frame.DataFrame'>\n",
      "RangeIndex: 19439 entries, 0 to 19438\n",
      "Data columns (total 87 columns):\n",
      " #   Column                                              Non-Null Count  Dtype  \n",
      "---  ------                                              --------------  -----  \n",
      " 0   date                                                19439 non-null  object \n",
      " 1   rougher.input.feed_au                               19439 non-null  float64\n",
      " 2   rougher.input.feed_ag                               19439 non-null  float64\n",
      " 3   rougher.input.feed_pb                               19339 non-null  float64\n",
      " 4   rougher.input.feed_sol                              19340 non-null  float64\n",
      " 5   rougher.input.feed_rate                             19428 non-null  float64\n",
      " 6   rougher.input.feed_size                             19294 non-null  float64\n",
      " 7   rougher.input.floatbank10_sulfate                   19405 non-null  float64\n",
      " 8   rougher.input.floatbank10_xanthate                  19431 non-null  float64\n",
      " 9   rougher.state.floatbank10_a_air                     19438 non-null  float64\n",
      " 10  rougher.state.floatbank10_a_level                   19438 non-null  float64\n",
      " 11  rougher.state.floatbank10_b_air                     19438 non-null  float64\n",
      " 12  rougher.state.floatbank10_b_level                   19438 non-null  float64\n",
      " 13  rougher.state.floatbank10_c_air                     19438 non-null  float64\n",
      " 14  rougher.state.floatbank10_c_level                   19438 non-null  float64\n",
      " 15  rougher.state.floatbank10_d_air                     19439 non-null  float64\n",
      " 16  rougher.state.floatbank10_d_level                   19439 non-null  float64\n",
      " 17  rougher.state.floatbank10_e_air                     19003 non-null  float64\n",
      " 18  rougher.state.floatbank10_e_level                   19439 non-null  float64\n",
      " 19  rougher.state.floatbank10_f_air                     19439 non-null  float64\n",
      " 20  rougher.state.floatbank10_f_level                   19439 non-null  float64\n",
      " 21  rougher.input.floatbank11_sulfate                   19395 non-null  float64\n",
      " 22  rougher.input.floatbank11_xanthate                  18986 non-null  float64\n",
      " 23  rougher.calculation.sulfate_to_au_concentrate       19437 non-null  float64\n",
      " 24  rougher.calculation.floatbank10_sulfate_to_au_feed  19437 non-null  float64\n",
      " 25  rougher.calculation.floatbank11_sulfate_to_au_feed  19437 non-null  float64\n",
      " 26  rougher.calculation.au_pb_ratio                     19439 non-null  float64\n",
      " 27  rougher.output.concentrate_au                       19439 non-null  float64\n",
      " 28  rougher.output.concentrate_ag                       19439 non-null  float64\n",
      " 29  rougher.output.concentrate_pb                       19439 non-null  float64\n",
      " 30  rougher.output.concentrate_sol                      19416 non-null  float64\n",
      " 31  rougher.output.recovery                             19439 non-null  float64\n",
      " 32  rougher.output.tail_au                              19439 non-null  float64\n",
      " 33  rougher.output.tail_ag                              19438 non-null  float64\n",
      " 34  rougher.output.tail_pb                              19439 non-null  float64\n",
      " 35  rougher.output.tail_sol                             19439 non-null  float64\n",
      " 36  primary_cleaner.input.sulfate                       19415 non-null  float64\n",
      " 37  primary_cleaner.input.depressant                    19402 non-null  float64\n",
      " 38  primary_cleaner.input.feed_size                     19439 non-null  float64\n",
      " 39  primary_cleaner.input.xanthate                      19335 non-null  float64\n",
      " 40  primary_cleaner.state.floatbank8_a_air              19435 non-null  float64\n",
      " 41  primary_cleaner.state.floatbank8_a_level            19438 non-null  float64\n",
      " 42  primary_cleaner.state.floatbank8_b_air              19435 non-null  float64\n",
      " 43  primary_cleaner.state.floatbank8_b_level            19438 non-null  float64\n",
      " 44  primary_cleaner.state.floatbank8_c_air              19437 non-null  float64\n",
      " 45  primary_cleaner.state.floatbank8_c_level            19438 non-null  float64\n",
      " 46  primary_cleaner.state.floatbank8_d_air              19436 non-null  float64\n",
      " 47  primary_cleaner.state.floatbank8_d_level            19438 non-null  float64\n",
      " 48  primary_cleaner.output.concentrate_au               19439 non-null  float64\n",
      " 49  primary_cleaner.output.concentrate_ag               19439 non-null  float64\n",
      " 50  primary_cleaner.output.concentrate_pb               19323 non-null  float64\n",
      " 51  primary_cleaner.output.concentrate_sol              19069 non-null  float64\n",
      " 52  primary_cleaner.output.tail_au                      19439 non-null  float64\n",
      " 53  primary_cleaner.output.tail_ag                      19435 non-null  float64\n",
      " 54  primary_cleaner.output.tail_pb                      19418 non-null  float64\n",
      " 55  primary_cleaner.output.tail_sol                     19377 non-null  float64\n",
      " 56  secondary_cleaner.state.floatbank2_a_air            19219 non-null  float64\n",
      " 57  secondary_cleaner.state.floatbank2_a_level          19438 non-null  float64\n",
      " 58  secondary_cleaner.state.floatbank2_b_air            19416 non-null  float64\n",
      " 59  secondary_cleaner.state.floatbank2_b_level          19438 non-null  float64\n",
      " 60  secondary_cleaner.state.floatbank3_a_air            19426 non-null  float64\n",
      " 61  secondary_cleaner.state.floatbank3_a_level          19438 non-null  float64\n",
      " 62  secondary_cleaner.state.floatbank3_b_air            19438 non-null  float64\n",
      " 63  secondary_cleaner.state.floatbank3_b_level          19438 non-null  float64\n",
      " 64  secondary_cleaner.state.floatbank4_a_air            19433 non-null  float64\n",
      " 65  secondary_cleaner.state.floatbank4_a_level          19438 non-null  float64\n",
      " 66  secondary_cleaner.state.floatbank4_b_air            19438 non-null  float64\n",
      " 67  secondary_cleaner.state.floatbank4_b_level          19438 non-null  float64\n",
      " 68  secondary_cleaner.state.floatbank5_a_air            19438 non-null  float64\n",
      " 69  secondary_cleaner.state.floatbank5_a_level          19438 non-null  float64\n",
      " 70  secondary_cleaner.state.floatbank5_b_air            19438 non-null  float64\n",
      " 71  secondary_cleaner.state.floatbank5_b_level          19438 non-null  float64\n",
      " 72  secondary_cleaner.state.floatbank6_a_air            19437 non-null  float64\n",
      " 73  secondary_cleaner.state.floatbank6_a_level          19438 non-null  float64\n",
      " 74  secondary_cleaner.output.tail_au                    19439 non-null  float64\n",
      " 75  secondary_cleaner.output.tail_ag                    19437 non-null  float64\n",
      " 76  secondary_cleaner.output.tail_pb                    19427 non-null  float64\n",
      " 77  secondary_cleaner.output.tail_sol                   17691 non-null  float64\n",
      " 78  final.output.concentrate_au                         19439 non-null  float64\n",
      " 79  final.output.concentrate_ag                         19438 non-null  float64\n",
      " 80  final.output.concentrate_pb                         19438 non-null  float64\n",
      " 81  final.output.concentrate_sol                        19228 non-null  float64\n",
      " 82  final.output.recovery                               19439 non-null  float64\n",
      " 83  final.output.tail_au                                19439 non-null  float64\n",
      " 84  final.output.tail_ag                                19438 non-null  float64\n",
      " 85  final.output.tail_pb                                19338 non-null  float64\n",
      " 86  final.output.tail_sol                               19433 non-null  float64\n",
      "dtypes: float64(86), object(1)\n",
      "memory usage: 12.9+ MB\n",
      "\n",
      "Количество явных дубликтов в df_full: 0\n",
      "Количество пропусков в df_full: 4481\n",
      "Доля пропусков данных: 0.26%\n",
      "==================================================\n"
     ]
    }
   ],
   "source": [
    "for df_name, df in zip([\"df_train\", \"df_test\", \"df_full\"], dataframes):\n",
    "    display(f\"DataFrame: {df_name}\")\n",
    "    display(df.head(3))\n",
    "    display(df.describe())\n",
    "    df.info()\n",
    "    print()\n",
    "    print(f\"Количество явных дубликтов в {df_name}:\",\n",
    "          df.duplicated().sum())\n",
    "    print(f\"Количество пропусков в {df_name}:\",\n",
    "          df.isna().sum().sum())\n",
    "    print('Доля пропусков данных: {0:.2%}'\n",
    "          .format(df.isna().sum().sum() / (df.shape[0] * df.shape[1])))\n",
    "    print(\"=\" * 50)"
   ]
  },
  {
   "cell_type": "markdown",
   "metadata": {},
   "source": [
    "В распоряжении три датасета:\n",
    "\n",
    "- df_train - обучающая выборка исходных данных, состоящая из 86 столбцов, дубликаты отсутствуют, доля пропусков данных: 0.24%.\n",
    "- df_test - тестовая выборка исходных данных, состоящая из 52 столбцов, дубликаты отсутствуют, доля пропусков данных: 0.15%.\n",
    "- df_full - таблица с исходными данными, состоящая из 86 столбцов, дубликаты отсутствуют, доля пропусков данных: 0.26%\n",
    "\n",
    "В тестовой выборке отсутствуют некоторые признаки, которые есть в обучающей. Также в тестовом наборе нет целевых признаков, поэтому количество столбцов в ней меньше."
   ]
  },
  {
   "cell_type": "markdown",
   "metadata": {},
   "source": [
    "### Проверим, правильно ли рассчитана эффективность обогащения "
   ]
  },
  {
   "cell_type": "markdown",
   "metadata": {},
   "source": [
    "Необходимо смоделировать процесс восстановления золота из золотосодержащей руды.\n",
    "Эффективность обогащения рассчитывается по формуле\n",
    "\n",
    "$$Recovery = \\cfrac{C * (F - T)}{F * (C - T)} * 100\\% $$\n",
    "\n",
    "\n",
    "где:\n",
    "- C — доля золота в концентрате после флотации/очистки;\n",
    "- F — доля золота в сырье/концентрате до флотации/очистки;\n",
    "- T — доля золота в отвальных хвостах после флотации/очистки.\n",
    "\n",
    "Для прогноза коэффициента нужно найти долю золота в концентратах и хвостах. Причём важен не только финальный продукт, но и черновой концентрат."
   ]
  },
  {
   "cell_type": "code",
   "execution_count": 6,
   "metadata": {
    "scrolled": false
   },
   "outputs": [
    {
     "data": {
      "text/html": [
       "<div>\n",
       "<style scoped>\n",
       "    .dataframe tbody tr th:only-of-type {\n",
       "        vertical-align: middle;\n",
       "    }\n",
       "\n",
       "    .dataframe tbody tr th {\n",
       "        vertical-align: top;\n",
       "    }\n",
       "\n",
       "    .dataframe thead th {\n",
       "        text-align: right;\n",
       "    }\n",
       "</style>\n",
       "<table border=\"1\" class=\"dataframe\">\n",
       "  <thead>\n",
       "    <tr style=\"text-align: right;\">\n",
       "      <th></th>\n",
       "      <th>rougher.output.concentrate_au</th>\n",
       "      <th>rougher.input.feed_au</th>\n",
       "      <th>rougher.output.tail_au</th>\n",
       "      <th>rougher.output.recovery</th>\n",
       "    </tr>\n",
       "  </thead>\n",
       "  <tbody>\n",
       "    <tr>\n",
       "      <th>0</th>\n",
       "      <td>19.793808</td>\n",
       "      <td>6.486150</td>\n",
       "      <td>1.170244</td>\n",
       "      <td>87.107763</td>\n",
       "    </tr>\n",
       "    <tr>\n",
       "      <th>1</th>\n",
       "      <td>20.050975</td>\n",
       "      <td>6.478583</td>\n",
       "      <td>1.184827</td>\n",
       "      <td>86.843261</td>\n",
       "    </tr>\n",
       "    <tr>\n",
       "      <th>2</th>\n",
       "      <td>19.737170</td>\n",
       "      <td>6.362222</td>\n",
       "      <td>1.162562</td>\n",
       "      <td>86.842308</td>\n",
       "    </tr>\n",
       "  </tbody>\n",
       "</table>\n",
       "</div>"
      ],
      "text/plain": [
       "   rougher.output.concentrate_au  rougher.input.feed_au  \\\n",
       "0                      19.793808               6.486150   \n",
       "1                      20.050975               6.478583   \n",
       "2                      19.737170               6.362222   \n",
       "\n",
       "   rougher.output.tail_au  rougher.output.recovery  \n",
       "0                1.170244                87.107763  \n",
       "1                1.184827                86.843261  \n",
       "2                1.162562                86.842308  "
      ]
     },
     "execution_count": 6,
     "metadata": {},
     "output_type": "execute_result"
    }
   ],
   "source": [
    "df_recovery = df_train[[\n",
    "        'rougher.output.concentrate_au',\n",
    "        'rougher.input.feed_au',\n",
    "        'rougher.output.tail_au',\n",
    "        'rougher.output.recovery']]\n",
    "\n",
    "\n",
    "df_recovery.head(3)"
   ]
  },
  {
   "cell_type": "code",
   "execution_count": 7,
   "metadata": {},
   "outputs": [],
   "source": [
    "# Объявим функцию по расчёту recovery\n",
    "def recovery(c,f,t):\n",
    "    return ((c * (f - t)) / (f * (c - t))) * 100"
   ]
  },
  {
   "cell_type": "markdown",
   "metadata": {},
   "source": [
    "Добавим в наш новый датасет столбец с вычисленными значениями по формуле recovery"
   ]
  },
  {
   "cell_type": "code",
   "execution_count": 8,
   "metadata": {},
   "outputs": [
    {
     "data": {
      "text/html": [
       "<div>\n",
       "<style scoped>\n",
       "    .dataframe tbody tr th:only-of-type {\n",
       "        vertical-align: middle;\n",
       "    }\n",
       "\n",
       "    .dataframe tbody tr th {\n",
       "        vertical-align: top;\n",
       "    }\n",
       "\n",
       "    .dataframe thead th {\n",
       "        text-align: right;\n",
       "    }\n",
       "</style>\n",
       "<table border=\"1\" class=\"dataframe\">\n",
       "  <thead>\n",
       "    <tr style=\"text-align: right;\">\n",
       "      <th></th>\n",
       "      <th>rougher.output.concentrate_au</th>\n",
       "      <th>rougher.input.feed_au</th>\n",
       "      <th>rougher.output.tail_au</th>\n",
       "      <th>calculate_recovery</th>\n",
       "      <th>rougher.output.recovery</th>\n",
       "    </tr>\n",
       "  </thead>\n",
       "  <tbody>\n",
       "    <tr>\n",
       "      <th>0</th>\n",
       "      <td>19.793808</td>\n",
       "      <td>6.486150</td>\n",
       "      <td>1.170244</td>\n",
       "      <td>87.107763</td>\n",
       "      <td>87.107763</td>\n",
       "    </tr>\n",
       "    <tr>\n",
       "      <th>1</th>\n",
       "      <td>20.050975</td>\n",
       "      <td>6.478583</td>\n",
       "      <td>1.184827</td>\n",
       "      <td>86.843261</td>\n",
       "      <td>86.843261</td>\n",
       "    </tr>\n",
       "    <tr>\n",
       "      <th>2</th>\n",
       "      <td>19.737170</td>\n",
       "      <td>6.362222</td>\n",
       "      <td>1.162562</td>\n",
       "      <td>86.842308</td>\n",
       "      <td>86.842308</td>\n",
       "    </tr>\n",
       "  </tbody>\n",
       "</table>\n",
       "</div>"
      ],
      "text/plain": [
       "   rougher.output.concentrate_au  rougher.input.feed_au  \\\n",
       "0                      19.793808               6.486150   \n",
       "1                      20.050975               6.478583   \n",
       "2                      19.737170               6.362222   \n",
       "\n",
       "   rougher.output.tail_au  calculate_recovery  rougher.output.recovery  \n",
       "0                1.170244           87.107763                87.107763  \n",
       "1                1.184827           86.843261                86.843261  \n",
       "2                1.162562           86.842308                86.842308  "
      ]
     },
     "execution_count": 8,
     "metadata": {},
     "output_type": "execute_result"
    }
   ],
   "source": [
    "df_recovery.insert(\n",
    "    3,\n",
    "    column='calculate_recovery',\n",
    "    value=recovery(\n",
    "        df_recovery['rougher.output.concentrate_au'],\n",
    "        df_recovery['rougher.input.feed_au'],\n",
    "        df_recovery['rougher.output.tail_au']\n",
    "    )\n",
    ")\n",
    "\n",
    "df_recovery.head(3)"
   ]
  },
  {
   "cell_type": "code",
   "execution_count": 9,
   "metadata": {},
   "outputs": [
    {
     "name": "stdout",
     "output_type": "stream",
     "text": [
      "MAE эффективности обогащения = 9.83758577644259e-15\n"
     ]
    }
   ],
   "source": [
    "# Выведем MAE\n",
    "mae = mean_absolute_error(df_recovery['rougher.output.recovery'], df_recovery['calculate_recovery'])\n",
    "print(f'MAE эффективности обогащения = {mae}')"
   ]
  },
  {
   "cell_type": "markdown",
   "metadata": {},
   "source": [
    "Значение МАЕ получилось очень низким. Следовательно, проверка рассчета эффективности обогащения показала, что данные в таблице верные."
   ]
  },
  {
   "cell_type": "markdown",
   "metadata": {},
   "source": [
    "### Признаки, недоступные в тестовой выборке."
   ]
  },
  {
   "cell_type": "code",
   "execution_count": 10,
   "metadata": {},
   "outputs": [
    {
     "data": {
      "text/plain": [
       "Index(['final.output.concentrate_ag', 'final.output.concentrate_au',\n",
       "       'final.output.concentrate_pb', 'final.output.concentrate_sol',\n",
       "       'final.output.recovery', 'final.output.tail_ag', 'final.output.tail_au',\n",
       "       'final.output.tail_pb', 'final.output.tail_sol',\n",
       "       'primary_cleaner.output.concentrate_ag',\n",
       "       'primary_cleaner.output.concentrate_au',\n",
       "       'primary_cleaner.output.concentrate_pb',\n",
       "       'primary_cleaner.output.concentrate_sol',\n",
       "       'primary_cleaner.output.tail_ag', 'primary_cleaner.output.tail_au',\n",
       "       'primary_cleaner.output.tail_pb', 'primary_cleaner.output.tail_sol',\n",
       "       'rougher.calculation.au_pb_ratio',\n",
       "       'rougher.calculation.floatbank10_sulfate_to_au_feed',\n",
       "       'rougher.calculation.floatbank11_sulfate_to_au_feed',\n",
       "       'rougher.calculation.sulfate_to_au_concentrate',\n",
       "       'rougher.output.concentrate_ag', 'rougher.output.concentrate_au',\n",
       "       'rougher.output.concentrate_pb', 'rougher.output.concentrate_sol',\n",
       "       'rougher.output.recovery', 'rougher.output.tail_ag',\n",
       "       'rougher.output.tail_au', 'rougher.output.tail_pb',\n",
       "       'rougher.output.tail_sol', 'secondary_cleaner.output.tail_ag',\n",
       "       'secondary_cleaner.output.tail_au', 'secondary_cleaner.output.tail_pb',\n",
       "       'secondary_cleaner.output.tail_sol'],\n",
       "      dtype='object')"
      ]
     },
     "execution_count": 10,
     "metadata": {},
     "output_type": "execute_result"
    }
   ],
   "source": [
    "df_train.columns.difference(df_test.columns)"
   ]
  },
  {
   "cell_type": "markdown",
   "metadata": {},
   "source": [
    "В тестовых данных отсутствуют признаки с типом параметра `output` (параметры продукта) и `calculation` (расчётные характеристики). По условии задачи некоторые параметры замеряются и/или рассчитываются значительно позже."
   ]
  },
  {
   "cell_type": "markdown",
   "metadata": {},
   "source": [
    "### Проведём предобработку данных"
   ]
  },
  {
   "cell_type": "markdown",
   "metadata": {},
   "source": [
    "Как мы уже выяснили в начале исследования, во всех фреймах признак с датой не имеет соответствующего формата. Исправим это"
   ]
  },
  {
   "cell_type": "code",
   "execution_count": 11,
   "metadata": {},
   "outputs": [],
   "source": [
    "for df in dataframes:\n",
    "    df['date'] = pd.to_datetime(df['date'])"
   ]
  },
  {
   "cell_type": "code",
   "execution_count": 12,
   "metadata": {},
   "outputs": [
    {
     "data": {
      "text/plain": [
       "(date    datetime64[ns]\n",
       " dtype: object,\n",
       " date    datetime64[ns]\n",
       " dtype: object,\n",
       " date    datetime64[ns]\n",
       " dtype: object)"
      ]
     },
     "execution_count": 12,
     "metadata": {},
     "output_type": "execute_result"
    }
   ],
   "source": [
    "# Проверим изменения\n",
    "(\n",
    "    df_full.dtypes[:1],\n",
    "    df_train.dtypes[:1],\n",
    "    df_test.dtypes[:1]\n",
    ")"
   ]
  },
  {
   "cell_type": "markdown",
   "metadata": {},
   "source": [
    "Добавим целевые признаки в тестовую выборку"
   ]
  },
  {
   "cell_type": "code",
   "execution_count": 13,
   "metadata": {},
   "outputs": [],
   "source": [
    "df_test = df_test.merge(df_full[['date', 'rougher.output.recovery', 'final.output.recovery']], how='left', on='date')"
   ]
  },
  {
   "cell_type": "code",
   "execution_count": 14,
   "metadata": {
    "tags": []
   },
   "outputs": [
    {
     "data": {
      "text/html": [
       "<div>\n",
       "<style scoped>\n",
       "    .dataframe tbody tr th:only-of-type {\n",
       "        vertical-align: middle;\n",
       "    }\n",
       "\n",
       "    .dataframe tbody tr th {\n",
       "        vertical-align: top;\n",
       "    }\n",
       "\n",
       "    .dataframe thead th {\n",
       "        text-align: right;\n",
       "    }\n",
       "</style>\n",
       "<table border=\"1\" class=\"dataframe\">\n",
       "  <thead>\n",
       "    <tr style=\"text-align: right;\">\n",
       "      <th></th>\n",
       "      <th>date</th>\n",
       "      <th>rougher.input.feed_au</th>\n",
       "      <th>rougher.input.feed_ag</th>\n",
       "      <th>rougher.input.feed_pb</th>\n",
       "      <th>rougher.input.feed_sol</th>\n",
       "      <th>rougher.input.feed_rate</th>\n",
       "      <th>rougher.input.feed_size</th>\n",
       "      <th>rougher.input.floatbank10_sulfate</th>\n",
       "      <th>rougher.input.floatbank10_xanthate</th>\n",
       "      <th>rougher.state.floatbank10_a_air</th>\n",
       "      <th>...</th>\n",
       "      <th>secondary_cleaner.state.floatbank4_b_air</th>\n",
       "      <th>secondary_cleaner.state.floatbank4_b_level</th>\n",
       "      <th>secondary_cleaner.state.floatbank5_a_air</th>\n",
       "      <th>secondary_cleaner.state.floatbank5_a_level</th>\n",
       "      <th>secondary_cleaner.state.floatbank5_b_air</th>\n",
       "      <th>secondary_cleaner.state.floatbank5_b_level</th>\n",
       "      <th>secondary_cleaner.state.floatbank6_a_air</th>\n",
       "      <th>secondary_cleaner.state.floatbank6_a_level</th>\n",
       "      <th>rougher.output.recovery</th>\n",
       "      <th>final.output.recovery</th>\n",
       "    </tr>\n",
       "  </thead>\n",
       "  <tbody>\n",
       "    <tr>\n",
       "      <th>0</th>\n",
       "      <td>2017-12-09 14:59:59</td>\n",
       "      <td>4.365491</td>\n",
       "      <td>6.158718</td>\n",
       "      <td>3.875727</td>\n",
       "      <td>39.135119</td>\n",
       "      <td>555.820208</td>\n",
       "      <td>94.544358</td>\n",
       "      <td>6.146982</td>\n",
       "      <td>9.308612</td>\n",
       "      <td>1196.238112</td>\n",
       "      <td>...</td>\n",
       "      <td>20.020205</td>\n",
       "      <td>-500.220296</td>\n",
       "      <td>17.963512</td>\n",
       "      <td>-499.939490</td>\n",
       "      <td>12.990306</td>\n",
       "      <td>-500.080993</td>\n",
       "      <td>19.990336</td>\n",
       "      <td>-499.191575</td>\n",
       "      <td>89.514960</td>\n",
       "      <td>70.281454</td>\n",
       "    </tr>\n",
       "    <tr>\n",
       "      <th>1</th>\n",
       "      <td>2017-12-09 15:59:59</td>\n",
       "      <td>4.362781</td>\n",
       "      <td>6.048130</td>\n",
       "      <td>3.902537</td>\n",
       "      <td>39.713906</td>\n",
       "      <td>544.731687</td>\n",
       "      <td>123.742430</td>\n",
       "      <td>6.210119</td>\n",
       "      <td>9.297709</td>\n",
       "      <td>1201.904177</td>\n",
       "      <td>...</td>\n",
       "      <td>20.054122</td>\n",
       "      <td>-500.314711</td>\n",
       "      <td>17.979515</td>\n",
       "      <td>-499.272871</td>\n",
       "      <td>12.992404</td>\n",
       "      <td>-499.976268</td>\n",
       "      <td>20.013986</td>\n",
       "      <td>-500.625471</td>\n",
       "      <td>89.858126</td>\n",
       "      <td>65.523246</td>\n",
       "    </tr>\n",
       "    <tr>\n",
       "      <th>2</th>\n",
       "      <td>2017-12-09 16:59:59</td>\n",
       "      <td>5.081681</td>\n",
       "      <td>6.082745</td>\n",
       "      <td>4.564078</td>\n",
       "      <td>37.208683</td>\n",
       "      <td>558.155110</td>\n",
       "      <td>82.610855</td>\n",
       "      <td>7.363824</td>\n",
       "      <td>9.003562</td>\n",
       "      <td>1200.826926</td>\n",
       "      <td>...</td>\n",
       "      <td>20.029144</td>\n",
       "      <td>-500.000662</td>\n",
       "      <td>18.012723</td>\n",
       "      <td>-500.024764</td>\n",
       "      <td>13.016445</td>\n",
       "      <td>-500.058432</td>\n",
       "      <td>19.973767</td>\n",
       "      <td>-501.394155</td>\n",
       "      <td>91.816623</td>\n",
       "      <td>74.817644</td>\n",
       "    </tr>\n",
       "  </tbody>\n",
       "</table>\n",
       "<p>3 rows × 55 columns</p>\n",
       "</div>"
      ],
      "text/plain": [
       "                 date  rougher.input.feed_au  rougher.input.feed_ag  \\\n",
       "0 2017-12-09 14:59:59               4.365491               6.158718   \n",
       "1 2017-12-09 15:59:59               4.362781               6.048130   \n",
       "2 2017-12-09 16:59:59               5.081681               6.082745   \n",
       "\n",
       "   rougher.input.feed_pb  rougher.input.feed_sol  rougher.input.feed_rate  \\\n",
       "0               3.875727               39.135119               555.820208   \n",
       "1               3.902537               39.713906               544.731687   \n",
       "2               4.564078               37.208683               558.155110   \n",
       "\n",
       "   rougher.input.feed_size  rougher.input.floatbank10_sulfate  \\\n",
       "0                94.544358                           6.146982   \n",
       "1               123.742430                           6.210119   \n",
       "2                82.610855                           7.363824   \n",
       "\n",
       "   rougher.input.floatbank10_xanthate  rougher.state.floatbank10_a_air  ...  \\\n",
       "0                            9.308612                      1196.238112  ...   \n",
       "1                            9.297709                      1201.904177  ...   \n",
       "2                            9.003562                      1200.826926  ...   \n",
       "\n",
       "   secondary_cleaner.state.floatbank4_b_air  \\\n",
       "0                                 20.020205   \n",
       "1                                 20.054122   \n",
       "2                                 20.029144   \n",
       "\n",
       "   secondary_cleaner.state.floatbank4_b_level  \\\n",
       "0                                 -500.220296   \n",
       "1                                 -500.314711   \n",
       "2                                 -500.000662   \n",
       "\n",
       "   secondary_cleaner.state.floatbank5_a_air  \\\n",
       "0                                 17.963512   \n",
       "1                                 17.979515   \n",
       "2                                 18.012723   \n",
       "\n",
       "   secondary_cleaner.state.floatbank5_a_level  \\\n",
       "0                                 -499.939490   \n",
       "1                                 -499.272871   \n",
       "2                                 -500.024764   \n",
       "\n",
       "   secondary_cleaner.state.floatbank5_b_air  \\\n",
       "0                                 12.990306   \n",
       "1                                 12.992404   \n",
       "2                                 13.016445   \n",
       "\n",
       "   secondary_cleaner.state.floatbank5_b_level  \\\n",
       "0                                 -500.080993   \n",
       "1                                 -499.976268   \n",
       "2                                 -500.058432   \n",
       "\n",
       "   secondary_cleaner.state.floatbank6_a_air  \\\n",
       "0                                 19.990336   \n",
       "1                                 20.013986   \n",
       "2                                 19.973767   \n",
       "\n",
       "   secondary_cleaner.state.floatbank6_a_level  rougher.output.recovery  \\\n",
       "0                                 -499.191575                89.514960   \n",
       "1                                 -500.625471                89.858126   \n",
       "2                                 -501.394155                91.816623   \n",
       "\n",
       "   final.output.recovery  \n",
       "0              70.281454  \n",
       "1              65.523246  \n",
       "2              74.817644  \n",
       "\n",
       "[3 rows x 55 columns]"
      ]
     },
     "execution_count": 14,
     "metadata": {},
     "output_type": "execute_result"
    }
   ],
   "source": [
    "df_test.head(3)"
   ]
  },
  {
   "cell_type": "markdown",
   "metadata": {},
   "source": [
    "Заполним пропуски в данных методом `forward_fill`, то есть будем брать предыдущее значение для заполнения последующего *Nan'а*"
   ]
  },
  {
   "cell_type": "code",
   "execution_count": 15,
   "metadata": {},
   "outputs": [],
   "source": [
    "df_full = df_full.fillna(method='ffill')\n",
    "df_train = df_train.fillna(method='ffill')\n",
    "df_test = df_test.fillna(method='ffill')"
   ]
  },
  {
   "cell_type": "markdown",
   "metadata": {},
   "source": [
    "Проверим результат работы"
   ]
  },
  {
   "cell_type": "code",
   "execution_count": 16,
   "metadata": {},
   "outputs": [
    {
     "data": {
      "text/plain": [
       "0"
      ]
     },
     "execution_count": 16,
     "metadata": {},
     "output_type": "execute_result"
    }
   ],
   "source": [
    "df_test.isna().sum().sum() + df_full.isna().sum().sum() + df_train.isna().sum().sum()"
   ]
  },
  {
   "cell_type": "markdown",
   "metadata": {},
   "source": [
    "### Вывод"
   ]
  },
  {
   "cell_type": "markdown",
   "metadata": {},
   "source": [
    "В распоряжении три датасета:\n",
    "\n",
    "df_train - обучающая выборка исходных данных, состоящая из 86 столбцов, дубликаты отсутствуют, доля пропусков данных: 0.24%.\n",
    "df_test - тестовая выборка исходных данных, состоящая из 52 столбцов, дубликаты отсутствуют, доля пропусков данных: 0.15%.\n",
    "df_full - таблица с исходными данными, состоящая из 86 столбцов, дубликаты отсутствуют, доля пропусков данных: 0.26%\n",
    "В тестовой выборке отсутствуют некоторые признаки, которые есть в обучающей. Также в тестовом наборе нет целевых признаков, поэтому количество столбцов в ней меньше.\n",
    "\n",
    "Для оптимальной работы при построении моделей мы добавили таргеты в тестовую выборку, а из тренировочной убрали колонки, которых не было в тестовой. Также мы перевели тип данных признака даты в соответствующий формат и заполнили пропуски во всех выборках методом forward_fill "
   ]
  },
  {
   "cell_type": "markdown",
   "metadata": {},
   "source": [
    "## Анализ данных"
   ]
  },
  {
   "cell_type": "markdown",
   "metadata": {},
   "source": [
    "### Анализ изменений концентрации металлов"
   ]
  },
  {
   "cell_type": "markdown",
   "metadata": {},
   "source": [
    "Посмотрим, как меняется концентрация металлов (Au, Ag, Pb) на различных этапах: в сырье, в черновом концентрате, в концентрате после первой очистки и в финальном концентрате."
   ]
  },
  {
   "cell_type": "code",
   "execution_count": 17,
   "metadata": {},
   "outputs": [
    {
     "data": {
      "image/png": "[encoded data removed]",
      "text/plain": [
       "<Figure size 1100x400 with 1 Axes>"
      ]
     },
     "metadata": {},
     "output_type": "display_data"
    },
    {
     "data": {
      "image/png": "[encoded data removed]",
      "text/plain": [
       "<Figure size 1100x400 with 1 Axes>"
      ]
     },
     "metadata": {},
     "output_type": "display_data"
    },
    {
     "data": {
      "image/png": "[encoded data removed]",
      "text/plain": [
       "<Figure size 1100x400 with 1 Axes>"
      ]
     },
     "metadata": {},
     "output_type": "display_data"
    }
   ],
   "source": [
    "metals = ['au', 'ag', 'pb']\n",
    "\n",
    "def plot_metal_distribution(df, metal):\n",
    "    plt.figure(figsize=(11, 4))\n",
    "    columns = [f'rougher.input.feed_{metal}',\n",
    "               f'rougher.output.concentrate_{metal}',\n",
    "               f'primary_cleaner.output.concentrate_{metal}',\n",
    "               f'final.output.concentrate_{metal}']\n",
    "    \n",
    "    labels = ['Исходное сырье', 'После флотации', 'После первой очистки', 'Финальный продукт']\n",
    "    \n",
    "    for col, label in zip(columns, labels):\n",
    "            plt.hist(df[col], alpha=.5, bins=30, label=label, edgecolor='black')\n",
    "    \n",
    "    plt.title(f'Распределение для {metal}')\n",
    "    plt.xlabel('Концентрация')\n",
    "    plt.ylabel('Кол-во значений')\n",
    "    plt.legend()\n",
    "    plt.show()\n",
    "\n",
    "for metal in metals:\n",
    "    plot_metal_distribution(df_train, metal)"
   ]
  },
  {
   "cell_type": "markdown",
   "metadata": {},
   "source": [
    "По динамике концентраций металлов по этапам обработки следует отметить следующее:\n",
    "- концентрация золота увеличивается от этапа к этапу\n",
    "- наибольшая концентрация серебра проявляется на этапе флотации, когда получаем черновой концентрат. Далее концентрация падает вплоть до финальной очистки.\n",
    "- концентрация свинца является наименьшей на этапе флотации, на этапах первичной и финальной очистки концентрация практически одинакова.\n",
    "\n",
    "Распределение концентраций металлов на каждом этапе обработки близко к нормальному. На диаграммах присутствуют значительные выбросы около нулевого значения."
   ]
  },
  {
   "cell_type": "markdown",
   "metadata": {},
   "source": [
    "### Сравнение распределения размеров гранул сырья"
   ]
  },
  {
   "cell_type": "markdown",
   "metadata": {},
   "source": [
    "Сравним распределения размеров гранул исходного сырья на обучающей и тестовой выборках."
   ]
  },
  {
   "cell_type": "code",
   "execution_count": 18,
   "metadata": {},
   "outputs": [
    {
     "data": {
      "image/png": "[encoded data removed]",
      "text/plain": [
       "<Figure size 640x480 with 1 Axes>"
      ]
     },
     "metadata": {},
     "output_type": "display_data"
    }
   ],
   "source": [
    "train_feed_size = df_train[['rougher.input.feed_size', 'primary_cleaner.input.feed_size']]\n",
    "test_feed_size = df_test[['rougher.input.feed_size', 'primary_cleaner.input.feed_size']]\n",
    "\n",
    "for df in [train_feed_size, test_feed_size]:\n",
    "    plt.hist(df['rougher.input.feed_size'], bins=30, alpha=.5, edgecolor='white', density=True)\n",
    "    plt.xlabel('Размер гранул')\n",
    "    plt.xlim(0, 200)\n",
    "    plt.ylabel('Кол-во значений')\n",
    "    plt.title('Исходное сырье')"
   ]
  },
  {
   "cell_type": "code",
   "execution_count": 19,
   "metadata": {},
   "outputs": [
    {
     "data": {
      "image/png": "[encoded data removed]",
      "text/plain": [
       "<Figure size 640x480 with 1 Axes>"
      ]
     },
     "metadata": {},
     "output_type": "display_data"
    }
   ],
   "source": [
    "for df in [train_feed_size, test_feed_size]:\n",
    "    plt.hist(df['primary_cleaner.input.feed_size'], bins=30, alpha=.5, edgecolor='white', density=True)\n",
    "    plt.xlabel('Размер гранул')\n",
    "    plt.xlim(4, 10)\n",
    "    plt.ylabel('Кол-во значений')\n",
    "    plt.title('После флотации')"
   ]
  },
  {
   "cell_type": "markdown",
   "metadata": {},
   "source": [
    "На диаграмме видно, что распределения размеров гранул сырья на обучающих и тестовых данных очень похожи, а значит, оценка нашей будущей модели будет верной"
   ]
  },
  {
   "cell_type": "markdown",
   "metadata": {},
   "source": [
    "### Анализ суммарной концентрации металлов на разных стадиях"
   ]
  },
  {
   "cell_type": "code",
   "execution_count": 20,
   "metadata": {},
   "outputs": [],
   "source": [
    "sum_rougher_input = df_train[[\n",
    "    'rougher.input.feed_ag',\n",
    "    'rougher.input.feed_au',\n",
    "    'rougher.input.feed_pb',\n",
    "    'rougher.input.feed_sol']].sum(axis=1)\n",
    "\n",
    "sum_rougher_output = df_train[[\n",
    "    'rougher.output.concentrate_ag',\n",
    "    'rougher.output.concentrate_au',\n",
    "    'rougher.output.concentrate_pb',\n",
    "    'rougher.output.concentrate_sol']].sum(axis=1)\n",
    "\n",
    "sum_primary_output = df_train[[\n",
    "    'primary_cleaner.output.concentrate_ag',\n",
    "    'primary_cleaner.output.concentrate_au',\n",
    "    'primary_cleaner.output.concentrate_pb',\n",
    "    'primary_cleaner.output.concentrate_sol']].sum(axis=1)\n",
    "\n",
    "sum_final_output = df_train[[\n",
    "    'final.output.concentrate_ag',\n",
    "    'final.output.concentrate_au',\n",
    "    'final.output.concentrate_pb',\n",
    "    'final.output.concentrate_sol']].sum(axis=1)\n"
   ]
  },
  {
   "cell_type": "code",
   "execution_count": 21,
   "metadata": {},
   "outputs": [
    {
     "data": {
      "image/png": "[encoded data removed]",
      "text/plain": [
       "<Figure size 1500x600 with 1 Axes>"
      ]
     },
     "metadata": {},
     "output_type": "display_data"
    }
   ],
   "source": [
    "plt.figure(figsize=(15, 6))\n",
    "\n",
    "plt.hist(sum_rougher_input, bins=30, alpha=.5, label='Сырье', edgecolor='white')\n",
    "plt.hist(sum_rougher_output, bins=30, alpha=.5, label='Черновой концентрант', edgecolor='white')\n",
    "plt.hist(sum_primary_output, bins=30, alpha=.5, label='первичная очистка', edgecolor='white')\n",
    "plt.hist(sum_final_output, bins=30, alpha=.5, label='Финальный концентрант', edgecolor='white')\n",
    "plt.xlabel('Суммарная концентрация')\n",
    "plt.ylabel('Кол-во значений')\n",
    "plt.legend()\n",
    "plt.show()"
   ]
  },
  {
   "cell_type": "markdown",
   "metadata": {},
   "source": [
    "### Вывод по анализу"
   ]
  },
  {
   "cell_type": "markdown",
   "metadata": {},
   "source": [
    "По результатам анализа данных подведем следующие итоги:\n",
    "\n",
    "- Анализ изменений концентрации металлов:\n",
    "    * концентрация золота последовательно увеличивается от этапа к этапу \n",
    "    * доля серебра увеличивается на этапе флотации, а затем постепенно уменьшается. Самая маленькая концентрация наблюдается после финальной обработки. Напрашивается вывод, что серебро само является примесью.\n",
    "    * концентрация свинца является наименьшей на этапе флотации, на этапах первичной и финальной очистки концентрация практически одинакова.\n",
    "    * имеющиеся аномалии были удалены из обучающей выборки.\n",
    "\n",
    "\n",
    "- Сравнение распределения размеров гранул сырья:\n",
    "    - вид и форма распределений почти одинаковы, различаются численные значения - квартили и медиана.\n",
    "    \n",
    "    \n",
    "- Анализ суммарной концентрации металлов:\n",
    "    - от этапа к этапу распределение суммарной концентрации веществ становится более компактным."
   ]
  },
  {
   "cell_type": "markdown",
   "metadata": {},
   "source": [
    "### Удаление выбросов"
   ]
  },
  {
   "cell_type": "markdown",
   "metadata": {},
   "source": [
    "На графике заметна динамика насыщения концентрата всех анализируемых веществ. Однако вместе с увеличением среднего растут и выбросы! Поскольку мы имеем дело с концентрацией, то логично предположить, что нулевые и околонулевые значения не могут соответствовать реальности. Возможно, это связано с погрешностью или и вовсе сбоем прибора. Уберём эти значения из тренирновочной выборки"
   ]
  },
  {
   "cell_type": "code",
   "execution_count": 22,
   "metadata": {},
   "outputs": [
    {
     "data": {
      "text/plain": [
       "14579"
      ]
     },
     "execution_count": 22,
     "metadata": {},
     "output_type": "execute_result"
    }
   ],
   "source": [
    "df_train.shape[0]"
   ]
  },
  {
   "cell_type": "code",
   "execution_count": 23,
   "metadata": {},
   "outputs": [],
   "source": [
    "columns_to_check = [\n",
    "    'rougher.input.feed_pb',\n",
    "    'rougher.input.feed_ag',\n",
    "    'rougher.input.feed_au',\n",
    "    'rougher.output.concentrate_pb',\n",
    "    'rougher.output.concentrate_ag',\n",
    "    'rougher.output.concentrate_au',\n",
    "    'primary_cleaner.output.concentrate_pb',\n",
    "    'primary_cleaner.output.concentrate_ag',\n",
    "    'primary_cleaner.output.concentrate_au',\n",
    "    'final.output.concentrate_pb',\n",
    "    'final.output.concentrate_ag',\n",
    "    'final.output.concentrate_au'\n",
    "]\n",
    "\n",
    "for column in columns_to_check:\n",
    "    df_train = df_train[df_full[column] > 1]"
   ]
  },
  {
   "cell_type": "code",
   "execution_count": 24,
   "metadata": {},
   "outputs": [
    {
     "data": {
      "text/plain": [
       "13748"
      ]
     },
     "execution_count": 24,
     "metadata": {},
     "output_type": "execute_result"
    }
   ],
   "source": [
    "df_train.shape[0]"
   ]
  },
  {
   "cell_type": "markdown",
   "metadata": {},
   "source": [
    "Мы избавились от `~800` строк с нулевыми и околонулевыми значениями в признаках концентратов"
   ]
  },
  {
   "cell_type": "markdown",
   "metadata": {},
   "source": [
    "Для избежания утечки данных удалим из тренировочного датасета столбцы, которые отсутствуют в тестовом. В процессе работы модели в реальных условиях эти данные не будут нам доступны, соответственно обучать модель на них будет бессмысленно."
   ]
  },
  {
   "cell_type": "code",
   "execution_count": 25,
   "metadata": {},
   "outputs": [],
   "source": [
    "df_train = df_train[df_test.columns]"
   ]
  },
  {
   "cell_type": "code",
   "execution_count": 26,
   "metadata": {},
   "outputs": [
    {
     "data": {
      "text/plain": [
       "(55, 55)"
      ]
     },
     "execution_count": 26,
     "metadata": {},
     "output_type": "execute_result"
    }
   ],
   "source": [
    "(\n",
    "    len(df_test.columns),\n",
    "    len(df_train.columns)\n",
    ")"
   ]
  },
  {
   "cell_type": "markdown",
   "metadata": {},
   "source": [
    "Удалим дату из датасетов, т.к. она никак не учавствует в обучении."
   ]
  },
  {
   "cell_type": "code",
   "execution_count": 27,
   "metadata": {},
   "outputs": [],
   "source": [
    "df_test.drop('date', axis=1, inplace=True)\n",
    "df_train.drop('date', axis=1, inplace=True)"
   ]
  },
  {
   "cell_type": "code",
   "execution_count": 28,
   "metadata": {},
   "outputs": [
    {
     "data": {
      "text/plain": [
       "(54, 54)"
      ]
     },
     "execution_count": 28,
     "metadata": {},
     "output_type": "execute_result"
    }
   ],
   "source": [
    "(\n",
    "    len(df_test.columns),\n",
    "    len(df_train.columns)\n",
    ")"
   ]
  },
  {
   "cell_type": "markdown",
   "metadata": {},
   "source": [
    "## Модель"
   ]
  },
  {
   "cell_type": "markdown",
   "metadata": {},
   "source": [
    "### Напишем функцию для вычисления итоговой sMAPE"
   ]
  },
  {
   "cell_type": "markdown",
   "metadata": {},
   "source": [
    "Сначала объявим функцию для расчёта sMAPE для сырья и финальной стадии обработки<br>\n",
    "Затем объявим функцию, использующую предыдущую, для расчёта итоговой величины"
   ]
  },
  {
   "cell_type": "code",
   "execution_count": 29,
   "metadata": {},
   "outputs": [],
   "source": [
    "def smape(target_real, target_predict):\n",
    "    return sum(abs(target_real - target_predict)/((abs(target_real) + abs(target_predict))/2))*100/len(target_real)\n",
    "\n",
    "def result_smape(smape_rougher, smape_final):\n",
    "    return .25 * smape_rougher + .75 * smape_final"
   ]
  },
  {
   "cell_type": "markdown",
   "metadata": {},
   "source": [
    "###  Обучим разные модели и оценим их качество кросс-валидацией"
   ]
  },
  {
   "cell_type": "markdown",
   "metadata": {},
   "source": [
    "Выделим наши фичи и таргеты в тренировочной и тестовой выборках"
   ]
  },
  {
   "cell_type": "code",
   "execution_count": 30,
   "metadata": {},
   "outputs": [],
   "source": [
    "features_train = df_train.drop(columns=['rougher.output.recovery', 'final.output.recovery'], axis=1)\n",
    "target_rougher_train = df_train['rougher.output.recovery']\n",
    "target_final_train = df_train['final.output.recovery']\n",
    "\n",
    "features_test = df_test.drop(columns=['rougher.output.recovery', 'final.output.recovery'], axis=1)\n",
    "target_rougher_test = df_test['rougher.output.recovery']\n",
    "target_final_test = df_test['final.output.recovery']"
   ]
  },
  {
   "cell_type": "markdown",
   "metadata": {},
   "source": [
    "Поскольку нашей метрикой будет являться sMAPE, а проверять модель мы намерены RandomizedSearchCV, использующим нужную нам кроссвалидацию, воспользуемся функцией make_score, в которую передадим объявленный ранее sMAPE"
   ]
  },
  {
   "cell_type": "code",
   "execution_count": 31,
   "metadata": {},
   "outputs": [],
   "source": [
    "# Так как метрики в сёрче работают на увеличение показателя, поставим гиперпараметр, \n",
    "# отвечающий за выбор показателя метрики, равным False\n",
    "# Далее мы просто возьмём модуль числа\n",
    "\n",
    "smape_func = make_scorer(smape, greater_is_better=False)"
   ]
  },
  {
   "cell_type": "markdown",
   "metadata": {},
   "source": [
    "#### Дерево решений"
   ]
  },
  {
   "cell_type": "markdown",
   "metadata": {},
   "source": [
    "Дерево решений для сырья"
   ]
  },
  {
   "cell_type": "code",
   "execution_count": 32,
   "metadata": {},
   "outputs": [
    {
     "name": "stdout",
     "output_type": "stream",
     "text": [
      "Качество наилучшей модели: 6.716612286835753\n",
      "CPU times: total: 16 s\n",
      "Wall time: 16.1 s\n"
     ]
    }
   ],
   "source": [
    "%%time\n",
    "model_tree = DecisionTreeRegressor(random_state=1)\n",
    "\n",
    "model_tree_params = {'max_depth': range (1, 21)}\n",
    "\n",
    "model_tree_rougher = RandomizedSearchCV(\n",
    "    model_tree,\n",
    "    model_tree_params,\n",
    "    scoring=smape_func,\n",
    "    random_state=1)\n",
    "\n",
    "model_tree_rougher.fit(features_train, target_rougher_train)\n",
    "\n",
    "print(f'Качество наилучшей модели: {abs(model_tree_rougher.best_score_)}')"
   ]
  },
  {
   "cell_type": "markdown",
   "metadata": {},
   "source": [
    "Дерево решений для финального продукта"
   ]
  },
  {
   "cell_type": "code",
   "execution_count": 33,
   "metadata": {},
   "outputs": [
    {
     "name": "stdout",
     "output_type": "stream",
     "text": [
      "Качество наилучшей модели: 8.717082842075538\n",
      "CPU times: total: 16.6 s\n",
      "Wall time: 16.6 s\n"
     ]
    }
   ],
   "source": [
    "%%time\n",
    "tree = DecisionTreeRegressor(random_state=1)\n",
    "\n",
    "tree_params = {'max_depth': range (1, 21)}\n",
    "tree_final = RandomizedSearchCV(\n",
    "    tree,\n",
    "    tree_params,\n",
    "    scoring=smape_func,\n",
    "    random_state=1)\n",
    "\n",
    "tree_final.fit(features_train, target_final_train)\n",
    "\n",
    "print(f'Качество наилучшей модели: {abs(tree_final.best_score_)}')"
   ]
  },
  {
   "cell_type": "markdown",
   "metadata": {},
   "source": [
    "**Итоговый sMape Дерева решений**"
   ]
  },
  {
   "cell_type": "code",
   "execution_count": 34,
   "metadata": {},
   "outputs": [
    {
     "data": {
      "text/plain": [
       "8.216965203265591"
      ]
     },
     "execution_count": 34,
     "metadata": {},
     "output_type": "execute_result"
    }
   ],
   "source": [
    "result_smape(abs(model_tree_rougher.best_score_), abs(tree_final.best_score_))"
   ]
  },
  {
   "cell_type": "markdown",
   "metadata": {},
   "source": [
    "#### Случайный лес"
   ]
  },
  {
   "cell_type": "code",
   "execution_count": 35,
   "metadata": {},
   "outputs": [
    {
     "name": "stdout",
     "output_type": "stream",
     "text": [
      "Качество наилучшей модели: 6.410364725914785\n",
      "CPU times: total: 3min 10s\n",
      "Wall time: 3min 10s\n"
     ]
    }
   ],
   "source": [
    "%%time\n",
    "\n",
    "forest = RandomForestRegressor(random_state=1)\n",
    "\n",
    "forest_params = {'n_estimators': range (10, 61, 10),\n",
    "              'max_depth': range (2, 11, 2),\n",
    "              'min_samples_leaf': range (2, 11, 2),\n",
    "              'min_samples_split': range (2, 11, 2)\n",
    "              }\n",
    "\n",
    "forest_rs_rougher = RandomizedSearchCV(forest, forest_params, scoring=smape_func, random_state=1)\n",
    "\n",
    "forest_rs_rougher.fit(features_train, target_rougher_train)\n",
    "\n",
    "print(f'Качество наилучшей модели: {abs(forest_rs_rougher.best_score_)}')"
   ]
  },
  {
   "cell_type": "markdown",
   "metadata": {},
   "source": [
    "Случайный лес для финального продукта"
   ]
  },
  {
   "cell_type": "code",
   "execution_count": 36,
   "metadata": {},
   "outputs": [
    {
     "name": "stdout",
     "output_type": "stream",
     "text": [
      "Качество наилучшей модели: 8.597597908508359\n",
      "CPU times: total: 3min 17s\n",
      "Wall time: 3min 19s\n"
     ]
    }
   ],
   "source": [
    "%%time\n",
    "\n",
    "forest = RandomForestRegressor(random_state=1)\n",
    "\n",
    "forest_params = {'n_estimators': range (10, 61, 10),\n",
    "              'max_depth': range (2, 11, 2),\n",
    "              'min_samples_leaf': range (2, 11, 2),\n",
    "              'min_samples_split': range (2, 11, 2)\n",
    "              }\n",
    "\n",
    "forest_rs_final = RandomizedSearchCV(forest, forest_params, scoring=smape_func, random_state=1)\n",
    "\n",
    "forest_rs_final.fit(features_train, target_final_train)\n",
    "\n",
    "print(f'Качество наилучшей модели: {abs(forest_rs_final.best_score_)}')"
   ]
  },
  {
   "cell_type": "markdown",
   "metadata": {},
   "source": [
    "**Итоговый sMape Случайного леса**"
   ]
  },
  {
   "cell_type": "code",
   "execution_count": 37,
   "metadata": {},
   "outputs": [
    {
     "data": {
      "text/plain": [
       "8.050789612859965"
      ]
     },
     "execution_count": 37,
     "metadata": {},
     "output_type": "execute_result"
    }
   ],
   "source": [
    "result_smape(abs(forest_rs_rougher.best_score_), abs(forest_rs_final.best_score_))"
   ]
  },
  {
   "cell_type": "markdown",
   "metadata": {},
   "source": [
    "### Проверка на адекватность"
   ]
  },
  {
   "cell_type": "markdown",
   "metadata": {},
   "source": [
    "Сравнив итоговые показатели, мы пришли к выводу, что Случайный лес справился несколько лучше, нежели Дерево решений. В качестве проверки на адекватность нашей модели создадим модель-манекен и сравним sMAPE леса с её sMAPE"
   ]
  },
  {
   "cell_type": "code",
   "execution_count": 38,
   "metadata": {},
   "outputs": [
    {
     "name": "stdout",
     "output_type": "stream",
     "text": [
      "Итоговый sMAPE манекена: 9.185036837228711\n"
     ]
    }
   ],
   "source": [
    "dummy = DummyRegressor()\n",
    "\n",
    "dummy.fit(features_train, target_rougher_train)\n",
    "\n",
    "smape_rougher_dummy = abs(cross_val_score(\n",
    "    dummy,\n",
    "    features_train,\n",
    "    target_rougher_train,\n",
    "    scoring=smape_func)).mean()\n",
    "\n",
    "dummy = DummyRegressor()\n",
    "\n",
    "dummy.fit(features_train, target_final_train)\n",
    "\n",
    "smape_final_dummy = abs(cross_val_score(\n",
    "    dummy,\n",
    "    features_train,\n",
    "    target_final_train,\n",
    "    scoring=smape_func)).mean()\n",
    "\n",
    "print(f'Итоговый sMAPE манекена: {result_smape(abs(smape_rougher_dummy), abs(smape_final_dummy))}')"
   ]
  },
  {
   "cell_type": "markdown",
   "metadata": {},
   "source": [
    "Модель `RandomForestRegressor` прошла проверку на адекватность. \n",
    "\n",
    "Проверим итоговый sMAPE модели на тестовой выборке"
   ]
  },
  {
   "cell_type": "markdown",
   "metadata": {},
   "source": [
    "### Проверка на тестовой выборке"
   ]
  },
  {
   "cell_type": "code",
   "execution_count": 39,
   "metadata": {},
   "outputs": [
    {
     "data": {
      "text/html": [
       "<style>#sk-container-id-1 {color: black;background-color: white;}#sk-container-id-1 pre{padding: 0;}#sk-container-id-1 div.sk-toggleable {background-color: white;}#sk-container-id-1 label.sk-toggleable__label {cursor: pointer;display: block;width: 100%;margin-bottom: 0;padding: 0.3em;box-sizing: border-box;text-align: center;}#sk-container-id-1 label.sk-toggleable__label-arrow:before {content: \"▸\";float: left;margin-right: 0.25em;color: #696969;}#sk-container-id-1 label.sk-toggleable__label-arrow:hover:before {color: black;}#sk-container-id-1 div.sk-estimator:hover label.sk-toggleable__label-arrow:before {color: black;}#sk-container-id-1 div.sk-toggleable__content {max-height: 0;max-width: 0;overflow: hidden;text-align: left;background-color: #f0f8ff;}#sk-container-id-1 div.sk-toggleable__content pre {margin: 0.2em;color: black;border-radius: 0.25em;background-color: #f0f8ff;}#sk-container-id-1 input.sk-toggleable__control:checked~div.sk-toggleable__content {max-height: 200px;max-width: 100%;overflow: auto;}#sk-container-id-1 input.sk-toggleable__control:checked~label.sk-toggleable__label-arrow:before {content: \"▾\";}#sk-container-id-1 div.sk-estimator input.sk-toggleable__control:checked~label.sk-toggleable__label {background-color: #d4ebff;}#sk-container-id-1 div.sk-label input.sk-toggleable__control:checked~label.sk-toggleable__label {background-color: #d4ebff;}#sk-container-id-1 input.sk-hidden--visually {border: 0;clip: rect(1px 1px 1px 1px);clip: rect(1px, 1px, 1px, 1px);height: 1px;margin: -1px;overflow: hidden;padding: 0;position: absolute;width: 1px;}#sk-container-id-1 div.sk-estimator {font-family: monospace;background-color: #f0f8ff;border: 1px dotted black;border-radius: 0.25em;box-sizing: border-box;margin-bottom: 0.5em;}#sk-container-id-1 div.sk-estimator:hover {background-color: #d4ebff;}#sk-container-id-1 div.sk-parallel-item::after {content: \"\";width: 100%;border-bottom: 1px solid gray;flex-grow: 1;}#sk-container-id-1 div.sk-label:hover label.sk-toggleable__label {background-color: #d4ebff;}#sk-container-id-1 div.sk-serial::before {content: \"\";position: absolute;border-left: 1px solid gray;box-sizing: border-box;top: 0;bottom: 0;left: 50%;z-index: 0;}#sk-container-id-1 div.sk-serial {display: flex;flex-direction: column;align-items: center;background-color: white;padding-right: 0.2em;padding-left: 0.2em;position: relative;}#sk-container-id-1 div.sk-item {position: relative;z-index: 1;}#sk-container-id-1 div.sk-parallel {display: flex;align-items: stretch;justify-content: center;background-color: white;position: relative;}#sk-container-id-1 div.sk-item::before, #sk-container-id-1 div.sk-parallel-item::before {content: \"\";position: absolute;border-left: 1px solid gray;box-sizing: border-box;top: 0;bottom: 0;left: 50%;z-index: -1;}#sk-container-id-1 div.sk-parallel-item {display: flex;flex-direction: column;z-index: 1;position: relative;background-color: white;}#sk-container-id-1 div.sk-parallel-item:first-child::after {align-self: flex-end;width: 50%;}#sk-container-id-1 div.sk-parallel-item:last-child::after {align-self: flex-start;width: 50%;}#sk-container-id-1 div.sk-parallel-item:only-child::after {width: 0;}#sk-container-id-1 div.sk-dashed-wrapped {border: 1px dashed gray;margin: 0 0.4em 0.5em 0.4em;box-sizing: border-box;padding-bottom: 0.4em;background-color: white;}#sk-container-id-1 div.sk-label label {font-family: monospace;font-weight: bold;display: inline-block;line-height: 1.2em;}#sk-container-id-1 div.sk-label-container {text-align: center;}#sk-container-id-1 div.sk-container {/* jupyter's `normalize.less` sets `[hidden] { display: none; }` but bootstrap.min.css set `[hidden] { display: none !important; }` so we also need the `!important` here to be able to override the default hidden behavior on the sphinx rendered scikit-learn.org. See: https://github.com/scikit-learn/scikit-learn/issues/21755 */display: inline-block !important;position: relative;}#sk-container-id-1 div.sk-text-repr-fallback {display: none;}</style><div id=\"sk-container-id-1\" class=\"sk-top-container\"><div class=\"sk-text-repr-fallback\"><pre>RandomizedSearchCV(estimator=RandomForestRegressor(random_state=1),\n",
       "                   param_distributions={&#x27;max_depth&#x27;: range(2, 11, 2),\n",
       "                                        &#x27;min_samples_leaf&#x27;: range(2, 11, 2),\n",
       "                                        &#x27;min_samples_split&#x27;: range(2, 11, 2),\n",
       "                                        &#x27;n_estimators&#x27;: range(10, 61, 10)},\n",
       "                   random_state=1,\n",
       "                   scoring=make_scorer(smape, greater_is_better=False))</pre><b>In a Jupyter environment, please rerun this cell to show the HTML representation or trust the notebook. <br />On GitHub, the HTML representation is unable to render, please try loading this page with nbviewer.org.</b></div><div class=\"sk-container\" hidden><div class=\"sk-item sk-dashed-wrapped\"><div class=\"sk-label-container\"><div class=\"sk-label sk-toggleable\"><input class=\"sk-toggleable__control sk-hidden--visually\" id=\"sk-estimator-id-1\" type=\"checkbox\" ><label for=\"sk-estimator-id-1\" class=\"sk-toggleable__label sk-toggleable__label-arrow\">RandomizedSearchCV</label><div class=\"sk-toggleable__content\"><pre>RandomizedSearchCV(estimator=RandomForestRegressor(random_state=1),\n",
       "                   param_distributions={&#x27;max_depth&#x27;: range(2, 11, 2),\n",
       "                                        &#x27;min_samples_leaf&#x27;: range(2, 11, 2),\n",
       "                                        &#x27;min_samples_split&#x27;: range(2, 11, 2),\n",
       "                                        &#x27;n_estimators&#x27;: range(10, 61, 10)},\n",
       "                   random_state=1,\n",
       "                   scoring=make_scorer(smape, greater_is_better=False))</pre></div></div></div><div class=\"sk-parallel\"><div class=\"sk-parallel-item\"><div class=\"sk-item\"><div class=\"sk-label-container\"><div class=\"sk-label sk-toggleable\"><input class=\"sk-toggleable__control sk-hidden--visually\" id=\"sk-estimator-id-2\" type=\"checkbox\" ><label for=\"sk-estimator-id-2\" class=\"sk-toggleable__label sk-toggleable__label-arrow\">estimator: RandomForestRegressor</label><div class=\"sk-toggleable__content\"><pre>RandomForestRegressor(random_state=1)</pre></div></div></div><div class=\"sk-serial\"><div class=\"sk-item\"><div class=\"sk-estimator sk-toggleable\"><input class=\"sk-toggleable__control sk-hidden--visually\" id=\"sk-estimator-id-3\" type=\"checkbox\" ><label for=\"sk-estimator-id-3\" class=\"sk-toggleable__label sk-toggleable__label-arrow\">RandomForestRegressor</label><div class=\"sk-toggleable__content\"><pre>RandomForestRegressor(random_state=1)</pre></div></div></div></div></div></div></div></div></div></div>"
      ],
      "text/plain": [
       "RandomizedSearchCV(estimator=RandomForestRegressor(random_state=1),\n",
       "                   param_distributions={'max_depth': range(2, 11, 2),\n",
       "                                        'min_samples_leaf': range(2, 11, 2),\n",
       "                                        'min_samples_split': range(2, 11, 2),\n",
       "                                        'n_estimators': range(10, 61, 10)},\n",
       "                   random_state=1,\n",
       "                   scoring=make_scorer(smape, greater_is_better=False))"
      ]
     },
     "execution_count": 39,
     "metadata": {},
     "output_type": "execute_result"
    }
   ],
   "source": [
    "forest_rs_rougher"
   ]
  },
  {
   "cell_type": "code",
   "execution_count": 40,
   "metadata": {},
   "outputs": [
    {
     "name": "stdout",
     "output_type": "stream",
     "text": [
      "sMAPE Случайного леса на тестовой выборке: 7.292963128749993\n"
     ]
    }
   ],
   "source": [
    "smape_forest_rougher = smape(target_rougher_test, forest_rs_rougher.predict(features_test))\n",
    "smape_forest_final = smape(target_final_test, forest_rs_final.predict(features_test))\n",
    "\n",
    "print(f'sMAPE Случайного леса на тестовой выборке: {result_smape(smape_forest_rougher, smape_forest_final)}')"
   ]
  },
  {
   "cell_type": "markdown",
   "metadata": {},
   "source": [
    "## Вывод"
   ]
  },
  {
   "cell_type": "markdown",
   "metadata": {},
   "source": [
    "По результатам анализа данных подведем следующие итоги:\n",
    "\n",
    "- Анализ изменений концентрации металлов:\n",
    "    * концентрация золота последовательно увеличивается от этапа к этапу \n",
    "    * доля серебра увеличивается на этапе флотации, а затем постепенно уменьшается. Самая маленькая концентрация наблюдается после финальной обработки. Напрашивается вывод, что серебро само является примесью.\n",
    "    * концентрация свинца является наименьшей на этапе флотации, на этапах первичной и финальной очистки концентрация практически одинакова.\n",
    "    * имеющиеся аномалии были удалены из обучающей выборки.\n",
    "\n",
    "\n",
    "- Сравнение распределения размеров гранул сырья:\n",
    "    - вид и форма распределений почти одинаковы, различаются численные значения - квартили и медиана.\n",
    "    \n",
    "    \n",
    "- Анализ суммарной концентрации металлов:\n",
    "    - от этапа к этапу распределение суммарной концентрации веществ становится более компактным.\n",
    "    \n",
    "Также данные имели аномалии, доля которых существенна и они могли негативно повлиять на качество модели, поэтому принято решение их удалить.\n",
    "\n",
    "Обучали две модели: Дерево решений и Случайный лес. В ходе исследований определили, что качество модели \"Случайный лес\" оказалось лучшим.\n",
    "\n",
    "- Дерево решений ~ **8.22**\n",
    "- Случайный лес ~ **8.05**\n",
    "\n",
    "По итогу исследования мы выяснили, что с предсказаниями концентрата вещества на этапаха сырья и финального продукта лучше всего справляется Случайный лес. Его итоговый sMAPE на тестовой выборке составил ~**7.33** единиц против ~9.2 у модели-манекена. Цель исследования достигнута."
   ]
  },
  {
   "cell_type": "code",
   "execution_count": null,
   "metadata": {},
   "outputs": [],
   "source": []
  }
 ],
 "metadata": {
  "ExecuteTimeLog": [
   {
    "duration": 77,
    "start_time": "2022-12-27T18:27:34.368Z"
   },
   {
    "duration": 1083,
    "start_time": "2022-12-27T18:28:00.551Z"
   },
   {
    "duration": 134,
    "start_time": "2022-12-27T18:28:01.636Z"
   },
   {
    "duration": 0,
    "start_time": "2022-12-27T18:28:01.771Z"
   },
   {
    "duration": 0,
    "start_time": "2022-12-27T18:28:01.773Z"
   },
   {
    "duration": 0,
    "start_time": "2022-12-27T18:28:01.773Z"
   },
   {
    "duration": 0,
    "start_time": "2022-12-27T18:28:01.774Z"
   },
   {
    "duration": 0,
    "start_time": "2022-12-27T18:28:01.775Z"
   },
   {
    "duration": 0,
    "start_time": "2022-12-27T18:28:01.777Z"
   },
   {
    "duration": 1,
    "start_time": "2022-12-27T18:28:01.777Z"
   },
   {
    "duration": 0,
    "start_time": "2022-12-27T18:28:01.778Z"
   },
   {
    "duration": 0,
    "start_time": "2022-12-27T18:28:01.779Z"
   },
   {
    "duration": 0,
    "start_time": "2022-12-27T18:28:01.781Z"
   },
   {
    "duration": 3,
    "start_time": "2022-12-27T18:28:38.048Z"
   },
   {
    "duration": 1728,
    "start_time": "2022-12-27T18:28:38.055Z"
   },
   {
    "duration": 24,
    "start_time": "2022-12-27T18:28:39.785Z"
   },
   {
    "duration": 17,
    "start_time": "2022-12-27T18:28:39.810Z"
   },
   {
    "duration": 15,
    "start_time": "2022-12-27T18:28:39.829Z"
   },
   {
    "duration": 20,
    "start_time": "2022-12-27T18:28:39.845Z"
   },
   {
    "duration": 17,
    "start_time": "2022-12-27T18:28:39.867Z"
   },
   {
    "duration": 45,
    "start_time": "2022-12-27T18:28:39.886Z"
   },
   {
    "duration": 19,
    "start_time": "2022-12-27T18:28:39.933Z"
   },
   {
    "duration": 14,
    "start_time": "2022-12-27T18:28:39.953Z"
   },
   {
    "duration": 8,
    "start_time": "2022-12-27T18:28:39.969Z"
   },
   {
    "duration": 73,
    "start_time": "2022-12-27T18:28:39.979Z"
   },
   {
    "duration": 92,
    "start_time": "2022-12-27T18:32:31.094Z"
   },
   {
    "duration": 10,
    "start_time": "2022-12-27T18:33:55.527Z"
   },
   {
    "duration": 73,
    "start_time": "2022-12-27T18:45:28.711Z"
   },
   {
    "duration": 3,
    "start_time": "2022-12-27T18:50:28.825Z"
   },
   {
    "duration": 640,
    "start_time": "2022-12-27T18:50:28.830Z"
   },
   {
    "duration": 19,
    "start_time": "2022-12-27T18:50:29.473Z"
   },
   {
    "duration": 31,
    "start_time": "2022-12-27T18:50:29.493Z"
   },
   {
    "duration": 14,
    "start_time": "2022-12-27T18:50:29.526Z"
   },
   {
    "duration": 19,
    "start_time": "2022-12-27T18:50:29.542Z"
   },
   {
    "duration": 21,
    "start_time": "2022-12-27T18:50:29.562Z"
   },
   {
    "duration": 42,
    "start_time": "2022-12-27T18:50:29.585Z"
   },
   {
    "duration": 20,
    "start_time": "2022-12-27T18:50:29.629Z"
   },
   {
    "duration": 13,
    "start_time": "2022-12-27T18:50:29.651Z"
   },
   {
    "duration": 9,
    "start_time": "2022-12-27T18:50:29.667Z"
   },
   {
    "duration": 11,
    "start_time": "2022-12-27T18:50:29.678Z"
   },
   {
    "duration": 31,
    "start_time": "2022-12-27T18:50:29.691Z"
   },
   {
    "duration": 15,
    "start_time": "2022-12-27T18:50:29.724Z"
   },
   {
    "duration": 19,
    "start_time": "2022-12-27T18:50:29.740Z"
   },
   {
    "duration": 17,
    "start_time": "2022-12-27T18:50:29.761Z"
   },
   {
    "duration": 14,
    "start_time": "2022-12-27T18:50:29.780Z"
   },
   {
    "duration": 12,
    "start_time": "2022-12-27T18:50:29.796Z"
   },
   {
    "duration": 15,
    "start_time": "2022-12-27T18:50:29.809Z"
   },
   {
    "duration": 17,
    "start_time": "2022-12-27T18:50:29.825Z"
   },
   {
    "duration": 0,
    "start_time": "2022-12-27T18:50:29.843Z"
   },
   {
    "duration": 15,
    "start_time": "2022-12-27T18:53:21.334Z"
   },
   {
    "duration": 22,
    "start_time": "2022-12-27T18:53:44.359Z"
   },
   {
    "duration": 31,
    "start_time": "2022-12-27T18:54:56.279Z"
   },
   {
    "duration": 30,
    "start_time": "2022-12-27T18:57:48.813Z"
   },
   {
    "duration": 10,
    "start_time": "2022-12-27T18:58:31.819Z"
   },
   {
    "duration": 26,
    "start_time": "2022-12-27T18:58:36.831Z"
   },
   {
    "duration": 20,
    "start_time": "2022-12-27T18:59:24.563Z"
   },
   {
    "duration": 20,
    "start_time": "2022-12-27T18:59:41.755Z"
   },
   {
    "duration": 20,
    "start_time": "2022-12-27T19:00:38.214Z"
   },
   {
    "duration": 7,
    "start_time": "2022-12-27T19:05:53.055Z"
   },
   {
    "duration": 12,
    "start_time": "2022-12-27T19:05:58.669Z"
   },
   {
    "duration": 5,
    "start_time": "2022-12-27T19:06:45.622Z"
   },
   {
    "duration": 4,
    "start_time": "2022-12-27T19:06:55.813Z"
   },
   {
    "duration": 4,
    "start_time": "2022-12-27T19:07:03.215Z"
   },
   {
    "duration": 11,
    "start_time": "2022-12-27T19:07:30.923Z"
   },
   {
    "duration": 8,
    "start_time": "2022-12-27T19:42:52.508Z"
   },
   {
    "duration": 8,
    "start_time": "2022-12-27T19:43:12.037Z"
   },
   {
    "duration": 1152,
    "start_time": "2022-12-27T19:43:37.048Z"
   },
   {
    "duration": 7,
    "start_time": "2022-12-27T19:43:44.347Z"
   },
   {
    "duration": 15,
    "start_time": "2022-12-27T19:47:14.091Z"
   },
   {
    "duration": 7,
    "start_time": "2022-12-27T19:47:40.405Z"
   },
   {
    "duration": 3,
    "start_time": "2022-12-27T19:48:00.811Z"
   },
   {
    "duration": 5,
    "start_time": "2022-12-27T19:48:07.207Z"
   },
   {
    "duration": 4,
    "start_time": "2022-12-27T19:48:51.036Z"
   },
   {
    "duration": 8,
    "start_time": "2022-12-27T19:50:35.382Z"
   },
   {
    "duration": 13,
    "start_time": "2022-12-27T19:50:50.926Z"
   },
   {
    "duration": 15,
    "start_time": "2022-12-27T19:53:23.211Z"
   },
   {
    "duration": 8,
    "start_time": "2022-12-27T19:54:02.542Z"
   },
   {
    "duration": 460,
    "start_time": "2022-12-27T19:54:14.482Z"
   },
   {
    "duration": 391,
    "start_time": "2022-12-27T19:54:30.108Z"
   },
   {
    "duration": 365,
    "start_time": "2022-12-27T19:54:48.026Z"
   },
   {
    "duration": 399,
    "start_time": "2022-12-27T19:54:58.482Z"
   },
   {
    "duration": 43,
    "start_time": "2022-12-27T19:55:48.644Z"
   },
   {
    "duration": 11,
    "start_time": "2022-12-27T19:55:57.668Z"
   },
   {
    "duration": 509,
    "start_time": "2022-12-27T19:56:08.394Z"
   },
   {
    "duration": 3,
    "start_time": "2022-12-27T19:59:28.169Z"
   },
   {
    "duration": 683,
    "start_time": "2022-12-27T19:59:28.174Z"
   },
   {
    "duration": 20,
    "start_time": "2022-12-27T19:59:28.859Z"
   },
   {
    "duration": 20,
    "start_time": "2022-12-27T19:59:28.880Z"
   },
   {
    "duration": 26,
    "start_time": "2022-12-27T19:59:28.902Z"
   },
   {
    "duration": 18,
    "start_time": "2022-12-27T19:59:28.929Z"
   },
   {
    "duration": 16,
    "start_time": "2022-12-27T19:59:28.949Z"
   },
   {
    "duration": 14,
    "start_time": "2022-12-27T19:59:28.966Z"
   },
   {
    "duration": 46,
    "start_time": "2022-12-27T19:59:28.982Z"
   },
   {
    "duration": 16,
    "start_time": "2022-12-27T19:59:29.029Z"
   },
   {
    "duration": 9,
    "start_time": "2022-12-27T19:59:29.047Z"
   },
   {
    "duration": 9,
    "start_time": "2022-12-27T19:59:29.057Z"
   },
   {
    "duration": 3,
    "start_time": "2022-12-27T19:59:29.068Z"
   },
   {
    "duration": 8,
    "start_time": "2022-12-27T19:59:29.074Z"
   },
   {
    "duration": 41,
    "start_time": "2022-12-27T19:59:29.084Z"
   },
   {
    "duration": 5,
    "start_time": "2022-12-27T19:59:29.127Z"
   },
   {
    "duration": 10,
    "start_time": "2022-12-27T19:59:29.133Z"
   },
   {
    "duration": 19,
    "start_time": "2022-12-27T19:59:29.145Z"
   },
   {
    "duration": 7,
    "start_time": "2022-12-27T19:59:29.166Z"
   },
   {
    "duration": 12,
    "start_time": "2022-12-27T19:59:29.175Z"
   },
   {
    "duration": 51,
    "start_time": "2022-12-27T19:59:29.188Z"
   },
   {
    "duration": 6,
    "start_time": "2022-12-27T19:59:29.241Z"
   },
   {
    "duration": 7,
    "start_time": "2022-12-27T19:59:29.249Z"
   },
   {
    "duration": 17,
    "start_time": "2022-12-27T19:59:29.257Z"
   },
   {
    "duration": 413,
    "start_time": "2022-12-27T19:59:29.275Z"
   },
   {
    "duration": 6,
    "start_time": "2022-12-27T19:59:29.690Z"
   },
   {
    "duration": 417,
    "start_time": "2022-12-27T19:59:29.698Z"
   },
   {
    "duration": 9,
    "start_time": "2022-12-27T20:00:27.479Z"
   },
   {
    "duration": 10,
    "start_time": "2022-12-27T20:00:33.918Z"
   },
   {
    "duration": 14,
    "start_time": "2022-12-27T20:00:44.710Z"
   },
   {
    "duration": 3,
    "start_time": "2022-12-27T20:02:56.882Z"
   },
   {
    "duration": 471,
    "start_time": "2022-12-27T20:03:02.628Z"
   },
   {
    "duration": 376,
    "start_time": "2022-12-27T20:03:05.019Z"
   },
   {
    "duration": 11,
    "start_time": "2022-12-27T20:08:06.306Z"
   },
   {
    "duration": 10,
    "start_time": "2022-12-27T20:08:39.541Z"
   },
   {
    "duration": 9,
    "start_time": "2022-12-27T20:08:50.510Z"
   },
   {
    "duration": 14,
    "start_time": "2022-12-27T20:08:57.412Z"
   },
   {
    "duration": 28,
    "start_time": "2022-12-27T20:09:29.372Z"
   },
   {
    "duration": 6,
    "start_time": "2022-12-27T20:22:40.495Z"
   },
   {
    "duration": 11,
    "start_time": "2022-12-27T20:22:43.175Z"
   },
   {
    "duration": 9,
    "start_time": "2022-12-27T20:22:49.876Z"
   },
   {
    "duration": 15,
    "start_time": "2022-12-27T20:25:32.136Z"
   },
   {
    "duration": 11,
    "start_time": "2022-12-27T20:25:36.396Z"
   },
   {
    "duration": 13,
    "start_time": "2022-12-27T20:29:59.937Z"
   },
   {
    "duration": 11,
    "start_time": "2022-12-27T20:30:01.865Z"
   },
   {
    "duration": 3,
    "start_time": "2022-12-27T20:32:06.812Z"
   },
   {
    "duration": 20,
    "start_time": "2022-12-27T20:32:44.679Z"
   },
   {
    "duration": 142,
    "start_time": "2022-12-27T20:32:58.176Z"
   },
   {
    "duration": 132,
    "start_time": "2022-12-27T20:33:07.908Z"
   },
   {
    "duration": 115,
    "start_time": "2022-12-27T20:33:29.995Z"
   },
   {
    "duration": 11,
    "start_time": "2022-12-27T20:33:44.474Z"
   },
   {
    "duration": 108,
    "start_time": "2022-12-27T20:34:00.807Z"
   },
   {
    "duration": 112,
    "start_time": "2022-12-27T20:34:11.528Z"
   },
   {
    "duration": 198,
    "start_time": "2022-12-27T20:35:14.479Z"
   },
   {
    "duration": 90,
    "start_time": "2022-12-27T20:35:32.912Z"
   },
   {
    "duration": 107,
    "start_time": "2022-12-27T20:36:56.679Z"
   },
   {
    "duration": 98,
    "start_time": "2022-12-27T20:37:01.373Z"
   },
   {
    "duration": 104,
    "start_time": "2022-12-27T20:37:12.514Z"
   },
   {
    "duration": 9,
    "start_time": "2022-12-27T20:37:29.358Z"
   },
   {
    "duration": 98,
    "start_time": "2022-12-27T20:37:42.663Z"
   },
   {
    "duration": 147,
    "start_time": "2022-12-27T20:37:50.317Z"
   },
   {
    "duration": 112,
    "start_time": "2022-12-27T20:38:07.429Z"
   },
   {
    "duration": 111,
    "start_time": "2022-12-27T20:38:18.764Z"
   },
   {
    "duration": 95,
    "start_time": "2022-12-27T20:38:26.053Z"
   },
   {
    "duration": 102,
    "start_time": "2022-12-27T20:38:32.551Z"
   },
   {
    "duration": 102,
    "start_time": "2022-12-27T20:38:37.922Z"
   },
   {
    "duration": 119,
    "start_time": "2022-12-27T20:39:08.550Z"
   },
   {
    "duration": 112,
    "start_time": "2022-12-27T20:39:13.778Z"
   },
   {
    "duration": 96,
    "start_time": "2022-12-27T20:39:21.857Z"
   },
   {
    "duration": 203,
    "start_time": "2022-12-27T20:42:48.664Z"
   },
   {
    "duration": 209,
    "start_time": "2022-12-27T20:43:10.946Z"
   },
   {
    "duration": 210,
    "start_time": "2022-12-27T20:43:15.450Z"
   },
   {
    "duration": 312,
    "start_time": "2022-12-27T20:43:38.076Z"
   },
   {
    "duration": 197,
    "start_time": "2022-12-27T20:46:57.909Z"
   },
   {
    "duration": 200,
    "start_time": "2022-12-27T20:48:11.016Z"
   },
   {
    "duration": 236,
    "start_time": "2022-12-27T20:48:54.175Z"
   },
   {
    "duration": 196,
    "start_time": "2022-12-27T20:49:08.320Z"
   },
   {
    "duration": 191,
    "start_time": "2022-12-27T20:49:15.227Z"
   },
   {
    "duration": 288,
    "start_time": "2022-12-27T20:50:08.512Z"
   },
   {
    "duration": 493,
    "start_time": "2022-12-27T20:50:25.435Z"
   },
   {
    "duration": 284,
    "start_time": "2022-12-27T20:50:41.224Z"
   },
   {
    "duration": 184,
    "start_time": "2022-12-27T20:50:48.032Z"
   },
   {
    "duration": 193,
    "start_time": "2022-12-27T20:54:49.642Z"
   },
   {
    "duration": 201,
    "start_time": "2022-12-27T20:54:57.909Z"
   },
   {
    "duration": 198,
    "start_time": "2022-12-27T20:56:36.867Z"
   },
   {
    "duration": 172,
    "start_time": "2022-12-27T20:56:46.536Z"
   },
   {
    "duration": 197,
    "start_time": "2022-12-27T20:56:52.872Z"
   },
   {
    "duration": 315,
    "start_time": "2022-12-27T20:56:57.054Z"
   },
   {
    "duration": 186,
    "start_time": "2022-12-27T20:58:06.911Z"
   },
   {
    "duration": 217,
    "start_time": "2022-12-27T20:58:18.011Z"
   },
   {
    "duration": 205,
    "start_time": "2022-12-27T20:58:29.268Z"
   },
   {
    "duration": 239,
    "start_time": "2022-12-27T20:58:31.144Z"
   },
   {
    "duration": 223,
    "start_time": "2022-12-27T20:58:44.111Z"
   },
   {
    "duration": 215,
    "start_time": "2022-12-27T20:58:53.808Z"
   },
   {
    "duration": 214,
    "start_time": "2022-12-27T20:59:02.023Z"
   },
   {
    "duration": 178,
    "start_time": "2022-12-27T20:59:10.214Z"
   },
   {
    "duration": 174,
    "start_time": "2022-12-27T20:59:35.275Z"
   },
   {
    "duration": 249,
    "start_time": "2022-12-27T21:00:37.845Z"
   },
   {
    "duration": 437,
    "start_time": "2022-12-27T21:00:48.937Z"
   },
   {
    "duration": 195,
    "start_time": "2022-12-27T21:00:59.438Z"
   },
   {
    "duration": 247,
    "start_time": "2022-12-27T21:01:06.127Z"
   },
   {
    "duration": 172,
    "start_time": "2022-12-27T21:01:17.279Z"
   },
   {
    "duration": 183,
    "start_time": "2022-12-27T21:01:22.108Z"
   },
   {
    "duration": 193,
    "start_time": "2022-12-27T21:01:27.559Z"
   },
   {
    "duration": 196,
    "start_time": "2022-12-27T21:03:16.112Z"
   },
   {
    "duration": 211,
    "start_time": "2022-12-27T21:03:41.749Z"
   },
   {
    "duration": 218,
    "start_time": "2022-12-27T21:03:51.824Z"
   },
   {
    "duration": 392,
    "start_time": "2022-12-27T21:05:03.527Z"
   },
   {
    "duration": 209,
    "start_time": "2022-12-27T21:05:17.461Z"
   },
   {
    "duration": 245,
    "start_time": "2022-12-27T21:05:23.916Z"
   },
   {
    "duration": 219,
    "start_time": "2022-12-27T21:05:47.252Z"
   },
   {
    "duration": 250,
    "start_time": "2022-12-27T21:05:57.512Z"
   },
   {
    "duration": 192,
    "start_time": "2022-12-27T21:06:10.781Z"
   },
   {
    "duration": 186,
    "start_time": "2022-12-27T21:06:24.949Z"
   },
   {
    "duration": 197,
    "start_time": "2022-12-27T21:06:35.109Z"
   },
   {
    "duration": 206,
    "start_time": "2022-12-27T21:10:27.533Z"
   },
   {
    "duration": 1173,
    "start_time": "2022-12-27T21:18:28.609Z"
   },
   {
    "duration": 1522,
    "start_time": "2022-12-28T14:54:08.714Z"
   },
   {
    "duration": 3292,
    "start_time": "2022-12-28T14:54:10.238Z"
   },
   {
    "duration": 25,
    "start_time": "2022-12-28T14:54:13.532Z"
   },
   {
    "duration": 20,
    "start_time": "2022-12-28T14:54:13.560Z"
   },
   {
    "duration": 29,
    "start_time": "2022-12-28T14:54:13.581Z"
   },
   {
    "duration": 20,
    "start_time": "2022-12-28T14:54:13.612Z"
   },
   {
    "duration": 40,
    "start_time": "2022-12-28T14:54:13.633Z"
   },
   {
    "duration": 15,
    "start_time": "2022-12-28T14:54:13.675Z"
   },
   {
    "duration": 30,
    "start_time": "2022-12-28T14:54:13.692Z"
   },
   {
    "duration": 35,
    "start_time": "2022-12-28T14:54:13.726Z"
   },
   {
    "duration": 11,
    "start_time": "2022-12-28T14:54:13.763Z"
   },
   {
    "duration": 11,
    "start_time": "2022-12-28T14:54:13.777Z"
   },
   {
    "duration": 9,
    "start_time": "2022-12-28T14:54:13.789Z"
   },
   {
    "duration": 14,
    "start_time": "2022-12-28T14:54:13.800Z"
   },
   {
    "duration": 14,
    "start_time": "2022-12-28T14:54:13.816Z"
   },
   {
    "duration": 10,
    "start_time": "2022-12-28T14:54:13.831Z"
   },
   {
    "duration": 27,
    "start_time": "2022-12-28T14:54:13.843Z"
   },
   {
    "duration": 24,
    "start_time": "2022-12-28T14:54:13.876Z"
   },
   {
    "duration": 10,
    "start_time": "2022-12-28T14:54:13.901Z"
   },
   {
    "duration": 17,
    "start_time": "2022-12-28T14:54:13.912Z"
   },
   {
    "duration": 23,
    "start_time": "2022-12-28T14:54:13.931Z"
   },
   {
    "duration": 26,
    "start_time": "2022-12-28T14:54:13.955Z"
   },
   {
    "duration": 11,
    "start_time": "2022-12-28T14:54:13.983Z"
   },
   {
    "duration": 18,
    "start_time": "2022-12-28T14:54:13.995Z"
   },
   {
    "duration": 24,
    "start_time": "2022-12-28T14:54:14.014Z"
   },
   {
    "duration": 12,
    "start_time": "2022-12-28T14:54:14.040Z"
   },
   {
    "duration": 25,
    "start_time": "2022-12-28T14:54:14.054Z"
   },
   {
    "duration": 236,
    "start_time": "2022-12-28T14:54:14.082Z"
   },
   {
    "duration": 12,
    "start_time": "2022-12-28T14:54:14.320Z"
   },
   {
    "duration": 199,
    "start_time": "2022-12-28T14:57:32.814Z"
   },
   {
    "duration": 185,
    "start_time": "2022-12-28T14:58:10.393Z"
   },
   {
    "duration": 1215,
    "start_time": "2022-12-28T15:00:56.684Z"
   },
   {
    "duration": 114,
    "start_time": "2022-12-28T15:03:19.493Z"
   },
   {
    "duration": 12,
    "start_time": "2022-12-28T15:03:39.279Z"
   },
   {
    "duration": 13,
    "start_time": "2022-12-28T15:03:48.069Z"
   },
   {
    "duration": 1317,
    "start_time": "2022-12-28T15:04:44.183Z"
   },
   {
    "duration": 6,
    "start_time": "2022-12-28T15:05:01.684Z"
   },
   {
    "duration": 1252,
    "start_time": "2022-12-28T15:05:58.868Z"
   },
   {
    "duration": 10,
    "start_time": "2022-12-28T15:06:06.422Z"
   },
   {
    "duration": 583,
    "start_time": "2022-12-28T15:06:56.442Z"
   },
   {
    "duration": 1065,
    "start_time": "2022-12-28T15:07:21.579Z"
   },
   {
    "duration": 551,
    "start_time": "2022-12-28T15:07:59.732Z"
   },
   {
    "duration": 525,
    "start_time": "2022-12-28T15:08:06.221Z"
   },
   {
    "duration": 583,
    "start_time": "2022-12-28T15:08:32.341Z"
   },
   {
    "duration": 526,
    "start_time": "2022-12-28T15:08:59.727Z"
   },
   {
    "duration": 548,
    "start_time": "2022-12-28T15:09:06.209Z"
   },
   {
    "duration": 552,
    "start_time": "2022-12-28T15:09:24.993Z"
   },
   {
    "duration": 551,
    "start_time": "2022-12-28T15:09:32.830Z"
   },
   {
    "duration": 49,
    "start_time": "2022-12-28T15:21:04.885Z"
   },
   {
    "duration": 12,
    "start_time": "2022-12-28T15:25:48.598Z"
   },
   {
    "duration": 581,
    "start_time": "2022-12-28T15:26:06.176Z"
   },
   {
    "duration": 13,
    "start_time": "2022-12-28T15:26:35.275Z"
   },
   {
    "duration": 584,
    "start_time": "2022-12-28T15:26:37.472Z"
   },
   {
    "duration": 658,
    "start_time": "2022-12-28T15:28:59.781Z"
   },
   {
    "duration": 11,
    "start_time": "2022-12-28T15:29:08.872Z"
   },
   {
    "duration": 6,
    "start_time": "2022-12-28T15:29:17.002Z"
   },
   {
    "duration": 7,
    "start_time": "2022-12-28T15:29:27.810Z"
   },
   {
    "duration": 6,
    "start_time": "2022-12-28T15:29:50.294Z"
   },
   {
    "duration": 15,
    "start_time": "2022-12-28T15:30:29.698Z"
   },
   {
    "duration": 6,
    "start_time": "2022-12-28T15:30:31.613Z"
   },
   {
    "duration": 473,
    "start_time": "2022-12-28T15:30:42.897Z"
   },
   {
    "duration": 15,
    "start_time": "2022-12-28T15:31:35.432Z"
   },
   {
    "duration": 479,
    "start_time": "2022-12-28T15:31:37.682Z"
   },
   {
    "duration": 13,
    "start_time": "2022-12-28T15:32:05.340Z"
   },
   {
    "duration": 129,
    "start_time": "2022-12-28T15:32:23.078Z"
   },
   {
    "duration": 12,
    "start_time": "2022-12-28T15:32:51.761Z"
   },
   {
    "duration": 96,
    "start_time": "2022-12-28T15:33:06.240Z"
   },
   {
    "duration": 3,
    "start_time": "2022-12-28T15:33:34.036Z"
   },
   {
    "duration": 698,
    "start_time": "2022-12-28T15:33:34.043Z"
   },
   {
    "duration": 20,
    "start_time": "2022-12-28T15:33:34.743Z"
   },
   {
    "duration": 41,
    "start_time": "2022-12-28T15:33:34.765Z"
   },
   {
    "duration": 16,
    "start_time": "2022-12-28T15:33:34.808Z"
   },
   {
    "duration": 19,
    "start_time": "2022-12-28T15:33:34.826Z"
   },
   {
    "duration": 23,
    "start_time": "2022-12-28T15:33:34.847Z"
   },
   {
    "duration": 14,
    "start_time": "2022-12-28T15:33:34.877Z"
   },
   {
    "duration": 26,
    "start_time": "2022-12-28T15:33:34.893Z"
   },
   {
    "duration": 18,
    "start_time": "2022-12-28T15:33:34.921Z"
   },
   {
    "duration": 15,
    "start_time": "2022-12-28T15:33:34.942Z"
   },
   {
    "duration": 23,
    "start_time": "2022-12-28T15:33:34.959Z"
   },
   {
    "duration": 23,
    "start_time": "2022-12-28T15:33:34.984Z"
   },
   {
    "duration": 38,
    "start_time": "2022-12-28T15:33:35.008Z"
   },
   {
    "duration": 27,
    "start_time": "2022-12-28T15:33:35.047Z"
   },
   {
    "duration": 10,
    "start_time": "2022-12-28T15:33:35.076Z"
   },
   {
    "duration": 12,
    "start_time": "2022-12-28T15:33:35.088Z"
   },
   {
    "duration": 13,
    "start_time": "2022-12-28T15:33:35.102Z"
   },
   {
    "duration": 7,
    "start_time": "2022-12-28T15:33:35.116Z"
   },
   {
    "duration": 11,
    "start_time": "2022-12-28T15:33:35.125Z"
   },
   {
    "duration": 44,
    "start_time": "2022-12-28T15:33:35.137Z"
   },
   {
    "duration": 6,
    "start_time": "2022-12-28T15:33:35.183Z"
   },
   {
    "duration": 7,
    "start_time": "2022-12-28T15:33:35.191Z"
   },
   {
    "duration": 14,
    "start_time": "2022-12-28T15:33:35.199Z"
   },
   {
    "duration": 25,
    "start_time": "2022-12-28T15:33:35.215Z"
   },
   {
    "duration": 40,
    "start_time": "2022-12-28T15:33:35.241Z"
   },
   {
    "duration": 9,
    "start_time": "2022-12-28T15:33:35.282Z"
   },
   {
    "duration": 252,
    "start_time": "2022-12-28T15:33:35.293Z"
   },
   {
    "duration": 620,
    "start_time": "2022-12-28T15:33:35.547Z"
   },
   {
    "duration": 586,
    "start_time": "2022-12-28T15:33:36.169Z"
   },
   {
    "duration": 2,
    "start_time": "2022-12-28T15:33:36.757Z"
   },
   {
    "duration": 98,
    "start_time": "2022-12-28T15:33:36.761Z"
   },
   {
    "duration": 14,
    "start_time": "2022-12-28T15:34:04.634Z"
   },
   {
    "duration": 8,
    "start_time": "2022-12-28T15:57:37.714Z"
   },
   {
    "duration": 13,
    "start_time": "2022-12-28T15:57:43.898Z"
   },
   {
    "duration": 134,
    "start_time": "2022-12-28T15:58:33.267Z"
   },
   {
    "duration": 358,
    "start_time": "2022-12-28T15:59:29.921Z"
   },
   {
    "duration": 382,
    "start_time": "2022-12-28T16:01:43.498Z"
   },
   {
    "duration": 54,
    "start_time": "2022-12-28T16:02:30.227Z"
   },
   {
    "duration": 274,
    "start_time": "2022-12-28T16:02:38.630Z"
   },
   {
    "duration": 313,
    "start_time": "2022-12-28T16:04:41.880Z"
   },
   {
    "duration": 285,
    "start_time": "2022-12-28T16:05:04.001Z"
   },
   {
    "duration": 356,
    "start_time": "2022-12-28T16:05:10.000Z"
   },
   {
    "duration": 443,
    "start_time": "2022-12-28T16:05:26.243Z"
   },
   {
    "duration": 296,
    "start_time": "2022-12-28T16:05:31.610Z"
   },
   {
    "duration": 338,
    "start_time": "2022-12-28T16:05:34.567Z"
   },
   {
    "duration": 324,
    "start_time": "2022-12-28T16:05:38.741Z"
   },
   {
    "duration": 345,
    "start_time": "2022-12-28T16:05:45.708Z"
   },
   {
    "duration": 344,
    "start_time": "2022-12-28T16:07:11.127Z"
   },
   {
    "duration": 6,
    "start_time": "2022-12-28T16:15:55.306Z"
   },
   {
    "duration": 10,
    "start_time": "2022-12-28T16:16:05.905Z"
   },
   {
    "duration": 9,
    "start_time": "2022-12-28T16:16:27.990Z"
   },
   {
    "duration": 8,
    "start_time": "2022-12-28T16:16:31.211Z"
   },
   {
    "duration": 811,
    "start_time": "2022-12-28T16:16:40.641Z"
   },
   {
    "duration": 763,
    "start_time": "2022-12-28T16:17:26.035Z"
   },
   {
    "duration": 749,
    "start_time": "2022-12-28T16:17:29.098Z"
   },
   {
    "duration": 1049,
    "start_time": "2022-12-28T16:17:40.769Z"
   },
   {
    "duration": 822,
    "start_time": "2022-12-28T16:17:50.864Z"
   },
   {
    "duration": 804,
    "start_time": "2022-12-28T16:17:56.297Z"
   },
   {
    "duration": 5,
    "start_time": "2022-12-28T16:18:14.663Z"
   },
   {
    "duration": 5,
    "start_time": "2022-12-28T16:55:12.734Z"
   },
   {
    "duration": 13,
    "start_time": "2022-12-28T16:55:18.634Z"
   },
   {
    "duration": 4,
    "start_time": "2022-12-28T16:55:23.204Z"
   },
   {
    "duration": 17,
    "start_time": "2022-12-28T16:56:15.949Z"
   },
   {
    "duration": 5,
    "start_time": "2022-12-28T16:56:17.924Z"
   },
   {
    "duration": 177,
    "start_time": "2022-12-28T17:14:14.361Z"
   },
   {
    "duration": 4,
    "start_time": "2022-12-28T17:14:16.600Z"
   },
   {
    "duration": 3,
    "start_time": "2022-12-28T17:14:39.806Z"
   },
   {
    "duration": 779,
    "start_time": "2022-12-28T17:14:39.812Z"
   },
   {
    "duration": 22,
    "start_time": "2022-12-28T17:14:40.594Z"
   },
   {
    "duration": 35,
    "start_time": "2022-12-28T17:14:40.618Z"
   },
   {
    "duration": 20,
    "start_time": "2022-12-28T17:14:40.655Z"
   },
   {
    "duration": 32,
    "start_time": "2022-12-28T17:14:40.680Z"
   },
   {
    "duration": 20,
    "start_time": "2022-12-28T17:14:40.714Z"
   },
   {
    "duration": 18,
    "start_time": "2022-12-28T17:14:40.736Z"
   },
   {
    "duration": 41,
    "start_time": "2022-12-28T17:14:40.755Z"
   },
   {
    "duration": 22,
    "start_time": "2022-12-28T17:14:40.798Z"
   },
   {
    "duration": 25,
    "start_time": "2022-12-28T17:14:40.823Z"
   },
   {
    "duration": 37,
    "start_time": "2022-12-28T17:14:40.850Z"
   },
   {
    "duration": 18,
    "start_time": "2022-12-28T17:14:40.888Z"
   },
   {
    "duration": 36,
    "start_time": "2022-12-28T17:14:40.908Z"
   },
   {
    "duration": 37,
    "start_time": "2022-12-28T17:14:40.946Z"
   },
   {
    "duration": 28,
    "start_time": "2022-12-28T17:14:40.985Z"
   },
   {
    "duration": 36,
    "start_time": "2022-12-28T17:14:41.016Z"
   },
   {
    "duration": 38,
    "start_time": "2022-12-28T17:14:41.053Z"
   },
   {
    "duration": 17,
    "start_time": "2022-12-28T17:14:41.092Z"
   },
   {
    "duration": 15,
    "start_time": "2022-12-28T17:14:41.111Z"
   },
   {
    "duration": 25,
    "start_time": "2022-12-28T17:14:41.128Z"
   },
   {
    "duration": 15,
    "start_time": "2022-12-28T17:14:41.154Z"
   },
   {
    "duration": 38,
    "start_time": "2022-12-28T17:14:41.171Z"
   },
   {
    "duration": 17,
    "start_time": "2022-12-28T17:14:41.211Z"
   },
   {
    "duration": 23,
    "start_time": "2022-12-28T17:14:41.230Z"
   },
   {
    "duration": 13,
    "start_time": "2022-12-28T17:14:41.255Z"
   },
   {
    "duration": 23,
    "start_time": "2022-12-28T17:14:41.270Z"
   },
   {
    "duration": 259,
    "start_time": "2022-12-28T17:14:41.295Z"
   },
   {
    "duration": 647,
    "start_time": "2022-12-28T17:14:41.558Z"
   },
   {
    "duration": 605,
    "start_time": "2022-12-28T17:14:42.207Z"
   },
   {
    "duration": 12,
    "start_time": "2022-12-28T17:14:42.813Z"
   },
   {
    "duration": 7,
    "start_time": "2022-12-28T17:14:42.827Z"
   },
   {
    "duration": 352,
    "start_time": "2022-12-28T17:14:42.835Z"
   },
   {
    "duration": 6,
    "start_time": "2022-12-28T17:14:43.188Z"
   },
   {
    "duration": 43,
    "start_time": "2022-12-28T17:14:43.196Z"
   },
   {
    "duration": 4,
    "start_time": "2022-12-28T17:14:43.241Z"
   },
   {
    "duration": 4,
    "start_time": "2022-12-28T19:10:30.850Z"
   },
   {
    "duration": 3,
    "start_time": "2022-12-28T19:31:05.979Z"
   },
   {
    "duration": 15,
    "start_time": "2022-12-28T19:35:12.434Z"
   },
   {
    "duration": 7,
    "start_time": "2022-12-28T19:35:46.353Z"
   },
   {
    "duration": 6,
    "start_time": "2022-12-28T19:37:07.616Z"
   },
   {
    "duration": 34,
    "start_time": "2022-12-28T19:37:19.945Z"
   },
   {
    "duration": 11,
    "start_time": "2022-12-28T19:42:56.075Z"
   },
   {
    "duration": 4,
    "start_time": "2022-12-28T20:13:37.592Z"
   },
   {
    "duration": 3,
    "start_time": "2022-12-28T20:22:49.880Z"
   },
   {
    "duration": 53,
    "start_time": "2022-12-28T20:27:06.332Z"
   },
   {
    "duration": 2,
    "start_time": "2022-12-28T20:31:23.997Z"
   },
   {
    "duration": 16,
    "start_time": "2022-12-28T20:46:45.331Z"
   },
   {
    "duration": 10,
    "start_time": "2022-12-28T20:46:57.264Z"
   },
   {
    "duration": 4,
    "start_time": "2022-12-28T20:47:42.819Z"
   },
   {
    "duration": 10,
    "start_time": "2022-12-28T20:47:48.905Z"
   },
   {
    "duration": 232,
    "start_time": "2022-12-28T20:48:06.407Z"
   },
   {
    "duration": 32,
    "start_time": "2022-12-28T20:48:45.910Z"
   },
   {
    "duration": 5,
    "start_time": "2022-12-28T20:49:02.832Z"
   },
   {
    "duration": 19536,
    "start_time": "2022-12-28T20:49:42.301Z"
   },
   {
    "duration": 8,
    "start_time": "2022-12-28T20:54:18.929Z"
   },
   {
    "duration": 12,
    "start_time": "2022-12-28T20:54:33.996Z"
   },
   {
    "duration": 5,
    "start_time": "2022-12-28T20:54:47.641Z"
   },
   {
    "duration": 2,
    "start_time": "2022-12-28T20:55:19.737Z"
   },
   {
    "duration": 22981,
    "start_time": "2022-12-28T20:55:22.199Z"
   },
   {
    "duration": 4,
    "start_time": "2022-12-28T20:58:00.397Z"
   },
   {
    "duration": 23959,
    "start_time": "2022-12-28T20:58:05.593Z"
   },
   {
    "duration": 3,
    "start_time": "2022-12-28T21:02:20.308Z"
   },
   {
    "duration": 24130,
    "start_time": "2022-12-28T21:02:27.488Z"
   },
   {
    "duration": 3,
    "start_time": "2022-12-28T21:04:05.251Z"
   },
   {
    "duration": 3,
    "start_time": "2022-12-28T21:04:14.402Z"
   },
   {
    "duration": 4,
    "start_time": "2022-12-28T21:04:31.604Z"
   },
   {
    "duration": 3,
    "start_time": "2022-12-28T21:04:38.600Z"
   },
   {
    "duration": 23555,
    "start_time": "2022-12-28T21:04:40.807Z"
   },
   {
    "duration": 3,
    "start_time": "2022-12-28T21:10:12.060Z"
   },
   {
    "duration": 23034,
    "start_time": "2022-12-28T21:11:11.204Z"
   },
   {
    "duration": 4,
    "start_time": "2022-12-28T21:15:01.818Z"
   },
   {
    "duration": 10,
    "start_time": "2022-12-28T21:15:56.992Z"
   },
   {
    "duration": 19008,
    "start_time": "2022-12-28T21:16:08.147Z"
   },
   {
    "duration": 25597,
    "start_time": "2022-12-28T21:16:27.157Z"
   },
   {
    "duration": 20400,
    "start_time": "2022-12-28T21:17:19.994Z"
   },
   {
    "duration": 20188,
    "start_time": "2022-12-28T21:17:40.396Z"
   },
   {
    "duration": 4,
    "start_time": "2022-12-28T21:18:00.586Z"
   },
   {
    "duration": 4,
    "start_time": "2022-12-28T21:18:47.458Z"
   },
   {
    "duration": 6,
    "start_time": "2022-12-28T21:18:53.132Z"
   },
   {
    "duration": 5,
    "start_time": "2022-12-28T21:18:57.593Z"
   },
   {
    "duration": 5,
    "start_time": "2022-12-28T21:18:57.791Z"
   },
   {
    "duration": 5,
    "start_time": "2022-12-28T21:18:57.992Z"
   },
   {
    "duration": 6,
    "start_time": "2022-12-28T21:18:58.337Z"
   },
   {
    "duration": 1597,
    "start_time": "2022-12-29T14:20:06.850Z"
   },
   {
    "duration": 2132,
    "start_time": "2022-12-29T14:20:08.448Z"
   },
   {
    "duration": 23,
    "start_time": "2022-12-29T14:20:10.581Z"
   },
   {
    "duration": 19,
    "start_time": "2022-12-29T14:20:10.605Z"
   },
   {
    "duration": 17,
    "start_time": "2022-12-29T14:20:10.626Z"
   },
   {
    "duration": 18,
    "start_time": "2022-12-29T14:20:10.645Z"
   },
   {
    "duration": 20,
    "start_time": "2022-12-29T14:20:10.664Z"
   },
   {
    "duration": 38,
    "start_time": "2022-12-29T14:20:10.685Z"
   },
   {
    "duration": 19,
    "start_time": "2022-12-29T14:20:10.725Z"
   },
   {
    "duration": 12,
    "start_time": "2022-12-29T14:20:10.746Z"
   },
   {
    "duration": 7,
    "start_time": "2022-12-29T14:20:10.760Z"
   },
   {
    "duration": 10,
    "start_time": "2022-12-29T14:20:10.769Z"
   },
   {
    "duration": 32,
    "start_time": "2022-12-29T14:20:10.781Z"
   },
   {
    "duration": 8,
    "start_time": "2022-12-29T14:20:10.815Z"
   },
   {
    "duration": 29,
    "start_time": "2022-12-29T14:20:10.825Z"
   },
   {
    "duration": 14,
    "start_time": "2022-12-29T14:20:10.855Z"
   },
   {
    "duration": 20,
    "start_time": "2022-12-29T14:20:10.871Z"
   },
   {
    "duration": 12,
    "start_time": "2022-12-29T14:20:10.893Z"
   },
   {
    "duration": 13,
    "start_time": "2022-12-29T14:20:10.906Z"
   },
   {
    "duration": 17,
    "start_time": "2022-12-29T14:20:10.921Z"
   },
   {
    "duration": 23,
    "start_time": "2022-12-29T14:20:10.940Z"
   },
   {
    "duration": 9,
    "start_time": "2022-12-29T14:20:10.966Z"
   },
   {
    "duration": 8,
    "start_time": "2022-12-29T14:20:10.976Z"
   },
   {
    "duration": 12,
    "start_time": "2022-12-29T14:20:10.986Z"
   },
   {
    "duration": 29,
    "start_time": "2022-12-29T14:20:11.000Z"
   },
   {
    "duration": 11,
    "start_time": "2022-12-29T14:20:11.031Z"
   },
   {
    "duration": 11,
    "start_time": "2022-12-29T14:20:11.043Z"
   },
   {
    "duration": 230,
    "start_time": "2022-12-29T14:20:11.057Z"
   },
   {
    "duration": 557,
    "start_time": "2022-12-29T14:20:11.288Z"
   },
   {
    "duration": 631,
    "start_time": "2022-12-29T14:20:11.847Z"
   },
   {
    "duration": 7,
    "start_time": "2022-12-29T14:20:12.480Z"
   },
   {
    "duration": 369,
    "start_time": "2022-12-29T14:20:12.489Z"
   },
   {
    "duration": 3,
    "start_time": "2022-12-29T14:20:12.860Z"
   },
   {
    "duration": 53,
    "start_time": "2022-12-29T14:20:12.865Z"
   },
   {
    "duration": 4,
    "start_time": "2022-12-29T14:20:12.920Z"
   },
   {
    "duration": 5,
    "start_time": "2022-12-29T14:20:12.925Z"
   },
   {
    "duration": 12,
    "start_time": "2022-12-29T14:20:12.932Z"
   },
   {
    "duration": 8,
    "start_time": "2022-12-29T14:20:12.946Z"
   },
   {
    "duration": 18956,
    "start_time": "2022-12-29T14:20:12.956Z"
   },
   {
    "duration": 18788,
    "start_time": "2022-12-29T14:20:31.915Z"
   },
   {
    "duration": 8,
    "start_time": "2022-12-29T14:20:50.705Z"
   },
   {
    "duration": 175,
    "start_time": "2022-12-29T14:27:05.074Z"
   },
   {
    "duration": 361276,
    "start_time": "2022-12-29T14:27:35.505Z"
   },
   {
    "duration": 353415,
    "start_time": "2022-12-29T14:33:44.837Z"
   },
   {
    "duration": 5,
    "start_time": "2022-12-29T14:40:03.801Z"
   },
   {
    "duration": 4,
    "start_time": "2022-12-29T14:49:38.277Z"
   },
   {
    "duration": 78,
    "start_time": "2022-12-29T14:52:23.793Z"
   },
   {
    "duration": 32,
    "start_time": "2022-12-29T14:52:34.683Z"
   },
   {
    "duration": 69,
    "start_time": "2022-12-29T14:52:43.773Z"
   },
   {
    "duration": 28,
    "start_time": "2022-12-29T14:52:47.171Z"
   },
   {
    "duration": 46,
    "start_time": "2022-12-29T14:56:55.765Z"
   },
   {
    "duration": 48,
    "start_time": "2022-12-29T14:57:04.310Z"
   },
   {
    "duration": 48,
    "start_time": "2022-12-29T14:57:04.853Z"
   },
   {
    "duration": 50,
    "start_time": "2022-12-29T14:57:05.245Z"
   },
   {
    "duration": 50,
    "start_time": "2022-12-29T14:57:05.475Z"
   },
   {
    "duration": 46,
    "start_time": "2022-12-29T14:57:05.682Z"
   },
   {
    "duration": 48,
    "start_time": "2022-12-29T14:57:05.858Z"
   },
   {
    "duration": 45,
    "start_time": "2022-12-29T14:57:06.037Z"
   },
   {
    "duration": 4,
    "start_time": "2022-12-29T15:17:59.681Z"
   },
   {
    "duration": 4,
    "start_time": "2022-12-29T15:18:00.183Z"
   },
   {
    "duration": 4,
    "start_time": "2022-12-29T15:18:00.421Z"
   },
   {
    "duration": 4,
    "start_time": "2022-12-29T15:18:00.608Z"
   },
   {
    "duration": 5,
    "start_time": "2022-12-29T15:18:00.775Z"
   },
   {
    "duration": 6,
    "start_time": "2022-12-29T15:20:57.773Z"
   },
   {
    "duration": 6,
    "start_time": "2022-12-29T15:21:10.275Z"
   },
   {
    "duration": 32,
    "start_time": "2022-12-29T15:38:33.551Z"
   },
   {
    "duration": 4,
    "start_time": "2022-12-29T15:38:41.410Z"
   },
   {
    "duration": 4,
    "start_time": "2022-12-29T15:38:45.880Z"
   },
   {
    "duration": 70,
    "start_time": "2022-12-29T15:39:51.365Z"
   },
   {
    "duration": 33,
    "start_time": "2022-12-29T15:39:56.519Z"
   },
   {
    "duration": 1372,
    "start_time": "2022-12-29T15:47:27.718Z"
   },
   {
    "duration": 651,
    "start_time": "2022-12-29T15:47:29.092Z"
   },
   {
    "duration": 22,
    "start_time": "2022-12-29T15:47:29.745Z"
   },
   {
    "duration": 29,
    "start_time": "2022-12-29T15:47:29.770Z"
   },
   {
    "duration": 26,
    "start_time": "2022-12-29T15:47:29.801Z"
   },
   {
    "duration": 27,
    "start_time": "2022-12-29T15:47:29.828Z"
   },
   {
    "duration": 48,
    "start_time": "2022-12-29T15:47:29.857Z"
   },
   {
    "duration": 25,
    "start_time": "2022-12-29T15:47:29.907Z"
   },
   {
    "duration": 43,
    "start_time": "2022-12-29T15:47:29.934Z"
   },
   {
    "duration": 47,
    "start_time": "2022-12-29T15:47:29.979Z"
   },
   {
    "duration": 30,
    "start_time": "2022-12-29T15:47:30.028Z"
   },
   {
    "duration": 47,
    "start_time": "2022-12-29T15:47:30.060Z"
   },
   {
    "duration": 33,
    "start_time": "2022-12-29T15:47:30.109Z"
   },
   {
    "duration": 61,
    "start_time": "2022-12-29T15:47:30.144Z"
   },
   {
    "duration": 44,
    "start_time": "2022-12-29T15:47:30.206Z"
   },
   {
    "duration": 35,
    "start_time": "2022-12-29T15:47:30.251Z"
   },
   {
    "duration": 41,
    "start_time": "2022-12-29T15:47:30.288Z"
   },
   {
    "duration": 57,
    "start_time": "2022-12-29T15:47:30.330Z"
   },
   {
    "duration": 43,
    "start_time": "2022-12-29T15:47:30.389Z"
   },
   {
    "duration": 73,
    "start_time": "2022-12-29T15:47:30.434Z"
   },
   {
    "duration": 53,
    "start_time": "2022-12-29T15:47:30.508Z"
   },
   {
    "duration": 50,
    "start_time": "2022-12-29T15:47:30.564Z"
   },
   {
    "duration": 52,
    "start_time": "2022-12-29T15:47:30.616Z"
   },
   {
    "duration": 38,
    "start_time": "2022-12-29T15:47:30.669Z"
   },
   {
    "duration": 47,
    "start_time": "2022-12-29T15:47:30.709Z"
   },
   {
    "duration": 24,
    "start_time": "2022-12-29T15:47:30.757Z"
   },
   {
    "duration": 62,
    "start_time": "2022-12-29T15:47:30.782Z"
   },
   {
    "duration": 246,
    "start_time": "2022-12-29T15:47:30.847Z"
   },
   {
    "duration": 553,
    "start_time": "2022-12-29T15:47:31.094Z"
   },
   {
    "duration": 618,
    "start_time": "2022-12-29T15:47:31.648Z"
   },
   {
    "duration": 8,
    "start_time": "2022-12-29T15:47:32.268Z"
   },
   {
    "duration": 370,
    "start_time": "2022-12-29T15:47:32.278Z"
   },
   {
    "duration": 5,
    "start_time": "2022-12-29T15:47:32.650Z"
   },
   {
    "duration": 64,
    "start_time": "2022-12-29T15:47:32.657Z"
   },
   {
    "duration": 5,
    "start_time": "2022-12-29T15:47:32.722Z"
   },
   {
    "duration": 11,
    "start_time": "2022-12-29T15:47:32.729Z"
   },
   {
    "duration": 36,
    "start_time": "2022-12-29T15:47:32.742Z"
   },
   {
    "duration": 9,
    "start_time": "2022-12-29T15:47:32.781Z"
   },
   {
    "duration": 19231,
    "start_time": "2022-12-29T15:47:32.791Z"
   },
   {
    "duration": 19296,
    "start_time": "2022-12-29T15:47:52.024Z"
   },
   {
    "duration": 4,
    "start_time": "2022-12-29T15:48:11.322Z"
   },
   {
    "duration": 365186,
    "start_time": "2022-12-29T15:48:11.327Z"
   },
   {
    "duration": 351612,
    "start_time": "2022-12-29T15:54:16.516Z"
   },
   {
    "duration": 4,
    "start_time": "2022-12-29T16:00:08.130Z"
   },
   {
    "duration": 47,
    "start_time": "2022-12-29T16:00:08.135Z"
   },
   {
    "duration": 42,
    "start_time": "2022-12-29T16:00:08.184Z"
   },
   {
    "duration": 32,
    "start_time": "2022-12-30T11:01:21.122Z"
   },
   {
    "duration": 48,
    "start_time": "2022-12-30T11:01:27.275Z"
   },
   {
    "duration": 1967,
    "start_time": "2023-01-04T14:19:42.148Z"
   },
   {
    "duration": 1129,
    "start_time": "2023-01-04T14:19:44.117Z"
   },
   {
    "duration": 21,
    "start_time": "2023-01-04T14:19:45.248Z"
   },
   {
    "duration": 19,
    "start_time": "2023-01-04T14:19:45.271Z"
   },
   {
    "duration": 37,
    "start_time": "2023-01-04T14:19:45.292Z"
   },
   {
    "duration": 18,
    "start_time": "2023-01-04T14:19:45.330Z"
   },
   {
    "duration": 18,
    "start_time": "2023-01-04T14:19:45.350Z"
   },
   {
    "duration": 45,
    "start_time": "2023-01-04T14:19:45.370Z"
   },
   {
    "duration": 26,
    "start_time": "2023-01-04T14:19:45.417Z"
   },
   {
    "duration": 12,
    "start_time": "2023-01-04T14:19:45.445Z"
   },
   {
    "duration": 8,
    "start_time": "2023-01-04T14:19:45.458Z"
   },
   {
    "duration": 9,
    "start_time": "2023-01-04T14:19:45.468Z"
   },
   {
    "duration": 43,
    "start_time": "2023-01-04T14:19:45.478Z"
   },
   {
    "duration": 6,
    "start_time": "2023-01-04T14:19:45.524Z"
   },
   {
    "duration": 11,
    "start_time": "2023-01-04T14:19:45.531Z"
   },
   {
    "duration": 11,
    "start_time": "2023-01-04T14:19:45.544Z"
   },
   {
    "duration": 13,
    "start_time": "2023-01-04T14:19:45.556Z"
   },
   {
    "duration": 11,
    "start_time": "2023-01-04T14:19:45.571Z"
   },
   {
    "duration": 8,
    "start_time": "2023-01-04T14:19:45.616Z"
   },
   {
    "duration": 12,
    "start_time": "2023-01-04T14:19:45.625Z"
   },
   {
    "duration": 28,
    "start_time": "2023-01-04T14:19:45.639Z"
   },
   {
    "duration": 9,
    "start_time": "2023-01-04T14:19:45.668Z"
   },
   {
    "duration": 9,
    "start_time": "2023-01-04T14:19:45.678Z"
   },
   {
    "duration": 32,
    "start_time": "2023-01-04T14:19:45.688Z"
   },
   {
    "duration": 21,
    "start_time": "2023-01-04T14:19:45.722Z"
   },
   {
    "duration": 12,
    "start_time": "2023-01-04T14:19:45.745Z"
   },
   {
    "duration": 10,
    "start_time": "2023-01-04T14:19:45.758Z"
   },
   {
    "duration": 241,
    "start_time": "2023-01-04T14:19:45.769Z"
   },
   {
    "duration": 602,
    "start_time": "2023-01-04T14:19:46.012Z"
   },
   {
    "duration": 548,
    "start_time": "2023-01-04T14:19:46.615Z"
   },
   {
    "duration": 6,
    "start_time": "2023-01-04T14:19:47.165Z"
   },
   {
    "duration": 378,
    "start_time": "2023-01-04T14:19:47.173Z"
   },
   {
    "duration": 4,
    "start_time": "2023-01-04T14:19:47.553Z"
   },
   {
    "duration": 40,
    "start_time": "2023-01-04T14:19:47.558Z"
   },
   {
    "duration": 18,
    "start_time": "2023-01-04T14:19:47.599Z"
   },
   {
    "duration": 5,
    "start_time": "2023-01-04T14:19:47.619Z"
   },
   {
    "duration": 10,
    "start_time": "2023-01-04T14:19:47.626Z"
   },
   {
    "duration": 4,
    "start_time": "2023-01-04T14:19:47.638Z"
   },
   {
    "duration": 22100,
    "start_time": "2023-01-04T14:19:47.644Z"
   },
   {
    "duration": 20502,
    "start_time": "2023-01-04T14:20:09.745Z"
   },
   {
    "duration": 4,
    "start_time": "2023-01-04T14:20:30.250Z"
   },
   {
    "duration": 560731,
    "start_time": "2023-01-04T14:20:30.256Z"
   },
   {
    "duration": 387966,
    "start_time": "2023-01-04T14:29:50.989Z"
   },
   {
    "duration": 5,
    "start_time": "2023-01-04T14:36:18.957Z"
   },
   {
    "duration": 82,
    "start_time": "2023-01-04T14:36:18.964Z"
   },
   {
    "duration": 35,
    "start_time": "2023-01-04T14:36:19.048Z"
   },
   {
    "duration": 103,
    "start_time": "2023-06-20T21:58:51.414Z"
   }
  ],
  "kernelspec": {
   "display_name": "Python 3 (ipykernel)",
   "language": "python",
   "name": "python3"
  },
  "language_info": {
   "codemirror_mode": {
    "name": "ipython",
    "version": 3
   },
   "file_extension": ".py",
   "mimetype": "text/x-python",
   "name": "python",
   "nbconvert_exporter": "python",
   "pygments_lexer": "ipython3",
   "version": "3.9.13"
  },
  "toc": {
   "base_numbering": 1,
   "nav_menu": {},
   "number_sections": true,
   "sideBar": true,
   "skip_h1_title": true,
   "title_cell": "Содержание",
   "title_sidebar": "Contents",
   "toc_cell": true,
   "toc_position": {
    "height": "calc(100% - 180px)",
    "left": "10px",
    "top": "150px",
    "width": "299px"
   },
   "toc_section_display": true,
   "toc_window_display": true
  }
 },
 "nbformat": 4,
 "nbformat_minor": 4
}
