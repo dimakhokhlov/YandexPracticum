{
 "cells": [
  {
   "cell_type": "markdown",
   "id": "2765d954",
   "metadata": {
    "deletable": false,
    "editable": false,
    "id": "c81daeeb"
   },
   "source": [
    "# Исследование надежности заемщиков\n"
   ]
  },
  {
   "cell_type": "markdown",
   "id": "f367a9ba",
   "metadata": {
    "deletable": false,
    "editable": false,
    "id": "827c20bf"
   },
   "source": [
    "Во второй части проекта вы выполните шаги 3 и 4. Их вручную проверит ревьюер.\n",
    "Чтобы вам не пришлось писать код заново для шагов 1 и 2, мы добавили авторские решения в ячейки с кодом. \n",
    "\n"
   ]
  },
  {
   "cell_type": "markdown",
   "id": "0de71d13",
   "metadata": {},
   "source": [
    "**Цель**: определить, влияют ли семейное положение, количество детей, цель кредита, уроень дохода на факт погашения кредита в срок."
   ]
  },
  {
   "cell_type": "markdown",
   "id": "d6c9c029",
   "metadata": {},
   "source": [
    "Вся информация содержится в файле data.csv, на основе которой буду проводить данное исследование. Сами данные:\n",
    "- `children` — количество детей в семье\n",
    "- `days_employed` — общий трудовой стаж в днях\n",
    "- `dob_years` — возраст клиента в годах\n",
    "- `education` — уровень образования клиента\n",
    "- `education_id` — идентификатор уровня образования\n",
    "- `family_status` — семейное положение\n",
    "- `family_status_id` — идентификатор семейного положения\n",
    "- `gender` — пол клиента\n",
    "- `income_type` — тип занятости\n",
    "- `debt` — имел ли задолженность по возврату кредитов\n",
    "- `total_income` — ежемесячный доход\n",
    "- `purpose` — цель получения кредита\n",
    "\n",
    "Начну с предобработки: поиск пропусков, аномалий, дубликатов. Нужно привести данные в удобоваримый вид для корректного, не искаженного исследования."
   ]
  },
  {
   "cell_type": "markdown",
   "id": "993baace",
   "metadata": {
    "deletable": false,
    "editable": false,
    "id": "744d7639"
   },
   "source": [
    "## Откройте таблицу и изучите общую информацию о данных"
   ]
  },
  {
   "cell_type": "markdown",
   "id": "7a19602f",
   "metadata": {
    "deletable": false,
    "editable": false,
    "id": "e7a14c31"
   },
   "source": [
    "**Задание 1. Импортируйте библиотеку pandas. Считайте данные из csv-файла в датафрейм и сохраните в переменную `data`. Путь к файлу:**\n",
    "\n",
    "`/datasets/data.csv`"
   ]
  },
  {
   "cell_type": "code",
   "execution_count": 1,
   "id": "da16a39b",
   "metadata": {},
   "outputs": [],
   "source": [
    "import pandas as pd"
   ]
  },
  {
   "cell_type": "code",
   "execution_count": 2,
   "id": "878a8bf3",
   "metadata": {
    "deletable": false,
    "id": "7bcf75c9"
   },
   "outputs": [],
   "source": [
    "try:\n",
    "    data = pd.read_csv('/datasets/data.csv')\n",
    "except:\n",
    "    data = pd.read_csv('https://code.s3.yandex.net/datasets/data.csv')"
   ]
  },
  {
   "cell_type": "markdown",
   "id": "3204bc1e",
   "metadata": {
    "deletable": false,
    "editable": false,
    "id": "b8038fe3"
   },
   "source": [
    "**Задание 2. Выведите первые 20 строчек датафрейма `data` на экран.**"
   ]
  },
  {
   "cell_type": "code",
   "execution_count": 3,
   "id": "4333614c",
   "metadata": {
    "deletable": false,
    "id": "2a7cab99",
    "outputId": "1a8f3ef2-d323-4ec2-ddf7-89670b5944c4"
   },
   "outputs": [
    {
     "data": {
      "text/html": [
       "<div>\n",
       "<style scoped>\n",
       "    .dataframe tbody tr th:only-of-type {\n",
       "        vertical-align: middle;\n",
       "    }\n",
       "\n",
       "    .dataframe tbody tr th {\n",
       "        vertical-align: top;\n",
       "    }\n",
       "\n",
       "    .dataframe thead th {\n",
       "        text-align: right;\n",
       "    }\n",
       "</style>\n",
       "<table border=\"1\" class=\"dataframe\">\n",
       "  <thead>\n",
       "    <tr style=\"text-align: right;\">\n",
       "      <th></th>\n",
       "      <th>children</th>\n",
       "      <th>days_employed</th>\n",
       "      <th>dob_years</th>\n",
       "      <th>education</th>\n",
       "      <th>education_id</th>\n",
       "      <th>family_status</th>\n",
       "      <th>family_status_id</th>\n",
       "      <th>gender</th>\n",
       "      <th>income_type</th>\n",
       "      <th>debt</th>\n",
       "      <th>total_income</th>\n",
       "      <th>purpose</th>\n",
       "    </tr>\n",
       "  </thead>\n",
       "  <tbody>\n",
       "    <tr>\n",
       "      <th>0</th>\n",
       "      <td>1</td>\n",
       "      <td>-8437.673028</td>\n",
       "      <td>42</td>\n",
       "      <td>высшее</td>\n",
       "      <td>0</td>\n",
       "      <td>женат / замужем</td>\n",
       "      <td>0</td>\n",
       "      <td>F</td>\n",
       "      <td>сотрудник</td>\n",
       "      <td>0</td>\n",
       "      <td>253875.639453</td>\n",
       "      <td>покупка жилья</td>\n",
       "    </tr>\n",
       "    <tr>\n",
       "      <th>1</th>\n",
       "      <td>1</td>\n",
       "      <td>-4024.803754</td>\n",
       "      <td>36</td>\n",
       "      <td>среднее</td>\n",
       "      <td>1</td>\n",
       "      <td>женат / замужем</td>\n",
       "      <td>0</td>\n",
       "      <td>F</td>\n",
       "      <td>сотрудник</td>\n",
       "      <td>0</td>\n",
       "      <td>112080.014102</td>\n",
       "      <td>приобретение автомобиля</td>\n",
       "    </tr>\n",
       "    <tr>\n",
       "      <th>2</th>\n",
       "      <td>0</td>\n",
       "      <td>-5623.422610</td>\n",
       "      <td>33</td>\n",
       "      <td>Среднее</td>\n",
       "      <td>1</td>\n",
       "      <td>женат / замужем</td>\n",
       "      <td>0</td>\n",
       "      <td>M</td>\n",
       "      <td>сотрудник</td>\n",
       "      <td>0</td>\n",
       "      <td>145885.952297</td>\n",
       "      <td>покупка жилья</td>\n",
       "    </tr>\n",
       "    <tr>\n",
       "      <th>3</th>\n",
       "      <td>3</td>\n",
       "      <td>-4124.747207</td>\n",
       "      <td>32</td>\n",
       "      <td>среднее</td>\n",
       "      <td>1</td>\n",
       "      <td>женат / замужем</td>\n",
       "      <td>0</td>\n",
       "      <td>M</td>\n",
       "      <td>сотрудник</td>\n",
       "      <td>0</td>\n",
       "      <td>267628.550329</td>\n",
       "      <td>дополнительное образование</td>\n",
       "    </tr>\n",
       "    <tr>\n",
       "      <th>4</th>\n",
       "      <td>0</td>\n",
       "      <td>340266.072047</td>\n",
       "      <td>53</td>\n",
       "      <td>среднее</td>\n",
       "      <td>1</td>\n",
       "      <td>гражданский брак</td>\n",
       "      <td>1</td>\n",
       "      <td>F</td>\n",
       "      <td>пенсионер</td>\n",
       "      <td>0</td>\n",
       "      <td>158616.077870</td>\n",
       "      <td>сыграть свадьбу</td>\n",
       "    </tr>\n",
       "    <tr>\n",
       "      <th>5</th>\n",
       "      <td>0</td>\n",
       "      <td>-926.185831</td>\n",
       "      <td>27</td>\n",
       "      <td>высшее</td>\n",
       "      <td>0</td>\n",
       "      <td>гражданский брак</td>\n",
       "      <td>1</td>\n",
       "      <td>M</td>\n",
       "      <td>компаньон</td>\n",
       "      <td>0</td>\n",
       "      <td>255763.565419</td>\n",
       "      <td>покупка жилья</td>\n",
       "    </tr>\n",
       "    <tr>\n",
       "      <th>6</th>\n",
       "      <td>0</td>\n",
       "      <td>-2879.202052</td>\n",
       "      <td>43</td>\n",
       "      <td>высшее</td>\n",
       "      <td>0</td>\n",
       "      <td>женат / замужем</td>\n",
       "      <td>0</td>\n",
       "      <td>F</td>\n",
       "      <td>компаньон</td>\n",
       "      <td>0</td>\n",
       "      <td>240525.971920</td>\n",
       "      <td>операции с жильем</td>\n",
       "    </tr>\n",
       "    <tr>\n",
       "      <th>7</th>\n",
       "      <td>0</td>\n",
       "      <td>-152.779569</td>\n",
       "      <td>50</td>\n",
       "      <td>СРЕДНЕЕ</td>\n",
       "      <td>1</td>\n",
       "      <td>женат / замужем</td>\n",
       "      <td>0</td>\n",
       "      <td>M</td>\n",
       "      <td>сотрудник</td>\n",
       "      <td>0</td>\n",
       "      <td>135823.934197</td>\n",
       "      <td>образование</td>\n",
       "    </tr>\n",
       "    <tr>\n",
       "      <th>8</th>\n",
       "      <td>2</td>\n",
       "      <td>-6929.865299</td>\n",
       "      <td>35</td>\n",
       "      <td>ВЫСШЕЕ</td>\n",
       "      <td>0</td>\n",
       "      <td>гражданский брак</td>\n",
       "      <td>1</td>\n",
       "      <td>F</td>\n",
       "      <td>сотрудник</td>\n",
       "      <td>0</td>\n",
       "      <td>95856.832424</td>\n",
       "      <td>на проведение свадьбы</td>\n",
       "    </tr>\n",
       "    <tr>\n",
       "      <th>9</th>\n",
       "      <td>0</td>\n",
       "      <td>-2188.756445</td>\n",
       "      <td>41</td>\n",
       "      <td>среднее</td>\n",
       "      <td>1</td>\n",
       "      <td>женат / замужем</td>\n",
       "      <td>0</td>\n",
       "      <td>M</td>\n",
       "      <td>сотрудник</td>\n",
       "      <td>0</td>\n",
       "      <td>144425.938277</td>\n",
       "      <td>покупка жилья для семьи</td>\n",
       "    </tr>\n",
       "    <tr>\n",
       "      <th>10</th>\n",
       "      <td>2</td>\n",
       "      <td>-4171.483647</td>\n",
       "      <td>36</td>\n",
       "      <td>высшее</td>\n",
       "      <td>0</td>\n",
       "      <td>женат / замужем</td>\n",
       "      <td>0</td>\n",
       "      <td>M</td>\n",
       "      <td>компаньон</td>\n",
       "      <td>0</td>\n",
       "      <td>113943.491460</td>\n",
       "      <td>покупка недвижимости</td>\n",
       "    </tr>\n",
       "    <tr>\n",
       "      <th>11</th>\n",
       "      <td>0</td>\n",
       "      <td>-792.701887</td>\n",
       "      <td>40</td>\n",
       "      <td>среднее</td>\n",
       "      <td>1</td>\n",
       "      <td>женат / замужем</td>\n",
       "      <td>0</td>\n",
       "      <td>F</td>\n",
       "      <td>сотрудник</td>\n",
       "      <td>0</td>\n",
       "      <td>77069.234271</td>\n",
       "      <td>покупка коммерческой недвижимости</td>\n",
       "    </tr>\n",
       "    <tr>\n",
       "      <th>12</th>\n",
       "      <td>0</td>\n",
       "      <td>NaN</td>\n",
       "      <td>65</td>\n",
       "      <td>среднее</td>\n",
       "      <td>1</td>\n",
       "      <td>гражданский брак</td>\n",
       "      <td>1</td>\n",
       "      <td>M</td>\n",
       "      <td>пенсионер</td>\n",
       "      <td>0</td>\n",
       "      <td>NaN</td>\n",
       "      <td>сыграть свадьбу</td>\n",
       "    </tr>\n",
       "    <tr>\n",
       "      <th>13</th>\n",
       "      <td>0</td>\n",
       "      <td>-1846.641941</td>\n",
       "      <td>54</td>\n",
       "      <td>неоконченное высшее</td>\n",
       "      <td>2</td>\n",
       "      <td>женат / замужем</td>\n",
       "      <td>0</td>\n",
       "      <td>F</td>\n",
       "      <td>сотрудник</td>\n",
       "      <td>0</td>\n",
       "      <td>130458.228857</td>\n",
       "      <td>приобретение автомобиля</td>\n",
       "    </tr>\n",
       "    <tr>\n",
       "      <th>14</th>\n",
       "      <td>0</td>\n",
       "      <td>-1844.956182</td>\n",
       "      <td>56</td>\n",
       "      <td>высшее</td>\n",
       "      <td>0</td>\n",
       "      <td>гражданский брак</td>\n",
       "      <td>1</td>\n",
       "      <td>F</td>\n",
       "      <td>компаньон</td>\n",
       "      <td>1</td>\n",
       "      <td>165127.911772</td>\n",
       "      <td>покупка жилой недвижимости</td>\n",
       "    </tr>\n",
       "    <tr>\n",
       "      <th>15</th>\n",
       "      <td>1</td>\n",
       "      <td>-972.364419</td>\n",
       "      <td>26</td>\n",
       "      <td>среднее</td>\n",
       "      <td>1</td>\n",
       "      <td>женат / замужем</td>\n",
       "      <td>0</td>\n",
       "      <td>F</td>\n",
       "      <td>сотрудник</td>\n",
       "      <td>0</td>\n",
       "      <td>116820.904450</td>\n",
       "      <td>строительство собственной недвижимости</td>\n",
       "    </tr>\n",
       "    <tr>\n",
       "      <th>16</th>\n",
       "      <td>0</td>\n",
       "      <td>-1719.934226</td>\n",
       "      <td>35</td>\n",
       "      <td>среднее</td>\n",
       "      <td>1</td>\n",
       "      <td>женат / замужем</td>\n",
       "      <td>0</td>\n",
       "      <td>F</td>\n",
       "      <td>сотрудник</td>\n",
       "      <td>0</td>\n",
       "      <td>289202.704229</td>\n",
       "      <td>недвижимость</td>\n",
       "    </tr>\n",
       "    <tr>\n",
       "      <th>17</th>\n",
       "      <td>0</td>\n",
       "      <td>-2369.999720</td>\n",
       "      <td>33</td>\n",
       "      <td>высшее</td>\n",
       "      <td>0</td>\n",
       "      <td>гражданский брак</td>\n",
       "      <td>1</td>\n",
       "      <td>M</td>\n",
       "      <td>сотрудник</td>\n",
       "      <td>0</td>\n",
       "      <td>90410.586745</td>\n",
       "      <td>строительство недвижимости</td>\n",
       "    </tr>\n",
       "    <tr>\n",
       "      <th>18</th>\n",
       "      <td>0</td>\n",
       "      <td>400281.136913</td>\n",
       "      <td>53</td>\n",
       "      <td>среднее</td>\n",
       "      <td>1</td>\n",
       "      <td>вдовец / вдова</td>\n",
       "      <td>2</td>\n",
       "      <td>F</td>\n",
       "      <td>пенсионер</td>\n",
       "      <td>0</td>\n",
       "      <td>56823.777243</td>\n",
       "      <td>на покупку подержанного автомобиля</td>\n",
       "    </tr>\n",
       "    <tr>\n",
       "      <th>19</th>\n",
       "      <td>0</td>\n",
       "      <td>-10038.818549</td>\n",
       "      <td>48</td>\n",
       "      <td>СРЕДНЕЕ</td>\n",
       "      <td>1</td>\n",
       "      <td>в разводе</td>\n",
       "      <td>3</td>\n",
       "      <td>F</td>\n",
       "      <td>сотрудник</td>\n",
       "      <td>0</td>\n",
       "      <td>242831.107982</td>\n",
       "      <td>на покупку своего автомобиля</td>\n",
       "    </tr>\n",
       "  </tbody>\n",
       "</table>\n",
       "</div>"
      ],
      "text/plain": [
       "    children  days_employed  dob_years            education  education_id  \\\n",
       "0          1   -8437.673028         42               высшее             0   \n",
       "1          1   -4024.803754         36              среднее             1   \n",
       "2          0   -5623.422610         33              Среднее             1   \n",
       "3          3   -4124.747207         32              среднее             1   \n",
       "4          0  340266.072047         53              среднее             1   \n",
       "5          0    -926.185831         27               высшее             0   \n",
       "6          0   -2879.202052         43               высшее             0   \n",
       "7          0    -152.779569         50              СРЕДНЕЕ             1   \n",
       "8          2   -6929.865299         35               ВЫСШЕЕ             0   \n",
       "9          0   -2188.756445         41              среднее             1   \n",
       "10         2   -4171.483647         36               высшее             0   \n",
       "11         0    -792.701887         40              среднее             1   \n",
       "12         0            NaN         65              среднее             1   \n",
       "13         0   -1846.641941         54  неоконченное высшее             2   \n",
       "14         0   -1844.956182         56               высшее             0   \n",
       "15         1    -972.364419         26              среднее             1   \n",
       "16         0   -1719.934226         35              среднее             1   \n",
       "17         0   -2369.999720         33               высшее             0   \n",
       "18         0  400281.136913         53              среднее             1   \n",
       "19         0  -10038.818549         48              СРЕДНЕЕ             1   \n",
       "\n",
       "       family_status  family_status_id gender income_type  debt  \\\n",
       "0    женат / замужем                 0      F   сотрудник     0   \n",
       "1    женат / замужем                 0      F   сотрудник     0   \n",
       "2    женат / замужем                 0      M   сотрудник     0   \n",
       "3    женат / замужем                 0      M   сотрудник     0   \n",
       "4   гражданский брак                 1      F   пенсионер     0   \n",
       "5   гражданский брак                 1      M   компаньон     0   \n",
       "6    женат / замужем                 0      F   компаньон     0   \n",
       "7    женат / замужем                 0      M   сотрудник     0   \n",
       "8   гражданский брак                 1      F   сотрудник     0   \n",
       "9    женат / замужем                 0      M   сотрудник     0   \n",
       "10   женат / замужем                 0      M   компаньон     0   \n",
       "11   женат / замужем                 0      F   сотрудник     0   \n",
       "12  гражданский брак                 1      M   пенсионер     0   \n",
       "13   женат / замужем                 0      F   сотрудник     0   \n",
       "14  гражданский брак                 1      F   компаньон     1   \n",
       "15   женат / замужем                 0      F   сотрудник     0   \n",
       "16   женат / замужем                 0      F   сотрудник     0   \n",
       "17  гражданский брак                 1      M   сотрудник     0   \n",
       "18    вдовец / вдова                 2      F   пенсионер     0   \n",
       "19         в разводе                 3      F   сотрудник     0   \n",
       "\n",
       "     total_income                                 purpose  \n",
       "0   253875.639453                           покупка жилья  \n",
       "1   112080.014102                 приобретение автомобиля  \n",
       "2   145885.952297                           покупка жилья  \n",
       "3   267628.550329              дополнительное образование  \n",
       "4   158616.077870                         сыграть свадьбу  \n",
       "5   255763.565419                           покупка жилья  \n",
       "6   240525.971920                       операции с жильем  \n",
       "7   135823.934197                             образование  \n",
       "8    95856.832424                   на проведение свадьбы  \n",
       "9   144425.938277                 покупка жилья для семьи  \n",
       "10  113943.491460                    покупка недвижимости  \n",
       "11   77069.234271       покупка коммерческой недвижимости  \n",
       "12            NaN                         сыграть свадьбу  \n",
       "13  130458.228857                 приобретение автомобиля  \n",
       "14  165127.911772              покупка жилой недвижимости  \n",
       "15  116820.904450  строительство собственной недвижимости  \n",
       "16  289202.704229                            недвижимость  \n",
       "17   90410.586745              строительство недвижимости  \n",
       "18   56823.777243      на покупку подержанного автомобиля  \n",
       "19  242831.107982            на покупку своего автомобиля  "
      ]
     },
     "execution_count": 3,
     "metadata": {},
     "output_type": "execute_result"
    }
   ],
   "source": [
    "data.head(20)"
   ]
  },
  {
   "cell_type": "markdown",
   "id": "6efb6a97",
   "metadata": {
    "deletable": false,
    "editable": false,
    "id": "1c12e233"
   },
   "source": [
    "**Задание 3. Выведите основную информацию о датафрейме с помощью метода `info()`.**"
   ]
  },
  {
   "cell_type": "code",
   "execution_count": 4,
   "id": "4f36adb5",
   "metadata": {
    "deletable": false,
    "id": "2b757bca",
    "outputId": "15376089-8dad-46c9-b520-c05248d43158"
   },
   "outputs": [
    {
     "name": "stdout",
     "output_type": "stream",
     "text": [
      "<class 'pandas.core.frame.DataFrame'>\n",
      "RangeIndex: 21525 entries, 0 to 21524\n",
      "Data columns (total 12 columns):\n",
      " #   Column            Non-Null Count  Dtype  \n",
      "---  ------            --------------  -----  \n",
      " 0   children          21525 non-null  int64  \n",
      " 1   days_employed     19351 non-null  float64\n",
      " 2   dob_years         21525 non-null  int64  \n",
      " 3   education         21525 non-null  object \n",
      " 4   education_id      21525 non-null  int64  \n",
      " 5   family_status     21525 non-null  object \n",
      " 6   family_status_id  21525 non-null  int64  \n",
      " 7   gender            21525 non-null  object \n",
      " 8   income_type       21525 non-null  object \n",
      " 9   debt              21525 non-null  int64  \n",
      " 10  total_income      19351 non-null  float64\n",
      " 11  purpose           21525 non-null  object \n",
      "dtypes: float64(2), int64(5), object(5)\n",
      "memory usage: 2.0+ MB\n"
     ]
    }
   ],
   "source": [
    "data.info()"
   ]
  },
  {
   "cell_type": "markdown",
   "id": "9aec7877",
   "metadata": {
    "deletable": false,
    "editable": false,
    "id": "333ec665"
   },
   "source": [
    "## Предобработка данных"
   ]
  },
  {
   "cell_type": "markdown",
   "id": "4cf83558",
   "metadata": {
    "deletable": false,
    "editable": false,
    "id": "02d92d53"
   },
   "source": [
    "### Удаление пропусков"
   ]
  },
  {
   "cell_type": "markdown",
   "id": "58007237",
   "metadata": {
    "deletable": false,
    "editable": false,
    "id": "cd84967c"
   },
   "source": [
    "**Задание 4. Выведите количество пропущенных значений для каждого столбца. Используйте комбинацию двух методов.**"
   ]
  },
  {
   "cell_type": "code",
   "execution_count": 5,
   "id": "c1644d6b",
   "metadata": {
    "deletable": false,
    "id": "7f9b2309",
    "outputId": "81f4d817-781c-465c-ed15-91ce4446810d"
   },
   "outputs": [
    {
     "data": {
      "text/plain": [
       "children               0\n",
       "days_employed       2174\n",
       "dob_years              0\n",
       "education              0\n",
       "education_id           0\n",
       "family_status          0\n",
       "family_status_id       0\n",
       "gender                 0\n",
       "income_type            0\n",
       "debt                   0\n",
       "total_income        2174\n",
       "purpose                0\n",
       "dtype: int64"
      ]
     },
     "execution_count": 5,
     "metadata": {},
     "output_type": "execute_result"
    }
   ],
   "source": [
    "data.isna().sum()"
   ]
  },
  {
   "cell_type": "markdown",
   "id": "a0db50f7",
   "metadata": {},
   "source": [
    "Обнаружено одинаковое количество (≈10% от всего столбца) пропусков в `days_employed` и `total_income`, скорее всего они были допущены одними и теми же людьми. Перепроверим, задав определенное условие:"
   ]
  },
  {
   "cell_type": "code",
   "execution_count": 6,
   "id": "49f85ec5",
   "metadata": {},
   "outputs": [
    {
     "data": {
      "text/html": [
       "<div>\n",
       "<style scoped>\n",
       "    .dataframe tbody tr th:only-of-type {\n",
       "        vertical-align: middle;\n",
       "    }\n",
       "\n",
       "    .dataframe tbody tr th {\n",
       "        vertical-align: top;\n",
       "    }\n",
       "\n",
       "    .dataframe thead th {\n",
       "        text-align: right;\n",
       "    }\n",
       "</style>\n",
       "<table border=\"1\" class=\"dataframe\">\n",
       "  <thead>\n",
       "    <tr style=\"text-align: right;\">\n",
       "      <th></th>\n",
       "      <th>children</th>\n",
       "      <th>days_employed</th>\n",
       "      <th>dob_years</th>\n",
       "      <th>education</th>\n",
       "      <th>education_id</th>\n",
       "      <th>family_status</th>\n",
       "      <th>family_status_id</th>\n",
       "      <th>gender</th>\n",
       "      <th>income_type</th>\n",
       "      <th>debt</th>\n",
       "      <th>total_income</th>\n",
       "      <th>purpose</th>\n",
       "    </tr>\n",
       "  </thead>\n",
       "  <tbody>\n",
       "    <tr>\n",
       "      <th>12</th>\n",
       "      <td>0</td>\n",
       "      <td>NaN</td>\n",
       "      <td>65</td>\n",
       "      <td>среднее</td>\n",
       "      <td>1</td>\n",
       "      <td>гражданский брак</td>\n",
       "      <td>1</td>\n",
       "      <td>M</td>\n",
       "      <td>пенсионер</td>\n",
       "      <td>0</td>\n",
       "      <td>NaN</td>\n",
       "      <td>сыграть свадьбу</td>\n",
       "    </tr>\n",
       "    <tr>\n",
       "      <th>26</th>\n",
       "      <td>0</td>\n",
       "      <td>NaN</td>\n",
       "      <td>41</td>\n",
       "      <td>среднее</td>\n",
       "      <td>1</td>\n",
       "      <td>женат / замужем</td>\n",
       "      <td>0</td>\n",
       "      <td>M</td>\n",
       "      <td>госслужащий</td>\n",
       "      <td>0</td>\n",
       "      <td>NaN</td>\n",
       "      <td>образование</td>\n",
       "    </tr>\n",
       "    <tr>\n",
       "      <th>29</th>\n",
       "      <td>0</td>\n",
       "      <td>NaN</td>\n",
       "      <td>63</td>\n",
       "      <td>среднее</td>\n",
       "      <td>1</td>\n",
       "      <td>Не женат / не замужем</td>\n",
       "      <td>4</td>\n",
       "      <td>F</td>\n",
       "      <td>пенсионер</td>\n",
       "      <td>0</td>\n",
       "      <td>NaN</td>\n",
       "      <td>строительство жилой недвижимости</td>\n",
       "    </tr>\n",
       "    <tr>\n",
       "      <th>41</th>\n",
       "      <td>0</td>\n",
       "      <td>NaN</td>\n",
       "      <td>50</td>\n",
       "      <td>среднее</td>\n",
       "      <td>1</td>\n",
       "      <td>женат / замужем</td>\n",
       "      <td>0</td>\n",
       "      <td>F</td>\n",
       "      <td>госслужащий</td>\n",
       "      <td>0</td>\n",
       "      <td>NaN</td>\n",
       "      <td>сделка с подержанным автомобилем</td>\n",
       "    </tr>\n",
       "    <tr>\n",
       "      <th>55</th>\n",
       "      <td>0</td>\n",
       "      <td>NaN</td>\n",
       "      <td>54</td>\n",
       "      <td>среднее</td>\n",
       "      <td>1</td>\n",
       "      <td>гражданский брак</td>\n",
       "      <td>1</td>\n",
       "      <td>F</td>\n",
       "      <td>пенсионер</td>\n",
       "      <td>1</td>\n",
       "      <td>NaN</td>\n",
       "      <td>сыграть свадьбу</td>\n",
       "    </tr>\n",
       "    <tr>\n",
       "      <th>...</th>\n",
       "      <td>...</td>\n",
       "      <td>...</td>\n",
       "      <td>...</td>\n",
       "      <td>...</td>\n",
       "      <td>...</td>\n",
       "      <td>...</td>\n",
       "      <td>...</td>\n",
       "      <td>...</td>\n",
       "      <td>...</td>\n",
       "      <td>...</td>\n",
       "      <td>...</td>\n",
       "      <td>...</td>\n",
       "    </tr>\n",
       "    <tr>\n",
       "      <th>21489</th>\n",
       "      <td>2</td>\n",
       "      <td>NaN</td>\n",
       "      <td>47</td>\n",
       "      <td>Среднее</td>\n",
       "      <td>1</td>\n",
       "      <td>женат / замужем</td>\n",
       "      <td>0</td>\n",
       "      <td>M</td>\n",
       "      <td>компаньон</td>\n",
       "      <td>0</td>\n",
       "      <td>NaN</td>\n",
       "      <td>сделка с автомобилем</td>\n",
       "    </tr>\n",
       "    <tr>\n",
       "      <th>21495</th>\n",
       "      <td>1</td>\n",
       "      <td>NaN</td>\n",
       "      <td>50</td>\n",
       "      <td>среднее</td>\n",
       "      <td>1</td>\n",
       "      <td>гражданский брак</td>\n",
       "      <td>1</td>\n",
       "      <td>F</td>\n",
       "      <td>сотрудник</td>\n",
       "      <td>0</td>\n",
       "      <td>NaN</td>\n",
       "      <td>свадьба</td>\n",
       "    </tr>\n",
       "    <tr>\n",
       "      <th>21497</th>\n",
       "      <td>0</td>\n",
       "      <td>NaN</td>\n",
       "      <td>48</td>\n",
       "      <td>ВЫСШЕЕ</td>\n",
       "      <td>0</td>\n",
       "      <td>женат / замужем</td>\n",
       "      <td>0</td>\n",
       "      <td>F</td>\n",
       "      <td>компаньон</td>\n",
       "      <td>0</td>\n",
       "      <td>NaN</td>\n",
       "      <td>строительство недвижимости</td>\n",
       "    </tr>\n",
       "    <tr>\n",
       "      <th>21502</th>\n",
       "      <td>1</td>\n",
       "      <td>NaN</td>\n",
       "      <td>42</td>\n",
       "      <td>среднее</td>\n",
       "      <td>1</td>\n",
       "      <td>женат / замужем</td>\n",
       "      <td>0</td>\n",
       "      <td>F</td>\n",
       "      <td>сотрудник</td>\n",
       "      <td>0</td>\n",
       "      <td>NaN</td>\n",
       "      <td>строительство жилой недвижимости</td>\n",
       "    </tr>\n",
       "    <tr>\n",
       "      <th>21510</th>\n",
       "      <td>2</td>\n",
       "      <td>NaN</td>\n",
       "      <td>28</td>\n",
       "      <td>среднее</td>\n",
       "      <td>1</td>\n",
       "      <td>женат / замужем</td>\n",
       "      <td>0</td>\n",
       "      <td>F</td>\n",
       "      <td>сотрудник</td>\n",
       "      <td>0</td>\n",
       "      <td>NaN</td>\n",
       "      <td>приобретение автомобиля</td>\n",
       "    </tr>\n",
       "  </tbody>\n",
       "</table>\n",
       "<p>2174 rows × 12 columns</p>\n",
       "</div>"
      ],
      "text/plain": [
       "       children  days_employed  dob_years education  education_id  \\\n",
       "12            0            NaN         65   среднее             1   \n",
       "26            0            NaN         41   среднее             1   \n",
       "29            0            NaN         63   среднее             1   \n",
       "41            0            NaN         50   среднее             1   \n",
       "55            0            NaN         54   среднее             1   \n",
       "...         ...            ...        ...       ...           ...   \n",
       "21489         2            NaN         47   Среднее             1   \n",
       "21495         1            NaN         50   среднее             1   \n",
       "21497         0            NaN         48    ВЫСШЕЕ             0   \n",
       "21502         1            NaN         42   среднее             1   \n",
       "21510         2            NaN         28   среднее             1   \n",
       "\n",
       "               family_status  family_status_id gender  income_type  debt  \\\n",
       "12          гражданский брак                 1      M    пенсионер     0   \n",
       "26           женат / замужем                 0      M  госслужащий     0   \n",
       "29     Не женат / не замужем                 4      F    пенсионер     0   \n",
       "41           женат / замужем                 0      F  госслужащий     0   \n",
       "55          гражданский брак                 1      F    пенсионер     1   \n",
       "...                      ...               ...    ...          ...   ...   \n",
       "21489        женат / замужем                 0      M    компаньон     0   \n",
       "21495       гражданский брак                 1      F    сотрудник     0   \n",
       "21497        женат / замужем                 0      F    компаньон     0   \n",
       "21502        женат / замужем                 0      F    сотрудник     0   \n",
       "21510        женат / замужем                 0      F    сотрудник     0   \n",
       "\n",
       "       total_income                           purpose  \n",
       "12              NaN                   сыграть свадьбу  \n",
       "26              NaN                       образование  \n",
       "29              NaN  строительство жилой недвижимости  \n",
       "41              NaN  сделка с подержанным автомобилем  \n",
       "55              NaN                   сыграть свадьбу  \n",
       "...             ...                               ...  \n",
       "21489           NaN              сделка с автомобилем  \n",
       "21495           NaN                           свадьба  \n",
       "21497           NaN        строительство недвижимости  \n",
       "21502           NaN  строительство жилой недвижимости  \n",
       "21510           NaN           приобретение автомобиля  \n",
       "\n",
       "[2174 rows x 12 columns]"
      ]
     },
     "execution_count": 6,
     "metadata": {},
     "output_type": "execute_result"
    }
   ],
   "source": [
    "data[data['days_employed'].isna() & data['total_income'].isna()] "
   ]
  },
  {
   "cell_type": "markdown",
   "id": "2f7d4533",
   "metadata": {},
   "source": [
    "Да, это одни и те же люди - количество строк в индексированном датасете совпадает.\n",
    "\n",
    "Причиной пропусков может являться человеческий фактор - клиенты либо случайно, либо нарочно не заполнили в анкете свои данные о стаже и зарплате. Также не исключал бы технический фактор: данные поля могли быть просто недоступны для заполнения из-за какого-либо бага."
   ]
  },
  {
   "cell_type": "markdown",
   "id": "12556119",
   "metadata": {
    "deletable": false,
    "editable": false,
    "id": "db86e27b"
   },
   "source": [
    "**Задание 5. В двух столбцах есть пропущенные значения. Один из них — `days_employed`. Пропуски в этом столбце вы обработаете на следующем этапе. Другой столбец с пропущенными значениями — `total_income` — хранит данные о доходах. На сумму дохода сильнее всего влияет тип занятости, поэтому заполнить пропуски в этом столбце нужно медианным значением по каждому типу из столбца `income_type`. Например, у человека с типом занятости `сотрудник` пропуск в столбце `total_income` должен быть заполнен медианным доходом среди всех записей с тем же типом.**"
   ]
  },
  {
   "cell_type": "code",
   "execution_count": 7,
   "id": "a2b22215",
   "metadata": {
    "deletable": false,
    "id": "42006a93"
   },
   "outputs": [],
   "source": [
    "for t in data['income_type'].unique():\n",
    "    data.loc[(data['income_type'] == t) & (data['total_income'].isna()), 'total_income'] = \\\n",
    "    data.loc[(data['income_type'] == t), 'total_income'].median()"
   ]
  },
  {
   "cell_type": "markdown",
   "id": "19080c76",
   "metadata": {},
   "source": [
    "Пропуски заполним медианными значениями, так как ее значение не подвержена выбросам в данных."
   ]
  },
  {
   "cell_type": "code",
   "execution_count": 8,
   "id": "e65bcbf7",
   "metadata": {},
   "outputs": [
    {
     "data": {
      "text/plain": [
       "children               0\n",
       "days_employed       2174\n",
       "dob_years              0\n",
       "education              0\n",
       "education_id           0\n",
       "family_status          0\n",
       "family_status_id       0\n",
       "gender                 0\n",
       "income_type            0\n",
       "debt                   0\n",
       "total_income           0\n",
       "purpose                0\n",
       "dtype: int64"
      ]
     },
     "execution_count": 8,
     "metadata": {},
     "output_type": "execute_result"
    }
   ],
   "source": [
    "data.isna().sum() # перепроверим наличие пропусков"
   ]
  },
  {
   "cell_type": "code",
   "execution_count": 9,
   "id": "2c5d278a",
   "metadata": {},
   "outputs": [
    {
     "data": {
      "text/plain": [
       "income_type\n",
       "безработный        131339.751676\n",
       "в декрете           53829.130729\n",
       "госслужащий        150447.935283\n",
       "компаньон          172357.950966\n",
       "пенсионер          118514.486412\n",
       "предприниматель    499163.144947\n",
       "сотрудник          142594.396847\n",
       "студент             98201.625314\n",
       "Name: total_income, dtype: float64"
      ]
     },
     "execution_count": 9,
     "metadata": {},
     "output_type": "execute_result"
    }
   ],
   "source": [
    "data.groupby('income_type')['total_income'].median()"
   ]
  },
  {
   "cell_type": "code",
   "execution_count": 10,
   "id": "cf1bf69a",
   "metadata": {},
   "outputs": [
    {
     "data": {
      "text/plain": [
       "children                           0\n",
       "days_employed                    NaN\n",
       "dob_years                         65\n",
       "education                    среднее\n",
       "education_id                       1\n",
       "family_status       гражданский брак\n",
       "family_status_id                   1\n",
       "gender                             M\n",
       "income_type                пенсионер\n",
       "debt                               0\n",
       "total_income           118514.486412\n",
       "purpose              сыграть свадьбу\n",
       "Name: 12, dtype: object"
      ]
     },
     "execution_count": 10,
     "metadata": {},
     "output_type": "execute_result"
    }
   ],
   "source": [
    "data.loc[12] #проверим правильность значения, которым заполнился пропуск\n",
    "#Возьмем первую же строчку с отсутствующими данными в total_income"
   ]
  },
  {
   "cell_type": "markdown",
   "id": "481067ee",
   "metadata": {
    "deletable": false,
    "editable": false,
    "id": "89da5ece"
   },
   "source": [
    "### Обработка аномальных значений"
   ]
  },
  {
   "cell_type": "markdown",
   "id": "698d3dbd",
   "metadata": {
    "deletable": false,
    "editable": false,
    "id": "57964554"
   },
   "source": [
    "**Задание 6. В данных могут встречаться артефакты (аномалии) — значения, которые не отражают действительность и появились по какой-то ошибке. таким артефактом будет отрицательное количество дней трудового стажа в столбце `days_employed`. Для реальных данных это нормально. Обработайте значения в этом столбце: замените все отрицательные значения положительными с помощью метода `abs()`.**"
   ]
  },
  {
   "cell_type": "code",
   "execution_count": 11,
   "id": "d2336f1a",
   "metadata": {
    "deletable": false,
    "id": "f6f055bf"
   },
   "outputs": [],
   "source": [
    "data['days_employed'] = data['days_employed'].abs()"
   ]
  },
  {
   "cell_type": "markdown",
   "id": "f7e0527c",
   "metadata": {
    "deletable": false,
    "editable": false,
    "id": "6107dd2f"
   },
   "source": [
    "**Задание 7. Для каждого типа занятости выведите медианное значение трудового стажа `days_employed` в днях.**"
   ]
  },
  {
   "cell_type": "code",
   "execution_count": 12,
   "id": "f324e042",
   "metadata": {
    "deletable": false,
    "id": "85a5faf6",
    "outputId": "801ef80e-522b-4668-f34e-565af7432bcf"
   },
   "outputs": [
    {
     "data": {
      "text/plain": [
       "income_type\n",
       "безработный        366413.652744\n",
       "в декрете            3296.759962\n",
       "госслужащий          2689.368353\n",
       "компаньон            1547.382223\n",
       "пенсионер          365213.306266\n",
       "предприниматель       520.848083\n",
       "сотрудник            1574.202821\n",
       "студент               578.751554\n",
       "Name: days_employed, dtype: float64"
      ]
     },
     "execution_count": 12,
     "metadata": {},
     "output_type": "execute_result"
    }
   ],
   "source": [
    "data.groupby('income_type')['days_employed'].median()"
   ]
  },
  {
   "cell_type": "markdown",
   "id": "03820138",
   "metadata": {
    "deletable": false,
    "editable": false,
    "id": "38d1a030"
   },
   "source": [
    "У двух типов (безработные и пенсионеры) получатся аномально большие значения. Исправить такие значения сложно, поэтому оставьте их как есть. Тем более этот столбец не понадобится вам для исследования."
   ]
  },
  {
   "cell_type": "markdown",
   "id": "35d57af1",
   "metadata": {
    "deletable": false,
    "editable": false,
    "id": "d8a9f147"
   },
   "source": [
    "**Задание 8. Выведите перечень уникальных значений столбца `children`.**"
   ]
  },
  {
   "cell_type": "code",
   "execution_count": 13,
   "id": "6c0777c2",
   "metadata": {
    "deletable": false,
    "id": "ef5056eb",
    "outputId": "6975b15c-7f95-4697-d16d-a0c79b657b03"
   },
   "outputs": [
    {
     "data": {
      "text/plain": [
       "array([ 1,  0,  3,  2, -1,  4, 20,  5], dtype=int64)"
      ]
     },
     "execution_count": 13,
     "metadata": {},
     "output_type": "execute_result"
    }
   ],
   "source": [
    "data['children'].unique()"
   ]
  },
  {
   "cell_type": "markdown",
   "id": "23e5a50c",
   "metadata": {
    "deletable": false,
    "editable": false,
    "id": "40b9ebf2"
   },
   "source": [
    "**Задание 9. В столбце `children` есть два аномальных значения. Удалите строки, в которых встречаются такие аномальные значения из датафрейма `data`.**"
   ]
  },
  {
   "cell_type": "code",
   "execution_count": 14,
   "id": "29182ced",
   "metadata": {
    "deletable": false,
    "id": "3ff9801d"
   },
   "outputs": [],
   "source": [
    "data = data[(data['children'] != -1) & (data['children'] != 20)]"
   ]
  },
  {
   "cell_type": "markdown",
   "id": "25deab6b",
   "metadata": {
    "deletable": false,
    "editable": false,
    "id": "bbc4d0ce"
   },
   "source": [
    "**Задание 10. Ещё раз выведите перечень уникальных значений столбца `children`, чтобы убедиться, что артефакты удалены.**"
   ]
  },
  {
   "cell_type": "code",
   "execution_count": 15,
   "id": "20cc353e",
   "metadata": {
    "deletable": false,
    "id": "ad4fa8b7",
    "outputId": "b2097101-d49d-44d9-901b-32a65c9463d1"
   },
   "outputs": [
    {
     "data": {
      "text/plain": [
       "array([1, 0, 3, 2, 4, 5], dtype=int64)"
      ]
     },
     "execution_count": 15,
     "metadata": {},
     "output_type": "execute_result"
    }
   ],
   "source": [
    "data['children'].unique()"
   ]
  },
  {
   "cell_type": "markdown",
   "id": "3b142e65",
   "metadata": {},
   "source": [
    "В столбце `days_employed` наблюдается два типа аномалий: отрицательные значения и неадекватно большие, которые наблюдаются у категорий `безработный` и `пенсионер`. \n",
    "\n",
    "Отрицательные значения появились скорее всего при копировании, считывании, смене формата данных из столбца.\n",
    "\n",
    "Заемщики из категорий `безработный` и `пенсионер` не имеют официального трудоустройства и при заполнении анкеты не указывали свое актуальное место работы. Думаю, имеем дело с багом, который тригерится при незаполнении данного пункта и ломает данные из `days_employed`."
   ]
  },
  {
   "cell_type": "markdown",
   "id": "551637b6",
   "metadata": {
    "deletable": false,
    "editable": false,
    "id": "75440b63"
   },
   "source": [
    "### Удаление пропусков (продолжение)"
   ]
  },
  {
   "cell_type": "markdown",
   "id": "17687351",
   "metadata": {
    "deletable": false,
    "editable": false,
    "id": "f4ea573f"
   },
   "source": [
    "**Задание 11. Заполните пропуски в столбце `days_employed` медианными значениями по каждого типа занятости `income_type`.**"
   ]
  },
  {
   "cell_type": "code",
   "execution_count": 16,
   "id": "b0aebfe5",
   "metadata": {
    "deletable": false,
    "id": "af6b1a7e"
   },
   "outputs": [],
   "source": [
    "for t in data['income_type'].unique():\n",
    "    data.loc[(data['income_type'] == t) & (data['days_employed'].isna()), 'days_employed'] = \\\n",
    "    data.loc[(data['income_type'] == t), 'days_employed'].median()"
   ]
  },
  {
   "cell_type": "markdown",
   "id": "54d87ccc",
   "metadata": {
    "deletable": false,
    "editable": false,
    "id": "2753f40d"
   },
   "source": [
    "**Задание 12. Убедитесь, что все пропуски заполнены. Проверьте себя и ещё раз выведите количество пропущенных значений для каждого столбца с помощью двух методов.**"
   ]
  },
  {
   "cell_type": "code",
   "execution_count": 17,
   "id": "35a57a26",
   "metadata": {
    "deletable": false,
    "id": "55f78bc2",
    "outputId": "8da1e4e1-358e-4e87-98c9-f261bce0a7b2"
   },
   "outputs": [
    {
     "data": {
      "text/plain": [
       "children            0\n",
       "days_employed       0\n",
       "dob_years           0\n",
       "education           0\n",
       "education_id        0\n",
       "family_status       0\n",
       "family_status_id    0\n",
       "gender              0\n",
       "income_type         0\n",
       "debt                0\n",
       "total_income        0\n",
       "purpose             0\n",
       "dtype: int64"
      ]
     },
     "execution_count": 17,
     "metadata": {},
     "output_type": "execute_result"
    }
   ],
   "source": [
    "data.isna().sum()"
   ]
  },
  {
   "cell_type": "markdown",
   "id": "b43d8c9c",
   "metadata": {
    "deletable": false,
    "editable": false,
    "id": "ddc81e43"
   },
   "source": [
    "### Изменение типов данных"
   ]
  },
  {
   "cell_type": "markdown",
   "id": "d21a2881",
   "metadata": {
    "deletable": false,
    "editable": false,
    "id": "42d19d24"
   },
   "source": [
    "**Задание 13. Замените вещественный тип данных в столбце `total_income` на целочисленный с помощью метода `astype()`.**"
   ]
  },
  {
   "cell_type": "code",
   "execution_count": 18,
   "id": "2e8463d3",
   "metadata": {
    "deletable": false,
    "id": "920b65ad"
   },
   "outputs": [],
   "source": [
    "data['total_income'] = data['total_income'].astype(int)"
   ]
  },
  {
   "cell_type": "markdown",
   "id": "db9d56f0",
   "metadata": {
    "deletable": false,
    "editable": false,
    "id": "80c420ba"
   },
   "source": [
    "### Обработка дубликатов"
   ]
  },
  {
   "cell_type": "markdown",
   "id": "802df5c0",
   "metadata": {
    "deletable": false,
    "editable": false
   },
   "source": [
    "**Задание 14. Обработайте неявные дубликаты в столбце `education`. В этом столбце есть одни и те же значения, но записанные по-разному: с использованием заглавных и строчных букв. Приведите их к нижнему регистру. Проверьте остальные столбцы.**"
   ]
  },
  {
   "cell_type": "code",
   "execution_count": 19,
   "id": "29894a33",
   "metadata": {
    "deletable": false
   },
   "outputs": [],
   "source": [
    "data['education'] = data['education'].str.lower()"
   ]
  },
  {
   "cell_type": "markdown",
   "id": "2dc10c54",
   "metadata": {
    "deletable": false,
    "editable": false,
    "id": "dc587695"
   },
   "source": [
    "**Задание 15. Выведите на экран количество строк-дубликатов в данных. Если такие строки присутствуют, удалите их.**"
   ]
  },
  {
   "cell_type": "code",
   "execution_count": 20,
   "id": "c767566a",
   "metadata": {
    "deletable": false,
    "id": "3ee445e4",
    "outputId": "9684deba-1934-42d1-99e1-cda61740f822"
   },
   "outputs": [
    {
     "data": {
      "text/plain": [
       "71"
      ]
     },
     "execution_count": 20,
     "metadata": {},
     "output_type": "execute_result"
    }
   ],
   "source": [
    "data.duplicated().sum()"
   ]
  },
  {
   "cell_type": "code",
   "execution_count": 21,
   "id": "fd4da66a",
   "metadata": {
    "deletable": false,
    "id": "8575fe05"
   },
   "outputs": [],
   "source": [
    "data = data.drop_duplicates()"
   ]
  },
  {
   "cell_type": "markdown",
   "id": "328704b6",
   "metadata": {},
   "source": [
    "После предобработки занялся поиском дубликатов: функции `.duplicated()` и `.sum()` позволили посчитать их количество в датасете, а `.drop_duplicates()` - удалил их. Понятные и лаконичные функции.\n",
    "\n",
    "Дубликаты могли появится из-за того, что человек подавал несколько заявок, и вероятно эти несколько заявок, которые имеют одинаковое содержание, попали в данные."
   ]
  },
  {
   "cell_type": "markdown",
   "id": "7e78b4d2",
   "metadata": {
    "deletable": false,
    "editable": false,
    "id": "9904cf55"
   },
   "source": [
    "### Категоризация данных"
   ]
  },
  {
   "cell_type": "markdown",
   "id": "8a14b804",
   "metadata": {
    "deletable": false,
    "editable": false,
    "id": "72fcc8a2"
   },
   "source": [
    "**Задание 16. На основании диапазонов, указанных ниже, создайте в датафрейме `data` столбец `total_income_category` с категориями:**\n",
    "\n",
    "- 0–30000 — `'E'`;\n",
    "- 30001–50000 — `'D'`;\n",
    "- 50001–200000 — `'C'`;\n",
    "- 200001–1000000 — `'B'`;\n",
    "- 1000001 и выше — `'A'`.\n",
    "\n",
    "\n",
    "**Например, кредитополучателю с доходом 25000 нужно назначить категорию `'E'`, а клиенту, получающему 235000, — `'B'`. Используйте собственную функцию с именем `categorize_income()` и метод `apply()`.**"
   ]
  },
  {
   "cell_type": "code",
   "execution_count": 22,
   "id": "83774fe6",
   "metadata": {
    "deletable": false,
    "id": "e1771346"
   },
   "outputs": [],
   "source": [
    "def categorize_income(income):\n",
    "    try:\n",
    "        if 0 <= income <= 30000:\n",
    "            return 'E'\n",
    "        elif 30001 <= income <= 50000:\n",
    "            return 'D'\n",
    "        elif 50001 <= income <= 200000:\n",
    "            return 'C'\n",
    "        elif 200001 <= income <= 1000000:\n",
    "            return 'B'\n",
    "        elif income >= 1000001:\n",
    "            return 'A'\n",
    "    except:\n",
    "        pass"
   ]
  },
  {
   "cell_type": "code",
   "execution_count": 23,
   "id": "79bc9038",
   "metadata": {
    "deletable": false,
    "id": "d5f3586d"
   },
   "outputs": [],
   "source": [
    "data['total_income_category'] = data['total_income'].apply(categorize_income)"
   ]
  },
  {
   "cell_type": "code",
   "execution_count": 24,
   "id": "c545361d",
   "metadata": {},
   "outputs": [
    {
     "name": "stdout",
     "output_type": "stream",
     "text": [
      "<class 'pandas.core.frame.DataFrame'>\n",
      "Int64Index: 21331 entries, 0 to 21524\n",
      "Data columns (total 13 columns):\n",
      " #   Column                 Non-Null Count  Dtype  \n",
      "---  ------                 --------------  -----  \n",
      " 0   children               21331 non-null  int64  \n",
      " 1   days_employed          21331 non-null  float64\n",
      " 2   dob_years              21331 non-null  int64  \n",
      " 3   education              21331 non-null  object \n",
      " 4   education_id           21331 non-null  int64  \n",
      " 5   family_status          21331 non-null  object \n",
      " 6   family_status_id       21331 non-null  int64  \n",
      " 7   gender                 21331 non-null  object \n",
      " 8   income_type            21331 non-null  object \n",
      " 9   debt                   21331 non-null  int64  \n",
      " 10  total_income           21331 non-null  int32  \n",
      " 11  purpose                21331 non-null  object \n",
      " 12  total_income_category  21331 non-null  object \n",
      "dtypes: float64(1), int32(1), int64(5), object(6)\n",
      "memory usage: 2.2+ MB\n"
     ]
    }
   ],
   "source": [
    "data.info() #проверим количество столбцов"
   ]
  },
  {
   "cell_type": "markdown",
   "id": "75ff58a5",
   "metadata": {
    "deletable": false,
    "editable": false,
    "id": "dde49b5c"
   },
   "source": [
    "**Задание 17. Выведите на экран перечень уникальных целей взятия кредита из столбца `purpose`.**"
   ]
  },
  {
   "cell_type": "code",
   "execution_count": 25,
   "id": "2a6f6518",
   "metadata": {
    "deletable": false,
    "id": "f67ce9b3",
    "outputId": "673c12d9-7d7e-4ae0-9812-c622c89dd244"
   },
   "outputs": [
    {
     "data": {
      "text/plain": [
       "array(['покупка жилья', 'приобретение автомобиля',\n",
       "       'дополнительное образование', 'сыграть свадьбу',\n",
       "       'операции с жильем', 'образование', 'на проведение свадьбы',\n",
       "       'покупка жилья для семьи', 'покупка недвижимости',\n",
       "       'покупка коммерческой недвижимости', 'покупка жилой недвижимости',\n",
       "       'строительство собственной недвижимости', 'недвижимость',\n",
       "       'строительство недвижимости', 'на покупку подержанного автомобиля',\n",
       "       'на покупку своего автомобиля',\n",
       "       'операции с коммерческой недвижимостью',\n",
       "       'строительство жилой недвижимости', 'жилье',\n",
       "       'операции со своей недвижимостью', 'автомобили',\n",
       "       'заняться образованием', 'сделка с подержанным автомобилем',\n",
       "       'получение образования', 'автомобиль', 'свадьба',\n",
       "       'получение дополнительного образования', 'покупка своего жилья',\n",
       "       'операции с недвижимостью', 'получение высшего образования',\n",
       "       'свой автомобиль', 'сделка с автомобилем',\n",
       "       'профильное образование', 'высшее образование',\n",
       "       'покупка жилья для сдачи', 'на покупку автомобиля', 'ремонт жилью',\n",
       "       'заняться высшим образованием'], dtype=object)"
      ]
     },
     "execution_count": 25,
     "metadata": {},
     "output_type": "execute_result"
    }
   ],
   "source": [
    "data['purpose'].unique()"
   ]
  },
  {
   "cell_type": "markdown",
   "id": "0d73be76",
   "metadata": {
    "deletable": false,
    "editable": false,
    "id": "85d0aef0"
   },
   "source": [
    "**Задание 18. Создайте функцию, которая на основании данных из столбца `purpose` сформирует новый столбец `purpose_category`, в который войдут следующие категории:**\n",
    "\n",
    "- `'операции с автомобилем'`,\n",
    "- `'операции с недвижимостью'`,\n",
    "- `'проведение свадьбы'`,\n",
    "- `'получение образования'`.\n",
    "\n",
    "**Например, если в столбце `purpose` находится подстрока `'на покупку автомобиля'`, то в столбце `purpose_category` должна появиться строка `'операции с автомобилем'`.**\n",
    "\n",
    "**Используйте собственную функцию с именем `categorize_purpose()` и метод `apply()`. Изучите данные в столбце `purpose` и определите, какие подстроки помогут вам правильно определить категорию.**"
   ]
  },
  {
   "cell_type": "code",
   "execution_count": 26,
   "id": "76754c99",
   "metadata": {
    "deletable": false,
    "id": "e149fab4"
   },
   "outputs": [],
   "source": [
    "def categorize_purpose(row):\n",
    "    try:\n",
    "        if 'автом' in row:\n",
    "            return 'операции с автомобилем'\n",
    "        elif 'жил' in row or 'недвиж' in row:\n",
    "            return 'операции с недвижимостью'\n",
    "        elif 'свад' in row:\n",
    "            return 'проведение свадьбы'\n",
    "        elif 'образов' in row:\n",
    "            return 'получение образования'\n",
    "    except:\n",
    "        return 'нет категории'"
   ]
  },
  {
   "cell_type": "code",
   "execution_count": 27,
   "id": "3819f5e9",
   "metadata": {
    "deletable": false,
    "id": "bf36e69b"
   },
   "outputs": [],
   "source": [
    "data['purpose_category'] = data['purpose'].apply(categorize_purpose)"
   ]
  },
  {
   "cell_type": "code",
   "execution_count": 28,
   "id": "f889b6ad",
   "metadata": {},
   "outputs": [
    {
     "name": "stdout",
     "output_type": "stream",
     "text": [
      "<class 'pandas.core.frame.DataFrame'>\n",
      "Int64Index: 21331 entries, 0 to 21524\n",
      "Data columns (total 14 columns):\n",
      " #   Column                 Non-Null Count  Dtype  \n",
      "---  ------                 --------------  -----  \n",
      " 0   children               21331 non-null  int64  \n",
      " 1   days_employed          21331 non-null  float64\n",
      " 2   dob_years              21331 non-null  int64  \n",
      " 3   education              21331 non-null  object \n",
      " 4   education_id           21331 non-null  int64  \n",
      " 5   family_status          21331 non-null  object \n",
      " 6   family_status_id       21331 non-null  int64  \n",
      " 7   gender                 21331 non-null  object \n",
      " 8   income_type            21331 non-null  object \n",
      " 9   debt                   21331 non-null  int64  \n",
      " 10  total_income           21331 non-null  int32  \n",
      " 11  purpose                21331 non-null  object \n",
      " 12  total_income_category  21331 non-null  object \n",
      " 13  purpose_category       21331 non-null  object \n",
      "dtypes: float64(1), int32(1), int64(5), object(7)\n",
      "memory usage: 2.4+ MB\n"
     ]
    }
   ],
   "source": [
    "data.info() #проверим количество столбцов"
   ]
  },
  {
   "cell_type": "markdown",
   "id": "274dbf30",
   "metadata": {
    "deletable": false,
    "editable": false,
    "id": "09b242bf"
   },
   "source": [
    "### Шаг 3. Исследуйте данные и ответьте на вопросы"
   ]
  },
  {
   "cell_type": "markdown",
   "id": "0a817b5d",
   "metadata": {
    "deletable": false,
    "editable": false,
    "id": "c5d66278"
   },
   "source": [
    "#### 3.1 Есть ли зависимость между количеством детей и возвратом кредита в срок?"
   ]
  },
  {
   "cell_type": "code",
   "execution_count": 29,
   "id": "2e3d3cb2",
   "metadata": {
    "deletable": false,
    "id": "2cacfc4a"
   },
   "outputs": [
    {
     "data": {
      "text/html": [
       "<div>\n",
       "<style scoped>\n",
       "    .dataframe tbody tr th:only-of-type {\n",
       "        vertical-align: middle;\n",
       "    }\n",
       "\n",
       "    .dataframe tbody tr th {\n",
       "        vertical-align: top;\n",
       "    }\n",
       "\n",
       "    .dataframe thead th {\n",
       "        text-align: right;\n",
       "    }\n",
       "</style>\n",
       "<table border=\"1\" class=\"dataframe\">\n",
       "  <thead>\n",
       "    <tr style=\"text-align: right;\">\n",
       "      <th></th>\n",
       "      <th>total</th>\n",
       "      <th>debt</th>\n",
       "      <th>ratio, %</th>\n",
       "    </tr>\n",
       "    <tr>\n",
       "      <th>children</th>\n",
       "      <th></th>\n",
       "      <th></th>\n",
       "      <th></th>\n",
       "    </tr>\n",
       "  </thead>\n",
       "  <tbody>\n",
       "    <tr>\n",
       "      <th>0</th>\n",
       "      <td>14091</td>\n",
       "      <td>1063</td>\n",
       "      <td>7.544</td>\n",
       "    </tr>\n",
       "    <tr>\n",
       "      <th>1</th>\n",
       "      <td>4808</td>\n",
       "      <td>444</td>\n",
       "      <td>9.235</td>\n",
       "    </tr>\n",
       "    <tr>\n",
       "      <th>2</th>\n",
       "      <td>2052</td>\n",
       "      <td>194</td>\n",
       "      <td>9.454</td>\n",
       "    </tr>\n",
       "    <tr>\n",
       "      <th>3</th>\n",
       "      <td>330</td>\n",
       "      <td>27</td>\n",
       "      <td>8.182</td>\n",
       "    </tr>\n",
       "    <tr>\n",
       "      <th>4</th>\n",
       "      <td>41</td>\n",
       "      <td>4</td>\n",
       "      <td>9.756</td>\n",
       "    </tr>\n",
       "    <tr>\n",
       "      <th>5</th>\n",
       "      <td>9</td>\n",
       "      <td>0</td>\n",
       "      <td>0.000</td>\n",
       "    </tr>\n",
       "  </tbody>\n",
       "</table>\n",
       "</div>"
      ],
      "text/plain": [
       "          total  debt  ratio, %\n",
       "children                       \n",
       "0         14091  1063     7.544\n",
       "1          4808   444     9.235\n",
       "2          2052   194     9.454\n",
       "3           330    27     8.182\n",
       "4            41     4     9.756\n",
       "5             9     0     0.000"
      ]
     },
     "execution_count": 29,
     "metadata": {},
     "output_type": "execute_result"
    }
   ],
   "source": [
    "debt_children = data.pivot_table(\n",
    "    index='children',\n",
    "    values='debt',\n",
    "    aggfunc={'count', 'sum'})\n",
    "\n",
    "debt_children['ratio, %'] = round(\n",
    "    debt_children['sum'] / debt_children['count']  * 100, 3)\n",
    "\n",
    "debt_children = debt_children.rename(columns={\n",
    "    'count':'total',\n",
    "    'sum':'debt'})\n",
    "\n",
    "debt_children"
   ]
  },
  {
   "cell_type": "markdown",
   "id": "e4f56836",
   "metadata": {},
   "source": [
    "Значения в children попадают под количественные переменные, считаю, можно отобразить гистограмму, дабы нагляднее была показано наличие или отсутствие зависимости просрочки от количества детей.\n",
    "Чтобы корректно отобразить график, применим к группе функцию reset_index(), чтобы был доступен столбец children"
   ]
  },
  {
   "cell_type": "code",
   "execution_count": 30,
   "id": "670f36fd",
   "metadata": {},
   "outputs": [
    {
     "name": "stdout",
     "output_type": "stream",
     "text": [
      "<class 'pandas.core.frame.DataFrame'>\n",
      "RangeIndex: 6 entries, 0 to 5\n",
      "Data columns (total 4 columns):\n",
      " #   Column    Non-Null Count  Dtype  \n",
      "---  ------    --------------  -----  \n",
      " 0   children  6 non-null      int64  \n",
      " 1   total     6 non-null      int64  \n",
      " 2   debt      6 non-null      int64  \n",
      " 3   ratio, %  6 non-null      float64\n",
      "dtypes: float64(1), int64(3)\n",
      "memory usage: 320.0 bytes\n"
     ]
    }
   ],
   "source": [
    "debt_children = debt_children.reset_index()\n",
    "debt_children.info()"
   ]
  },
  {
   "cell_type": "markdown",
   "id": "79451b54",
   "metadata": {},
   "source": [
    "Импортируем библиотеку seaborn и построем график"
   ]
  },
  {
   "cell_type": "code",
   "execution_count": 31,
   "id": "bec5d624",
   "metadata": {},
   "outputs": [
    {
     "data": {
      "text/plain": [
       "<Axes: xlabel='children', ylabel='ratio, %'>"
      ]
     },
     "execution_count": 31,
     "metadata": {},
     "output_type": "execute_result"
    },
    {
     "data": {
      "image/png": "[encoded data removed]",
      "text/plain": [
       "<Figure size 640x480 with 1 Axes>"
      ]
     },
     "metadata": {},
     "output_type": "display_data"
    }
   ],
   "source": [
    "import seaborn as sns\n",
    "sns.barplot(data=debt_children, y='ratio, %', x='children')"
   ]
  },
  {
   "cell_type": "markdown",
   "id": "48ad7319",
   "metadata": {},
   "source": [
    "Глядя на график стоит проверить пару моментов: почему корреляция прерывается на тех, у кого 3 ребенка, и отсутствие долгов у тех - у кого 5."
   ]
  },
  {
   "cell_type": "markdown",
   "id": "b7a669dd",
   "metadata": {},
   "source": [
    "Несмотря на маленькое количество клиентов, у которых указано наличие 5 детей, стоит проверить их доход, так как просрочек нет:"
   ]
  },
  {
   "cell_type": "code",
   "execution_count": 32,
   "id": "ec015f7d",
   "metadata": {},
   "outputs": [
    {
     "data": {
      "text/plain": [
       "total_income_category\n",
       "B    4\n",
       "C    4\n",
       "D    1\n",
       "dtype: int64"
      ]
     },
     "execution_count": 32,
     "metadata": {},
     "output_type": "execute_result"
    }
   ],
   "source": [
    "data[data['children'] == 5].value_counts(subset='total_income_category')"
   ]
  },
  {
   "cell_type": "markdown",
   "id": "e80aef43",
   "metadata": {},
   "source": [
    "Есть 1 клиент категории D (*в последствии выяснится, что люди с доходом 30000-50000 имеют меньше всего задолженностей*) и по 4 - B и C, которые имеют приличный доход."
   ]
  },
  {
   "cell_type": "markdown",
   "id": "9770891c",
   "metadata": {},
   "source": [
    "Проверим доходность тех, у кого 3 ребенка:"
   ]
  },
  {
   "cell_type": "code",
   "execution_count": 33,
   "id": "a24820c9",
   "metadata": {},
   "outputs": [
    {
     "data": {
      "text/plain": [
       "total_income_category\n",
       "C    236\n",
       "B     88\n",
       "D      5\n",
       "A      1\n",
       "dtype: int64"
      ]
     },
     "execution_count": 33,
     "metadata": {},
     "output_type": "execute_result"
    }
   ],
   "source": [
    "data[data['children'] == 3].value_counts(subset='total_income_category')"
   ]
  },
  {
   "cell_type": "markdown",
   "id": "1c6823f8",
   "metadata": {},
   "source": [
    "Больше четверти всех заемщиков из этой категории имеют доход сильно выше среднего - A и B."
   ]
  },
  {
   "cell_type": "markdown",
   "id": "6d8e8a33",
   "metadata": {
    "deletable": false,
    "id": "3a6b99ec"
   },
   "source": [
    "**Вывод:** "
   ]
  },
  {
   "cell_type": "markdown",
   "id": "92e82d36",
   "metadata": {},
   "source": [
    "Прямая зависимость между количеством детей и задолженностью есть, но с нюансами - об этом ниже:\n",
    " - Минимальный показатель просрочки, логично, у тех, кто детей не имеет (не считая родителей 5 детей) - у этих людей финансовая нагрузка меньше относительно других, следовательно и просрочек тоже меньше. Также люди этой категории чаще всего берут кредит.\n",
    " - Самый высокий показатель наличия задолженности у тех, кто имеет 4 ребенка - скорее всего это обусловлено высокой финансовой нагрузкой.\n",
    " - Отсутствие должников среди таких заемщиков с 5 детьми может объясняться хорошими доходами клиентов - преобладают категории C и B.\n",
    " - Категория \"3 ребенка\" несколько выбивается из корреляции - это объясняется хорошиими доходами данной группы (категории A и B > 25%)."
   ]
  },
  {
   "cell_type": "markdown",
   "id": "828cae4b",
   "metadata": {
    "deletable": false,
    "editable": false,
    "id": "97be82ca"
   },
   "source": [
    "#### 3.2 Есть ли зависимость между семейным положением и возвратом кредита в срок?"
   ]
  },
  {
   "cell_type": "code",
   "execution_count": 34,
   "id": "08bcfd09",
   "metadata": {
    "deletable": false,
    "id": "dc3f7ee8"
   },
   "outputs": [
    {
     "data": {
      "text/html": [
       "<div>\n",
       "<style scoped>\n",
       "    .dataframe tbody tr th:only-of-type {\n",
       "        vertical-align: middle;\n",
       "    }\n",
       "\n",
       "    .dataframe tbody tr th {\n",
       "        vertical-align: top;\n",
       "    }\n",
       "\n",
       "    .dataframe thead th {\n",
       "        text-align: right;\n",
       "    }\n",
       "</style>\n",
       "<table border=\"1\" class=\"dataframe\">\n",
       "  <thead>\n",
       "    <tr style=\"text-align: right;\">\n",
       "      <th></th>\n",
       "      <th>total</th>\n",
       "      <th>debt</th>\n",
       "      <th>ratio, %</th>\n",
       "    </tr>\n",
       "    <tr>\n",
       "      <th>family_status</th>\n",
       "      <th></th>\n",
       "      <th></th>\n",
       "      <th></th>\n",
       "    </tr>\n",
       "  </thead>\n",
       "  <tbody>\n",
       "    <tr>\n",
       "      <th>Не женат / не замужем</th>\n",
       "      <td>2796</td>\n",
       "      <td>273</td>\n",
       "      <td>9.764</td>\n",
       "    </tr>\n",
       "    <tr>\n",
       "      <th>гражданский брак</th>\n",
       "      <td>4134</td>\n",
       "      <td>385</td>\n",
       "      <td>9.313</td>\n",
       "    </tr>\n",
       "    <tr>\n",
       "      <th>женат / замужем</th>\n",
       "      <td>12261</td>\n",
       "      <td>927</td>\n",
       "      <td>7.561</td>\n",
       "    </tr>\n",
       "    <tr>\n",
       "      <th>в разводе</th>\n",
       "      <td>1189</td>\n",
       "      <td>84</td>\n",
       "      <td>7.065</td>\n",
       "    </tr>\n",
       "    <tr>\n",
       "      <th>вдовец / вдова</th>\n",
       "      <td>951</td>\n",
       "      <td>63</td>\n",
       "      <td>6.625</td>\n",
       "    </tr>\n",
       "  </tbody>\n",
       "</table>\n",
       "</div>"
      ],
      "text/plain": [
       "                       total  debt  ratio, %\n",
       "family_status                               \n",
       "Не женат / не замужем   2796   273     9.764\n",
       "гражданский брак        4134   385     9.313\n",
       "женат / замужем        12261   927     7.561\n",
       "в разводе               1189    84     7.065\n",
       "вдовец / вдова           951    63     6.625"
      ]
     },
     "execution_count": 34,
     "metadata": {},
     "output_type": "execute_result"
    }
   ],
   "source": [
    "debt_family_status = data.pivot_table(\n",
    "    index='family_status',\n",
    "    values='debt',\n",
    "    aggfunc={'count', 'sum'})\n",
    "\n",
    "debt_family_status['ratio, %'] = round(\n",
    "    debt_family_status['sum'] / debt_family_status['count'] * 100, 3)\n",
    "\n",
    "debt_family_status = debt_family_status.rename(columns={\n",
    "    'count':'total',\n",
    "    'sum':'debt'})\n",
    "\n",
    "debt_family_status.sort_values('ratio, %', ascending=False)"
   ]
  },
  {
   "cell_type": "markdown",
   "id": "5bca5be6",
   "metadata": {},
   "source": [
    "Есть определенные предположения зависимости семейного статуса от возраста. Проверка того, насколько сильно коррелирует возраст со статусом \"вдовец / вдова\":"
   ]
  },
  {
   "cell_type": "code",
   "execution_count": 35,
   "id": "b8f22426",
   "metadata": {},
   "outputs": [
    {
     "data": {
      "text/plain": [
       "dob_years\n",
       "58    58\n",
       "60    50\n",
       "64    50\n",
       "62    49\n",
       "56    48\n",
       "59    47\n",
       "57    46\n",
       "61    46\n",
       "55    43\n",
       "53    39\n",
       "dtype: int64"
      ]
     },
     "execution_count": 35,
     "metadata": {},
     "output_type": "execute_result"
    }
   ],
   "source": [
    "data[data['family_status'] == 'вдовец / вдова'].value_counts(subset='dob_years').sort_values(ascending=False).head(10)"
   ]
  },
  {
   "cell_type": "markdown",
   "id": "e39e1038",
   "metadata": {},
   "source": [
    "Как и ожидалось, львиную долю этой категории составляют люди пенсионного и предпенсионного возраста."
   ]
  },
  {
   "cell_type": "code",
   "execution_count": 36,
   "id": "86d5eaa5",
   "metadata": {},
   "outputs": [
    {
     "data": {
      "text/plain": [
       "dob_years\n",
       "40    43\n",
       "48    42\n",
       "43    39\n",
       "55    38\n",
       "49    38\n",
       "45    38\n",
       "42    38\n",
       "51    36\n",
       "41    36\n",
       "39    36\n",
       "dtype: int64"
      ]
     },
     "execution_count": 36,
     "metadata": {},
     "output_type": "execute_result"
    }
   ],
   "source": [
    "data[data['family_status'] == 'в разводе'].value_counts(subset='dob_years').sort_values(ascending=False).head(10)"
   ]
  },
  {
   "cell_type": "markdown",
   "id": "5eddef58",
   "metadata": {},
   "source": [
    "Здесь основная доля людей чуть моложе, чем в категории выше."
   ]
  },
  {
   "cell_type": "markdown",
   "id": "e1317aac",
   "metadata": {
    "deletable": false,
    "id": "1cef7837"
   },
   "source": [
    "**Вывод:** "
   ]
  },
  {
   "cell_type": "markdown",
   "id": "3a5989d3",
   "metadata": {},
   "source": [
    " - Категория \"Не женат / не замужем\" подвержена более частым просрочкам, чем остальные - может быть абсолютно любая причина. Но если рассматривать относительно остальных категорий - только на заемщика кладутся финансовые обязательства по выплате кредита.\n",
    " - Категории \"вдовец / вдова\" и \"в разводе\" являются самыми благонадежными, но и реже всех берут кредит.\n",
    " - Основной костяк этих двух групп - люди возрастом 50+ и 40+ соответственно. Допускаю, в этом возрасте люди, полагаясь на свой опыт, более ответственно подходят к операциям с кредитами, выбирают более приземленные, реализуемые цели.\n",
    " - В противовес этому стоят категории \"Не женат / не замужем\" и \"гражданский брак\", которым характерны клиенты молодого возраста (20+ лет): у подобных заемщиков впервые появляется возможность взять кредит на те или иные цели и это сопрягается с  отсутсвием опыта в своем финансовом планировании.\n",
    " - Корреляцию между семейным статусом и возвратом кредита проследить можно."
   ]
  },
  {
   "cell_type": "markdown",
   "id": "bb12f119",
   "metadata": {
    "deletable": false,
    "editable": false,
    "id": "1e8b2fca"
   },
   "source": [
    "#### 3.3 Есть ли зависимость между уровнем дохода и возвратом кредита в срок?"
   ]
  },
  {
   "cell_type": "code",
   "execution_count": 37,
   "id": "aba5c2d2",
   "metadata": {
    "deletable": false,
    "id": "cd7e3720"
   },
   "outputs": [
    {
     "data": {
      "text/html": [
       "<div>\n",
       "<style scoped>\n",
       "    .dataframe tbody tr th:only-of-type {\n",
       "        vertical-align: middle;\n",
       "    }\n",
       "\n",
       "    .dataframe tbody tr th {\n",
       "        vertical-align: top;\n",
       "    }\n",
       "\n",
       "    .dataframe thead th {\n",
       "        text-align: right;\n",
       "    }\n",
       "</style>\n",
       "<table border=\"1\" class=\"dataframe\">\n",
       "  <thead>\n",
       "    <tr style=\"text-align: right;\">\n",
       "      <th></th>\n",
       "      <th>decoding</th>\n",
       "      <th>total</th>\n",
       "      <th>debt</th>\n",
       "      <th>ratio, %</th>\n",
       "    </tr>\n",
       "    <tr>\n",
       "      <th>total_income_category</th>\n",
       "      <th></th>\n",
       "      <th></th>\n",
       "      <th></th>\n",
       "      <th></th>\n",
       "    </tr>\n",
       "  </thead>\n",
       "  <tbody>\n",
       "    <tr>\n",
       "      <th>A</th>\n",
       "      <td>&gt;1000001</td>\n",
       "      <td>25</td>\n",
       "      <td>2</td>\n",
       "      <td>8.000</td>\n",
       "    </tr>\n",
       "    <tr>\n",
       "      <th>B</th>\n",
       "      <td>200001-1000000</td>\n",
       "      <td>5014</td>\n",
       "      <td>354</td>\n",
       "      <td>7.060</td>\n",
       "    </tr>\n",
       "    <tr>\n",
       "      <th>C</th>\n",
       "      <td>50001-200000</td>\n",
       "      <td>15921</td>\n",
       "      <td>1353</td>\n",
       "      <td>8.498</td>\n",
       "    </tr>\n",
       "    <tr>\n",
       "      <th>D</th>\n",
       "      <td>30001-50000</td>\n",
       "      <td>349</td>\n",
       "      <td>21</td>\n",
       "      <td>6.017</td>\n",
       "    </tr>\n",
       "    <tr>\n",
       "      <th>E</th>\n",
       "      <td>0-30000</td>\n",
       "      <td>22</td>\n",
       "      <td>2</td>\n",
       "      <td>9.091</td>\n",
       "    </tr>\n",
       "  </tbody>\n",
       "</table>\n",
       "</div>"
      ],
      "text/plain": [
       "                             decoding  total  debt  ratio, %\n",
       "total_income_category                                       \n",
       "A                            >1000001     25     2     8.000\n",
       "B                      200001-1000000   5014   354     7.060\n",
       "C                        50001-200000  15921  1353     8.498\n",
       "D                         30001-50000    349    21     6.017\n",
       "E                             0-30000     22     2     9.091"
      ]
     },
     "execution_count": 37,
     "metadata": {},
     "output_type": "execute_result"
    }
   ],
   "source": [
    "debt_total_income = data.pivot_table(\n",
    "    index='total_income_category',\n",
    "    values='debt',\n",
    "    aggfunc={'count', 'sum'})\n",
    "\n",
    "debt_total_income['ratio, %'] = round(\n",
    "    debt_total_income['sum'] / debt_total_income['count'] * 100, 3)\n",
    "\n",
    "debt_total_income = debt_total_income.rename(columns={\n",
    "    'count':'total',\n",
    "    'sum':'debt'})\n",
    "\n",
    "debt_total_income.insert(0,'decoding', ['>1000001','200001-1000000','50001-200000','30001-50000','0-30000'])\n",
    "\n",
    "debt_total_income"
   ]
  },
  {
   "cell_type": "markdown",
   "id": "5e59b7ea",
   "metadata": {},
   "source": [
    "Так как категории основаны на конкретных суммах, думаю, стоит построить график зависимости между уровнем дохода и возвратом кредита в срок.\n",
    "Категории B и C являются самыми большими относительно других (почти 100%). поэтому будет правильным рассматривать корреляцию только по ним."
   ]
  },
  {
   "cell_type": "code",
   "execution_count": 38,
   "id": "ab373ff4",
   "metadata": {},
   "outputs": [
    {
     "data": {
      "text/plain": [
       "<Axes: xlabel='total_income_category', ylabel='ratio, %'>"
      ]
     },
     "execution_count": 38,
     "metadata": {},
     "output_type": "execute_result"
    },
    {
     "data": {
      "image/png": "[encoded data removed]",
      "text/plain": [
       "<Figure size 640x480 with 1 Axes>"
      ]
     },
     "metadata": {},
     "output_type": "display_data"
    }
   ],
   "source": [
    "debt_total_income = debt_total_income.reset_index()\n",
    "sns.barplot(\n",
    "    data=debt_total_income[debt_total_income['total_income_category'].isin(['B', 'C'])],\n",
    "    y='ratio, %',\n",
    "    x='total_income_category'\n",
    ")"
   ]
  },
  {
   "cell_type": "markdown",
   "id": "50df5fa2",
   "metadata": {
    "deletable": false,
    "id": "e8593def"
   },
   "source": [
    "**Вывод:** "
   ]
  },
  {
   "cell_type": "markdown",
   "id": "6f21eb38",
   "metadata": {},
   "source": [
    "- Более состоятельная группа B допускает меньше просрочек, чем C.\n",
    "- Зависимость прослеживается."
   ]
  },
  {
   "cell_type": "markdown",
   "id": "08ef949e",
   "metadata": {
    "deletable": false,
    "editable": false,
    "id": "99ecbd1f"
   },
   "source": [
    "#### 3.4 Как разные цели кредита влияют на его возврат в срок?"
   ]
  },
  {
   "cell_type": "code",
   "execution_count": 39,
   "id": "820640b7",
   "metadata": {
    "deletable": false,
    "id": "2b687290"
   },
   "outputs": [
    {
     "data": {
      "text/html": [
       "<div>\n",
       "<style scoped>\n",
       "    .dataframe tbody tr th:only-of-type {\n",
       "        vertical-align: middle;\n",
       "    }\n",
       "\n",
       "    .dataframe tbody tr th {\n",
       "        vertical-align: top;\n",
       "    }\n",
       "\n",
       "    .dataframe thead th {\n",
       "        text-align: right;\n",
       "    }\n",
       "</style>\n",
       "<table border=\"1\" class=\"dataframe\">\n",
       "  <thead>\n",
       "    <tr style=\"text-align: right;\">\n",
       "      <th></th>\n",
       "      <th>total</th>\n",
       "      <th>debt</th>\n",
       "      <th>ratio, %</th>\n",
       "    </tr>\n",
       "    <tr>\n",
       "      <th>purpose_category</th>\n",
       "      <th></th>\n",
       "      <th></th>\n",
       "      <th></th>\n",
       "    </tr>\n",
       "  </thead>\n",
       "  <tbody>\n",
       "    <tr>\n",
       "      <th>операции с автомобилем</th>\n",
       "      <td>4279</td>\n",
       "      <td>400</td>\n",
       "      <td>9.348</td>\n",
       "    </tr>\n",
       "    <tr>\n",
       "      <th>получение образования</th>\n",
       "      <td>3988</td>\n",
       "      <td>369</td>\n",
       "      <td>9.253</td>\n",
       "    </tr>\n",
       "    <tr>\n",
       "      <th>проведение свадьбы</th>\n",
       "      <td>2313</td>\n",
       "      <td>183</td>\n",
       "      <td>7.912</td>\n",
       "    </tr>\n",
       "    <tr>\n",
       "      <th>операции с недвижимостью</th>\n",
       "      <td>10751</td>\n",
       "      <td>780</td>\n",
       "      <td>7.255</td>\n",
       "    </tr>\n",
       "  </tbody>\n",
       "</table>\n",
       "</div>"
      ],
      "text/plain": [
       "                          total  debt  ratio, %\n",
       "purpose_category                               \n",
       "операции с автомобилем     4279   400     9.348\n",
       "получение образования      3988   369     9.253\n",
       "проведение свадьбы         2313   183     7.912\n",
       "операции с недвижимостью  10751   780     7.255"
      ]
     },
     "execution_count": 39,
     "metadata": {},
     "output_type": "execute_result"
    }
   ],
   "source": [
    "debt_purpose = data.pivot_table(\n",
    "    index='purpose_category',\n",
    "    values='debt',\n",
    "    aggfunc={'count', 'sum'})\n",
    "\n",
    "debt_purpose['ratio, %'] = round(\n",
    "    debt_purpose['sum'] / debt_purpose['count'] * 100, 3)\n",
    "\n",
    "debt_purpose = debt_purpose.rename(\n",
    "    columns={\n",
    "        'count':'total',\n",
    "        'sum':'debt'})\n",
    "\n",
    "debt_purpose.sort_values('ratio, %', ascending=False)"
   ]
  },
  {
   "cell_type": "markdown",
   "id": "426fdc58",
   "metadata": {},
   "source": [
    "\"Операции с недвижимостью\" оказалась самой надежной и самой многочисленной. Думаю, стоит проверить эту категорию на предмет семейного статуса."
   ]
  },
  {
   "cell_type": "code",
   "execution_count": 40,
   "id": "091160f9",
   "metadata": {},
   "outputs": [
    {
     "data": {
      "text/plain": [
       "family_status\n",
       "женат / замужем          6970\n",
       "Не женат / не замужем    1586\n",
       "гражданский брак          988\n",
       "в разводе                 672\n",
       "вдовец / вдова            535\n",
       "dtype: int64"
      ]
     },
     "execution_count": 40,
     "metadata": {},
     "output_type": "execute_result"
    }
   ],
   "source": [
    "data[data['purpose_category'] == 'операции с недвижимостью'].value_counts(subset='family_status')"
   ]
  },
  {
   "cell_type": "markdown",
   "id": "c5e57a09",
   "metadata": {
    "deletable": false,
    "id": "b4bb2ce6"
   },
   "source": [
    "**Вывод:** "
   ]
  },
  {
   "cell_type": "markdown",
   "id": "9ed82844",
   "metadata": {},
   "source": [
    "- Чаще всего обращаются за кредитом с целью провести операции с недвижимостью. Эта же самая категория является самой благонадежной среди представленных: подавляющее большинство, совершающие данные операции, являются людьми семейными, поэтому данная финансовая нагрузка кладется на плечи всех работающих членов семьи (мужа и жены в частности) и не стоит забывать о маткапитале, который часто фигурирует в данных сделках.\n",
    "- \"Проведение свадьбы\" попадает под те же выводы: вся семья выплачивает кредит.\n",
    "- \"Операции с автомобилем\" и \"Получение образования\" - вещи часто более индивидуальные (особенно второе), даже если человек состоит в семейных отношениях, поэтому кредит заемщик выплачивает один.\n",
    "- Корреляция прослеживается"
   ]
  },
  {
   "cell_type": "markdown",
   "id": "1f7b8ee6",
   "metadata": {
    "deletable": false,
    "editable": false,
    "id": "09c3ac4c"
   },
   "source": [
    "#### 3.5 Приведите возможные причины появления пропусков в исходных данных."
   ]
  },
  {
   "cell_type": "markdown",
   "id": "ae10cb5e",
   "metadata": {
    "deletable": false,
    "id": "9da2ceda"
   },
   "source": [
    "*Ответ:* Только столбцы `days_employed` и `total_income` имеют пропуски, причем одинаковое количество и на одних и тех же строках. Полагаю, здесь замешан человеческий фактор: клиент или забыл, или нарочно не стал указывать свои стаж и доход.\n",
    "Также не исключал бы технический фактор: заполнение одного пункта влияет на другой, или баг, из-за которого клиент просто не смог заполнить свои данные."
   ]
  },
  {
   "cell_type": "markdown",
   "id": "6471bd1f",
   "metadata": {
    "deletable": false,
    "editable": false,
    "id": "7b0487d6"
   },
   "source": [
    "#### 3.6 Объясните, почему заполнить пропуски медианным значением — лучшее решение для количественных переменных."
   ]
  },
  {
   "cell_type": "markdown",
   "id": "7719b5a0",
   "metadata": {
    "deletable": false,
    "id": "7ecf2b8e"
   },
   "source": [
    "*Ответ:* медианное значение делит всю выборку ровно пополам, среднее подвержено слишком большим/слишком малым значениям."
   ]
  },
  {
   "cell_type": "markdown",
   "id": "754da223",
   "metadata": {
    "deletable": false,
    "editable": false,
    "id": "6db5255a"
   },
   "source": [
    "### Шаг 4: общий вывод."
   ]
  },
  {
   "cell_type": "markdown",
   "id": "f7541e19",
   "metadata": {},
   "source": [
    "Данные, с которыми была проведена работа - статистика о платёжеспособности клиентов от кредитного отдела банка.\n",
    "\n",
    "На этапе предобработки столкнулись с такими проблемами, как пропуски, аномальные значения (отрицательные и неадекватно большие числа), явные и неявные дубликаты. Чтобы минимизировать подобные вещи, нужно сделать обязательным для возможного клиента заполнение граф рабочего стажа и дохода и подлатать техническую часть:\n",
    " - Все поля должны быть доступны для заполнения\n",
    " - Ввод данных формата `str` должен заполняться в одном едином регистре\n",
    " - Пофиксить баг, реагирующий на безработных и пенсионеров и ломающих данные из `days_employed`\n",
    " - Придумать форматирование, которое не будет допускать в данных отрицательные значения\n",
    "\n",
    "Зависимость между количеством детей и возвратом кредита в срок прослеживается. Но на данную корреляцию обязательно нужно смотреть через призму уровня доходов - те, у кого выше финансовая нагрузка (3 ребенка), реже допускают просрочки чем те, у кого эта нагрузка меньше (1 и 2 ребенка).\n",
    "\n",
    "Зависимость между семейным положением и возвратом кредита в срок прослеживается. Но здесь важно учитывать характерный возраст групп. Категориям `Не женат / не замужем` и `гражданский брак` характерны, в силу своей специфики, молодые люди, часть из которых, возможно, не до конца осознает свои финансовые возможности, поэтому у них чаще всего случаются просрочки. В `в разводе` и `вдовец / вдова` люди зрелые, они чаще подходят к кредиту более рационально.\n",
    "\n",
    "Зависимость между уровнем дохода и возвратом кредита в срок прослеживается: более состоятельная категория B допускает просрочки реже, чем менее состоятельная - C. Данную зависимость рассматривали только в контексте этих двух групп, т.к. остальные - малочисленные и добавляли бы \"шум\" на итоговый вывод.\n",
    "\n",
    "Зависимость между целями кредита и его возвратом в срок прослеживается: заемщики с более индивидуальными целями (`операции с автомобилем`, `получение образования`) допускают просрочки чаще, чем те клиенты, у кого цели более общие, семейные (`проведение свадьбы`, `операции с недвижимостью`), т.к. финансовая нагрузка кладется на плечи всех трудоустроенных."
   ]
  },
  {
   "cell_type": "markdown",
   "id": "777380e1",
   "metadata": {
    "deletable": false,
    "id": "bad65432"
   },
   "source": [
    "Идеальный портрет заемщика: бездетный(-ая) вдовец/вдова с зарплатой 30000-50000, цель кредита которого(-ой) - операции с недвижимостью.\n",
    "Портрет заемщика с высокими рисками: не состоит в отношениях, имеет 4 ребенка</s>"
   ]
  }
 ],
 "metadata": {
  "ExecuteTimeLog": [
   {
    "duration": 45,
    "start_time": "2023-02-07T20:36:44.850Z"
   },
   {
    "duration": 59,
    "start_time": "2023-02-07T20:39:15.192Z"
   },
   {
    "duration": 710,
    "start_time": "2023-02-07T20:39:22.274Z"
   },
   {
    "duration": 34,
    "start_time": "2023-02-07T20:39:22.986Z"
   },
   {
    "duration": 22,
    "start_time": "2023-02-07T20:39:23.022Z"
   },
   {
    "duration": 9,
    "start_time": "2023-02-07T20:39:23.046Z"
   },
   {
    "duration": 37,
    "start_time": "2023-02-07T20:39:23.057Z"
   },
   {
    "duration": 5,
    "start_time": "2023-02-07T20:39:23.096Z"
   },
   {
    "duration": 17,
    "start_time": "2023-02-07T20:39:23.104Z"
   },
   {
    "duration": 4,
    "start_time": "2023-02-07T20:39:23.123Z"
   },
   {
    "duration": 14,
    "start_time": "2023-02-07T20:39:23.128Z"
   },
   {
    "duration": 5,
    "start_time": "2023-02-07T20:39:23.144Z"
   },
   {
    "duration": 47,
    "start_time": "2023-02-07T20:39:23.150Z"
   },
   {
    "duration": 15,
    "start_time": "2023-02-07T20:39:23.199Z"
   },
   {
    "duration": 17,
    "start_time": "2023-02-07T20:39:23.216Z"
   },
   {
    "duration": 21,
    "start_time": "2023-02-07T20:39:23.235Z"
   },
   {
    "duration": 19,
    "start_time": "2023-02-07T20:39:23.258Z"
   },
   {
    "duration": 29,
    "start_time": "2023-02-07T20:39:23.279Z"
   },
   {
    "duration": 6,
    "start_time": "2023-02-07T20:39:23.311Z"
   },
   {
    "duration": 17,
    "start_time": "2023-02-07T20:39:23.319Z"
   },
   {
    "duration": 5,
    "start_time": "2023-02-07T20:39:23.338Z"
   },
   {
    "duration": 3,
    "start_time": "2023-02-07T20:39:23.345Z"
   },
   {
    "duration": 12,
    "start_time": "2023-02-07T20:39:23.349Z"
   },
   {
    "duration": 12,
    "start_time": "2023-02-07T20:39:25.735Z"
   },
   {
    "duration": 6,
    "start_time": "2023-02-07T20:40:50.561Z"
   },
   {
    "duration": 713,
    "start_time": "2023-02-07T20:41:58.469Z"
   },
   {
    "duration": 13,
    "start_time": "2023-02-07T20:42:08.797Z"
   },
   {
    "duration": 9,
    "start_time": "2023-02-07T20:42:25.555Z"
   },
   {
    "duration": 18,
    "start_time": "2023-02-07T20:42:33.822Z"
   },
   {
    "duration": 8,
    "start_time": "2023-02-07T20:45:24.514Z"
   },
   {
    "duration": 46,
    "start_time": "2023-02-07T20:48:32.390Z"
   },
   {
    "duration": 9,
    "start_time": "2023-02-07T20:48:40.028Z"
   },
   {
    "duration": 21,
    "start_time": "2023-02-07T20:52:43.127Z"
   },
   {
    "duration": 16,
    "start_time": "2023-02-07T20:54:09.446Z"
   },
   {
    "duration": 14,
    "start_time": "2023-02-07T20:57:27.346Z"
   },
   {
    "duration": 702,
    "start_time": "2023-02-08T11:56:16.831Z"
   },
   {
    "duration": 20,
    "start_time": "2023-02-08T11:56:17.535Z"
   },
   {
    "duration": 15,
    "start_time": "2023-02-08T11:56:17.557Z"
   },
   {
    "duration": 16,
    "start_time": "2023-02-08T11:56:17.578Z"
   },
   {
    "duration": 34,
    "start_time": "2023-02-08T11:56:17.596Z"
   },
   {
    "duration": 4,
    "start_time": "2023-02-08T11:56:17.631Z"
   },
   {
    "duration": 13,
    "start_time": "2023-02-08T11:56:17.636Z"
   },
   {
    "duration": 24,
    "start_time": "2023-02-08T11:56:17.650Z"
   },
   {
    "duration": 22,
    "start_time": "2023-02-08T11:56:17.675Z"
   },
   {
    "duration": 10,
    "start_time": "2023-02-08T11:56:17.699Z"
   },
   {
    "duration": 37,
    "start_time": "2023-02-08T11:56:17.710Z"
   },
   {
    "duration": 9,
    "start_time": "2023-02-08T11:56:17.748Z"
   },
   {
    "duration": 25,
    "start_time": "2023-02-08T11:56:17.758Z"
   },
   {
    "duration": 16,
    "start_time": "2023-02-08T11:56:17.785Z"
   },
   {
    "duration": 18,
    "start_time": "2023-02-08T11:56:17.802Z"
   },
   {
    "duration": 15,
    "start_time": "2023-02-08T11:56:17.822Z"
   },
   {
    "duration": 3,
    "start_time": "2023-02-08T11:56:17.839Z"
   },
   {
    "duration": 35,
    "start_time": "2023-02-08T11:56:17.843Z"
   },
   {
    "duration": 11,
    "start_time": "2023-02-08T11:56:17.880Z"
   },
   {
    "duration": 5,
    "start_time": "2023-02-08T11:56:17.892Z"
   },
   {
    "duration": 12,
    "start_time": "2023-02-08T11:56:17.899Z"
   },
   {
    "duration": 17,
    "start_time": "2023-02-08T11:56:17.912Z"
   },
   {
    "duration": 948,
    "start_time": "2023-02-08T11:56:19.075Z"
   },
   {
    "duration": 27,
    "start_time": "2023-02-08T11:56:20.360Z"
   },
   {
    "duration": 83,
    "start_time": "2023-02-08T11:57:17.260Z"
   },
   {
    "duration": 14,
    "start_time": "2023-02-08T11:57:17.344Z"
   },
   {
    "duration": 25,
    "start_time": "2023-02-08T11:57:17.359Z"
   },
   {
    "duration": 17,
    "start_time": "2023-02-08T11:57:17.386Z"
   },
   {
    "duration": 47,
    "start_time": "2023-02-08T11:57:17.404Z"
   },
   {
    "duration": 22,
    "start_time": "2023-02-08T11:57:17.452Z"
   },
   {
    "duration": 23,
    "start_time": "2023-02-08T11:57:17.475Z"
   },
   {
    "duration": 18,
    "start_time": "2023-02-08T11:57:17.500Z"
   },
   {
    "duration": 9,
    "start_time": "2023-02-08T11:57:17.519Z"
   },
   {
    "duration": 5,
    "start_time": "2023-02-08T11:57:17.530Z"
   },
   {
    "duration": 38,
    "start_time": "2023-02-08T11:57:17.536Z"
   },
   {
    "duration": 11,
    "start_time": "2023-02-08T11:57:17.579Z"
   },
   {
    "duration": 4,
    "start_time": "2023-02-08T11:57:17.592Z"
   },
   {
    "duration": 14,
    "start_time": "2023-02-08T11:57:17.597Z"
   },
   {
    "duration": 24,
    "start_time": "2023-02-08T11:57:17.612Z"
   },
   {
    "duration": 49,
    "start_time": "2023-02-08T11:57:17.638Z"
   },
   {
    "duration": 4,
    "start_time": "2023-02-08T11:57:17.688Z"
   },
   {
    "duration": 13,
    "start_time": "2023-02-08T11:57:17.693Z"
   },
   {
    "duration": 5,
    "start_time": "2023-02-08T11:57:17.708Z"
   },
   {
    "duration": 4,
    "start_time": "2023-02-08T11:57:17.715Z"
   },
   {
    "duration": 14,
    "start_time": "2023-02-08T11:57:17.720Z"
   },
   {
    "duration": 3,
    "start_time": "2023-02-08T11:57:18.556Z"
   },
   {
    "duration": 16,
    "start_time": "2023-02-08T11:57:18.961Z"
   },
   {
    "duration": 14,
    "start_time": "2023-02-08T11:57:22.913Z"
   },
   {
    "duration": 177,
    "start_time": "2023-02-08T11:57:25.572Z"
   },
   {
    "duration": 109,
    "start_time": "2023-02-08T11:58:16.417Z"
   },
   {
    "duration": 18,
    "start_time": "2023-02-08T11:58:37.566Z"
   },
   {
    "duration": 16,
    "start_time": "2023-02-08T12:01:35.364Z"
   },
   {
    "duration": 16,
    "start_time": "2023-02-08T12:01:48.081Z"
   },
   {
    "duration": 75,
    "start_time": "2023-02-08T12:03:27.510Z"
   },
   {
    "duration": 24,
    "start_time": "2023-02-08T12:03:31.941Z"
   },
   {
    "duration": 26,
    "start_time": "2023-02-08T12:05:08.058Z"
   },
   {
    "duration": 76,
    "start_time": "2023-02-08T12:06:59.859Z"
   },
   {
    "duration": 15,
    "start_time": "2023-02-08T12:06:59.937Z"
   },
   {
    "duration": 22,
    "start_time": "2023-02-08T12:06:59.954Z"
   },
   {
    "duration": 26,
    "start_time": "2023-02-08T12:06:59.977Z"
   },
   {
    "duration": 36,
    "start_time": "2023-02-08T12:07:00.006Z"
   },
   {
    "duration": 3,
    "start_time": "2023-02-08T12:07:00.044Z"
   },
   {
    "duration": 30,
    "start_time": "2023-02-08T12:07:00.049Z"
   },
   {
    "duration": 9,
    "start_time": "2023-02-08T12:07:00.083Z"
   },
   {
    "duration": 24,
    "start_time": "2023-02-08T12:07:00.094Z"
   },
   {
    "duration": 6,
    "start_time": "2023-02-08T12:07:00.119Z"
   },
   {
    "duration": 48,
    "start_time": "2023-02-08T12:07:00.127Z"
   },
   {
    "duration": 14,
    "start_time": "2023-02-08T12:07:00.180Z"
   },
   {
    "duration": 25,
    "start_time": "2023-02-08T12:07:00.196Z"
   },
   {
    "duration": 27,
    "start_time": "2023-02-08T12:07:00.224Z"
   },
   {
    "duration": 38,
    "start_time": "2023-02-08T12:07:00.253Z"
   },
   {
    "duration": 21,
    "start_time": "2023-02-08T12:07:00.293Z"
   },
   {
    "duration": 16,
    "start_time": "2023-02-08T12:07:00.315Z"
   },
   {
    "duration": 28,
    "start_time": "2023-02-08T12:07:00.332Z"
   },
   {
    "duration": 50,
    "start_time": "2023-02-08T12:07:00.361Z"
   },
   {
    "duration": 49,
    "start_time": "2023-02-08T12:07:00.412Z"
   },
   {
    "duration": 49,
    "start_time": "2023-02-08T12:07:00.463Z"
   },
   {
    "duration": 67,
    "start_time": "2023-02-08T12:07:00.514Z"
   },
   {
    "duration": 26,
    "start_time": "2023-02-08T12:07:00.583Z"
   },
   {
    "duration": 31,
    "start_time": "2023-02-08T12:07:00.610Z"
   },
   {
    "duration": 19,
    "start_time": "2023-02-08T12:07:01.416Z"
   },
   {
    "duration": 742,
    "start_time": "2023-02-08T14:52:53.430Z"
   },
   {
    "duration": 22,
    "start_time": "2023-02-08T14:52:54.174Z"
   },
   {
    "duration": 21,
    "start_time": "2023-02-08T14:52:54.198Z"
   },
   {
    "duration": 13,
    "start_time": "2023-02-08T14:52:54.221Z"
   },
   {
    "duration": 46,
    "start_time": "2023-02-08T14:52:55.538Z"
   },
   {
    "duration": 39,
    "start_time": "2023-02-08T14:53:04.494Z"
   },
   {
    "duration": 33,
    "start_time": "2023-02-08T15:05:54.529Z"
   },
   {
    "duration": 11,
    "start_time": "2023-02-08T15:06:06.503Z"
   },
   {
    "duration": 9,
    "start_time": "2023-02-08T15:06:57.879Z"
   },
   {
    "duration": 73,
    "start_time": "2023-02-08T15:07:28.419Z"
   },
   {
    "duration": 14,
    "start_time": "2023-02-08T15:07:28.493Z"
   },
   {
    "duration": 23,
    "start_time": "2023-02-08T15:07:28.509Z"
   },
   {
    "duration": 16,
    "start_time": "2023-02-08T15:07:28.535Z"
   },
   {
    "duration": 48,
    "start_time": "2023-02-08T15:07:28.553Z"
   },
   {
    "duration": 10,
    "start_time": "2023-02-08T15:07:28.603Z"
   },
   {
    "duration": 11,
    "start_time": "2023-02-08T15:07:28.614Z"
   },
   {
    "duration": 11,
    "start_time": "2023-02-08T15:07:28.627Z"
   },
   {
    "duration": 10,
    "start_time": "2023-02-08T15:07:28.639Z"
   },
   {
    "duration": 106,
    "start_time": "2023-02-08T15:07:29.482Z"
   },
   {
    "duration": 7,
    "start_time": "2023-02-08T15:07:40.702Z"
   },
   {
    "duration": 4,
    "start_time": "2023-02-08T15:08:52.398Z"
   },
   {
    "duration": 75,
    "start_time": "2023-02-08T15:09:04.879Z"
   },
   {
    "duration": 18,
    "start_time": "2023-02-08T15:09:04.956Z"
   },
   {
    "duration": 25,
    "start_time": "2023-02-08T15:09:04.976Z"
   },
   {
    "duration": 11,
    "start_time": "2023-02-08T15:09:05.004Z"
   },
   {
    "duration": 34,
    "start_time": "2023-02-08T15:09:05.017Z"
   },
   {
    "duration": 9,
    "start_time": "2023-02-08T15:09:05.053Z"
   },
   {
    "duration": 28,
    "start_time": "2023-02-08T15:09:05.064Z"
   },
   {
    "duration": 10,
    "start_time": "2023-02-08T15:09:05.094Z"
   },
   {
    "duration": 10,
    "start_time": "2023-02-08T15:09:05.105Z"
   },
   {
    "duration": 9,
    "start_time": "2023-02-08T15:09:05.117Z"
   },
   {
    "duration": 20,
    "start_time": "2023-02-08T15:09:05.127Z"
   },
   {
    "duration": 50,
    "start_time": "2023-02-08T15:09:05.149Z"
   },
   {
    "duration": 9,
    "start_time": "2023-02-08T15:09:05.200Z"
   },
   {
    "duration": 19,
    "start_time": "2023-02-08T15:09:05.211Z"
   },
   {
    "duration": 21,
    "start_time": "2023-02-08T15:09:05.231Z"
   },
   {
    "duration": 34,
    "start_time": "2023-02-08T15:09:05.254Z"
   },
   {
    "duration": 34,
    "start_time": "2023-02-08T15:09:05.290Z"
   },
   {
    "duration": 3,
    "start_time": "2023-02-08T15:09:06.737Z"
   },
   {
    "duration": 10,
    "start_time": "2023-02-08T15:10:01.250Z"
   },
   {
    "duration": 6,
    "start_time": "2023-02-08T15:10:04.254Z"
   },
   {
    "duration": 3,
    "start_time": "2023-02-08T15:10:11.205Z"
   },
   {
    "duration": 8,
    "start_time": "2023-02-08T15:10:12.070Z"
   },
   {
    "duration": 17,
    "start_time": "2023-02-08T15:10:14.903Z"
   },
   {
    "duration": 17,
    "start_time": "2023-02-08T15:10:58.376Z"
   },
   {
    "duration": 18,
    "start_time": "2023-02-08T15:11:29.691Z"
   },
   {
    "duration": 8,
    "start_time": "2023-02-08T15:14:51.463Z"
   },
   {
    "duration": 7,
    "start_time": "2023-02-08T15:14:59.626Z"
   },
   {
    "duration": 74,
    "start_time": "2023-02-08T15:15:03.623Z"
   },
   {
    "duration": 15,
    "start_time": "2023-02-08T15:15:03.699Z"
   },
   {
    "duration": 26,
    "start_time": "2023-02-08T15:15:03.716Z"
   },
   {
    "duration": 10,
    "start_time": "2023-02-08T15:15:03.744Z"
   },
   {
    "duration": 51,
    "start_time": "2023-02-08T15:15:03.755Z"
   },
   {
    "duration": 13,
    "start_time": "2023-02-08T15:15:03.807Z"
   },
   {
    "duration": 10,
    "start_time": "2023-02-08T15:15:04.483Z"
   },
   {
    "duration": 7,
    "start_time": "2023-02-08T15:15:05.699Z"
   },
   {
    "duration": 5,
    "start_time": "2023-02-08T15:16:07.537Z"
   },
   {
    "duration": 5,
    "start_time": "2023-02-08T15:16:16.132Z"
   },
   {
    "duration": 1013,
    "start_time": "2023-02-08T15:16:30.741Z"
   },
   {
    "duration": 5,
    "start_time": "2023-02-08T15:16:39.139Z"
   },
   {
    "duration": 15,
    "start_time": "2023-02-08T15:25:57.766Z"
   },
   {
    "duration": 68,
    "start_time": "2023-02-08T15:26:04.117Z"
   },
   {
    "duration": 14,
    "start_time": "2023-02-08T15:26:04.187Z"
   },
   {
    "duration": 17,
    "start_time": "2023-02-08T15:26:04.202Z"
   },
   {
    "duration": 10,
    "start_time": "2023-02-08T15:26:04.221Z"
   },
   {
    "duration": 64,
    "start_time": "2023-02-08T15:26:04.233Z"
   },
   {
    "duration": 13,
    "start_time": "2023-02-08T15:26:04.298Z"
   },
   {
    "duration": 11,
    "start_time": "2023-02-08T15:26:04.312Z"
   },
   {
    "duration": 6,
    "start_time": "2023-02-08T15:26:04.324Z"
   },
   {
    "duration": 7,
    "start_time": "2023-02-08T15:26:04.331Z"
   },
   {
    "duration": 10,
    "start_time": "2023-02-08T15:26:04.340Z"
   },
   {
    "duration": 4,
    "start_time": "2023-02-08T15:26:04.352Z"
   },
   {
    "duration": 39,
    "start_time": "2023-02-08T15:26:04.357Z"
   },
   {
    "duration": 4,
    "start_time": "2023-02-08T15:26:04.398Z"
   },
   {
    "duration": 41,
    "start_time": "2023-02-08T15:26:04.405Z"
   },
   {
    "duration": 10,
    "start_time": "2023-02-08T15:26:04.447Z"
   },
   {
    "duration": 5,
    "start_time": "2023-02-08T15:26:04.459Z"
   },
   {
    "duration": 11,
    "start_time": "2023-02-08T15:26:04.491Z"
   },
   {
    "duration": 39,
    "start_time": "2023-02-08T15:26:04.504Z"
   },
   {
    "duration": 25,
    "start_time": "2023-02-08T15:26:04.544Z"
   },
   {
    "duration": 4,
    "start_time": "2023-02-08T15:26:04.571Z"
   },
   {
    "duration": 19,
    "start_time": "2023-02-08T15:26:04.577Z"
   },
   {
    "duration": 20,
    "start_time": "2023-02-08T15:26:04.597Z"
   },
   {
    "duration": 6,
    "start_time": "2023-02-08T15:26:04.618Z"
   },
   {
    "duration": 7,
    "start_time": "2023-02-08T15:26:04.625Z"
   },
   {
    "duration": 11,
    "start_time": "2023-02-08T15:26:04.633Z"
   },
   {
    "duration": 52,
    "start_time": "2023-02-08T15:26:04.646Z"
   },
   {
    "duration": 13,
    "start_time": "2023-02-08T15:26:04.700Z"
   },
   {
    "duration": 13,
    "start_time": "2023-02-08T15:26:05.329Z"
   },
   {
    "duration": 1182,
    "start_time": "2023-02-08T15:26:55.717Z"
   },
   {
    "duration": 48,
    "start_time": "2023-02-08T15:27:22.138Z"
   },
   {
    "duration": 99,
    "start_time": "2023-02-08T15:37:06.893Z"
   },
   {
    "duration": 14,
    "start_time": "2023-02-08T15:37:30.667Z"
   },
   {
    "duration": 10,
    "start_time": "2023-02-08T15:40:45.486Z"
   },
   {
    "duration": 13,
    "start_time": "2023-02-08T15:41:09.127Z"
   },
   {
    "duration": 3,
    "start_time": "2023-02-08T15:44:36.026Z"
   },
   {
    "duration": 12,
    "start_time": "2023-02-08T15:44:41.614Z"
   },
   {
    "duration": 1863,
    "start_time": "2023-02-08T15:48:13.520Z"
   },
   {
    "duration": 12,
    "start_time": "2023-02-08T15:57:25.762Z"
   },
   {
    "duration": 10,
    "start_time": "2023-02-08T15:58:11.060Z"
   },
   {
    "duration": 4,
    "start_time": "2023-02-08T15:58:22.247Z"
   },
   {
    "duration": 6,
    "start_time": "2023-02-08T15:58:53.616Z"
   },
   {
    "duration": 8,
    "start_time": "2023-02-08T15:58:59.052Z"
   },
   {
    "duration": 8,
    "start_time": "2023-02-08T15:59:03.624Z"
   },
   {
    "duration": 20,
    "start_time": "2023-02-08T16:04:31.773Z"
   },
   {
    "duration": 16,
    "start_time": "2023-02-08T16:05:24.955Z"
   },
   {
    "duration": 21,
    "start_time": "2023-02-08T16:05:40.378Z"
   },
   {
    "duration": 72,
    "start_time": "2023-02-08T16:05:44.124Z"
   },
   {
    "duration": 15,
    "start_time": "2023-02-08T16:05:44.198Z"
   },
   {
    "duration": 21,
    "start_time": "2023-02-08T16:05:44.214Z"
   },
   {
    "duration": 13,
    "start_time": "2023-02-08T16:05:44.238Z"
   },
   {
    "duration": 59,
    "start_time": "2023-02-08T16:05:44.252Z"
   },
   {
    "duration": 9,
    "start_time": "2023-02-08T16:05:44.313Z"
   },
   {
    "duration": 11,
    "start_time": "2023-02-08T16:05:44.324Z"
   },
   {
    "duration": 8,
    "start_time": "2023-02-08T16:05:44.336Z"
   },
   {
    "duration": 8,
    "start_time": "2023-02-08T16:05:44.346Z"
   },
   {
    "duration": 34,
    "start_time": "2023-02-08T16:05:44.358Z"
   },
   {
    "duration": 4,
    "start_time": "2023-02-08T16:05:44.394Z"
   },
   {
    "duration": 11,
    "start_time": "2023-02-08T16:05:44.399Z"
   },
   {
    "duration": 6,
    "start_time": "2023-02-08T16:05:44.412Z"
   },
   {
    "duration": 45,
    "start_time": "2023-02-08T16:05:44.420Z"
   },
   {
    "duration": 10,
    "start_time": "2023-02-08T16:05:44.490Z"
   },
   {
    "duration": 5,
    "start_time": "2023-02-08T16:05:44.502Z"
   },
   {
    "duration": 14,
    "start_time": "2023-02-08T16:05:44.508Z"
   },
   {
    "duration": 22,
    "start_time": "2023-02-08T16:05:44.523Z"
   },
   {
    "duration": 45,
    "start_time": "2023-02-08T16:05:44.547Z"
   },
   {
    "duration": 4,
    "start_time": "2023-02-08T16:05:44.593Z"
   },
   {
    "duration": 26,
    "start_time": "2023-02-08T16:05:44.599Z"
   },
   {
    "duration": 22,
    "start_time": "2023-02-08T16:05:44.627Z"
   },
   {
    "duration": 5,
    "start_time": "2023-02-08T16:05:44.651Z"
   },
   {
    "duration": 15,
    "start_time": "2023-02-08T16:05:44.658Z"
   },
   {
    "duration": 11,
    "start_time": "2023-02-08T16:05:44.674Z"
   },
   {
    "duration": 29,
    "start_time": "2023-02-08T16:05:44.692Z"
   },
   {
    "duration": 16,
    "start_time": "2023-02-08T16:05:44.723Z"
   },
   {
    "duration": 14,
    "start_time": "2023-02-08T16:05:45.674Z"
   },
   {
    "duration": 19,
    "start_time": "2023-02-08T16:05:47.090Z"
   },
   {
    "duration": 18,
    "start_time": "2023-02-08T16:06:00.518Z"
   },
   {
    "duration": 8,
    "start_time": "2023-02-08T16:08:47.947Z"
   },
   {
    "duration": 13,
    "start_time": "2023-02-08T16:08:51.917Z"
   },
   {
    "duration": 14,
    "start_time": "2023-02-08T16:09:04.990Z"
   },
   {
    "duration": 20,
    "start_time": "2023-02-08T16:09:24.313Z"
   },
   {
    "duration": 30,
    "start_time": "2023-02-08T16:09:33.743Z"
   },
   {
    "duration": 12,
    "start_time": "2023-02-08T16:11:18.014Z"
   },
   {
    "duration": 13,
    "start_time": "2023-02-08T16:11:53.973Z"
   },
   {
    "duration": 69,
    "start_time": "2023-02-08T16:11:56.865Z"
   },
   {
    "duration": 14,
    "start_time": "2023-02-08T16:11:56.936Z"
   },
   {
    "duration": 22,
    "start_time": "2023-02-08T16:11:56.951Z"
   },
   {
    "duration": 23,
    "start_time": "2023-02-08T16:11:56.975Z"
   },
   {
    "duration": 40,
    "start_time": "2023-02-08T16:11:56.999Z"
   },
   {
    "duration": 14,
    "start_time": "2023-02-08T16:11:57.041Z"
   },
   {
    "duration": 39,
    "start_time": "2023-02-08T16:11:57.057Z"
   },
   {
    "duration": 4,
    "start_time": "2023-02-08T16:11:57.098Z"
   },
   {
    "duration": 10,
    "start_time": "2023-02-08T16:11:57.103Z"
   },
   {
    "duration": 10,
    "start_time": "2023-02-08T16:11:57.115Z"
   },
   {
    "duration": 8,
    "start_time": "2023-02-08T16:11:57.126Z"
   },
   {
    "duration": 8,
    "start_time": "2023-02-08T16:11:57.135Z"
   },
   {
    "duration": 7,
    "start_time": "2023-02-08T16:11:57.144Z"
   },
   {
    "duration": 58,
    "start_time": "2023-02-08T16:11:57.152Z"
   },
   {
    "duration": 10,
    "start_time": "2023-02-08T16:11:57.212Z"
   },
   {
    "duration": 4,
    "start_time": "2023-02-08T16:11:57.223Z"
   },
   {
    "duration": 11,
    "start_time": "2023-02-08T16:11:57.228Z"
   },
   {
    "duration": 16,
    "start_time": "2023-02-08T16:11:57.241Z"
   },
   {
    "duration": 44,
    "start_time": "2023-02-08T16:11:57.258Z"
   },
   {
    "duration": 3,
    "start_time": "2023-02-08T16:11:57.304Z"
   },
   {
    "duration": 34,
    "start_time": "2023-02-08T16:11:57.309Z"
   },
   {
    "duration": 34,
    "start_time": "2023-02-08T16:11:57.344Z"
   },
   {
    "duration": 22,
    "start_time": "2023-02-08T16:11:57.380Z"
   },
   {
    "duration": 17,
    "start_time": "2023-02-08T16:11:57.404Z"
   },
   {
    "duration": 27,
    "start_time": "2023-02-08T16:11:57.423Z"
   },
   {
    "duration": 18,
    "start_time": "2023-02-08T16:11:57.451Z"
   },
   {
    "duration": 13,
    "start_time": "2023-02-08T16:11:57.471Z"
   },
   {
    "duration": 17,
    "start_time": "2023-02-08T16:11:57.487Z"
   },
   {
    "duration": 0,
    "start_time": "2023-02-08T16:11:57.505Z"
   },
   {
    "duration": 0,
    "start_time": "2023-02-08T16:11:57.507Z"
   },
   {
    "duration": 0,
    "start_time": "2023-02-08T16:11:57.508Z"
   },
   {
    "duration": 12,
    "start_time": "2023-02-08T16:11:58.572Z"
   },
   {
    "duration": 25,
    "start_time": "2023-02-08T16:12:36.257Z"
   },
   {
    "duration": 26,
    "start_time": "2023-02-08T16:16:41.573Z"
   },
   {
    "duration": 138,
    "start_time": "2023-02-08T16:17:12.028Z"
   },
   {
    "duration": 16,
    "start_time": "2023-02-08T16:17:52.636Z"
   },
   {
    "duration": 141,
    "start_time": "2023-02-08T16:18:43.457Z"
   },
   {
    "duration": 10,
    "start_time": "2023-02-08T16:19:02.060Z"
   },
   {
    "duration": 170,
    "start_time": "2023-02-08T16:19:38.192Z"
   },
   {
    "duration": 169,
    "start_time": "2023-02-08T16:20:06.643Z"
   },
   {
    "duration": 118,
    "start_time": "2023-02-08T16:20:20.304Z"
   },
   {
    "duration": 73,
    "start_time": "2023-02-08T16:22:40.148Z"
   },
   {
    "duration": 15,
    "start_time": "2023-02-08T16:22:40.223Z"
   },
   {
    "duration": 20,
    "start_time": "2023-02-08T16:22:40.240Z"
   },
   {
    "duration": 30,
    "start_time": "2023-02-08T16:22:40.262Z"
   },
   {
    "duration": 51,
    "start_time": "2023-02-08T16:22:40.294Z"
   },
   {
    "duration": 15,
    "start_time": "2023-02-08T16:22:40.347Z"
   },
   {
    "duration": 34,
    "start_time": "2023-02-08T16:22:40.364Z"
   },
   {
    "duration": 5,
    "start_time": "2023-02-08T16:22:40.401Z"
   },
   {
    "duration": 10,
    "start_time": "2023-02-08T16:22:40.408Z"
   },
   {
    "duration": 11,
    "start_time": "2023-02-08T16:22:40.422Z"
   },
   {
    "duration": 5,
    "start_time": "2023-02-08T16:22:40.435Z"
   },
   {
    "duration": 8,
    "start_time": "2023-02-08T16:22:40.441Z"
   },
   {
    "duration": 42,
    "start_time": "2023-02-08T16:22:40.451Z"
   },
   {
    "duration": 33,
    "start_time": "2023-02-08T16:22:40.495Z"
   },
   {
    "duration": 11,
    "start_time": "2023-02-08T16:22:40.530Z"
   },
   {
    "duration": 5,
    "start_time": "2023-02-08T16:22:40.543Z"
   },
   {
    "duration": 49,
    "start_time": "2023-02-08T16:22:40.549Z"
   },
   {
    "duration": 17,
    "start_time": "2023-02-08T16:22:40.599Z"
   },
   {
    "duration": 16,
    "start_time": "2023-02-08T16:22:40.617Z"
   },
   {
    "duration": 4,
    "start_time": "2023-02-08T16:22:40.635Z"
   },
   {
    "duration": 17,
    "start_time": "2023-02-08T16:22:40.641Z"
   },
   {
    "duration": 41,
    "start_time": "2023-02-08T16:22:40.660Z"
   },
   {
    "duration": 7,
    "start_time": "2023-02-08T16:22:40.702Z"
   },
   {
    "duration": 7,
    "start_time": "2023-02-08T16:22:40.711Z"
   },
   {
    "duration": 15,
    "start_time": "2023-02-08T16:22:40.719Z"
   },
   {
    "duration": 59,
    "start_time": "2023-02-08T16:22:40.736Z"
   },
   {
    "duration": 16,
    "start_time": "2023-02-08T16:22:42.044Z"
   },
   {
    "duration": 73,
    "start_time": "2023-02-08T16:24:10.181Z"
   },
   {
    "duration": 16,
    "start_time": "2023-02-08T16:24:10.256Z"
   },
   {
    "duration": 29,
    "start_time": "2023-02-08T16:24:10.274Z"
   },
   {
    "duration": 14,
    "start_time": "2023-02-08T16:24:10.305Z"
   },
   {
    "duration": 45,
    "start_time": "2023-02-08T16:24:10.322Z"
   },
   {
    "duration": 32,
    "start_time": "2023-02-08T16:24:10.369Z"
   },
   {
    "duration": 18,
    "start_time": "2023-02-08T16:24:10.403Z"
   },
   {
    "duration": 11,
    "start_time": "2023-02-08T16:24:10.422Z"
   },
   {
    "duration": 12,
    "start_time": "2023-02-08T16:24:10.437Z"
   },
   {
    "duration": 18,
    "start_time": "2023-02-08T16:24:10.454Z"
   },
   {
    "duration": 20,
    "start_time": "2023-02-08T16:24:10.474Z"
   },
   {
    "duration": 8,
    "start_time": "2023-02-08T16:24:10.496Z"
   },
   {
    "duration": 14,
    "start_time": "2023-02-08T16:24:10.505Z"
   },
   {
    "duration": 73,
    "start_time": "2023-02-08T16:24:10.520Z"
   },
   {
    "duration": 15,
    "start_time": "2023-02-08T16:24:10.595Z"
   },
   {
    "duration": 9,
    "start_time": "2023-02-08T16:24:10.612Z"
   },
   {
    "duration": 27,
    "start_time": "2023-02-08T16:24:10.623Z"
   },
   {
    "duration": 40,
    "start_time": "2023-02-08T16:24:10.652Z"
   },
   {
    "duration": 26,
    "start_time": "2023-02-08T16:24:10.694Z"
   },
   {
    "duration": 5,
    "start_time": "2023-02-08T16:24:10.722Z"
   },
   {
    "duration": 23,
    "start_time": "2023-02-08T16:24:10.729Z"
   },
   {
    "duration": 32,
    "start_time": "2023-02-08T16:24:10.754Z"
   },
   {
    "duration": 26,
    "start_time": "2023-02-08T16:24:10.788Z"
   },
   {
    "duration": 5,
    "start_time": "2023-02-08T16:24:10.816Z"
   },
   {
    "duration": 26,
    "start_time": "2023-02-08T16:24:10.823Z"
   },
   {
    "duration": 33,
    "start_time": "2023-02-08T16:24:10.851Z"
   },
   {
    "duration": 13,
    "start_time": "2023-02-08T16:24:16.934Z"
   },
   {
    "duration": 4,
    "start_time": "2023-02-08T16:28:47.024Z"
   },
   {
    "duration": 44,
    "start_time": "2023-02-08T16:36:45.556Z"
   },
   {
    "duration": 5,
    "start_time": "2023-02-08T16:37:33.340Z"
   },
   {
    "duration": 11,
    "start_time": "2023-02-08T16:37:38.281Z"
   },
   {
    "duration": 16,
    "start_time": "2023-02-08T16:38:58.322Z"
   },
   {
    "duration": 12,
    "start_time": "2023-02-08T16:39:12.046Z"
   },
   {
    "duration": 69,
    "start_time": "2023-02-08T16:39:16.892Z"
   },
   {
    "duration": 15,
    "start_time": "2023-02-08T16:39:16.963Z"
   },
   {
    "duration": 18,
    "start_time": "2023-02-08T16:39:16.980Z"
   },
   {
    "duration": 11,
    "start_time": "2023-02-08T16:39:17.001Z"
   },
   {
    "duration": 37,
    "start_time": "2023-02-08T16:39:17.014Z"
   },
   {
    "duration": 43,
    "start_time": "2023-02-08T16:39:17.053Z"
   },
   {
    "duration": 9,
    "start_time": "2023-02-08T16:39:17.098Z"
   },
   {
    "duration": 6,
    "start_time": "2023-02-08T16:39:17.109Z"
   },
   {
    "duration": 8,
    "start_time": "2023-02-08T16:39:17.117Z"
   },
   {
    "duration": 9,
    "start_time": "2023-02-08T16:39:17.128Z"
   },
   {
    "duration": 4,
    "start_time": "2023-02-08T16:39:17.139Z"
   },
   {
    "duration": 47,
    "start_time": "2023-02-08T16:39:17.145Z"
   },
   {
    "duration": 4,
    "start_time": "2023-02-08T16:39:17.194Z"
   },
   {
    "duration": 36,
    "start_time": "2023-02-08T16:39:17.199Z"
   },
   {
    "duration": 9,
    "start_time": "2023-02-08T16:39:17.237Z"
   },
   {
    "duration": 4,
    "start_time": "2023-02-08T16:39:17.248Z"
   },
   {
    "duration": 40,
    "start_time": "2023-02-08T16:39:17.254Z"
   },
   {
    "duration": 17,
    "start_time": "2023-02-08T16:39:17.296Z"
   },
   {
    "duration": 25,
    "start_time": "2023-02-08T16:39:17.315Z"
   },
   {
    "duration": 5,
    "start_time": "2023-02-08T16:39:17.341Z"
   },
   {
    "duration": 20,
    "start_time": "2023-02-08T16:39:17.348Z"
   },
   {
    "duration": 39,
    "start_time": "2023-02-08T16:39:17.370Z"
   },
   {
    "duration": 7,
    "start_time": "2023-02-08T16:39:17.411Z"
   },
   {
    "duration": 5,
    "start_time": "2023-02-08T16:39:17.420Z"
   },
   {
    "duration": 18,
    "start_time": "2023-02-08T16:39:17.427Z"
   },
   {
    "duration": 52,
    "start_time": "2023-02-08T16:39:17.446Z"
   },
   {
    "duration": 17,
    "start_time": "2023-02-08T16:39:17.500Z"
   },
   {
    "duration": 16,
    "start_time": "2023-02-08T16:39:17.521Z"
   },
   {
    "duration": 18,
    "start_time": "2023-02-08T16:39:19.344Z"
   },
   {
    "duration": 18,
    "start_time": "2023-02-08T16:39:33.292Z"
   },
   {
    "duration": 23,
    "start_time": "2023-02-08T16:40:07.040Z"
   },
   {
    "duration": 68,
    "start_time": "2023-02-08T16:40:14.629Z"
   },
   {
    "duration": 15,
    "start_time": "2023-02-08T16:40:14.699Z"
   },
   {
    "duration": 18,
    "start_time": "2023-02-08T16:40:14.716Z"
   },
   {
    "duration": 10,
    "start_time": "2023-02-08T16:40:14.736Z"
   },
   {
    "duration": 53,
    "start_time": "2023-02-08T16:40:14.748Z"
   },
   {
    "duration": 10,
    "start_time": "2023-02-08T16:40:14.803Z"
   },
   {
    "duration": 6,
    "start_time": "2023-02-08T16:40:14.815Z"
   },
   {
    "duration": 7,
    "start_time": "2023-02-08T16:40:14.823Z"
   },
   {
    "duration": 11,
    "start_time": "2023-02-08T16:40:14.831Z"
   },
   {
    "duration": 13,
    "start_time": "2023-02-08T16:40:14.843Z"
   },
   {
    "duration": 34,
    "start_time": "2023-02-08T16:40:14.858Z"
   },
   {
    "duration": 6,
    "start_time": "2023-02-08T16:40:14.894Z"
   },
   {
    "duration": 12,
    "start_time": "2023-02-08T16:40:14.901Z"
   },
   {
    "duration": 34,
    "start_time": "2023-02-08T16:40:14.916Z"
   },
   {
    "duration": 9,
    "start_time": "2023-02-08T16:40:14.951Z"
   },
   {
    "duration": 29,
    "start_time": "2023-02-08T16:40:14.962Z"
   },
   {
    "duration": 16,
    "start_time": "2023-02-08T16:40:14.994Z"
   },
   {
    "duration": 34,
    "start_time": "2023-02-08T16:40:15.012Z"
   },
   {
    "duration": 17,
    "start_time": "2023-02-08T16:40:15.048Z"
   },
   {
    "duration": 4,
    "start_time": "2023-02-08T16:40:15.066Z"
   },
   {
    "duration": 24,
    "start_time": "2023-02-08T16:40:15.071Z"
   },
   {
    "duration": 23,
    "start_time": "2023-02-08T16:40:15.097Z"
   },
   {
    "duration": 7,
    "start_time": "2023-02-08T16:40:15.122Z"
   },
   {
    "duration": 6,
    "start_time": "2023-02-08T16:40:15.131Z"
   },
   {
    "duration": 15,
    "start_time": "2023-02-08T16:40:15.139Z"
   },
   {
    "duration": 48,
    "start_time": "2023-02-08T16:40:15.156Z"
   },
   {
    "duration": 17,
    "start_time": "2023-02-08T16:40:15.206Z"
   },
   {
    "duration": 10,
    "start_time": "2023-02-08T16:40:15.224Z"
   },
   {
    "duration": 19,
    "start_time": "2023-02-08T16:40:17.161Z"
   },
   {
    "duration": 126,
    "start_time": "2023-02-08T16:40:19.167Z"
   },
   {
    "duration": 126,
    "start_time": "2023-02-08T16:40:40.479Z"
   },
   {
    "duration": 17,
    "start_time": "2023-02-08T16:56:15.571Z"
   },
   {
    "duration": 17,
    "start_time": "2023-02-08T16:59:37.855Z"
   },
   {
    "duration": 14,
    "start_time": "2023-02-08T17:00:00.586Z"
   },
   {
    "duration": 9,
    "start_time": "2023-02-08T17:00:05.838Z"
   },
   {
    "duration": 7,
    "start_time": "2023-02-08T17:00:45.499Z"
   },
   {
    "duration": 10,
    "start_time": "2023-02-08T17:16:31.434Z"
   },
   {
    "duration": 9,
    "start_time": "2023-02-08T17:17:07.387Z"
   },
   {
    "duration": 17,
    "start_time": "2023-02-08T17:17:18.078Z"
   },
   {
    "duration": 14,
    "start_time": "2023-02-08T17:17:33.271Z"
   },
   {
    "duration": 11,
    "start_time": "2023-02-08T17:18:15.197Z"
   },
   {
    "duration": 11,
    "start_time": "2023-02-08T17:18:29.527Z"
   },
   {
    "duration": 15,
    "start_time": "2023-02-08T17:18:37.255Z"
   },
   {
    "duration": 12,
    "start_time": "2023-02-08T17:21:25.957Z"
   },
   {
    "duration": 9,
    "start_time": "2023-02-08T17:23:04.682Z"
   },
   {
    "duration": 9,
    "start_time": "2023-02-08T17:23:05.276Z"
   },
   {
    "duration": 14,
    "start_time": "2023-02-08T18:23:28.615Z"
   },
   {
    "duration": 117,
    "start_time": "2023-02-08T18:24:28.768Z"
   },
   {
    "duration": 554,
    "start_time": "2023-02-09T08:49:39.728Z"
   },
   {
    "duration": 30,
    "start_time": "2023-02-09T08:49:40.284Z"
   },
   {
    "duration": 21,
    "start_time": "2023-02-09T08:49:40.315Z"
   },
   {
    "duration": 12,
    "start_time": "2023-02-09T08:49:40.338Z"
   },
   {
    "duration": 55,
    "start_time": "2023-02-09T08:49:40.352Z"
   },
   {
    "duration": 10,
    "start_time": "2023-02-09T08:49:40.409Z"
   },
   {
    "duration": 29,
    "start_time": "2023-02-09T08:49:40.421Z"
   },
   {
    "duration": 62,
    "start_time": "2023-02-09T08:49:49.659Z"
   },
   {
    "duration": 8,
    "start_time": "2023-02-09T08:50:25.880Z"
   },
   {
    "duration": 9,
    "start_time": "2023-02-09T08:51:04.727Z"
   },
   {
    "duration": 71,
    "start_time": "2023-02-09T08:53:46.112Z"
   },
   {
    "duration": 64,
    "start_time": "2023-02-09T09:14:33.534Z"
   },
   {
    "duration": 15,
    "start_time": "2023-02-09T09:14:33.600Z"
   },
   {
    "duration": 17,
    "start_time": "2023-02-09T09:14:33.617Z"
   },
   {
    "duration": 9,
    "start_time": "2023-02-09T09:14:33.635Z"
   },
   {
    "duration": 33,
    "start_time": "2023-02-09T09:14:33.646Z"
   },
   {
    "duration": 9,
    "start_time": "2023-02-09T09:14:33.680Z"
   },
   {
    "duration": 12,
    "start_time": "2023-02-09T09:14:33.691Z"
   },
   {
    "duration": 23,
    "start_time": "2023-02-09T09:14:33.705Z"
   },
   {
    "duration": 4,
    "start_time": "2023-02-09T09:14:33.730Z"
   },
   {
    "duration": 13,
    "start_time": "2023-02-09T09:14:33.736Z"
   },
   {
    "duration": 16,
    "start_time": "2023-02-09T09:14:33.750Z"
   },
   {
    "duration": 18,
    "start_time": "2023-02-09T09:14:33.767Z"
   },
   {
    "duration": 16,
    "start_time": "2023-02-09T09:14:33.787Z"
   },
   {
    "duration": 42,
    "start_time": "2023-02-09T09:14:33.805Z"
   },
   {
    "duration": 8,
    "start_time": "2023-02-09T09:14:33.849Z"
   },
   {
    "duration": 4,
    "start_time": "2023-02-09T09:14:33.858Z"
   },
   {
    "duration": 16,
    "start_time": "2023-02-09T09:14:33.864Z"
   },
   {
    "duration": 20,
    "start_time": "2023-02-09T09:14:33.881Z"
   },
   {
    "duration": 40,
    "start_time": "2023-02-09T09:14:33.902Z"
   },
   {
    "duration": 3,
    "start_time": "2023-02-09T09:14:33.944Z"
   },
   {
    "duration": 11,
    "start_time": "2023-02-09T09:14:33.948Z"
   },
   {
    "duration": 16,
    "start_time": "2023-02-09T09:14:33.960Z"
   },
   {
    "duration": 6,
    "start_time": "2023-02-09T09:14:33.977Z"
   },
   {
    "duration": 44,
    "start_time": "2023-02-09T09:14:33.985Z"
   },
   {
    "duration": 10,
    "start_time": "2023-02-09T09:14:34.031Z"
   },
   {
    "duration": 16,
    "start_time": "2023-02-09T09:14:34.043Z"
   },
   {
    "duration": 21,
    "start_time": "2023-02-09T09:14:34.060Z"
   },
   {
    "duration": 12,
    "start_time": "2023-02-09T09:14:34.085Z"
   },
   {
    "duration": 13,
    "start_time": "2023-02-09T09:14:34.128Z"
   },
   {
    "duration": 1012,
    "start_time": "2023-02-09T09:14:34.143Z"
   },
   {
    "duration": 20,
    "start_time": "2023-02-09T09:14:35.235Z"
   },
   {
    "duration": 18,
    "start_time": "2023-02-09T09:14:42.283Z"
   },
   {
    "duration": 8,
    "start_time": "2023-02-09T09:23:14.418Z"
   },
   {
    "duration": 9,
    "start_time": "2023-02-09T09:29:52.356Z"
   },
   {
    "duration": 46,
    "start_time": "2023-02-09T09:59:55.431Z"
   },
   {
    "duration": 16,
    "start_time": "2023-02-09T10:00:02.732Z"
   },
   {
    "duration": 17,
    "start_time": "2023-02-09T10:00:10.863Z"
   },
   {
    "duration": 22,
    "start_time": "2023-02-09T10:01:34.606Z"
   },
   {
    "duration": 19,
    "start_time": "2023-02-09T10:03:23.866Z"
   },
   {
    "duration": 23,
    "start_time": "2023-02-09T10:18:14.190Z"
   },
   {
    "duration": 20,
    "start_time": "2023-02-09T10:18:44.229Z"
   },
   {
    "duration": 14,
    "start_time": "2023-02-09T10:18:54.301Z"
   },
   {
    "duration": 19,
    "start_time": "2023-02-09T10:19:00.115Z"
   },
   {
    "duration": 11,
    "start_time": "2023-02-09T10:19:01.247Z"
   },
   {
    "duration": 142,
    "start_time": "2023-02-09T10:19:02.526Z"
   },
   {
    "duration": 19,
    "start_time": "2023-02-09T10:19:50.384Z"
   },
   {
    "duration": 77,
    "start_time": "2023-02-09T10:21:14.082Z"
   },
   {
    "duration": 20,
    "start_time": "2023-02-09T10:21:38.288Z"
   },
   {
    "duration": 21,
    "start_time": "2023-02-09T10:23:03.683Z"
   },
   {
    "duration": 21,
    "start_time": "2023-02-09T10:23:14.898Z"
   },
   {
    "duration": 32,
    "start_time": "2023-02-09T10:27:12.278Z"
   },
   {
    "duration": 125,
    "start_time": "2023-02-09T10:34:35.004Z"
   },
   {
    "duration": 1155,
    "start_time": "2023-02-09T10:37:26.782Z"
   },
   {
    "duration": 41,
    "start_time": "2023-02-09T10:37:44.672Z"
   },
   {
    "duration": 20,
    "start_time": "2023-02-09T10:39:06.234Z"
   },
   {
    "duration": 21,
    "start_time": "2023-02-09T10:39:12.114Z"
   },
   {
    "duration": 24,
    "start_time": "2023-02-09T10:51:47.979Z"
   },
   {
    "duration": 1153,
    "start_time": "2023-02-09T10:57:03.258Z"
   },
   {
    "duration": 7,
    "start_time": "2023-02-09T10:57:12.481Z"
   },
   {
    "duration": 10,
    "start_time": "2023-02-09T10:57:18.827Z"
   },
   {
    "duration": 9,
    "start_time": "2023-02-09T10:58:29.878Z"
   },
   {
    "duration": 9,
    "start_time": "2023-02-09T10:59:29.092Z"
   },
   {
    "duration": 7,
    "start_time": "2023-02-09T10:59:40.076Z"
   },
   {
    "duration": 10,
    "start_time": "2023-02-09T10:59:45.192Z"
   },
   {
    "duration": 10,
    "start_time": "2023-02-09T11:05:21.655Z"
   },
   {
    "duration": 9,
    "start_time": "2023-02-09T11:05:58.232Z"
   },
   {
    "duration": 8,
    "start_time": "2023-02-09T11:06:33.104Z"
   },
   {
    "duration": 9,
    "start_time": "2023-02-09T11:20:16.776Z"
   },
   {
    "duration": 495,
    "start_time": "2023-02-10T07:14:06.690Z"
   },
   {
    "duration": 22,
    "start_time": "2023-02-10T07:14:07.186Z"
   },
   {
    "duration": 14,
    "start_time": "2023-02-10T07:14:07.210Z"
   },
   {
    "duration": 12,
    "start_time": "2023-02-10T07:14:07.226Z"
   },
   {
    "duration": 53,
    "start_time": "2023-02-10T07:14:07.240Z"
   },
   {
    "duration": 11,
    "start_time": "2023-02-10T07:14:07.294Z"
   },
   {
    "duration": 7,
    "start_time": "2023-02-10T07:14:07.307Z"
   },
   {
    "duration": 6,
    "start_time": "2023-02-10T07:14:07.316Z"
   },
   {
    "duration": 20,
    "start_time": "2023-02-10T07:14:07.323Z"
   },
   {
    "duration": 13,
    "start_time": "2023-02-10T07:14:07.345Z"
   },
   {
    "duration": 10,
    "start_time": "2023-02-10T07:14:07.359Z"
   },
   {
    "duration": 17,
    "start_time": "2023-02-10T07:14:07.370Z"
   },
   {
    "duration": 7,
    "start_time": "2023-02-10T07:14:07.390Z"
   },
   {
    "duration": 41,
    "start_time": "2023-02-10T07:14:07.399Z"
   },
   {
    "duration": 9,
    "start_time": "2023-02-10T07:14:07.442Z"
   },
   {
    "duration": 7,
    "start_time": "2023-02-10T07:14:07.453Z"
   },
   {
    "duration": 13,
    "start_time": "2023-02-10T07:14:07.462Z"
   },
   {
    "duration": 31,
    "start_time": "2023-02-10T07:14:07.476Z"
   },
   {
    "duration": 15,
    "start_time": "2023-02-10T07:14:07.508Z"
   },
   {
    "duration": 3,
    "start_time": "2023-02-10T07:14:07.525Z"
   },
   {
    "duration": 12,
    "start_time": "2023-02-10T07:14:07.529Z"
   },
   {
    "duration": 18,
    "start_time": "2023-02-10T07:14:07.542Z"
   },
   {
    "duration": 31,
    "start_time": "2023-02-10T07:14:07.561Z"
   },
   {
    "duration": 3,
    "start_time": "2023-02-10T07:14:07.594Z"
   },
   {
    "duration": 10,
    "start_time": "2023-02-10T07:14:07.599Z"
   },
   {
    "duration": 14,
    "start_time": "2023-02-10T07:14:07.610Z"
   },
   {
    "duration": 23,
    "start_time": "2023-02-10T07:14:07.625Z"
   },
   {
    "duration": 9,
    "start_time": "2023-02-10T07:14:07.652Z"
   },
   {
    "duration": 994,
    "start_time": "2023-02-10T07:14:07.691Z"
   },
   {
    "duration": 7,
    "start_time": "2023-02-10T07:14:08.692Z"
   },
   {
    "duration": 20,
    "start_time": "2023-02-10T07:14:08.700Z"
   },
   {
    "duration": 19,
    "start_time": "2023-02-10T07:14:08.721Z"
   },
   {
    "duration": 7,
    "start_time": "2023-02-10T07:14:08.742Z"
   },
   {
    "duration": 11,
    "start_time": "2023-02-10T07:14:08.751Z"
   },
   {
    "duration": 36,
    "start_time": "2023-02-10T07:14:08.763Z"
   },
   {
    "duration": 111,
    "start_time": "2023-02-10T07:14:08.800Z"
   },
   {
    "duration": 20,
    "start_time": "2023-02-10T07:14:08.913Z"
   },
   {
    "duration": 36,
    "start_time": "2023-02-10T07:14:08.934Z"
   },
   {
    "duration": 8,
    "start_time": "2023-02-10T07:14:08.972Z"
   },
   {
    "duration": 78,
    "start_time": "2023-02-10T10:43:24.084Z"
   },
   {
    "duration": 566,
    "start_time": "2023-02-10T11:08:10.265Z"
   },
   {
    "duration": 32,
    "start_time": "2023-02-10T11:08:10.833Z"
   },
   {
    "duration": 16,
    "start_time": "2023-02-10T11:08:10.868Z"
   },
   {
    "duration": 11,
    "start_time": "2023-02-10T11:08:10.887Z"
   },
   {
    "duration": 78,
    "start_time": "2023-02-10T11:08:30.926Z"
   },
   {
    "duration": 10,
    "start_time": "2023-02-10T11:09:10.998Z"
   },
   {
    "duration": 9,
    "start_time": "2023-02-10T11:09:17.629Z"
   },
   {
    "duration": 8,
    "start_time": "2023-02-10T11:09:29.028Z"
   },
   {
    "duration": 8,
    "start_time": "2023-02-10T11:09:32.207Z"
   },
   {
    "duration": 30,
    "start_time": "2023-02-10T11:09:42.892Z"
   },
   {
    "duration": 73,
    "start_time": "2023-02-10T11:13:14.240Z"
   },
   {
    "duration": 20,
    "start_time": "2023-02-10T11:15:04.037Z"
   },
   {
    "duration": 14,
    "start_time": "2023-02-10T13:47:53.100Z"
   },
   {
    "duration": 21,
    "start_time": "2023-02-10T13:48:24.065Z"
   },
   {
    "duration": 13,
    "start_time": "2023-02-10T13:51:30.345Z"
   },
   {
    "duration": 25,
    "start_time": "2023-02-10T13:51:37.335Z"
   },
   {
    "duration": 9,
    "start_time": "2023-02-10T13:51:42.395Z"
   },
   {
    "duration": 22,
    "start_time": "2023-02-10T13:57:41.062Z"
   },
   {
    "duration": 13,
    "start_time": "2023-02-10T13:58:20.031Z"
   },
   {
    "duration": 22,
    "start_time": "2023-02-10T14:00:44.131Z"
   },
   {
    "duration": 21,
    "start_time": "2023-02-10T14:10:37.839Z"
   },
   {
    "duration": 79,
    "start_time": "2023-02-10T14:15:57.419Z"
   },
   {
    "duration": 18,
    "start_time": "2023-02-10T14:15:57.500Z"
   },
   {
    "duration": 20,
    "start_time": "2023-02-10T14:15:57.519Z"
   },
   {
    "duration": 10,
    "start_time": "2023-02-10T14:15:57.552Z"
   },
   {
    "duration": 19,
    "start_time": "2023-02-10T14:15:57.563Z"
   },
   {
    "duration": 36,
    "start_time": "2023-02-10T14:15:57.583Z"
   },
   {
    "duration": 34,
    "start_time": "2023-02-10T14:15:57.621Z"
   },
   {
    "duration": 9,
    "start_time": "2023-02-10T14:15:57.656Z"
   },
   {
    "duration": 11,
    "start_time": "2023-02-10T14:15:57.667Z"
   },
   {
    "duration": 7,
    "start_time": "2023-02-10T14:15:57.681Z"
   },
   {
    "duration": 14,
    "start_time": "2023-02-10T14:15:57.690Z"
   },
   {
    "duration": 5,
    "start_time": "2023-02-10T14:15:57.706Z"
   },
   {
    "duration": 16,
    "start_time": "2023-02-10T14:15:57.713Z"
   },
   {
    "duration": 54,
    "start_time": "2023-02-10T14:15:57.731Z"
   },
   {
    "duration": 5,
    "start_time": "2023-02-10T14:15:57.787Z"
   },
   {
    "duration": 56,
    "start_time": "2023-02-10T14:15:57.794Z"
   },
   {
    "duration": 13,
    "start_time": "2023-02-10T14:15:57.851Z"
   },
   {
    "duration": 19,
    "start_time": "2023-02-10T14:15:59.144Z"
   },
   {
    "duration": 17,
    "start_time": "2023-02-10T15:08:58.772Z"
   },
   {
    "duration": 71,
    "start_time": "2023-02-10T15:09:00.677Z"
   },
   {
    "duration": 14,
    "start_time": "2023-02-10T15:09:00.750Z"
   },
   {
    "duration": 29,
    "start_time": "2023-02-10T15:09:00.765Z"
   },
   {
    "duration": 12,
    "start_time": "2023-02-10T15:09:00.796Z"
   },
   {
    "duration": 28,
    "start_time": "2023-02-10T15:09:00.810Z"
   },
   {
    "duration": 37,
    "start_time": "2023-02-10T15:09:00.840Z"
   },
   {
    "duration": 9,
    "start_time": "2023-02-10T15:09:00.879Z"
   },
   {
    "duration": 54,
    "start_time": "2023-02-10T15:09:00.890Z"
   },
   {
    "duration": 18,
    "start_time": "2023-02-10T15:09:00.945Z"
   },
   {
    "duration": 33,
    "start_time": "2023-02-10T15:09:00.965Z"
   },
   {
    "duration": 32,
    "start_time": "2023-02-10T15:09:01.000Z"
   },
   {
    "duration": 14,
    "start_time": "2023-02-10T15:09:01.034Z"
   },
   {
    "duration": 38,
    "start_time": "2023-02-10T15:09:01.050Z"
   },
   {
    "duration": 23,
    "start_time": "2023-02-10T15:09:01.090Z"
   },
   {
    "duration": 44,
    "start_time": "2023-02-10T15:09:01.114Z"
   },
   {
    "duration": 11,
    "start_time": "2023-02-10T15:09:01.159Z"
   },
   {
    "duration": 25,
    "start_time": "2023-02-10T15:09:01.172Z"
   },
   {
    "duration": 28,
    "start_time": "2023-02-10T15:09:01.199Z"
   },
   {
    "duration": 29,
    "start_time": "2023-02-10T15:09:01.229Z"
   },
   {
    "duration": 35,
    "start_time": "2023-02-10T15:09:01.259Z"
   },
   {
    "duration": 42,
    "start_time": "2023-02-10T15:09:01.295Z"
   },
   {
    "duration": 31,
    "start_time": "2023-02-10T15:09:01.339Z"
   },
   {
    "duration": 33,
    "start_time": "2023-02-10T15:09:01.372Z"
   },
   {
    "duration": 24,
    "start_time": "2023-02-10T15:09:01.407Z"
   },
   {
    "duration": 13,
    "start_time": "2023-02-10T15:09:01.433Z"
   },
   {
    "duration": 25,
    "start_time": "2023-02-10T15:09:01.447Z"
   },
   {
    "duration": 64,
    "start_time": "2023-02-10T15:09:01.474Z"
   },
   {
    "duration": 41,
    "start_time": "2023-02-10T15:09:01.541Z"
   },
   {
    "duration": 12,
    "start_time": "2023-02-10T15:09:01.584Z"
   },
   {
    "duration": 1069,
    "start_time": "2023-02-10T15:09:01.598Z"
   },
   {
    "duration": 7,
    "start_time": "2023-02-10T15:09:02.669Z"
   },
   {
    "duration": 9,
    "start_time": "2023-02-10T15:09:02.677Z"
   },
   {
    "duration": 20,
    "start_time": "2023-02-10T15:09:02.688Z"
   },
   {
    "duration": 9,
    "start_time": "2023-02-10T15:09:02.709Z"
   },
   {
    "duration": 34,
    "start_time": "2023-02-10T15:09:02.720Z"
   },
   {
    "duration": 61,
    "start_time": "2023-02-10T15:09:02.756Z"
   },
   {
    "duration": 24,
    "start_time": "2023-02-10T15:09:07.880Z"
   },
   {
    "duration": 24,
    "start_time": "2023-02-10T15:09:12.802Z"
   },
   {
    "duration": 33,
    "start_time": "2023-02-10T15:10:07.967Z"
   },
   {
    "duration": 23,
    "start_time": "2023-02-10T15:10:22.890Z"
   },
   {
    "duration": 19,
    "start_time": "2023-02-10T15:11:04.547Z"
   },
   {
    "duration": 23,
    "start_time": "2023-02-10T15:14:27.588Z"
   },
   {
    "duration": 19,
    "start_time": "2023-02-10T15:14:44.124Z"
   },
   {
    "duration": 20,
    "start_time": "2023-02-10T15:15:53.163Z"
   },
   {
    "duration": 21,
    "start_time": "2023-02-10T15:18:12.676Z"
   },
   {
    "duration": 20,
    "start_time": "2023-02-10T15:18:17.971Z"
   },
   {
    "duration": 25,
    "start_time": "2023-02-10T15:18:27.120Z"
   },
   {
    "duration": 21,
    "start_time": "2023-02-10T15:19:15.369Z"
   },
   {
    "duration": 21,
    "start_time": "2023-02-10T15:21:22.523Z"
   },
   {
    "duration": 29,
    "start_time": "2023-02-10T15:21:37.582Z"
   },
   {
    "duration": 69,
    "start_time": "2023-02-10T15:32:21.210Z"
   },
   {
    "duration": 76,
    "start_time": "2023-02-10T15:37:14.762Z"
   }
  ],
  "colab": {
   "name": "dpp_template_part2.ipynb",
   "provenance": []
  },
  "kernelspec": {
   "display_name": "Python 3 (ipykernel)",
   "language": "python",
   "name": "python3"
  },
  "language_info": {
   "codemirror_mode": {
    "name": "ipython",
    "version": 3
   },
   "file_extension": ".py",
   "mimetype": "text/x-python",
   "name": "python",
   "nbconvert_exporter": "python",
   "pygments_lexer": "ipython3",
   "version": "3.9.13"
  },
  "toc": {
   "base_numbering": 1,
   "nav_menu": {
    "height": "237px",
    "width": "260px"
   },
   "number_sections": true,
   "sideBar": true,
   "skip_h1_title": true,
   "title_cell": "Table of Contents",
   "title_sidebar": "Contents",
   "toc_cell": false,
   "toc_position": {
    "height": "calc(100% - 180px)",
    "left": "10px",
    "top": "150px",
    "width": "300.594px"
   },
   "toc_section_display": true,
   "toc_window_display": true
  }
 },
 "nbformat": 4,
 "nbformat_minor": 5
}
