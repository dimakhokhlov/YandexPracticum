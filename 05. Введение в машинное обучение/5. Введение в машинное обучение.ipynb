{
 "cells": [
  {
   "cell_type": "markdown",
   "metadata": {},
   "source": [
    "# Рекомендация тарифов"
   ]
  },
  {
   "cell_type": "markdown",
   "metadata": {},
   "source": [
    "В вашем распоряжении данные о поведении клиентов, которые уже перешли на эти тарифы (из проекта курса «Статистический анализ данных»). Нужно построить модель для задачи классификации, которая выберет подходящий тариф. Предобработка данных не понадобится — вы её уже сделали.\n",
    "\n",
    "Постройте модель с максимально большим значением *accuracy*. Чтобы сдать проект успешно, нужно довести долю правильных ответов по крайней мере до 0.75. Проверьте *accuracy* на тестовой выборке самостоятельно."
   ]
  },
  {
   "cell_type": "markdown",
   "metadata": {},
   "source": [
    "# Описание проекта"
   ]
  },
  {
   "cell_type": "markdown",
   "metadata": {},
   "source": [
    "Оператор мобильной связи «Мегалайн» выяснил: многие клиенты пользуются архивными тарифами. Они хотят построить систему, способную проанализировать поведение клиентов и предложить пользователям новый тариф: «Смарт» или «Ультра».\n",
    "В вашем распоряжении данные о поведении клиентов, которые уже перешли на эти тарифы (из проекта курса «Статистический анализ данных»). Нужно построить модель для задачи классификации, которая выберет подходящий тариф. Предобработка данных не понадобится — вы её уже сделали.\n",
    "___\n",
    "**Цель исследования:** построить модель для задачи классификации, которая выберет подходящий тариф.\n",
    "___\n",
    "**Этапы исследования:**\n",
    "- [Откроем и изучим файл](#section1)\n",
    "- [Разобьем данные на выборки](#section11)\n",
    "- [Исследуем модели](#section2)\n",
    "- [Проверим модели на тестовой выборке](#section3)\n",
    "- [Проверим модели на адекватность](#section4)\n",
    "- [Вывод](#section5)\n",
    "___\n",
    "**Описание данных**\n",
    "- `сalls` — количество звонков,\n",
    "- `minutes` — суммарная длительность звонков в минутах,\n",
    "- `messages` — количество sms-сообщений,\n",
    "- `mb_used` — израсходованный интернет-трафик в Мб,\n",
    "- `is_ultra` — каким тарифом пользовался в течение месяца («Ультра» — 1, «Смарт» — 0)."
   ]
  },
  {
   "cell_type": "markdown",
   "metadata": {},
   "source": [
    "<a name=\"section1\"></a>\n",
    "## Откройте и изучите файл"
   ]
  },
  {
   "cell_type": "code",
   "execution_count": 13,
   "metadata": {},
   "outputs": [],
   "source": [
    "import pandas as pd\n",
    "import matplotlib.pyplot as plt\n",
    "\n",
    "from sklearn.tree import DecisionTreeClassifier\n",
    "from sklearn.tree import DecisionTreeRegressor\n",
    "\n",
    "from sklearn.metrics import mean_squared_error\n",
    "from sklearn.metrics import accuracy_score\n",
    "\n",
    "from sklearn.model_selection import train_test_split\n",
    "\n",
    "from sklearn.ensemble import RandomForestClassifier\n",
    "from sklearn.ensemble import RandomForestRegressor\n",
    "\n",
    "from sklearn.linear_model import LogisticRegression\n",
    "from sklearn.linear_model import LinearRegression"
   ]
  },
  {
   "cell_type": "code",
   "execution_count": 14,
   "metadata": {},
   "outputs": [],
   "source": [
    "try:\n",
    "    data = pd.read_csv('users_behavior.csv', sep=',')\n",
    "except:\n",
    "    data = pd.read_csv('https://code.s3.yandex.net/datasets/users_behavior.csv', sep=',')"
   ]
  },
  {
   "cell_type": "code",
   "execution_count": 15,
   "metadata": {},
   "outputs": [
    {
     "data": {
      "text/html": [
       "<div>\n",
       "<style scoped>\n",
       "    .dataframe tbody tr th:only-of-type {\n",
       "        vertical-align: middle;\n",
       "    }\n",
       "\n",
       "    .dataframe tbody tr th {\n",
       "        vertical-align: top;\n",
       "    }\n",
       "\n",
       "    .dataframe thead th {\n",
       "        text-align: right;\n",
       "    }\n",
       "</style>\n",
       "<table border=\"1\" class=\"dataframe\">\n",
       "  <thead>\n",
       "    <tr style=\"text-align: right;\">\n",
       "      <th></th>\n",
       "      <th>calls</th>\n",
       "      <th>minutes</th>\n",
       "      <th>messages</th>\n",
       "      <th>mb_used</th>\n",
       "      <th>is_ultra</th>\n",
       "    </tr>\n",
       "  </thead>\n",
       "  <tbody>\n",
       "    <tr>\n",
       "      <th>0</th>\n",
       "      <td>40.0</td>\n",
       "      <td>311.90</td>\n",
       "      <td>83.0</td>\n",
       "      <td>19915.42</td>\n",
       "      <td>0</td>\n",
       "    </tr>\n",
       "    <tr>\n",
       "      <th>1</th>\n",
       "      <td>85.0</td>\n",
       "      <td>516.75</td>\n",
       "      <td>56.0</td>\n",
       "      <td>22696.96</td>\n",
       "      <td>0</td>\n",
       "    </tr>\n",
       "    <tr>\n",
       "      <th>2</th>\n",
       "      <td>77.0</td>\n",
       "      <td>467.66</td>\n",
       "      <td>86.0</td>\n",
       "      <td>21060.45</td>\n",
       "      <td>0</td>\n",
       "    </tr>\n",
       "    <tr>\n",
       "      <th>3</th>\n",
       "      <td>106.0</td>\n",
       "      <td>745.53</td>\n",
       "      <td>81.0</td>\n",
       "      <td>8437.39</td>\n",
       "      <td>1</td>\n",
       "    </tr>\n",
       "    <tr>\n",
       "      <th>4</th>\n",
       "      <td>66.0</td>\n",
       "      <td>418.74</td>\n",
       "      <td>1.0</td>\n",
       "      <td>14502.75</td>\n",
       "      <td>0</td>\n",
       "    </tr>\n",
       "  </tbody>\n",
       "</table>\n",
       "</div>"
      ],
      "text/plain": [
       "   calls  minutes  messages   mb_used  is_ultra\n",
       "0   40.0   311.90      83.0  19915.42         0\n",
       "1   85.0   516.75      56.0  22696.96         0\n",
       "2   77.0   467.66      86.0  21060.45         0\n",
       "3  106.0   745.53      81.0   8437.39         1\n",
       "4   66.0   418.74       1.0  14502.75         0"
      ]
     },
     "execution_count": 15,
     "metadata": {},
     "output_type": "execute_result"
    }
   ],
   "source": [
    "data.head()"
   ]
  },
  {
   "cell_type": "code",
   "execution_count": 16,
   "metadata": {},
   "outputs": [
    {
     "name": "stdout",
     "output_type": "stream",
     "text": [
      "<class 'pandas.core.frame.DataFrame'>\n",
      "RangeIndex: 3214 entries, 0 to 3213\n",
      "Data columns (total 5 columns):\n",
      " #   Column    Non-Null Count  Dtype  \n",
      "---  ------    --------------  -----  \n",
      " 0   calls     3214 non-null   float64\n",
      " 1   minutes   3214 non-null   float64\n",
      " 2   messages  3214 non-null   float64\n",
      " 3   mb_used   3214 non-null   float64\n",
      " 4   is_ultra  3214 non-null   int64  \n",
      "dtypes: float64(4), int64(1)\n",
      "memory usage: 125.7 KB\n"
     ]
    }
   ],
   "source": [
    "data.info()"
   ]
  },
  {
   "cell_type": "code",
   "execution_count": 17,
   "metadata": {},
   "outputs": [
    {
     "data": {
      "text/plain": [
       "calls       0\n",
       "minutes     0\n",
       "messages    0\n",
       "mb_used     0\n",
       "is_ultra    0\n",
       "dtype: int64"
      ]
     },
     "execution_count": 17,
     "metadata": {},
     "output_type": "execute_result"
    }
   ],
   "source": [
    "data.isna().sum()"
   ]
  },
  {
   "cell_type": "code",
   "execution_count": 18,
   "metadata": {},
   "outputs": [
    {
     "data": {
      "text/plain": [
       "0"
      ]
     },
     "execution_count": 18,
     "metadata": {},
     "output_type": "execute_result"
    }
   ],
   "source": [
    "data.duplicated().sum()"
   ]
  },
  {
   "cell_type": "markdown",
   "metadata": {},
   "source": [
    "Так как по условию предобработка данных уже была проведена - пропуски и дубликаты отсутствуют."
   ]
  },
  {
   "cell_type": "markdown",
   "metadata": {},
   "source": [
    "<a name=\"section11\"></a>\n",
    "## Разбейте данные на выборки"
   ]
  },
  {
   "cell_type": "markdown",
   "metadata": {},
   "source": [
    "Введем переменные с признаками и целевым признаком"
   ]
  },
  {
   "cell_type": "code",
   "execution_count": 19,
   "metadata": {},
   "outputs": [],
   "source": [
    "features = data.drop(['is_ultra'], axis=1)\n",
    "target = data['is_ultra']"
   ]
  },
  {
   "cell_type": "markdown",
   "metadata": {},
   "source": [
    "Разделим набор данных на обучающую (`features_train`), валидационную (`features_valid`) и тестовую выборки (`features_test`)"
   ]
  },
  {
   "cell_type": "code",
   "execution_count": 20,
   "metadata": {},
   "outputs": [
    {
     "name": "stdout",
     "output_type": "stream",
     "text": [
      "Обучающая выборка: 1928\n",
      "Валидационная выборка: 643\n",
      "Тестовая выборка: 643\n"
     ]
    }
   ],
   "source": [
    "features_train, features_test, target_train, target_test = train_test_split(\n",
    "    features,\n",
    "    target,\n",
    "    test_size=0.2,\n",
    "    random_state=123,\n",
    "    stratify=target)\n",
    "\n",
    "features_train, features_valid, target_train, target_valid = train_test_split(\n",
    "    features_train,\n",
    "    target_train,\n",
    "    test_size=0.25,\n",
    "    random_state=123,\n",
    "    stratify=target_train)\n",
    "\n",
    "print('Обучающая выборка:', features_train.shape[0])\n",
    "print('Валидационная выборка:', features_valid.shape[0])\n",
    "print('Тестовая выборка:', features_test.shape[0])"
   ]
  },
  {
   "cell_type": "markdown",
   "metadata": {},
   "source": [
    "Разделили получившиеся выборки по соотношению 3:1:1"
   ]
  },
  {
   "cell_type": "markdown",
   "metadata": {},
   "source": [
    "<a name=\"section2\"></a>\n",
    "## Исследуйте модели"
   ]
  },
  {
   "cell_type": "markdown",
   "metadata": {},
   "source": [
    "### Дерево решений"
   ]
  },
  {
   "cell_type": "code",
   "execution_count": 21,
   "metadata": {},
   "outputs": [
    {
     "name": "stdout",
     "output_type": "stream",
     "text": [
      "Модель с максимально большим значением accuracy: 0.7853810264385692 Глубина дерева: 3\n"
     ]
    }
   ],
   "source": [
    "model_tree = None\n",
    "best_result = 0\n",
    "best_depth = 0\n",
    "for depth in range(1, 6):\n",
    "    model = DecisionTreeClassifier(random_state=123, max_depth=depth)\n",
    "    model.fit(features_train, target_train)\n",
    "    predictions_valid = model.predict(features_valid)\n",
    "    result = accuracy_score(target_valid, predictions_valid)\n",
    "    if result > best_result:\n",
    "        model_tree = model\n",
    "        best_result = result\n",
    "        best_depth = depth\n",
    "\n",
    "print('Модель с максимально большим значением accuracy:', best_result, 'Глубина дерева:', best_depth)"
   ]
  },
  {
   "cell_type": "markdown",
   "metadata": {},
   "source": [
    "### Случайный лес"
   ]
  },
  {
   "cell_type": "code",
   "execution_count": 22,
   "metadata": {},
   "outputs": [
    {
     "name": "stdout",
     "output_type": "stream",
     "text": [
      "Модель с максимально большим значением accuracy: 0.80248833592535 Глубина дерева: 10 Количество деревьев: 21\n"
     ]
    }
   ],
   "source": [
    "model_forest = None\n",
    "best_result = 0\n",
    "best_est = 0\n",
    "best_depth = 0\n",
    "for est in range(1, 51, 5):\n",
    "    for depth in range (1, 11):\n",
    "        model = RandomForestClassifier(random_state=123, n_estimators=est, max_depth=depth)\n",
    "        model.fit(features_train, target_train) \n",
    "        predictions_valid = model.predict(features_valid) \n",
    "        result = accuracy_score(target_valid, predictions_valid)\n",
    "        if result > best_result:\n",
    "            model_forest = model\n",
    "            best_result = result\n",
    "            best_est = est\n",
    "            best_depth = depth\n",
    "\n",
    "print('Модель с максимально большим значением accuracy:', best_result, 'Глубина дерева:', best_depth, 'Количество деревьев:', best_est)"
   ]
  },
  {
   "cell_type": "markdown",
   "metadata": {},
   "source": [
    "### Логистическая регрессия"
   ]
  },
  {
   "cell_type": "code",
   "execution_count": 23,
   "metadata": {},
   "outputs": [
    {
     "name": "stdout",
     "output_type": "stream",
     "text": [
      "Модель с максимально большим значением accuracy: 0.7527216174183515\n"
     ]
    }
   ],
   "source": [
    "model_logistic = LogisticRegression(random_state=123, solver='lbfgs')\n",
    "model_logistic.fit(features_train, target_train)\n",
    "result = model_logistic.score(features_valid, target_valid)\n",
    "print('Модель с максимально большим значением accuracy:',result)"
   ]
  },
  {
   "cell_type": "markdown",
   "metadata": {},
   "source": [
    "***Вывод:*** мы провели исследования с тремя алгоритмами классификации и лучший результат показала модель `Случайный лес`: точность ~ **0.802**, глубина \"дерева\" - 10, количество \"деревьев\" - 21."
   ]
  },
  {
   "cell_type": "markdown",
   "metadata": {},
   "source": [
    "<a name=\"section3\"></a>\n",
    "## Проверьте модель на тестовой выборке"
   ]
  },
  {
   "cell_type": "markdown",
   "metadata": {},
   "source": [
    "Так как на валидации лучше всех показала себя модель \"Случайный лес\", то прогоним ее и на тестовой выборке."
   ]
  },
  {
   "cell_type": "code",
   "execution_count": 24,
   "metadata": {},
   "outputs": [
    {
     "name": "stdout",
     "output_type": "stream",
     "text": [
      "Точность Случайного леса на тестовой выборке: 0.7993779160186625\n"
     ]
    }
   ],
   "source": [
    "accuracy = model_forest.score(features_test, target_test)\n",
    "print(f'Точность Случайного леса на тестовой выборке: {accuracy}')"
   ]
  },
  {
   "cell_type": "markdown",
   "metadata": {},
   "source": [
    "**Вывод:** Проверка модели \"Случайный лес\" на тестовой выборке показала, что ее точность практически не уступает точности проверки на валидационной выборке."
   ]
  },
  {
   "cell_type": "markdown",
   "metadata": {},
   "source": [
    "<a name=\"section4\"></a>\n",
    "## (бонус) Проверьте модели на адекватность"
   ]
  },
  {
   "cell_type": "markdown",
   "metadata": {},
   "source": [
    "Импортируем функцию `DummyClassifier`, чтобы проверить нашу модель на адекватность, сравнив метрику `accuracy`"
   ]
  },
  {
   "cell_type": "code",
   "execution_count": 25,
   "metadata": {},
   "outputs": [
    {
     "data": {
      "text/plain": [
       "0.6936236391912908"
      ]
     },
     "execution_count": 25,
     "metadata": {},
     "output_type": "execute_result"
    }
   ],
   "source": [
    "from sklearn.dummy import DummyClassifier\n",
    "\n",
    "dummy_clf = DummyClassifier(strategy=\"most_frequent\", random_state=123)\n",
    "dummy_clf.fit(features_train, target_train)\n",
    "dummy_clf.score(features_test, target_test)"
   ]
  },
  {
   "cell_type": "markdown",
   "metadata": {},
   "source": [
    "<a name=\"section5\"></a>\n",
    "## Общий вывод"
   ]
  },
  {
   "cell_type": "markdown",
   "metadata": {},
   "source": [
    "Провели исследование трех моделей классификации и получили следующие результаты:\n",
    "- Точность модели `Дерево решений` ~ 0.785\n",
    "- Точность модели `Случайный лес` ~ **0.802**\n",
    "- Точность модели `Логистическая регрессия` ~ 0.753\n",
    "\n",
    "Модель `RandomForestClassifier` имеет наилучшую долю правильных ответов.\n",
    "___\n",
    "Точность `Случайного леса` на тестовой выборке - ~ 0.799. Эта модель на новых данных отработала практически не хуже, чем на валидационной выборке.\n",
    "___\n",
    "\n",
    "Точности всех трех моделей, которые мы исследовали выше, больше, чем точность `DummyClassifier` (~ 0.7). Это говорит о том, что `Дерево решений`, `Случайный лес` и `Логистическая регрессия` прошли проверку на адекватность."
   ]
  },
  {
   "cell_type": "code",
   "execution_count": null,
   "metadata": {},
   "outputs": [],
   "source": []
  }
 ],
 "metadata": {
  "ExecuteTimeLog": [
   {
    "duration": 2355,
    "start_time": "2023-04-05T14:34:26.794Z"
   },
   {
    "duration": 132,
    "start_time": "2023-04-05T14:34:29.153Z"
   },
   {
    "duration": 22,
    "start_time": "2023-04-05T14:34:29.287Z"
   },
   {
    "duration": 19,
    "start_time": "2023-04-05T14:34:29.311Z"
   },
   {
    "duration": 16,
    "start_time": "2023-04-05T14:34:29.333Z"
   },
   {
    "duration": 22,
    "start_time": "2023-04-05T14:34:29.352Z"
   },
   {
    "duration": 6,
    "start_time": "2023-04-05T14:34:29.375Z"
   },
   {
    "duration": 46,
    "start_time": "2023-04-05T14:34:29.383Z"
   },
   {
    "duration": 53,
    "start_time": "2023-04-05T14:34:29.432Z"
   },
   {
    "duration": 10835,
    "start_time": "2023-04-05T14:34:29.488Z"
   },
   {
    "duration": 52,
    "start_time": "2023-04-05T14:34:40.325Z"
   },
   {
    "duration": 3,
    "start_time": "2023-04-05T14:34:40.379Z"
   },
   {
    "duration": 11,
    "start_time": "2023-04-05T14:34:40.384Z"
   },
   {
    "duration": 13,
    "start_time": "2023-04-05T14:34:40.398Z"
   },
   {
    "duration": 31,
    "start_time": "2023-04-05T14:34:40.413Z"
   },
   {
    "duration": 8,
    "start_time": "2023-04-05T14:34:40.446Z"
   },
   {
    "duration": 55,
    "start_time": "2023-04-08T23:22:26.628Z"
   },
   {
    "duration": 1698,
    "start_time": "2023-04-08T23:22:29.650Z"
   },
   {
    "duration": 268,
    "start_time": "2023-04-08T23:22:31.351Z"
   },
   {
    "duration": 16,
    "start_time": "2023-04-08T23:22:31.621Z"
   },
   {
    "duration": 178,
    "start_time": "2023-04-08T23:22:31.638Z"
   },
   {
    "duration": 210,
    "start_time": "2023-04-08T23:22:31.819Z"
   },
   {
    "duration": 323,
    "start_time": "2023-04-08T23:22:32.031Z"
   },
   {
    "duration": 14,
    "start_time": "2023-04-08T23:22:32.355Z"
   },
   {
    "duration": 10,
    "start_time": "2023-04-08T23:22:32.372Z"
   },
   {
    "duration": 34,
    "start_time": "2023-04-08T23:22:32.383Z"
   },
   {
    "duration": 6130,
    "start_time": "2023-04-08T23:22:32.419Z"
   },
   {
    "duration": 43,
    "start_time": "2023-04-08T23:22:38.551Z"
   },
   {
    "duration": 12,
    "start_time": "2023-04-08T23:22:45.372Z"
   }
  ],
  "kernelspec": {
   "display_name": "Python 3 (ipykernel)",
   "language": "python",
   "name": "python3"
  },
  "language_info": {
   "codemirror_mode": {
    "name": "ipython",
    "version": 3
   },
   "file_extension": ".py",
   "mimetype": "text/x-python",
   "name": "python",
   "nbconvert_exporter": "python",
   "pygments_lexer": "ipython3",
   "version": "3.9.13"
  },
  "toc": {
   "base_numbering": 1,
   "nav_menu": {},
   "number_sections": true,
   "sideBar": true,
   "skip_h1_title": true,
   "title_cell": "Table of Contents",
   "title_sidebar": "Contents",
   "toc_cell": false,
   "toc_position": {
    "height": "calc(100% - 180px)",
    "left": "10px",
    "top": "150px",
    "width": "384px"
   },
   "toc_section_display": true,
   "toc_window_display": true
  }
 },
 "nbformat": 4,
 "nbformat_minor": 2
}
